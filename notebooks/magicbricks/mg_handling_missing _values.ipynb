{
 "cells": [
  {
   "cell_type": "code",
   "execution_count": null,
   "id": "5a701a7b-aa71-435f-bff2-0b9e8aec9020",
   "metadata": {},
   "outputs": [],
   "source": []
  },
  {
   "cell_type": "markdown",
   "id": "995ff1ce-501b-4ed4-9ce1-6288fef905fb",
   "metadata": {},
   "source": [
    "# Handling missing values\n",
    "\n"
   ]
  },
  {
   "cell_type": "markdown",
   "id": "d54708bc-aee4-402c-8668-5205504cdae6",
   "metadata": {},
   "source": [
    "chk what to do 1st missing value imputation or feature engineering \n",
    "\n",
    " - missingo library(bp158)\n",
    " - identify MAR 2 techniques (bp158)\n",
    "\n",
    " - There are 3 techniques from which we can handle missing values\n",
    "\n",
    "    - 1.removing: remove all missing values\n",
    "\n",
    "    - 2.Imputation: we trying to fill the missing values , will see techniques for this latter\n",
    "\n",
    "    - 3.Use algorithms that can handle missing values by themselves :eg XgBoost and LightGBM\n",
    "\n",
    " - if MAR then we use imputation and algos\n",
    " - if MCAR then we can use all 3 i.e remove,imputation and algos\n",
    "\n",
    " -  Certain imputation methods are better suited to continuous data (e.g., mean imputation), while others work well with categorical data (e.g., mode imputation or using predictive models).\n",
    "\n",
    " - try to preserve the distribution of the data before and after filling missing values\n",
    "\n",
    "I have read from 152 to 158   \n",
    "now as EDA is 1st step before this missing value imputation hence reading EDA now   \n",
    "but once you read EDA go for outlier detection 1st and then handling missing values "
   ]
  },
  {
   "cell_type": "markdown",
   "id": "740b056c-bc3d-4343-b59e-e0f927f1ebb8",
   "metadata": {},
   "source": [
    "# Lets see the roadmap to handle the missing values\n",
    "# Handling Missing Values:\n",
    "\n",
    "**1. Removing:**\n",
    "\n",
    " - Column: Remove columns with a high percentage of missing values.  \n",
    " - Row: Remove rows with many missing values.\n",
    "\n",
    "\n",
    "**2. Imputing:**\n",
    "\n",
    " - Univariate: Fill missing values in one column at a time. (e.g., Simple Imputer)  \n",
    " - Multivariate: It is a method used to fill in missing values across multiple columns simultaneously. (e.g., KNN Imputer, Iterative Imputer)\n",
    "\n",
    "**3. Statistical Techniques:**\n",
    "\n",
    " - Mean Imputation: Replace missing values with the column mean.  \n",
    " - Median Imputation: Replace missing values with the column median.  \n",
    " - Mode Imputation: Replace missing values with the most frequent value in the column.\n",
    "\n",
    "**4. Machine Learning Techniques:**\n",
    "\n",
    " - Regression Imputation: Predict missing values using regression models.  \n",
    " - Multiple Imputation: Generate multiple imputed datasets and combine results.  \n",
    " - Random Forest Imputation: Use random forests to estimate missing values.  \n",
    " - XGBoost/LightGBM: Use gradient boosting methods to estimate missing values."
   ]
  },
  {
   "cell_type": "code",
   "execution_count": null,
   "id": "5eea7846-5bab-4496-85ab-63c4659af929",
   "metadata": {},
   "outputs": [],
   "source": [
    "#missing value in percentage\n",
    "missing_values_percentage = (df.isnull().sum() / len(df)) * 100\n",
    "print(\"\\nPercentage of missing values in each column:\")\n",
    "print(missing_values_percentage)"
   ]
  },
  {
   "cell_type": "markdown",
   "id": "b9a539fb-f589-405d-83a3-9f7216580f1e",
   "metadata": {},
   "source": [
    "# Missingo for Missing Values"
   ]
  },
  {
   "cell_type": "code",
   "execution_count": null,
   "id": "3936f223-2cd1-409e-9562-970ec74ac69b",
   "metadata": {},
   "outputs": [],
   "source": [
    "df.shape"
   ]
  },
  {
   "cell_type": "code",
   "execution_count": null,
   "id": "b4683dc4-cd4d-4cd8-99e4-a59ea6c6baf3",
   "metadata": {},
   "outputs": [],
   "source": [
    "# Bar plot to visualize missing values\n",
    "msno.bar(df)"
   ]
  },
  {
   "cell_type": "code",
   "execution_count": null,
   "id": "6ef02dbb-d59e-467c-b736-b919edd7f9dc",
   "metadata": {},
   "outputs": [],
   "source": [
    "# Matrix chart to visualize missing values\n",
    "msno.matrix(df)\n",
    "plt.show()"
   ]
  },
  {
   "cell_type": "markdown",
   "id": "3d3369bc-96c6-4601-978f-87c34b773215",
   "metadata": {},
   "source": [
    "# Observation from above graph\n",
    "### write where you find the similarity of missing between 2 or many columns \n"
   ]
  },
  {
   "cell_type": "code",
   "execution_count": null,
   "id": "010aa210-be02-4d76-a093-48ffe9d596bb",
   "metadata": {},
   "outputs": [],
   "source": [
    "# Heatmap to visualize the correlation of missingness between columns\n",
    "msno.heatmap(df)\n",
    "plt.show()"
   ]
  },
  {
   "cell_type": "code",
   "execution_count": null,
   "id": "ab208031-4318-40b5-8eba-414964e10791",
   "metadata": {},
   "outputs": [],
   "source": [
    "#explain above also "
   ]
  },
  {
   "cell_type": "code",
   "execution_count": null,
   "id": "23d2cdef-f291-492c-8a20-d74e37546a38",
   "metadata": {},
   "outputs": [],
   "source": [
    "# Dendrogram to visualize the hierarchical clustering of missing values\n",
    "msno.dendrogram(df)\n",
    "plt.show()"
   ]
  },
  {
   "cell_type": "markdown",
   "id": "16e46e7b-e430-42fc-8c3f-2feea3020fec",
   "metadata": {},
   "source": [
    " so missing values in the real estate data may becoz of the following reasons   \n",
    "1)Unavailability: Some details are genuinely not applicable to all properties (e.g., no extra rooms or amenities).   \n",
    "2)Human Error: Mistakes in data entry, oversight, or skipping fields during data collection.  \n",
    "3)lack of information   \n",
    "4)Confidentiality: Certain data points (e.g., seller details, builder names) may be intentionally omitted.  \n"
   ]
  },
  {
   "cell_type": "code",
   "execution_count": null,
   "id": "bab03543-dd4e-43b3-bca8-843035da8dd3",
   "metadata": {},
   "outputs": [],
   "source": [
    "import seaborn as sns\n",
    "import matplotlib.pyplot as plt\n",
    "\n",
    "sns.histplot(df['bed'], bins=10, kde=True, color='blue')"
   ]
  },
  {
   "cell_type": "code",
   "execution_count": null,
   "id": "78fc0597-8c03-4875-b764-348e63282602",
   "metadata": {},
   "outputs": [],
   "source": []
  },
  {
   "cell_type": "code",
   "execution_count": null,
   "id": "f7f91aab-a8b0-469e-a3cb-c4d4877f740b",
   "metadata": {},
   "outputs": [],
   "source": []
  },
  {
   "cell_type": "code",
   "execution_count": null,
   "id": "9d9a8a5d-9a57-4557-9ac6-32bdccbdd1a0",
   "metadata": {},
   "outputs": [],
   "source": []
  },
  {
   "cell_type": "code",
   "execution_count": null,
   "id": "470fe35e-d051-4ac7-aca2-5f3b1d41107c",
   "metadata": {},
   "outputs": [],
   "source": []
  },
  {
   "cell_type": "code",
   "execution_count": null,
   "id": "23aea9f5-58cf-4e2a-b7a1-1efc0ceade90",
   "metadata": {},
   "outputs": [],
   "source": []
  },
  {
   "cell_type": "code",
   "execution_count": null,
   "id": "9f7e0f12-332e-4f0d-9c70-132ab3323fd8",
   "metadata": {},
   "outputs": [],
   "source": []
  }
 ],
 "metadata": {
  "kernelspec": {
   "display_name": "Python 3 (ipykernel)",
   "language": "python",
   "name": "python3"
  },
  "language_info": {
   "codemirror_mode": {
    "name": "ipython",
    "version": 3
   },
   "file_extension": ".py",
   "mimetype": "text/x-python",
   "name": "python",
   "nbconvert_exporter": "python",
   "pygments_lexer": "ipython3",
   "version": "3.12.7"
  }
 },
 "nbformat": 4,
 "nbformat_minor": 5
}
