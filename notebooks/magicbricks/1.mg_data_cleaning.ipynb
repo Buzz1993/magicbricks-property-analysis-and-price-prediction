{
 "cells": [
  {
   "cell_type": "code",
   "execution_count": 1,
   "id": "96039100-78db-4b30-a077-c030b316dde9",
   "metadata": {
    "editable": true,
    "id": "7720a04f-9d20-4159-a87b-3016b0b3ef3a",
    "tags": []
   },
   "outputs": [],
   "source": [
    "#on command prompt - python.exe -m pip install --upgrade pip"
   ]
  },
  {
   "cell_type": "code",
   "execution_count": 2,
   "id": "b75e1b64-2ba2-40cc-ad28-ff5ba908b01e",
   "metadata": {
    "id": "b75e1b64-2ba2-40cc-ad28-ff5ba908b01e",
    "scrolled": true
   },
   "outputs": [],
   "source": [
    "#pip install pandas\n",
    "#pip install numpy\n",
    "#!pip install scikit-learn"
   ]
  },
  {
   "cell_type": "code",
   "execution_count": 3,
   "id": "6467f253-bac7-4fa4-a93a-dd4e1c4a5fc7",
   "metadata": {},
   "outputs": [],
   "source": [
    "#!pip install regex\n",
    "#!pip install openpyxl\n",
    "#!pip install missingno"
   ]
  },
  {
   "cell_type": "code",
   "execution_count": 4,
   "id": "2daca8e2-b881-4228-befc-7a85e16fb488",
   "metadata": {},
   "outputs": [],
   "source": [
    "#pip install --upgrade statsmodels"
   ]
  },
  {
   "cell_type": "markdown",
   "id": "78f0bad9-7794-46cc-ae03-a9e240f6e0da",
   "metadata": {
    "id": "78f0bad9-7794-46cc-ae03-a9e240f6e0da"
   },
   "source": [
    "# 1. Importing Libraries"
   ]
  },
  {
   "cell_type": "code",
   "execution_count": 5,
   "id": "e209d0c9-0a39-4284-a01e-dc8b1be6d5b9",
   "metadata": {
    "id": "e209d0c9-0a39-4284-a01e-dc8b1be6d5b9"
   },
   "outputs": [],
   "source": [
    "import os\n",
    "import numpy as np\n",
    "import pandas as pd\n",
    "import ast\n",
    "from sklearn.model_selection import train_test_split\n",
    "\n",
    "import matplotlib.pyplot as plt\n",
    "import seaborn as sns\n",
    "\n",
    "import missingno as msno\n",
    "\n",
    "import regex as re"
   ]
  },
  {
   "cell_type": "markdown",
   "id": "7869ae12-6538-4ac3-bd0b-850a22d354f9",
   "metadata": {
    "editable": true,
    "id": "7869ae12-6538-4ac3-bd0b-850a22d354f9",
    "tags": []
   },
   "source": [
    "# 2. Reading the data"
   ]
  },
  {
   "cell_type": "code",
   "execution_count": 6,
   "id": "f571d858-f293-47ca-8af1-611e0e66f76e",
   "metadata": {
    "id": "f571d858-f293-47ca-8af1-611e0e66f76e"
   },
   "outputs": [],
   "source": [
    "PROJECT_DIR = r\"C:\\Users\\ABC\\Desktop\\bhushan\\magicbricks.com\\mg_project\\data\""
   ]
  },
  {
   "cell_type": "code",
   "execution_count": 7,
   "id": "0cac5dd3-28b0-45e5-905c-225d47643df8",
   "metadata": {
    "id": "0cac5dd3-28b0-45e5-905c-225d47643df8"
   },
   "outputs": [],
   "source": [
    "def get_data(name,col_range):\n",
    "    file_name = f\"{name}.csv\"\n",
    "    file_path = os.path.join(PROJECT_DIR, file_name)\n",
    "    return pd.read_csv(file_path,usecols=col_range,low_memory=False)"
   ]
  },
  {
   "cell_type": "code",
   "execution_count": 8,
   "id": "375ddf63-e565-4ca1-9bd7-5ffe8f7e2eb1",
   "metadata": {
    "id": "375ddf63-e565-4ca1-9bd7-5ffe8f7e2eb1",
    "outputId": "047cecda-1f37-43c3-fd0b-21e03f2be456"
   },
   "outputs": [],
   "source": [
    "mg_first100 = get_data(\"f_original magicbricks cleaned 12022 data\",col_range = range(100))\n",
    "mg_nxt100 = get_data(\"f_original magicbricks cleaned 12022 data\",col_range=range(100,200))\n",
    "mg_last90 = get_data(\"f_original magicbricks cleaned 12022 data\",col_range=range(200,290))"
   ]
  },
  {
   "cell_type": "code",
   "execution_count": 9,
   "id": "a973ea5a-6c27-4934-8d48-0bce34f95d4b",
   "metadata": {
    "id": "a973ea5a-6c27-4934-8d48-0bce34f95d4b",
    "outputId": "1488bcd0-8656-4c2e-a155-9f3e4f1593c4"
   },
   "outputs": [
    {
     "name": "stdout",
     "output_type": "stream",
     "text": [
      "<class 'pandas.core.frame.DataFrame'>\n",
      "RangeIndex: 12022 entries, 0 to 12021\n",
      "Data columns (total 100 columns):\n",
      " #   Column                   Non-Null Count  Dtype  \n",
      "---  ------                   --------------  -----  \n",
      " 0   ID                       12022 non-null  object \n",
      " 1   @type                    12022 non-null  object \n",
      " 2   @id                      12022 non-null  object \n",
      " 3   url                      12022 non-null  object \n",
      " 4   numberOfRooms            11913 non-null  float64\n",
      " 5   image                    11092 non-null  object \n",
      " 6   name                     12022 non-null  object \n",
      " 7   geo                      11546 non-null  object \n",
      " 8   potentialAction          12022 non-null  object \n",
      " 9   address                  12022 non-null  object \n",
      " 10  PRICE                    12021 non-null  object \n",
      " 11  BHK_Type                 11912 non-null  object \n",
      " 12  Area                     9479 non-null   object \n",
      " 13  property_loc             11970 non-null  object \n",
      " 14  locality_URL             11964 non-null  object \n",
      " 15  EMI                      12019 non-null  object \n",
      " 16  MD_Price Breakup         12021 non-null  object \n",
      " 17  MD_Booking Amount        7368 non-null   object \n",
      " 18  MD_Address               12021 non-null  object \n",
      " 19  MD_Furnishing            11976 non-null  object \n",
      " 20  MD_Flooring              7490 non-null   object \n",
      " 21  MD_Loan Offered          6628 non-null   object \n",
      " 22  MD_Water Availability    7003 non-null   object \n",
      " 23  AP_Price                 8419 non-null   object \n",
      " 24  AP_Price per sqft        6037 non-null   object \n",
      " 25  AP_Configuration         7254 non-null   object \n",
      " 26  AP_Tower & Unit          6543 non-null   object \n",
      " 27  AP_Pjt_URL               8419 non-null   object \n",
      " 28  AP_Pjt_Name              8419 non-null   object \n",
      " 29  AP_Buildr                7640 non-null   object \n",
      " 30  AP_Ratings               3094 non-null   float64\n",
      " 31  AP_Reviews_by            3094 non-null   object \n",
      " 32  image_urls               7666 non-null   object \n",
      " 33  headings_with_ratings    3385 non-null   object \n",
      " 34  Aboutpjt_Project Size    6160 non-null   object \n",
      " 35  Aboutpjt_Launch Date     6622 non-null   object \n",
      " 36  Aboutpjt_Total Units     6690 non-null   float64\n",
      " 37  Aboutpjt_Total Towers    6882 non-null   float64\n",
      " 38  Aboutpjt_BHK             6380 non-null   object \n",
      " 39  AM_12204                 4124 non-null   object \n",
      " 40  AM_12226                 1910 non-null   object \n",
      " 41  AM_12225                 998 non-null    object \n",
      " 42  AM_12229                 3123 non-null   object \n",
      " 43  AM_12230                 1608 non-null   object \n",
      " 44  AM_1404107               560 non-null    object \n",
      " 45  AM_12201                 4359 non-null   object \n",
      " 46  AM_12205                 4969 non-null   object \n",
      " 47  AM_12202                 5121 non-null   object \n",
      " 48  AM_12209                 4997 non-null   object \n",
      " 49  AM_12207                 3392 non-null   object \n",
      " 50  AM_12208                 4164 non-null   object \n",
      " 51  AM_12214                 1726 non-null   object \n",
      " 52  AM_12216                 2966 non-null   object \n",
      " 53  AM_12218                 2527 non-null   object \n",
      " 54  AM_1404110               1066 non-null   object \n",
      " 55  AM_12224                 2362 non-null   object \n",
      " 56  AM_12206                 5486 non-null   object \n",
      " 57  AM_1404117               3551 non-null   object \n",
      " 58  AM_1404105               1412 non-null   object \n",
      " 59  AM_12220                 1212 non-null   object \n",
      " 60  AM_12228                 1691 non-null   object \n",
      " 61  AM_12203                 3819 non-null   object \n",
      " 62  AM_12211                 2654 non-null   object \n",
      " 63  AM_1404118               2024 non-null   object \n",
      " 64  AM_1404106               406 non-null    object \n",
      " 65  AM_1404125               2395 non-null   object \n",
      " 66  AM_1404124               2927 non-null   object \n",
      " 67  AM_12538                 683 non-null    object \n",
      " 68  AM_12540                 825 non-null    object \n",
      " 69  AM_12219                 2761 non-null   object \n",
      " 70  AM_12227                 1260 non-null   object \n",
      " 71  AM_12523                 1056 non-null   object \n",
      " 72  AM_12533                 935 non-null    object \n",
      " 73  AM_12534                 721 non-null    object \n",
      " 74  AM_12535                 770 non-null    object \n",
      " 75  AM_12536                 912 non-null    object \n",
      " 76  AM_12537                 1055 non-null   object \n",
      " 77  AM_12539                 1466 non-null   object \n",
      " 78  AM_12543                 1939 non-null   object \n",
      " 79  AM_12545                 438 non-null    object \n",
      " 80  AM_12581                 2479 non-null   object \n",
      " 81  AM_12583                 920 non-null    object \n",
      " 82  AM_1404155               882 non-null    object \n",
      " 83  AM_1404114               1874 non-null   object \n",
      " 84  AM_1404143               3766 non-null   object \n",
      " 85  2 BHK Flat               2110 non-null   object \n",
      " 86  Educational Institute_1  7656 non-null   object \n",
      " 87  Educational Institute_2  7228 non-null   object \n",
      " 88  Educational Institute_3  5784 non-null   object \n",
      " 89  Transportation Hub_1     5834 non-null   object \n",
      " 90  Transportation Hub_2     4358 non-null   object \n",
      " 91  Shopping Centre_1        8035 non-null   object \n",
      " 92  Shopping Centre_2        7544 non-null   object \n",
      " 93  Shopping Centre_3        6404 non-null   object \n",
      " 94  Shopping Centre_4        5431 non-null   object \n",
      " 95  locality_rank            8085 non-null   float64\n",
      " 96  locality_URL_rating      11545 non-null  float64\n",
      " 97  locality_URL_review      11545 non-null  float64\n",
      " 98  liv_Environment          10721 non-null  object \n",
      " 99  liv_Commuting            10715 non-null  object \n",
      "dtypes: float64(7), object(93)\n",
      "memory usage: 9.2+ MB\n",
      "None\n"
     ]
    }
   ],
   "source": [
    "print(mg_first100.info())"
   ]
  },
  {
   "cell_type": "code",
   "execution_count": 10,
   "id": "18b50607-1d07-4b84-b4b5-740d4b71777a",
   "metadata": {
    "id": "18b50607-1d07-4b84-b4b5-740d4b71777a",
    "outputId": "871662f8-5cef-466c-a199-7586129b39a8"
   },
   "outputs": [
    {
     "name": "stdout",
     "output_type": "stream",
     "text": [
      "<class 'pandas.core.frame.DataFrame'>\n",
      "RangeIndex: 12022 entries, 0 to 12021\n",
      "Data columns (total 100 columns):\n",
      " #   Column                              Non-Null Count  Dtype  \n",
      "---  ------                              --------------  -----  \n",
      " 0   liv_Places of Interest              10714 non-null  object \n",
      " 1   BB_beds                             3503 non-null   float64\n",
      " 2   BB_baths                            5019 non-null   float64\n",
      " 3   BB_covered-parking                  1994 non-null   float64\n",
      " 4   BB_unfurnished                      0 non-null      float64\n",
      " 5   many_Carpet Area                    5404 non-null   object \n",
      " 6   many_Developer                      3832 non-null   object \n",
      " 7   many_Project                        4287 non-null   object \n",
      " 8   many_Transaction type               6742 non-null   object \n",
      " 9   many_Status                         4630 non-null   object \n",
      " 10  many_Lifts                          2624 non-null   float64\n",
      " 11  many_Furnished Status               6502 non-null   object \n",
      " 12  many_Car parking                    1859 non-null   object \n",
      " 13  MD_RERA ID                          2539 non-null   object \n",
      " 14  MD_Status of Electricity            6973 non-null   object \n",
      " 15  MD_Lift                             6463 non-null   float64\n",
      " 16  leftBB_beds                         5218 non-null   float64\n",
      " 17  leftBB_baths                        5219 non-null   float64\n",
      " 18  leftBB_covered-parking              3044 non-null   float64\n",
      " 19  leftBB_unfurnished                  0 non-null      float64\n",
      " 20  leftmany_Super Built-up Area        506 non-null    object \n",
      " 21  leftmany_Developer                  3810 non-null   object \n",
      " 22  leftmany_Project                    4134 non-null   object \n",
      " 23  leftmany_Transaction type           5276 non-null   object \n",
      " 24  leftmany_Status                     3328 non-null   object \n",
      " 25  leftmany_Lifts                      3223 non-null   float64\n",
      " 26  leftmany_Furnished Status           4744 non-null   object \n",
      " 27  leftmany_Car parking                1700 non-null   object \n",
      " 28  Aboutpjt_Total Floors               3020 non-null   float64\n",
      " 29  AM_1404109                          454 non-null    object \n",
      " 30  AM_1404131                          1727 non-null   object \n",
      " 31  AM_12212                            1366 non-null   object \n",
      " 32  AM_1404112                          184 non-null    object \n",
      " 33  AM_12217                            3199 non-null   object \n",
      " 34  AM_1404116                          332 non-null    object \n",
      " 35  AM_1404120                          953 non-null    object \n",
      " 36  AM_1404111                          282 non-null    object \n",
      " 37  AM_12222                            1441 non-null   object \n",
      " 38  AM_1404115                          1737 non-null   object \n",
      " 39  AM_1404123                          990 non-null    object \n",
      " 40  AM_1404127                          325 non-null    object \n",
      " 41  AM_1404128                          303 non-null    object \n",
      " 42  AM_1404129                          463 non-null    object \n",
      " 43  AM_12223                            1140 non-null   object \n",
      " 44  AM_12215                            1346 non-null   object \n",
      " 45  AM_1404108                          176 non-null    object \n",
      " 46  AM_12213                            2225 non-null   object \n",
      " 47  AM_12221                            1893 non-null   object \n",
      " 48  AM_1404130                          640 non-null    object \n",
      " 49  AM_1404126                          1025 non-null   object \n",
      " 50  AM_1404113                          324 non-null    object \n",
      " 51  AM_1404122                          880 non-null    object \n",
      " 52  Educational Institute_4             3860 non-null   object \n",
      " 53  Educational Institute_5             2915 non-null   object \n",
      " 54  Transportation Hub_3                2242 non-null   object \n",
      " 55  Transportation Hub_4                1365 non-null   object \n",
      " 56  Transportation Hub_5                811 non-null    object \n",
      " 57  Shopping Centre_5                   4427 non-null   object \n",
      " 58  Commercial Hub_1                    6772 non-null   object \n",
      " 59  Commercial Hub_2                    6118 non-null   object \n",
      " 60  Commercial Hub_3                    4814 non-null   object \n",
      " 61  Commercial Hub_4                    3462 non-null   object \n",
      " 62  AM_12586                            149 non-null    object \n",
      " 63  AM_1404156                          69 non-null     object \n",
      " 64  3 BHK Flat                          1785 non-null   object \n",
      " 65  MD_Floors allowed for construction  271 non-null    float64\n",
      " 66  AM_12525                            666 non-null    object \n",
      " 67  AM_12547                            1594 non-null   object \n",
      " 68  AM_12577                            306 non-null    object \n",
      " 69  AM_1404150                          739 non-null    object \n",
      " 70  AM_1404148                          139 non-null    object \n",
      " 71  AM_1404146                          584 non-null    object \n",
      " 72  1 BHK Flat                          982 non-null    object \n",
      " 73  BB_bed                              3136 non-null   float64\n",
      " 74  AM_12529                            515 non-null    object \n",
      " 75  Hospital_1                          3310 non-null   object \n",
      " 76  AM_12521                            482 non-null    object \n",
      " 77  AM_12522                            467 non-null    object \n",
      " 78  AM_12526                            358 non-null    object \n",
      " 79  AM_12530                            1266 non-null   object \n",
      " 80  AM_12532                            434 non-null    object \n",
      " 81  BB_bath                             1695 non-null   float64\n",
      " 82  many_Lift                           487 non-null    float64\n",
      " 83  Studio Apartment                    11 non-null     object \n",
      " 84  Hospital_2                          1834 non-null   object \n",
      " 85  Hospital_3                          1162 non-null   object \n",
      " 86  Commercial Hub_5                    1877 non-null   object \n",
      " 87  AM_12528                            546 non-null    object \n",
      " 88  AM_12546                            240 non-null    object \n",
      " 89  Tourist Spot_1                      1556 non-null   object \n",
      " 90  BB_semi-furnished                   0 non-null      float64\n",
      " 91  AM_1404161                          824 non-null    object \n",
      " 92  many_Floor                          5426 non-null   object \n",
      " 93  AM_12234                            233 non-null    object \n",
      " 94  AM_12585                            108 non-null    object \n",
      " 95  AM_1404149                          595 non-null    object \n",
      " 96  AM_1404152                          755 non-null    object \n",
      " 97  AM_1404158                          152 non-null    object \n",
      " 98  AM_1404157                          312 non-null    object \n",
      " 99  AM_1404154                          54 non-null     object \n",
      "dtypes: float64(17), object(83)\n",
      "memory usage: 9.2+ MB\n",
      "None\n"
     ]
    }
   ],
   "source": [
    "print(mg_nxt100.info())"
   ]
  },
  {
   "cell_type": "code",
   "execution_count": 11,
   "id": "59c7d607-2c54-4b82-b9e1-21df6d8e1929",
   "metadata": {
    "id": "59c7d607-2c54-4b82-b9e1-21df6d8e1929",
    "outputId": "71a4e5bc-2124-464f-db19-3a3b59b5baf5"
   },
   "outputs": [
    {
     "name": "stdout",
     "output_type": "stream",
     "text": [
      "<class 'pandas.core.frame.DataFrame'>\n",
      "RangeIndex: 12022 entries, 0 to 12021\n",
      "Data columns (total 90 columns):\n",
      " #   Column                        Non-Null Count  Dtype  \n",
      "---  ------                        --------------  -----  \n",
      " 0   4 BHK Flat                    856 non-null    object \n",
      " 1   AP_Tower                      339 non-null    object \n",
      " 2   leftmany_Carpet Area          4749 non-null   object \n",
      " 3   Tourist Spot_2                1051 non-null   object \n",
      " 4   AM_12511                      155 non-null    object \n",
      " 5   MD_Age of Construction        10327 non-null  object \n",
      " 6   BB_balcony                    1443 non-null   float64\n",
      " 7   many_Age of Construction      2615 non-null   object \n",
      " 8   leftBB_balcony                1644 non-null   float64\n",
      " 9   leftmany_Age of Construction  1326 non-null   object \n",
      " 10  AM_12579                      100 non-null    object \n",
      " 11  BB_balconies                  1653 non-null   float64\n",
      " 12  leftBB_balconies              1364 non-null   float64\n",
      " 13  AM_12527                      355 non-null    object \n",
      " 14  Hospital_4                    376 non-null    object \n",
      " 15  Hospital_5                    183 non-null    object \n",
      " 16  AM_12524                      355 non-null    object \n",
      " 17  AM_12541                      232 non-null    object \n",
      " 18  5 BHK Flat                    140 non-null    object \n",
      " 19  AM_12238                      208 non-null    object \n",
      " 20  AM_12562                      241 non-null    object \n",
      " 21  AM_12578                      19 non-null     object \n",
      " 22  MD_Landmarks                  7501 non-null   object \n",
      " 23  MD_Overlooking                7981 non-null   object \n",
      " 24  AM_12548                      169 non-null    object \n",
      " 25  AM_12549                      125 non-null    object \n",
      " 26  AM_12239                      284 non-null    object \n",
      " 27  AM_1404151                    192 non-null    object \n",
      " 28  AM_12236                      171 non-null    object \n",
      " 29  AM_12237                      169 non-null    object \n",
      " 30  AM_12556                      202 non-null    object \n",
      " 31  AM_12560                      198 non-null    object \n",
      " 32  AM_12555                      121 non-null    object \n",
      " 33  AM_12561                      82 non-null     object \n",
      " 34  AP_Unit                       147 non-null    object \n",
      " 35  Tourist Spot_3                337 non-null    object \n",
      " 36  Tourist Spot_4                337 non-null    object \n",
      " 37  Multistorey Apartment         8 non-null      object \n",
      " 38  many_Super Built-up Area      1332 non-null   object \n",
      " 39  AM_1404147                    76 non-null     object \n",
      " 40  leftBB_bed                    55 non-null     float64\n",
      " 41  leftBB_bath                   45 non-null     float64\n",
      " 42  AM_12235                      58 non-null     object \n",
      " 43  AM_12557                      57 non-null     object \n",
      " 44  leftmany_Floor                4288 non-null   object \n",
      " 45  AM_12233                      115 non-null    object \n",
      " 46  3 BHK Villa                   4 non-null      object \n",
      " 47  4 BHK Villa                   4 non-null      object \n",
      " 48  Residential Plot              4 non-null      object \n",
      " 49  2 BHK Builder                 5 non-null      object \n",
      " 50  3 BHK Builder                 3 non-null      object \n",
      " 51  leftBB_semi-furnished         0 non-null      float64\n",
      " 52  4 BHK Penthouse               2 non-null      object \n",
      " 53  5 BHK Penthouse               2 non-null      object \n",
      " 54  AM_12531                      164 non-null    object \n",
      " 55  AM_12518                      26 non-null     object \n",
      " 56  MD_Type of Ownership          8345 non-null   object \n",
      " 57  MD_Additional Rooms           6621 non-null   object \n",
      " 58  MD_Authority Approval         4538 non-null   object \n",
      " 59  leftmany_Facing               3994 non-null   object \n",
      " 60  AM_12232                      69 non-null     object \n",
      " 61  leftmany_Additional Rooms     1861 non-null   object \n",
      " 62  AM_12544                      94 non-null     object \n",
      " 63  many_Facing                   4221 non-null   object \n",
      " 64  6 BHK Flat                    11 non-null     object \n",
      " 65  many_Type of Ownership        2260 non-null   object \n",
      " 66  many_Additional Rooms         1002 non-null   object \n",
      " 67  leftmany_Type of Ownership    1286 non-null   object \n",
      " 68  AM_12551                      15 non-null     object \n",
      " 69  BB_furnished                  0 non-null      float64\n",
      " 70  leftmany_Lift                 145 non-null    float64\n",
      " 71  AM_12554                      7 non-null      object \n",
      " 72  AM_12542                      4 non-null      object \n",
      " 73  AM_12520                      61 non-null     object \n",
      " 74  leftBB_furnished              0 non-null      float64\n",
      " 75  AM_12558                      50 non-null     object \n",
      " 76  Rent                          4743 non-null   object \n",
      " 77  AM_12584                      51 non-null     object \n",
      " 78  AM_1404160                    5 non-null      object \n",
      " 79  AM_1404159                    18 non-null     object \n",
      " 80  AM_12516                      5 non-null      object \n",
      " 81  AM_12580                      1 non-null      object \n",
      " 82  Commercial Office Space       1 non-null      object \n",
      " 83  5 BHK Villa                   0 non-null      float64\n",
      " 84  AM_12513                      3 non-null      object \n",
      " 85  AM_12550                      3 non-null      object \n",
      " 86  AM_12552                      3 non-null      object \n",
      " 87  AM_12553                      3 non-null      object \n",
      " 88  3 BHK Penthouse               3 non-null      object \n",
      " 89  many_Plot Area                0 non-null      float64\n",
      "dtypes: float64(12), object(78)\n",
      "memory usage: 8.3+ MB\n",
      "None\n"
     ]
    }
   ],
   "source": [
    "print(mg_last90.info())"
   ]
  },
  {
   "cell_type": "code",
   "execution_count": 12,
   "id": "87b48bf5-270c-4b1a-a670-97e135ff786f",
   "metadata": {
    "id": "87b48bf5-270c-4b1a-a670-97e135ff786f",
    "outputId": "1120ee24-fa9e-4f5c-dbc6-8ea0dc251a9b"
   },
   "outputs": [],
   "source": [
    "mg = get_data(\"f_original magicbricks cleaned 12022 data\",col_range=range(290))"
   ]
  },
  {
   "cell_type": "code",
   "execution_count": 13,
   "id": "cb9474ae-0c04-44ec-a2c9-ebe794dcb1fb",
   "metadata": {
    "id": "cb9474ae-0c04-44ec-a2c9-ebe794dcb1fb"
   },
   "outputs": [],
   "source": [
    "#create a copy of original dataframe\n",
    "df=mg.copy()"
   ]
  },
  {
   "cell_type": "code",
   "execution_count": 14,
   "id": "e8875322-f770-4162-85c9-ccfc40811b49",
   "metadata": {
    "id": "e8875322-f770-4162-85c9-ccfc40811b49",
    "outputId": "63acbac9-ea64-4d0b-987e-d18e98aeda00"
   },
   "outputs": [
    {
     "data": {
      "text/plain": [
       "(12022, 290)"
      ]
     },
     "execution_count": 14,
     "metadata": {},
     "output_type": "execute_result"
    }
   ],
   "source": [
    "df.shape"
   ]
  },
  {
   "cell_type": "code",
   "execution_count": 15,
   "id": "9c5ed31c-0d44-4851-9608-819a96977a26",
   "metadata": {},
   "outputs": [
    {
     "name": "stderr",
     "output_type": "stream",
     "text": [
      "C:\\Users\\ABC\\AppData\\Local\\Temp\\ipykernel_11076\\2870125810.py:3: FutureWarning: DataFrame.applymap has been deprecated. Use DataFrame.map instead.\n",
      "  df = df.applymap(lambda x: x.lower() if isinstance(x, str) else x)  # Convert string values to lowercase\n"
     ]
    }
   ],
   "source": [
    "#make all values and column name in lowercase\n",
    "df.columns = df.columns.str.lower()  # Convert column names to lowercase\n",
    "df = df.applymap(lambda x: x.lower() if isinstance(x, str) else x)  # Convert string values to lowercase"
   ]
  },
  {
   "cell_type": "code",
   "execution_count": 16,
   "id": "54eab07a-7c33-4fac-b417-c03d849a935a",
   "metadata": {
    "id": "54eab07a-7c33-4fac-b417-c03d849a935a",
    "outputId": "f0986f56-e558-4383-e48f-5ccd40dd8610"
   },
   "outputs": [
    {
     "name": "stdout",
     "output_type": "stream",
     "text": [
      "Number of duplicate rows: 0\n"
     ]
    }
   ],
   "source": [
    "#check duplicate rows\n",
    "print(\"Number of duplicate rows:\", np.sum(df.duplicated()))"
   ]
  },
  {
   "cell_type": "code",
   "execution_count": 17,
   "id": "88fc9826-b270-433f-9ce0-783d41a8da7a",
   "metadata": {
    "id": "88fc9826-b270-433f-9ce0-783d41a8da7a"
   },
   "outputs": [],
   "source": [
    "#delete column which have all nan values\n",
    "df=df.dropna(how='all',axis=1)"
   ]
  },
  {
   "cell_type": "code",
   "execution_count": 18,
   "id": "2113f040-ac51-4c90-accb-57266ab1d79a",
   "metadata": {
    "id": "2113f040-ac51-4c90-accb-57266ab1d79a",
    "outputId": "2323033e-c064-4ab8-a97f-a652c97b5d05"
   },
   "outputs": [
    {
     "data": {
      "text/plain": [
       "(12022, 282)"
      ]
     },
     "execution_count": 18,
     "metadata": {},
     "output_type": "execute_result"
    }
   ],
   "source": [
    "df.shape"
   ]
  },
  {
   "cell_type": "code",
   "execution_count": 19,
   "id": "8b9049e9-19f6-49ef-8d0d-a3768eca22fe",
   "metadata": {},
   "outputs": [
    {
     "data": {
      "text/plain": [
       "id                     0\n",
       "@type                  0\n",
       "@id                    0\n",
       "url                    0\n",
       "numberofrooms        109\n",
       "                   ...  \n",
       "am_12513           12019\n",
       "am_12550           12019\n",
       "am_12552           12019\n",
       "am_12553           12019\n",
       "3 bhk penthouse    12019\n",
       "Length: 282, dtype: int64"
      ]
     },
     "execution_count": 19,
     "metadata": {},
     "output_type": "execute_result"
    }
   ],
   "source": [
    "df.isnull().sum()"
   ]
  },
  {
   "cell_type": "markdown",
   "id": "4bfb63d1-98c8-4ed4-9d5d-1c2994335939",
   "metadata": {
    "id": "4bfb63d1-98c8-4ed4-9d5d-1c2994335939"
   },
   "source": [
    "### Observation1"
   ]
  },
  {
   "cell_type": "markdown",
   "id": "2ec65436-e99a-4752-a5cb-4bc1aad272cb",
   "metadata": {},
   "source": [
    "- Dataset contains 12022 rows and 282 features.  \n",
    "- 282 columns, so it needs to be shortened.  \n",
    "- Data types of some features are not appropriate.  \n",
    "- Features have missing values."
   ]
  },
  {
   "cell_type": "markdown",
   "id": "993d918e-e447-4e5f-9a9f-f3bbb0b2a2dd",
   "metadata": {
    "id": "993d918e-e447-4e5f-9a9f-f3bbb0b2a2dd"
   },
   "source": [
    "-  compare and keep only one from this -> bb_baths,leftbb_baths,bb_bath,leftbb_bath\n",
    "-  comapre and keep only one from this -> 'bb_covered-parking','leftbb_covered-parking','many_car parking','leftmany_car parking'\n",
    "-  compare and keep only one from this -> 'many_developer','leftmany_developer','ap_buildr'\n",
    "-  compare and keep only one from this -> ap_pjt_name,many_project,leftmany_project\n",
    "-  compare and keep only one from this -> 'md_furnishing','bb_unfurnished','many_furnished status','leftbb_unfurnished','leftmany_furnished status','bb_semi-furnished','leftbb_semi-furnished','bb_furnished','leftbb_furnished'\n",
    "-  work on 'price' column \n",
    "-  compare and keep only one from this -> 'many_carpet area','leftmany_carpet area'\n",
    "-  compare and keep only one from this -> 'leftmany_super built-up area','many_super built-up area'\n",
    "-  compare and keep only one from this(property_type) -> 'many_transaction type','leftmany_transaction type'\n",
    "-  compare and keep only one from this -> 'md_type of ownership', 'many_type of ownership' ,'leftmany_type of ownership'\n",
    "-  compare and keep only one from this -> 'many_status', 'leftmany_status'\n",
    "-  compare and keep only one from this -> 'many_lifts','md_lift','leftmany_lifts','many_lift','leftmany_lift'\n",
    "-  compare and keep only one from this -> 'aboutpjt_total floors', 'md_floors allowed for construction','many_floor', 'leftmany_floor'\n",
    "-  compare and keep only one from this -> 'md_age of construction', 'many_age of construction', 'leftmany_age of construction'\n",
    "-  compare and keep only one from this -> 'bb_balcony', 'leftbb_balcony', 'bb_balconies','leftbb_balconies'\n",
    "-  compare and keep only one from this -> 'md_additional rooms', 'leftmany_additional rooms', 'many_additional rooms'\n",
    "-  compare and keep only one from this -> 'leftmany_facing', 'many_facing'\n",
    "-  compare and make separate column for tower and unit -> 'ap_tower & unit','aboutpjt_total units','aboutpjt_total towers','ap_tower','ap_unit'\n",
    "-  compare and keep only one from this -> 'numberofrooms','bb_beds','leftbb_beds','bb_bed','leftbb_bed'"
   ]
  },
  {
   "cell_type": "markdown",
   "id": "833dbd72-fd7f-45bd-8fd8-561014668a43",
   "metadata": {},
   "source": [
    "### Observation 2"
   ]
  },
  {
   "cell_type": "markdown",
   "id": "c0144fa2-3da2-40ba-995f-14bde1d8987f",
   "metadata": {},
   "source": [
    "- geo - longitude and latitude  \n",
    "- potentialAction - seller:[organization,person,realestateagent] , make 3 columns like this\n",
    "-  some properties are from navimumbai written in 'address' column and even then also in 'property_loc' column they written mumbai so find that and change that in  'property_loc' column and then delete \"address\" column\n",
    "-  combine all 'am' columns together in list\n",
    "- combine 'educational institute' - 'educational institute_1','educational institute_2','educational institute_3','educational institute_4','educational institute_5'\n",
    "- combine 'transportation hub' - 'transportation hub_1','transportation hub_2','transportation hub_3','transportation hub_4','transportation hub_5'\n",
    "- combine 'shopping centre' - 'shopping centre_1','shopping centre_2','shopping centre_3','shopping centre_4','shopping centre_5'\n",
    "- combine 'commercial hub_1','commercial hub_2','commercial hub_3','commercial hub_4','commercial hub_5'\n",
    "- combine 'hospital_1','hospital_2','hospital_3','hospital_4','hospital_5'\n",
    "- combine 'tourist spot_1','tourist spot_2','tourist spot_3','tourist spot_4'\n",
    "- work on md_overlooking\n",
    "- make categories like flat and apartment from 'name' column\n",
    "- emi column :convert all values in lakh\n",
    "- aboutpjt_project size : convert all in sqft"
   ]
  },
  {
   "cell_type": "markdown",
   "id": "54d538d4-7de2-441d-b8d0-601d2b260f20",
   "metadata": {},
   "source": [
    "#### drop this columns :\n",
    "'@id','@type','bhk_type' ,'locality_url','md_booking amount','md_loan offered','md_water availability','ap_price','ap_price per sqft','ap_configuration','ap_pjt_url','ap_ratings','ap_reviews_by','headings_with_ratings','aboutpjt_bhk','2 bhk flat','locality_url_review','liv_environment','liv_commuting','liv_places of interest','md_status of electricity','3 bhk flat','1 bhk flat','studio apartment','4 bhk flat','5 bhk flat','md_landmarks', 'multistorey apartment', '3 bhk villa', '4 bhk villa', 'residential plot', '2 bhk builder', '3 bhk builder','4 bhk penthouse','5 bhk penthouse', 'md_authority approval','6 bhk flat','rent','commercial office space','3 bhk penthouse','md_rera id','aboutpjt_launch date'"
   ]
  },
  {
   "cell_type": "markdown",
   "id": "b47cbf74-996c-4900-b96d-96e4c3a5fad2",
   "metadata": {},
   "source": [
    "- md_flooring - give weightage to each and sum it, eg:[marble,ceramic] = [1,2] = 3"
   ]
  },
  {
   "cell_type": "markdown",
   "id": "e8f95089-7017-4c19-a638-f4d163cfe8c0",
   "metadata": {},
   "source": [
    "# 3.1 Bath"
   ]
  },
  {
   "cell_type": "markdown",
   "id": "0f6ea110-4d45-405c-9108-a89821dfb21c",
   "metadata": {
    "id": "0f6ea110-4d45-405c-9108-a89821dfb21c"
   },
   "source": [
    "#### Observation\n",
    " - columns :'bb_baths','leftbb_baths','bb_bath','leftbb_bath'\n",
    " - combine all in newly created column\n",
    " - and then keep only one bath value\n",
    " - make dtype as float "
   ]
  },
  {
   "cell_type": "code",
   "execution_count": 20,
   "id": "f05213da-54b8-4b3a-b77f-660c90677c9a",
   "metadata": {
    "id": "f05213da-54b8-4b3a-b77f-660c90677c9a"
   },
   "outputs": [],
   "source": [
    "pd.set_option('display.max_rows',None)\n",
    "pd.set_option('display.max_colwidth',None)"
   ]
  },
  {
   "cell_type": "code",
   "execution_count": 21,
   "id": "b6fd9c42-691b-4f7b-8922-0404beef3073",
   "metadata": {
    "id": "b6fd9c42-691b-4f7b-8922-0404beef3073",
    "outputId": "59484866-bec3-491c-90a6-0a23b1679d0b"
   },
   "outputs": [
    {
     "data": {
      "text/html": [
       "<div>\n",
       "<style scoped>\n",
       "    .dataframe tbody tr th:only-of-type {\n",
       "        vertical-align: middle;\n",
       "    }\n",
       "\n",
       "    .dataframe tbody tr th {\n",
       "        vertical-align: top;\n",
       "    }\n",
       "\n",
       "    .dataframe thead th {\n",
       "        text-align: right;\n",
       "    }\n",
       "</style>\n",
       "<table border=\"1\" class=\"dataframe\">\n",
       "  <thead>\n",
       "    <tr style=\"text-align: right;\">\n",
       "      <th></th>\n",
       "      <th>bb_baths</th>\n",
       "      <th>leftbb_baths</th>\n",
       "      <th>bb_bath</th>\n",
       "      <th>leftbb_bath</th>\n",
       "    </tr>\n",
       "  </thead>\n",
       "  <tbody>\n",
       "    <tr>\n",
       "      <th>0</th>\n",
       "      <td>2.0</td>\n",
       "      <td>NaN</td>\n",
       "      <td>NaN</td>\n",
       "      <td>NaN</td>\n",
       "    </tr>\n",
       "    <tr>\n",
       "      <th>1</th>\n",
       "      <td>NaN</td>\n",
       "      <td>3.0</td>\n",
       "      <td>NaN</td>\n",
       "      <td>NaN</td>\n",
       "    </tr>\n",
       "  </tbody>\n",
       "</table>\n",
       "</div>"
      ],
      "text/plain": [
       "   bb_baths  leftbb_baths  bb_bath  leftbb_bath\n",
       "0       2.0           NaN      NaN          NaN\n",
       "1       NaN           3.0      NaN          NaN"
      ]
     },
     "execution_count": 21,
     "metadata": {},
     "output_type": "execute_result"
    }
   ],
   "source": [
    "df[['bb_baths','leftbb_baths','bb_bath','leftbb_bath']].head(2)"
   ]
  },
  {
   "cell_type": "code",
   "execution_count": 22,
   "id": "b3714b7f-a31c-4ce5-9576-b48d8173e8ee",
   "metadata": {},
   "outputs": [],
   "source": [
    "#'bb_baths','leftbb_baths','bb_bath','leftbb_bath'\n",
    "#join all this columns in one column \n",
    "\n",
    "df['bath'] = df['bb_baths'].astype(str) + \",\" + df['leftbb_baths'].astype(str) + \",\" + df['bb_bath'].astype(str) + \",\" + df['leftbb_bath'].astype(str)"
   ]
  },
  {
   "cell_type": "code",
   "execution_count": 23,
   "id": "c493bab4-e788-49fb-a4cc-7640683e22eb",
   "metadata": {
    "scrolled": true
   },
   "outputs": [
    {
     "data": {
      "text/html": [
       "<div>\n",
       "<style scoped>\n",
       "    .dataframe tbody tr th:only-of-type {\n",
       "        vertical-align: middle;\n",
       "    }\n",
       "\n",
       "    .dataframe tbody tr th {\n",
       "        vertical-align: top;\n",
       "    }\n",
       "\n",
       "    .dataframe thead th {\n",
       "        text-align: right;\n",
       "    }\n",
       "</style>\n",
       "<table border=\"1\" class=\"dataframe\">\n",
       "  <thead>\n",
       "    <tr style=\"text-align: right;\">\n",
       "      <th></th>\n",
       "      <th>id</th>\n",
       "      <th>@type</th>\n",
       "      <th>@id</th>\n",
       "      <th>url</th>\n",
       "      <th>numberofrooms</th>\n",
       "      <th>image</th>\n",
       "      <th>name</th>\n",
       "      <th>geo</th>\n",
       "      <th>potentialaction</th>\n",
       "      <th>address</th>\n",
       "      <th>...</th>\n",
       "      <th>am_1404159</th>\n",
       "      <th>am_12516</th>\n",
       "      <th>am_12580</th>\n",
       "      <th>commercial office space</th>\n",
       "      <th>am_12513</th>\n",
       "      <th>am_12550</th>\n",
       "      <th>am_12552</th>\n",
       "      <th>am_12553</th>\n",
       "      <th>3 bhk penthouse</th>\n",
       "      <th>bath</th>\n",
       "    </tr>\n",
       "  </thead>\n",
       "  <tbody>\n",
       "    <tr>\n",
       "      <th>0</th>\n",
       "      <td>cardid69429251</td>\n",
       "      <td>apartment</td>\n",
       "      <td>https://www.magicbricks.com/propertydetails/2-bhk-635-sq-ft-multistorey-apartment-for-sale-pokhran-road-in-thane&amp;id=4d423639343239323531</td>\n",
       "      <td>https://www.magicbricks.com/propertydetails/2-bhk-635-sq-ft-multistorey-apartment-for-sale-pokhran-road-in-thane&amp;id=4d423639343239323531</td>\n",
       "      <td>2.0</td>\n",
       "      <td>https://img.staticmb.com/mbimages/project/photo_h310_w462/2023/04/14/project-photo-6-raymond-realty-ten-x-habitat-thane-5124557_1200_1600_310_462.jpg</td>\n",
       "      <td>2 bhk flat  for sale in  tenx habitat raymond realty, pokhran road, thane</td>\n",
       "      <td>{'@type': 'geocoordinates', 'latitude': '19.20777713', 'longitude': '72.96747907'}</td>\n",
       "      <td>{'@type': 'buyaction', 'seller': {'@type': 'organization', 'name': 'raymond realty'}}</td>\n",
       "      <td>{'@type': 'postaladdress', 'addresslocality': 'pokhran road', 'addressregion': 'thane', 'addresscountry': 'in'}</td>\n",
       "      <td>...</td>\n",
       "      <td>NaN</td>\n",
       "      <td>NaN</td>\n",
       "      <td>NaN</td>\n",
       "      <td>NaN</td>\n",
       "      <td>NaN</td>\n",
       "      <td>NaN</td>\n",
       "      <td>NaN</td>\n",
       "      <td>NaN</td>\n",
       "      <td>NaN</td>\n",
       "      <td>2.0,nan,nan,nan</td>\n",
       "    </tr>\n",
       "    <tr>\n",
       "      <th>1</th>\n",
       "      <td>cardid69427147</td>\n",
       "      <td>apartment</td>\n",
       "      <td>https://www.magicbricks.com/propertydetails/3-bhk-1905-sq-ft-multistorey-apartment-for-sale-kharghar-in-navi-mumbai&amp;id=4d423639343237313437</td>\n",
       "      <td>https://www.magicbricks.com/propertydetails/3-bhk-1905-sq-ft-multistorey-apartment-for-sale-kharghar-in-navi-mumbai&amp;id=4d423639343237313437</td>\n",
       "      <td>3.0</td>\n",
       "      <td>https://img.staticmb.com/mbimages/project/photo_h310_w462/project-photo-28-sai-world-empire-navi-mumbai-5088768_600_800_310_462.jpg</td>\n",
       "      <td>3 bhk flat  for sale in  paradise sai world empire, kharghar, navi mumbai</td>\n",
       "      <td>{'@type': 'geocoordinates', 'latitude': '19.08060457', 'longitude': '73.07393855'}</td>\n",
       "      <td>{'@type': 'buyaction', 'seller': {'@type': 'realestateagent', 'name': 'aristo real estate consultants'}}</td>\n",
       "      <td>{'@type': 'postaladdress', 'addresslocality': 'kharghar', 'addressregion': 'navi mumbai', 'addresscountry': 'in'}</td>\n",
       "      <td>...</td>\n",
       "      <td>NaN</td>\n",
       "      <td>NaN</td>\n",
       "      <td>NaN</td>\n",
       "      <td>NaN</td>\n",
       "      <td>NaN</td>\n",
       "      <td>NaN</td>\n",
       "      <td>NaN</td>\n",
       "      <td>NaN</td>\n",
       "      <td>NaN</td>\n",
       "      <td>nan,3.0,nan,nan</td>\n",
       "    </tr>\n",
       "  </tbody>\n",
       "</table>\n",
       "<p>2 rows × 283 columns</p>\n",
       "</div>"
      ],
      "text/plain": [
       "               id      @type  \\\n",
       "0  cardid69429251  apartment   \n",
       "1  cardid69427147  apartment   \n",
       "\n",
       "                                                                                                                                           @id  \\\n",
       "0     https://www.magicbricks.com/propertydetails/2-bhk-635-sq-ft-multistorey-apartment-for-sale-pokhran-road-in-thane&id=4d423639343239323531   \n",
       "1  https://www.magicbricks.com/propertydetails/3-bhk-1905-sq-ft-multistorey-apartment-for-sale-kharghar-in-navi-mumbai&id=4d423639343237313437   \n",
       "\n",
       "                                                                                                                                           url  \\\n",
       "0     https://www.magicbricks.com/propertydetails/2-bhk-635-sq-ft-multistorey-apartment-for-sale-pokhran-road-in-thane&id=4d423639343239323531   \n",
       "1  https://www.magicbricks.com/propertydetails/3-bhk-1905-sq-ft-multistorey-apartment-for-sale-kharghar-in-navi-mumbai&id=4d423639343237313437   \n",
       "\n",
       "   numberofrooms  \\\n",
       "0            2.0   \n",
       "1            3.0   \n",
       "\n",
       "                                                                                                                                                   image  \\\n",
       "0  https://img.staticmb.com/mbimages/project/photo_h310_w462/2023/04/14/project-photo-6-raymond-realty-ten-x-habitat-thane-5124557_1200_1600_310_462.jpg   \n",
       "1                    https://img.staticmb.com/mbimages/project/photo_h310_w462/project-photo-28-sai-world-empire-navi-mumbai-5088768_600_800_310_462.jpg   \n",
       "\n",
       "                                                                        name  \\\n",
       "0  2 bhk flat  for sale in  tenx habitat raymond realty, pokhran road, thane   \n",
       "1  3 bhk flat  for sale in  paradise sai world empire, kharghar, navi mumbai   \n",
       "\n",
       "                                                                                  geo  \\\n",
       "0  {'@type': 'geocoordinates', 'latitude': '19.20777713', 'longitude': '72.96747907'}   \n",
       "1  {'@type': 'geocoordinates', 'latitude': '19.08060457', 'longitude': '73.07393855'}   \n",
       "\n",
       "                                                                                            potentialaction  \\\n",
       "0                     {'@type': 'buyaction', 'seller': {'@type': 'organization', 'name': 'raymond realty'}}   \n",
       "1  {'@type': 'buyaction', 'seller': {'@type': 'realestateagent', 'name': 'aristo real estate consultants'}}   \n",
       "\n",
       "                                                                                                             address  \\\n",
       "0    {'@type': 'postaladdress', 'addresslocality': 'pokhran road', 'addressregion': 'thane', 'addresscountry': 'in'}   \n",
       "1  {'@type': 'postaladdress', 'addresslocality': 'kharghar', 'addressregion': 'navi mumbai', 'addresscountry': 'in'}   \n",
       "\n",
       "   ... am_1404159 am_12516 am_12580 commercial office space am_12513 am_12550  \\\n",
       "0  ...        NaN      NaN      NaN                     NaN      NaN      NaN   \n",
       "1  ...        NaN      NaN      NaN                     NaN      NaN      NaN   \n",
       "\n",
       "  am_12552 am_12553 3 bhk penthouse             bath  \n",
       "0      NaN      NaN             NaN  2.0,nan,nan,nan  \n",
       "1      NaN      NaN             NaN  nan,3.0,nan,nan  \n",
       "\n",
       "[2 rows x 283 columns]"
      ]
     },
     "execution_count": 23,
     "metadata": {},
     "output_type": "execute_result"
    }
   ],
   "source": [
    "df.head(2)"
   ]
  },
  {
   "cell_type": "code",
   "execution_count": 24,
   "id": "ba5d0e65-65b5-4da1-9f3f-5bbfdb4085cf",
   "metadata": {},
   "outputs": [],
   "source": [
    "#from this : 2.0,nan,nan,nan to this: 2.0 \n",
    "#and if all values like this nan,nan,nan,nan then keep one nan \n",
    "df['bath'] = df['bath'].apply(\n",
    "    lambda x: None if all(item.strip() == 'nan' for item in x.split(',')) else re.sub(r'(,?nan)+', '', x).strip(',')\n",
    ")"
   ]
  },
  {
   "cell_type": "code",
   "execution_count": 25,
   "id": "5b222a5a-9eb0-4135-984e-b818f0b072a6",
   "metadata": {},
   "outputs": [
    {
     "data": {
      "text/plain": [
       "0"
      ]
     },
     "execution_count": 25,
     "metadata": {},
     "output_type": "execute_result"
    }
   ],
   "source": [
    "#chk if any row have more than one value or not\n",
    "#eg: values will be like this: 2.0,3.0 ,  so to detect this I use  ',' here to detect such rows \n",
    "df['bath'].str.contains(',', na=False).sum()"
   ]
  },
  {
   "cell_type": "code",
   "execution_count": 26,
   "id": "40280d70-76d2-4cdb-b5b1-4ee712a71cf8",
   "metadata": {},
   "outputs": [
    {
     "data": {
      "text/plain": [
       "bath\n",
       "2.0     6577\n",
       "3.0     2487\n",
       "1.0     1740\n",
       "4.0      781\n",
       "5.0      279\n",
       "6.0       88\n",
       "7.0       11\n",
       "10.0       7\n",
       "8.0        7\n",
       "9.0        1\n",
       "Name: count, dtype: int64"
      ]
     },
     "execution_count": 26,
     "metadata": {},
     "output_type": "execute_result"
    }
   ],
   "source": [
    "df['bath'].value_counts()"
   ]
  },
  {
   "cell_type": "code",
   "execution_count": 27,
   "id": "6657d2c8-8854-4bba-a727-a228cae86398",
   "metadata": {},
   "outputs": [
    {
     "data": {
      "text/plain": [
       "dtype('O')"
      ]
     },
     "execution_count": 27,
     "metadata": {},
     "output_type": "execute_result"
    }
   ],
   "source": [
    "df['bath'].dtype"
   ]
  },
  {
   "cell_type": "code",
   "execution_count": 28,
   "id": "6b6cf672-ae96-42ad-a52d-25e161f2ab7c",
   "metadata": {},
   "outputs": [],
   "source": [
    "df['bath'] = pd.to_numeric(df['bath'], errors='coerce')"
   ]
  },
  {
   "cell_type": "code",
   "execution_count": 29,
   "id": "8c11f71c-0621-426f-87d8-5dd5ee2f1fd6",
   "metadata": {},
   "outputs": [
    {
     "data": {
      "text/plain": [
       "dtype('float64')"
      ]
     },
     "execution_count": 29,
     "metadata": {},
     "output_type": "execute_result"
    }
   ],
   "source": [
    "df['bath'].dtype"
   ]
  },
  {
   "cell_type": "code",
   "execution_count": 30,
   "id": "300a67cd-149d-4abb-8def-5d3659c67f18",
   "metadata": {},
   "outputs": [
    {
     "data": {
      "text/plain": [
       "44"
      ]
     },
     "execution_count": 30,
     "metadata": {},
     "output_type": "execute_result"
    }
   ],
   "source": [
    "#nan values in bath column \n",
    "df['bath'].isna().sum()"
   ]
  },
  {
   "cell_type": "code",
   "execution_count": 31,
   "id": "69aeb0c5-f6c2-4f96-9f54-8b0a9a8189de",
   "metadata": {},
   "outputs": [],
   "source": [
    "# Drop columns : 'bb_baths','leftbb_baths','bb_bath','leftbb_bath'\n",
    "df = df.drop(['bb_baths','leftbb_baths','bb_bath','leftbb_bath'],axis=1)"
   ]
  },
  {
   "cell_type": "markdown",
   "id": "7108d04b-e756-405b-b614-ebd8e3bd28d2",
   "metadata": {},
   "source": [
    "# 3.2 Parking"
   ]
  },
  {
   "cell_type": "markdown",
   "id": "5c4858e2-9401-41b3-a936-7293eaf48639",
   "metadata": {},
   "source": [
    "comapre and keep only one from this -> 'bb_covered-parking','leftbb_covered-parking','many_car parking','leftmany_car parking'"
   ]
  },
  {
   "cell_type": "markdown",
   "id": "eb183b6b-9532-4d80-b1a6-a4b73ef3e106",
   "metadata": {},
   "source": [
    "#### Observation\n",
    "  - 4 columns :'bb_covered-parking','leftbb_covered-parking','many_car parking','leftmany_car parking'\n",
    "  - some columns have similar data\n",
    "  - max value is the correct one\n",
    "  - also some columns values are like '1 Covered, 3 Open' so add only int from them so we get 4 \n",
    "  - combine all columns and keep max value from them in newly created 'parking' column\n",
    "  - convert into float"
   ]
  },
  {
   "cell_type": "code",
   "execution_count": 32,
   "id": "063d2552-3a31-4212-a85e-3177cbb33d22",
   "metadata": {
    "id": "063d2552-3a31-4212-a85e-3177cbb33d22"
   },
   "outputs": [
    {
     "data": {
      "text/html": [
       "<div>\n",
       "<style scoped>\n",
       "    .dataframe tbody tr th:only-of-type {\n",
       "        vertical-align: middle;\n",
       "    }\n",
       "\n",
       "    .dataframe tbody tr th {\n",
       "        vertical-align: top;\n",
       "    }\n",
       "\n",
       "    .dataframe thead th {\n",
       "        text-align: right;\n",
       "    }\n",
       "</style>\n",
       "<table border=\"1\" class=\"dataframe\">\n",
       "  <thead>\n",
       "    <tr style=\"text-align: right;\">\n",
       "      <th></th>\n",
       "      <th>bb_covered-parking</th>\n",
       "      <th>leftbb_covered-parking</th>\n",
       "      <th>many_car parking</th>\n",
       "      <th>leftmany_car parking</th>\n",
       "    </tr>\n",
       "  </thead>\n",
       "  <tbody>\n",
       "    <tr>\n",
       "      <th>0</th>\n",
       "      <td>1.0</td>\n",
       "      <td>NaN</td>\n",
       "      <td>1 covered</td>\n",
       "      <td>NaN</td>\n",
       "    </tr>\n",
       "    <tr>\n",
       "      <th>1</th>\n",
       "      <td>NaN</td>\n",
       "      <td>1.0</td>\n",
       "      <td>NaN</td>\n",
       "      <td>1 covered</td>\n",
       "    </tr>\n",
       "    <tr>\n",
       "      <th>2</th>\n",
       "      <td>1.0</td>\n",
       "      <td>NaN</td>\n",
       "      <td>1 covered</td>\n",
       "      <td>NaN</td>\n",
       "    </tr>\n",
       "    <tr>\n",
       "      <th>3</th>\n",
       "      <td>NaN</td>\n",
       "      <td>NaN</td>\n",
       "      <td>NaN</td>\n",
       "      <td>NaN</td>\n",
       "    </tr>\n",
       "    <tr>\n",
       "      <th>4</th>\n",
       "      <td>1.0</td>\n",
       "      <td>NaN</td>\n",
       "      <td>1 covered</td>\n",
       "      <td>NaN</td>\n",
       "    </tr>\n",
       "  </tbody>\n",
       "</table>\n",
       "</div>"
      ],
      "text/plain": [
       "   bb_covered-parking  leftbb_covered-parking many_car parking  \\\n",
       "0                 1.0                     NaN        1 covered   \n",
       "1                 NaN                     1.0              NaN   \n",
       "2                 1.0                     NaN        1 covered   \n",
       "3                 NaN                     NaN              NaN   \n",
       "4                 1.0                     NaN        1 covered   \n",
       "\n",
       "  leftmany_car parking  \n",
       "0                  NaN  \n",
       "1            1 covered  \n",
       "2                  NaN  \n",
       "3                  NaN  \n",
       "4                  NaN  "
      ]
     },
     "execution_count": 32,
     "metadata": {},
     "output_type": "execute_result"
    }
   ],
   "source": [
    "df[['bb_covered-parking','leftbb_covered-parking','many_car parking','leftmany_car parking']].head(5)"
   ]
  },
  {
   "cell_type": "code",
   "execution_count": 33,
   "id": "36e55761-bc54-4d14-a7df-371e5d07e197",
   "metadata": {},
   "outputs": [],
   "source": [
    "#from 'leftmany_car parking' keep only int values  \n",
    "#eg: if like this :1 Covered, 3 Open then form this we get :4\n",
    "df['leftmany_car parking'] = df['leftmany_car parking'].apply(lambda x: None if pd.isna(x) else sum(map(int, re.findall(r'\\d+', str(x)))))"
   ]
  },
  {
   "cell_type": "code",
   "execution_count": 34,
   "id": "57b9a2db-5c55-4792-bf7b-416c5befde65",
   "metadata": {},
   "outputs": [],
   "source": [
    "#from 'many_Car parking' keep only int values\n",
    "#eg: if like this :1 Covered, 3 Open then form this we get :4\n",
    "df['many_car parking'] = df['many_car parking'].apply(lambda x: None if pd.isna(x) else sum(map(int, re.findall(r'\\d+', str(x)))))"
   ]
  },
  {
   "cell_type": "code",
   "execution_count": 35,
   "id": "3737de84-eefa-4a60-8863-e8bda05c541a",
   "metadata": {},
   "outputs": [],
   "source": [
    "#make 1 column in that combine all this below column values\n",
    "#''bb_covered-parking','leftbb_covered-parking','many_car parking','leftmany_car parking'\n",
    "\n",
    "df['parking'] = df['bb_covered-parking'].astype(str) + \",\" + df['leftbb_covered-parking'].astype(str) + \",\" + df['leftmany_car parking'].astype(str) + \",\" + df['many_car parking'].astype(str)"
   ]
  },
  {
   "cell_type": "code",
   "execution_count": 36,
   "id": "5c05da6b-968b-40a6-a8fe-df679f9a91a8",
   "metadata": {},
   "outputs": [],
   "source": [
    "#make new column for parking in that take only that values which are max in this below 4 columns \n",
    "#'bb_covered-parking','leftbb_covered-parking','many_car parking','leftmany_car parking'\n",
    "#if all values are nan then keep nan only \n",
    "\n",
    "df['parking'] = df['parking'].apply(\n",
    "    lambda x: None if all(item.strip() == 'nan' for item in x.split(',')) \n",
    "    else max([float(item) for item in x.split(',') if item.strip() not in ['nan', '']])\n",
    ")\n",
    "\n"
   ]
  },
  {
   "cell_type": "markdown",
   "id": "b0f003cd-7991-4372-aca7-a73a7a819ef1",
   "metadata": {},
   "source": [
    "#### Observation\n",
    "  - lesser than 12 car parking for 1 flat \n",
    "  - more than 12 parking for 1 flat then delete make that 1 only  \n",
    "    eg: 50 open parking so make this 1 only\n",
    "  - above 2 not possible"
   ]
  },
  {
   "cell_type": "code",
   "execution_count": 37,
   "id": "71c07401-7334-4fff-8907-bdbb12db3c5c",
   "metadata": {},
   "outputs": [
    {
     "data": {
      "text/plain": [
       "parking\n",
       "1.0      3973\n",
       "2.0      1352\n",
       "3.0       243\n",
       "4.0        83\n",
       "5.0        21\n",
       "10.0       10\n",
       "6.0         8\n",
       "12.0        3\n",
       "100.0       3\n",
       "9.0         2\n",
       "34.0        2\n",
       "102.0       2\n",
       "15.0        2\n",
       "50.0        2\n",
       "22.0        2\n",
       "8.0         2\n",
       "858.0       1\n",
       "30.0        1\n",
       "11.0        1\n",
       "501.0       1\n",
       "40.0        1\n",
       "504.0       1\n",
       "20.0        1\n",
       "508.0       1\n",
       "402.0       1\n",
       "512.0       1\n",
       "45.0        1\n",
       "27.0        1\n",
       "603.0       1\n",
       "44.0        1\n",
       "420.0       1\n",
       "203.0       1\n",
       "122.0       1\n",
       "23.0        1\n",
       "813.0       1\n",
       "403.0       1\n",
       "188.0       1\n",
       "36.0        1\n",
       "65.0        1\n",
       "104.0       1\n",
       "16.0        1\n",
       "18.0        1\n",
       "13.0        1\n",
       "Name: count, dtype: int64"
      ]
     },
     "execution_count": 37,
     "metadata": {},
     "output_type": "execute_result"
    }
   ],
   "source": [
    "df['parking'].value_counts()"
   ]
  },
  {
   "cell_type": "markdown",
   "id": "6f2ff2a1-b20b-469b-9b35-35d2e3d99a51",
   "metadata": {},
   "source": [
    "#### Observation\n",
    "  - more than 13 parking for single flat is not possible hence make them 'nan'\n",
    "  - assign parking is not possible for below ID's hence make nan for them also ['cardid27836801' 'cardid48504695' 'cardid54247801' 'cardid63926535'\n",
    " 'cardid70165891' 'cardid70404005' 'cardid71077363' 'cardid71669157'\n",
    " 'cardid71832843' 'cardid72076743' 'cardid72520475' 'cardid72662033'\n",
    " 'cardid72870079' 'cardid72884903' 'cardid72943753' 'cardid72963631'\n",
    " 'cardid73073955' 'cardid73082695' 'cardid73099819' 'cardid73226903']\n",
    "\n",
    "- make dtype as float"
   ]
  },
  {
   "cell_type": "code",
   "execution_count": 38,
   "id": "17e32fef-26de-4969-96cf-fab61969d8f2",
   "metadata": {},
   "outputs": [],
   "source": [
    "#None for the values which are more than 13 in parking column \n",
    "df['parking'] = df['parking'].apply(lambda x: None if x>=13 else x)"
   ]
  },
  {
   "cell_type": "code",
   "execution_count": 39,
   "id": "4e04b3fa-1638-41d7-b94a-ad0c8dc425d9",
   "metadata": {},
   "outputs": [],
   "source": [
    "#make parking=nan for the below mention ID's\n",
    "ids_to_update = [\n",
    "    'cardid27836801', 'cardid48504695', 'cardid54247801', 'cardid63926535', \n",
    "    'cardid70165891', 'cardid70404005', 'cardid71077363', 'cardid71669157', \n",
    "    'cardid71832843', 'cardid72076743', 'cardid72520475', 'cardid72662033', \n",
    "    'cardid72870079', 'cardid72884903', 'cardid72943753', 'cardid72963631', \n",
    "    'cardid73073955', 'cardid73082695', 'cardid73099819', 'cardid73226903'\n",
    "]\n",
    "\n",
    "# Update 'parking' to NaN for rows where 'ID' matches\n",
    "df.loc[df['id'].isin(ids_to_update), 'parking'] = None"
   ]
  },
  {
   "cell_type": "code",
   "execution_count": 40,
   "id": "23a7740c-916b-449f-ba52-227ac3c35d6d",
   "metadata": {},
   "outputs": [
    {
     "data": {
      "text/plain": [
       "6344"
      ]
     },
     "execution_count": 40,
     "metadata": {},
     "output_type": "execute_result"
    }
   ],
   "source": [
    "df['parking'].isna().sum()"
   ]
  },
  {
   "cell_type": "code",
   "execution_count": 41,
   "id": "f9467ed2-644a-4c5f-8af6-f3dfedb14c32",
   "metadata": {},
   "outputs": [
    {
     "data": {
      "text/plain": [
       "dtype('float64')"
      ]
     },
     "execution_count": 41,
     "metadata": {},
     "output_type": "execute_result"
    }
   ],
   "source": [
    "df['parking'].dtype"
   ]
  },
  {
   "cell_type": "code",
   "execution_count": 42,
   "id": "fa55388d-5bdf-437f-89be-dd222fcecacb",
   "metadata": {},
   "outputs": [],
   "source": [
    "df['parking'] = pd.to_numeric(df['parking'], errors='coerce')"
   ]
  },
  {
   "cell_type": "code",
   "execution_count": 43,
   "id": "d0d7e98c-4c57-4bf9-a5f5-08bd0b8052c7",
   "metadata": {},
   "outputs": [
    {
     "data": {
      "text/plain": [
       "dtype('float64')"
      ]
     },
     "execution_count": 43,
     "metadata": {},
     "output_type": "execute_result"
    }
   ],
   "source": [
    "df['parking'].dtype"
   ]
  },
  {
   "cell_type": "code",
   "execution_count": 44,
   "id": "c4ed926f-8b0e-4547-810a-31ea3dbaabf6",
   "metadata": {},
   "outputs": [],
   "source": [
    "# Drop columns : 'bb_covered-parking','leftbb_covered-parking','many_car parking','leftmany_car parking'\n",
    "df = df.drop(['bb_covered-parking','leftbb_covered-parking','many_car parking','leftmany_car parking'],axis=1)"
   ]
  },
  {
   "cell_type": "markdown",
   "id": "e2714c18-fba2-4929-8870-80dbe58303f7",
   "metadata": {},
   "source": [
    "# 3.3 Builder "
   ]
  },
  {
   "cell_type": "markdown",
   "id": "c37c6e52-b644-42af-af47-2fb5beeed995",
   "metadata": {},
   "source": [
    "#### Observation \n",
    " - have this many columns : 'many_developer','leftmany_developer','ap_buildr'\n",
    " - combine them and keep only one value from it else keep nan\n",
    " - dtype is object"
   ]
  },
  {
   "cell_type": "code",
   "execution_count": 45,
   "id": "bb8abe97-f624-4509-a8c8-ba510a9eddb9",
   "metadata": {},
   "outputs": [
    {
     "data": {
      "text/plain": [
       "0"
      ]
     },
     "execution_count": 45,
     "metadata": {},
     "output_type": "execute_result"
    }
   ],
   "source": [
    "#chk any ',' available before splitting in all this columns : 'many_developer','leftmany_developer','ap_buildr'\n",
    "df['ap_buildr'].str.contains(',', na=False).sum()"
   ]
  },
  {
   "cell_type": "code",
   "execution_count": 46,
   "id": "9ee08ad7-841e-439b-8346-9ccd71e389bd",
   "metadata": {},
   "outputs": [],
   "source": [
    "#combine columns \n",
    "df['builder'] = df['many_developer'].astype(str) + \",\" + df['leftmany_developer'].astype(str) + \",\" + df['ap_buildr'].astype(str)"
   ]
  },
  {
   "cell_type": "code",
   "execution_count": 47,
   "id": "bf84da6a-85e6-4ff7-b150-eab8ea6623b4",
   "metadata": {},
   "outputs": [],
   "source": [
    "#keep if builder is available else keep nan\n",
    "df['builder'] = df['builder'].apply(\n",
    "    lambda x: None if all(item.strip() == 'nan' for item in x.split(',')) \n",
    "    else next((item.strip() for item in x.split(',') if item.strip() not in ['nan', '']), None)\n",
    ")\n"
   ]
  },
  {
   "cell_type": "code",
   "execution_count": 48,
   "id": "89b9a91e-6ed3-4ea8-be62-3cc41d0abb23",
   "metadata": {},
   "outputs": [],
   "source": [
    "#drop columns : 'many_developer','leftmany_developer','ap_buildr'\n",
    "df = df.drop(['many_developer','leftmany_developer','ap_buildr'],axis=1)"
   ]
  },
  {
   "cell_type": "code",
   "execution_count": 49,
   "id": "323fe219-057b-48bd-bab7-f11e3cc043c7",
   "metadata": {},
   "outputs": [],
   "source": [
    "#df13 = df[['id','url','name','price','md_Address','builder','ap_pjt_name','many_project','leftmany_project']]\n",
    "\n",
    "#for observation make this excel\n",
    "#df13.to_excel('chk13.xlsx')"
   ]
  },
  {
   "cell_type": "code",
   "execution_count": 50,
   "id": "0d259336-f1cb-4dd3-8569-aafe9c9a4c34",
   "metadata": {},
   "outputs": [
    {
     "data": {
      "text/plain": [
       "0"
      ]
     },
     "execution_count": 50,
     "metadata": {},
     "output_type": "execute_result"
    }
   ],
   "source": [
    "#chk if any row have more than one value or not\n",
    "df['builder'].str.contains(',', na=False).sum()"
   ]
  },
  {
   "cell_type": "markdown",
   "id": "f2363f68-7344-427c-a36e-efa4976eb243",
   "metadata": {},
   "source": [
    "### observation \n",
    "same builders are written in various manner\n",
    "- a&o realty / a and o realty / a & o realty ltd.\n",
    "- adhiraj constructions / adhiraj constructions pvt. ltd.\n",
    "- arihant superstructures ltd / arihant superstructures ltd.\n",
    "- bharat infrastructure & engineering pvt. ltd. / bharat infrastructure and engineering\n",
    "- bhoomi group / bhoomi / bhoomi properties\n",
    "- choice group of companies / choice group\n",
    "- darshan properties / darshan properties group\n",
    "- dev land housing / dev land housing ltd.\n",
    "- ecohomes / eco homes\n",
    "- gundecha developers / gundecha / gundecha developing milestone /gundecha group\n",
    "- hiranandani communities / hiranandani constructions / hiranandani developers / hiranandani group / house of hiranandani\n",
    "- k raheja realty/ k. raheja realty\n",
    "- krishna enterprise / krishna enterprises\n",
    "- l & t realty / l&t realty\n",
    "- lodha / lodha group\n",
    "- lok housing group / lok group\n",
    "- lokhandwala builders / Lokhandwala Constructions / lokhandwala construction industries pvt. ltd. / lokhandwala group \n",
    "- lokhandwala infrastructure\n",
    "- lotus logistic and developers / lotus logistics & developer pvt ltd\n",
    "- neelam realtors / neelam realtors pvt. ltd.\n",
    "- neelsidhi group / neelsidhi\n",
    "- nirmal lifestyle / nirmal life style\n",
    "- omkar realtors and developers pvt. ltd. / omkar realtors\n",
    "- parinee developers /  parinee group\n",
    "- platinum group / platinum group builders / platinum constructions\n",
    "- prescon group / prescon\n",
    "- puraniks builders / puranik builders ltd. / puranik group\n",
    "- r k builders / r k builders and developers\n",
    "- qualcon properties llp / qualcon\n",
    "- raheja universal (pvt.) ltd. / raheja universal pvt. ltd.\n",
    "- raheja developers / raheja developers ltd.\n",
    "- raj realty group / raj realty\n",
    "- rashmi housing pvt. ltd. / rashmi housing\n",
    "- ravi group of builders and developers / ravi group\n",
    "- rna / rna ng builders / rna corp / rna group\n",
    "- rohan lifescapes / rohan lifescapes ltd.\n",
    "- romell group / romell real estate pvt. ltd.\n",
    "- rustomjee / rustomjee developers\n",
    "\n",
    "- sahajanand developers / sahajanand infrastructure pvt. ltd.\n",
    "- sainath developers / sainath group\n",
    "- sapphire group and builder / sapphire group\n",
    "- saptashree builders & developers / sapta shree builders & developers\n",
    "- shapoorji pallonji real estate / shapoorji pallonji group\n",
    "- sheth creators / sheth creators pvt. ltd.\n",
    "- shree ostwal builders ltd. / shree ostwal builders and developers\n",
    "- shreedham builders and developers / shreedham group\n",
    "- shreeji construction / shreeji group / shreeji group builder and developer\n",
    "- smgk associates / smgk group\n",
    "- space india / space india builders & developers\n",
    "- spenta builders / spenta corp. pvt. ltd.\n",
    "- sugee realty & developers (india) pvt. ltd. / sugee group\n",
    "- swastik realtors / swastik group builders & developers\n",
    "- tharwani realty / tharwani group\n",
    "- titanium group / titanium builders and developers\n",
    "- today global homes / today global builders & developers\n",
    "- transcon developers / transcon group\n",
    "- tridhaatu realty / tridhaatu realty & infra pvt. ltd.\n",
    "- vaibhavlaxmi builders & developers / vaibhavlaxmi builders and developers / vaibhav laxmi developers\n",
    "- vbhc value homes pvt. ltd. / vbhc\n",
    "- vihang infrastructure pvt ltd / vihang group\n",
    "- vinay unique developers / vinay unique group"
   ]
  },
  {
   "cell_type": "code",
   "execution_count": 51,
   "id": "7f9f883d-7082-40c7-a899-bdf157a438e3",
   "metadata": {},
   "outputs": [
    {
     "data": {
      "text/plain": [
       "dtype('O')"
      ]
     },
     "execution_count": 51,
     "metadata": {},
     "output_type": "execute_result"
    }
   ],
   "source": [
    "df['builder'].dtype"
   ]
  },
  {
   "cell_type": "code",
   "execution_count": null,
   "id": "aa69028a-4957-4819-97eb-8dde8baf9c20",
   "metadata": {},
   "outputs": [],
   "source": []
  },
  {
   "cell_type": "code",
   "execution_count": 52,
   "id": "51669244-0a5b-4855-ad7d-03c1ff1f48f8",
   "metadata": {},
   "outputs": [],
   "source": [
    "def standardize_property_name(name):\n",
    "    \"\"\"\n",
    "    Standardize property names to a single consistent name.\n",
    "    \"\"\"\n",
    "    # Define a mapping of possible variations to standardized names\n",
    "    mapping = {\n",
    "        \"a&o realty / a and o realty / a & o realty ltd.\": \"a&o realty\",\n",
    "        \"adhiraj constructions / adhiraj constructions pvt. ltd.\": \"adhiraj constructions\",\n",
    "        \"arihant superstructures ltd / arihant superstructures ltd.\": \"arihant superstructures ltd\",\n",
    "        \"bharat infrastructure & engineering pvt. ltd. / bharat infrastructure and engineering\": \"bharat infrastructure & engineering\",\n",
    "        \"bhoomi group / bhoomi / bhoomi properties\": \"bhoomi group\",\n",
    "        \"choice group of companies / choice group\": \"choice group\",\n",
    "        \"darshan properties / darshan properties group\": \"darshan properties\",\n",
    "        \"dev land housing / dev land housing ltd.\": \"dev land housing\",\n",
    "        \"ecohomes / eco homes\": \"ecohomes\",\n",
    "        \"gundecha developers / gundecha / gundecha developing milestone /gundecha group\": \"gundecha group\",\n",
    "        \"hiranandani communities / hiranandani constructions / hiranandani developers / hiranandani group / house of hiranandani\": \"hiranandani group\",\n",
    "        \"k raheja realty/ k. raheja realty\": \"k raheja realty\",\n",
    "        \"krishna enterprise / krishna enterprises\": \"krishna enterprise\",\n",
    "        \"l & t realty / l&t realty\": \"l&t realty\",\n",
    "        \"lodha / lodha group\": \"lodha group\",\n",
    "        \"lok housing group / lok group\": \"lok housing group\",\n",
    "        \"lokhandwala builders / lokhandwala constructions / lokhandwala construction industries pvt. ltd. / lokhandwala group\": \"lokhandwala group\",\n",
    "        \"lokhandwala infrastructure\": \"lokhandwala infrastructure\",\n",
    "        \"lotus logistic and developers / lotus logistics & developer pvt ltd\": \"lotus logistics\",\n",
    "        \"neelam realtors / neelam realtors pvt. ltd.\": \"neelam realtors\",\n",
    "        \"neelsidhi group / neelsidhi\": \"neelsidhi group\",\n",
    "        \"nirmal lifestyle / nirmal life style\": \"nirmal lifestyle\",\n",
    "        \"omkar realtors and developers pvt. ltd. / omkar realtors\": \"omkar realtors\",\n",
    "        \"parinee developers / parinee group\": \"parinee group\",\n",
    "        \"platinum group / platinum group builders / platinum constructions\": \"platinum group\",\n",
    "        \"prescon group / prescon\": \"prescon group\",\n",
    "        \"puraniks builders / puranik builders ltd. / puranik group\": \"puraniks group\",\n",
    "        \"r k builders / r k builders and developers\": \"r k builders\",\n",
    "        \"qualcon properties llp / qualcon\": \"qualcon\",\n",
    "        \"raheja universal (pvt.) ltd. / raheja universal pvt. ltd.\": \"raheja universal\",\n",
    "        \"raheja developers / raheja developers ltd.\": \"raheja developers\",\n",
    "        \"raj realty group / raj realty\": \"raj realty group\",\n",
    "        \"rashmi housing pvt. ltd. / rashmi housing\": \"rashmi housing\",\n",
    "        \"ravi group of builders and developers / ravi group\": \"ravi group\",\n",
    "        \"rna / rna ng builders / rna corp / rna group\": \"rna group\",\n",
    "        \"rohan lifescapes / rohan lifescapes ltd.\": \"rohan lifescapes\",\n",
    "        \"romell group / romell real estate pvt. ltd.\": \"romell group\",\n",
    "        \"rustomjee / rustomjee developers\": \"rustomjee\",\n",
    "        \"sahajanand developers / sahajanand infrastructure pvt. ltd.\": \"sahajanand developers\",\n",
    "        \"sainath developers / sainath group\": \"sainath developers\",\n",
    "        \"sapphire group and builder / sapphire group\": \"sapphire group\",\n",
    "        \"saptashree builders & developers / sapta shree builders & developers\": \"saptashree\",\n",
    "        \"shapoorji pallonji real estate / shapoorji pallonji group\": \"shapoorji pallonji group\",\n",
    "        \"sheth creators / sheth creators pvt. ltd.\": \"sheth creators\",\n",
    "        \"shree ostwal builders ltd. / shree ostwal builders and developers\": \"shree ostwal builders\",\n",
    "        \"shreedham builders and developers / shreedham group\": \"shreedham group\",\n",
    "        \"shreeji construction / shreeji group / shreeji group builder and developer\": \"shreeji group\",\n",
    "        \"smgk associates / smgk group\": \"smgk group\",\n",
    "        \"space india / space india builders & developers\": \"space india\",\n",
    "        \"spenta builders / spenta corp. pvt. ltd.\": \"spenta\",\n",
    "        \"sugee realty & developers (india) pvt. ltd. / sugee group\": \"sugee group\",\n",
    "        \"swastik realtors / swastik group builders & developers\": \"swastik\",\n",
    "        \"tharwani realty / tharwani group\": \"tharwani group\",\n",
    "        \"titanium group / titanium builders and developers\": \"titanium group\",\n",
    "        \"today global homes / today global builders & developers\": \"today global\",\n",
    "        \"transcon developers / transcon group\": \"transcon group\",\n",
    "        \"tridhaatu realty / tridhaatu realty & infra pvt. ltd.\": \"tridhaatu realty\",\n",
    "        \"vaibhavlaxmi builders & developers / vaibhavlaxmi builders and developers / vaibhav laxmi developers\": \"vaibhavlaxmi builders\",\n",
    "        \"vbhc value homes pvt. ltd. / vbhc\": \"vbhc\",\n",
    "        \"vihang infrastructure pvt ltd / vihang group\": \"vihang group\",\n",
    "        \"vinay unique developers / vinay unique group\": \"vinay unique group\"\n",
    "    }\n",
    "\n",
    "    # Handle null or missing values\n",
    "    if not isinstance(name, str):\n",
    "        return name\n",
    "\n",
    "    # Normalize input name (e.g., lowercase, strip whitespace)\n",
    "    normalized_name = name.strip().lower()\n",
    "\n",
    "    # Standardize using the mapping\n",
    "    for key, value in mapping.items():\n",
    "        variations = key.split(\" / \")\n",
    "        if normalized_name in variations:\n",
    "            return value\n",
    "\n",
    "    # Return the original name if no match is found\n",
    "    return name\n",
    "\n",
    "# Apply the function to the 'builder' column of a DataFrame\n",
    "df['builder'] = df['builder'].apply(standardize_property_name)\n"
   ]
  },
  {
   "cell_type": "code",
   "execution_count": 53,
   "id": "bf504e35-b4bd-4dad-b881-a9b8756a57f4",
   "metadata": {},
   "outputs": [
    {
     "data": {
      "text/plain": [
       "0                         raymond realty\n",
       "1                         paradise group\n",
       "2            n rose developers pvt. ltd.\n",
       "3                            avant group\n",
       "4                                mj shah\n",
       "5                      progressive group\n",
       "6                          vishesh group\n",
       "7                            aurus homes\n",
       "8                 gagangiri construction\n",
       "9                jp infra realty pvt ltd\n",
       "10                   aakruti enterprises\n",
       "11                 adhiraj constructions\n",
       "12                      abhinav realtors\n",
       "13                     ashapura realtors\n",
       "14                 s m hitech developers\n",
       "15                         drushti group\n",
       "16    ashwin sheth group and emami group\n",
       "17                         atul projects\n",
       "18                        kalpataru ltd.\n",
       "19                     hiranandani group\n",
       "Name: builder, dtype: object"
      ]
     },
     "execution_count": 53,
     "metadata": {},
     "output_type": "execute_result"
    }
   ],
   "source": [
    "df['builder'].head(20)"
   ]
  },
  {
   "cell_type": "code",
   "execution_count": 54,
   "id": "a4e4db29-8ebc-4181-a28b-1aeed4e0ee75",
   "metadata": {},
   "outputs": [
    {
     "data": {
      "text/plain": [
       "(0, 274)"
      ]
     },
     "execution_count": 54,
     "metadata": {},
     "output_type": "execute_result"
    }
   ],
   "source": [
    "df[df['builder'] == 'a and o realty'].shape"
   ]
  },
  {
   "cell_type": "markdown",
   "id": "ef1b8354-063e-4011-bb2f-b6458eeb7022",
   "metadata": {},
   "source": [
    "# 3.4 project_name"
   ]
  },
  {
   "cell_type": "markdown",
   "id": "c98626f3-37bf-40a3-9953-7568b01602f5",
   "metadata": {},
   "source": [
    "#### Observation \n",
    " - have this many columns : ap_pjt_name,many_project,leftmany_project\n",
    " - combine them and keep only one value from it else keep nan\n",
    " - dtype is object"
   ]
  },
  {
   "cell_type": "code",
   "execution_count": 55,
   "id": "37ea019a-fd2e-4b26-8c25-a77d21c0470e",
   "metadata": {},
   "outputs": [
    {
     "data": {
      "text/plain": [
       "0"
      ]
     },
     "execution_count": 55,
     "metadata": {},
     "output_type": "execute_result"
    }
   ],
   "source": [
    "#chk any ',' available before splitting in all this columns :ap_pjt_name,many_project,leftmany_project\n",
    "df['leftmany_project'].str.contains(',', na=False).sum()"
   ]
  },
  {
   "cell_type": "code",
   "execution_count": 56,
   "id": "3280d7fc-89bb-4752-b718-6ddeb8fb07bf",
   "metadata": {},
   "outputs": [
    {
     "data": {
      "text/plain": [
       "dtype('O')"
      ]
     },
     "execution_count": 56,
     "metadata": {},
     "output_type": "execute_result"
    }
   ],
   "source": [
    "df['leftmany_project'].dtype"
   ]
  },
  {
   "cell_type": "code",
   "execution_count": 57,
   "id": "f99be978-a745-4653-b297-5766806b7bda",
   "metadata": {},
   "outputs": [],
   "source": [
    "#combine columns \n",
    "df['project_name'] = df['ap_pjt_name'].astype(str) + \",\" + df['many_project'].astype(str) + \",\" + df['leftmany_project'].astype(str)"
   ]
  },
  {
   "cell_type": "code",
   "execution_count": 58,
   "id": "37b818a1-4cf9-4768-85db-aa5f664e5b21",
   "metadata": {},
   "outputs": [],
   "source": [
    "#keep if project_name is available else keep nan\n",
    "df['project_name'] = df['project_name'].apply(\n",
    "    lambda x: None if all(item.strip() == 'nan' for item in x.split(',')) \n",
    "    else next((item.strip() for item in x.split(',') if item.strip() not in ['nan', '']), None)\n",
    ")"
   ]
  },
  {
   "cell_type": "code",
   "execution_count": 59,
   "id": "8c37783c-bbba-4666-b624-c2f66e313fec",
   "metadata": {},
   "outputs": [],
   "source": [
    "#df14 = df[['id','url','name','price','md_address','builder','project_name']]\n",
    "\n",
    "#for observation make this excel\n",
    "#df14.to_excel('chk14.xlsx')"
   ]
  },
  {
   "cell_type": "code",
   "execution_count": 60,
   "id": "f92c2c6f-49f1-4c28-9629-bd87a7b79c95",
   "metadata": {},
   "outputs": [
    {
     "data": {
      "text/plain": [
       "0"
      ]
     },
     "execution_count": 60,
     "metadata": {},
     "output_type": "execute_result"
    }
   ],
   "source": [
    "#chk if any row have more than one value or not\n",
    "df['project_name'].str.contains(',', na=False).sum()"
   ]
  },
  {
   "cell_type": "code",
   "execution_count": 61,
   "id": "c111d64a-4594-45d5-b2b8-333ab013269e",
   "metadata": {},
   "outputs": [],
   "source": [
    "# Drop columns : 'ap_pjt_name','many_project','leftmany_project'\n",
    "df = df.drop(['ap_pjt_name','many_project','leftmany_project'],axis=1)"
   ]
  },
  {
   "cell_type": "code",
   "execution_count": 62,
   "id": "bc691183-6da5-4a78-8678-58e7a93e9ba1",
   "metadata": {},
   "outputs": [
    {
     "data": {
      "text/plain": [
       "dtype('O')"
      ]
     },
     "execution_count": 62,
     "metadata": {},
     "output_type": "execute_result"
    }
   ],
   "source": [
    "df['project_name'].dtype"
   ]
  },
  {
   "cell_type": "markdown",
   "id": "48bfab9f-4e5e-4e2c-8379-bb90f99c9ee2",
   "metadata": {},
   "source": [
    "# 3.5 furnish"
   ]
  },
  {
   "cell_type": "markdown",
   "id": "fe770e4d-1ab4-41d1-a147-0393743ffa99",
   "metadata": {},
   "source": [
    "#### Observation \n",
    "  - this many columns we have : 'md_furnishing','bb_unfurnished','many_furnished status','leftbb_unfurnished','leftmany_furnished status','bb_semi-furnished','leftbb_semi-furnished','bb_furnished','leftbb_furnished'\n",
    "  - Already dropped these columns as they were empty: ['bb_unfurnished', 'leftbb_unfurnished', 'bb_semi-furnished', 'leftbb_semi-furnished', 'bb_furnished', 'leftbb_furnished'].\n",
    "  - so now only to perform on this columns : ['md_furnishing','many_furnished status','leftmany_furnished status']\n",
    "  - combine them and keep only one value\n",
    "  - dtype is object"
   ]
  },
  {
   "cell_type": "code",
   "execution_count": 63,
   "id": "f74d3332-cab3-495e-b0e6-e5cac741bf84",
   "metadata": {},
   "outputs": [
    {
     "data": {
      "text/plain": [
       "0"
      ]
     },
     "execution_count": 63,
     "metadata": {},
     "output_type": "execute_result"
    }
   ],
   "source": [
    "#chk any ',' available before splitting in all this columns :'md_furnishing','many_furnished status','leftmany_furnished status'\n",
    "df['leftmany_furnished status'].str.contains(',', na=False).sum()"
   ]
  },
  {
   "cell_type": "code",
   "execution_count": 64,
   "id": "5d699efd-c2ab-4902-bf65-9e74356112f5",
   "metadata": {},
   "outputs": [],
   "source": [
    "#df15 = df[['ID','url','name','PRICE','MD_Furnishing','many_Furnished Status','leftmany_Furnished Status']]\n",
    "\n",
    "#for observation make this excel\n",
    "#df15.to_excel('chk15.xlsx')"
   ]
  },
  {
   "cell_type": "code",
   "execution_count": 65,
   "id": "63bb12ae-daeb-4556-b74d-d378d806a9e7",
   "metadata": {},
   "outputs": [],
   "source": [
    "#combine columns \n",
    "df['furnish'] = df['md_furnishing'].astype(str) + \",\" + df['many_furnished status'].astype(str) + \",\" + df['leftmany_furnished status'].astype(str)"
   ]
  },
  {
   "cell_type": "code",
   "execution_count": 66,
   "id": "0a954198-6a90-4b91-a7eb-a4a643d6a0d4",
   "metadata": {},
   "outputs": [],
   "source": [
    "#keep if furnish is available else keep nan\n",
    "df['furnish'] = df['furnish'].apply(\n",
    "    lambda x: None if all(item.strip() == 'nan' for item in x.split(',')) \n",
    "    else next((item.strip() for item in x.split(',') if item.strip() not in ['nan', '']), None)\n",
    ")"
   ]
  },
  {
   "cell_type": "code",
   "execution_count": 67,
   "id": "d603526a-1924-4783-bbf7-483d01444f25",
   "metadata": {},
   "outputs": [
    {
     "data": {
      "text/plain": [
       "furnish\n",
       "unfurnished       7553\n",
       "semi-furnished    3234\n",
       "furnished         1189\n",
       "Name: count, dtype: int64"
      ]
     },
     "execution_count": 67,
     "metadata": {},
     "output_type": "execute_result"
    }
   ],
   "source": [
    "df['furnish'].value_counts()"
   ]
  },
  {
   "cell_type": "code",
   "execution_count": 68,
   "id": "8f6b3e8d-1e96-4894-8df5-4767707cd84c",
   "metadata": {},
   "outputs": [
    {
     "data": {
      "text/plain": [
       "0"
      ]
     },
     "execution_count": 68,
     "metadata": {},
     "output_type": "execute_result"
    }
   ],
   "source": [
    "#chk if any row have more than one value or not\n",
    "df['furnish'].str.contains(',', na=False).sum()"
   ]
  },
  {
   "cell_type": "code",
   "execution_count": 69,
   "id": "1f96add0-d3c6-4e3f-a34a-ec48f6055bdf",
   "metadata": {},
   "outputs": [],
   "source": [
    "# Drop columns : ['MD_Furnishing','many_Furnished Status','leftmany_Furnished Status']\n",
    "df = df.drop(['md_furnishing','many_furnished status','leftmany_furnished status'],axis=1)"
   ]
  },
  {
   "cell_type": "code",
   "execution_count": 70,
   "id": "78368dc1-d711-428d-bb2f-b0691e816a92",
   "metadata": {},
   "outputs": [
    {
     "data": {
      "text/plain": [
       "dtype('O')"
      ]
     },
     "execution_count": 70,
     "metadata": {},
     "output_type": "execute_result"
    }
   ],
   "source": [
    "df['furnish'].dtype"
   ]
  },
  {
   "cell_type": "markdown",
   "id": "905ebf65-8de9-4969-bcd7-235674a7f653",
   "metadata": {},
   "source": [
    "# 3.6 price"
   ]
  },
  {
   "cell_type": "markdown",
   "id": "6e080c87-e927-4a3d-acda-a832e0c04e62",
   "metadata": {},
   "source": [
    "### Observation \n",
    "- some in Cr and some price in lakhs , have to convert all of them into cr\n",
    "- only Cr and Lac values in column\n",
    "- drop 'md_price breakup'\n",
    "- drop row where price is missing "
   ]
  },
  {
   "cell_type": "code",
   "execution_count": 71,
   "id": "550c540c-e50a-4414-8054-03e1f3222e5c",
   "metadata": {},
   "outputs": [
    {
     "data": {
      "text/plain": [
       "0    ₹1.80 cr\n",
       "1    ₹2.37 cr\n",
       "2    ₹1.80 cr\n",
       "3    ₹1.64 cr\n",
       "4    ₹1.26 cr\n",
       "Name: price, dtype: object"
      ]
     },
     "execution_count": 71,
     "metadata": {},
     "output_type": "execute_result"
    }
   ],
   "source": [
    "df['price'].head()"
   ]
  },
  {
   "cell_type": "code",
   "execution_count": 72,
   "id": "190eba34-ca6b-4d1a-a258-c93dee9dcf24",
   "metadata": {},
   "outputs": [],
   "source": [
    "#df['price'].value_counts()"
   ]
  },
  {
   "cell_type": "code",
   "execution_count": 73,
   "id": "af779fc5-28d6-40db-a529-9e2169903249",
   "metadata": {},
   "outputs": [],
   "source": [
    "#fetch price unit and actul_price is the price which is in Lac and cr \n",
    "df['price_unit'] = df['price'].str.split(' ').str[1]\n",
    "df['actual_price'] = df['price'].str.split(' ').str[0].str.replace('₹','').astype('float')"
   ]
  },
  {
   "cell_type": "code",
   "execution_count": 74,
   "id": "0402f545-bbea-4b5c-9663-d5b42032a8d7",
   "metadata": {},
   "outputs": [
    {
     "data": {
      "text/plain": [
       "price_unit\n",
       "cr     8740\n",
       "lac    3281\n",
       "Name: count, dtype: int64"
      ]
     },
     "execution_count": 74,
     "metadata": {},
     "output_type": "execute_result"
    }
   ],
   "source": [
    "df['price_unit'].value_counts()"
   ]
  },
  {
   "cell_type": "code",
   "execution_count": 75,
   "id": "906ffd7b-53a7-4b79-95e5-09688c409fe3",
   "metadata": {},
   "outputs": [],
   "source": [
    "#convert lac price into Cr\n",
    "df['f_price'] = df.apply(\n",
    "    lambda row: row['actual_price'] / 100 if row['price_unit'] == 'lac'\n",
    "    else row['actual_price'],\n",
    "    axis=1\n",
    ")"
   ]
  },
  {
   "cell_type": "code",
   "execution_count": 76,
   "id": "1577ff15-0d68-4524-a576-8875f7e8e6e5",
   "metadata": {},
   "outputs": [
    {
     "data": {
      "text/plain": [
       "0    1.80\n",
       "1    2.37\n",
       "2    1.80\n",
       "3    1.64\n",
       "4    1.26\n",
       "Name: f_price, dtype: float64"
      ]
     },
     "execution_count": 76,
     "metadata": {},
     "output_type": "execute_result"
    }
   ],
   "source": [
    "#f_price is in Cr\n",
    "df['f_price'].head()"
   ]
  },
  {
   "cell_type": "code",
   "execution_count": 77,
   "id": "de399fdc-bce0-46a8-8bde-af394a62b4c1",
   "metadata": {},
   "outputs": [],
   "source": [
    "#drop row where price is missing\n",
    "df = df.dropna(subset=['f_price'])"
   ]
  },
  {
   "cell_type": "code",
   "execution_count": 78,
   "id": "7ea15cd4-edfc-4aa5-99f5-551419c532f2",
   "metadata": {},
   "outputs": [
    {
     "data": {
      "text/plain": [
       "0"
      ]
     },
     "execution_count": 78,
     "metadata": {},
     "output_type": "execute_result"
    }
   ],
   "source": [
    "df['f_price'].isna().sum()"
   ]
  },
  {
   "cell_type": "code",
   "execution_count": 79,
   "id": "657c498d-f37e-4db1-9db7-1d33e995c713",
   "metadata": {},
   "outputs": [],
   "source": [
    "# Drop columns : 'price'\n",
    "df = df.drop(['price','price_unit','actual_price','md_price breakup'],axis=1)"
   ]
  },
  {
   "cell_type": "code",
   "execution_count": 80,
   "id": "785e3cf0-448f-476c-b112-f5ce8c1f3298",
   "metadata": {},
   "outputs": [],
   "source": [
    "df = df.rename(columns={'f_price':'price'})"
   ]
  },
  {
   "cell_type": "markdown",
   "id": "96e8cc9a-be1f-4fe7-a263-74c3b3f07dd4",
   "metadata": {},
   "source": [
    "# 3.7 carpet_area"
   ]
  },
  {
   "cell_type": "markdown",
   "id": "7481ca55-9a30-4a07-a7d4-a612a4c03df4",
   "metadata": {},
   "source": [
    "#### Observation  \n",
    "- The following columns are present: 'many_carpet area','leftmany_carpet area'.  \n",
    "- carpet area is mentioned in sqft,kanal and sqm .\n",
    "- create new column(carpet_area) for - Extract the initial numeric values else keep nan\n",
    "- convert capret_area into float\n",
    "- create new column(cost_per_sqft) for - rupees per area is also included at the end of each value,following the indian rupee symbol,extract that else keep nan\n",
    "- convert cost_per_sqft into float\n",
    "- create new column(area_unit) for - sqft,kanal and sqm are specified at the end of each value else keep nan\n",
    "- checked in excel : If value are present in 'many_carpet area', they are not present in the 'leftmany_carpet area' column at the same time."
   ]
  },
  {
   "cell_type": "code",
   "execution_count": 81,
   "id": "d88f7341-0f4f-49de-a4ed-13c808552917",
   "metadata": {},
   "outputs": [],
   "source": [
    "#combine_first Update null elements with value in the same location in other.\n",
    "df['area_work'] = df[\"many_carpet area\"].combine_first(df[\"leftmany_carpet area\"])"
   ]
  },
  {
   "cell_type": "code",
   "execution_count": 82,
   "id": "316f6893-f606-4b7e-acb3-66cd001cae50",
   "metadata": {},
   "outputs": [
    {
     "data": {
      "text/plain": [
       "0    635sqftsqftsqyrdsqmacrebighahectaremarlakanalbiswa1biswa2groundaankadamroodchatakkottahmarlacentperchgunthaarekathagajkillakuncham₹28,346/sqft\n",
       "1                                                                                                                                               NaN\n",
       "2    623sqftsqftsqyrdsqmacrebighahectaremarlakanalbiswa1biswa2groundaankadamroodchatakkottahmarlacentperchgunthaarekathagajkillakuncham₹28,892/sqft\n",
       "3    702sqftsqftsqyrdsqmacrebighahectaremarlakanalbiswa1biswa2groundaankadamroodchatakkottahmarlacentperchgunthaarekathagajkillakuncham₹23,500/sqft\n",
       "4    608sqftsqftsqyrdsqmacrebighahectaremarlakanalbiswa1biswa2groundaankadamroodchatakkottahmarlacentperchgunthaarekathagajkillakuncham₹20,724/sqft\n",
       "Name: area_work, dtype: object"
      ]
     },
     "execution_count": 82,
     "metadata": {},
     "output_type": "execute_result"
    }
   ],
   "source": [
    "df['area_work'].head(5)"
   ]
  },
  {
   "cell_type": "code",
   "execution_count": 83,
   "id": "3c6a77b5-1650-4f1d-b264-2a5041ae56d8",
   "metadata": {},
   "outputs": [],
   "source": [
    "#cross chk done \n",
    "# area column : Extract the initial numbers using a regex \n",
    "df[\"carpet_area\"] = df[\"area_work\"].apply(lambda x: float(re.match(r'([\\d,\\.]+)', x).group(1).replace(',', '')) if pd.notna(x) and re.match(r'^[\\d,\\.]+', x) else None)"
   ]
  },
  {
   "cell_type": "code",
   "execution_count": 84,
   "id": "33901f55-e69f-4ecb-8eb5-54d488098f48",
   "metadata": {},
   "outputs": [
    {
     "data": {
      "text/plain": [
       "0    635.0\n",
       "1      NaN\n",
       "2    623.0\n",
       "3    702.0\n",
       "4    608.0\n",
       "Name: carpet_area, dtype: float64"
      ]
     },
     "execution_count": 84,
     "metadata": {},
     "output_type": "execute_result"
    }
   ],
   "source": [
    "df['carpet_area'].head()"
   ]
  },
  {
   "cell_type": "code",
   "execution_count": 85,
   "id": "cdc63369-717e-4115-be2c-3059050c9267",
   "metadata": {},
   "outputs": [
    {
     "data": {
      "text/plain": [
       "dtype('float64')"
      ]
     },
     "execution_count": 85,
     "metadata": {},
     "output_type": "execute_result"
    }
   ],
   "source": [
    "df['carpet_area'].dtype"
   ]
  },
  {
   "cell_type": "code",
   "execution_count": 86,
   "id": "04365b84-e19d-4cf0-9788-0375f512e140",
   "metadata": {},
   "outputs": [
    {
     "data": {
      "text/plain": [
       "1868"
      ]
     },
     "execution_count": 86,
     "metadata": {},
     "output_type": "execute_result"
    }
   ],
   "source": [
    "df['carpet_area'].isna().sum()"
   ]
  },
  {
   "cell_type": "code",
   "execution_count": 87,
   "id": "6cefbd91-dd7e-4303-af7c-584452486613",
   "metadata": {},
   "outputs": [],
   "source": [
    "#cross chk done\n",
    "# area column : Extract the cost per sqft numbers using a regex \n",
    "df['cost_per_sqft'] = df['area_work'].str.extract(r'₹([\\d,\\.]+)')[0].str.replace(',', '').astype(float)"
   ]
  },
  {
   "cell_type": "code",
   "execution_count": 88,
   "id": "9b724d99-229a-4549-bd7b-2a4ec68611de",
   "metadata": {},
   "outputs": [
    {
     "data": {
      "text/plain": [
       "0    28346.0\n",
       "1        NaN\n",
       "2    28892.0\n",
       "3    23500.0\n",
       "4    20724.0\n",
       "Name: cost_per_sqft, dtype: float64"
      ]
     },
     "execution_count": 88,
     "metadata": {},
     "output_type": "execute_result"
    }
   ],
   "source": [
    "df['cost_per_sqft'].head()"
   ]
  },
  {
   "cell_type": "code",
   "execution_count": 89,
   "id": "c37bf3d9-4e4d-4c46-9323-bd842d36623d",
   "metadata": {},
   "outputs": [
    {
     "data": {
      "text/plain": [
       "dtype('float64')"
      ]
     },
     "execution_count": 89,
     "metadata": {},
     "output_type": "execute_result"
    }
   ],
   "source": [
    "df['cost_per_sqft'].dtype"
   ]
  },
  {
   "cell_type": "code",
   "execution_count": 90,
   "id": "1f679111-5216-493f-94b2-0968efc4631b",
   "metadata": {},
   "outputs": [
    {
     "data": {
      "text/plain": [
       "1869"
      ]
     },
     "execution_count": 90,
     "metadata": {},
     "output_type": "execute_result"
    }
   ],
   "source": [
    "df['cost_per_sqft'].isna().sum()"
   ]
  },
  {
   "cell_type": "code",
   "execution_count": 91,
   "id": "460f7c37-de13-4cac-ae96-d5a01bfb5a80",
   "metadata": {},
   "outputs": [],
   "source": [
    "#cross chk done\n",
    "#extract area_unit \n",
    "df['area_unit'] = df['area_work'].str.extract(r'/([^/]+)$')"
   ]
  },
  {
   "cell_type": "code",
   "execution_count": 92,
   "id": "a4ff78e4-75ae-4f9a-b92f-3d24bb0d37da",
   "metadata": {},
   "outputs": [
    {
     "data": {
      "text/plain": [
       "area_unit\n",
       "sqft     10147\n",
       "sqm          4\n",
       "kanal        1\n",
       "Name: count, dtype: int64"
      ]
     },
     "execution_count": 92,
     "metadata": {},
     "output_type": "execute_result"
    }
   ],
   "source": [
    "df['area_unit'].value_counts()"
   ]
  },
  {
   "cell_type": "code",
   "execution_count": 93,
   "id": "006a06ad-31af-43b9-81e7-eb36625cc896",
   "metadata": {},
   "outputs": [
    {
     "data": {
      "text/html": [
       "<div>\n",
       "<style scoped>\n",
       "    .dataframe tbody tr th:only-of-type {\n",
       "        vertical-align: middle;\n",
       "    }\n",
       "\n",
       "    .dataframe tbody tr th {\n",
       "        vertical-align: top;\n",
       "    }\n",
       "\n",
       "    .dataframe thead th {\n",
       "        text-align: right;\n",
       "    }\n",
       "</style>\n",
       "<table border=\"1\" class=\"dataframe\">\n",
       "  <thead>\n",
       "    <tr style=\"text-align: right;\">\n",
       "      <th></th>\n",
       "      <th>id</th>\n",
       "      <th>cost_per_sqft</th>\n",
       "    </tr>\n",
       "  </thead>\n",
       "  <tbody>\n",
       "    <tr>\n",
       "      <th>6348</th>\n",
       "      <td>cardid54247801</td>\n",
       "      <td>112879.0</td>\n",
       "    </tr>\n",
       "    <tr>\n",
       "      <th>7258</th>\n",
       "      <td>cardid53926103</td>\n",
       "      <td>28289.0</td>\n",
       "    </tr>\n",
       "    <tr>\n",
       "      <th>9178</th>\n",
       "      <td>cardid72980775</td>\n",
       "      <td>30488.0</td>\n",
       "    </tr>\n",
       "    <tr>\n",
       "      <th>10168</th>\n",
       "      <td>cardid59087581</td>\n",
       "      <td>117073.0</td>\n",
       "    </tr>\n",
       "  </tbody>\n",
       "</table>\n",
       "</div>"
      ],
      "text/plain": [
       "                   id  cost_per_sqft\n",
       "6348   cardid54247801       112879.0\n",
       "7258   cardid53926103        28289.0\n",
       "9178   cardid72980775        30488.0\n",
       "10168  cardid59087581       117073.0"
      ]
     },
     "execution_count": 93,
     "metadata": {},
     "output_type": "execute_result"
    }
   ],
   "source": [
    "df[df['area_unit']=='sqm'][['id','cost_per_sqft']]"
   ]
  },
  {
   "cell_type": "markdown",
   "id": "61c5f4bb-bc62-42b1-9b2e-a269ebd5aeb3",
   "metadata": {},
   "source": [
    "#### Observation \n",
    "- from above for sqm unit data, the cost per unit is very high 1,12,879 and if convert it into sqft then it comes in lakhs which is not correct\n",
    "- hence drop this 4 rows where unit of area is sqm\n",
    "- also only one row in kanal unit hence drop that also "
   ]
  },
  {
   "cell_type": "code",
   "execution_count": 94,
   "id": "4b1f2144-05f0-4c5c-a46a-9ea6678eac6c",
   "metadata": {},
   "outputs": [],
   "source": [
    "#drop rows where sqm and kanal is present\n",
    "df = df[~df['area_unit'].isin(['sqm', 'kanal'])]"
   ]
  },
  {
   "cell_type": "code",
   "execution_count": 95,
   "id": "043abe7c-5e45-4f1f-9d27-7574bed79152",
   "metadata": {},
   "outputs": [
    {
     "data": {
      "text/plain": [
       "area_unit\n",
       "sqft    10147\n",
       "Name: count, dtype: int64"
      ]
     },
     "execution_count": 95,
     "metadata": {},
     "output_type": "execute_result"
    }
   ],
   "source": [
    "df['area_unit'].value_counts()"
   ]
  },
  {
   "cell_type": "code",
   "execution_count": 96,
   "id": "d4984f40-0b02-412a-a68f-681919b7a035",
   "metadata": {},
   "outputs": [
    {
     "data": {
      "text/plain": [
       "(12016, 273)"
      ]
     },
     "execution_count": 96,
     "metadata": {},
     "output_type": "execute_result"
    }
   ],
   "source": [
    "df.shape"
   ]
  },
  {
   "cell_type": "code",
   "execution_count": 97,
   "id": "d27eacb4-bc55-4815-989d-7b1325eedd94",
   "metadata": {},
   "outputs": [
    {
     "data": {
      "text/plain": [
       "(1869, 273)"
      ]
     },
     "execution_count": 97,
     "metadata": {},
     "output_type": "execute_result"
    }
   ],
   "source": [
    "df[df['cost_per_sqft'].isna()].shape"
   ]
  },
  {
   "cell_type": "markdown",
   "id": "e2be2852-6950-43e5-8583-71cd340591e8",
   "metadata": {},
   "source": [
    "#### Observation \n",
    "\n",
    " - 1870 carpet area values are unavailable\n",
    " - from observation found out that the carpet area values which are missing for that corresponding this 'leftmany_super built-up area','many_super built-up area' column values are present\n",
    " - also when 'leftmany_super built-up area' values are present then its corresponding 'many_super built-up area' values are not present and vice versa\n",
    " - now this columns are super built up area and not the carpet area ,so have to convert them into carpet area as majority values i.e 10152 carpet area values are available\n"
   ]
  },
  {
   "cell_type": "code",
   "execution_count": 98,
   "id": "d1600b6d-48e6-4392-b5b6-651f06223bb3",
   "metadata": {},
   "outputs": [],
   "source": [
    "#combine_first Update null elements with value in the same location in other.\n",
    "df['super_build_area_work'] = df[\"leftmany_super built-up area\"].combine_first(df[\"many_super built-up area\"])"
   ]
  },
  {
   "cell_type": "code",
   "execution_count": 99,
   "id": "7f711108-9845-4482-84e1-7c012d003484",
   "metadata": {},
   "outputs": [
    {
     "data": {
      "text/plain": [
       "0                                                                                                                                                NaN\n",
       "1    1905sqftsqftsqyrdsqmacrebighahectaremarlakanalbiswa1biswa2groundaankadamroodchatakkottahmarlacentperchgunthaarekathagajkillakuncham₹12,441/sqft\n",
       "2                                                                                                                                                NaN\n",
       "3                                                                                                                                                NaN\n",
       "4                                                                                                                                                NaN\n",
       "Name: super_build_area_work, dtype: object"
      ]
     },
     "execution_count": 99,
     "metadata": {},
     "output_type": "execute_result"
    }
   ],
   "source": [
    "df['super_build_area_work'].head(5)"
   ]
  },
  {
   "cell_type": "markdown",
   "id": "58e5ae83-8c12-448e-9f21-7c606cb43375",
   "metadata": {},
   "source": [
    "### Observation\n",
    "- some super_build_area_work values have different units at the intial position and and the end"
   ]
  },
  {
   "cell_type": "code",
   "execution_count": 100,
   "id": "f9028075-ea77-427b-b7c1-2d9502260c27",
   "metadata": {},
   "outputs": [],
   "source": [
    "#chk the units after intial digits \n",
    "df['initial_unit'] = df['super_build_area_work'].apply(lambda x: ''.join([char for char in str(x)[re.match(r'\\d+', str(x)).end():] if char.isalpha()])[:4] if isinstance(x, str) else None)"
   ]
  },
  {
   "cell_type": "code",
   "execution_count": 101,
   "id": "e6e7691e-e0d0-4ec0-a266-385cb025bc51",
   "metadata": {},
   "outputs": [
    {
     "data": {
      "text/plain": [
       "initial_unit\n",
       "sqft    1833\n",
       "sqms       4\n",
       "sqyr       1\n",
       "Name: count, dtype: int64"
      ]
     },
     "execution_count": 101,
     "metadata": {},
     "output_type": "execute_result"
    }
   ],
   "source": [
    "df['initial_unit'].value_counts() "
   ]
  },
  {
   "cell_type": "code",
   "execution_count": 102,
   "id": "47d30eb4-8d3f-426f-92e5-9adf0482dc96",
   "metadata": {},
   "outputs": [],
   "source": [
    "#drop rows which has units : sqm and sqr (as there is only 5 rows) \n",
    "df = df[~df['initial_unit'].isin(['sqms', 'sqyr'])]"
   ]
  },
  {
   "cell_type": "code",
   "execution_count": 103,
   "id": "0d7c718e-5743-471d-9599-96684f9fd48a",
   "metadata": {},
   "outputs": [
    {
     "data": {
      "text/plain": [
       "initial_unit\n",
       "sqft    1833\n",
       "Name: count, dtype: int64"
      ]
     },
     "execution_count": 103,
     "metadata": {},
     "output_type": "execute_result"
    }
   ],
   "source": [
    "df['initial_unit'].value_counts() "
   ]
  },
  {
   "cell_type": "code",
   "execution_count": 104,
   "id": "73f2ae49-411e-4ac1-ac4f-d00f616a4cf4",
   "metadata": {},
   "outputs": [],
   "source": [
    "#cross chk done \n",
    "# area column : Extract the initial numbers using a regex \n",
    "df[\"super_build_up_area\"] = df[\"super_build_area_work\"].apply(lambda x: float(re.match(r'([\\d,\\.]+)', x).group(1).replace(',', '')) if pd.notna(x) and re.match(r'^[\\d,\\.]+', x) else None)"
   ]
  },
  {
   "cell_type": "code",
   "execution_count": 105,
   "id": "035a644f-8204-4f24-9d76-3af2a8434de8",
   "metadata": {},
   "outputs": [
    {
     "data": {
      "text/plain": [
       "0       NaN\n",
       "1    1905.0\n",
       "2       NaN\n",
       "3       NaN\n",
       "4       NaN\n",
       "Name: super_build_up_area, dtype: float64"
      ]
     },
     "execution_count": 105,
     "metadata": {},
     "output_type": "execute_result"
    }
   ],
   "source": [
    "df['super_build_up_area'].head()"
   ]
  },
  {
   "cell_type": "code",
   "execution_count": 106,
   "id": "e34642a9-8280-4634-aafa-4fdf53c7ed70",
   "metadata": {},
   "outputs": [
    {
     "data": {
      "text/plain": [
       "dtype('float64')"
      ]
     },
     "execution_count": 106,
     "metadata": {},
     "output_type": "execute_result"
    }
   ],
   "source": [
    "df['super_build_up_area'].dtype"
   ]
  },
  {
   "cell_type": "code",
   "execution_count": 107,
   "id": "3b527bdb-5d0e-4f35-ba1b-086b90fa8930",
   "metadata": {},
   "outputs": [
    {
     "data": {
      "text/plain": [
       "10178"
      ]
     },
     "execution_count": 107,
     "metadata": {},
     "output_type": "execute_result"
    }
   ],
   "source": [
    "df['super_build_up_area'].isna().sum()"
   ]
  },
  {
   "cell_type": "code",
   "execution_count": 108,
   "id": "53f673f9-47cb-4add-93d6-68f7efb4e5e8",
   "metadata": {},
   "outputs": [],
   "source": [
    "#cross chk done\n",
    "# area column : Extract the cost per sqft numbers using a regex \n",
    "df['super_build_up_cost_per_sqft'] = df['super_build_area_work'].str.extract(r'₹([\\d,\\.]+)')[0].str.replace(',', '').astype(float)"
   ]
  },
  {
   "cell_type": "code",
   "execution_count": 109,
   "id": "80c1bda0-a170-4e7e-8930-12c49bc7c5ae",
   "metadata": {},
   "outputs": [
    {
     "data": {
      "text/plain": [
       "0        NaN\n",
       "1    12441.0\n",
       "2        NaN\n",
       "3        NaN\n",
       "4        NaN\n",
       "Name: super_build_up_cost_per_sqft, dtype: float64"
      ]
     },
     "execution_count": 109,
     "metadata": {},
     "output_type": "execute_result"
    }
   ],
   "source": [
    "df['super_build_up_cost_per_sqft'].head()"
   ]
  },
  {
   "cell_type": "code",
   "execution_count": 110,
   "id": "479d827b-0869-4de1-ac0c-3b1215d1cb3a",
   "metadata": {},
   "outputs": [
    {
     "data": {
      "text/plain": [
       "dtype('float64')"
      ]
     },
     "execution_count": 110,
     "metadata": {},
     "output_type": "execute_result"
    }
   ],
   "source": [
    "df['super_build_up_cost_per_sqft'].dtype"
   ]
  },
  {
   "cell_type": "code",
   "execution_count": 111,
   "id": "a982164c-45af-4fca-87e0-09f9b4642c25",
   "metadata": {},
   "outputs": [
    {
     "data": {
      "text/plain": [
       "10178"
      ]
     },
     "execution_count": 111,
     "metadata": {},
     "output_type": "execute_result"
    }
   ],
   "source": [
    "df['super_build_up_cost_per_sqft'].isna().sum()"
   ]
  },
  {
   "cell_type": "code",
   "execution_count": 112,
   "id": "4f42ddec-2ae8-414c-a672-5a3dcce264ba",
   "metadata": {},
   "outputs": [],
   "source": [
    "#cross chk done\n",
    "#extract area_unit \n",
    "df['super_built_up_area_unit'] = df['super_build_area_work'].str.extract(r'/([^/]+)$')"
   ]
  },
  {
   "cell_type": "code",
   "execution_count": 113,
   "id": "85f829fe-2cce-47f7-9f2b-c8a13286f1aa",
   "metadata": {},
   "outputs": [
    {
     "data": {
      "text/plain": [
       "super_built_up_area_unit\n",
       "sqft    1833\n",
       "Name: count, dtype: int64"
      ]
     },
     "execution_count": 113,
     "metadata": {},
     "output_type": "execute_result"
    }
   ],
   "source": [
    "df['super_built_up_area_unit'].value_counts()"
   ]
  },
  {
   "cell_type": "markdown",
   "id": "5940431b-9ef8-4f00-9a8f-615aeb935b16",
   "metadata": {},
   "source": [
    "### Observation \n",
    "\n",
    " - now I make one column f_area only which has this both carpet_area and super_build_up_area\n",
    " - similarly I make one column f_costpersqft which has both this  cost_per_sqft and super_build_up_cost_per_sqft\n",
    " - combine super_built_up_area_unit and area_unit"
   ]
  },
  {
   "cell_type": "code",
   "execution_count": 114,
   "id": "9c901956-5388-40c2-90c2-b8bc9979164a",
   "metadata": {},
   "outputs": [],
   "source": [
    "#combine_first Update null elements with value in the same location in other.\n",
    "df['f_area'] = df[\"carpet_area\"].combine_first(df[\"super_build_up_area\"])"
   ]
  },
  {
   "cell_type": "code",
   "execution_count": 115,
   "id": "0d22db89-83fc-4909-b325-f3962048974b",
   "metadata": {},
   "outputs": [],
   "source": [
    "#combine_first Update null elements with value in the same location in other.\n",
    "df['f_costpersqft'] = df[\"cost_per_sqft\"].combine_first(df[\"super_build_up_cost_per_sqft\"])"
   ]
  },
  {
   "cell_type": "code",
   "execution_count": 116,
   "id": "87b7f378-bdc6-47c1-88f6-88b3448fb6ee",
   "metadata": {},
   "outputs": [],
   "source": [
    "#combine_first Update null elements with value in the same location in other.\n",
    "df['f_area_unit'] = df[\"super_built_up_area_unit\"].combine_first(df[\"area_unit\"])"
   ]
  },
  {
   "cell_type": "code",
   "execution_count": 117,
   "id": "0503c1b3-c618-4161-b52d-d4fb7f983932",
   "metadata": {},
   "outputs": [],
   "source": [
    "df['f_area'] = df['f_area'].astype('float')\n",
    "df['f_costpersqft'] = df['f_costpersqft'].astype('float')"
   ]
  },
  {
   "cell_type": "code",
   "execution_count": 118,
   "id": "08b1e54c-dab3-483d-9b8f-ff5a0bab4320",
   "metadata": {},
   "outputs": [
    {
     "data": {
      "text/plain": [
       "30"
      ]
     },
     "execution_count": 118,
     "metadata": {},
     "output_type": "execute_result"
    }
   ],
   "source": [
    "df['f_area'].isna().sum()"
   ]
  },
  {
   "cell_type": "code",
   "execution_count": 119,
   "id": "0f11bbf1-bfb8-445b-adb2-41ef5a306c72",
   "metadata": {},
   "outputs": [
    {
     "data": {
      "text/plain": [
       "31"
      ]
     },
     "execution_count": 119,
     "metadata": {},
     "output_type": "execute_result"
    }
   ],
   "source": [
    "df['f_costpersqft'].isna().sum()"
   ]
  },
  {
   "cell_type": "code",
   "execution_count": 120,
   "id": "718da7d4-4b73-45bd-a7c2-648b14c09371",
   "metadata": {},
   "outputs": [
    {
     "data": {
      "text/plain": [
       "f_area_unit\n",
       "sqft    11980\n",
       "Name: count, dtype: int64"
      ]
     },
     "execution_count": 120,
     "metadata": {},
     "output_type": "execute_result"
    }
   ],
   "source": [
    "df['f_area_unit'].value_counts()"
   ]
  },
  {
   "cell_type": "markdown",
   "id": "51978a71-3c8e-4e12-b371-600217dea129",
   "metadata": {},
   "source": [
    "### Observation:\n",
    "\n",
    "- the 32 flats f_area and f_costpersqft data not available\n",
    "- But in the Area column there is sqft data ,after cross check the data is correct for that rows "
   ]
  },
  {
   "cell_type": "code",
   "execution_count": 121,
   "id": "f2911ba9-df7d-48fb-92a9-1961621b0017",
   "metadata": {},
   "outputs": [],
   "source": [
    "df['dupli_f_area'] = np.where(\n",
    "    pd.isna(df['f_area']) & pd.notna(df['area']),\n",
    "    df['area'].str.extract(r'([\\d,\\.]+)')[0].str.replace(',', '').astype(float),\n",
    "    None\n",
    ")"
   ]
  },
  {
   "cell_type": "code",
   "execution_count": 122,
   "id": "05f08abc-b89d-4407-8b70-130636321917",
   "metadata": {},
   "outputs": [
    {
     "data": {
      "text/plain": [
       "dupli_f_area\n",
       "4200.0    2\n",
       "1000.0    2\n",
       "1340.0    1\n",
       "1400.0    1\n",
       "3000.0    1\n",
       "1442.0    1\n",
       "1600.0    1\n",
       "1258.0    1\n",
       "740.0     1\n",
       "1950.0    1\n",
       "1412.0    1\n",
       "500.0     1\n",
       "760.0     1\n",
       "1665.0    1\n",
       "2700.0    1\n",
       "1175.0    1\n",
       "2356.0    1\n",
       "3100.0    1\n",
       "2675.0    1\n",
       "533.0     1\n",
       "2600.0    1\n",
       "992.0     1\n",
       "1580.0    1\n",
       "Name: count, dtype: int64"
      ]
     },
     "execution_count": 122,
     "metadata": {},
     "output_type": "execute_result"
    }
   ],
   "source": [
    "df['dupli_f_area'].value_counts()"
   ]
  },
  {
   "cell_type": "code",
   "execution_count": 123,
   "id": "86d46b5b-1999-43df-9478-1be621470195",
   "metadata": {},
   "outputs": [
    {
     "data": {
      "text/plain": [
       "25"
      ]
     },
     "execution_count": 123,
     "metadata": {},
     "output_type": "execute_result"
    }
   ],
   "source": [
    "df['dupli_f_area'].value_counts().sum()"
   ]
  },
  {
   "cell_type": "code",
   "execution_count": 124,
   "id": "72b0cb0b-26a2-4e51-8a81-1104bfd6c1f3",
   "metadata": {},
   "outputs": [
    {
     "data": {
      "text/plain": [
       "dtype('O')"
      ]
     },
     "execution_count": 124,
     "metadata": {},
     "output_type": "execute_result"
    }
   ],
   "source": [
    "df['dupli_f_area'].dtype"
   ]
  },
  {
   "cell_type": "code",
   "execution_count": 125,
   "id": "e3667ef2-e6f4-47ef-b769-1698adae79d3",
   "metadata": {},
   "outputs": [],
   "source": [
    "df['dupli_f_area_unit'] = np.where(\n",
    "    pd.isna(df['f_area']) & pd.notna(df['area']),\n",
    "    df['area'].str.extract(r'([a-zA-Z\\-]+)$')[0],\n",
    "    None\n",
    ")"
   ]
  },
  {
   "cell_type": "code",
   "execution_count": 126,
   "id": "751b5ad4-25dd-4f33-9c33-04e3e5dffdf5",
   "metadata": {},
   "outputs": [
    {
     "data": {
      "text/plain": [
       "dupli_f_area_unit\n",
       "sq-ft    25\n",
       "Name: count, dtype: int64"
      ]
     },
     "execution_count": 126,
     "metadata": {},
     "output_type": "execute_result"
    }
   ],
   "source": [
    "#exp\n",
    "df['dupli_f_area_unit'].value_counts()"
   ]
  },
  {
   "cell_type": "code",
   "execution_count": 127,
   "id": "e5f7ac6b-fcc9-4fea-bb59-0e8339f5118d",
   "metadata": {},
   "outputs": [
    {
     "data": {
      "text/plain": [
       "dtype('O')"
      ]
     },
     "execution_count": 127,
     "metadata": {},
     "output_type": "execute_result"
    }
   ],
   "source": [
    "df['dupli_f_area_unit'].dtype"
   ]
  },
  {
   "cell_type": "code",
   "execution_count": 128,
   "id": "476b4de8-67f7-48ae-a037-04c97ab63dd6",
   "metadata": {},
   "outputs": [],
   "source": [
    "df['dupli_price'] = df.apply(\n",
    "    lambda row: row['price'] * (10**7) if pd.isna(row['f_area']) and pd.notna(row['area'])\n",
    "    else None,\n",
    "    axis=1\n",
    ")"
   ]
  },
  {
   "cell_type": "code",
   "execution_count": 129,
   "id": "50d677e5-b38d-42e8-8d17-44f89e9c0dae",
   "metadata": {},
   "outputs": [
    {
     "data": {
      "text/plain": [
       "25"
      ]
     },
     "execution_count": 129,
     "metadata": {},
     "output_type": "execute_result"
    }
   ],
   "source": [
    "df['dupli_price'].value_counts().sum()"
   ]
  },
  {
   "cell_type": "code",
   "execution_count": 130,
   "id": "4bde0bae-e3ca-47aa-ac75-10dbed60c0a6",
   "metadata": {},
   "outputs": [],
   "source": [
    "df['dupli_costpersqft'] = np.round(df['dupli_price'].astype('float') / df['dupli_f_area'].astype('float'), 2)"
   ]
  },
  {
   "cell_type": "code",
   "execution_count": 131,
   "id": "50ebf17d-78c3-4c2d-a41b-ffcfd30acd7f",
   "metadata": {},
   "outputs": [
    {
     "data": {
      "text/plain": [
       "dupli_costpersqft\n",
       "14328.36     1\n",
       "17763.16     1\n",
       "128500.00    1\n",
       "52011.10     1\n",
       "41250.00     1\n",
       "66136.72     1\n",
       "30945.95     1\n",
       "50000.00     1\n",
       "66005.67     1\n",
       "20000.00     1\n",
       "32142.86     1\n",
       "57057.06     1\n",
       "25740.74     1\n",
       "48000.00     1\n",
       "32000.00     1\n",
       "33191.49     1\n",
       "25254.67     1\n",
       "48387.10     1\n",
       "63551.40     1\n",
       "14071.29     1\n",
       "100000.00    1\n",
       "42307.69     1\n",
       "90476.19     1\n",
       "11088.71     1\n",
       "39240.51     1\n",
       "Name: count, dtype: int64"
      ]
     },
     "execution_count": 131,
     "metadata": {},
     "output_type": "execute_result"
    }
   ],
   "source": [
    "df['dupli_costpersqft'].value_counts()"
   ]
  },
  {
   "cell_type": "code",
   "execution_count": 132,
   "id": "81945742-364c-4a3c-abb0-bd44727ca293",
   "metadata": {},
   "outputs": [],
   "source": [
    "def update_values(df, update_cols, using_cols):\n",
    "    for update_col, using_col in zip(update_cols, using_cols):\n",
    "        df[update_col] = np.where(\n",
    "            pd.isna(df['f_area']) & pd.notna(df['area']),\n",
    "            df[using_col],\n",
    "            df[update_col]\n",
    "        )\n",
    "    return df\n",
    "\n",
    "# Define columns to update and corresponding columns to use\n",
    "columns_to_update = ['f_costpersqft', 'f_area_unit', 'f_area']\n",
    "using_columns = ['dupli_costpersqft', 'dupli_f_area_unit', 'dupli_f_area']\n",
    "\n",
    "# Update the DataFrame\n",
    "df = update_values(df, columns_to_update, using_columns)"
   ]
  },
  {
   "cell_type": "code",
   "execution_count": 133,
   "id": "6de1a6be-a152-4a9d-b8d3-cf3b6f10d815",
   "metadata": {},
   "outputs": [],
   "source": [
    "# Drop columns : 'many_Carpet Area','leftmany_Carpet Area','leftmany_Super Built-up Area','many_Super Built-up Area','Area' \n",
    "df = df.drop(['many_carpet area','leftmany_carpet area','leftmany_super built-up area','many_super built-up area','area'],axis=1)"
   ]
  },
  {
   "cell_type": "code",
   "execution_count": 134,
   "id": "66567673-3e28-40c9-9ec8-aedd7edccc9a",
   "metadata": {},
   "outputs": [],
   "source": [
    "# Drop columns : 'area_work','carpet_area','cost_per_sqft','area_unit','super_build_area_work','super_build_up_area','super_build_up_cost_per_sqft','super_built_up_area_unit','dupli_f_area','dupli_f_area_unit','dupli_price','dupli_costpersqft'\n",
    "df = df.drop(['area_work','carpet_area','cost_per_sqft','area_unit','initial_unit','super_build_area_work','super_build_up_area','super_build_up_cost_per_sqft','super_built_up_area_unit','dupli_f_area','dupli_f_area_unit','dupli_price','dupli_costpersqft','f_area_unit'],axis=1)\n"
   ]
  },
  {
   "cell_type": "code",
   "execution_count": 135,
   "id": "ae2d7e15-d7a4-4837-86c1-95a5c03f2892",
   "metadata": {},
   "outputs": [
    {
     "data": {
      "text/html": [
       "<div>\n",
       "<style scoped>\n",
       "    .dataframe tbody tr th:only-of-type {\n",
       "        vertical-align: middle;\n",
       "    }\n",
       "\n",
       "    .dataframe tbody tr th {\n",
       "        vertical-align: top;\n",
       "    }\n",
       "\n",
       "    .dataframe thead th {\n",
       "        text-align: right;\n",
       "    }\n",
       "</style>\n",
       "<table border=\"1\" class=\"dataframe\">\n",
       "  <thead>\n",
       "    <tr style=\"text-align: right;\">\n",
       "      <th></th>\n",
       "      <th>id</th>\n",
       "      <th>@type</th>\n",
       "      <th>@id</th>\n",
       "      <th>url</th>\n",
       "      <th>numberofrooms</th>\n",
       "      <th>image</th>\n",
       "      <th>name</th>\n",
       "      <th>geo</th>\n",
       "      <th>potentialaction</th>\n",
       "      <th>address</th>\n",
       "      <th>...</th>\n",
       "      <th>am_12553</th>\n",
       "      <th>3 bhk penthouse</th>\n",
       "      <th>bath</th>\n",
       "      <th>parking</th>\n",
       "      <th>builder</th>\n",
       "      <th>project_name</th>\n",
       "      <th>furnish</th>\n",
       "      <th>price</th>\n",
       "      <th>f_area</th>\n",
       "      <th>f_costpersqft</th>\n",
       "    </tr>\n",
       "  </thead>\n",
       "  <tbody>\n",
       "    <tr>\n",
       "      <th>0</th>\n",
       "      <td>cardid69429251</td>\n",
       "      <td>apartment</td>\n",
       "      <td>https://www.magicbricks.com/propertydetails/2-bhk-635-sq-ft-multistorey-apartment-for-sale-pokhran-road-in-thane&amp;id=4d423639343239323531</td>\n",
       "      <td>https://www.magicbricks.com/propertydetails/2-bhk-635-sq-ft-multistorey-apartment-for-sale-pokhran-road-in-thane&amp;id=4d423639343239323531</td>\n",
       "      <td>2.0</td>\n",
       "      <td>https://img.staticmb.com/mbimages/project/photo_h310_w462/2023/04/14/project-photo-6-raymond-realty-ten-x-habitat-thane-5124557_1200_1600_310_462.jpg</td>\n",
       "      <td>2 bhk flat  for sale in  tenx habitat raymond realty, pokhran road, thane</td>\n",
       "      <td>{'@type': 'geocoordinates', 'latitude': '19.20777713', 'longitude': '72.96747907'}</td>\n",
       "      <td>{'@type': 'buyaction', 'seller': {'@type': 'organization', 'name': 'raymond realty'}}</td>\n",
       "      <td>{'@type': 'postaladdress', 'addresslocality': 'pokhran road', 'addressregion': 'thane', 'addresscountry': 'in'}</td>\n",
       "      <td>...</td>\n",
       "      <td>NaN</td>\n",
       "      <td>NaN</td>\n",
       "      <td>2.0</td>\n",
       "      <td>1.0</td>\n",
       "      <td>raymond realty</td>\n",
       "      <td>tenx habitat raymond realty</td>\n",
       "      <td>unfurnished</td>\n",
       "      <td>1.80</td>\n",
       "      <td>635.0</td>\n",
       "      <td>28346.0</td>\n",
       "    </tr>\n",
       "    <tr>\n",
       "      <th>1</th>\n",
       "      <td>cardid69427147</td>\n",
       "      <td>apartment</td>\n",
       "      <td>https://www.magicbricks.com/propertydetails/3-bhk-1905-sq-ft-multistorey-apartment-for-sale-kharghar-in-navi-mumbai&amp;id=4d423639343237313437</td>\n",
       "      <td>https://www.magicbricks.com/propertydetails/3-bhk-1905-sq-ft-multistorey-apartment-for-sale-kharghar-in-navi-mumbai&amp;id=4d423639343237313437</td>\n",
       "      <td>3.0</td>\n",
       "      <td>https://img.staticmb.com/mbimages/project/photo_h310_w462/project-photo-28-sai-world-empire-navi-mumbai-5088768_600_800_310_462.jpg</td>\n",
       "      <td>3 bhk flat  for sale in  paradise sai world empire, kharghar, navi mumbai</td>\n",
       "      <td>{'@type': 'geocoordinates', 'latitude': '19.08060457', 'longitude': '73.07393855'}</td>\n",
       "      <td>{'@type': 'buyaction', 'seller': {'@type': 'realestateagent', 'name': 'aristo real estate consultants'}}</td>\n",
       "      <td>{'@type': 'postaladdress', 'addresslocality': 'kharghar', 'addressregion': 'navi mumbai', 'addresscountry': 'in'}</td>\n",
       "      <td>...</td>\n",
       "      <td>NaN</td>\n",
       "      <td>NaN</td>\n",
       "      <td>3.0</td>\n",
       "      <td>1.0</td>\n",
       "      <td>paradise group</td>\n",
       "      <td>paradise sai world empire</td>\n",
       "      <td>unfurnished</td>\n",
       "      <td>2.37</td>\n",
       "      <td>1905.0</td>\n",
       "      <td>12441.0</td>\n",
       "    </tr>\n",
       "  </tbody>\n",
       "</table>\n",
       "<p>2 rows × 266 columns</p>\n",
       "</div>"
      ],
      "text/plain": [
       "               id      @type  \\\n",
       "0  cardid69429251  apartment   \n",
       "1  cardid69427147  apartment   \n",
       "\n",
       "                                                                                                                                           @id  \\\n",
       "0     https://www.magicbricks.com/propertydetails/2-bhk-635-sq-ft-multistorey-apartment-for-sale-pokhran-road-in-thane&id=4d423639343239323531   \n",
       "1  https://www.magicbricks.com/propertydetails/3-bhk-1905-sq-ft-multistorey-apartment-for-sale-kharghar-in-navi-mumbai&id=4d423639343237313437   \n",
       "\n",
       "                                                                                                                                           url  \\\n",
       "0     https://www.magicbricks.com/propertydetails/2-bhk-635-sq-ft-multistorey-apartment-for-sale-pokhran-road-in-thane&id=4d423639343239323531   \n",
       "1  https://www.magicbricks.com/propertydetails/3-bhk-1905-sq-ft-multistorey-apartment-for-sale-kharghar-in-navi-mumbai&id=4d423639343237313437   \n",
       "\n",
       "   numberofrooms  \\\n",
       "0            2.0   \n",
       "1            3.0   \n",
       "\n",
       "                                                                                                                                                   image  \\\n",
       "0  https://img.staticmb.com/mbimages/project/photo_h310_w462/2023/04/14/project-photo-6-raymond-realty-ten-x-habitat-thane-5124557_1200_1600_310_462.jpg   \n",
       "1                    https://img.staticmb.com/mbimages/project/photo_h310_w462/project-photo-28-sai-world-empire-navi-mumbai-5088768_600_800_310_462.jpg   \n",
       "\n",
       "                                                                        name  \\\n",
       "0  2 bhk flat  for sale in  tenx habitat raymond realty, pokhran road, thane   \n",
       "1  3 bhk flat  for sale in  paradise sai world empire, kharghar, navi mumbai   \n",
       "\n",
       "                                                                                  geo  \\\n",
       "0  {'@type': 'geocoordinates', 'latitude': '19.20777713', 'longitude': '72.96747907'}   \n",
       "1  {'@type': 'geocoordinates', 'latitude': '19.08060457', 'longitude': '73.07393855'}   \n",
       "\n",
       "                                                                                            potentialaction  \\\n",
       "0                     {'@type': 'buyaction', 'seller': {'@type': 'organization', 'name': 'raymond realty'}}   \n",
       "1  {'@type': 'buyaction', 'seller': {'@type': 'realestateagent', 'name': 'aristo real estate consultants'}}   \n",
       "\n",
       "                                                                                                             address  \\\n",
       "0    {'@type': 'postaladdress', 'addresslocality': 'pokhran road', 'addressregion': 'thane', 'addresscountry': 'in'}   \n",
       "1  {'@type': 'postaladdress', 'addresslocality': 'kharghar', 'addressregion': 'navi mumbai', 'addresscountry': 'in'}   \n",
       "\n",
       "   ... am_12553 3 bhk penthouse bath parking         builder  \\\n",
       "0  ...      NaN             NaN  2.0     1.0  raymond realty   \n",
       "1  ...      NaN             NaN  3.0     1.0  paradise group   \n",
       "\n",
       "                  project_name      furnish price  f_area f_costpersqft  \n",
       "0  tenx habitat raymond realty  unfurnished  1.80   635.0       28346.0  \n",
       "1    paradise sai world empire  unfurnished  2.37  1905.0       12441.0  \n",
       "\n",
       "[2 rows x 266 columns]"
      ]
     },
     "execution_count": 135,
     "metadata": {},
     "output_type": "execute_result"
    }
   ],
   "source": [
    "df.head(2)"
   ]
  },
  {
   "cell_type": "code",
   "execution_count": 136,
   "id": "6155e567-5ac2-409d-bc0d-10bf144a9875",
   "metadata": {},
   "outputs": [],
   "source": [
    "#df41 = df[['ID','url','name','f_area','f_costpersqft','price','f_area_unit']]\n",
    "\n",
    "#for observation make this excel\n",
    "\n",
    "#df41.to_excel('chk41.xlsx')"
   ]
  },
  {
   "cell_type": "markdown",
   "id": "93799d64-f5ac-4dcb-893a-6b938d2ff496",
   "metadata": {},
   "source": [
    "### Obsevation\n",
    "- on excel I have done this \n",
    "(f_Area * f_costpersqft)/10000000 from this I got price of the flat and I compare this with the actual price of theflat which is price and I found some properties khave cosiderable difference \n",
    "- note that I have chk that all in sqft only \n",
    "- so that properties ID is below \n",
    "'cardid70615879','cardid69687711','cardid71143703','cardid72821117','cardid66762427','cardid72819785'"
   ]
  },
  {
   "cell_type": "code",
   "execution_count": 137,
   "id": "bd298518-d6db-493f-aa49-945973d7918d",
   "metadata": {},
   "outputs": [
    {
     "data": {
      "text/plain": [
       "(12011, 266)"
      ]
     },
     "execution_count": 137,
     "metadata": {},
     "output_type": "execute_result"
    }
   ],
   "source": [
    "df.shape"
   ]
  },
  {
   "cell_type": "code",
   "execution_count": 138,
   "id": "3884ab30-60ef-47da-91f9-5d43350f3198",
   "metadata": {},
   "outputs": [
    {
     "data": {
      "text/plain": [
       "0     635.0\n",
       "1    1905.0\n",
       "2     623.0\n",
       "3     702.0\n",
       "4     608.0\n",
       "Name: f_area, dtype: object"
      ]
     },
     "execution_count": 138,
     "metadata": {},
     "output_type": "execute_result"
    }
   ],
   "source": [
    "df['f_area'].head()"
   ]
  },
  {
   "cell_type": "code",
   "execution_count": 139,
   "id": "86c4504f-667e-444d-99d4-4a960b8d40a4",
   "metadata": {},
   "outputs": [
    {
     "data": {
      "text/plain": [
       "0    1.80\n",
       "1    2.37\n",
       "2    1.80\n",
       "3    1.64\n",
       "4    1.26\n",
       "Name: price, dtype: float64"
      ]
     },
     "execution_count": 139,
     "metadata": {},
     "output_type": "execute_result"
    }
   ],
   "source": [
    "df['price'].head()"
   ]
  },
  {
   "cell_type": "code",
   "execution_count": 140,
   "id": "1ca65659-77f5-4b19-9a72-627be8b4d3fa",
   "metadata": {},
   "outputs": [
    {
     "data": {
      "image/png": "[encoded data removed]",
      "text/plain": [
       "<Figure size 640x480 with 1 Axes>"
      ]
     },
     "metadata": {},
     "output_type": "display_data"
    }
   ],
   "source": [
    "import seaborn as sns\n",
    "import matplotlib.pyplot as plt\n",
    "\n",
    "# Example\n",
    "sns.scatterplot(x=df['f_area'], y=df['price'])\n",
    "plt.xlabel('Floor Area')\n",
    "plt.ylabel('Price')\n",
    "plt.title('Scatterplot of Floor Area vs Price')\n",
    "plt.show()"
   ]
  },
  {
   "cell_type": "markdown",
   "id": "c89d61ae-8d1e-476a-832b-1f6e4308aeb1",
   "metadata": {},
   "source": [
    "# property_type : New property, Resale, Rent, Other"
   ]
  },
  {
   "cell_type": "markdown",
   "id": "57f6054b-a406-4ff0-9933-c355ba2f6601",
   "metadata": {},
   "source": [
    "### Observation\n",
    "-  have this columns -> 'many_transaction type','leftmany_transaction type'\n",
    "-  when 'many_Transaction type' values are present then its corresponding 'leftmany_Transaction type' values are not present and vice versa"
   ]
  },
  {
   "cell_type": "code",
   "execution_count": 141,
   "id": "222d02ce-a76a-4179-9d4b-a59fe17af74c",
   "metadata": {},
   "outputs": [
    {
     "data": {
      "text/html": [
       "<div>\n",
       "<style scoped>\n",
       "    .dataframe tbody tr th:only-of-type {\n",
       "        vertical-align: middle;\n",
       "    }\n",
       "\n",
       "    .dataframe tbody tr th {\n",
       "        vertical-align: top;\n",
       "    }\n",
       "\n",
       "    .dataframe thead th {\n",
       "        text-align: right;\n",
       "    }\n",
       "</style>\n",
       "<table border=\"1\" class=\"dataframe\">\n",
       "  <thead>\n",
       "    <tr style=\"text-align: right;\">\n",
       "      <th></th>\n",
       "      <th>many_transaction type</th>\n",
       "      <th>leftmany_transaction type</th>\n",
       "    </tr>\n",
       "  </thead>\n",
       "  <tbody>\n",
       "    <tr>\n",
       "      <th>0</th>\n",
       "      <td>new property</td>\n",
       "      <td>NaN</td>\n",
       "    </tr>\n",
       "    <tr>\n",
       "      <th>1</th>\n",
       "      <td>NaN</td>\n",
       "      <td>new property</td>\n",
       "    </tr>\n",
       "    <tr>\n",
       "      <th>2</th>\n",
       "      <td>new property</td>\n",
       "      <td>NaN</td>\n",
       "    </tr>\n",
       "    <tr>\n",
       "      <th>3</th>\n",
       "      <td>new property</td>\n",
       "      <td>NaN</td>\n",
       "    </tr>\n",
       "    <tr>\n",
       "      <th>4</th>\n",
       "      <td>new property</td>\n",
       "      <td>NaN</td>\n",
       "    </tr>\n",
       "  </tbody>\n",
       "</table>\n",
       "</div>"
      ],
      "text/plain": [
       "  many_transaction type leftmany_transaction type\n",
       "0          new property                       NaN\n",
       "1                   NaN              new property\n",
       "2          new property                       NaN\n",
       "3          new property                       NaN\n",
       "4          new property                       NaN"
      ]
     },
     "execution_count": 141,
     "metadata": {},
     "output_type": "execute_result"
    }
   ],
   "source": [
    "df[['many_transaction type','leftmany_transaction type']].head()"
   ]
  },
  {
   "cell_type": "code",
   "execution_count": 142,
   "id": "f3a71ea0-b933-4866-9d3b-30236e8cd8e5",
   "metadata": {},
   "outputs": [],
   "source": [
    "#combine_first Update null elements with value in the same location in other.\n",
    "df['property_type'] = df[\"many_transaction type\"].combine_first(df[\"leftmany_transaction type\"])"
   ]
  },
  {
   "cell_type": "code",
   "execution_count": 143,
   "id": "c05d43c7-8fc1-4b6b-afe3-2474073fae62",
   "metadata": {},
   "outputs": [
    {
     "data": {
      "text/plain": [
       "property_type\n",
       "resale          6823\n",
       "new property    5177\n",
       "other              7\n",
       "rent               1\n",
       "Name: count, dtype: int64"
      ]
     },
     "execution_count": 143,
     "metadata": {},
     "output_type": "execute_result"
    }
   ],
   "source": [
    "df['property_type'].value_counts()"
   ]
  },
  {
   "cell_type": "code",
   "execution_count": 144,
   "id": "6d3cad99-31a1-4536-aabc-c7ea7041139b",
   "metadata": {},
   "outputs": [
    {
     "data": {
      "text/plain": [
       "3"
      ]
     },
     "execution_count": 144,
     "metadata": {},
     "output_type": "execute_result"
    }
   ],
   "source": [
    "df['property_type'].isna().sum()"
   ]
  },
  {
   "cell_type": "code",
   "execution_count": 145,
   "id": "624801fd-bf73-4c53-b76d-8f15bf456072",
   "metadata": {},
   "outputs": [],
   "source": [
    "df = df[~df['property_type'].isin(['other', 'rent'])]"
   ]
  },
  {
   "cell_type": "code",
   "execution_count": 146,
   "id": "445e1169-3c99-49bb-b1a9-e7007d9c332d",
   "metadata": {},
   "outputs": [],
   "source": [
    "# Drop columns : 'many_Transaction type','leftmany_Transaction type'\n",
    "df = df.drop(['many_transaction type','leftmany_transaction type'],axis=1)"
   ]
  },
  {
   "cell_type": "code",
   "execution_count": 147,
   "id": "8a049e95-15d4-4ab1-88c2-6ffcfcbaf169",
   "metadata": {},
   "outputs": [
    {
     "data": {
      "text/html": [
       "<div>\n",
       "<style scoped>\n",
       "    .dataframe tbody tr th:only-of-type {\n",
       "        vertical-align: middle;\n",
       "    }\n",
       "\n",
       "    .dataframe tbody tr th {\n",
       "        vertical-align: top;\n",
       "    }\n",
       "\n",
       "    .dataframe thead th {\n",
       "        text-align: right;\n",
       "    }\n",
       "</style>\n",
       "<table border=\"1\" class=\"dataframe\">\n",
       "  <thead>\n",
       "    <tr style=\"text-align: right;\">\n",
       "      <th></th>\n",
       "      <th>id</th>\n",
       "      <th>@type</th>\n",
       "      <th>@id</th>\n",
       "      <th>url</th>\n",
       "      <th>numberofrooms</th>\n",
       "      <th>image</th>\n",
       "      <th>name</th>\n",
       "      <th>geo</th>\n",
       "      <th>potentialaction</th>\n",
       "      <th>address</th>\n",
       "      <th>...</th>\n",
       "      <th>3 bhk penthouse</th>\n",
       "      <th>bath</th>\n",
       "      <th>parking</th>\n",
       "      <th>builder</th>\n",
       "      <th>project_name</th>\n",
       "      <th>furnish</th>\n",
       "      <th>price</th>\n",
       "      <th>f_area</th>\n",
       "      <th>f_costpersqft</th>\n",
       "      <th>property_type</th>\n",
       "    </tr>\n",
       "  </thead>\n",
       "  <tbody>\n",
       "    <tr>\n",
       "      <th>0</th>\n",
       "      <td>cardid69429251</td>\n",
       "      <td>apartment</td>\n",
       "      <td>https://www.magicbricks.com/propertydetails/2-bhk-635-sq-ft-multistorey-apartment-for-sale-pokhran-road-in-thane&amp;id=4d423639343239323531</td>\n",
       "      <td>https://www.magicbricks.com/propertydetails/2-bhk-635-sq-ft-multistorey-apartment-for-sale-pokhran-road-in-thane&amp;id=4d423639343239323531</td>\n",
       "      <td>2.0</td>\n",
       "      <td>https://img.staticmb.com/mbimages/project/photo_h310_w462/2023/04/14/project-photo-6-raymond-realty-ten-x-habitat-thane-5124557_1200_1600_310_462.jpg</td>\n",
       "      <td>2 bhk flat  for sale in  tenx habitat raymond realty, pokhran road, thane</td>\n",
       "      <td>{'@type': 'geocoordinates', 'latitude': '19.20777713', 'longitude': '72.96747907'}</td>\n",
       "      <td>{'@type': 'buyaction', 'seller': {'@type': 'organization', 'name': 'raymond realty'}}</td>\n",
       "      <td>{'@type': 'postaladdress', 'addresslocality': 'pokhran road', 'addressregion': 'thane', 'addresscountry': 'in'}</td>\n",
       "      <td>...</td>\n",
       "      <td>NaN</td>\n",
       "      <td>2.0</td>\n",
       "      <td>1.0</td>\n",
       "      <td>raymond realty</td>\n",
       "      <td>tenx habitat raymond realty</td>\n",
       "      <td>unfurnished</td>\n",
       "      <td>1.80</td>\n",
       "      <td>635.0</td>\n",
       "      <td>28346.0</td>\n",
       "      <td>new property</td>\n",
       "    </tr>\n",
       "    <tr>\n",
       "      <th>1</th>\n",
       "      <td>cardid69427147</td>\n",
       "      <td>apartment</td>\n",
       "      <td>https://www.magicbricks.com/propertydetails/3-bhk-1905-sq-ft-multistorey-apartment-for-sale-kharghar-in-navi-mumbai&amp;id=4d423639343237313437</td>\n",
       "      <td>https://www.magicbricks.com/propertydetails/3-bhk-1905-sq-ft-multistorey-apartment-for-sale-kharghar-in-navi-mumbai&amp;id=4d423639343237313437</td>\n",
       "      <td>3.0</td>\n",
       "      <td>https://img.staticmb.com/mbimages/project/photo_h310_w462/project-photo-28-sai-world-empire-navi-mumbai-5088768_600_800_310_462.jpg</td>\n",
       "      <td>3 bhk flat  for sale in  paradise sai world empire, kharghar, navi mumbai</td>\n",
       "      <td>{'@type': 'geocoordinates', 'latitude': '19.08060457', 'longitude': '73.07393855'}</td>\n",
       "      <td>{'@type': 'buyaction', 'seller': {'@type': 'realestateagent', 'name': 'aristo real estate consultants'}}</td>\n",
       "      <td>{'@type': 'postaladdress', 'addresslocality': 'kharghar', 'addressregion': 'navi mumbai', 'addresscountry': 'in'}</td>\n",
       "      <td>...</td>\n",
       "      <td>NaN</td>\n",
       "      <td>3.0</td>\n",
       "      <td>1.0</td>\n",
       "      <td>paradise group</td>\n",
       "      <td>paradise sai world empire</td>\n",
       "      <td>unfurnished</td>\n",
       "      <td>2.37</td>\n",
       "      <td>1905.0</td>\n",
       "      <td>12441.0</td>\n",
       "      <td>new property</td>\n",
       "    </tr>\n",
       "  </tbody>\n",
       "</table>\n",
       "<p>2 rows × 265 columns</p>\n",
       "</div>"
      ],
      "text/plain": [
       "               id      @type  \\\n",
       "0  cardid69429251  apartment   \n",
       "1  cardid69427147  apartment   \n",
       "\n",
       "                                                                                                                                           @id  \\\n",
       "0     https://www.magicbricks.com/propertydetails/2-bhk-635-sq-ft-multistorey-apartment-for-sale-pokhran-road-in-thane&id=4d423639343239323531   \n",
       "1  https://www.magicbricks.com/propertydetails/3-bhk-1905-sq-ft-multistorey-apartment-for-sale-kharghar-in-navi-mumbai&id=4d423639343237313437   \n",
       "\n",
       "                                                                                                                                           url  \\\n",
       "0     https://www.magicbricks.com/propertydetails/2-bhk-635-sq-ft-multistorey-apartment-for-sale-pokhran-road-in-thane&id=4d423639343239323531   \n",
       "1  https://www.magicbricks.com/propertydetails/3-bhk-1905-sq-ft-multistorey-apartment-for-sale-kharghar-in-navi-mumbai&id=4d423639343237313437   \n",
       "\n",
       "   numberofrooms  \\\n",
       "0            2.0   \n",
       "1            3.0   \n",
       "\n",
       "                                                                                                                                                   image  \\\n",
       "0  https://img.staticmb.com/mbimages/project/photo_h310_w462/2023/04/14/project-photo-6-raymond-realty-ten-x-habitat-thane-5124557_1200_1600_310_462.jpg   \n",
       "1                    https://img.staticmb.com/mbimages/project/photo_h310_w462/project-photo-28-sai-world-empire-navi-mumbai-5088768_600_800_310_462.jpg   \n",
       "\n",
       "                                                                        name  \\\n",
       "0  2 bhk flat  for sale in  tenx habitat raymond realty, pokhran road, thane   \n",
       "1  3 bhk flat  for sale in  paradise sai world empire, kharghar, navi mumbai   \n",
       "\n",
       "                                                                                  geo  \\\n",
       "0  {'@type': 'geocoordinates', 'latitude': '19.20777713', 'longitude': '72.96747907'}   \n",
       "1  {'@type': 'geocoordinates', 'latitude': '19.08060457', 'longitude': '73.07393855'}   \n",
       "\n",
       "                                                                                            potentialaction  \\\n",
       "0                     {'@type': 'buyaction', 'seller': {'@type': 'organization', 'name': 'raymond realty'}}   \n",
       "1  {'@type': 'buyaction', 'seller': {'@type': 'realestateagent', 'name': 'aristo real estate consultants'}}   \n",
       "\n",
       "                                                                                                             address  \\\n",
       "0    {'@type': 'postaladdress', 'addresslocality': 'pokhran road', 'addressregion': 'thane', 'addresscountry': 'in'}   \n",
       "1  {'@type': 'postaladdress', 'addresslocality': 'kharghar', 'addressregion': 'navi mumbai', 'addresscountry': 'in'}   \n",
       "\n",
       "   ... 3 bhk penthouse bath parking         builder  \\\n",
       "0  ...             NaN  2.0     1.0  raymond realty   \n",
       "1  ...             NaN  3.0     1.0  paradise group   \n",
       "\n",
       "                  project_name      furnish price  f_area f_costpersqft  \\\n",
       "0  tenx habitat raymond realty  unfurnished  1.80   635.0       28346.0   \n",
       "1    paradise sai world empire  unfurnished  2.37  1905.0       12441.0   \n",
       "\n",
       "  property_type  \n",
       "0  new property  \n",
       "1  new property  \n",
       "\n",
       "[2 rows x 265 columns]"
      ]
     },
     "execution_count": 147,
     "metadata": {},
     "output_type": "execute_result"
    }
   ],
   "source": [
    "df.head(2)"
   ]
  },
  {
   "cell_type": "code",
   "execution_count": 148,
   "id": "246ea3a7-322a-4be4-b4fd-6fdd410d2fa4",
   "metadata": {},
   "outputs": [
    {
     "data": {
      "text/plain": [
       "(12003, 265)"
      ]
     },
     "execution_count": 148,
     "metadata": {},
     "output_type": "execute_result"
    }
   ],
   "source": [
    "df.shape"
   ]
  },
  {
   "cell_type": "markdown",
   "id": "b7cfa176-9212-428d-af97-4a9c4a0fda3b",
   "metadata": {},
   "source": [
    "# ownership"
   ]
  },
  {
   "cell_type": "markdown",
   "id": "27b58a53-76be-4731-bf41-cd3adde1c02d",
   "metadata": {},
   "source": [
    "### Observation\n",
    "-  columns:  'md_type of ownership', 'many_type of ownership' ,'leftmany_type of ownership'\n",
    "-  the values which are present in the 'md_type of ownership' column at the corresponding place values present in the 'many_type of ownership' and 'leftmany_type of ownership' also hence drop both this 'many_type of ownership' ,'leftmany_type of ownership' columns\n",
    "\n",
    "1. **Freehold**: The owner has complete ownership of the property and the land it stands on, with no time limit. They can sell, transfer, or modify it without restrictions.\n",
    "\n",
    "2. **Co-operative Society**: Ownership is collective. Residents form a society, and members own shares in it, giving them the right to reside in a unit but not outright ownership of the property.\n",
    "\n",
    "3. **Leasehold**: The property is leased for a specific period (e.g., 99 years). Ownership remains with the lessor, and the lessee pays rent or a lease fee.\n",
    "\n",
    "4. **Power of Attorney (POA)**: A legal authorization that allows an individual to act on behalf of the property owner. It’s often used for property transactions but doesn't equate to ownership."
   ]
  },
  {
   "cell_type": "code",
   "execution_count": 149,
   "id": "4b9cad79-ed6a-494a-9d59-278b7ae890cd",
   "metadata": {},
   "outputs": [
    {
     "data": {
      "text/plain": [
       "md_type of ownership\n",
       "freehold                5952\n",
       "co-operative society    2044\n",
       "leasehold                317\n",
       "power of attorney         28\n",
       "Name: count, dtype: int64"
      ]
     },
     "execution_count": 149,
     "metadata": {},
     "output_type": "execute_result"
    }
   ],
   "source": [
    "df['md_type of ownership'].value_counts()"
   ]
  },
  {
   "cell_type": "code",
   "execution_count": 150,
   "id": "5c64cc52-4526-41dd-a76e-27925585e45c",
   "metadata": {},
   "outputs": [],
   "source": [
    "df = df.rename(columns={'md_type of ownership': 'ownership'})"
   ]
  },
  {
   "cell_type": "code",
   "execution_count": 151,
   "id": "b2cd8238-3622-4e7e-98b4-360025fe0332",
   "metadata": {},
   "outputs": [],
   "source": [
    "# Drop columns : 'many_type of ownership' ,'leftmany_type of ownership'\n",
    "df = df.drop(['many_type of ownership' ,'leftmany_type of ownership'],axis=1)"
   ]
  },
  {
   "cell_type": "markdown",
   "id": "bf0c8088-5f25-4607-99f1-7b58f89f7563",
   "metadata": {},
   "source": [
    "# status"
   ]
  },
  {
   "cell_type": "markdown",
   "id": "67a5370e-8158-471e-8b97-f22f9d4c5f27",
   "metadata": {},
   "source": [
    "### Observation\n",
    "-  columns: 'many_status', 'leftmany_status'\n",
    "-  when 'many_status' values are present then its corresponding 'leftmany_status' values are not present and vice versa"
   ]
  },
  {
   "cell_type": "code",
   "execution_count": 152,
   "id": "1b075460-613e-41bc-bf1c-9b34df21a777",
   "metadata": {},
   "outputs": [],
   "source": [
    "#combine_first Update null elements with value in the same location in other.\n",
    "df['status'] = df['many_status'].combine_first(df['leftmany_status'])"
   ]
  },
  {
   "cell_type": "code",
   "execution_count": 153,
   "id": "bd2fb27b-5d4f-4a40-8bf2-d835097d3fca",
   "metadata": {},
   "outputs": [
    {
     "data": {
      "text/plain": [
       "status\n",
       "ready to move         7349\n",
       "under construction     589\n",
       "ongoing                  3\n",
       "Name: count, dtype: int64"
      ]
     },
     "execution_count": 153,
     "metadata": {},
     "output_type": "execute_result"
    }
   ],
   "source": [
    "df['status'].value_counts()"
   ]
  },
  {
   "cell_type": "code",
   "execution_count": 154,
   "id": "2ac32b09-e9d8-427c-8a03-9b56371944c3",
   "metadata": {},
   "outputs": [],
   "source": [
    "df['status'] = df['status'].str.lower()"
   ]
  },
  {
   "cell_type": "code",
   "execution_count": 155,
   "id": "6b77cb59-f35d-4698-98d3-77b44a0f6171",
   "metadata": {},
   "outputs": [
    {
     "data": {
      "text/plain": [
       "status\n",
       "ready to move         7349\n",
       "under construction     589\n",
       "ongoing                  3\n",
       "Name: count, dtype: int64"
      ]
     },
     "execution_count": 155,
     "metadata": {},
     "output_type": "execute_result"
    }
   ],
   "source": [
    "df['status'].value_counts()"
   ]
  },
  {
   "cell_type": "code",
   "execution_count": 156,
   "id": "483c2c6b-56e2-48da-8065-1bb6b1952180",
   "metadata": {},
   "outputs": [
    {
     "data": {
      "text/html": [
       "<div>\n",
       "<style scoped>\n",
       "    .dataframe tbody tr th:only-of-type {\n",
       "        vertical-align: middle;\n",
       "    }\n",
       "\n",
       "    .dataframe tbody tr th {\n",
       "        vertical-align: top;\n",
       "    }\n",
       "\n",
       "    .dataframe thead th {\n",
       "        text-align: right;\n",
       "    }\n",
       "</style>\n",
       "<table border=\"1\" class=\"dataframe\">\n",
       "  <thead>\n",
       "    <tr style=\"text-align: right;\">\n",
       "      <th></th>\n",
       "      <th>id</th>\n",
       "      <th>@type</th>\n",
       "      <th>@id</th>\n",
       "      <th>url</th>\n",
       "      <th>numberofrooms</th>\n",
       "      <th>image</th>\n",
       "      <th>name</th>\n",
       "      <th>geo</th>\n",
       "      <th>potentialaction</th>\n",
       "      <th>address</th>\n",
       "      <th>...</th>\n",
       "      <th>bath</th>\n",
       "      <th>parking</th>\n",
       "      <th>builder</th>\n",
       "      <th>project_name</th>\n",
       "      <th>furnish</th>\n",
       "      <th>price</th>\n",
       "      <th>f_area</th>\n",
       "      <th>f_costpersqft</th>\n",
       "      <th>property_type</th>\n",
       "      <th>status</th>\n",
       "    </tr>\n",
       "  </thead>\n",
       "  <tbody>\n",
       "    <tr>\n",
       "      <th>0</th>\n",
       "      <td>cardid69429251</td>\n",
       "      <td>apartment</td>\n",
       "      <td>https://www.magicbricks.com/propertydetails/2-bhk-635-sq-ft-multistorey-apartment-for-sale-pokhran-road-in-thane&amp;id=4d423639343239323531</td>\n",
       "      <td>https://www.magicbricks.com/propertydetails/2-bhk-635-sq-ft-multistorey-apartment-for-sale-pokhran-road-in-thane&amp;id=4d423639343239323531</td>\n",
       "      <td>2.0</td>\n",
       "      <td>https://img.staticmb.com/mbimages/project/photo_h310_w462/2023/04/14/project-photo-6-raymond-realty-ten-x-habitat-thane-5124557_1200_1600_310_462.jpg</td>\n",
       "      <td>2 bhk flat  for sale in  tenx habitat raymond realty, pokhran road, thane</td>\n",
       "      <td>{'@type': 'geocoordinates', 'latitude': '19.20777713', 'longitude': '72.96747907'}</td>\n",
       "      <td>{'@type': 'buyaction', 'seller': {'@type': 'organization', 'name': 'raymond realty'}}</td>\n",
       "      <td>{'@type': 'postaladdress', 'addresslocality': 'pokhran road', 'addressregion': 'thane', 'addresscountry': 'in'}</td>\n",
       "      <td>...</td>\n",
       "      <td>2.0</td>\n",
       "      <td>1.0</td>\n",
       "      <td>raymond realty</td>\n",
       "      <td>tenx habitat raymond realty</td>\n",
       "      <td>unfurnished</td>\n",
       "      <td>1.80</td>\n",
       "      <td>635.0</td>\n",
       "      <td>28346.0</td>\n",
       "      <td>new property</td>\n",
       "      <td>under construction</td>\n",
       "    </tr>\n",
       "    <tr>\n",
       "      <th>1</th>\n",
       "      <td>cardid69427147</td>\n",
       "      <td>apartment</td>\n",
       "      <td>https://www.magicbricks.com/propertydetails/3-bhk-1905-sq-ft-multistorey-apartment-for-sale-kharghar-in-navi-mumbai&amp;id=4d423639343237313437</td>\n",
       "      <td>https://www.magicbricks.com/propertydetails/3-bhk-1905-sq-ft-multistorey-apartment-for-sale-kharghar-in-navi-mumbai&amp;id=4d423639343237313437</td>\n",
       "      <td>3.0</td>\n",
       "      <td>https://img.staticmb.com/mbimages/project/photo_h310_w462/project-photo-28-sai-world-empire-navi-mumbai-5088768_600_800_310_462.jpg</td>\n",
       "      <td>3 bhk flat  for sale in  paradise sai world empire, kharghar, navi mumbai</td>\n",
       "      <td>{'@type': 'geocoordinates', 'latitude': '19.08060457', 'longitude': '73.07393855'}</td>\n",
       "      <td>{'@type': 'buyaction', 'seller': {'@type': 'realestateagent', 'name': 'aristo real estate consultants'}}</td>\n",
       "      <td>{'@type': 'postaladdress', 'addresslocality': 'kharghar', 'addressregion': 'navi mumbai', 'addresscountry': 'in'}</td>\n",
       "      <td>...</td>\n",
       "      <td>3.0</td>\n",
       "      <td>1.0</td>\n",
       "      <td>paradise group</td>\n",
       "      <td>paradise sai world empire</td>\n",
       "      <td>unfurnished</td>\n",
       "      <td>2.37</td>\n",
       "      <td>1905.0</td>\n",
       "      <td>12441.0</td>\n",
       "      <td>new property</td>\n",
       "      <td>under construction</td>\n",
       "    </tr>\n",
       "  </tbody>\n",
       "</table>\n",
       "<p>2 rows × 264 columns</p>\n",
       "</div>"
      ],
      "text/plain": [
       "               id      @type  \\\n",
       "0  cardid69429251  apartment   \n",
       "1  cardid69427147  apartment   \n",
       "\n",
       "                                                                                                                                           @id  \\\n",
       "0     https://www.magicbricks.com/propertydetails/2-bhk-635-sq-ft-multistorey-apartment-for-sale-pokhran-road-in-thane&id=4d423639343239323531   \n",
       "1  https://www.magicbricks.com/propertydetails/3-bhk-1905-sq-ft-multistorey-apartment-for-sale-kharghar-in-navi-mumbai&id=4d423639343237313437   \n",
       "\n",
       "                                                                                                                                           url  \\\n",
       "0     https://www.magicbricks.com/propertydetails/2-bhk-635-sq-ft-multistorey-apartment-for-sale-pokhran-road-in-thane&id=4d423639343239323531   \n",
       "1  https://www.magicbricks.com/propertydetails/3-bhk-1905-sq-ft-multistorey-apartment-for-sale-kharghar-in-navi-mumbai&id=4d423639343237313437   \n",
       "\n",
       "   numberofrooms  \\\n",
       "0            2.0   \n",
       "1            3.0   \n",
       "\n",
       "                                                                                                                                                   image  \\\n",
       "0  https://img.staticmb.com/mbimages/project/photo_h310_w462/2023/04/14/project-photo-6-raymond-realty-ten-x-habitat-thane-5124557_1200_1600_310_462.jpg   \n",
       "1                    https://img.staticmb.com/mbimages/project/photo_h310_w462/project-photo-28-sai-world-empire-navi-mumbai-5088768_600_800_310_462.jpg   \n",
       "\n",
       "                                                                        name  \\\n",
       "0  2 bhk flat  for sale in  tenx habitat raymond realty, pokhran road, thane   \n",
       "1  3 bhk flat  for sale in  paradise sai world empire, kharghar, navi mumbai   \n",
       "\n",
       "                                                                                  geo  \\\n",
       "0  {'@type': 'geocoordinates', 'latitude': '19.20777713', 'longitude': '72.96747907'}   \n",
       "1  {'@type': 'geocoordinates', 'latitude': '19.08060457', 'longitude': '73.07393855'}   \n",
       "\n",
       "                                                                                            potentialaction  \\\n",
       "0                     {'@type': 'buyaction', 'seller': {'@type': 'organization', 'name': 'raymond realty'}}   \n",
       "1  {'@type': 'buyaction', 'seller': {'@type': 'realestateagent', 'name': 'aristo real estate consultants'}}   \n",
       "\n",
       "                                                                                                             address  \\\n",
       "0    {'@type': 'postaladdress', 'addresslocality': 'pokhran road', 'addressregion': 'thane', 'addresscountry': 'in'}   \n",
       "1  {'@type': 'postaladdress', 'addresslocality': 'kharghar', 'addressregion': 'navi mumbai', 'addresscountry': 'in'}   \n",
       "\n",
       "   ... bath parking         builder                 project_name      furnish  \\\n",
       "0  ...  2.0     1.0  raymond realty  tenx habitat raymond realty  unfurnished   \n",
       "1  ...  3.0     1.0  paradise group    paradise sai world empire  unfurnished   \n",
       "\n",
       "  price  f_area f_costpersqft property_type              status  \n",
       "0  1.80   635.0       28346.0  new property  under construction  \n",
       "1  2.37  1905.0       12441.0  new property  under construction  \n",
       "\n",
       "[2 rows x 264 columns]"
      ]
     },
     "execution_count": 156,
     "metadata": {},
     "output_type": "execute_result"
    }
   ],
   "source": [
    "df.head(2)"
   ]
  },
  {
   "cell_type": "code",
   "execution_count": 157,
   "id": "15263f4f-0127-4c23-9a72-24b2826360c7",
   "metadata": {},
   "outputs": [],
   "source": [
    "# Drop columns : 'many_Status', 'leftmany_Status'\n",
    "df = df.drop(['many_status', 'leftmany_status'],axis=1)"
   ]
  },
  {
   "cell_type": "markdown",
   "id": "7eb1ac8d-d320-4360-977d-49ccbd523ecb",
   "metadata": {},
   "source": [
    "# lift"
   ]
  },
  {
   "cell_type": "markdown",
   "id": "38b7daae-46dd-4e25-b9ae-fdabae95ea91",
   "metadata": {},
   "source": [
    "### Observation\n",
    "- columns: 'many_lifts','md_lift','leftmany_lifts','many_lift','leftmany_lift'\n",
    "- combine and keep one value else nan"
   ]
  },
  {
   "cell_type": "code",
   "execution_count": 158,
   "id": "4b0793f3-8e65-49ac-8faf-ba55e84b9a7f",
   "metadata": {},
   "outputs": [],
   "source": [
    "# Combine values\n",
    "df['lift'] = [list(values) for values in zip(df['many_lifts'], df['md_lift'], df['leftmany_lifts'], df['many_lift'], df['leftmany_lift'])]"
   ]
  },
  {
   "cell_type": "code",
   "execution_count": 159,
   "id": "111b2ddf-c11e-474b-a456-a55fc89d33b5",
   "metadata": {},
   "outputs": [],
   "source": [
    "df['lift'] = df['lift'].apply(lambda row: next((val for val in row if not np.isnan(val)), None))"
   ]
  },
  {
   "cell_type": "code",
   "execution_count": 160,
   "id": "a6abb6c6-1882-42ad-aba8-a9e277ac4e99",
   "metadata": {},
   "outputs": [
    {
     "data": {
      "text/plain": [
       "lift\n",
       "2.0     2393\n",
       "3.0     1334\n",
       "4.0     1139\n",
       "1.0      631\n",
       "5.0      385\n",
       "6.0      306\n",
       "8.0       85\n",
       "7.0       78\n",
       "10.0      69\n",
       "9.0       56\n",
       "Name: count, dtype: int64"
      ]
     },
     "execution_count": 160,
     "metadata": {},
     "output_type": "execute_result"
    }
   ],
   "source": [
    "df['lift'].value_counts()"
   ]
  },
  {
   "cell_type": "code",
   "execution_count": 161,
   "id": "6c176a99-9ee8-49d6-9d13-6cb383eb996d",
   "metadata": {},
   "outputs": [
    {
     "data": {
      "text/plain": [
       "5527"
      ]
     },
     "execution_count": 161,
     "metadata": {},
     "output_type": "execute_result"
    }
   ],
   "source": [
    "df['lift'].isna().sum()"
   ]
  },
  {
   "cell_type": "code",
   "execution_count": 162,
   "id": "15489695-3267-484b-9326-accb94f788a3",
   "metadata": {},
   "outputs": [
    {
     "data": {
      "text/plain": [
       "dtype('float64')"
      ]
     },
     "execution_count": 162,
     "metadata": {},
     "output_type": "execute_result"
    }
   ],
   "source": [
    "df['lift'].dtype"
   ]
  },
  {
   "cell_type": "code",
   "execution_count": 163,
   "id": "613e1983-c4b2-4540-86b7-fd70893f0478",
   "metadata": {},
   "outputs": [],
   "source": [
    "# Drop columns : 'many_lifts','md_lift','leftmany_lifts','many_lift','leftmany_lift'\n",
    "df = df.drop(['many_lifts','md_lift','leftmany_lifts','many_lift','leftmany_lift'],axis=1)"
   ]
  },
  {
   "cell_type": "code",
   "execution_count": 164,
   "id": "7648760f-0afe-4b39-a9ac-718c6a400b82",
   "metadata": {},
   "outputs": [
    {
     "data": {
      "text/plain": [
       "(12003, 258)"
      ]
     },
     "execution_count": 164,
     "metadata": {},
     "output_type": "execute_result"
    }
   ],
   "source": [
    "df.shape"
   ]
  },
  {
   "cell_type": "markdown",
   "id": "1eb6361b-f891-410a-b317-514a64207ea9",
   "metadata": {},
   "source": [
    "# floor"
   ]
  },
  {
   "cell_type": "markdown",
   "id": "002ea2c4-6389-4964-b702-114499058454",
   "metadata": {},
   "source": [
    "### Observation\n",
    "\n",
    "- columns: 'aboutpjt_total floors', 'aboutpjt_total floors', 'md_floors allowed for construction','many_floor', 'leftmany_floor'\n",
    "- from column 'md_floors allowed for construction','many_floor', 'leftmany_floor': get how many floor building has\n",
    "- when 'many_floor' values are present then its corresponding 'leftmany_floor' values are not present and vice versa\n",
    "- from 'many_floor', 'leftmany_floor': get flat is on which floor\n",
    "- drop 'aboutpjt_total floors' column as it is wrong information"
   ]
  },
  {
   "cell_type": "code",
   "execution_count": 165,
   "id": "019ac090-3747-4ffa-8e39-11e3b95f2d55",
   "metadata": {},
   "outputs": [],
   "source": [
    "#combine_first Update null elements with value in the same location in other.\n",
    "df['floor_work_1'] = df['many_floor'].combine_first(df['leftmany_floor'])"
   ]
  },
  {
   "cell_type": "code",
   "execution_count": 166,
   "id": "abbba6e0-eac0-4008-b2be-0f6be72b9260",
   "metadata": {},
   "outputs": [],
   "source": [
    "df['floor_work_1'] = df['floor_work_1'].astype('str') "
   ]
  },
  {
   "cell_type": "code",
   "execution_count": 167,
   "id": "1cbff389-0c5e-4c4d-a647-2b7d491ddb85",
   "metadata": {},
   "outputs": [],
   "source": [
    "df['flat_on_floor'] = df['floor_work_1'].apply(\n",
    "    lambda x: x.split('(')[0].strip() if '(' in str(x) else None\n",
    ")\n"
   ]
  },
  {
   "cell_type": "code",
   "execution_count": 168,
   "id": "1434face-9ca8-47f1-845e-8c42676b3aed",
   "metadata": {},
   "outputs": [
    {
     "data": {
      "text/plain": [
       "2308"
      ]
     },
     "execution_count": 168,
     "metadata": {},
     "output_type": "execute_result"
    }
   ],
   "source": [
    "df['flat_on_floor'].isna().sum()"
   ]
  },
  {
   "cell_type": "code",
   "execution_count": 169,
   "id": "7e851873-753b-46e1-952e-83e1b836581c",
   "metadata": {},
   "outputs": [],
   "source": [
    "df['total_floor'] = df['floor_work_1'].apply(\n",
    "    lambda x: x.split('(')[1].strip() if '(' in str(x) else None\n",
    ")"
   ]
  },
  {
   "cell_type": "code",
   "execution_count": 170,
   "id": "f5e77d42-1b42-484d-a0b3-f977a61bf01a",
   "metadata": {},
   "outputs": [
    {
     "data": {
      "text/plain": [
       "2308"
      ]
     },
     "execution_count": 170,
     "metadata": {},
     "output_type": "execute_result"
    }
   ],
   "source": [
    "df['total_floor'].isna().sum()"
   ]
  },
  {
   "cell_type": "code",
   "execution_count": 171,
   "id": "5317e265-dce6-42a6-8f19-190ce153d03b",
   "metadata": {},
   "outputs": [],
   "source": [
    "df['total_floor'] = df['total_floor'].str.extract(r'(\\d+)').astype(float)"
   ]
  },
  {
   "cell_type": "code",
   "execution_count": 172,
   "id": "2e27fb6b-395e-47a2-a9a8-6a71a09ae694",
   "metadata": {},
   "outputs": [
    {
     "data": {
      "text/plain": [
       "total_floor\n",
       "7.0     1030\n",
       "4.0      577\n",
       "22.0     534\n",
       "20.0     366\n",
       "23.0     324\n",
       "14.0     317\n",
       "15.0     305\n",
       "8.0      284\n",
       "12.0     278\n",
       "16.0     270\n",
       "21.0     257\n",
       "3.0      249\n",
       "18.0     230\n",
       "5.0      223\n",
       "30.0     222\n",
       "40.0     215\n",
       "13.0     206\n",
       "6.0      202\n",
       "17.0     166\n",
       "9.0      149\n",
       "36.0     146\n",
       "10.0     144\n",
       "35.0     144\n",
       "24.0     141\n",
       "19.0     134\n",
       "27.0     132\n",
       "25.0     131\n",
       "28.0     130\n",
       "11.0     123\n",
       "45.0     123\n",
       "29.0     118\n",
       "50.0     115\n",
       "42.0      97\n",
       "31.0      95\n",
       "33.0      94\n",
       "32.0      89\n",
       "37.0      83\n",
       "38.0      81\n",
       "34.0      76\n",
       "60.0      75\n",
       "39.0      75\n",
       "26.0      67\n",
       "2.0       51\n",
       "41.0      48\n",
       "61.0      47\n",
       "44.0      46\n",
       "51.0      45\n",
       "46.0      44\n",
       "55.0      41\n",
       "43.0      38\n",
       "47.0      36\n",
       "49.0      35\n",
       "48.0      30\n",
       "65.0      29\n",
       "78.0      28\n",
       "63.0      24\n",
       "62.0      23\n",
       "67.0      22\n",
       "53.0      22\n",
       "69.0      21\n",
       "54.0      21\n",
       "52.0      21\n",
       "68.0      20\n",
       "57.0      19\n",
       "58.0      18\n",
       "1.0       17\n",
       "72.0      17\n",
       "56.0      16\n",
       "77.0      16\n",
       "75.0      14\n",
       "70.0      14\n",
       "64.0      12\n",
       "66.0      11\n",
       "59.0       6\n",
       "76.0       6\n",
       "81.0       4\n",
       "73.0       4\n",
       "71.0       3\n",
       "91.0       3\n",
       "87.0       1\n",
       "92.0       1\n",
       "80.0       1\n",
       "74.0       1\n",
       "85.0       1\n",
       "90.0       1\n",
       "Name: count, dtype: int64"
      ]
     },
     "execution_count": 172,
     "metadata": {},
     "output_type": "execute_result"
    }
   ],
   "source": [
    "df['total_floor'].value_counts()"
   ]
  },
  {
   "cell_type": "code",
   "execution_count": 173,
   "id": "ca017ae6-8c96-40e3-aae8-a2312f3a3a80",
   "metadata": {},
   "outputs": [
    {
     "data": {
      "text/plain": [
       "flat_on_floor\n",
       "3                 694\n",
       "2                 688\n",
       "1                 645\n",
       "5                 641\n",
       "4                 621\n",
       "10                588\n",
       "7                 564\n",
       "6                 514\n",
       "9                 391\n",
       "12                370\n",
       "8                 365\n",
       "15                334\n",
       "11                318\n",
       "14                241\n",
       "20                228\n",
       "16                214\n",
       "ground            202\n",
       "18                201\n",
       "13                176\n",
       "21                144\n",
       "17                144\n",
       "19                131\n",
       "22                125\n",
       "25                121\n",
       "23                 97\n",
       "upper basement     82\n",
       "30                 81\n",
       "24                 77\n",
       "27                 63\n",
       "26                 58\n",
       "28                 42\n",
       "35                 38\n",
       "40                 37\n",
       "29                 35\n",
       "33                 32\n",
       "36                 31\n",
       "32                 30\n",
       "34                 30\n",
       "50                 29\n",
       "45                 26\n",
       "lower basement     24\n",
       "37                 21\n",
       "38                 19\n",
       "39                 18\n",
       "41                 17\n",
       "42                 17\n",
       "31                 17\n",
       "44                 13\n",
       "47                  9\n",
       "48                  8\n",
       "60                  8\n",
       "46                  7\n",
       "43                  7\n",
       "52                  7\n",
       "62                  6\n",
       "68                  6\n",
       "55                  6\n",
       "57                  5\n",
       "56                  4\n",
       "51                  4\n",
       "70                  3\n",
       "66                  3\n",
       "49                  3\n",
       "58                  3\n",
       "54                  3\n",
       "53                  3\n",
       "61                  2\n",
       "73                  1\n",
       "75                  1\n",
       "71                  1\n",
       "65                  1\n",
       "Name: count, dtype: int64"
      ]
     },
     "execution_count": 173,
     "metadata": {},
     "output_type": "execute_result"
    }
   ],
   "source": [
    "df['flat_on_floor'].value_counts()"
   ]
  },
  {
   "cell_type": "code",
   "execution_count": 174,
   "id": "e0622d70-eba0-4e5b-a401-e970786886fc",
   "metadata": {},
   "outputs": [],
   "source": [
    "df['flat_on_floor'] = df['flat_on_floor'].replace({'lower basement': -1, 'upper basement': -2,'ground':0})"
   ]
  },
  {
   "cell_type": "code",
   "execution_count": 175,
   "id": "9c028455-35e2-4341-b70e-9798c5ae65c1",
   "metadata": {},
   "outputs": [
    {
     "data": {
      "text/plain": [
       "flat_on_floor\n",
       "3     694\n",
       "2     688\n",
       "1     645\n",
       "5     641\n",
       "4     621\n",
       "10    588\n",
       "7     564\n",
       "6     514\n",
       "9     391\n",
       "12    370\n",
       "8     365\n",
       "15    334\n",
       "11    318\n",
       "14    241\n",
       "20    228\n",
       "16    214\n",
       "0     202\n",
       "18    201\n",
       "13    176\n",
       "21    144\n",
       "17    144\n",
       "19    131\n",
       "22    125\n",
       "25    121\n",
       "23     97\n",
       "-2     82\n",
       "30     81\n",
       "24     77\n",
       "27     63\n",
       "26     58\n",
       "28     42\n",
       "35     38\n",
       "40     37\n",
       "29     35\n",
       "33     32\n",
       "36     31\n",
       "32     30\n",
       "34     30\n",
       "50     29\n",
       "45     26\n",
       "-1     24\n",
       "37     21\n",
       "38     19\n",
       "39     18\n",
       "41     17\n",
       "42     17\n",
       "31     17\n",
       "44     13\n",
       "47      9\n",
       "48      8\n",
       "60      8\n",
       "46      7\n",
       "43      7\n",
       "52      7\n",
       "62      6\n",
       "68      6\n",
       "55      6\n",
       "57      5\n",
       "56      4\n",
       "51      4\n",
       "70      3\n",
       "66      3\n",
       "49      3\n",
       "58      3\n",
       "54      3\n",
       "53      3\n",
       "61      2\n",
       "73      1\n",
       "75      1\n",
       "71      1\n",
       "65      1\n",
       "Name: count, dtype: int64"
      ]
     },
     "execution_count": 175,
     "metadata": {},
     "output_type": "execute_result"
    }
   ],
   "source": [
    "df['flat_on_floor'].value_counts()"
   ]
  },
  {
   "cell_type": "code",
   "execution_count": 176,
   "id": "a3c4baba-5411-4602-b225-1b100013b77e",
   "metadata": {},
   "outputs": [],
   "source": [
    "df['total_floor'] = np.where(\n",
    "    pd.isna(df['total_floor']) & pd.notna(df['md_floors allowed for construction']),\n",
    "    df['md_floors allowed for construction'],\n",
    "    df['total_floor']\n",
    ")"
   ]
  },
  {
   "cell_type": "code",
   "execution_count": 177,
   "id": "1d5d1050-e02a-4c41-9041-38ab355f4f87",
   "metadata": {},
   "outputs": [
    {
     "data": {
      "text/plain": [
       "2075"
      ]
     },
     "execution_count": 177,
     "metadata": {},
     "output_type": "execute_result"
    }
   ],
   "source": [
    "df['total_floor'].isna().sum()"
   ]
  },
  {
   "cell_type": "code",
   "execution_count": 178,
   "id": "416f0826-264c-49d3-88b7-1cb7e630c938",
   "metadata": {},
   "outputs": [],
   "source": [
    "# Drop columns : 'Aboutpjt_Total Floors','floor_work_1','many_Floor','leftmany_Floor'\n",
    "df = df.drop(['aboutpjt_total floors','floor_work_1','many_floor','leftmany_floor','md_floors allowed for construction'],axis=1)"
   ]
  },
  {
   "cell_type": "code",
   "execution_count": 179,
   "id": "5ef1ed21-b800-456e-afc1-297b3213e033",
   "metadata": {},
   "outputs": [],
   "source": [
    "df['flat_on_floor'] =  df['flat_on_floor'].astype('float')"
   ]
  },
  {
   "cell_type": "markdown",
   "id": "1b91f417-f333-44c2-8b4f-86659cbf8564",
   "metadata": {},
   "source": [
    "# construction "
   ]
  },
  {
   "cell_type": "markdown",
   "id": "f7cd4e38-8417-40a9-a2d9-c3bcef62415b",
   "metadata": {},
   "source": [
    "### Observation \n",
    "- columns: 'md_age of construction', 'many_age of construction', 'leftmany_age of construction'\n",
    "- when 'many_age of construction' values are present then its corresponding 'leftmany_age of construction' values are not present and vice versa"
   ]
  },
  {
   "cell_type": "code",
   "execution_count": 180,
   "id": "39c005b4-f269-469c-aacd-073b25cdc185",
   "metadata": {},
   "outputs": [],
   "source": [
    "#combine_first Update null elements with value in the same location in other.\n",
    "df['construction_1'] = df['many_age of construction'].combine_first(df['leftmany_age of construction'])"
   ]
  },
  {
   "cell_type": "code",
   "execution_count": 181,
   "id": "b4930567-6ff2-4ab7-b202-534e5ec35fce",
   "metadata": {},
   "outputs": [
    {
     "data": {
      "text/plain": [
       "3937"
      ]
     },
     "execution_count": 181,
     "metadata": {},
     "output_type": "execute_result"
    }
   ],
   "source": [
    "df['construction_1'].notna().sum()"
   ]
  },
  {
   "cell_type": "code",
   "execution_count": 182,
   "id": "4a5adc26-ba62-4760-af2e-231262f8b7a8",
   "metadata": {},
   "outputs": [
    {
     "data": {
      "text/plain": [
       "(3935, 2)"
      ]
     },
     "execution_count": 182,
     "metadata": {},
     "output_type": "execute_result"
    }
   ],
   "source": [
    "df[df['construction_1'] == df['md_age of construction']][['construction_1','md_age of construction']].shape"
   ]
  },
  {
   "cell_type": "markdown",
   "id": "093f3ea0-d829-478e-ab88-09d6bdc37072",
   "metadata": {},
   "source": [
    "### Observation\n",
    "- almost all values are same between construction_1 and md_age of construction columns hence drop construction_1,because md_age of construction have lesser nan values than construction_1 column "
   ]
  },
  {
   "cell_type": "code",
   "execution_count": 183,
   "id": "43389f2f-c037-4e0d-8ed1-d95e21cd6ae6",
   "metadata": {},
   "outputs": [],
   "source": [
    "df = df.rename(columns={'md_age of construction': 'construction'})"
   ]
  },
  {
   "cell_type": "code",
   "execution_count": 184,
   "id": "2a389707-4c99-4cf2-8e2f-f679845868b1",
   "metadata": {},
   "outputs": [
    {
     "data": {
      "text/plain": [
       "1683"
      ]
     },
     "execution_count": 184,
     "metadata": {},
     "output_type": "execute_result"
    }
   ],
   "source": [
    "df['construction'].isna().sum()"
   ]
  },
  {
   "cell_type": "code",
   "execution_count": 185,
   "id": "290ea838-e805-4bbf-ab96-8c0af922be38",
   "metadata": {},
   "outputs": [],
   "source": [
    "# Drop columns\n",
    "df = df.drop(['construction_1','many_age of construction','leftmany_age of construction'],axis=1)"
   ]
  },
  {
   "cell_type": "markdown",
   "id": "c3123b7a-38f5-4269-92a1-930e35a86930",
   "metadata": {},
   "source": [
    "### Observation\n",
    "- In the status column, the value \"Under construction\" is present, which we can copy to the corresponding place in the construction column. "
   ]
  },
  {
   "cell_type": "code",
   "execution_count": 186,
   "id": "48e28a56-8336-454e-a664-977288183444",
   "metadata": {},
   "outputs": [],
   "source": [
    "df['construction'] = df.apply(\n",
    "    lambda row: 'under construction' if row['status'] == 'under construction' else row['construction'], axis=1\n",
    ")"
   ]
  },
  {
   "cell_type": "markdown",
   "id": "de21a561-13fa-4d18-85ad-421d38897198",
   "metadata": {},
   "source": [
    "### Observation\n",
    "- In the construction column, the value \"under construction\" is present, which we can copy to the corresponding place in the status column. "
   ]
  },
  {
   "cell_type": "code",
   "execution_count": 187,
   "id": "ec98488f-0e6a-49b5-8019-134e51f71066",
   "metadata": {},
   "outputs": [],
   "source": [
    "df['status'] = df.apply(\n",
    "    lambda row: 'under construction' if row['construction'] == 'under construction' else row['status'], axis=1\n",
    ")"
   ]
  },
  {
   "cell_type": "markdown",
   "id": "c8bc31f7-07ab-4eb2-9280-1a38024c108e",
   "metadata": {},
   "source": [
    "### Observation\n",
    "- make case of values small in both construction and status column"
   ]
  },
  {
   "cell_type": "code",
   "execution_count": 188,
   "id": "c9299ff6-53d3-47ac-94ee-d6f0e8455567",
   "metadata": {},
   "outputs": [],
   "source": [
    "df['construction'] = df['construction'].str.lower()"
   ]
  },
  {
   "cell_type": "code",
   "execution_count": 189,
   "id": "0e793087-82d1-442f-aa7b-2d44fb402a91",
   "metadata": {},
   "outputs": [],
   "source": [
    "df['status'] = df['status'].str.lower()"
   ]
  },
  {
   "cell_type": "markdown",
   "id": "e1d1f66b-ed64-49d5-8c27-9f74b679895f",
   "metadata": {},
   "source": [
    "# <font color = yellow> as both status and construction column almost have similar values so chances of correlation"
   ]
  },
  {
   "cell_type": "markdown",
   "id": "2e68e4f0-5018-486b-8374-bc2626b85572",
   "metadata": {},
   "source": [
    "# balcony"
   ]
  },
  {
   "cell_type": "markdown",
   "id": "e1b91cf7-4766-42c9-8224-04ee9d5cdfec",
   "metadata": {},
   "source": [
    "### Obseravation\n",
    "- columns: 'bb_balcony', 'leftbb_balcony', 'bb_balconies','leftbb_balconies'\n",
    "- when one column values are present then its corresponding column values are not present"
   ]
  },
  {
   "cell_type": "code",
   "execution_count": 190,
   "id": "1384dada-0824-4676-a3f1-f23fded5a780",
   "metadata": {},
   "outputs": [],
   "source": [
    "#combine_first Update null elements with value in the same location in other.\n",
    "df['balcony'] = (\n",
    "    df['bb_balcony']\n",
    "    .combine_first(df['leftbb_balcony'])\n",
    "    .combine_first(df['bb_balconies'])\n",
    "    .combine_first(df['leftbb_balconies'])\n",
    ")\n"
   ]
  },
  {
   "cell_type": "code",
   "execution_count": 191,
   "id": "56455dbe-bfee-4824-83e4-c099a98f21f7",
   "metadata": {},
   "outputs": [],
   "source": [
    "# Drop columns\n",
    "df = df.drop(['bb_balcony', 'leftbb_balcony', 'bb_balconies','leftbb_balconies'],axis=1)"
   ]
  },
  {
   "cell_type": "markdown",
   "id": "6a924b87-9556-4095-9714-a4d55d072e9d",
   "metadata": {},
   "source": [
    "# extra_rooms"
   ]
  },
  {
   "cell_type": "markdown",
   "id": "3ad93fb3-f6de-4613-bb41-6bb49f7ed9f7",
   "metadata": {},
   "source": [
    "### Observation \n",
    "\n",
    "- columns: 'md_additional rooms', 'leftmany_additional rooms', 'many_additional rooms'\n",
    "- when 'leftmany_Additional Rooms' values are present then its corresponding 'many_Additional Rooms' values are not present and vice versa"
   ]
  },
  {
   "cell_type": "code",
   "execution_count": 192,
   "id": "da24b5ae-efed-4f48-899c-3d232012b372",
   "metadata": {},
   "outputs": [],
   "source": [
    "#combine_first Update null elements with value in the same location in other.\n",
    "df['balcony1'] = df['leftmany_additional rooms'].combine_first(df['many_additional rooms'])"
   ]
  },
  {
   "cell_type": "code",
   "execution_count": 193,
   "id": "4143d1e9-a77d-4b76-aa46-bc8166de63b3",
   "metadata": {},
   "outputs": [
    {
     "data": {
      "text/plain": [
       "9140"
      ]
     },
     "execution_count": 193,
     "metadata": {},
     "output_type": "execute_result"
    }
   ],
   "source": [
    "df['balcony1'].isna().sum()"
   ]
  },
  {
   "cell_type": "code",
   "execution_count": 194,
   "id": "04900b6b-2a5d-4bc3-ac2d-3f07f9b24814",
   "metadata": {},
   "outputs": [],
   "source": [
    "df['extra_room'] = df['balcony1'].str.split(' ').str[1].str.strip()"
   ]
  },
  {
   "cell_type": "code",
   "execution_count": 195,
   "id": "13996576-9c9d-4627-b19d-f77371c4cea5",
   "metadata": {},
   "outputs": [
    {
     "data": {
      "text/plain": [
       "extra_room\n",
       "store      2061\n",
       "study       442\n",
       "servant     360\n",
       "Name: count, dtype: int64"
      ]
     },
     "execution_count": 195,
     "metadata": {},
     "output_type": "execute_result"
    }
   ],
   "source": [
    "df['extra_room'].value_counts()"
   ]
  },
  {
   "cell_type": "code",
   "execution_count": 196,
   "id": "735ce202-6dc9-4362-a354-70f01386e4e7",
   "metadata": {},
   "outputs": [
    {
     "data": {
      "text/plain": [
       "2863"
      ]
     },
     "execution_count": 196,
     "metadata": {},
     "output_type": "execute_result"
    }
   ],
   "source": [
    "df['extra_room'].notna().sum()"
   ]
  },
  {
   "cell_type": "code",
   "execution_count": 197,
   "id": "9b0b4464-8692-4a5b-8a5f-cea42ace07ff",
   "metadata": {},
   "outputs": [
    {
     "data": {
      "text/plain": [
       "9140"
      ]
     },
     "execution_count": 197,
     "metadata": {},
     "output_type": "execute_result"
    }
   ],
   "source": [
    "df['extra_room'].isna().sum()"
   ]
  },
  {
   "cell_type": "code",
   "execution_count": 198,
   "id": "05fba630-0c63-4d74-b2cb-b635aa12aa4d",
   "metadata": {},
   "outputs": [
    {
     "data": {
      "text/plain": [
       "md_additional rooms\n",
       "none of these                             3015\n",
       "store                                     1114\n",
       "puja room                                  746\n",
       "study                                      309\n",
       "servant room                               297\n",
       "puja room, store                           226\n",
       "puja room, study, store, servant room      225\n",
       "puja room, study, store                    115\n",
       "store, servant room                         85\n",
       "puja room, store, study, servant room       79\n",
       "puja room, study                            76\n",
       "study, store                                71\n",
       "puja room, servant room                     63\n",
       "puja room, store, servant room              55\n",
       "puja room, study, servant room              31\n",
       "study, store, servant room                  24\n",
       "study, servant room                         24\n",
       "store, study                                19\n",
       "puja room, store, study                     16\n",
       "store, puja room                             4\n",
       "puja room, study, servant room, store        4\n",
       "store, study, servant room                   3\n",
       "store, none of these                         3\n",
       "store, study, puja room, servant room        2\n",
       "servant room, store                          1\n",
       "servant room, study, puja room               1\n",
       "study, puja room                             1\n",
       "servant room, store, study, puja room        1\n",
       "puja room, study, store, none of these       1\n",
       "study, servant room, store                   1\n",
       "study, servant room, puja room, store        1\n",
       "servant room, study, puja room, store        1\n",
       "store, study, servant room, puja room        1\n",
       "servant room, store, study                   1\n",
       "servant room, store, puja room, study        1\n",
       "puja room, servant room, store               1\n",
       "study, puja room, servant room, store        1\n",
       "Name: count, dtype: int64"
      ]
     },
     "execution_count": 198,
     "metadata": {},
     "output_type": "execute_result"
    }
   ],
   "source": [
    "df['md_additional rooms'].value_counts()"
   ]
  },
  {
   "cell_type": "code",
   "execution_count": 199,
   "id": "311c3f2a-b38a-45a9-a41b-d9f6f08ef222",
   "metadata": {},
   "outputs": [],
   "source": [
    "result = df['extra_room'].apply(\n",
    "    lambda x: any(str(x) in str(room) for room in df['md_additional rooms']) if pd.notnull(x) else False\n",
    ")"
   ]
  },
  {
   "cell_type": "code",
   "execution_count": 200,
   "id": "9b3e32cd-130a-4f0c-a262-7206dc497024",
   "metadata": {},
   "outputs": [
    {
     "data": {
      "text/plain": [
       "extra_room\n",
       "False    9140\n",
       "True     2863\n",
       "Name: count, dtype: int64"
      ]
     },
     "execution_count": 200,
     "metadata": {},
     "output_type": "execute_result"
    }
   ],
   "source": [
    "result.value_counts() "
   ]
  },
  {
   "cell_type": "markdown",
   "id": "47b48a50-b612-4aeb-aae2-d8fac3f5946c",
   "metadata": {},
   "source": [
    "### Observation\n",
    "- balcony1 column values present in the 'md_additional rooms' hence drop this balcony1 and extra_room column also and hkeep only 'md_additional rooms' column"
   ]
  },
  {
   "cell_type": "code",
   "execution_count": 201,
   "id": "656e4962-acb0-4c7e-9863-be1cd88dbe93",
   "metadata": {},
   "outputs": [],
   "source": [
    "#sort value alphabetically \n",
    "df['md_additional rooms'] = df['md_additional rooms'].apply(\n",
    "    lambda x: ', '.join(sorted(x.split(', '))) if pd.notna(x) else None\n",
    ")"
   ]
  },
  {
   "cell_type": "code",
   "execution_count": 202,
   "id": "5a9cf5cf-0c44-4902-9b60-650dee7227fc",
   "metadata": {},
   "outputs": [],
   "source": [
    "#remove none of these eg:from these 'none of these, store' and keep only store \n",
    "#but if we have only 'none of these' then we keep that as it is \n",
    "#also remove room word from all values \n",
    "\n",
    "df['md_additional rooms'] = df['md_additional rooms'].apply(\n",
    "    lambda x: x if pd.isna(x) or str(x).strip() == 'none of these' else ', '.join(\n",
    "        [item.replace(' room', '') for item in str(x).split(', ') if item != 'none of these']\n",
    "    )\n",
    ")\n",
    "\n"
   ]
  },
  {
   "cell_type": "code",
   "execution_count": 203,
   "id": "86845fa0-7702-4ecb-9d59-4eb68b047ae8",
   "metadata": {},
   "outputs": [
    {
     "data": {
      "text/plain": [
       "md_additional rooms\n",
       "none of these                  3015\n",
       "store                          1117\n",
       "puja                            746\n",
       "puja, servant, store, study     316\n",
       "study                           309\n",
       "servant                         297\n",
       "puja, store                     230\n",
       "puja, store, study              132\n",
       "store, study                     90\n",
       "servant, store                   86\n",
       "puja, study                      77\n",
       "puja, servant                    63\n",
       "puja, servant, store             56\n",
       "puja, servant, study             32\n",
       "servant, store, study            29\n",
       "servant, study                   24\n",
       "Name: count, dtype: int64"
      ]
     },
     "execution_count": 203,
     "metadata": {},
     "output_type": "execute_result"
    }
   ],
   "source": [
    "df['md_additional rooms'].value_counts()"
   ]
  },
  {
   "cell_type": "code",
   "execution_count": 204,
   "id": "a40a26e5-b196-48a4-b78c-cc978f7cc852",
   "metadata": {},
   "outputs": [],
   "source": [
    "# Drop columns\n",
    "df = df.drop(['leftmany_additional rooms','balcony1','many_additional rooms','extra_room'],axis=1)"
   ]
  },
  {
   "cell_type": "code",
   "execution_count": 205,
   "id": "2c578f76-9d24-493e-aaed-266f408800d6",
   "metadata": {},
   "outputs": [],
   "source": [
    "df = df.rename(columns={'md_additional rooms': 'extra_rooms'})"
   ]
  },
  {
   "cell_type": "markdown",
   "id": "bf7dcdc2-d0d2-4d00-9075-8ba3d3a596a7",
   "metadata": {},
   "source": [
    "# Facing"
   ]
  },
  {
   "cell_type": "markdown",
   "id": "1283c499-5bc3-4536-8ee6-991804888adb",
   "metadata": {},
   "source": [
    "### Observation \n",
    "- columns:  leftmany_facing, many_facing\n",
    "- when 'leftmany_facing' values are present then its corresponding 'many_facing' values are not present and vice versa"
   ]
  },
  {
   "cell_type": "code",
   "execution_count": 206,
   "id": "f7c7c4d4-23ab-4603-a13f-5407fae7b69e",
   "metadata": {},
   "outputs": [],
   "source": [
    "#combine_first Update null elements with value in the same location in other.\n",
    "df['facing'] = df['leftmany_facing'].combine_first(df['many_facing'])"
   ]
  },
  {
   "cell_type": "code",
   "execution_count": 207,
   "id": "7d47f5dc-e370-44cd-a78d-2589319c60f0",
   "metadata": {},
   "outputs": [],
   "source": [
    "# Drop columns\n",
    "df = df.drop(['leftmany_facing','many_facing'],axis=1)"
   ]
  },
  {
   "cell_type": "markdown",
   "id": "47b8db56-b21e-4c5e-acdd-66a8986e7bfc",
   "metadata": {},
   "source": [
    "# towers and available_units"
   ]
  },
  {
   "cell_type": "markdown",
   "id": "24a2429e-6032-4de4-80ab-58913348406e",
   "metadata": {},
   "source": [
    "### Observation\n",
    "- columns: 'ap_tower & unit','aboutpjt_total units','aboutpjt_total towers','ap_tower','ap_unit'\n",
    "- eg : 10 Towers,1512 Units : A residential project might have 10 towers, each with 151 apartments, totaling 10 × 151 = 1512 units.\n",
    "- all the values which are present in 'ap_unit' are available in \"aboutpjt_total units\" column hence drop this 'ap_unit' column\n",
    "- all the values which are present in 'ap_tower' are available in \"aboutpjt_total towers\" column hence drop this 'ap_tower' column\n",
    "- all the values which are present in 'ap_tower & unit' are available in 'aboutpjt_total units','aboutpjt_total towers' column hence drop this 'ap_tower & unit' column\n",
    "- rename 'aboutpjt_total units' as 'available_units'\n",
    "- rename 'aboutpjt_total towers' 'towers'"
   ]
  },
  {
   "cell_type": "code",
   "execution_count": 208,
   "id": "d9897da6-cff4-444b-9738-3ef3a0f901a3",
   "metadata": {},
   "outputs": [],
   "source": [
    "# Drop columns\n",
    "df = df.drop(['ap_unit','ap_tower','ap_tower & unit'],axis=1)"
   ]
  },
  {
   "cell_type": "code",
   "execution_count": 209,
   "id": "a3770199-36b1-4b1e-b2ca-3ecbda2ff0a0",
   "metadata": {},
   "outputs": [],
   "source": [
    "df = df.rename(columns={'aboutpjt_total units': 'available_units', \n",
    "                        'aboutpjt_total towers': 'towers'})"
   ]
  },
  {
   "cell_type": "markdown",
   "id": "4e209c2d-3cce-49d6-a908-b54ef26385d5",
   "metadata": {},
   "source": [
    "# bed"
   ]
  },
  {
   "cell_type": "markdown",
   "id": "32c082a0-aa11-4c6c-9d5e-8a2f2ddb08e4",
   "metadata": {},
   "source": [
    "### Observation\n",
    "- columns -> 'numberofrooms','bb_beds','leftbb_beds','bb_bed','leftbb_bed'\n",
    "- combine and keep one value else nan\n"
   ]
  },
  {
   "cell_type": "code",
   "execution_count": 210,
   "id": "8ce0ce83-cd55-4f38-82bc-fd898a66c75e",
   "metadata": {},
   "outputs": [],
   "source": [
    "# Combine values\n",
    "df['bed'] = [list(values) for values in zip(df['numberofrooms'], df['bb_beds'], df['leftbb_beds'], df['bb_bed'], df['leftbb_bed'])]"
   ]
  },
  {
   "cell_type": "code",
   "execution_count": 211,
   "id": "85ad9427-bd69-482a-b2c1-7bad0948b7f3",
   "metadata": {},
   "outputs": [
    {
     "data": {
      "text/plain": [
       "0    [2.0, 2.0, nan, nan, nan]\n",
       "1    [3.0, nan, 3.0, nan, nan]\n",
       "Name: bed, dtype: object"
      ]
     },
     "execution_count": 211,
     "metadata": {},
     "output_type": "execute_result"
    }
   ],
   "source": [
    "df['bed'].head(2)"
   ]
  },
  {
   "cell_type": "code",
   "execution_count": 212,
   "id": "cf532c38-e6d4-4611-bf0b-e653b2c582d2",
   "metadata": {},
   "outputs": [],
   "source": [
    "df['bed'] = df['bed'].apply(lambda row: next((val for val in row if not np.isnan(val)), None))"
   ]
  },
  {
   "cell_type": "code",
   "execution_count": 213,
   "id": "19407ca7-c5dd-4fb5-a05d-11e5d1bab354",
   "metadata": {},
   "outputs": [
    {
     "data": {
      "text/plain": [
       "bed\n",
       "2.0     4857\n",
       "1.0     3183\n",
       "3.0     2899\n",
       "4.0      756\n",
       "5.0      127\n",
       "6.0       55\n",
       "7.0        8\n",
       "8.0        5\n",
       "10.0       4\n",
       "Name: count, dtype: int64"
      ]
     },
     "execution_count": 213,
     "metadata": {},
     "output_type": "execute_result"
    }
   ],
   "source": [
    "df['bed'].value_counts()"
   ]
  },
  {
   "cell_type": "code",
   "execution_count": 214,
   "id": "a078f08f-8f4e-4735-bff6-23d0c31c917f",
   "metadata": {},
   "outputs": [
    {
     "data": {
      "text/plain": [
       "109"
      ]
     },
     "execution_count": 214,
     "metadata": {},
     "output_type": "execute_result"
    }
   ],
   "source": [
    "df['bed'].isna().sum()"
   ]
  },
  {
   "cell_type": "markdown",
   "id": "4320b0ef-2eb1-44e4-bb82-5fe9841cdcdd",
   "metadata": {},
   "source": [
    "##### research more about this \n",
    "- \"numberofrooms\" column have missing values, in 'url' column sq-ft info there so using that I got to know that,for below 1000sq-ft, all missing values which are there in this \"numberofrooms\" is 1HK so hence for this 1HK we mention 0 and for above 1000 sq-ft we have to do imputation in \"numberofrooms\""
   ]
  },
  {
   "cell_type": "code",
   "execution_count": 215,
   "id": "7559ebb8-5a39-4001-99ed-b0c6014828ec",
   "metadata": {},
   "outputs": [],
   "source": [
    "# Drop columns\n",
    "df = df.drop(['numberofrooms','bb_beds','leftbb_beds','bb_bed','leftbb_bed'],axis=1)"
   ]
  },
  {
   "cell_type": "markdown",
   "id": "aecb6bf1-2596-4d63-ba91-3337bb201b37",
   "metadata": {},
   "source": [
    "# longitude and lattitude "
   ]
  },
  {
   "cell_type": "markdown",
   "id": "b897bc7d-e9c5-4e4f-be3c-6a4b04fb7448",
   "metadata": {},
   "source": [
    "### Observation\n",
    "- separate longitude and latitude from geo column  "
   ]
  },
  {
   "cell_type": "code",
   "execution_count": 216,
   "id": "c8bea197-3b8e-4fa2-8e31-d64adec23333",
   "metadata": {},
   "outputs": [],
   "source": [
    "df['lattitude'] = df['geo'].str.split(',').str[1].str.split(':').str[1].str.strip(\" '\\\"\").astype('float')"
   ]
  },
  {
   "cell_type": "code",
   "execution_count": 217,
   "id": "8a011d05-1ca4-4216-9cd9-0337ed000ee3",
   "metadata": {},
   "outputs": [],
   "source": [
    "df['longitude'] = df['geo'].str.split(',').str[2].str.split(':').str[1].str.strip(\" '\\\"}\").astype('float')"
   ]
  },
  {
   "cell_type": "code",
   "execution_count": 218,
   "id": "f5cc6a5d-1d23-4e0c-aee4-38926c8d84a3",
   "metadata": {},
   "outputs": [
    {
     "data": {
      "text/plain": [
       "471"
      ]
     },
     "execution_count": 218,
     "metadata": {},
     "output_type": "execute_result"
    }
   ],
   "source": [
    "df['longitude'].isna().sum()"
   ]
  },
  {
   "cell_type": "code",
   "execution_count": 219,
   "id": "bb492af0-8060-4688-b3ae-c6c3360b3c02",
   "metadata": {},
   "outputs": [],
   "source": [
    "# Drop columns\n",
    "df = df.drop(['geo'],axis=1)"
   ]
  },
  {
   "cell_type": "markdown",
   "id": "ae6dc60b-7bcc-4a02-905a-b73b635c4374",
   "metadata": {},
   "source": [
    "# seller"
   ]
  },
  {
   "cell_type": "markdown",
   "id": "34c91bcd-e2ab-4ad7-8055-d2e1740234bc",
   "metadata": {},
   "source": [
    "# Observation\n",
    "- make seller column from potentialAction column, which have this values [organization,person,realestateagent]"
   ]
  },
  {
   "cell_type": "code",
   "execution_count": 220,
   "id": "8a00af3a-1b7d-48a8-b7df-c98dde7726a5",
   "metadata": {},
   "outputs": [],
   "source": [
    "df['seller'] = df['potentialaction'].str.split(',').str[1].str.split(':').str[2].str.strip(\" '\\\"\")"
   ]
  },
  {
   "cell_type": "code",
   "execution_count": 221,
   "id": "c1796446-d37b-4527-bf55-cb94fcc01049",
   "metadata": {},
   "outputs": [
    {
     "data": {
      "text/plain": [
       "seller\n",
       "realestateagent    8124\n",
       "person             3515\n",
       "organization        364\n",
       "Name: count, dtype: int64"
      ]
     },
     "execution_count": 221,
     "metadata": {},
     "output_type": "execute_result"
    }
   ],
   "source": [
    "df['seller'].value_counts()"
   ]
  },
  {
   "cell_type": "code",
   "execution_count": 222,
   "id": "1eafe6ab-6967-4d97-ba72-1910c520da3e",
   "metadata": {},
   "outputs": [],
   "source": [
    "# Drop columns\n",
    "df = df.drop(['potentialaction'],axis=1)"
   ]
  },
  {
   "cell_type": "markdown",
   "id": "0dea8bb7-4230-4307-b7be-f1078e265a0b",
   "metadata": {},
   "source": [
    "# addressregion"
   ]
  },
  {
   "cell_type": "markdown",
   "id": "57033f7f-109d-4b25-bef4-3f8a86b9a8d8",
   "metadata": {},
   "source": [
    "### Observation\n",
    "- some properties are from navimumbai written in 'address' column and even then also in 'property_loc' column they written mumbai so find that"
   ]
  },
  {
   "cell_type": "code",
   "execution_count": 223,
   "id": "29a45fcf-c0a7-4563-b8ed-0603acf10610",
   "metadata": {},
   "outputs": [],
   "source": [
    "df = df.rename(columns={'address':'wholeaddress'})"
   ]
  },
  {
   "cell_type": "code",
   "execution_count": 224,
   "id": "a6b88f0f-5d82-4f0c-b472-da668648a109",
   "metadata": {},
   "outputs": [],
   "source": [
    "df['addressregion'] = df['wholeaddress'].apply(\n",
    "    lambda x: ast.literal_eval(x).get('addressregion') if isinstance(x, str) else x.get('addressregion')\n",
    ")"
   ]
  },
  {
   "cell_type": "code",
   "execution_count": 225,
   "id": "73d81ad1-9bc0-45ea-a741-3edcd610e82f",
   "metadata": {},
   "outputs": [
    {
     "data": {
      "text/plain": [
       "addressregion\n",
       "mumbai         8585\n",
       "thane          1634\n",
       "navi mumbai    1620\n",
       "palghar         164\n",
       "Name: count, dtype: int64"
      ]
     },
     "execution_count": 225,
     "metadata": {},
     "output_type": "execute_result"
    }
   ],
   "source": [
    "df['addressregion'].value_counts()"
   ]
  },
  {
   "cell_type": "code",
   "execution_count": 226,
   "id": "0efb5395-90e7-44fe-9a93-bb32090eefb3",
   "metadata": {},
   "outputs": [],
   "source": [
    "# Drop columns\n",
    "df = df.drop(['property_loc'],axis=1)"
   ]
  },
  {
   "cell_type": "code",
   "execution_count": 227,
   "id": "78ecfc3f-afbc-4a51-8a73-674a1729aa32",
   "metadata": {},
   "outputs": [
    {
     "data": {
      "image/png": "[encoded data removed]",
      "text/plain": [
       "<Figure size 640x480 with 1 Axes>"
      ]
     },
     "metadata": {},
     "output_type": "display_data"
    }
   ],
   "source": [
    "import seaborn as sns\n",
    "import matplotlib.pyplot as plt\n",
    "\n",
    "# Filter data for 'mumbai'\n",
    "filtered_df = df[df['addressregion'] == 'thane']\n",
    "\n",
    "# Scatter plot for 'mumbai' only\n",
    "sns.scatterplot(x=filtered_df['f_area'], y=filtered_df['price'], hue=filtered_df['addressregion'])\n",
    "\n",
    "# Add labels and title\n",
    "plt.xlabel('Floor Area')\n",
    "plt.ylabel('Price')\n",
    "plt.title('Scatterplot of Floor Area vs Price (Mumbai Only)')\n",
    "plt.legend(title='Address Region')\n",
    "plt.show()\n"
   ]
  },
  {
   "cell_type": "markdown",
   "id": "eba6df40-ad55-431f-bfc5-5feef54a09db",
   "metadata": {},
   "source": [
    "# amenities"
   ]
  },
  {
   "cell_type": "code",
   "execution_count": 228,
   "id": "ff976641-eea5-46cd-ba31-f7405e1ad0f9",
   "metadata": {},
   "outputs": [
    {
     "data": {
      "text/plain": [
       "addressregion\n",
       "mumbai         8585\n",
       "thane          1634\n",
       "navi mumbai    1620\n",
       "palghar         164\n",
       "Name: count, dtype: int64"
      ]
     },
     "execution_count": 228,
     "metadata": {},
     "output_type": "execute_result"
    }
   ],
   "source": [
    "df['addressregion'].value_counts()"
   ]
  },
  {
   "cell_type": "code",
   "execution_count": 229,
   "id": "ef7af88a-f04a-4f89-a7eb-f6787c9b27e1",
   "metadata": {},
   "outputs": [
    {
     "name": "stdout",
     "output_type": "stream",
     "text": [
      "price_category\n",
      "0.00 - 0.99        3263\n",
      "1.00 - 1.99        3470\n",
      "2.00 - 2.99        2003\n",
      "3.00 - 3.99        1075\n",
      "4.00 - 4.99         572\n",
      "5.00 - 5.99         415\n",
      "6.00 - 6.99         295\n",
      "7.00 - 7.99         189\n",
      "8.00 - 8.99         140\n",
      "9.00 - 9.99         102\n",
      "10.00 - 14.99       243\n",
      "15.00 - 20.00       109\n",
      "20.00 and above     127\n",
      "Name: count, dtype: int64\n"
     ]
    }
   ],
   "source": [
    "# Define price bins and labels\n",
    "price_bins = [0, 0.99, 1.99, 2.99, 3.99, 4.99, 5.99, 6.99, 7.99, 8.99, 9.99, 14.99, 20.00, float('inf')]\n",
    "price_labels = [\n",
    "    \"0.00 - 0.99\", \"1.00 - 1.99\", \"2.00 - 2.99\", \"3.00 - 3.99\", \"4.00 - 4.99\", \n",
    "    \"5.00 - 5.99\", \"6.00 - 6.99\", \"7.00 - 7.99\", \"8.00 - 8.99\", \"9.00 - 9.99\", \n",
    "    \"10.00 - 14.99\", \"15.00 - 20.00\", \"20.00 and above\"\n",
    "]\n",
    "\n",
    "# Use pd.cut to categorize the prices\n",
    "df['price_category'] = pd.cut(df['price'], bins=price_bins, labels=price_labels, right=True)\n",
    "\n",
    "# Count the occurrences in each category\n",
    "category_counts = df['price_category'].value_counts().sort_index()\n",
    "\n",
    "# Print the result\n",
    "print(category_counts)"
   ]
  },
  {
   "cell_type": "code",
   "execution_count": 230,
   "id": "10b8b7af-d0ab-4715-8270-257fd2e1c7d5",
   "metadata": {},
   "outputs": [
    {
     "name": "stdout",
     "output_type": "stream",
     "text": [
      "addressregion    mumbai  navi mumbai  palghar  thane\n",
      "price_category                                      \n",
      "0.00 - 0.99        1543          877      163    680\n",
      "1.00 - 1.99        2363          459        1    647\n",
      "2.00 - 2.99        1640          171        0    192\n",
      "3.00 - 3.99         938           67        0     70\n",
      "4.00 - 4.99         525           24        0     23\n",
      "5.00 - 5.99         391           13        0     11\n",
      "6.00 - 6.99         284            5        0      6\n",
      "7.00 - 7.99         184            1        0      4\n",
      "8.00 - 8.99         138            2        0      0\n",
      "9.00 - 9.99         101            1        0      0\n",
      "10.00 - 14.99       242            0        0      1\n",
      "15.00 - 20.00       109            0        0      0\n",
      "20.00 and above     127            0        0      0\n"
     ]
    },
    {
     "name": "stderr",
     "output_type": "stream",
     "text": [
      "C:\\Users\\ABC\\AppData\\Local\\Temp\\ipykernel_11076\\2395151249.py:2: FutureWarning: The default value of observed=False is deprecated and will change to observed=True in a future version of pandas. Specify observed=False to silence this warning and retain the current behavior\n",
      "  pivot_table = df.pivot_table(values='price', index='price_category', columns='addressregion', aggfunc='count')\n"
     ]
    }
   ],
   "source": [
    "# Create a pivot table to show the average price for each combination of construction category and address region\n",
    "pivot_table = df.pivot_table(values='price', index='price_category', columns='addressregion', aggfunc='count')\n",
    "\n",
    "# Display the pivot table\n",
    "print(pivot_table)"
   ]
  },
  {
   "cell_type": "markdown",
   "id": "f231936e-984b-4961-aade-ec2511d5aa34",
   "metadata": {},
   "source": [
    "### observation\n",
    "- High-price properties missing in Navi Mumbai, Thane, and Palghar → No properties above ₹6 Cr in these regions.    \n",
    "- Palghar lacks high-price properties → No properties beyond ₹1 Cr in Palghar.    \n",
    "- Feature engineering per region → Need to handle each feature differently based on addressregion.    \n",
    "- Price variation by region → To avoid bias, process data considering both addressregion and price.    \n",
    "- Combine 'am' columns → Group all columns with 'am' into a single list for efficient handling.    "
   ]
  },
  {
   "cell_type": "code",
   "execution_count": 231,
   "id": "daff25c7-af25-46c6-ac6c-765f520d7634",
   "metadata": {},
   "outputs": [],
   "source": [
    "columns_with_am = [col for col in df.columns if col.startswith('am')]"
   ]
  },
  {
   "cell_type": "code",
   "execution_count": 232,
   "id": "1722d62a-9221-4ba9-b623-614998999ffd",
   "metadata": {},
   "outputs": [
    {
     "data": {
      "text/plain": [
       "['am_12204',\n",
       " 'am_12226',\n",
       " 'am_12225',\n",
       " 'am_12229',\n",
       " 'am_12230',\n",
       " 'am_1404107',\n",
       " 'am_12201',\n",
       " 'am_12205',\n",
       " 'am_12202',\n",
       " 'am_12209',\n",
       " 'am_12207',\n",
       " 'am_12208',\n",
       " 'am_12214',\n",
       " 'am_12216',\n",
       " 'am_12218',\n",
       " 'am_1404110',\n",
       " 'am_12224',\n",
       " 'am_12206',\n",
       " 'am_1404117',\n",
       " 'am_1404105',\n",
       " 'am_12220',\n",
       " 'am_12228',\n",
       " 'am_12203',\n",
       " 'am_12211',\n",
       " 'am_1404118',\n",
       " 'am_1404106',\n",
       " 'am_1404125',\n",
       " 'am_1404124',\n",
       " 'am_12538',\n",
       " 'am_12540',\n",
       " 'am_12219',\n",
       " 'am_12227',\n",
       " 'am_12523',\n",
       " 'am_12533',\n",
       " 'am_12534',\n",
       " 'am_12535',\n",
       " 'am_12536',\n",
       " 'am_12537',\n",
       " 'am_12539',\n",
       " 'am_12543',\n",
       " 'am_12545',\n",
       " 'am_12581',\n",
       " 'am_12583',\n",
       " 'am_1404155',\n",
       " 'am_1404114',\n",
       " 'am_1404143',\n",
       " 'am_1404109',\n",
       " 'am_1404131',\n",
       " 'am_12212',\n",
       " 'am_1404112',\n",
       " 'am_12217',\n",
       " 'am_1404116',\n",
       " 'am_1404120',\n",
       " 'am_1404111',\n",
       " 'am_12222',\n",
       " 'am_1404115',\n",
       " 'am_1404123',\n",
       " 'am_1404127',\n",
       " 'am_1404128',\n",
       " 'am_1404129',\n",
       " 'am_12223',\n",
       " 'am_12215',\n",
       " 'am_1404108',\n",
       " 'am_12213',\n",
       " 'am_12221',\n",
       " 'am_1404130',\n",
       " 'am_1404126',\n",
       " 'am_1404113',\n",
       " 'am_1404122',\n",
       " 'am_12586',\n",
       " 'am_1404156',\n",
       " 'am_12525',\n",
       " 'am_12547',\n",
       " 'am_12577',\n",
       " 'am_1404150',\n",
       " 'am_1404148',\n",
       " 'am_1404146',\n",
       " 'am_12529',\n",
       " 'am_12521',\n",
       " 'am_12522',\n",
       " 'am_12526',\n",
       " 'am_12530',\n",
       " 'am_12532',\n",
       " 'am_12528',\n",
       " 'am_12546',\n",
       " 'am_1404161',\n",
       " 'am_12234',\n",
       " 'am_12585',\n",
       " 'am_1404149',\n",
       " 'am_1404152',\n",
       " 'am_1404158',\n",
       " 'am_1404157',\n",
       " 'am_1404154',\n",
       " 'am_12511',\n",
       " 'am_12579',\n",
       " 'am_12527',\n",
       " 'am_12524',\n",
       " 'am_12541',\n",
       " 'am_12238',\n",
       " 'am_12562',\n",
       " 'am_12578',\n",
       " 'am_12548',\n",
       " 'am_12549',\n",
       " 'am_12239',\n",
       " 'am_1404151',\n",
       " 'am_12236',\n",
       " 'am_12237',\n",
       " 'am_12556',\n",
       " 'am_12560',\n",
       " 'am_12555',\n",
       " 'am_12561',\n",
       " 'am_1404147',\n",
       " 'am_12235',\n",
       " 'am_12557',\n",
       " 'am_12233',\n",
       " 'am_12531',\n",
       " 'am_12518',\n",
       " 'am_12232',\n",
       " 'am_12544',\n",
       " 'am_12551',\n",
       " 'am_12554',\n",
       " 'am_12542',\n",
       " 'am_12520',\n",
       " 'am_12558',\n",
       " 'am_12584',\n",
       " 'am_1404160',\n",
       " 'am_1404159',\n",
       " 'am_12516',\n",
       " 'am_12580',\n",
       " 'am_12513',\n",
       " 'am_12550',\n",
       " 'am_12552',\n",
       " 'am_12553']"
      ]
     },
     "execution_count": 232,
     "metadata": {},
     "output_type": "execute_result"
    }
   ],
   "source": [
    "columns_with_am"
   ]
  },
  {
   "cell_type": "markdown",
   "id": "b668e81b-edc1-4f8b-9c76-a642ff7644aa",
   "metadata": {},
   "source": [
    "### method 1 :kmeans "
   ]
  },
  {
   "cell_type": "code",
   "execution_count": 233,
   "id": "0feb28eb-1214-47f9-b46d-eb8bbfcaab07",
   "metadata": {},
   "outputs": [],
   "source": [
    "# Combine values from columns that start with 'AM'\n",
    "df['amenities'] = [list(values) for values in zip(*[df[col] for col in df.columns if col.startswith('am_')])]"
   ]
  },
  {
   "cell_type": "code",
   "execution_count": 234,
   "id": "028b6b8d-d9b4-409d-a207-b27a502c1608",
   "metadata": {},
   "outputs": [],
   "source": [
    "df['amenities'] = df['amenities'].apply(lambda x: ', '.join(filter(pd.notna, x)))"
   ]
  },
  {
   "cell_type": "code",
   "execution_count": 235,
   "id": "faace06a-f362-4c5b-98ec-875577e01b9e",
   "metadata": {},
   "outputs": [
    {
     "data": {
      "text/plain": [
       "0                                                                                                                                                                                                                                                                                                             club house, cafeteria/food court, bar/lounge, jogging and strolling track, outdoor tennis courts, barbeque pit, power back up, swimming pool, lift, security, park, reserved parking, service/goods lift, visitor parking, maintenance staff, bank & atm, banquet hall, gymnasium, indoor games room, aerobics room, laundry service, piped gas, rain water harvesting, water storage, indoor squash & badminton courts, arts & craft studio, multipurpose courts, meditation area, fingerprint access, premium branded fittings, waste disposal, conference room, mini cinema theatre, health club with steam / jaccuzi, located in the heart of city, large clubhouse, 3 tier security system, large open space, grand entrance lobby, multipurpose hall, solar energy, kids play area, library, badminton court, event space & amphitheatre, fire fighting equipment\n",
       "1    club house, cafeteria/food court, bar/lounge, jogging and strolling track, outdoor tennis courts, barbeque pit, power back up, swimming pool, lift, security, park, reserved parking, service/goods lift, visitor parking, maintenance staff, bank & atm, banquet hall, gymnasium, indoor games room, aerobics room, laundry service, piped gas, rain water harvesting, water storage, indoor squash & badminton courts, arts & craft studio, multipurpose courts, meditation area, waste disposal, conference room, 3 tier security system, large open space, grand entrance lobby, multipurpose hall, event space & amphitheatre, fire fighting equipment, coffee lounge & restaurants, cycling & jogging track, private terrace/garden, dance studio, intercom facility, guest accommodation, kids club, concierge services, dth television facility, flower gardens, library and business centre, recreational pool, rentable community space, retail boulevard (retail shops), ro water system, air conditioned, canopy walk, vaastu compliant, internet/wi-fi connectivity, activity deck4, outdoor tennis courts, early learning centre, kids play pool with water slides\n",
       "2                                                                                                                                                                                                                                                                                                                                                                                                                                                                                                                                                                                                                                                                                                                                                                                                                                                                                                                                                       jogging and strolling track, barbeque pit, lift, security, reserved parking, visitor parking, indoor games room, multipurpose courts, multipurpose hall, kids play area, internet/wi-fi connectivity, cycling track, sand pit\n",
       "3                                                                                                                                                                                                                                                                                                                                                                                                                                                                                                                                                                                                                                                                                                                                                                                                                                                                  power back up, swimming pool, lift, security, reserved parking, banquet hall, gymnasium, indoor games room, rain water harvesting, multipurpose hall, kids play area, fire fighting equipment, infinity swimming pool, cctv camera, barbeque space, cricket net practice, volleyball court, sewage treatment plant\n",
       "4                                                                                                                                                                                                                                                                                                                                                                                                                                                                                                                                                                                                                                                                                                                                                                                                                                                                                                                                                                                                                           club house, swimming pool, banquet hall, gymnasium, indoor games room, aerobics room, piped gas, meditation area, kids play area, fire fighting equipment\n",
       "Name: amenities, dtype: object"
      ]
     },
     "execution_count": 235,
     "metadata": {},
     "output_type": "execute_result"
    }
   ],
   "source": [
    "df['amenities'].head()"
   ]
  },
  {
   "cell_type": "code",
   "execution_count": 236,
   "id": "90169d2d-2d14-4a99-805c-2e75a2651647",
   "metadata": {},
   "outputs": [
    {
     "data": {
      "text/plain": [
       "0"
      ]
     },
     "execution_count": 236,
     "metadata": {},
     "output_type": "execute_result"
    }
   ],
   "source": [
    "df['amenities'].isna().sum()"
   ]
  },
  {
   "cell_type": "code",
   "execution_count": 237,
   "id": "9fec3c2d-ef1b-4363-8436-a1ff0e6a0efb",
   "metadata": {},
   "outputs": [
    {
     "data": {
      "text/plain": [
       "5196"
      ]
     },
     "execution_count": 237,
     "metadata": {},
     "output_type": "execute_result"
    }
   ],
   "source": [
    "empty_string_count = (df['amenities'] == '').sum()\n",
    "empty_string_count"
   ]
  },
  {
   "cell_type": "markdown",
   "id": "4a67eed7-ba23-4695-9ea4-5c5a7d43eeb5",
   "metadata": {},
   "source": [
    "### observation\n",
    "- some rows in the amenities column are empty string (''), they are not considered NaN values."
   ]
  },
  {
   "cell_type": "code",
   "execution_count": 238,
   "id": "fca190c5-e811-400e-b660-f712367508ef",
   "metadata": {},
   "outputs": [],
   "source": [
    "import numpy as np\n",
    "df['amenities'] = df['amenities'].replace('', np.nan)"
   ]
  },
  {
   "cell_type": "code",
   "execution_count": 239,
   "id": "517e0590-ca26-4c81-9d5f-aa878ffa3376",
   "metadata": {},
   "outputs": [
    {
     "data": {
      "text/plain": [
       "5196"
      ]
     },
     "execution_count": 239,
     "metadata": {},
     "output_type": "execute_result"
    }
   ],
   "source": [
    "df['amenities'].isna().sum()"
   ]
  },
  {
   "cell_type": "code",
   "execution_count": 240,
   "id": "fe7aaaf1-76ba-4a0d-9d42-2077cf0e2a1a",
   "metadata": {},
   "outputs": [],
   "source": [
    "df['amenities'] = df['amenities'].fillna('unknown')"
   ]
  },
  {
   "cell_type": "code",
   "execution_count": 241,
   "id": "595bf8f5-d934-4a86-a2fd-01d1e7c346b1",
   "metadata": {},
   "outputs": [
    {
     "name": "stdout",
     "output_type": "stream",
     "text": [
      "132\n"
     ]
    }
   ],
   "source": [
    "# Split the 'amenities' column into individual values, flatten the list, and find unique values\n",
    "unique_amenities = set(floor.strip() for floors in df['amenities'] for floor in floors.split(','))\n",
    "\n",
    "# Convert to a sorted list for better readability\n",
    "unique_amenities = sorted(unique_amenities)\n",
    "\n",
    "# Display the result\n",
    "print(len(unique_amenities))"
   ]
  },
  {
   "cell_type": "code",
   "execution_count": 242,
   "id": "17687309-2d3e-4b62-8001-aa096b3c06f5",
   "metadata": {},
   "outputs": [],
   "source": [
    "from sklearn.preprocessing import MultiLabelBinarizer\n",
    "\n",
    "# Split flooring combinations into individual materials\n",
    "df['amenities_split'] = df['amenities'].str.split(', ')\n",
    "\n",
    "# Use MultiLabelBinarizer to create binary features\n",
    "mlb = MultiLabelBinarizer()\n",
    "amenities_matrix = mlb.fit_transform(df['amenities_split'])\n",
    "\n",
    "# Create a DataFrame for encoded flooring data\n",
    "amenities_encoded = pd.DataFrame(amenities_matrix, columns=mlb.classes_)\n"
   ]
  },
  {
   "cell_type": "code",
   "execution_count": 243,
   "id": "05ff75d7-8198-4269-ac6b-5fb65971e67f",
   "metadata": {},
   "outputs": [
    {
     "data": {
      "text/html": [
       "<div>\n",
       "<style scoped>\n",
       "    .dataframe tbody tr th:only-of-type {\n",
       "        vertical-align: middle;\n",
       "    }\n",
       "\n",
       "    .dataframe tbody tr th {\n",
       "        vertical-align: top;\n",
       "    }\n",
       "\n",
       "    .dataframe thead th {\n",
       "        text-align: right;\n",
       "    }\n",
       "</style>\n",
       "<table border=\"1\" class=\"dataframe\">\n",
       "  <thead>\n",
       "    <tr style=\"text-align: right;\">\n",
       "      <th></th>\n",
       "      <th>3 tier security system</th>\n",
       "      <th>ac in each room</th>\n",
       "      <th>activity deck4</th>\n",
       "      <th>aerobics room</th>\n",
       "      <th>aesthetically designed landscape garden</th>\n",
       "      <th>air conditioned</th>\n",
       "      <th>all wooden flooring</th>\n",
       "      <th>art center</th>\n",
       "      <th>arts &amp; craft studio</th>\n",
       "      <th>badminton court</th>\n",
       "      <th>...</th>\n",
       "      <th>volleyball court</th>\n",
       "      <th>waste disposal</th>\n",
       "      <th>waste water recycling</th>\n",
       "      <th>water front</th>\n",
       "      <th>water storage</th>\n",
       "      <th>water treatment plant</th>\n",
       "      <th>wheelchair accessibility</th>\n",
       "      <th>whiteboard</th>\n",
       "      <th>wine cellar</th>\n",
       "      <th>wrap around balcony</th>\n",
       "    </tr>\n",
       "  </thead>\n",
       "  <tbody>\n",
       "    <tr>\n",
       "      <th>0</th>\n",
       "      <td>1</td>\n",
       "      <td>0</td>\n",
       "      <td>0</td>\n",
       "      <td>1</td>\n",
       "      <td>0</td>\n",
       "      <td>0</td>\n",
       "      <td>0</td>\n",
       "      <td>0</td>\n",
       "      <td>1</td>\n",
       "      <td>1</td>\n",
       "      <td>...</td>\n",
       "      <td>0</td>\n",
       "      <td>1</td>\n",
       "      <td>0</td>\n",
       "      <td>0</td>\n",
       "      <td>1</td>\n",
       "      <td>0</td>\n",
       "      <td>0</td>\n",
       "      <td>0</td>\n",
       "      <td>0</td>\n",
       "      <td>0</td>\n",
       "    </tr>\n",
       "    <tr>\n",
       "      <th>1</th>\n",
       "      <td>1</td>\n",
       "      <td>0</td>\n",
       "      <td>1</td>\n",
       "      <td>1</td>\n",
       "      <td>0</td>\n",
       "      <td>1</td>\n",
       "      <td>0</td>\n",
       "      <td>0</td>\n",
       "      <td>1</td>\n",
       "      <td>0</td>\n",
       "      <td>...</td>\n",
       "      <td>0</td>\n",
       "      <td>1</td>\n",
       "      <td>0</td>\n",
       "      <td>0</td>\n",
       "      <td>1</td>\n",
       "      <td>0</td>\n",
       "      <td>0</td>\n",
       "      <td>0</td>\n",
       "      <td>0</td>\n",
       "      <td>0</td>\n",
       "    </tr>\n",
       "    <tr>\n",
       "      <th>2</th>\n",
       "      <td>0</td>\n",
       "      <td>0</td>\n",
       "      <td>0</td>\n",
       "      <td>0</td>\n",
       "      <td>0</td>\n",
       "      <td>0</td>\n",
       "      <td>0</td>\n",
       "      <td>0</td>\n",
       "      <td>0</td>\n",
       "      <td>0</td>\n",
       "      <td>...</td>\n",
       "      <td>0</td>\n",
       "      <td>0</td>\n",
       "      <td>0</td>\n",
       "      <td>0</td>\n",
       "      <td>0</td>\n",
       "      <td>0</td>\n",
       "      <td>0</td>\n",
       "      <td>0</td>\n",
       "      <td>0</td>\n",
       "      <td>0</td>\n",
       "    </tr>\n",
       "    <tr>\n",
       "      <th>3</th>\n",
       "      <td>0</td>\n",
       "      <td>0</td>\n",
       "      <td>0</td>\n",
       "      <td>0</td>\n",
       "      <td>0</td>\n",
       "      <td>0</td>\n",
       "      <td>0</td>\n",
       "      <td>0</td>\n",
       "      <td>0</td>\n",
       "      <td>0</td>\n",
       "      <td>...</td>\n",
       "      <td>1</td>\n",
       "      <td>0</td>\n",
       "      <td>0</td>\n",
       "      <td>0</td>\n",
       "      <td>0</td>\n",
       "      <td>0</td>\n",
       "      <td>0</td>\n",
       "      <td>0</td>\n",
       "      <td>0</td>\n",
       "      <td>0</td>\n",
       "    </tr>\n",
       "    <tr>\n",
       "      <th>4</th>\n",
       "      <td>0</td>\n",
       "      <td>0</td>\n",
       "      <td>0</td>\n",
       "      <td>1</td>\n",
       "      <td>0</td>\n",
       "      <td>0</td>\n",
       "      <td>0</td>\n",
       "      <td>0</td>\n",
       "      <td>0</td>\n",
       "      <td>0</td>\n",
       "      <td>...</td>\n",
       "      <td>0</td>\n",
       "      <td>0</td>\n",
       "      <td>0</td>\n",
       "      <td>0</td>\n",
       "      <td>0</td>\n",
       "      <td>0</td>\n",
       "      <td>0</td>\n",
       "      <td>0</td>\n",
       "      <td>0</td>\n",
       "      <td>0</td>\n",
       "    </tr>\n",
       "  </tbody>\n",
       "</table>\n",
       "<p>5 rows × 132 columns</p>\n",
       "</div>"
      ],
      "text/plain": [
       "   3 tier security system  ac in each room  activity deck4  aerobics room  \\\n",
       "0                       1                0               0              1   \n",
       "1                       1                0               1              1   \n",
       "2                       0                0               0              0   \n",
       "3                       0                0               0              0   \n",
       "4                       0                0               0              1   \n",
       "\n",
       "   aesthetically designed landscape garden  air conditioned  \\\n",
       "0                                        0                0   \n",
       "1                                        0                1   \n",
       "2                                        0                0   \n",
       "3                                        0                0   \n",
       "4                                        0                0   \n",
       "\n",
       "   all wooden flooring  art center  arts & craft studio  badminton court  ...  \\\n",
       "0                    0           0                    1                1  ...   \n",
       "1                    0           0                    1                0  ...   \n",
       "2                    0           0                    0                0  ...   \n",
       "3                    0           0                    0                0  ...   \n",
       "4                    0           0                    0                0  ...   \n",
       "\n",
       "   volleyball court  waste disposal  waste water recycling  water front  \\\n",
       "0                 0               1                      0            0   \n",
       "1                 0               1                      0            0   \n",
       "2                 0               0                      0            0   \n",
       "3                 1               0                      0            0   \n",
       "4                 0               0                      0            0   \n",
       "\n",
       "   water storage  water treatment plant  wheelchair accessibility  whiteboard  \\\n",
       "0              1                      0                         0           0   \n",
       "1              1                      0                         0           0   \n",
       "2              0                      0                         0           0   \n",
       "3              0                      0                         0           0   \n",
       "4              0                      0                         0           0   \n",
       "\n",
       "   wine cellar  wrap around balcony  \n",
       "0            0                    0  \n",
       "1            0                    0  \n",
       "2            0                    0  \n",
       "3            0                    0  \n",
       "4            0                    0  \n",
       "\n",
       "[5 rows x 132 columns]"
      ]
     },
     "execution_count": 243,
     "metadata": {},
     "output_type": "execute_result"
    }
   ],
   "source": [
    "amenities_encoded.head()"
   ]
  },
  {
   "cell_type": "code",
   "execution_count": 244,
   "id": "57802c8f-00c7-405b-92e4-ea6b7f38c4da",
   "metadata": {},
   "outputs": [
    {
     "data": {
      "image/png": "[encoded data removed]",
      "text/plain": [
       "<Figure size 640x480 with 1 Axes>"
      ]
     },
     "metadata": {},
     "output_type": "display_data"
    }
   ],
   "source": [
    "from sklearn.cluster import KMeans\n",
    "from sklearn.metrics import silhouette_score\n",
    "import matplotlib.pyplot as plt\n",
    "\n",
    "# Find the optimal number of clusters (Elbow Method)\n",
    "inertia = []\n",
    "range_n_clusters = range(2, 10)\n",
    "for n_clusters in range_n_clusters:\n",
    "    kmeans = KMeans(n_clusters=n_clusters, random_state=42)\n",
    "    kmeans.fit(amenities_encoded)\n",
    "    inertia.append(kmeans.inertia_)\n",
    "\n",
    "# Plot the Elbow Curve\n",
    "plt.plot(range_n_clusters, inertia, marker='o')\n",
    "plt.xlabel('Number of Clusters')\n",
    "plt.ylabel('Inertia')\n",
    "plt.title('Elbow Method')\n",
    "plt.show()\n",
    "\n",
    "# Use the chosen number of clusters\n",
    "kmeans = KMeans(n_clusters=5, random_state=42)\n",
    "df['amenities_cluster'] = kmeans.fit_predict(amenities_encoded)\n"
   ]
  },
  {
   "cell_type": "code",
   "execution_count": 245,
   "id": "d016b04c-ae47-42fd-a8bc-f5f37046a6b7",
   "metadata": {},
   "outputs": [
    {
     "name": "stdout",
     "output_type": "stream",
     "text": [
      "Silhouette Score for 5 clusters: 0.41231547297131194\n"
     ]
    }
   ],
   "source": [
    "from sklearn.metrics import silhouette_score\n",
    "\n",
    "# Calculate silhouette score\n",
    "silhouette_avg = silhouette_score(amenities_encoded, df['amenities_cluster'])\n",
    "print(\"Silhouette Score for 5 clusters:\", silhouette_avg)"
   ]
  },
  {
   "cell_type": "code",
   "execution_count": 246,
   "id": "a8b455c8-ee0b-4616-9cdc-1849aadddf3f",
   "metadata": {},
   "outputs": [
    {
     "data": {
      "text/plain": [
       "amenities_cluster\n",
       "1    5541\n",
       "3    2429\n",
       "0    2304\n",
       "2    1055\n",
       "4     674\n",
       "Name: count, dtype: int64"
      ]
     },
     "execution_count": 246,
     "metadata": {},
     "output_type": "execute_result"
    }
   ],
   "source": [
    "df['amenities_cluster'].value_counts()"
   ]
  },
  {
   "cell_type": "markdown",
   "id": "5a0cda8d-d020-4147-ba38-3994c2575a06",
   "metadata": {},
   "source": [
    "# observation \n",
    "- silhouette score is above 0.5, means clustering is generally well-formed. If it's lower (e.g., below 0.3), we might reconsider the number of clusters and 0.4 to 0.5: Moderate clustering performance — some overlap between clusters likely exists, but the separation isn't completely poor.\n",
    "- tries with n_clusters=4,5,6 also but the silhouette score wont improve more than 0.42\n",
    "- silhouette score = 0.41 for 5 clusters shown that Moderate clustering performance, it can improve if we handle the missing values well "
   ]
  },
  {
   "cell_type": "markdown",
   "id": "ac9958a6-2716-4d69-9bf6-a0521cec0531",
   "metadata": {},
   "source": [
    "### method 2 : assign weightage"
   ]
  },
  {
   "cell_type": "code",
   "execution_count": 247,
   "id": "2d909b51-6157-4445-9cfe-b78d05578f4c",
   "metadata": {},
   "outputs": [],
   "source": [
    "#final\n",
    "amenities_weightages = {\n",
    "    \"sea facing\": 10,\n",
    "    \"private pool\": 10,\n",
    "    \"private jaccuzi\": 10,\n",
    "    \"sky villa\": 10,\n",
    "    \"helipad\": 10,\n",
    "    \"wrap around balcony\": 7,\n",
    "    \"infinity swimming pool\": 10,\n",
    "    \"high ceiling\": 9,\n",
    "    \"located in the heart of city\": 10,\n",
    "    \"large open space\": 10,\n",
    "    \"skyline view\": 10,\n",
    "    \"private terrace/garden\": 10,\n",
    "    \"private garage\": 10,\n",
    "    \"mansion\": 10,\n",
    "    \"club house\": 9,\n",
    "    \"large clubhouse\": 9,\n",
    "    \"modular kitchen\": 9,\n",
    "    \"central ac\": 9,\n",
    "    \"banquet hall\": 6,\n",
    "    \"premium branded fittings\": 9,\n",
    "    \"private garden\": 9,\n",
    "    \"full glass wall\": 9,\n",
    "    \"garden view\": 9,\n",
    "    \"theme based architectures\": 9,\n",
    "    \"grand entrance lobby\": 9,\n",
    "    \"smart home\": 9,\n",
    "    \"library and business centre\": 9,\n",
    "    \"recreational pool\": 9,\n",
    "    \"projector\": 8,\n",
    "    \"swimming pool\": 8,\n",
    "    \"gymnasium\": 8,\n",
    "    \"indoor squash & badminton courts\": 8,\n",
    "    \"outdoor tennis courts\": 8,\n",
    "    \"cycling & jogging track\": 8,\n",
    "    \"kids play pool with water slides\": 8,\n",
    "    \"guest lobby in each floor\": 8,\n",
    "    \"aesthetically designed landscape garden\": 8,\n",
    "    \"health club with steam / jacuzzi\": 8,\n",
    "    \"meditation area\": 8,\n",
    "    \"pet park\": 8,\n",
    "    \"visitor parking\": 8,\n",
    "    \"badminton court\": 8,\n",
    "    \"kids play area\": 7,\n",
    "    \"community hall\": 7,\n",
    "    \"power back up\": 7,\n",
    "    \"cctv camera\": 7,\n",
    "    \"rain water harvesting\": 7,\n",
    "    \"internet/wi-fi connectivity\": 7,\n",
    "    \"cycling track\": 7,\n",
    "    \"art center\": 7,\n",
    "    \"library\": 7,\n",
    "    \"fire sprinklers\": 7,\n",
    "    \"multipurpose hall\": 7,\n",
    "    \"event space & amphitheatre\": 7,\n",
    "    \"flower gardens\": 6,\n",
    "    \"curated garden\": 6,\n",
    "    \"multipurpose courts\": 7,\n",
    "    \"dth television facility\": 5,\n",
    "    \"fire fighting equipment\": 6,\n",
    "    \"provision for power backup\": 7,\n",
    "    \"sand pit\": 6,\n",
    "    \"sewage treatment plant\": 6,\n",
    "    \"solar energy\": 7,\n",
    "    \"piped gas\": 6,\n",
    "    \"kids club\": 6,\n",
    "    \"waste disposal\": 6,\n",
    "    \"lift\": 5,\n",
    "    \"security\": 5,\n",
    "    \"maintenance staff\": 5,\n",
    "    \"reserved parking\": 5,\n",
    "    \"ro water system\": 5,\n",
    "    \"wheelchair accessibility\": 5,\n",
    "    \"shopping center\": 5,\n",
    "    \"laundry service\": 5,\n",
    "    \"bank & atm\": 5,\n",
    "    \"community entrance gate\": 5,\n",
    "    \"canopy walk\": 4,\n",
    "    \"entry exit gate\": 4,\n",
    "    \"early learning centre\": 4,\n",
    "    \"earth quake resistant\": 7,\n",
    "    \"waste water recycling\": 6,\n",
    "    \"whiteboard\": 3,\n",
    "    \"printer\": 3,\n",
    "    \"tea/coffee\": 3,\n",
    "    \"house help accommodation\": 7,\n",
    "    \"study room\": 5,\n",
    "    \"ground water recharging\": 5,\n",
    "    \"unknown\": 0,\n",
    "    \"3 tier security system\": 8,\n",
    "    \"ac in each room\": 9,\n",
    "    \"activity deck4\": 7,\n",
    "    \"aerobics room\": 7,\n",
    "    \"air conditioned\": 9,\n",
    "    \"all wooden flooring\": 8,\n",
    "    \"arts & craft studio\": 6,\n",
    "    \"bar/lounge\": 7,\n",
    "    \"barbeque pit\": 6,\n",
    "    \"barbeque space\": 6,\n",
    "    \"cafeteria/food court\": 7,\n",
    "    \"coffee lounge & restaurants\": 7,\n",
    "    \"concierge services\": 9,\n",
    "    \"conference room\": 8,\n",
    "    \"cricket net practice\": 6,\n",
    "    \"dance studio\": 7,\n",
    "    \"downtown\": 10,\n",
    "    \"fingerprint access\": 8,\n",
    "    \"fireplace\": 6,\n",
    "    \"golf course\": 10,\n",
    "    \"hilltop\": 10,\n",
    "    \"horticulture\": 6,\n",
    "    \"indoor games room\": 7,\n",
    "    \"island kitchen layout\": 8,\n",
    "    \"jogging and strolling track\": 7,\n",
    "    \"kids splash pool\": 7,\n",
    "    \"lawn with pathway\": 6,\n",
    "    \"guest accommodation\":8,\n",
    "    \"marble flooring\": 9,\n",
    "    \"mini cinema theatre\": 9,\n",
    "    \"half basketball court\":7,\n",
    "    \"park\": 8,\n",
    "    \"pool with temperature control\": 10,\n",
    "    \"intercom facility\":6,\n",
    "    \"rentable community space\": 6,\n",
    "    \"retail boulevard (retail shops)\": 8,\n",
    "    \"service/goods lift\": 6,\n",
    "    \"skydeck\": 9,\n",
    "    \"vaastu compliant\": 7,\n",
    "    \"volleyball court\": 6,\n",
    "    \"water front\": 10,\n",
    "    \"water storage\": 5,\n",
    "    \"water treatment plant\": 7,\n",
    "    \"wine cellar\": 8\n",
    "}"
   ]
  },
  {
   "cell_type": "code",
   "execution_count": 248,
   "id": "4fee14ce-8609-4f10-9e50-565898201d1d",
   "metadata": {},
   "outputs": [],
   "source": [
    "# Function to calculate the combination score\n",
    "def calculate_combination_score(amenities_combination):\n",
    "    amenities_types = [f.strip().lower() for f in amenities_combination.split(\",\")]\n",
    "    total_weight = sum(amenities_weightages.get(f, 0) for f in amenities_types)\n",
    "    #combination_score = total_weight / len(amenities_types)\n",
    "    return round(total_weight, 2)\n",
    "\n",
    "# Apply the function to the dataframe\n",
    "df[\"assigned_amenities_score\"] = df[\"amenities\"].apply(calculate_combination_score)"
   ]
  },
  {
   "cell_type": "code",
   "execution_count": 249,
   "id": "e5b6c80f-1d76-4480-8490-ce51c1f8daf8",
   "metadata": {},
   "outputs": [
    {
     "data": {
      "text/plain": [
       "0    321\n",
       "1    410\n",
       "2     84\n",
       "3    119\n",
       "4     72\n",
       "Name: assigned_amenities_score, dtype: int64"
      ]
     },
     "execution_count": 249,
     "metadata": {},
     "output_type": "execute_result"
    }
   ],
   "source": [
    "df[\"assigned_amenities_score\"].head() "
   ]
  },
  {
   "cell_type": "code",
   "execution_count": 250,
   "id": "8a08917c-3c33-4bc0-9f98-b5054ef69da3",
   "metadata": {},
   "outputs": [
    {
     "data": {
      "text/plain": [
       "assigned_amenities_score\n",
       "0      5196\n",
       "88      123\n",
       "271     112\n",
       "282     112\n",
       "100     104\n",
       "60      100\n",
       "70       94\n",
       "216      84\n",
       "76       80\n",
       "59       79\n",
       "62       75\n",
       "119      75\n",
       "298      74\n",
       "81       71\n",
       "101      69\n",
       "182      68\n",
       "313      65\n",
       "63       62\n",
       "90       62\n",
       "68       61\n",
       "71       61\n",
       "321      59\n",
       "58       59\n",
       "83       58\n",
       "362      57\n",
       "181      56\n",
       "61       52\n",
       "444      51\n",
       "107      51\n",
       "78       49\n",
       "207      48\n",
       "69       47\n",
       "49       46\n",
       "110      46\n",
       "92       45\n",
       "66       44\n",
       "109      44\n",
       "77       44\n",
       "23       43\n",
       "136      43\n",
       "72       43\n",
       "137      43\n",
       "112      42\n",
       "105      42\n",
       "46       40\n",
       "51       40\n",
       "122      39\n",
       "236      39\n",
       "121      39\n",
       "86       39\n",
       "39       39\n",
       "37       38\n",
       "74       37\n",
       "30       36\n",
       "87       36\n",
       "140      36\n",
       "128      35\n",
       "302      35\n",
       "38       35\n",
       "102      34\n",
       "148      34\n",
       "44       33\n",
       "26       33\n",
       "31       33\n",
       "149      32\n",
       "141      32\n",
       "56       32\n",
       "111      32\n",
       "85       32\n",
       "64       32\n",
       "143      32\n",
       "146      32\n",
       "376      32\n",
       "250      31\n",
       "231      31\n",
       "130      31\n",
       "153      31\n",
       "209      30\n",
       "261      30\n",
       "48       30\n",
       "22       30\n",
       "120      29\n",
       "372      29\n",
       "24       29\n",
       "57       29\n",
       "129      29\n",
       "113      28\n",
       "95       28\n",
       "53       28\n",
       "286      27\n",
       "104      27\n",
       "84       27\n",
       "228      27\n",
       "32       27\n",
       "176      27\n",
       "151      26\n",
       "167      26\n",
       "296      26\n",
       "42       26\n",
       "410      26\n",
       "103      25\n",
       "133      25\n",
       "98       25\n",
       "34       24\n",
       "118      24\n",
       "80       24\n",
       "36       24\n",
       "162      24\n",
       "55       23\n",
       "150      23\n",
       "339      23\n",
       "89       22\n",
       "125      22\n",
       "208      22\n",
       "41       21\n",
       "240      21\n",
       "116      21\n",
       "139      21\n",
       "392      21\n",
       "154      21\n",
       "73       21\n",
       "97       20\n",
       "135      20\n",
       "99       19\n",
       "45       19\n",
       "191      19\n",
       "115      19\n",
       "383      19\n",
       "332      19\n",
       "50       19\n",
       "117      18\n",
       "156      18\n",
       "253      18\n",
       "369      18\n",
       "54       18\n",
       "174      18\n",
       "260      18\n",
       "25       18\n",
       "274      18\n",
       "152      17\n",
       "47       17\n",
       "43       17\n",
       "178      17\n",
       "192      17\n",
       "52       17\n",
       "93       17\n",
       "166      17\n",
       "106      17\n",
       "124      17\n",
       "157      17\n",
       "204      17\n",
       "186      16\n",
       "40       16\n",
       "173      16\n",
       "94       16\n",
       "108      16\n",
       "132      15\n",
       "344      15\n",
       "75       15\n",
       "65       15\n",
       "27       15\n",
       "206      15\n",
       "193      15\n",
       "180      15\n",
       "123      15\n",
       "225      14\n",
       "29       14\n",
       "18       14\n",
       "13       14\n",
       "147      14\n",
       "404      14\n",
       "91       14\n",
       "17       14\n",
       "217      14\n",
       "210      14\n",
       "252      13\n",
       "15       13\n",
       "342      13\n",
       "79       13\n",
       "159      13\n",
       "35       13\n",
       "170      13\n",
       "212      12\n",
       "126      12\n",
       "219      12\n",
       "165      12\n",
       "114      11\n",
       "28       11\n",
       "131      11\n",
       "82       11\n",
       "232      11\n",
       "160      11\n",
       "184      11\n",
       "96       11\n",
       "134      11\n",
       "127      10\n",
       "218      10\n",
       "300      10\n",
       "187      10\n",
       "393      10\n",
       "21       10\n",
       "316      10\n",
       "169      10\n",
       "6        10\n",
       "175       9\n",
       "179       9\n",
       "319       9\n",
       "285       9\n",
       "33        9\n",
       "190       9\n",
       "348       9\n",
       "171       9\n",
       "364       9\n",
       "183       8\n",
       "205       8\n",
       "168       8\n",
       "14        8\n",
       "326       8\n",
       "161       8\n",
       "197       8\n",
       "196       8\n",
       "293       8\n",
       "278       8\n",
       "201       8\n",
       "248       8\n",
       "164       8\n",
       "67        8\n",
       "185       8\n",
       "256       8\n",
       "189       8\n",
       "138       7\n",
       "16        7\n",
       "290       7\n",
       "195       7\n",
       "322       7\n",
       "163       7\n",
       "246       6\n",
       "203       6\n",
       "336       6\n",
       "487       6\n",
       "144       6\n",
       "198       6\n",
       "8         6\n",
       "220       6\n",
       "188       6\n",
       "7         5\n",
       "234       5\n",
       "305       5\n",
       "235       5\n",
       "142       5\n",
       "158       5\n",
       "245       5\n",
       "215       5\n",
       "19        5\n",
       "251       5\n",
       "287       5\n",
       "379       5\n",
       "226       5\n",
       "213       5\n",
       "283       5\n",
       "145       4\n",
       "388       4\n",
       "347       4\n",
       "294       4\n",
       "409       4\n",
       "233       4\n",
       "377       4\n",
       "349       4\n",
       "10        4\n",
       "223       4\n",
       "414       4\n",
       "306       4\n",
       "214       4\n",
       "222       4\n",
       "12        4\n",
       "635       4\n",
       "230       4\n",
       "266       3\n",
       "242       3\n",
       "172       3\n",
       "270       3\n",
       "276       3\n",
       "243       3\n",
       "378       3\n",
       "155       3\n",
       "361       3\n",
       "262       3\n",
       "367       3\n",
       "263       3\n",
       "343       3\n",
       "360       3\n",
       "309       3\n",
       "279       3\n",
       "341       3\n",
       "351       3\n",
       "398       3\n",
       "211       3\n",
       "335       3\n",
       "5         3\n",
       "320       3\n",
       "280       2\n",
       "244       2\n",
       "177       2\n",
       "311       2\n",
       "368       2\n",
       "277       2\n",
       "202       2\n",
       "194       2\n",
       "303       2\n",
       "20        2\n",
       "354       2\n",
       "200       2\n",
       "292       2\n",
       "301       2\n",
       "258       2\n",
       "284       2\n",
       "328       2\n",
       "288       2\n",
       "325       2\n",
       "331       1\n",
       "221       1\n",
       "269       1\n",
       "238       1\n",
       "265       1\n",
       "237       1\n",
       "314       1\n",
       "239       1\n",
       "11        1\n",
       "241       1\n",
       "227       1\n",
       "370       1\n",
       "375       1\n",
       "257       1\n",
       "355       1\n",
       "365       1\n",
       "337       1\n",
       "304       1\n",
       "224       1\n",
       "Name: count, dtype: int64"
      ]
     },
     "execution_count": 250,
     "metadata": {},
     "output_type": "execute_result"
    }
   ],
   "source": [
    "df[\"assigned_amenities_score\"].value_counts()"
   ]
  },
  {
   "cell_type": "code",
   "execution_count": 251,
   "id": "4056e59b-fc60-4937-8d5a-2f1027786665",
   "metadata": {},
   "outputs": [
    {
     "data": {
      "image/png": "[encoded data removed]",
      "text/plain": [
       "<Figure size 640x480 with 1 Axes>"
      ]
     },
     "metadata": {},
     "output_type": "display_data"
    }
   ],
   "source": [
    "# Filter data for 'mumbai'\n",
    "#filtered_df = df[df['addressregion'] == 'thane']\n",
    "\n",
    "sns.scatterplot(x=df['assigned_amenities_score'], y=df['price'], hue=df['addressregion'])\n",
    "\n",
    "# Add labels and title\n",
    "plt.xlabel('assigned_amenities_score')\n",
    "plt.ylabel('price')\n",
    "plt.title('Scatterplot of amenities_score and price')\n",
    "plt.legend(title='Address Region')\n",
    "plt.show()"
   ]
  },
  {
   "cell_type": "code",
   "execution_count": 252,
   "id": "b3899dcb-f281-4e12-be1e-d3e0b83d0633",
   "metadata": {},
   "outputs": [],
   "source": [
    "# Replace 0 with NaN\n",
    "df['assigned_amenities_score'] = df['assigned_amenities_score'].replace(0, None)"
   ]
  },
  {
   "cell_type": "code",
   "execution_count": 253,
   "id": "57bb9ea0-7f96-44ba-afdf-3d408723732c",
   "metadata": {},
   "outputs": [],
   "source": [
    "df['assigned_amenities_score'] = pd.to_numeric(df['assigned_amenities_score'], errors='coerce')"
   ]
  },
  {
   "cell_type": "markdown",
   "id": "9e16fff7-375a-45ff-adcc-10c5a085bc53",
   "metadata": {},
   "source": [
    "### method 3: actual weightage"
   ]
  },
  {
   "cell_type": "markdown",
   "id": "7e9ec430-9ce5-42b1-9f08-aac2ae60cb04",
   "metadata": {},
   "source": [
    "## note : use this method only after this structure \n",
    "so before using below code make sure that this steps are compulsory you have to do then use below code \n",
    "\n",
    "1. Handle Missing Values (e.g., SimpleImputer, KNNImputer, or domain-specific methods)\n",
    "2. Apply Train-CV-Test Split then Compute Weightage for extra_rooms (using the training set) then Use Weightage in CV and Test Sets (for this code is below)\n",
    "3. Proceed with Model Training & Evaluation"
   ]
  },
  {
   "cell_type": "markdown",
   "id": "a5775012-21af-4ee2-93d6-f3e8432a6a0d",
   "metadata": {},
   "source": [
    "### I've structured the code like this\n",
    "1. **Train-test split per `addressregion`**.\n",
    "2. **Group the train data by `addressregion`**.\n",
    "3. **Calculate weightages per region based on the training data**.\n",
    "4. **Apply these weightages to both the train and test sets**."
   ]
  },
  {
   "cell_type": "code",
   "execution_count": 254,
   "id": "e930af6f-716f-41ea-a899-57b522cae894",
   "metadata": {},
   "outputs": [
    {
     "name": "stdout",
     "output_type": "stream",
     "text": [
      "Region: mumbai\n",
      "Average price with amenities: 3.9524948516050884\n",
      "Average price without amenities: 2.951716960352423\n",
      "Weightage per amenity type (train data):\n",
      "amenities\n",
      "3 tier security system                     0.7\n",
      "ac in each room                            1.2\n",
      "activity deck4                             1.2\n",
      "aerobics room                              1.3\n",
      "aesthetically designed landscape garden    0.7\n",
      "air conditioned                            0.8\n",
      "all wooden flooring                        3.5\n",
      "art center                                 1.1\n",
      "arts & craft studio                        1.6\n",
      "badminton court                            1.1\n",
      "bank & atm                                 1.6\n",
      "banquet hall                               1.3\n",
      "bar/lounge                                 1.8\n",
      "barbeque pit                               3.3\n",
      "barbeque space                             0.0\n",
      "cafeteria/food court                       1.1\n",
      "canopy walk                                2.2\n",
      "cctv camera                                0.7\n",
      "central ac                                 1.3\n",
      "club house                                 1.2\n",
      "coffee lounge & restaurants                2.0\n",
      "community entrance gate                    0.7\n",
      "community hall                             1.4\n",
      "concierge services                         1.1\n",
      "conference room                            2.1\n",
      "cricket net practice                       0.7\n",
      "curated garden                             0.1\n",
      "cycling & jogging track                    0.8\n",
      "cycling track                              0.2\n",
      "dance studio                               1.0\n",
      "downtown                                   0.0\n",
      "dth television facility                    1.0\n",
      "early learning centre                      1.0\n",
      "earth quake resistant                      1.2\n",
      "entry exit gate                            1.2\n",
      "event space & amphitheatre                 1.6\n",
      "fingerprint access                         1.0\n",
      "fire fighting equipment                    1.0\n",
      "fire sprinklers                            0.2\n",
      "fireplace                                  0.6\n",
      "flower gardens                             0.9\n",
      "full glass wall                            0.2\n",
      "garden view                                0.0\n",
      "golf course                                1.9\n",
      "grand entrance lobby                       0.6\n",
      "ground water recharging                    0.0\n",
      "guest accommodation                        1.0\n",
      "guest lobby in each floor                  0.7\n",
      "gymnasium                                  0.9\n",
      "half basketball court                      0.3\n",
      "health club with steam / jaccuzi           1.2\n",
      "helipad                                    0.5\n",
      "high ceiling                               1.4\n",
      "hilltop                                    0.3\n",
      "horticulture                               3.0\n",
      "house help accommodation                   0.4\n",
      "indoor games room                          0.8\n",
      "indoor squash & badminton courts           1.1\n",
      "infinity swimming pool                     0.8\n",
      "intercom facility                          1.1\n",
      "internet/wi-fi connectivity                1.0\n",
      "island kitchen layout                      0.5\n",
      "jogging and strolling track                0.9\n",
      "kids club                                  1.3\n",
      "kids play area                             0.6\n",
      "kids play pool with water slides           1.4\n",
      "kids splash pool                           1.4\n",
      "large clubhouse                            1.4\n",
      "large open space                           0.8\n",
      "laundry service                            1.4\n",
      "lawn with pathway                          0.0\n",
      "library                                    0.3\n",
      "library and business centre                1.8\n",
      "lift                                       0.9\n",
      "located in the heart of city               0.8\n",
      "maintenance staff                          1.3\n",
      "mansion                                    9.8\n",
      "marble flooring                            0.0\n",
      "meditation area                            1.0\n",
      "mini cinema theatre                        1.1\n",
      "modular kitchen                            0.0\n",
      "multipurpose courts                        0.6\n",
      "multipurpose hall                          0.8\n",
      "outdoor tennis courts                      1.6\n",
      "park                                       1.0\n",
      "pet park                                   0.3\n",
      "piped gas                                  0.7\n",
      "pool with temperature control              2.4\n",
      "power back up                              1.1\n",
      "premium branded fittings                   0.7\n",
      "printer                                    0.0\n",
      "private garage                             0.5\n",
      "private garden                             0.0\n",
      "private jaccuzi                            1.4\n",
      "private pool                               2.8\n",
      "private terrace/garden                     1.7\n",
      "projector                                  0.0\n",
      "provision for power backup                 0.8\n",
      "rain water harvesting                      0.9\n",
      "recreational pool                          1.4\n",
      "rentable community space                   1.7\n",
      "reserved parking                           1.0\n",
      "retail boulevard (retail shops)            0.7\n",
      "ro water system                            0.8\n",
      "sand pit                                   0.0\n",
      "sea facing                                 1.5\n",
      "security                                   0.8\n",
      "service/goods lift                         1.3\n",
      "sewage treatment plant                     0.6\n",
      "shopping center                            2.8\n",
      "sky villa                                  0.0\n",
      "skydeck                                    2.2\n",
      "skyline view                               0.6\n",
      "smart home                                 4.3\n",
      "solar energy                               1.2\n",
      "study room                                 0.0\n",
      "swimming pool                              1.2\n",
      "tea/coffee                                 0.2\n",
      "theme based architectures                  1.4\n",
      "unknown                                    0.0\n",
      "vaastu compliant                           1.3\n",
      "visitor parking                            1.2\n",
      "volleyball court                           0.1\n",
      "waste disposal                             1.0\n",
      "waste water recycling                      0.0\n",
      "water front                                0.4\n",
      "water storage                              0.9\n",
      "water treatment plant                      0.0\n",
      "wheelchair accessibility                   1.1\n",
      "whiteboard                                 0.0\n",
      "wine cellar                                0.0\n",
      "wrap around balcony                        0.0\n",
      "Name: price, dtype: float64\n",
      "Train data with corrected weightages:\n",
      "                                                                                                                                                                                                                                                                                                                                                                                                                                                                                                                                                                                                                                                                                                                                                                                                                                   amenities  \\\n",
      "3280                                                           club house, cafeteria/food court, jogging and strolling track, outdoor tennis courts, power back up, swimming pool, lift, security, park, reserved parking, service/goods lift, visitor parking, maintenance staff, banquet hall, gymnasium, rain water harvesting, water storage, indoor squash & badminton courts, arts & craft studio, multipurpose courts, meditation area, waste disposal, conference room, located in the heart of city, large clubhouse, 3 tier security system, large open space, kids play area, library, event space & amphitheatre, fire fighting equipment, dth television facility, ro water system, cricket net practice, earth quake resistant, theme based architectures, kids splash pool, curated garden, half basketball court, central ac   \n",
      "78                                                                                                                                                                                                                                                                                                                            club house, jogging and strolling track, power back up, swimming pool, lift, security, park, reserved parking, service/goods lift, visitor parking, maintenance staff, banquet hall, gymnasium, indoor games room, aerobics room, rain water harvesting, water storage, indoor squash & badminton courts, multipurpose courts, waste disposal, mini cinema theatre, fire fighting equipment, intercom facility, kids club, flower gardens, retail boulevard (retail shops), outdoor tennis courts, cctv camera   \n",
      "9917                                                                                                                                                                                                                                                                                                                                                                                                                                                                                                                                                                                                                                                                                                                                                                                                                                 unknown   \n",
      "5020  club house, cafeteria/food court, bar/lounge, jogging and strolling track, outdoor tennis courts, power back up, swimming pool, lift, security, park, reserved parking, service/goods lift, visitor parking, maintenance staff, banquet hall, gymnasium, laundry service, piped gas, rain water harvesting, water storage, meditation area, fingerprint access, waste disposal, conference room, health club with steam / jaccuzi, private terrace/garden, intercom facility, dth television facility, ro water system, air conditioned, vaastu compliant, internet/wi-fi connectivity, private pool, private jaccuzi, theme based architectures, skydeck, skyline view, house help accommodation, smart home, concierge services, island kitchen layout, full glass wall, fireplace, water front, private garage, downtown, sky villa   \n",
      "7513                                                                                                                                                                                                                                                                                                                                                                                                                                                                                                                                                                                                                                                                                                                                                                                                                                 unknown   \n",
      "\n",
      "      weightage  \n",
      "3280       41.4  \n",
      "78         29.1  \n",
      "9917        0.0  \n",
      "5020       52.9  \n",
      "7513        0.0  \n",
      "Test data with corrected weightages:\n",
      "                                                                                                                                                                                                                                                                                                                                                                                                                                                                                                                                                                                                                                                                                                amenities  \\\n",
      "7036              club house, cafeteria/food court, jogging and strolling track, outdoor tennis courts, power back up, swimming pool, lift, security, park, reserved parking, service/goods lift, visitor parking, maintenance staff, banquet hall, gymnasium, indoor games room, aerobics room, laundry service, rain water harvesting, water storage, indoor squash & badminton courts, arts & craft studio, multipurpose courts, meditation area, waste disposal, conference room, fire fighting equipment, cycling & jogging track, guest accommodation, kids club, dth television facility, flower gardens, library and business centre, recreational pool, rentable community space, activity deck4   \n",
      "3236  barbeque pit, power back up, swimming pool, lift, security, park, reserved parking, maintenance staff, banquet hall, gymnasium, indoor games room, laundry service, piped gas, rain water harvesting, indoor squash & badminton courts, meditation area, fingerprint access, waste disposal, located in the heart of city, 3 tier security system, large open space, grand entrance lobby, multipurpose hall, solar energy, kids play area, library, badminton court, fire fighting equipment, cycling & jogging track, intercom facility, ro water system, air conditioned, vaastu compliant, internet/wi-fi connectivity, infinity swimming pool, high ceiling, earth quake resistant, central ac   \n",
      "3007                                                                                                                                                                                                                                                                                                                                                                                                                                                                                                                                                                                                                                                                                              unknown   \n",
      "288                                                                                                                                                                                                                                                                                                                                                                                                                                                                                                                   swimming pool, indoor games room, aerobics room, meditation area, health club with steam / jaccuzi, badminton court, event space & amphitheatre, half basketball court, golf course   \n",
      "5603                                                                                                                                                                                                                                                                                                                                                                                                                                                                                                                                                                                                                                                                                              unknown   \n",
      "\n",
      "      weightage  \n",
      "7036       41.6  \n",
      "3236       39.1  \n",
      "3007        0.0  \n",
      "288        10.4  \n",
      "5603        0.0  \n",
      "Region: navi mumbai\n",
      "Average price with amenities: 1.4292768850432633\n",
      "Average price without amenities: 1.070964241676942\n",
      "Weightage per amenity type (train data):\n",
      "amenities\n",
      "3 tier security system                      4.0\n",
      "ac in each room                             3.0\n",
      "activity deck4                              3.6\n",
      "aerobics room                               1.8\n",
      "aesthetically designed landscape garden     2.5\n",
      "air conditioned                             3.6\n",
      "arts & craft studio                         3.5\n",
      "badminton court                             2.0\n",
      "bank & atm                                  2.6\n",
      "banquet hall                                2.1\n",
      "bar/lounge                                  2.1\n",
      "barbeque pit                                1.6\n",
      "barbeque space                              0.0\n",
      "cafeteria/food court                        2.3\n",
      "canopy walk                                 2.9\n",
      "cctv camera                                 1.7\n",
      "central ac                                  5.6\n",
      "club house                                  2.0\n",
      "coffee lounge & restaurants                 2.3\n",
      "community entrance gate                     8.9\n",
      "community hall                              3.0\n",
      "concierge services                          3.3\n",
      "conference room                             1.5\n",
      "cricket net practice                        1.2\n",
      "curated garden                              0.0\n",
      "cycling & jogging track                     1.4\n",
      "cycling track                              10.0\n",
      "dance studio                                3.3\n",
      "downtown                                    0.0\n",
      "dth television facility                     1.6\n",
      "early learning centre                       2.0\n",
      "earth quake resistant                       2.7\n",
      "entry exit gate                             0.7\n",
      "event space & amphitheatre                  2.3\n",
      "fingerprint access                          2.0\n",
      "fire fighting equipment                     1.9\n",
      "fire sprinklers                             1.1\n",
      "flower gardens                              1.3\n",
      "full glass wall                             0.0\n",
      "garden view                                 0.8\n",
      "golf course                                 5.6\n",
      "grand entrance lobby                        3.7\n",
      "guest accommodation                         2.7\n",
      "guest lobby in each floor                   2.2\n",
      "gymnasium                                   1.8\n",
      "half basketball court                       1.4\n",
      "health club with steam / jaccuzi            3.1\n",
      "helipad                                     7.6\n",
      "high ceiling                                0.9\n",
      "hilltop                                     0.0\n",
      "house help accommodation                    0.0\n",
      "indoor games room                           1.8\n",
      "indoor squash & badminton courts            1.7\n",
      "infinity swimming pool                      2.9\n",
      "intercom facility                           2.4\n",
      "internet/wi-fi connectivity                 2.5\n",
      "island kitchen layout                       0.0\n",
      "jogging and strolling track                 2.2\n",
      "kids club                                   3.5\n",
      "kids play area                              1.9\n",
      "kids play pool with water slides            3.1\n",
      "kids splash pool                            1.3\n",
      "large clubhouse                             4.0\n",
      "large open space                            3.7\n",
      "laundry service                             1.6\n",
      "lawn with pathway                           2.4\n",
      "library                                     1.9\n",
      "library and business centre                 2.4\n",
      "lift                                        1.8\n",
      "located in the heart of city                3.2\n",
      "maintenance staff                           1.9\n",
      "meditation area                             2.6\n",
      "mini cinema theatre                         3.8\n",
      "modular kitchen                             0.0\n",
      "multipurpose courts                         2.5\n",
      "multipurpose hall                           2.5\n",
      "outdoor tennis courts                       2.6\n",
      "park                                        2.1\n",
      "piped gas                                   2.7\n",
      "pool with temperature control               1.2\n",
      "power back up                               1.9\n",
      "premium branded fittings                    1.0\n",
      "private garage                              0.1\n",
      "private jaccuzi                             3.8\n",
      "private pool                                3.8\n",
      "private terrace/garden                      3.7\n",
      "provision for power backup                  0.0\n",
      "rain water harvesting                       2.1\n",
      "recreational pool                           2.5\n",
      "rentable community space                    2.1\n",
      "reserved parking                            1.9\n",
      "retail boulevard (retail shops)             1.8\n",
      "ro water system                             2.2\n",
      "sea facing                                  6.6\n",
      "security                                    1.7\n",
      "service/goods lift                          2.5\n",
      "sewage treatment plant                      0.6\n",
      "shopping center                             7.0\n",
      "sky villa                                   0.0\n",
      "skydeck                                     1.3\n",
      "skyline view                                0.0\n",
      "smart home                                  2.3\n",
      "solar energy                                1.1\n",
      "swimming pool                               2.2\n",
      "theme based architectures                   4.5\n",
      "unknown                                     0.0\n",
      "vaastu compliant                            2.0\n",
      "visitor parking                             1.9\n",
      "volleyball court                            1.1\n",
      "waste disposal                              2.1\n",
      "waste water recycling                       2.7\n",
      "water front                                 0.4\n",
      "water storage                               1.9\n",
      "wine cellar                                 0.0\n",
      "wrap around balcony                         2.3\n",
      "Name: price, dtype: float64\n",
      "Train data with corrected weightages:\n",
      "                                                                                                                                                                                                                                                                                                                                                                                                                                                                                                                                                                                                                                                                     amenities  \\\n",
      "4691                                                                                                        club house, jogging and strolling track, power back up, swimming pool, lift, security, park, reserved parking, service/goods lift, visitor parking, maintenance staff, gymnasium, indoor games room, piped gas, water storage, multipurpose courts, meditation area, premium branded fittings, waste disposal, located in the heart of city, large open space, grand entrance lobby, solar energy, kids play area, fire fighting equipment, intercom facility, vaastu compliant, activity deck4, high ceiling, earth quake resistant, kids splash pool, sea facing   \n",
      "3756                                                                                                                                                                                                                                                                                             club house, power back up, swimming pool, lift, security, reserved parking, service/goods lift, visitor parking, gymnasium, aerobics room, piped gas, water storage, health club with steam / jaccuzi, grand entrance lobby, kids play area, vaastu compliant, internet/wi-fi connectivity, skydeck, guest lobby in each floor, kids splash pool, ac in each room, central ac   \n",
      "9065   club house, jogging and strolling track, outdoor tennis courts, power back up, swimming pool, lift, security, park, reserved parking, service/goods lift, banquet hall, gymnasium, indoor games room, aerobics room, rain water harvesting, water storage, indoor squash & badminton courts, meditation area, premium branded fittings, health club with steam / jaccuzi, located in the heart of city, grand entrance lobby, fire fighting equipment, coffee lounge & restaurants, cycling & jogging track, private terrace/garden, intercom facility, dth television facility, vaastu compliant, kids play pool with water slides, cctv camera, earth quake resistant   \n",
      "10403                                                                                                                                                                                                                                                                                                                                                                                                                                                                                                                                                                                                                                                                  unknown   \n",
      "3590                                                                                                                                                                                                                                                                                                                                                                                                                                                                                                                              cafeteria/food court, lift, security, park, gymnasium, meditation area, kids play area, cctv camera, aesthetically designed landscape garden   \n",
      "\n",
      "       weightage  \n",
      "4691        73.5  \n",
      "3756        50.7  \n",
      "9065        70.5  \n",
      "10403        0.0  \n",
      "3590        18.4  \n",
      "Test data with corrected weightages:\n",
      "                                                                                                                                                                                                                                                                                                                                                                                                                                                                                                                                                                                                                                                                                                                                                                                                       amenities  \\\n",
      "1135   club house, bar/lounge, jogging and strolling track, outdoor tennis courts, power back up, swimming pool, lift, security, park, service/goods lift, visitor parking, maintenance staff, bank & atm, banquet hall, gymnasium, indoor games room, aerobics room, laundry service, water storage, indoor squash & badminton courts, meditation area, fingerprint access, premium branded fittings, waste disposal, mini cinema theatre, health club with steam / jaccuzi, located in the heart of city, large clubhouse, 3 tier security system, large open space, grand entrance lobby, multipurpose hall, kids play area, library, fire fighting equipment, intercom facility, kids club, vaastu compliant, infinity swimming pool, high ceiling, private pool, private jaccuzi, skydeck, kids splash pool   \n",
      "4063                                                                                                                                                                                                                                                                                                                                                                                                                                                                                                                                                                                                                                                                                                                                                                                                     unknown   \n",
      "11790                                                                                                                                                                                                                                                                                                                                                                                                                                                                                                                                                                                                                                                                                                                                                                                                    unknown   \n",
      "4671                                                                                                                                                                                                                                      club house, cafeteria/food court, jogging and strolling track, barbeque pit, power back up, swimming pool, lift, security, park, reserved parking, visitor parking, banquet hall, gymnasium, indoor games room, aerobics room, rain water harvesting, multipurpose courts, meditation area, waste disposal, large open space, grand entrance lobby, multipurpose hall, event space & amphitheatre, fire fighting equipment, intercom facility, kids club, dth television facility, library and business centre, internet/wi-fi connectivity, theme based architectures   \n",
      "11861                                                                                                                                                                                                                                                                                                                                                                                                                                                                                                                                                                                                                                                                                                                                                                                                    unknown   \n",
      "\n",
      "       weightage  \n",
      "1135       103.5  \n",
      "4063         0.0  \n",
      "11790        0.0  \n",
      "4671        69.4  \n",
      "11861        0.0  \n",
      "Region: thane\n",
      "Average price with amenities: 1.5977040314650932\n",
      "Average price without amenities: 1.0600599675850892\n",
      "Weightage per amenity type (train data):\n",
      "amenities\n",
      "3 tier security system                     1.6\n",
      "ac in each room                            8.5\n",
      "activity deck4                             1.7\n",
      "aerobics room                              1.6\n",
      "aesthetically designed landscape garden    1.8\n",
      "air conditioned                            1.9\n",
      "arts & craft studio                        0.9\n",
      "badminton court                            1.4\n",
      "bank & atm                                 1.4\n",
      "banquet hall                               1.8\n",
      "bar/lounge                                 2.1\n",
      "barbeque pit                               1.5\n",
      "barbeque space                             0.0\n",
      "cafeteria/food court                       1.6\n",
      "canopy walk                                0.0\n",
      "cctv camera                                0.7\n",
      "central ac                                 2.4\n",
      "club house                                 1.4\n",
      "coffee lounge & restaurants                1.5\n",
      "community entrance gate                    1.0\n",
      "community hall                             1.0\n",
      "concierge services                         2.6\n",
      "conference room                            1.9\n",
      "cricket net practice                       0.9\n",
      "curated garden                             5.4\n",
      "cycling & jogging track                    0.7\n",
      "cycling track                              1.7\n",
      "dance studio                               1.1\n",
      "downtown                                   3.2\n",
      "dth television facility                    2.4\n",
      "early learning centre                      0.7\n",
      "earth quake resistant                      1.3\n",
      "entry exit gate                            1.1\n",
      "event space & amphitheatre                 1.2\n",
      "fingerprint access                         2.4\n",
      "fire fighting equipment                    0.9\n",
      "fire sprinklers                            0.0\n",
      "fireplace                                  3.3\n",
      "flower gardens                             0.5\n",
      "full glass wall                            3.2\n",
      "golf course                                1.6\n",
      "grand entrance lobby                       2.0\n",
      "guest accommodation                        0.0\n",
      "guest lobby in each floor                  8.5\n",
      "gymnasium                                  1.4\n",
      "half basketball court                      1.2\n",
      "health club with steam / jaccuzi           1.9\n",
      "helipad                                    2.5\n",
      "high ceiling                               2.4\n",
      "hilltop                                    1.8\n",
      "horticulture                               0.4\n",
      "house help accommodation                   3.3\n",
      "indoor games room                          1.2\n",
      "indoor squash & badminton courts           1.6\n",
      "infinity swimming pool                     2.2\n",
      "intercom facility                          1.5\n",
      "internet/wi-fi connectivity                1.5\n",
      "island kitchen layout                      3.1\n",
      "jogging and strolling track                1.4\n",
      "kids club                                  1.3\n",
      "kids play area                             1.7\n",
      "kids play pool with water slides           1.4\n",
      "kids splash pool                           1.6\n",
      "large clubhouse                            1.9\n",
      "large open space                           1.8\n",
      "laundry service                            2.1\n",
      "lawn with pathway                          3.2\n",
      "library                                    1.2\n",
      "library and business centre                1.3\n",
      "lift                                       1.3\n",
      "located in the heart of city               1.4\n",
      "maintenance staff                          1.6\n",
      "mansion                                    5.2\n",
      "meditation area                            1.0\n",
      "mini cinema theatre                        1.0\n",
      "multipurpose courts                        1.5\n",
      "multipurpose hall                          1.2\n",
      "outdoor tennis courts                      1.2\n",
      "park                                       1.3\n",
      "pet park                                   2.0\n",
      "piped gas                                  2.1\n",
      "power back up                              1.4\n",
      "premium branded fittings                   2.0\n",
      "private garage                             1.7\n",
      "private jaccuzi                            3.2\n",
      "private pool                               3.2\n",
      "private terrace/garden                     2.7\n",
      "provision for power backup                 0.9\n",
      "rain water harvesting                      1.3\n",
      "recreational pool                          0.6\n",
      "rentable community space                   0.5\n",
      "reserved parking                           1.4\n",
      "retail boulevard (retail shops)            0.2\n",
      "ro water system                            2.3\n",
      "sand pit                                   0.9\n",
      "sea facing                                 1.0\n",
      "security                                   1.2\n",
      "service/goods lift                         2.1\n",
      "sewage treatment plant                     1.5\n",
      "shopping center                            1.7\n",
      "sky villa                                  2.0\n",
      "skydeck                                    2.4\n",
      "skyline view                               1.9\n",
      "smart home                                 3.2\n",
      "solar energy                               1.2\n",
      "swimming pool                              1.5\n",
      "theme based architectures                  3.9\n",
      "unknown                                    0.0\n",
      "vaastu compliant                           1.6\n",
      "visitor parking                            1.4\n",
      "volleyball court                           3.1\n",
      "waste disposal                             1.5\n",
      "water front                                3.2\n",
      "water storage                              1.4\n",
      "water treatment plant                      0.0\n",
      "wine cellar                                1.7\n",
      "wrap around balcony                        1.7\n",
      "Name: price, dtype: float64\n",
      "Train data with corrected weightages:\n",
      "                                                                                                                                                                                         amenities  \\\n",
      "689                                                                                                                                                                                        unknown   \n",
      "5423                                                                                                                                                                                       unknown   \n",
      "10383                                                                                                                                                                                      unknown   \n",
      "11976                                                                                                                                                                                      unknown   \n",
      "9903   club house, power back up, swimming pool, lift, reserved parking, gymnasium, piped gas, rain water harvesting, fire fighting equipment, intercom facility, flower gardens, vaastu compliant   \n",
      "\n",
      "       weightage  \n",
      "689          0.0  \n",
      "5423         0.0  \n",
      "10383        0.0  \n",
      "11976        0.0  \n",
      "9903        16.3  \n",
      "Test data with corrected weightages:\n",
      "                                                                                                                                                                                                                                                                                                                                                                                                                                                                                                                                                                                                                                                                                                                            amenities  \\\n",
      "10246                                                                                                                                                                                                                                                                                                                                                                                                                                                                                                                                                                                                                                                                                                                         unknown   \n",
      "7993                                                                                                                                                                                                                                                                                                                                                                                                                                                                                                                                                             club house, power back up, lift, security, reserved parking, visitor parking, maintenance staff, gymnasium, rain water harvesting, intercom facility, flower gardens   \n",
      "3002                                                                                                                                                                                                                                                                                                                              club house, cafeteria/food court, swimming pool, lift, reserved parking, gymnasium, indoor games room, laundry service, rain water harvesting, water storage, indoor squash & badminton courts, waste disposal, conference room, multipurpose hall, fire fighting equipment, coffee lounge & restaurants, cycling & jogging track, private terrace/garden, internet/wi-fi connectivity, cctv camera   \n",
      "2638   club house, cafeteria/food court, outdoor tennis courts, power back up, swimming pool, lift, security, reserved parking, bank & atm, banquet hall, gymnasium, indoor games room, aerobics room, rain water harvesting, indoor squash & badminton courts, multipurpose courts, meditation area, waste disposal, mini cinema theatre, large open space, multipurpose hall, kids play area, library, event space & amphitheatre, fire fighting equipment, coffee lounge & restaurants, cycling & jogging track, intercom facility, cctv camera, cricket net practice, sewage treatment plant, half basketball court, aesthetically designed landscape garden, provision for power backup, community hall, community entrance gate   \n",
      "5994                                                                                                                                                                                                                                                                                                                                                                                                                                                                                power back up, lift, security, park, reserved parking, visitor parking, maintenance staff, gymnasium, rain water harvesting, water storage, fire fighting equipment, flower gardens, library and business centre, retail boulevard (retail shops)   \n",
      "\n",
      "       weightage  \n",
      "10246        0.0  \n",
      "7993        14.4  \n",
      "3002        28.8  \n",
      "2638        47.0  \n",
      "5994        16.6  \n",
      "Region: palghar\n",
      "Average price with amenities: 0.2450357142857143\n",
      "Average price without amenities: 0.28166176470588233\n",
      "Weightage per amenity type (train data):\n",
      "amenities\n",
      "3 tier security system                0.0\n",
      "aerobics room                         0.0\n",
      "air conditioned                      10.0\n",
      "arts & craft studio                   0.0\n",
      "bank & atm                            0.0\n",
      "banquet hall                          0.0\n",
      "bar/lounge                            0.0\n",
      "barbeque pit                          0.0\n",
      "cafeteria/food court                  0.0\n",
      "cctv camera                           0.0\n",
      "club house                            0.0\n",
      "coffee lounge & restaurants           0.0\n",
      "concierge services                    0.0\n",
      "conference room                       0.0\n",
      "cricket net practice                  0.0\n",
      "cycling & jogging track               0.0\n",
      "early learning centre                 0.0\n",
      "event space & amphitheatre            0.0\n",
      "fire fighting equipment               0.0\n",
      "fire sprinklers                     108.9\n",
      "flower gardens                        0.0\n",
      "golf course                           0.0\n",
      "grand entrance lobby                  0.0\n",
      "gymnasium                             0.0\n",
      "half basketball court                 0.0\n",
      "indoor games room                     0.0\n",
      "indoor squash & badminton courts      0.0\n",
      "intercom facility                     0.0\n",
      "internet/wi-fi connectivity           0.0\n",
      "jogging and strolling track           0.0\n",
      "kids club                             0.0\n",
      "kids play area                        0.0\n",
      "kids play pool with water slides      0.0\n",
      "large open space                      0.0\n",
      "laundry service                       0.0\n",
      "library and business centre           0.0\n",
      "lift                                  0.0\n",
      "located in the heart of city          0.0\n",
      "maintenance staff                     0.0\n",
      "meditation area                       0.0\n",
      "mini cinema theatre                   0.0\n",
      "multipurpose courts                   0.0\n",
      "multipurpose hall                     0.0\n",
      "outdoor tennis courts                 0.0\n",
      "park                                  0.0\n",
      "piped gas                             0.0\n",
      "power back up                         0.0\n",
      "private terrace/garden                0.0\n",
      "rain water harvesting                 0.0\n",
      "recreational pool                     0.0\n",
      "rentable community space              0.0\n",
      "reserved parking                      0.0\n",
      "ro water system                       0.0\n",
      "security                              0.0\n",
      "service/goods lift                    0.0\n",
      "sewage treatment plant                0.0\n",
      "swimming pool                         0.0\n",
      "unknown                              26.1\n",
      "vaastu compliant                      0.0\n",
      "visitor parking                       0.0\n",
      "waste disposal                        0.0\n",
      "water storage                         0.0\n",
      "Name: price, dtype: float64\n",
      "Train data with corrected weightages:\n",
      "                                                                                                                                                                                                                                                                                                                                                                                     amenities  \\\n",
      "9735                                                                                                                                                                                                                                                                                                                                                                                   unknown   \n",
      "367    club house, jogging and strolling track, power back up, swimming pool, lift, security, reserved parking, visitor parking, maintenance staff, gymnasium, meditation area, mini cinema theatre, located in the heart of city, 3 tier security system, large open space, grand entrance lobby, multipurpose hall, kids play area, event space & amphitheatre, ro water system, cctv camera   \n",
      "10201                                                                                                                                                                                                                                                                                         jogging and strolling track, gymnasium, library and business centre, internet/wi-fi connectivity   \n",
      "4496                             power back up, swimming pool, security, park, reserved parking, visitor parking, maintenance staff, gymnasium, rain water harvesting, water storage, indoor squash & badminton courts, cycling & jogging track, private terrace/garden, intercom facility, flower gardens, rentable community space, air conditioned, vaastu compliant, outdoor tennis courts   \n",
      "4256                                                                                                                                                                                                                                                                                                                                                                                   unknown   \n",
      "\n",
      "       weightage  \n",
      "9735         0.0  \n",
      "367          0.0  \n",
      "10201        0.0  \n",
      "4496        10.0  \n",
      "4256         0.0  \n",
      "Test data with corrected weightages:\n",
      "      amenities  weightage\n",
      "10946   unknown        0.0\n",
      "10457   unknown        0.0\n",
      "10927   unknown        0.0\n",
      "5695    unknown        0.0\n",
      "10265   unknown        0.0\n"
     ]
    }
   ],
   "source": [
    "import pandas as pd\n",
    "from sklearn.model_selection import train_test_split\n",
    "\n",
    "# Function to check if a property has amenities\n",
    "def has_amenities(amenities):\n",
    "    return amenities != 'unknown' and amenities != 'none of these'\n",
    "\n",
    "# Sample data (assuming df is already loaded)\n",
    "df['has_amenities'] = df['amenities'].apply(has_amenities)\n",
    "\n",
    "# Split data by address region\n",
    "regions = ['mumbai', 'navi mumbai', 'thane', 'palghar']\n",
    "region_dfs = {region: df[df['addressregion'] == region] for region in regions}\n",
    "\n",
    "# Function to calculate weightages per region\n",
    "def calculate_region_weightages(region_df):\n",
    "    avg_price_with_amenities = region_df[region_df['has_amenities']]['price'].mean()\n",
    "    avg_price_without_amenities = region_df[~region_df['has_amenities']]['price'].mean()\n",
    "    \n",
    "    # Analyze impact of each amenity\n",
    "    region_expanded = region_df.copy()\n",
    "    region_expanded = region_expanded.assign(amenities=region_expanded.amenities.str.split(', ')).explode('amenities')\n",
    "    \n",
    "    impact = region_expanded.groupby('amenities')['price'].mean() - avg_price_without_amenities\n",
    "    percentage_impact = (impact / avg_price_without_amenities) * 100\n",
    "    \n",
    "    def assign_weightage(percentage):\n",
    "        return round(max(0, (percentage / percentage_impact.max()) * 10), 1)  # Normalize to 10\n",
    "    \n",
    "    # Train-test split\n",
    "    train_df, test_df = train_test_split(region_df, test_size=0.2, random_state=42)\n",
    "    \n",
    "    # Train weightages\n",
    "    train_expanded = train_df.copy()\n",
    "    train_expanded = train_expanded.assign(amenities=train_expanded.amenities.str.split(', ')).explode('amenities')\n",
    "    \n",
    "    impact_train = train_expanded.groupby('amenities')['price'].mean() - avg_price_without_amenities\n",
    "    percentage_impact_train = (impact_train / avg_price_without_amenities) * 100\n",
    "    weightage_train = percentage_impact_train.apply(assign_weightage)\n",
    "    \n",
    "    # Function to calculate combined weightage\n",
    "    def calculate_combined_weightage(amenities, weightage_train):\n",
    "        return sum(weightage_train.get(look, 0) for look in amenities.split(', ') if look not in ['unknown', 'none of these'])\n",
    "    \n",
    "    # Apply weightage to train and test data\n",
    "    train_df['weightage'] = train_df['amenities'].apply(lambda x: calculate_combined_weightage(x, weightage_train))\n",
    "    test_df['weightage'] = test_df['amenities'].apply(lambda x: calculate_combined_weightage(x, weightage_train))\n",
    "    \n",
    "    return avg_price_with_amenities, avg_price_without_amenities, weightage_train, train_df, test_df\n",
    "\n",
    "# Process each region\n",
    "results = {region: calculate_region_weightages(region_dfs[region]) for region in regions}\n",
    "\n",
    "# Display results\n",
    "for region, (avg_price_with_amenities, avg_price_without_amenities, weightage_train, train_df, test_df) in results.items():\n",
    "    print(f\"Region: {region}\")\n",
    "    print(\"Average price with amenities:\", avg_price_with_amenities)\n",
    "    print(\"Average price without amenities:\", avg_price_without_amenities)\n",
    "    print(\"Weightage per amenity type (train data):\")\n",
    "    print(weightage_train)\n",
    "    print(\"Train data with corrected weightages:\")\n",
    "    print(train_df[['amenities', 'weightage']].head())\n",
    "    print(\"Test data with corrected weightages:\")\n",
    "    print(test_df[['amenities', 'weightage']].head())\n"
   ]
  },
  {
   "cell_type": "markdown",
   "id": "0fe53896-d44a-4570-bf64-1ae3e5b1f2fb",
   "metadata": {},
   "source": [
    "### observation  \n",
    "- Performed 3 different methods to convert the amenities column into numerical form:  \n",
    "  - Method 2 : Assign weightage  \n",
    "  - Method 3 : Actual weightage  \n",
    "- Evaluate which method gives the best model performance and keep that as the final approach."
   ]
  },
  {
   "cell_type": "code",
   "execution_count": 255,
   "id": "d5697535-cbe4-45e5-bdd7-1de222b9c133",
   "metadata": {},
   "outputs": [],
   "source": [
    "# Drop columns\n",
    "df = df.drop(['am_12204',\n",
    " 'am_12226',\n",
    " 'am_12225',\n",
    " 'am_12229',\n",
    " 'am_12230',\n",
    " 'am_1404107',\n",
    " 'am_12201',\n",
    " 'am_12205',\n",
    " 'am_12202',\n",
    " 'am_12209',\n",
    " 'am_12207',\n",
    " 'am_12208',\n",
    " 'am_12214',\n",
    " 'am_12216',\n",
    " 'am_12218',\n",
    " 'am_1404110',\n",
    " 'am_12224',\n",
    " 'am_12206',\n",
    " 'am_1404117',\n",
    " 'am_1404105',\n",
    " 'am_12220',\n",
    " 'am_12228',\n",
    " 'am_12203',\n",
    " 'am_12211',\n",
    " 'am_1404118',\n",
    " 'am_1404106',\n",
    " 'am_1404125',\n",
    " 'am_1404124',\n",
    " 'am_12538',\n",
    " 'am_12540',\n",
    " 'am_12219',\n",
    " 'am_12227',\n",
    " 'am_12523',\n",
    " 'am_12533',\n",
    " 'am_12534',\n",
    " 'am_12535',\n",
    " 'am_12536',\n",
    " 'am_12537',\n",
    " 'am_12539',\n",
    " 'am_12543',\n",
    " 'am_12545',\n",
    " 'am_12581',\n",
    " 'am_12583',\n",
    " 'am_1404155',\n",
    " 'am_1404114',\n",
    " 'am_1404143',\n",
    " 'am_1404109',\n",
    " 'am_1404131',\n",
    " 'am_12212',\n",
    " 'am_1404112',\n",
    " 'am_12217',\n",
    " 'am_1404116',\n",
    " 'am_1404120',\n",
    " 'am_1404111',\n",
    " 'am_12222',\n",
    " 'am_1404115',\n",
    " 'am_1404123',\n",
    " 'am_1404127',\n",
    " 'am_1404128',\n",
    " 'am_1404129',\n",
    " 'am_12223',\n",
    " 'am_12215',\n",
    " 'am_1404108',\n",
    " 'am_12213',\n",
    " 'am_12221',\n",
    " 'am_1404130',\n",
    " 'am_1404126',\n",
    " 'am_1404113',\n",
    " 'am_1404122',\n",
    " 'am_12586',\n",
    " 'am_1404156',\n",
    " 'am_12525',\n",
    " 'am_12547',\n",
    " 'am_12577',\n",
    " 'am_1404150',\n",
    " 'am_1404148',\n",
    " 'am_1404146',\n",
    " 'am_12529',\n",
    " 'am_12521',\n",
    " 'am_12522',\n",
    " 'am_12526',\n",
    " 'am_12530',\n",
    " 'am_12532',\n",
    " 'am_12528',\n",
    " 'am_12546',\n",
    " 'am_1404161',\n",
    " 'am_12234',\n",
    " 'am_12585',\n",
    " 'am_1404149',\n",
    " 'am_1404152',\n",
    " 'am_1404158',\n",
    " 'am_1404157',\n",
    " 'am_1404154',\n",
    " 'am_12511',\n",
    " 'am_12579',\n",
    " 'am_12527',\n",
    " 'am_12524',\n",
    " 'am_12541',\n",
    " 'am_12238',\n",
    " 'am_12562',\n",
    " 'am_12578',\n",
    " 'am_12548',\n",
    " 'am_12549',\n",
    " 'am_12239',\n",
    " 'am_1404151',\n",
    " 'am_12236',\n",
    " 'am_12237',\n",
    " 'am_12556',\n",
    " 'am_12560',\n",
    " 'am_12555',\n",
    " 'am_12561',\n",
    " 'am_1404147',\n",
    " 'am_12235',\n",
    " 'am_12557',\n",
    " 'am_12233',\n",
    " 'am_12531',\n",
    " 'am_12518',\n",
    " 'am_12232',\n",
    " 'am_12544',\n",
    " 'am_12551',\n",
    " 'am_12554',\n",
    " 'am_12542',\n",
    " 'am_12520',\n",
    " 'am_12558',\n",
    " 'am_12584',\n",
    " 'am_1404160',\n",
    " 'am_1404159',\n",
    " 'am_12516',\n",
    " 'am_12580',\n",
    " 'am_12513',\n",
    " 'am_12550',\n",
    " 'am_12552',\n",
    " 'am_12553',\n",
    " 'amenities_split',\n",
    " 'has_amenities'],axis=1)"
   ]
  },
  {
   "cell_type": "code",
   "execution_count": 256,
   "id": "a6a03cf9-f2ad-4ba4-82c4-b52aa5fb8db3",
   "metadata": {},
   "outputs": [
    {
     "data": {
      "text/plain": [
       "(12003, 113)"
      ]
     },
     "execution_count": 256,
     "metadata": {},
     "output_type": "execute_result"
    }
   ],
   "source": [
    "df.shape"
   ]
  },
  {
   "cell_type": "markdown",
   "id": "88d850f4-9662-4860-a429-6dd8c4f66ebd",
   "metadata": {},
   "source": [
    "# other columns "
   ]
  },
  {
   "cell_type": "markdown",
   "id": "c74ff25b-e83c-4301-8a50-6d18d37d49e6",
   "metadata": {},
   "source": [
    "### Observation\n",
    "- combine 'educational institute' - 'educational institute_1','educational institute_2','educational institute_3','educational institute_4','educational institute_5'\n",
    "- combine 'transportation hub' - 'transportation hub_1','transportation hub_2','transportation hub_3','transportation hub_4','transportation hub_5'\n",
    "- combine 'shopping centre' - 'shopping centre_1','shopping centre_2','shopping centre_3','shopping centre_4','shopping centre_5'\n",
    "- combine 'commercial hub_1','commercial hub_2','commercial hub_3','commercial hub_4','commercial hub_5'\n",
    "- combine 'hospital_1','hospital_2','hospital_3','hospital_4','hospital_5'\n",
    "- combine 'tourist spot_1','tourist spot_2','tourist spot_3','tourist spot_4'"
   ]
  },
  {
   "cell_type": "code",
   "execution_count": 257,
   "id": "bede5e49-300d-46b9-926f-86f5ae3c368f",
   "metadata": {},
   "outputs": [],
   "source": [
    "# Combine values\n",
    "df['education'] = [list(values) for values in zip(df['educational institute_1'], df['educational institute_2'], df['educational institute_3'], df['educational institute_4'], df['educational institute_5'])]\n",
    "df['education'] = df['education'].apply(lambda x: ', '.join(filter(pd.notna, x)))"
   ]
  },
  {
   "cell_type": "code",
   "execution_count": 258,
   "id": "0875a829-617a-4600-9461-c732f036d8fd",
   "metadata": {},
   "outputs": [],
   "source": [
    "# Combine values\n",
    "df['transport'] = [list(values) for values in zip(df['transportation hub_1'], df['transportation hub_2'], df['transportation hub_3'], df['transportation hub_4'], df['transportation hub_5'])]\n",
    "df['transport'] = df['transport'].apply(lambda x: ', '.join(filter(pd.notna, x)))"
   ]
  },
  {
   "cell_type": "code",
   "execution_count": 259,
   "id": "58b673b5-c6de-4d60-b76c-37889879de4e",
   "metadata": {},
   "outputs": [],
   "source": [
    "# Combine values\n",
    "df['shopping_centre'] = [list(values) for values in zip(df['shopping centre_1'], df['shopping centre_2'], df['shopping centre_3'], df['shopping centre_4'], df['shopping centre_5'])]\n",
    "df['shopping_centre'] = df['shopping_centre'].apply(lambda x: ', '.join(filter(pd.notna, x)))"
   ]
  },
  {
   "cell_type": "code",
   "execution_count": 260,
   "id": "8f603953-421b-4f6f-998e-4769ddeecd89",
   "metadata": {},
   "outputs": [],
   "source": [
    "# Combine values\n",
    "df['commercial_hub'] = [list(values) for values in zip(df['commercial hub_1'], df['commercial hub_2'], df['commercial hub_3'], df['commercial hub_4'], df['commercial hub_5'])]\n",
    "df['commercial_hub'] = df['commercial_hub'].apply(lambda x: ', '.join(filter(pd.notna, x)))"
   ]
  },
  {
   "cell_type": "code",
   "execution_count": 261,
   "id": "4ab4bc08-aae4-48ae-b4d9-465ce103c4ce",
   "metadata": {},
   "outputs": [],
   "source": [
    "# Combine values\n",
    "df['hospital'] = [list(values) for values in zip(df['hospital_1'], df['hospital_2'], df['hospital_3'], df['hospital_4'], df['hospital_5'])]\n",
    "df['hospital'] = df['hospital'].apply(lambda x: ', '.join(filter(pd.notna, x)))"
   ]
  },
  {
   "cell_type": "code",
   "execution_count": 262,
   "id": "956b43a2-8c7d-4115-ba79-6f797e1ed9dd",
   "metadata": {},
   "outputs": [],
   "source": [
    "# Combine values\n",
    "df['tourist'] = [list(values) for values in zip(df['tourist spot_1'], df['tourist spot_2'], df['tourist spot_3'], df['tourist spot_4'])]\n",
    "df['tourist'] = df['tourist'].apply(lambda x: ', '.join(filter(pd.notna, x)))"
   ]
  },
  {
   "cell_type": "code",
   "execution_count": 263,
   "id": "e3a67e96-8dd1-42e5-aaa3-5fc8775ea062",
   "metadata": {},
   "outputs": [],
   "source": [
    "# Drop columns\n",
    "df = df.drop(['educational institute_1','educational institute_2','educational institute_3','educational institute_4','educational institute_5',\n",
    "             'transportation hub_1','transportation hub_2','transportation hub_3','transportation hub_4','transportation hub_5',\n",
    "             'shopping centre_1','shopping centre_2','shopping centre_3','shopping centre_4','shopping centre_5',\n",
    "             'commercial hub_1','commercial hub_2','commercial hub_3','commercial hub_4','commercial hub_5',\n",
    "             'hospital_1','hospital_2','hospital_3','hospital_4','hospital_5',\n",
    "             'tourist spot_1','tourist spot_2','tourist spot_3','tourist spot_4'],axis=1)"
   ]
  },
  {
   "cell_type": "code",
   "execution_count": 264,
   "id": "9e94b278-be04-400d-b48b-807b2ea0a7f7",
   "metadata": {},
   "outputs": [
    {
     "data": {
      "text/plain": [
       "(12003, 90)"
      ]
     },
     "execution_count": 264,
     "metadata": {},
     "output_type": "execute_result"
    }
   ],
   "source": [
    "df.shape"
   ]
  },
  {
   "cell_type": "code",
   "execution_count": 265,
   "id": "5dda6503-d620-40bd-8be5-0a75702b2dc3",
   "metadata": {},
   "outputs": [],
   "source": [
    "df = df.drop(['@id','@type','bhk_type' ,'locality_url','md_booking amount','md_loan offered','md_water availability','ap_price','ap_price per sqft','ap_configuration','ap_pjt_url','ap_ratings','ap_reviews_by','headings_with_ratings','aboutpjt_bhk','2 bhk flat','locality_url_review','liv_environment','liv_commuting','liv_places of interest','md_status of electricity','3 bhk flat','1 bhk flat','studio apartment','4 bhk flat','5 bhk flat','md_landmarks', 'multistorey apartment', '3 bhk villa', '4 bhk villa', 'residential plot', '2 bhk builder', '3 bhk builder','4 bhk penthouse','5 bhk penthouse', 'md_authority approval','6 bhk flat','rent','commercial office space','3 bhk penthouse','md_rera id','aboutpjt_launch date'],axis=1)"
   ]
  },
  {
   "cell_type": "code",
   "execution_count": 266,
   "id": "d63dc9b0-b200-43a9-a24f-32513b694694",
   "metadata": {},
   "outputs": [
    {
     "data": {
      "text/plain": [
       "(12003, 48)"
      ]
     },
     "execution_count": 266,
     "metadata": {},
     "output_type": "execute_result"
    }
   ],
   "source": [
    "df.shape"
   ]
  },
  {
   "cell_type": "markdown",
   "id": "9bdce66c-dd84-454e-be51-112d3a7cfe32",
   "metadata": {},
   "source": [
    "# Overlooking"
   ]
  },
  {
   "cell_type": "markdown",
   "id": "2681633a-ef96-4f15-b47d-8347b3799db9",
   "metadata": {},
   "source": [
    "### Observation\n",
    "-  md_overlooking : rename"
   ]
  },
  {
   "cell_type": "code",
   "execution_count": 267,
   "id": "1c29d7dc-f9b3-4d5f-a319-1afd8b83c5e1",
   "metadata": {},
   "outputs": [
    {
     "data": {
      "text/plain": [
       "md_overlooking\n",
       "main road                       2268\n",
       "garden/park, main road          1740\n",
       "garden/park                     1544\n",
       "garden/park, pool, main road    1425\n",
       "garden/park, pool                393\n",
       "pool, garden/park, main road     254\n",
       "pool                             102\n",
       "pool, main road                   60\n",
       "main road, garden/park            59\n",
       "pool, garden/park                 58\n",
       "main road, garden/park, pool      55\n",
       "garden/park, main road, pool       9\n",
       "pool, main road, garden/park       7\n",
       "main road, not available           2\n",
       "main road, pool, garden/park       1\n",
       "Name: count, dtype: int64"
      ]
     },
     "execution_count": 267,
     "metadata": {},
     "output_type": "execute_result"
    }
   ],
   "source": [
    "df['md_overlooking'].value_counts()"
   ]
  },
  {
   "cell_type": "code",
   "execution_count": 268,
   "id": "ce3ad5b7-2f28-4d12-b935-e2a4d42623ce",
   "metadata": {},
   "outputs": [],
   "source": [
    "df['md_overlooking'] = df['md_overlooking'].apply(\n",
    "    lambda x: ', '.join(sorted(x.split(', '))) if pd.notna(x) else None\n",
    ")"
   ]
  },
  {
   "cell_type": "code",
   "execution_count": 269,
   "id": "8106c85c-6660-4d72-bcf9-b1e68e739714",
   "metadata": {},
   "outputs": [],
   "source": [
    "# Remove the phrase 'not available' from the 'overlooking' column\n",
    "df['md_overlooking'] = df['md_overlooking'].str.replace(',? *not available', '', regex=True)"
   ]
  },
  {
   "cell_type": "code",
   "execution_count": 270,
   "id": "5d4b5795-228e-4338-8a9e-e04fc9173e52",
   "metadata": {},
   "outputs": [],
   "source": [
    "df = df.rename(columns={'md_overlooking': 'overlooking'})"
   ]
  },
  {
   "cell_type": "markdown",
   "id": "e125b9e6-3567-41a7-9b54-9729eafa8d0f",
   "metadata": {},
   "source": [
    "# room_type"
   ]
  },
  {
   "cell_type": "markdown",
   "id": "be272060-1d7a-41a1-9f9d-79aa0df4fbbc",
   "metadata": {},
   "source": [
    "### Observation\n",
    "-make categories like flat and apartment from 'name' column "
   ]
  },
  {
   "cell_type": "code",
   "execution_count": 271,
   "id": "e0b230b3-f830-4d79-bac3-edcf4b30394a",
   "metadata": {},
   "outputs": [],
   "source": [
    "df['room_type'] = df['name'].apply(lambda x: 'flat' if 'flat' in x else ('apartment' if 'apartment' in x else 'other'))"
   ]
  },
  {
   "cell_type": "code",
   "execution_count": 272,
   "id": "12a758cf-b17e-4596-aaca-df82fecab831",
   "metadata": {},
   "outputs": [
    {
     "data": {
      "text/plain": [
       "room_type\n",
       "flat         11894\n",
       "apartment      109\n",
       "Name: count, dtype: int64"
      ]
     },
     "execution_count": 272,
     "metadata": {},
     "output_type": "execute_result"
    }
   ],
   "source": [
    "df['room_type'].value_counts()"
   ]
  },
  {
   "cell_type": "code",
   "execution_count": 273,
   "id": "efc973e6-81b9-4826-918b-ca7a6f3b4410",
   "metadata": {},
   "outputs": [
    {
     "data": {
      "text/plain": [
       "room_type\n",
       "flat         99.091894\n",
       "apartment     0.908106\n",
       "Name: count, dtype: float64"
      ]
     },
     "execution_count": 273,
     "metadata": {},
     "output_type": "execute_result"
    }
   ],
   "source": [
    "(df['room_type'].value_counts()) / len(df['room_type']) *100"
   ]
  },
  {
   "cell_type": "markdown",
   "id": "229580d0-7e81-4328-a75b-6fcbd885aae9",
   "metadata": {},
   "source": [
    "### Observation  \r\n",
    "- Flats make up the majority (99%), while apartments account for only 1%. Therefore, we should drop the apartment rows. Since the entire column will then contain only flats, it is no longer needed and can also be dropped.  \r\n",
    "- There are no missing values."
   ]
  },
  {
   "cell_type": "code",
   "execution_count": 274,
   "id": "f47a0a07-be48-4391-a6a7-a63b25b992c5",
   "metadata": {},
   "outputs": [],
   "source": [
    "#drop apartment rows\n",
    "df = df[df['room_type'] != 'apartment']"
   ]
  },
  {
   "cell_type": "code",
   "execution_count": 275,
   "id": "4bfabe56-32ef-41d5-a3d0-f71d54b4ff7f",
   "metadata": {},
   "outputs": [
    {
     "data": {
      "text/plain": [
       "room_type\n",
       "flat    11894\n",
       "Name: count, dtype: int64"
      ]
     },
     "execution_count": 275,
     "metadata": {},
     "output_type": "execute_result"
    }
   ],
   "source": [
    "df['room_type'].value_counts()"
   ]
  },
  {
   "cell_type": "code",
   "execution_count": 276,
   "id": "c6d47e76-3555-4989-a7bd-6a7bb53ff1c7",
   "metadata": {},
   "outputs": [],
   "source": [
    "df = df.drop(['room_type'],axis=1)"
   ]
  },
  {
   "cell_type": "code",
   "execution_count": 277,
   "id": "1cd7016e-63fe-44b0-9527-d86a5ffaf60d",
   "metadata": {},
   "outputs": [
    {
     "data": {
      "text/plain": [
       "(11894, 48)"
      ]
     },
     "execution_count": 277,
     "metadata": {},
     "output_type": "execute_result"
    }
   ],
   "source": [
    "df.shape"
   ]
  },
  {
   "cell_type": "markdown",
   "id": "28dc10e0-4d3a-4d00-9384-aafbccec39d1",
   "metadata": {},
   "source": [
    "# EMI"
   ]
  },
  {
   "cell_type": "markdown",
   "id": "04c33db6-762c-4170-b1ff-d508fd47f2c1",
   "metadata": {},
   "source": [
    "### Observation\n",
    "- convert all emi values in lakh\n",
    "- some values in 3 digit only means 700 rs so convert them also into thousand\n",
    "- some values in lakh so convert then also into thousand "
   ]
  },
  {
   "cell_type": "code",
   "execution_count": 278,
   "id": "66cee42f-a145-485c-b50f-07b8a91bd797",
   "metadata": {},
   "outputs": [
    {
     "data": {
      "text/plain": [
       "0      81k\n",
       "1    1.07l\n",
       "2      81k\n",
       "3      74k\n",
       "4      57k\n",
       "Name: emi, dtype: object"
      ]
     },
     "execution_count": 278,
     "metadata": {},
     "output_type": "execute_result"
    }
   ],
   "source": [
    "df['emi'].head()"
   ]
  },
  {
   "cell_type": "code",
   "execution_count": 279,
   "id": "1709a58a-8354-45d1-99a4-6ff642190b50",
   "metadata": {},
   "outputs": [
    {
     "data": {
      "text/plain": [
       "dtype('O')"
      ]
     },
     "execution_count": 279,
     "metadata": {},
     "output_type": "execute_result"
    }
   ],
   "source": [
    "df['emi'].dtype"
   ]
  },
  {
   "cell_type": "code",
   "execution_count": 280,
   "id": "e1d1afc8-4198-4c2a-ad53-37e2a75bc289",
   "metadata": {},
   "outputs": [],
   "source": [
    "converted_emi = []\n",
    "\n",
    "for emi_n in df['emi']:\n",
    "    if isinstance(emi_n, str):  # Check if emi_n is a string\n",
    "        if 'k' in emi_n:\n",
    "            # Convert from thousands to lakhs\n",
    "            converted_emi.append(float(emi_n.replace('k', '')) / 100)\n",
    "        elif 'l' in emi_n:\n",
    "            # No change needed for lakhs\n",
    "            converted_emi.append(float(emi_n.replace('l', '')))\n",
    "        else:\n",
    "            # Convert rupees to lakhs\n",
    "            converted_emi.append(float(emi_n) / 100000)\n",
    "    else:\n",
    "        # If it's already a float, convert rupees to lakhs\n",
    "        converted_emi.append(emi_n / 100000)\n",
    "\n",
    "# Add the converted values to the DataFrame\n",
    "df['converted_emi'] = converted_emi\n"
   ]
  },
  {
   "cell_type": "code",
   "execution_count": 281,
   "id": "bfc13855-5a0d-4df4-861c-d222e8c2257d",
   "metadata": {},
   "outputs": [],
   "source": [
    "df = df.drop(['emi'],axis=1)"
   ]
  },
  {
   "cell_type": "markdown",
   "id": "5ee8430a-5720-4a05-bcdf-8b1c4ae73aff",
   "metadata": {},
   "source": [
    "# project_in_acres"
   ]
  },
  {
   "cell_type": "markdown",
   "id": "9902e5da-6395-4a8f-baf5-7e3bcb2153e0",
   "metadata": {},
   "source": [
    "### Observation\n",
    "- aboutpjt_project size : convert all in sqft"
   ]
  },
  {
   "cell_type": "code",
   "execution_count": 282,
   "id": "dfec60a0-bd6a-4c09-83b3-a66acc0d1d4b",
   "metadata": {},
   "outputs": [
    {
     "data": {
      "text/plain": [
       "5750"
      ]
     },
     "execution_count": 282,
     "metadata": {},
     "output_type": "execute_result"
    }
   ],
   "source": [
    "df['aboutpjt_project size'].isna().sum()"
   ]
  },
  {
   "cell_type": "code",
   "execution_count": 283,
   "id": "c5c2fd13-c6e0-476f-9173-270a1a56b22e",
   "metadata": {},
   "outputs": [
    {
     "data": {
      "text/plain": [
       "aboutpjt_project size\n",
       "acre       5519\n",
       "sq-m        446\n",
       "sq-ft       175\n",
       "hectare       3\n",
       "sq-yrd        1\n",
       "Name: count, dtype: int64"
      ]
     },
     "execution_count": 283,
     "metadata": {},
     "output_type": "execute_result"
    }
   ],
   "source": [
    "df['aboutpjt_project size'].str.split(' ').str[1].value_counts()"
   ]
  },
  {
   "cell_type": "code",
   "execution_count": 284,
   "id": "a6beabf2-e326-4962-ad48-24e3362fd4af",
   "metadata": {},
   "outputs": [],
   "source": [
    "# Conversion function for different units to acres\n",
    "def convert_to_acres(value):\n",
    "    if isinstance(value, str):  # Check if the value is a string\n",
    "        if 'acre' in value:\n",
    "            acres = float(value.replace('acre', '').strip())\n",
    "            return round(acres, 4)  \n",
    "        elif 'sq-m' in value:\n",
    "            sqm = float(value.replace('sq-m', '').strip())\n",
    "            return round(sqm * 0.000247105, 4)  \n",
    "        elif 'sq-ft' in value:\n",
    "            sqft = float(value.replace('sq-ft', '').strip())\n",
    "            return round(sqft * 0.0000229568, 4)  \n",
    "        elif 'hectare' in value:\n",
    "            hectares = float(value.replace('hectare', '').strip())\n",
    "            return round(hectares * 2.47105, 4)  \n",
    "        elif 'sq-yrd' in value:\n",
    "            sq_yrd = float(value.replace('sq-yrd', '').strip())\n",
    "            return round(sq_yrd * 0.000836127, 4)  \n",
    "    elif isinstance(value, (int, float)):  # If value is numeric\n",
    "        return round(value * 0.0000229568, 4)  \n",
    "    return 0\n",
    "\n",
    "# Apply the conversion to the column\n",
    "df['project_in_acres'] = df['aboutpjt_project size'].apply(lambda x: convert_to_acres(x))\n"
   ]
  },
  {
   "cell_type": "code",
   "execution_count": 285,
   "id": "ffc2757f-447a-445b-b7a2-07a17acdd979",
   "metadata": {},
   "outputs": [],
   "source": [
    "df = df.drop(['aboutpjt_project size'],axis=1)"
   ]
  },
  {
   "cell_type": "code",
   "execution_count": 286,
   "id": "a63ba205-b245-41ef-a59b-5bc232165a13",
   "metadata": {},
   "outputs": [
    {
     "data": {
      "text/plain": [
       "id                             0\n",
       "url                            0\n",
       "image                        888\n",
       "name                           0\n",
       "wholeaddress                   0\n",
       "md_address                     0\n",
       "md_flooring                 4446\n",
       "image_urls                  4249\n",
       "available_units             5218\n",
       "towers                      5026\n",
       "locality_rank               3831\n",
       "locality_url_rating          464\n",
       "construction                1056\n",
       "overlooking                 3962\n",
       "ownership                   3604\n",
       "extra_rooms                 5296\n",
       "bath                          30\n",
       "parking                     6232\n",
       "builder                     4273\n",
       "project_name                3495\n",
       "furnish                       39\n",
       "price                          0\n",
       "f_area                         5\n",
       "f_costpersqft                  6\n",
       "property_type                  3\n",
       "status                        83\n",
       "lift                        5439\n",
       "flat_on_floor               2292\n",
       "total_floor                 2059\n",
       "balcony                     5820\n",
       "facing                      3730\n",
       "bed                            0\n",
       "lattitude                    463\n",
       "longitude                    463\n",
       "seller                         0\n",
       "addressregion                  0\n",
       "price_category                 0\n",
       "amenities                      0\n",
       "amenities_cluster              0\n",
       "assigned_amenities_score    5101\n",
       "education                      0\n",
       "transport                      0\n",
       "shopping_centre                0\n",
       "commercial_hub                 0\n",
       "hospital                       0\n",
       "tourist                        0\n",
       "converted_emi                  2\n",
       "project_in_acres            5750\n",
       "dtype: int64"
      ]
     },
     "execution_count": 286,
     "metadata": {},
     "output_type": "execute_result"
    }
   ],
   "source": [
    "df.isnull().sum()"
   ]
  },
  {
   "cell_type": "code",
   "execution_count": 287,
   "id": "37cfffe4-dd2f-439c-b678-ca46119085da",
   "metadata": {},
   "outputs": [
    {
     "data": {
      "text/plain": [
       "(11894, 48)"
      ]
     },
     "execution_count": 287,
     "metadata": {},
     "output_type": "execute_result"
    }
   ],
   "source": [
    "df.shape"
   ]
  },
  {
   "cell_type": "code",
   "execution_count": 288,
   "id": "8c7ccfd4-2be9-408b-845d-172697b33c0e",
   "metadata": {},
   "outputs": [],
   "source": [
    "#rename columns \n",
    "'md_address,md_flooring,f_area,f_costpersqft,converted_emi'\n",
    "df = df.rename(columns={'md_address':'address','md_flooring':'flooring','f_area':'area','f_costpersqft':'costpersqft','converted_emi':'emi','locality_url_rating':'locality_rating'})"
   ]
  },
  {
   "cell_type": "code",
   "execution_count": 289,
   "id": "6502032a-532e-42a2-a6af-03e27ddbb585",
   "metadata": {},
   "outputs": [
    {
     "name": "stdout",
     "output_type": "stream",
     "text": [
      "<class 'pandas.core.frame.DataFrame'>\n",
      "Index: 11894 entries, 0 to 12021\n",
      "Data columns (total 48 columns):\n",
      " #   Column                    Non-Null Count  Dtype   \n",
      "---  ------                    --------------  -----   \n",
      " 0   id                        11894 non-null  object  \n",
      " 1   url                       11894 non-null  object  \n",
      " 2   image                     11006 non-null  object  \n",
      " 3   name                      11894 non-null  object  \n",
      " 4   wholeaddress              11894 non-null  object  \n",
      " 5   address                   11894 non-null  object  \n",
      " 6   flooring                  7448 non-null   object  \n",
      " 7   image_urls                7645 non-null   object  \n",
      " 8   available_units           6676 non-null   float64 \n",
      " 9   towers                    6868 non-null   float64 \n",
      " 10  locality_rank             8063 non-null   float64 \n",
      " 11  locality_rating           11430 non-null  float64 \n",
      " 12  construction              10838 non-null  object  \n",
      " 13  overlooking               7932 non-null   object  \n",
      " 14  ownership                 8290 non-null   object  \n",
      " 15  extra_rooms               6598 non-null   object  \n",
      " 16  bath                      11864 non-null  float64 \n",
      " 17  parking                   5662 non-null   float64 \n",
      " 18  builder                   7621 non-null   object  \n",
      " 19  project_name              8399 non-null   object  \n",
      " 20  furnish                   11855 non-null  object  \n",
      " 21  price                     11894 non-null  float64 \n",
      " 22  area                      11889 non-null  object  \n",
      " 23  costpersqft               11888 non-null  float64 \n",
      " 24  property_type             11891 non-null  object  \n",
      " 25  status                    11811 non-null  object  \n",
      " 26  lift                      6455 non-null   float64 \n",
      " 27  flat_on_floor             9602 non-null   float64 \n",
      " 28  total_floor               9835 non-null   float64 \n",
      " 29  balcony                   6074 non-null   float64 \n",
      " 30  facing                    8164 non-null   object  \n",
      " 31  bed                       11894 non-null  float64 \n",
      " 32  lattitude                 11431 non-null  float64 \n",
      " 33  longitude                 11431 non-null  float64 \n",
      " 34  seller                    11894 non-null  object  \n",
      " 35  addressregion             11894 non-null  object  \n",
      " 36  price_category            11894 non-null  category\n",
      " 37  amenities                 11894 non-null  object  \n",
      " 38  amenities_cluster         11894 non-null  int32   \n",
      " 39  assigned_amenities_score  6793 non-null   float64 \n",
      " 40  education                 11894 non-null  object  \n",
      " 41  transport                 11894 non-null  object  \n",
      " 42  shopping_centre           11894 non-null  object  \n",
      " 43  commercial_hub            11894 non-null  object  \n",
      " 44  hospital                  11894 non-null  object  \n",
      " 45  tourist                   11894 non-null  object  \n",
      " 46  emi                       11892 non-null  float64 \n",
      " 47  project_in_acres          6144 non-null   float64 \n",
      "dtypes: category(1), float64(18), int32(1), object(28)\n",
      "memory usage: 4.3+ MB\n"
     ]
    }
   ],
   "source": [
    "df.info()"
   ]
  },
  {
   "cell_type": "code",
   "execution_count": 290,
   "id": "641c098e-a44a-472a-9a1a-286a2ca6b3db",
   "metadata": {},
   "outputs": [
    {
     "name": "stdout",
     "output_type": "stream",
     "text": [
      "\n",
      "Percentage of missing values in each column:\n",
      "id                           0.000000\n",
      "url                          0.000000\n",
      "image                        7.465949\n",
      "name                         0.000000\n",
      "wholeaddress                 0.000000\n",
      "address                      0.000000\n",
      "flooring                    37.380192\n",
      "image_urls                  35.723894\n",
      "available_units             43.870859\n",
      "towers                      42.256600\n",
      "locality_rank               32.209517\n",
      "locality_rating              3.901127\n",
      "construction                 8.878426\n",
      "overlooking                 33.310913\n",
      "ownership                   30.300992\n",
      "extra_rooms                 44.526652\n",
      "bath                         0.252228\n",
      "parking                     52.396166\n",
      "builder                     35.925677\n",
      "project_name                29.384564\n",
      "furnish                      0.327896\n",
      "price                        0.000000\n",
      "area                         0.042038\n",
      "costpersqft                  0.050446\n",
      "property_type                0.025223\n",
      "status                       0.697831\n",
      "lift                        45.728939\n",
      "flat_on_floor               19.270220\n",
      "total_floor                 17.311249\n",
      "balcony                     48.932235\n",
      "facing                      31.360350\n",
      "bed                          0.000000\n",
      "lattitude                    3.892719\n",
      "longitude                    3.892719\n",
      "seller                       0.000000\n",
      "addressregion                0.000000\n",
      "price_category               0.000000\n",
      "amenities                    0.000000\n",
      "amenities_cluster            0.000000\n",
      "assigned_amenities_score    42.887170\n",
      "education                    0.000000\n",
      "transport                    0.000000\n",
      "shopping_centre              0.000000\n",
      "commercial_hub               0.000000\n",
      "hospital                     0.000000\n",
      "tourist                      0.000000\n",
      "emi                          0.016815\n",
      "project_in_acres            48.343703\n",
      "dtype: float64\n"
     ]
    }
   ],
   "source": [
    "#missing value in percentage\n",
    "missing_values_percentage = (df.isnull().sum() / len(df)) * 100\n",
    "print(\"\\nPercentage of missing values in each column:\")\n",
    "print(missing_values_percentage)"
   ]
  },
  {
   "cell_type": "markdown",
   "id": "73f769cb-214f-452b-a76e-f021ee5cc004",
   "metadata": {},
   "source": [
    "# flooring "
   ]
  },
  {
   "cell_type": "markdown",
   "id": "a4db0df7-8594-42f4-804b-d240c1078a35",
   "metadata": {},
   "source": [
    "### Observation \n",
    "- 37% missing values \n",
    "- still I make feature engineering on that and I have make that using two different approach  \n",
    "  - 1st Approach : Kmeans clustering \n",
    "    - using MultiLabelBinarizer create binary features\n",
    "    - apply kmeans and find cluster\n",
    "  - 2nd Approach : avg weightage for each flooring\n",
    "    - assign weightage to each flooring according to the cost and quality of the material\n",
    "    - cal sum of weightage for each data points "
   ]
  },
  {
   "cell_type": "code",
   "execution_count": 291,
   "id": "0e8e3e94-2b74-4c44-a8fe-014b423bd8d2",
   "metadata": {},
   "outputs": [
    {
     "data": {
      "text/plain": [
       "dtype('O')"
      ]
     },
     "execution_count": 291,
     "metadata": {},
     "output_type": "execute_result"
    }
   ],
   "source": [
    "df['flooring'].dtype"
   ]
  },
  {
   "cell_type": "code",
   "execution_count": 292,
   "id": "c4a3af49-c30d-4088-bbd6-1de69af559d1",
   "metadata": {},
   "outputs": [
    {
     "data": {
      "text/plain": [
       "flooring\n",
       "vitrified                                                                                         3681\n",
       "marble                                                                                             692\n",
       "ceramic tiles                                                                                      329\n",
       "vitrified, wooden                                                                                  168\n",
       "granite, vitrified                                                                                 134\n",
       "marble, vitrified                                                                                  129\n",
       "ceramic tiles, vitrified                                                                           113\n",
       "vitrified, marble, granite                                                                          94\n",
       "vitrified, ceramic tiles                                                                            94\n",
       "ceramic tiles, granite, vitrified                                                                   85\n",
       "vitrified, marble                                                                                   82\n",
       "granite                                                                                             79\n",
       "marble, wooden                                                                                      71\n",
       "ceramic tiles, granite, marble, marbonite, mosaic, normal tiles/kotah stone, vitrified, wooden      68\n",
       "mosaic, vitrified, wooden, ceramic tiles, marble, normal tiles/kotah stone, granite, marbonite      66\n",
       "normal tiles/kotah stone                                                                            61\n",
       "ceramic tiles, granite                                                                              57\n",
       "marbonite                                                                                           52\n",
       "ceramic tiles, granite, marble                                                                      49\n",
       "vitrified, granite                                                                                  48\n",
       "granite, marble, vitrified                                                                          46\n",
       "ceramic tiles, marble                                                                               41\n",
       "mosaic                                                                                              33\n",
       "vitrified, ceramic tiles, marble                                                                    31\n",
       "marbonite, vitrified                                                                                28\n",
       "marble, vitrified, wooden                                                                           28\n",
       "vitrified, wooden, marble                                                                           28\n",
       "vitrified, ceramic tiles, marble, granite                                                           27\n",
       "ceramic tiles, granite, marble, vitrified                                                           26\n",
       "granite, marble                                                                                     26\n",
       "mosaic, vitrified                                                                                   25\n",
       "vitrified, wooden, ceramic tiles                                                                    25\n",
       "ceramic tiles, marble, vitrified                                                                    25\n",
       "vitrified, marbonite                                                                                23\n",
       "wooden, marble                                                                                      21\n",
       "vitrified, wooden, ceramic tiles, marble, normal tiles/kotah stone, granite, marbonite              20\n",
       "ceramic tiles, vitrified, wooden                                                                    20\n",
       "marble, marbonite                                                                                   18\n",
       "vitrified, ceramic tiles, granite                                                                   18\n",
       "ceramic tiles, marble, mosaic, vitrified                                                            17\n",
       "ceramic tiles, granite, marble, vitrified, wooden                                                   16\n",
       "ceramic tiles, granite, marble, marbonite, mosaic, normal tiles/kotah stone, vitrified              15\n",
       "marble, granite                                                                                     15\n",
       "ceramic tiles, marble, granite                                                                      14\n",
       "granite, vitrified, wooden                                                                          14\n",
       "mosaic, vitrified, ceramic tiles, marble, normal tiles/kotah stone, granite, marbonite              13\n",
       "wooden                                                                                              13\n",
       "marble, granite, marbonite                                                                          13\n",
       "granite, marble, wooden                                                                             12\n",
       "ceramic tiles, mosaic, vitrified                                                                    12\n",
       "ceramic tiles, marble, mosaic                                                                       12\n",
       "marble, marbonite, vitrified                                                                        12\n",
       "granite, marbonite                                                                                  12\n",
       "vitrified, wooden, ceramic tiles, marbonite                                                         12\n",
       "mosaic, vitrified, wooden, marble                                                                   11\n",
       "normal tiles/kotah stone, vitrified                                                                 11\n",
       "vitrified, ceramic tiles, marble, normal tiles/kotah stone, granite, marbonite                      11\n",
       "ceramic tiles, granite, marble, marbonite                                                           10\n",
       "granite, marble, normal tiles/kotah stone, vitrified                                                10\n",
       "vitrified, normal tiles/kotah stone                                                                 10\n",
       "granite, marble, marbonite                                                                          10\n",
       "vitrified, ceramic tiles, marble, granite, marbonite                                                10\n",
       "ceramic tiles, marble, vitrified, wooden                                                            10\n",
       "ceramic tiles, granite, normal tiles/kotah stone, vitrified                                         10\n",
       "ceramic tiles, granite, vitrified, wooden                                                            9\n",
       "ceramic tiles, marble, wooden                                                                        9\n",
       "ceramic tiles, granite, marble, normal tiles/kotah stone, vitrified, wooden                          9\n",
       "marble, normal tiles/kotah stone                                                                     8\n",
       "vitrified, wooden, marble, granite                                                                   8\n",
       "granite, marbonite, vitrified                                                                        8\n",
       "vitrified, marble, marbonite                                                                         8\n",
       "granite, marble, marbonite, vitrified                                                                8\n",
       "mosaic, vitrified, wooden                                                                            8\n",
       "ceramic tiles, granite, marble, marbonite, vitrified                                                 8\n",
       "granite, marble, vitrified, wooden                                                                   7\n",
       "normal tiles/kotah stone, vitrified, wooden                                                          7\n",
       "vitrified, marble, granite, marbonite                                                                7\n",
       "ceramic tiles, marbonite, vitrified                                                                  7\n",
       "vitrified, wooden, granite                                                                           7\n",
       "vitrified, wooden, marbonite                                                                         7\n",
       "marble, marbonite, vitrified, wooden                                                                 7\n",
       "ceramic tiles, granite, marble, marbonite, vitrified, wooden                                         6\n",
       "mosaic, vitrified, ceramic tiles, marble, granite                                                    6\n",
       "granite, marble, mosaic, vitrified                                                                   6\n",
       "ceramic tiles, normal tiles/kotah stone, vitrified                                                   6\n",
       "ceramic tiles, granite, marble, marbonite, mosaic, vitrified, wooden                                 6\n",
       "ceramic tiles, wooden                                                                                6\n",
       "mosaic, vitrified, ceramic tiles                                                                     6\n",
       "wooden, ceramic tiles, granite, marbonite                                                            6\n",
       "vitrified, ceramic tiles, normal tiles/kotah stone                                                   5\n",
       "granite, marble, marbonite, mosaic, normal tiles/kotah stone, vitrified                              5\n",
       "granite, mosaic                                                                                      5\n",
       "ceramic tiles, marbonite                                                                             5\n",
       "ceramic tiles, granite, marble, marbonite, mosaic, normal tiles/kotah stone                          5\n",
       "vitrified, granite, marbonite                                                                        5\n",
       "ceramic tiles, marble, marbonite                                                                     5\n",
       "wooden, marble, granite                                                                              5\n",
       "vitrified, ceramic tiles, normal tiles/kotah stone, granite                                          5\n",
       "mosaic, vitrified, marble, granite                                                                   5\n",
       "ceramic tiles, granite, marbonite, vitrified                                                         5\n",
       "ceramic tiles, granite, marble, normal tiles/kotah stone, vitrified                                  5\n",
       "ceramic tiles, marbonite, mosaic, wooden                                                             4\n",
       "ceramic tiles, marble, marbonite, vitrified                                                          4\n",
       "ceramic tiles, granite, marble, mosaic                                                               4\n",
       "ceramic tiles, normal tiles/kotah stone                                                              4\n",
       "wooden, granite                                                                                      4\n",
       "marbonite, vitrified, wooden                                                                         3\n",
       "vitrified, wooden, ceramic tiles, granite                                                            3\n",
       "mosaic, normal tiles/kotah stone, vitrified                                                          3\n",
       "ceramic tiles, granite, marble, marbonite, mosaic, normal tiles/kotah stone, wooden                  3\n",
       "ceramic tiles, marbonite, mosaic                                                                     3\n",
       "ceramic tiles, granite, mosaic                                                                       3\n",
       "ceramic tiles, granite, marble, wooden                                                               3\n",
       "marbonite, wooden                                                                                    3\n",
       "marble, marbonite, mosaic, normal tiles/kotah stone                                                  3\n",
       "ceramic tiles, granite, marble, marbonite, mosaic, vitrified                                         3\n",
       "granite, marble, marbonite, normal tiles/kotah stone                                                 3\n",
       "wooden, normal tiles/kotah stone                                                                     3\n",
       "granite, mosaic, vitrified                                                                           3\n",
       "vitrified, wooden, ceramic tiles, marble, granite, marbonite                                         3\n",
       "vitrified, wooden, ceramic tiles, granite, marbonite                                                 2\n",
       "ceramic tiles, granite, marbonite, normal tiles/kotah stone, vitrified                               2\n",
       "vitrified, wooden, normal tiles/kotah stone                                                          2\n",
       "mosaic, vitrified, wooden, ceramic tiles, marble, granite, marbonite                                 2\n",
       "vitrified, ceramic tiles, marble, normal tiles/kotah stone, granite                                  2\n",
       "ceramic tiles, granite, normal tiles/kotah stone, vitrified, wooden                                  2\n",
       "mosaic, wooden, marble                                                                               2\n",
       "vitrified, wooden, ceramic tiles, marble, normal tiles/kotah stone, granite                          2\n",
       "mosaic, normal tiles/kotah stone, vitrified, wooden                                                  2\n",
       "wooden, ceramic tiles, marble                                                                        2\n",
       "ceramic tiles, marble, normal tiles/kotah stone                                                      2\n",
       "ceramic tiles, granite, marble, marbonite, mosaic                                                    2\n",
       "vitrified, marble, normal tiles/kotah stone                                                          2\n",
       "mosaic, marble                                                                                       2\n",
       "granite, marbonite, vitrified, wooden                                                                2\n",
       "mosaic, vitrified, ceramic tiles, marble, granite, marbonite                                         2\n",
       "mosaic, vitrified, ceramic tiles, marble                                                             2\n",
       "vitrified, ceramic tiles, normal tiles/kotah stone, granite, marbonite                               2\n",
       "mosaic, ceramic tiles, marble, normal tiles/kotah stone, marbonite                                   2\n",
       "vitrified, wooden, ceramic tiles, marble, granite                                                    2\n",
       "vitrified, ceramic tiles, granite, marbonite                                                         2\n",
       "marble, mosaic                                                                                       2\n",
       "mosaic, vitrified, wooden, ceramic tiles, marble, normal tiles/kotah stone, granite                  2\n",
       "marble, marbonite, wooden                                                                            2\n",
       "vitrified, wooden, ceramic tiles, marble, normal tiles/kotah stone, marbonite                        2\n",
       "granite, marble, marbonite, mosaic, vitrified                                                        2\n",
       "ceramic tiles, marble, marbonite, normal tiles/kotah stone                                           2\n",
       "mosaic, vitrified, granite                                                                           2\n",
       "ceramic tiles, mosaic                                                                                2\n",
       "vitrified, marble, normal tiles/kotah stone, marbonite                                               2\n",
       "ceramic tiles, granite, mosaic, normal tiles/kotah stone, vitrified                                  2\n",
       "ceramic tiles, granite, marble, marbonite, normal tiles/kotah stone, vitrified                       2\n",
       "vitrified, wooden, ceramic tiles, marble                                                             2\n",
       "ceramic tiles, granite, mosaic, vitrified                                                            2\n",
       "granite, marbonite, mosaic, normal tiles/kotah stone, vitrified                                      2\n",
       "ceramic tiles, granite, marbonite                                                                    2\n",
       "mosaic, vitrified, ceramic tiles, granite                                                            2\n",
       "ceramic tiles, granite, marbonite, mosaic, normal tiles/kotah stone, vitrified                       2\n",
       "ceramic tiles, granite, marble, marbonite, mosaic, wooden                                            2\n",
       "marble, mosaic, vitrified                                                                            2\n",
       "ceramic tiles, marbonite, vitrified, wooden                                                          2\n",
       "marble, marbonite, mosaic, normal tiles/kotah stone, wooden                                          2\n",
       "ceramic tiles, marble, granite, marbonite                                                            2\n",
       "ceramic tiles, granite, marble, marbonite, normal tiles/kotah stone, vitrified, wooden               2\n",
       "ceramic tiles, granite, marble, normal tiles/kotah stone                                             2\n",
       "mosaic, vitrified, wooden, ceramic tiles                                                             2\n",
       "ceramic tiles, granite, marble, mosaic, vitrified, wooden                                            2\n",
       "ceramic tiles, marble, marbonite, vitrified, wooden                                                  2\n",
       "vitrified, wooden, granite, marbonite                                                                1\n",
       "ceramic tiles, marble, marbonite, mosaic, normal tiles/kotah stone, vitrified                        1\n",
       "mosaic, vitrified, ceramic tiles, normal tiles/kotah stone                                           1\n",
       "mosaic, ceramic tiles, marble, normal tiles/kotah stone, granite, marbonite                          1\n",
       "mosaic, ceramic tiles, granite                                                                       1\n",
       "mosaic, normal tiles/kotah stone                                                                     1\n",
       "granite, marble, mosaic, wooden                                                                      1\n",
       "mosaic, vitrified, wooden, marble, normal tiles/kotah stone, granite                                 1\n",
       "mosaic, vitrified, wooden, ceramic tiles, marble                                                     1\n",
       "mosaic, marbonite                                                                                    1\n",
       "wooden, ceramic tiles, marble, granite, marbonite                                                    1\n",
       "wooden, marble, marbonite                                                                            1\n",
       "mosaic, vitrified, normal tiles/kotah stone, granite, marbonite                                      1\n",
       "mosaic, vitrified, ceramic tiles, granite, marbonite                                                 1\n",
       "ceramic tiles, marbonite, mosaic, normal tiles/kotah stone, wooden                                   1\n",
       "wooden, ceramic tiles, granite                                                                       1\n",
       "wooden, ceramic tiles                                                                                1\n",
       "ceramic tiles, granite, marble, marbonite, wooden                                                    1\n",
       "vitrified, wooden, normal tiles/kotah stone, granite                                                 1\n",
       "vitrified, wooden, marble, marbonite                                                                 1\n",
       "wooden, ceramic tiles, marble, normal tiles/kotah stone                                              1\n",
       "marbonite, mosaic, normal tiles/kotah stone, vitrified, wooden                                       1\n",
       "mosaic, vitrified, wooden, ceramic tiles, marble, marbonite                                          1\n",
       "mosaic, vitrified, marble, normal tiles/kotah stone, marbonite                                       1\n",
       "wooden, marble, normal tiles/kotah stone, granite                                                    1\n",
       "mosaic, wooden, ceramic tiles, marbonite                                                             1\n",
       "ceramic tiles, granite, marble, mosaic, normal tiles/kotah stone, wooden                             1\n",
       "ceramic tiles, marble, marbonite, mosaic                                                             1\n",
       "ceramic tiles, granite, marble, mosaic, normal tiles/kotah stone, vitrified                          1\n",
       "normal tiles/kotah stone, granite, marbonite                                                         1\n",
       "wooden, ceramic tiles, marble, granite                                                               1\n",
       "mosaic, wooden, ceramic tiles, normal tiles/kotah stone                                              1\n",
       "mosaic, wooden, ceramic tiles, marble, normal tiles/kotah stone, marbonite                           1\n",
       "mosaic, vitrified, ceramic tiles, marble, marbonite                                                  1\n",
       "mosaic, ceramic tiles                                                                                1\n",
       "normal tiles/kotah stone, marbonite                                                                  1\n",
       "ceramic tiles, marbonite, mosaic, vitrified, wooden                                                  1\n",
       "vitrified, marble, normal tiles/kotah stone, granite                                                 1\n",
       "ceramic tiles, granite, marbonite, normal tiles/kotah stone, wooden                                  1\n",
       "ceramic tiles, marbonite, mosaic, vitrified                                                          1\n",
       "ceramic tiles, marble, marbonite, mosaic, vitrified, wooden                                          1\n",
       "mosaic, vitrified, normal tiles/kotah stone, marbonite                                               1\n",
       "ceramic tiles, granite, marble, mosaic, vitrified                                                    1\n",
       "granite, marble, marbonite, mosaic                                                                   1\n",
       "granite, marbonite, mosaic, vitrified                                                                1\n",
       "granite, marble, marbonite, normal tiles/kotah stone, vitrified                                      1\n",
       "granite, normal tiles/kotah stone, vitrified                                                         1\n",
       "mosaic, marble, granite                                                                              1\n",
       "granite, wooden                                                                                      1\n",
       "ceramic tiles, marble, normal tiles/kotah stone, granite                                             1\n",
       "mosaic, vitrified, marble, granite, marbonite                                                        1\n",
       "wooden, marble, normal tiles/kotah stone                                                             1\n",
       "marble, marbonite, mosaic, wooden                                                                    1\n",
       "mosaic, vitrified, granite, marbonite                                                                1\n",
       "ceramic tiles, granite, marble, marbonite, normal tiles/kotah stone                                  1\n",
       "mosaic, vitrified, wooden, ceramic tiles, normal tiles/kotah stone, granite, marbonite               1\n",
       "mosaic, wooden, marble, granite, marbonite                                                           1\n",
       "ceramic tiles, granite, marbonite, vitrified, wooden                                                 1\n",
       "marbonite, mosaic, vitrified                                                                         1\n",
       "granite, marble, marbonite, vitrified, wooden                                                        1\n",
       "marble, mosaic, normal tiles/kotah stone                                                             1\n",
       "granite, marble, mosaic                                                                              1\n",
       "wooden, ceramic tiles, marble, marbonite                                                             1\n",
       "ceramic tiles, granite, mosaic, wooden                                                               1\n",
       "mosaic, vitrified, ceramic tiles, marble, normal tiles/kotah stone, granite                          1\n",
       "wooden, marbonite                                                                                    1\n",
       "marble, mosaic, normal tiles/kotah stone, vitrified                                                  1\n",
       "ceramic tiles, granite, marbonite, mosaic, vitrified                                                 1\n",
       "wooden, ceramic tiles, marble, normal tiles/kotah stone, granite, marbonite                          1\n",
       "vitrified, wooden, marble, normal tiles/kotah stone, marbonite                                       1\n",
       "ceramic tiles, granite, marbonite, mosaic, vitrified, wooden                                         1\n",
       "marble, normal tiles/kotah stone, granite, marbonite                                                 1\n",
       "mosaic, vitrified, wooden, ceramic tiles, marbonite                                                  1\n",
       "mosaic, ceramic tiles, marble, normal tiles/kotah stone, granite                                     1\n",
       "mosaic, vitrified, ceramic tiles, normal tiles/kotah stone, granite, marbonite                       1\n",
       "mosaic, vitrified, marble                                                                            1\n",
       "vitrified, wooden, marble, normal tiles/kotah stone                                                  1\n",
       "ceramic tiles, granite, marbonite, wooden                                                            1\n",
       "granite, marble, marbonite, mosaic, vitrified, wooden                                                1\n",
       "vitrified, wooden, marble, normal tiles/kotah stone, granite, marbonite                              1\n",
       "marble, normal tiles/kotah stone, vitrified                                                          1\n",
       "mosaic, vitrified, wooden, marble, granite                                                           1\n",
       "marble, marbonite, normal tiles/kotah stone, vitrified                                               1\n",
       "ceramic tiles, granite, marble, marbonite, normal tiles/kotah stone, wooden                          1\n",
       "Name: count, dtype: int64"
      ]
     },
     "execution_count": 292,
     "metadata": {},
     "output_type": "execute_result"
    }
   ],
   "source": [
    "df['flooring'].value_counts()"
   ]
  },
  {
   "cell_type": "code",
   "execution_count": 293,
   "id": "3ab21383-54e8-46ee-8559-e42acd5ae9f0",
   "metadata": {},
   "outputs": [
    {
     "data": {
      "text/plain": [
       "4446"
      ]
     },
     "execution_count": 293,
     "metadata": {},
     "output_type": "execute_result"
    }
   ],
   "source": [
    "df['flooring'].isnull().sum()"
   ]
  },
  {
   "cell_type": "code",
   "execution_count": 294,
   "id": "8308c8d5-4100-4d64-806c-1fd76cf0cff4",
   "metadata": {},
   "outputs": [],
   "source": [
    "df['flooring'] = df['flooring'].fillna('unknown')"
   ]
  },
  {
   "cell_type": "code",
   "execution_count": 295,
   "id": "8df35691-4539-4b85-bd27-9b0cfc0740d7",
   "metadata": {},
   "outputs": [
    {
     "name": "stdout",
     "output_type": "stream",
     "text": [
      "['ceramic tiles', 'granite', 'marble', 'marbonite', 'mosaic', 'normal tiles/kotah stone', 'unknown', 'vitrified', 'wooden']\n"
     ]
    }
   ],
   "source": [
    "# Split the 'flooring' column into individual values, flatten the list, and find unique values\n",
    "unique_floorings = set(floor.strip() for floors in df['flooring'] for floor in floors.split(','))\n",
    "\n",
    "# Convert to a sorted list for better readability\n",
    "unique_floorings = sorted(unique_floorings)\n",
    "\n",
    "# Display the result\n",
    "print(unique_floorings)"
   ]
  },
  {
   "cell_type": "code",
   "execution_count": 296,
   "id": "0a8043e9-1dd1-4ef5-8788-99d6c6417588",
   "metadata": {},
   "outputs": [
    {
     "data": {
      "text/plain": [
       "0                           vitrified\n",
       "1    vitrified, wooden, ceramic tiles\n",
       "2                             unknown\n",
       "3                           vitrified\n",
       "4                           vitrified\n",
       "Name: flooring, dtype: object"
      ]
     },
     "execution_count": 296,
     "metadata": {},
     "output_type": "execute_result"
    }
   ],
   "source": [
    "df['flooring'].head()"
   ]
  },
  {
   "cell_type": "code",
   "execution_count": 297,
   "id": "7b46e986-3864-49e5-bef1-fff11745103e",
   "metadata": {},
   "outputs": [],
   "source": [
    "from sklearn.preprocessing import MultiLabelBinarizer\n",
    "\n",
    "# Split flooring combinations into individual materials\n",
    "df['flooring_split'] = df['flooring'].str.split(', ')\n",
    "\n",
    "# Use MultiLabelBinarizer to create binary features\n",
    "mlb = MultiLabelBinarizer()\n",
    "flooring_matrix = mlb.fit_transform(df['flooring_split'])\n",
    "\n",
    "# Create a DataFrame for encoded flooring data\n",
    "flooring_encoded = pd.DataFrame(flooring_matrix, columns=mlb.classes_)"
   ]
  },
  {
   "cell_type": "code",
   "execution_count": 298,
   "id": "315830e1-3890-4c94-a40d-b79bc597b7f6",
   "metadata": {},
   "outputs": [
    {
     "data": {
      "text/html": [
       "<div>\n",
       "<style scoped>\n",
       "    .dataframe tbody tr th:only-of-type {\n",
       "        vertical-align: middle;\n",
       "    }\n",
       "\n",
       "    .dataframe tbody tr th {\n",
       "        vertical-align: top;\n",
       "    }\n",
       "\n",
       "    .dataframe thead th {\n",
       "        text-align: right;\n",
       "    }\n",
       "</style>\n",
       "<table border=\"1\" class=\"dataframe\">\n",
       "  <thead>\n",
       "    <tr style=\"text-align: right;\">\n",
       "      <th></th>\n",
       "      <th>ceramic tiles</th>\n",
       "      <th>granite</th>\n",
       "      <th>marble</th>\n",
       "      <th>marbonite</th>\n",
       "      <th>mosaic</th>\n",
       "      <th>normal tiles/kotah stone</th>\n",
       "      <th>unknown</th>\n",
       "      <th>vitrified</th>\n",
       "      <th>wooden</th>\n",
       "    </tr>\n",
       "  </thead>\n",
       "  <tbody>\n",
       "    <tr>\n",
       "      <th>0</th>\n",
       "      <td>0</td>\n",
       "      <td>0</td>\n",
       "      <td>0</td>\n",
       "      <td>0</td>\n",
       "      <td>0</td>\n",
       "      <td>0</td>\n",
       "      <td>0</td>\n",
       "      <td>1</td>\n",
       "      <td>0</td>\n",
       "    </tr>\n",
       "    <tr>\n",
       "      <th>1</th>\n",
       "      <td>1</td>\n",
       "      <td>0</td>\n",
       "      <td>0</td>\n",
       "      <td>0</td>\n",
       "      <td>0</td>\n",
       "      <td>0</td>\n",
       "      <td>0</td>\n",
       "      <td>1</td>\n",
       "      <td>1</td>\n",
       "    </tr>\n",
       "    <tr>\n",
       "      <th>2</th>\n",
       "      <td>0</td>\n",
       "      <td>0</td>\n",
       "      <td>0</td>\n",
       "      <td>0</td>\n",
       "      <td>0</td>\n",
       "      <td>0</td>\n",
       "      <td>1</td>\n",
       "      <td>0</td>\n",
       "      <td>0</td>\n",
       "    </tr>\n",
       "    <tr>\n",
       "      <th>3</th>\n",
       "      <td>0</td>\n",
       "      <td>0</td>\n",
       "      <td>0</td>\n",
       "      <td>0</td>\n",
       "      <td>0</td>\n",
       "      <td>0</td>\n",
       "      <td>0</td>\n",
       "      <td>1</td>\n",
       "      <td>0</td>\n",
       "    </tr>\n",
       "    <tr>\n",
       "      <th>4</th>\n",
       "      <td>0</td>\n",
       "      <td>0</td>\n",
       "      <td>0</td>\n",
       "      <td>0</td>\n",
       "      <td>0</td>\n",
       "      <td>0</td>\n",
       "      <td>0</td>\n",
       "      <td>1</td>\n",
       "      <td>0</td>\n",
       "    </tr>\n",
       "  </tbody>\n",
       "</table>\n",
       "</div>"
      ],
      "text/plain": [
       "   ceramic tiles  granite  marble  marbonite  mosaic  \\\n",
       "0              0        0       0          0       0   \n",
       "1              1        0       0          0       0   \n",
       "2              0        0       0          0       0   \n",
       "3              0        0       0          0       0   \n",
       "4              0        0       0          0       0   \n",
       "\n",
       "   normal tiles/kotah stone  unknown  vitrified  wooden  \n",
       "0                         0        0          1       0  \n",
       "1                         0        0          1       1  \n",
       "2                         0        1          0       0  \n",
       "3                         0        0          1       0  \n",
       "4                         0        0          1       0  "
      ]
     },
     "execution_count": 298,
     "metadata": {},
     "output_type": "execute_result"
    }
   ],
   "source": [
    "flooring_encoded.head(5)"
   ]
  },
  {
   "cell_type": "code",
   "execution_count": 299,
   "id": "a934193e-d759-4851-b9b4-65a4296a0092",
   "metadata": {},
   "outputs": [
    {
     "data": {
      "image/png": "[encoded data removed]",
      "text/plain": [
       "<Figure size 640x480 with 1 Axes>"
      ]
     },
     "metadata": {},
     "output_type": "display_data"
    }
   ],
   "source": [
    "from sklearn.cluster import KMeans\n",
    "from sklearn.metrics import silhouette_score\n",
    "import matplotlib.pyplot as plt\n",
    "\n",
    "# Find the optimal number of clusters (Elbow Method)\n",
    "inertia = []\n",
    "range_n_clusters = range(2, 10)\n",
    "for n_clusters in range_n_clusters:\n",
    "    kmeans = KMeans(n_clusters=n_clusters, random_state=42)\n",
    "    kmeans.fit(flooring_encoded)\n",
    "    inertia.append(kmeans.inertia_)\n",
    "\n",
    "# Plot the Elbow Curve\n",
    "plt.plot(range_n_clusters, inertia, marker='o')\n",
    "plt.xlabel('Number of Clusters')\n",
    "plt.ylabel('Inertia')\n",
    "plt.title('Elbow Method')\n",
    "plt.show()\n",
    "\n",
    "# Use the chosen number of clusters\n",
    "kmeans = KMeans(n_clusters=5, random_state=42)\n",
    "df['flooring_cluster'] = kmeans.fit_predict(flooring_encoded)"
   ]
  },
  {
   "cell_type": "code",
   "execution_count": 300,
   "id": "94e7e347-6510-4ce2-8d76-7d9ec874b20e",
   "metadata": {},
   "outputs": [
    {
     "name": "stdout",
     "output_type": "stream",
     "text": [
      "Silhouette Score for 5 clusters: 0.7039405148034295\n"
     ]
    }
   ],
   "source": [
    "from sklearn.metrics import silhouette_score\n",
    "\n",
    "# Calculate silhouette score\n",
    "silhouette_avg = silhouette_score(flooring_encoded, df['flooring_cluster'])\n",
    "print(\"Silhouette Score for 5 clusters:\", silhouette_avg)"
   ]
  },
  {
   "cell_type": "code",
   "execution_count": 301,
   "id": "8699c262-e31d-428a-b0f8-174c63e2592e",
   "metadata": {},
   "outputs": [
    {
     "data": {
      "text/plain": [
       "flooring_cluster\n",
       "3    4547\n",
       "1    4446\n",
       "2    2010\n",
       "0     463\n",
       "4     428\n",
       "Name: count, dtype: int64"
      ]
     },
     "execution_count": 301,
     "metadata": {},
     "output_type": "execute_result"
    }
   ],
   "source": [
    "df['flooring_cluster'].value_counts()"
   ]
  },
  {
   "cell_type": "markdown",
   "id": "6fd03485-a5b6-4278-a483-186c9703fede",
   "metadata": {},
   "source": [
    "### Observation\n",
    "- silhouette score is above 0.5, means clustering is generally well-formed. If it's lower (e.g., below 0.3), we might reconsider the number of clusters and 0.4 to 0.5: Moderate clustering performance — some overlap between clusters likely exists, but the separation isn't completely poor.\n",
    "- silhouette score = 0.71 for 5 clusters shown that clustering is generally well-formed\n",
    "- The number of missing values was 4454, and cluster 0 also contains 4454 values. This indicates that cluster 0 includes unknown values only\n",
    "- Do not replace the values in cluster 0 with 'None' again."
   ]
  },
  {
   "cell_type": "code",
   "execution_count": 302,
   "id": "20f22498-7f0d-45ee-b998-764286eb636d",
   "metadata": {},
   "outputs": [
    {
     "data": {
      "text/html": [
       "<div>\n",
       "<style scoped>\n",
       "    .dataframe tbody tr th:only-of-type {\n",
       "        vertical-align: middle;\n",
       "    }\n",
       "\n",
       "    .dataframe tbody tr th {\n",
       "        vertical-align: top;\n",
       "    }\n",
       "\n",
       "    .dataframe thead th {\n",
       "        text-align: right;\n",
       "    }\n",
       "</style>\n",
       "<table border=\"1\" class=\"dataframe\">\n",
       "  <thead>\n",
       "    <tr style=\"text-align: right;\">\n",
       "      <th></th>\n",
       "      <th>flooring</th>\n",
       "      <th>flooring_cluster</th>\n",
       "    </tr>\n",
       "  </thead>\n",
       "  <tbody>\n",
       "    <tr>\n",
       "      <th>0</th>\n",
       "      <td>vitrified</td>\n",
       "      <td>3</td>\n",
       "    </tr>\n",
       "    <tr>\n",
       "      <th>1</th>\n",
       "      <td>vitrified, wooden, ceramic tiles</td>\n",
       "      <td>0</td>\n",
       "    </tr>\n",
       "    <tr>\n",
       "      <th>2</th>\n",
       "      <td>unknown</td>\n",
       "      <td>1</td>\n",
       "    </tr>\n",
       "    <tr>\n",
       "      <th>3</th>\n",
       "      <td>vitrified</td>\n",
       "      <td>3</td>\n",
       "    </tr>\n",
       "    <tr>\n",
       "      <th>4</th>\n",
       "      <td>vitrified</td>\n",
       "      <td>3</td>\n",
       "    </tr>\n",
       "  </tbody>\n",
       "</table>\n",
       "</div>"
      ],
      "text/plain": [
       "                           flooring  flooring_cluster\n",
       "0                         vitrified                 3\n",
       "1  vitrified, wooden, ceramic tiles                 0\n",
       "2                           unknown                 1\n",
       "3                         vitrified                 3\n",
       "4                         vitrified                 3"
      ]
     },
     "execution_count": 302,
     "metadata": {},
     "output_type": "execute_result"
    }
   ],
   "source": [
    "df[['flooring','flooring_cluster']].head()"
   ]
  },
  {
   "cell_type": "code",
   "execution_count": 303,
   "id": "79b1c4e1-f1a4-4e02-a551-e8bc231b43b4",
   "metadata": {},
   "outputs": [
    {
     "data": {
      "image/png": "[encoded data removed]",
      "text/plain": [
       "<Figure size 640x480 with 1 Axes>"
      ]
     },
     "metadata": {},
     "output_type": "display_data"
    }
   ],
   "source": [
    "# Filter data for 'mumbai'\n",
    "#filtered_df = df[df['addressregion'] == 'thane']\n",
    "\n",
    "sns.scatterplot(x=df['flooring_cluster'], y=df['price'], hue=df['addressregion'])\n",
    "\n",
    "# Add labels and title\n",
    "plt.xlabel('flooring_cluster')\n",
    "plt.ylabel('price')\n",
    "plt.title('Scatterplot of flooring and price')\n",
    "plt.legend(title='Address Region')\n",
    "plt.show()"
   ]
  },
  {
   "cell_type": "markdown",
   "id": "08ac3dfc-c287-4dfd-862a-84ee9aa040dc",
   "metadata": {},
   "source": [
    "# method 2 : weightage "
   ]
  },
  {
   "cell_type": "code",
   "execution_count": 304,
   "id": "1eb4b731-37f4-4ef2-aeef-bf69a54e5927",
   "metadata": {},
   "outputs": [],
   "source": [
    "# Define the weightage for each flooring type\n",
    "weightages = {\n",
    "    \"vitrified\": 7,\n",
    "    \"marble\": 10,\n",
    "    \"ceramic tiles\": 6,\n",
    "    \"wooden\": 8,\n",
    "    \"granite\": 9,\n",
    "    \"mosaic\": 4,\n",
    "    \"normal tiles/kotah stone\": 4,\n",
    "    \"marbonite\": 8,\n",
    "    \"unknown\": 0\n",
    "}\n",
    "\n",
    "\n",
    "# Function to calculate the combination score\n",
    "def calculate_combination_score(flooring_combination):\n",
    "    flooring_types = [f.strip().lower() for f in flooring_combination.split(\",\")]\n",
    "    total_weight = sum(weightages.get(f, 0) for f in flooring_types)\n",
    "    #combination_score = total_weight / len(flooring_types)\n",
    "    return round(total_weight, 2)\n",
    "\n",
    "# Apply the function to the dataframe\n",
    "df[\"assigned_flooring_score\"] = df[\"flooring\"].apply(calculate_combination_score)"
   ]
  },
  {
   "cell_type": "code",
   "execution_count": 305,
   "id": "432f9cf0-3038-44fe-a95e-1f7d84c418ad",
   "metadata": {},
   "outputs": [
    {
     "data": {
      "text/plain": [
       "assigned_flooring_score\n",
       "0     4446\n",
       "7     3681\n",
       "10     699\n",
       "6      329\n",
       "15     279\n",
       "17     257\n",
       "16     227\n",
       "13     212\n",
       "26     170\n",
       "25     143\n",
       "56     134\n",
       "18     114\n",
       "22     107\n",
       "4       94\n",
       "9       79\n",
       "23      74\n",
       "8       66\n",
       "19      63\n",
       "32      62\n",
       "21      60\n",
       "27      60\n",
       "24      50\n",
       "11      46\n",
       "30      45\n",
       "34      40\n",
       "48      39\n",
       "40      39\n",
       "29      36\n",
       "31      31\n",
       "44      31\n",
       "52      30\n",
       "33      28\n",
       "14      24\n",
       "20      20\n",
       "36      14\n",
       "38      11\n",
       "41       9\n",
       "42       8\n",
       "28       7\n",
       "12       5\n",
       "37       4\n",
       "43       4\n",
       "45       4\n",
       "39       4\n",
       "46       3\n",
       "35       3\n",
       "49       3\n",
       "Name: count, dtype: int64"
      ]
     },
     "execution_count": 305,
     "metadata": {},
     "output_type": "execute_result"
    }
   ],
   "source": [
    "df[\"assigned_flooring_score\"].value_counts()"
   ]
  },
  {
   "cell_type": "code",
   "execution_count": 306,
   "id": "d7720a5d-6226-4f73-8798-bb77800733a1",
   "metadata": {},
   "outputs": [
    {
     "data": {
      "text/plain": [
       "0     7\n",
       "1    21\n",
       "2     0\n",
       "3     7\n",
       "4     7\n",
       "Name: assigned_flooring_score, dtype: int64"
      ]
     },
     "execution_count": 306,
     "metadata": {},
     "output_type": "execute_result"
    }
   ],
   "source": [
    "df['assigned_flooring_score'].head()"
   ]
  },
  {
   "cell_type": "code",
   "execution_count": 307,
   "id": "b86813cc-7509-4781-8c73-8dfea9a18783",
   "metadata": {},
   "outputs": [
    {
     "data": {
      "image/png": "[encoded data removed]",
      "text/plain": [
       "<Figure size 640x480 with 1 Axes>"
      ]
     },
     "metadata": {},
     "output_type": "display_data"
    }
   ],
   "source": [
    "# Filter data for 'mumbai'\n",
    "#filtered_df = df[df['addressregion'] == 'thane']\n",
    "\n",
    "sns.scatterplot(x=df['assigned_flooring_score'], y=df['price'])\n",
    "\n",
    "# Add labels and title\n",
    "plt.xlabel('assigned_flooring_score')\n",
    "plt.ylabel('price')\n",
    "plt.title('Scatterplot of flooring and price')\n",
    "#plt.legend(title='Address Region')\n",
    "plt.show()"
   ]
  },
  {
   "cell_type": "code",
   "execution_count": 308,
   "id": "da51a4f4-a0ac-4ecf-b529-e6e3ab3a5b7e",
   "metadata": {},
   "outputs": [
    {
     "data": {
      "text/plain": [
       "(4446, 51)"
      ]
     },
     "execution_count": 308,
     "metadata": {},
     "output_type": "execute_result"
    }
   ],
   "source": [
    "df[df['assigned_flooring_score'] == 0].shape"
   ]
  },
  {
   "cell_type": "markdown",
   "id": "9b04f83a-be4c-45af-a340-0e60cb349f1a",
   "metadata": {},
   "source": [
    "### observation \n",
    "- make the 0 classify values as 'None' again "
   ]
  },
  {
   "cell_type": "code",
   "execution_count": 309,
   "id": "f2bfac13-5527-4e5e-b9ec-b5cd669c1e20",
   "metadata": {},
   "outputs": [],
   "source": [
    "# Replace 0 with NaN\n",
    "df['assigned_flooring_score'] = df['assigned_flooring_score'].replace(0, None)"
   ]
  },
  {
   "cell_type": "code",
   "execution_count": 310,
   "id": "81d82743-f709-405a-91d1-54bb5cddf978",
   "metadata": {},
   "outputs": [],
   "source": [
    "df = df.drop(['flooring_split','flooring','amenities'],axis=1)"
   ]
  },
  {
   "cell_type": "markdown",
   "id": "f56ad3cb-756f-4379-855f-0d34f1ba0ddf",
   "metadata": {},
   "source": [
    "# location_from_wholeaddress"
   ]
  },
  {
   "cell_type": "code",
   "execution_count": 311,
   "id": "89ec0478-f73d-414b-b10a-68379a1a5d17",
   "metadata": {},
   "outputs": [],
   "source": [
    "# Convert string representation of dictionaries to actual dictionaries\n",
    "df[\"wholeaddress\"] = df[\"wholeaddress\"].apply(ast.literal_eval)\n",
    "\n",
    "# Extract 'addresslocality' into a new column\n",
    "df[\"location_from_wholeaddress\"] = df[\"wholeaddress\"].apply(lambda x: x.get(\"addresslocality\", \"\"))"
   ]
  },
  {
   "cell_type": "code",
   "execution_count": 312,
   "id": "ee513a27-63bc-44ef-966d-c15b79259610",
   "metadata": {},
   "outputs": [
    {
     "data": {
      "text/plain": [
       "5092                       bhandup west\n",
       "1303                        balkum pada\n",
       "5888                       vasant vihar\n",
       "8578                   datta guru nagar\n",
       "7933                     kandivali east\n",
       "4325     thakur village, kandivali east\n",
       "5616                         walkeshwar\n",
       "10962                             kalwa\n",
       "4214                     ghatkopar west\n",
       "11178                    santacruz east\n",
       "Name: location_from_wholeaddress, dtype: object"
      ]
     },
     "execution_count": 312,
     "metadata": {},
     "output_type": "execute_result"
    }
   ],
   "source": [
    "df[\"location_from_wholeaddress\"].sample(10)"
   ]
  },
  {
   "cell_type": "code",
   "execution_count": 313,
   "id": "02583974-cf04-447f-bef1-b1b4a0d566cc",
   "metadata": {},
   "outputs": [],
   "source": [
    "df.to_csv('mg_cleaned_dataset.csv',index=False)"
   ]
  },
  {
   "cell_type": "code",
   "execution_count": 314,
   "id": "388abe16-794a-4667-9025-dd08e58bca83",
   "metadata": {},
   "outputs": [],
   "source": [
    "df.to_excel('cleaned_dataset.xlsx',index=False)"
   ]
  },
  {
   "cell_type": "code",
   "execution_count": null,
   "id": "78c32c07-64be-4bcc-ac15-39f90a7fd59e",
   "metadata": {},
   "outputs": [],
   "source": []
  },
  {
   "cell_type": "code",
   "execution_count": null,
   "id": "efcd93a1-88aa-4c40-a2d9-770c4a07002e",
   "metadata": {},
   "outputs": [],
   "source": []
  },
  {
   "cell_type": "code",
   "execution_count": null,
   "id": "b7898a9f-8ebd-4c06-96e1-0e26ec468401",
   "metadata": {},
   "outputs": [],
   "source": []
  },
  {
   "cell_type": "code",
   "execution_count": null,
   "id": "d94418e1-b1cc-482f-8b99-88542e87a0cb",
   "metadata": {},
   "outputs": [],
   "source": []
  },
  {
   "cell_type": "code",
   "execution_count": null,
   "id": "cbc023eb-2def-4532-a37c-45a1956b298c",
   "metadata": {},
   "outputs": [],
   "source": []
  },
  {
   "cell_type": "code",
   "execution_count": null,
   "id": "7e317280-d8e0-4a19-8124-ee5d74a2ca6b",
   "metadata": {},
   "outputs": [],
   "source": []
  },
  {
   "cell_type": "code",
   "execution_count": null,
   "id": "f265bf9e-a7d1-4138-b6a2-6c23e1148efd",
   "metadata": {},
   "outputs": [],
   "source": []
  },
  {
   "cell_type": "code",
   "execution_count": null,
   "id": "3bcce8e8-e560-44b7-a9f7-5e4f250f01ff",
   "metadata": {},
   "outputs": [],
   "source": []
  },
  {
   "cell_type": "code",
   "execution_count": null,
   "id": "1c173b5f-1b06-4c16-98a4-54a16e81edfc",
   "metadata": {},
   "outputs": [],
   "source": []
  },
  {
   "cell_type": "code",
   "execution_count": null,
   "id": "6d481909-cb5e-4436-8144-178274f358fb",
   "metadata": {},
   "outputs": [],
   "source": []
  }
 ],
 "metadata": {
  "colab": {
   "provenance": []
  },
  "kernelspec": {
   "display_name": "Python 3 (ipykernel)",
   "language": "python",
   "name": "python3"
  },
  "language_info": {
   "codemirror_mode": {
    "name": "ipython",
    "version": 3
   },
   "file_extension": ".py",
   "mimetype": "text/x-python",
   "name": "python",
   "nbconvert_exporter": "python",
   "pygments_lexer": "ipython3",
   "version": "3.12.4"
  }
 },
 "nbformat": 4,
 "nbformat_minor": 5
}
