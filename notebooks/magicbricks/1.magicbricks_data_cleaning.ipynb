{
 "cells": [
  {
   "cell_type": "code",
   "execution_count": 5301,
   "id": "96039100-78db-4b30-a077-c030b316dde9",
   "metadata": {
    "editable": true,
    "id": "7720a04f-9d20-4159-a87b-3016b0b3ef3a",
    "tags": []
   },
   "outputs": [],
   "source": [
    "#on command prompt - python.exe -m pip install --upgrade pip"
   ]
  },
  {
   "cell_type": "code",
   "execution_count": 5302,
   "id": "b75e1b64-2ba2-40cc-ad28-ff5ba908b01e",
   "metadata": {
    "id": "b75e1b64-2ba2-40cc-ad28-ff5ba908b01e",
    "scrolled": true
   },
   "outputs": [],
   "source": [
    "#pip install pandas\n",
    "#pip install numpy\n",
    "#!pip install scikit-learn"
   ]
  },
  {
   "cell_type": "code",
   "execution_count": 5303,
   "id": "6467f253-bac7-4fa4-a93a-dd4e1c4a5fc7",
   "metadata": {},
   "outputs": [],
   "source": [
    "#!pip install regex\n",
    "#!pip install openpyxl\n",
    "#!pip install missingno"
   ]
  },
  {
   "cell_type": "code",
   "execution_count": 5304,
   "id": "2daca8e2-b881-4228-befc-7a85e16fb488",
   "metadata": {},
   "outputs": [],
   "source": [
    "#pip install --upgrade statsmodels"
   ]
  },
  {
   "cell_type": "markdown",
   "id": "78f0bad9-7794-46cc-ae03-a9e240f6e0da",
   "metadata": {
    "id": "78f0bad9-7794-46cc-ae03-a9e240f6e0da"
   },
   "source": [
    "# 1. Importing Libraries"
   ]
  },
  {
   "cell_type": "code",
   "execution_count": 5305,
   "id": "e209d0c9-0a39-4284-a01e-dc8b1be6d5b9",
   "metadata": {
    "id": "e209d0c9-0a39-4284-a01e-dc8b1be6d5b9"
   },
   "outputs": [],
   "source": [
    "import os\n",
    "import numpy as np\n",
    "import pandas as pd\n",
    "import ast\n",
    "from sklearn.model_selection import train_test_split\n",
    "\n",
    "import matplotlib.pyplot as plt\n",
    "import seaborn as sns\n",
    "\n",
    "import missingno as msno\n",
    "\n",
    "import regex as re"
   ]
  },
  {
   "cell_type": "markdown",
   "id": "7869ae12-6538-4ac3-bd0b-850a22d354f9",
   "metadata": {
    "editable": true,
    "id": "7869ae12-6538-4ac3-bd0b-850a22d354f9",
    "tags": []
   },
   "source": [
    "# 2. Reading the data"
   ]
  },
  {
   "cell_type": "code",
   "execution_count": 5306,
   "id": "f571d858-f293-47ca-8af1-611e0e66f76e",
   "metadata": {
    "id": "f571d858-f293-47ca-8af1-611e0e66f76e"
   },
   "outputs": [],
   "source": [
    "PROJECT_DIR = r\"C:\\Users\\ABC\\Desktop\\bhushan\\magicbricks.com\\mg_project\\data\""
   ]
  },
  {
   "cell_type": "code",
   "execution_count": 5307,
   "id": "0cac5dd3-28b0-45e5-905c-225d47643df8",
   "metadata": {
    "id": "0cac5dd3-28b0-45e5-905c-225d47643df8"
   },
   "outputs": [],
   "source": [
    "def get_data(name,col_range):\n",
    "    file_name = f\"{name}.csv\"\n",
    "    file_path = os.path.join(PROJECT_DIR, file_name)\n",
    "    return pd.read_csv(file_path,usecols=col_range,low_memory=False)"
   ]
  },
  {
   "cell_type": "code",
   "execution_count": 5308,
   "id": "375ddf63-e565-4ca1-9bd7-5ffe8f7e2eb1",
   "metadata": {
    "id": "375ddf63-e565-4ca1-9bd7-5ffe8f7e2eb1",
    "outputId": "047cecda-1f37-43c3-fd0b-21e03f2be456"
   },
   "outputs": [],
   "source": [
    "mg_first100 = get_data(\"f_original magicbricks cleaned 12022 data\",col_range = range(100))\n",
    "mg_nxt100 = get_data(\"f_original magicbricks cleaned 12022 data\",col_range=range(100,200))\n",
    "mg_last90 = get_data(\"f_original magicbricks cleaned 12022 data\",col_range=range(200,290))"
   ]
  },
  {
   "cell_type": "code",
   "execution_count": 5309,
   "id": "a973ea5a-6c27-4934-8d48-0bce34f95d4b",
   "metadata": {
    "id": "a973ea5a-6c27-4934-8d48-0bce34f95d4b",
    "outputId": "1488bcd0-8656-4c2e-a155-9f3e4f1593c4"
   },
   "outputs": [
    {
     "name": "stdout",
     "output_type": "stream",
     "text": [
      "<class 'pandas.core.frame.DataFrame'>\n",
      "RangeIndex: 12022 entries, 0 to 12021\n",
      "Data columns (total 100 columns):\n",
      " #   Column                   Non-Null Count  Dtype  \n",
      "---  ------                   --------------  -----  \n",
      " 0   ID                       12022 non-null  object \n",
      " 1   @type                    12022 non-null  object \n",
      " 2   @id                      12022 non-null  object \n",
      " 3   url                      12022 non-null  object \n",
      " 4   numberOfRooms            11913 non-null  float64\n",
      " 5   image                    11092 non-null  object \n",
      " 6   name                     12022 non-null  object \n",
      " 7   geo                      11546 non-null  object \n",
      " 8   potentialAction          12022 non-null  object \n",
      " 9   address                  12022 non-null  object \n",
      " 10  PRICE                    12021 non-null  object \n",
      " 11  BHK_Type                 11912 non-null  object \n",
      " 12  Area                     9479 non-null   object \n",
      " 13  property_loc             11970 non-null  object \n",
      " 14  locality_URL             11964 non-null  object \n",
      " 15  EMI                      12019 non-null  object \n",
      " 16  MD_Price Breakup         12021 non-null  object \n",
      " 17  MD_Booking Amount        7368 non-null   object \n",
      " 18  MD_Address               12021 non-null  object \n",
      " 19  MD_Furnishing            11976 non-null  object \n",
      " 20  MD_Flooring              7490 non-null   object \n",
      " 21  MD_Loan Offered          6628 non-null   object \n",
      " 22  MD_Water Availability    7003 non-null   object \n",
      " 23  AP_Price                 8419 non-null   object \n",
      " 24  AP_Price per sqft        6037 non-null   object \n",
      " 25  AP_Configuration         7254 non-null   object \n",
      " 26  AP_Tower & Unit          6543 non-null   object \n",
      " 27  AP_Pjt_URL               8419 non-null   object \n",
      " 28  AP_Pjt_Name              8419 non-null   object \n",
      " 29  AP_Buildr                7640 non-null   object \n",
      " 30  AP_Ratings               3094 non-null   float64\n",
      " 31  AP_Reviews_by            3094 non-null   object \n",
      " 32  image_urls               7666 non-null   object \n",
      " 33  headings_with_ratings    3385 non-null   object \n",
      " 34  Aboutpjt_Project Size    6160 non-null   object \n",
      " 35  Aboutpjt_Launch Date     6622 non-null   object \n",
      " 36  Aboutpjt_Total Units     6690 non-null   float64\n",
      " 37  Aboutpjt_Total Towers    6882 non-null   float64\n",
      " 38  Aboutpjt_BHK             6380 non-null   object \n",
      " 39  AM_12204                 4124 non-null   object \n",
      " 40  AM_12226                 1910 non-null   object \n",
      " 41  AM_12225                 998 non-null    object \n",
      " 42  AM_12229                 3123 non-null   object \n",
      " 43  AM_12230                 1608 non-null   object \n",
      " 44  AM_1404107               560 non-null    object \n",
      " 45  AM_12201                 4359 non-null   object \n",
      " 46  AM_12205                 4969 non-null   object \n",
      " 47  AM_12202                 5121 non-null   object \n",
      " 48  AM_12209                 4997 non-null   object \n",
      " 49  AM_12207                 3392 non-null   object \n",
      " 50  AM_12208                 4164 non-null   object \n",
      " 51  AM_12214                 1726 non-null   object \n",
      " 52  AM_12216                 2966 non-null   object \n",
      " 53  AM_12218                 2527 non-null   object \n",
      " 54  AM_1404110               1066 non-null   object \n",
      " 55  AM_12224                 2362 non-null   object \n",
      " 56  AM_12206                 5486 non-null   object \n",
      " 57  AM_1404117               3551 non-null   object \n",
      " 58  AM_1404105               1412 non-null   object \n",
      " 59  AM_12220                 1212 non-null   object \n",
      " 60  AM_12228                 1691 non-null   object \n",
      " 61  AM_12203                 3819 non-null   object \n",
      " 62  AM_12211                 2654 non-null   object \n",
      " 63  AM_1404118               2024 non-null   object \n",
      " 64  AM_1404106               406 non-null    object \n",
      " 65  AM_1404125               2395 non-null   object \n",
      " 66  AM_1404124               2927 non-null   object \n",
      " 67  AM_12538                 683 non-null    object \n",
      " 68  AM_12540                 825 non-null    object \n",
      " 69  AM_12219                 2761 non-null   object \n",
      " 70  AM_12227                 1260 non-null   object \n",
      " 71  AM_12523                 1056 non-null   object \n",
      " 72  AM_12533                 935 non-null    object \n",
      " 73  AM_12534                 721 non-null    object \n",
      " 74  AM_12535                 770 non-null    object \n",
      " 75  AM_12536                 912 non-null    object \n",
      " 76  AM_12537                 1055 non-null   object \n",
      " 77  AM_12539                 1466 non-null   object \n",
      " 78  AM_12543                 1939 non-null   object \n",
      " 79  AM_12545                 438 non-null    object \n",
      " 80  AM_12581                 2479 non-null   object \n",
      " 81  AM_12583                 920 non-null    object \n",
      " 82  AM_1404155               882 non-null    object \n",
      " 83  AM_1404114               1874 non-null   object \n",
      " 84  AM_1404143               3766 non-null   object \n",
      " 85  2 BHK Flat               2110 non-null   object \n",
      " 86  Educational Institute_1  7656 non-null   object \n",
      " 87  Educational Institute_2  7228 non-null   object \n",
      " 88  Educational Institute_3  5784 non-null   object \n",
      " 89  Transportation Hub_1     5834 non-null   object \n",
      " 90  Transportation Hub_2     4358 non-null   object \n",
      " 91  Shopping Centre_1        8035 non-null   object \n",
      " 92  Shopping Centre_2        7544 non-null   object \n",
      " 93  Shopping Centre_3        6404 non-null   object \n",
      " 94  Shopping Centre_4        5431 non-null   object \n",
      " 95  locality_rank            8085 non-null   float64\n",
      " 96  locality_URL_rating      11545 non-null  float64\n",
      " 97  locality_URL_review      11545 non-null  float64\n",
      " 98  liv_Environment          10721 non-null  object \n",
      " 99  liv_Commuting            10715 non-null  object \n",
      "dtypes: float64(7), object(93)\n",
      "memory usage: 9.2+ MB\n",
      "None\n"
     ]
    }
   ],
   "source": [
    "print(mg_first100.info())"
   ]
  },
  {
   "cell_type": "code",
   "execution_count": 5310,
   "id": "18b50607-1d07-4b84-b4b5-740d4b71777a",
   "metadata": {
    "id": "18b50607-1d07-4b84-b4b5-740d4b71777a",
    "outputId": "871662f8-5cef-466c-a199-7586129b39a8"
   },
   "outputs": [
    {
     "name": "stdout",
     "output_type": "stream",
     "text": [
      "<class 'pandas.core.frame.DataFrame'>\n",
      "RangeIndex: 12022 entries, 0 to 12021\n",
      "Data columns (total 100 columns):\n",
      " #   Column                              Non-Null Count  Dtype  \n",
      "---  ------                              --------------  -----  \n",
      " 0   liv_Places of Interest              10714 non-null  object \n",
      " 1   BB_beds                             3503 non-null   float64\n",
      " 2   BB_baths                            5019 non-null   float64\n",
      " 3   BB_covered-parking                  1994 non-null   float64\n",
      " 4   BB_unfurnished                      0 non-null      float64\n",
      " 5   many_Carpet Area                    5404 non-null   object \n",
      " 6   many_Developer                      3832 non-null   object \n",
      " 7   many_Project                        4287 non-null   object \n",
      " 8   many_Transaction type               6742 non-null   object \n",
      " 9   many_Status                         4630 non-null   object \n",
      " 10  many_Lifts                          2624 non-null   float64\n",
      " 11  many_Furnished Status               6502 non-null   object \n",
      " 12  many_Car parking                    1859 non-null   object \n",
      " 13  MD_RERA ID                          2539 non-null   object \n",
      " 14  MD_Status of Electricity            6973 non-null   object \n",
      " 15  MD_Lift                             6463 non-null   float64\n",
      " 16  leftBB_beds                         5218 non-null   float64\n",
      " 17  leftBB_baths                        5219 non-null   float64\n",
      " 18  leftBB_covered-parking              3044 non-null   float64\n",
      " 19  leftBB_unfurnished                  0 non-null      float64\n",
      " 20  leftmany_Super Built-up Area        506 non-null    object \n",
      " 21  leftmany_Developer                  3810 non-null   object \n",
      " 22  leftmany_Project                    4134 non-null   object \n",
      " 23  leftmany_Transaction type           5276 non-null   object \n",
      " 24  leftmany_Status                     3328 non-null   object \n",
      " 25  leftmany_Lifts                      3223 non-null   float64\n",
      " 26  leftmany_Furnished Status           4744 non-null   object \n",
      " 27  leftmany_Car parking                1700 non-null   object \n",
      " 28  Aboutpjt_Total Floors               3020 non-null   float64\n",
      " 29  AM_1404109                          454 non-null    object \n",
      " 30  AM_1404131                          1727 non-null   object \n",
      " 31  AM_12212                            1366 non-null   object \n",
      " 32  AM_1404112                          184 non-null    object \n",
      " 33  AM_12217                            3199 non-null   object \n",
      " 34  AM_1404116                          332 non-null    object \n",
      " 35  AM_1404120                          953 non-null    object \n",
      " 36  AM_1404111                          282 non-null    object \n",
      " 37  AM_12222                            1441 non-null   object \n",
      " 38  AM_1404115                          1737 non-null   object \n",
      " 39  AM_1404123                          990 non-null    object \n",
      " 40  AM_1404127                          325 non-null    object \n",
      " 41  AM_1404128                          303 non-null    object \n",
      " 42  AM_1404129                          463 non-null    object \n",
      " 43  AM_12223                            1140 non-null   object \n",
      " 44  AM_12215                            1346 non-null   object \n",
      " 45  AM_1404108                          176 non-null    object \n",
      " 46  AM_12213                            2225 non-null   object \n",
      " 47  AM_12221                            1893 non-null   object \n",
      " 48  AM_1404130                          640 non-null    object \n",
      " 49  AM_1404126                          1025 non-null   object \n",
      " 50  AM_1404113                          324 non-null    object \n",
      " 51  AM_1404122                          880 non-null    object \n",
      " 52  Educational Institute_4             3860 non-null   object \n",
      " 53  Educational Institute_5             2915 non-null   object \n",
      " 54  Transportation Hub_3                2242 non-null   object \n",
      " 55  Transportation Hub_4                1365 non-null   object \n",
      " 56  Transportation Hub_5                811 non-null    object \n",
      " 57  Shopping Centre_5                   4427 non-null   object \n",
      " 58  Commercial Hub_1                    6772 non-null   object \n",
      " 59  Commercial Hub_2                    6118 non-null   object \n",
      " 60  Commercial Hub_3                    4814 non-null   object \n",
      " 61  Commercial Hub_4                    3462 non-null   object \n",
      " 62  AM_12586                            149 non-null    object \n",
      " 63  AM_1404156                          69 non-null     object \n",
      " 64  3 BHK Flat                          1785 non-null   object \n",
      " 65  MD_Floors allowed for construction  271 non-null    float64\n",
      " 66  AM_12525                            666 non-null    object \n",
      " 67  AM_12547                            1594 non-null   object \n",
      " 68  AM_12577                            306 non-null    object \n",
      " 69  AM_1404150                          739 non-null    object \n",
      " 70  AM_1404148                          139 non-null    object \n",
      " 71  AM_1404146                          584 non-null    object \n",
      " 72  1 BHK Flat                          982 non-null    object \n",
      " 73  BB_bed                              3136 non-null   float64\n",
      " 74  AM_12529                            515 non-null    object \n",
      " 75  Hospital_1                          3310 non-null   object \n",
      " 76  AM_12521                            482 non-null    object \n",
      " 77  AM_12522                            467 non-null    object \n",
      " 78  AM_12526                            358 non-null    object \n",
      " 79  AM_12530                            1266 non-null   object \n",
      " 80  AM_12532                            434 non-null    object \n",
      " 81  BB_bath                             1695 non-null   float64\n",
      " 82  many_Lift                           487 non-null    float64\n",
      " 83  Studio Apartment                    11 non-null     object \n",
      " 84  Hospital_2                          1834 non-null   object \n",
      " 85  Hospital_3                          1162 non-null   object \n",
      " 86  Commercial Hub_5                    1877 non-null   object \n",
      " 87  AM_12528                            546 non-null    object \n",
      " 88  AM_12546                            240 non-null    object \n",
      " 89  Tourist Spot_1                      1556 non-null   object \n",
      " 90  BB_semi-furnished                   0 non-null      float64\n",
      " 91  AM_1404161                          824 non-null    object \n",
      " 92  many_Floor                          5426 non-null   object \n",
      " 93  AM_12234                            233 non-null    object \n",
      " 94  AM_12585                            108 non-null    object \n",
      " 95  AM_1404149                          595 non-null    object \n",
      " 96  AM_1404152                          755 non-null    object \n",
      " 97  AM_1404158                          152 non-null    object \n",
      " 98  AM_1404157                          312 non-null    object \n",
      " 99  AM_1404154                          54 non-null     object \n",
      "dtypes: float64(17), object(83)\n",
      "memory usage: 9.2+ MB\n",
      "None\n"
     ]
    }
   ],
   "source": [
    "print(mg_nxt100.info())"
   ]
  },
  {
   "cell_type": "code",
   "execution_count": 5311,
   "id": "59c7d607-2c54-4b82-b9e1-21df6d8e1929",
   "metadata": {
    "id": "59c7d607-2c54-4b82-b9e1-21df6d8e1929",
    "outputId": "71a4e5bc-2124-464f-db19-3a3b59b5baf5"
   },
   "outputs": [
    {
     "name": "stdout",
     "output_type": "stream",
     "text": [
      "<class 'pandas.core.frame.DataFrame'>\n",
      "RangeIndex: 12022 entries, 0 to 12021\n",
      "Data columns (total 90 columns):\n",
      " #   Column                        Non-Null Count  Dtype  \n",
      "---  ------                        --------------  -----  \n",
      " 0   4 BHK Flat                    856 non-null    object \n",
      " 1   AP_Tower                      339 non-null    object \n",
      " 2   leftmany_Carpet Area          4749 non-null   object \n",
      " 3   Tourist Spot_2                1051 non-null   object \n",
      " 4   AM_12511                      155 non-null    object \n",
      " 5   MD_Age of Construction        10327 non-null  object \n",
      " 6   BB_balcony                    1443 non-null   float64\n",
      " 7   many_Age of Construction      2615 non-null   object \n",
      " 8   leftBB_balcony                1644 non-null   float64\n",
      " 9   leftmany_Age of Construction  1326 non-null   object \n",
      " 10  AM_12579                      100 non-null    object \n",
      " 11  BB_balconies                  1653 non-null   float64\n",
      " 12  leftBB_balconies              1364 non-null   float64\n",
      " 13  AM_12527                      355 non-null    object \n",
      " 14  Hospital_4                    376 non-null    object \n",
      " 15  Hospital_5                    183 non-null    object \n",
      " 16  AM_12524                      355 non-null    object \n",
      " 17  AM_12541                      232 non-null    object \n",
      " 18  5 BHK Flat                    140 non-null    object \n",
      " 19  AM_12238                      208 non-null    object \n",
      " 20  AM_12562                      241 non-null    object \n",
      " 21  AM_12578                      19 non-null     object \n",
      " 22  MD_Landmarks                  7501 non-null   object \n",
      " 23  MD_Overlooking                7981 non-null   object \n",
      " 24  AM_12548                      169 non-null    object \n",
      " 25  AM_12549                      125 non-null    object \n",
      " 26  AM_12239                      284 non-null    object \n",
      " 27  AM_1404151                    192 non-null    object \n",
      " 28  AM_12236                      171 non-null    object \n",
      " 29  AM_12237                      169 non-null    object \n",
      " 30  AM_12556                      202 non-null    object \n",
      " 31  AM_12560                      198 non-null    object \n",
      " 32  AM_12555                      121 non-null    object \n",
      " 33  AM_12561                      82 non-null     object \n",
      " 34  AP_Unit                       147 non-null    object \n",
      " 35  Tourist Spot_3                337 non-null    object \n",
      " 36  Tourist Spot_4                337 non-null    object \n",
      " 37  Multistorey Apartment         8 non-null      object \n",
      " 38  many_Super Built-up Area      1332 non-null   object \n",
      " 39  AM_1404147                    76 non-null     object \n",
      " 40  leftBB_bed                    55 non-null     float64\n",
      " 41  leftBB_bath                   45 non-null     float64\n",
      " 42  AM_12235                      58 non-null     object \n",
      " 43  AM_12557                      57 non-null     object \n",
      " 44  leftmany_Floor                4288 non-null   object \n",
      " 45  AM_12233                      115 non-null    object \n",
      " 46  3 BHK Villa                   4 non-null      object \n",
      " 47  4 BHK Villa                   4 non-null      object \n",
      " 48  Residential Plot              4 non-null      object \n",
      " 49  2 BHK Builder                 5 non-null      object \n",
      " 50  3 BHK Builder                 3 non-null      object \n",
      " 51  leftBB_semi-furnished         0 non-null      float64\n",
      " 52  4 BHK Penthouse               2 non-null      object \n",
      " 53  5 BHK Penthouse               2 non-null      object \n",
      " 54  AM_12531                      164 non-null    object \n",
      " 55  AM_12518                      26 non-null     object \n",
      " 56  MD_Type of Ownership          8345 non-null   object \n",
      " 57  MD_Additional Rooms           6621 non-null   object \n",
      " 58  MD_Authority Approval         4538 non-null   object \n",
      " 59  leftmany_Facing               3994 non-null   object \n",
      " 60  AM_12232                      69 non-null     object \n",
      " 61  leftmany_Additional Rooms     1861 non-null   object \n",
      " 62  AM_12544                      94 non-null     object \n",
      " 63  many_Facing                   4221 non-null   object \n",
      " 64  6 BHK Flat                    11 non-null     object \n",
      " 65  many_Type of Ownership        2260 non-null   object \n",
      " 66  many_Additional Rooms         1002 non-null   object \n",
      " 67  leftmany_Type of Ownership    1286 non-null   object \n",
      " 68  AM_12551                      15 non-null     object \n",
      " 69  BB_furnished                  0 non-null      float64\n",
      " 70  leftmany_Lift                 145 non-null    float64\n",
      " 71  AM_12554                      7 non-null      object \n",
      " 72  AM_12542                      4 non-null      object \n",
      " 73  AM_12520                      61 non-null     object \n",
      " 74  leftBB_furnished              0 non-null      float64\n",
      " 75  AM_12558                      50 non-null     object \n",
      " 76  Rent                          4743 non-null   object \n",
      " 77  AM_12584                      51 non-null     object \n",
      " 78  AM_1404160                    5 non-null      object \n",
      " 79  AM_1404159                    18 non-null     object \n",
      " 80  AM_12516                      5 non-null      object \n",
      " 81  AM_12580                      1 non-null      object \n",
      " 82  Commercial Office Space       1 non-null      object \n",
      " 83  5 BHK Villa                   0 non-null      float64\n",
      " 84  AM_12513                      3 non-null      object \n",
      " 85  AM_12550                      3 non-null      object \n",
      " 86  AM_12552                      3 non-null      object \n",
      " 87  AM_12553                      3 non-null      object \n",
      " 88  3 BHK Penthouse               3 non-null      object \n",
      " 89  many_Plot Area                0 non-null      float64\n",
      "dtypes: float64(12), object(78)\n",
      "memory usage: 8.3+ MB\n",
      "None\n"
     ]
    }
   ],
   "source": [
    "print(mg_last90.info())"
   ]
  },
  {
   "cell_type": "code",
   "execution_count": 5312,
   "id": "87b48bf5-270c-4b1a-a670-97e135ff786f",
   "metadata": {
    "id": "87b48bf5-270c-4b1a-a670-97e135ff786f",
    "outputId": "1120ee24-fa9e-4f5c-dbc6-8ea0dc251a9b"
   },
   "outputs": [],
   "source": [
    "mg = get_data(\"f_original magicbricks cleaned 12022 data\",col_range=range(290))"
   ]
  },
  {
   "cell_type": "code",
   "execution_count": 5313,
   "id": "cb9474ae-0c04-44ec-a2c9-ebe794dcb1fb",
   "metadata": {
    "id": "cb9474ae-0c04-44ec-a2c9-ebe794dcb1fb"
   },
   "outputs": [],
   "source": [
    "#create a copy of original dataframe\n",
    "df=mg.copy()"
   ]
  },
  {
   "cell_type": "code",
   "execution_count": 5314,
   "id": "e8875322-f770-4162-85c9-ccfc40811b49",
   "metadata": {
    "id": "e8875322-f770-4162-85c9-ccfc40811b49",
    "outputId": "63acbac9-ea64-4d0b-987e-d18e98aeda00"
   },
   "outputs": [
    {
     "data": {
      "text/plain": [
       "(12022, 290)"
      ]
     },
     "execution_count": 5314,
     "metadata": {},
     "output_type": "execute_result"
    }
   ],
   "source": [
    "df.shape"
   ]
  },
  {
   "cell_type": "code",
   "execution_count": 5315,
   "id": "9c5ed31c-0d44-4851-9608-819a96977a26",
   "metadata": {},
   "outputs": [
    {
     "name": "stderr",
     "output_type": "stream",
     "text": [
      "C:\\Users\\ABC\\AppData\\Local\\Temp\\ipykernel_7772\\2870125810.py:3: FutureWarning: DataFrame.applymap has been deprecated. Use DataFrame.map instead.\n",
      "  df = df.applymap(lambda x: x.lower() if isinstance(x, str) else x)  # Convert string values to lowercase\n"
     ]
    }
   ],
   "source": [
    "#make all values and column name in lowercase\n",
    "df.columns = df.columns.str.lower()  # Convert column names to lowercase\n",
    "df = df.applymap(lambda x: x.lower() if isinstance(x, str) else x)  # Convert string values to lowercase"
   ]
  },
  {
   "cell_type": "code",
   "execution_count": 5316,
   "id": "54eab07a-7c33-4fac-b417-c03d849a935a",
   "metadata": {
    "id": "54eab07a-7c33-4fac-b417-c03d849a935a",
    "outputId": "f0986f56-e558-4383-e48f-5ccd40dd8610"
   },
   "outputs": [
    {
     "name": "stdout",
     "output_type": "stream",
     "text": [
      "Number of duplicate rows: 0\n"
     ]
    }
   ],
   "source": [
    "#check duplicate rows\n",
    "print(\"Number of duplicate rows:\", np.sum(df.duplicated()))"
   ]
  },
  {
   "cell_type": "code",
   "execution_count": 5317,
   "id": "88fc9826-b270-433f-9ce0-783d41a8da7a",
   "metadata": {
    "id": "88fc9826-b270-433f-9ce0-783d41a8da7a"
   },
   "outputs": [],
   "source": [
    "#delete column which have all nan values\n",
    "df=df.dropna(how='all',axis=1)"
   ]
  },
  {
   "cell_type": "code",
   "execution_count": 5318,
   "id": "2113f040-ac51-4c90-accb-57266ab1d79a",
   "metadata": {
    "id": "2113f040-ac51-4c90-accb-57266ab1d79a",
    "outputId": "2323033e-c064-4ab8-a97f-a652c97b5d05"
   },
   "outputs": [
    {
     "data": {
      "text/plain": [
       "(12022, 282)"
      ]
     },
     "execution_count": 5318,
     "metadata": {},
     "output_type": "execute_result"
    }
   ],
   "source": [
    "df.shape"
   ]
  },
  {
   "cell_type": "code",
   "execution_count": 5319,
   "id": "8b9049e9-19f6-49ef-8d0d-a3768eca22fe",
   "metadata": {},
   "outputs": [
    {
     "data": {
      "text/plain": [
       "id                                        0\n",
       "@type                                     0\n",
       "@id                                       0\n",
       "url                                       0\n",
       "numberofrooms                           109\n",
       "image                                   930\n",
       "name                                      0\n",
       "geo                                     476\n",
       "potentialaction                           0\n",
       "address                                   0\n",
       "price                                     1\n",
       "bhk_type                                110\n",
       "area                                   2543\n",
       "property_loc                             52\n",
       "locality_url                             58\n",
       "emi                                       3\n",
       "md_price breakup                          1\n",
       "md_booking amount                      4654\n",
       "md_address                                1\n",
       "md_furnishing                            46\n",
       "md_flooring                            4532\n",
       "md_loan offered                        5394\n",
       "md_water availability                  5019\n",
       "ap_price                               3603\n",
       "ap_price per sqft                      5985\n",
       "ap_configuration                       4768\n",
       "ap_tower & unit                        5479\n",
       "ap_pjt_url                             3603\n",
       "ap_pjt_name                            3603\n",
       "ap_buildr                              4382\n",
       "ap_ratings                             8928\n",
       "ap_reviews_by                          8928\n",
       "image_urls                             4356\n",
       "headings_with_ratings                  8637\n",
       "aboutpjt_project size                  5862\n",
       "aboutpjt_launch date                   5400\n",
       "aboutpjt_total units                   5332\n",
       "aboutpjt_total towers                  5140\n",
       "aboutpjt_bhk                           5642\n",
       "am_12204                               7898\n",
       "am_12226                              10112\n",
       "am_12225                              11024\n",
       "am_12229                               8899\n",
       "am_12230                              10414\n",
       "am_1404107                            11462\n",
       "am_12201                               7663\n",
       "am_12205                               7053\n",
       "am_12202                               6901\n",
       "am_12209                               7025\n",
       "am_12207                               8630\n",
       "am_12208                               7858\n",
       "am_12214                              10296\n",
       "am_12216                               9056\n",
       "am_12218                               9495\n",
       "am_1404110                            10956\n",
       "am_12224                               9660\n",
       "am_12206                               6536\n",
       "am_1404117                             8471\n",
       "am_1404105                            10610\n",
       "am_12220                              10810\n",
       "am_12228                              10331\n",
       "am_12203                               8203\n",
       "am_12211                               9368\n",
       "am_1404118                             9998\n",
       "am_1404106                            11616\n",
       "am_1404125                             9627\n",
       "am_1404124                             9095\n",
       "am_12538                              11339\n",
       "am_12540                              11197\n",
       "am_12219                               9261\n",
       "am_12227                              10762\n",
       "am_12523                              10966\n",
       "am_12533                              11087\n",
       "am_12534                              11301\n",
       "am_12535                              11252\n",
       "am_12536                              11110\n",
       "am_12537                              10967\n",
       "am_12539                              10556\n",
       "am_12543                              10083\n",
       "am_12545                              11584\n",
       "am_12581                               9543\n",
       "am_12583                              11102\n",
       "am_1404155                            11140\n",
       "am_1404114                            10148\n",
       "am_1404143                             8256\n",
       "2 bhk flat                             9912\n",
       "educational institute_1                4366\n",
       "educational institute_2                4794\n",
       "educational institute_3                6238\n",
       "transportation hub_1                   6188\n",
       "transportation hub_2                   7664\n",
       "shopping centre_1                      3987\n",
       "shopping centre_2                      4478\n",
       "shopping centre_3                      5618\n",
       "shopping centre_4                      6591\n",
       "locality_rank                          3937\n",
       "locality_url_rating                     477\n",
       "locality_url_review                     477\n",
       "liv_environment                        1301\n",
       "liv_commuting                          1307\n",
       "liv_places of interest                 1308\n",
       "bb_beds                                8519\n",
       "bb_baths                               7003\n",
       "bb_covered-parking                    10028\n",
       "many_carpet area                       6618\n",
       "many_developer                         8190\n",
       "many_project                           7735\n",
       "many_transaction type                  5280\n",
       "many_status                            7392\n",
       "many_lifts                             9398\n",
       "many_furnished status                  5520\n",
       "many_car parking                      10163\n",
       "md_rera id                             9483\n",
       "md_status of electricity               5049\n",
       "md_lift                                5559\n",
       "leftbb_beds                            6804\n",
       "leftbb_baths                           6803\n",
       "leftbb_covered-parking                 8978\n",
       "leftmany_super built-up area          11516\n",
       "leftmany_developer                     8212\n",
       "leftmany_project                       7888\n",
       "leftmany_transaction type              6746\n",
       "leftmany_status                        8694\n",
       "leftmany_lifts                         8799\n",
       "leftmany_furnished status              7278\n",
       "leftmany_car parking                  10322\n",
       "aboutpjt_total floors                  9002\n",
       "am_1404109                            11568\n",
       "am_1404131                            10295\n",
       "am_12212                              10656\n",
       "am_1404112                            11838\n",
       "am_12217                               8823\n",
       "am_1404116                            11690\n",
       "am_1404120                            11069\n",
       "am_1404111                            11740\n",
       "am_12222                              10581\n",
       "am_1404115                            10285\n",
       "am_1404123                            11032\n",
       "am_1404127                            11697\n",
       "am_1404128                            11719\n",
       "am_1404129                            11559\n",
       "am_12223                              10882\n",
       "am_12215                              10676\n",
       "am_1404108                            11846\n",
       "am_12213                               9797\n",
       "am_12221                              10129\n",
       "am_1404130                            11382\n",
       "am_1404126                            10997\n",
       "am_1404113                            11698\n",
       "am_1404122                            11142\n",
       "educational institute_4                8162\n",
       "educational institute_5                9107\n",
       "transportation hub_3                   9780\n",
       "transportation hub_4                  10657\n",
       "transportation hub_5                  11211\n",
       "shopping centre_5                      7595\n",
       "commercial hub_1                       5250\n",
       "commercial hub_2                       5904\n",
       "commercial hub_3                       7208\n",
       "commercial hub_4                       8560\n",
       "am_12586                              11873\n",
       "am_1404156                            11953\n",
       "3 bhk flat                            10237\n",
       "md_floors allowed for construction    11751\n",
       "am_12525                              11356\n",
       "am_12547                              10428\n",
       "am_12577                              11716\n",
       "am_1404150                            11283\n",
       "am_1404148                            11883\n",
       "am_1404146                            11438\n",
       "1 bhk flat                            11040\n",
       "bb_bed                                 8886\n",
       "am_12529                              11507\n",
       "hospital_1                             8712\n",
       "am_12521                              11540\n",
       "am_12522                              11555\n",
       "am_12526                              11664\n",
       "am_12530                              10756\n",
       "am_12532                              11588\n",
       "bb_bath                               10327\n",
       "many_lift                             11535\n",
       "studio apartment                      12011\n",
       "hospital_2                            10188\n",
       "hospital_3                            10860\n",
       "commercial hub_5                      10145\n",
       "am_12528                              11476\n",
       "am_12546                              11782\n",
       "tourist spot_1                        10466\n",
       "am_1404161                            11198\n",
       "many_floor                             6596\n",
       "am_12234                              11789\n",
       "am_12585                              11914\n",
       "am_1404149                            11427\n",
       "am_1404152                            11267\n",
       "am_1404158                            11870\n",
       "am_1404157                            11710\n",
       "am_1404154                            11968\n",
       "4 bhk flat                            11166\n",
       "ap_tower                              11683\n",
       "leftmany_carpet area                   7273\n",
       "tourist spot_2                        10971\n",
       "am_12511                              11867\n",
       "md_age of construction                 1695\n",
       "bb_balcony                            10579\n",
       "many_age of construction               9407\n",
       "leftbb_balcony                        10378\n",
       "leftmany_age of construction          10696\n",
       "am_12579                              11922\n",
       "bb_balconies                          10369\n",
       "leftbb_balconies                      10658\n",
       "am_12527                              11667\n",
       "hospital_4                            11646\n",
       "hospital_5                            11839\n",
       "am_12524                              11667\n",
       "am_12541                              11790\n",
       "5 bhk flat                            11882\n",
       "am_12238                              11814\n",
       "am_12562                              11781\n",
       "am_12578                              12003\n",
       "md_landmarks                           4521\n",
       "md_overlooking                         4041\n",
       "am_12548                              11853\n",
       "am_12549                              11897\n",
       "am_12239                              11738\n",
       "am_1404151                            11830\n",
       "am_12236                              11851\n",
       "am_12237                              11853\n",
       "am_12556                              11820\n",
       "am_12560                              11824\n",
       "am_12555                              11901\n",
       "am_12561                              11940\n",
       "ap_unit                               11875\n",
       "tourist spot_3                        11685\n",
       "tourist spot_4                        11685\n",
       "multistorey apartment                 12014\n",
       "many_super built-up area              10690\n",
       "am_1404147                            11946\n",
       "leftbb_bed                            11967\n",
       "leftbb_bath                           11977\n",
       "am_12235                              11964\n",
       "am_12557                              11965\n",
       "leftmany_floor                         7734\n",
       "am_12233                              11907\n",
       "3 bhk villa                           12018\n",
       "4 bhk villa                           12018\n",
       "residential plot                      12018\n",
       "2 bhk builder                         12017\n",
       "3 bhk builder                         12019\n",
       "4 bhk penthouse                       12020\n",
       "5 bhk penthouse                       12020\n",
       "am_12531                              11858\n",
       "am_12518                              11996\n",
       "md_type of ownership                   3677\n",
       "md_additional rooms                    5401\n",
       "md_authority approval                  7484\n",
       "leftmany_facing                        8028\n",
       "am_12232                              11953\n",
       "leftmany_additional rooms             10161\n",
       "am_12544                              11928\n",
       "many_facing                            7801\n",
       "6 bhk flat                            12011\n",
       "many_type of ownership                 9762\n",
       "many_additional rooms                 11020\n",
       "leftmany_type of ownership            10736\n",
       "am_12551                              12007\n",
       "leftmany_lift                         11877\n",
       "am_12554                              12015\n",
       "am_12542                              12018\n",
       "am_12520                              11961\n",
       "am_12558                              11972\n",
       "rent                                   7279\n",
       "am_12584                              11971\n",
       "am_1404160                            12017\n",
       "am_1404159                            12004\n",
       "am_12516                              12017\n",
       "am_12580                              12021\n",
       "commercial office space               12021\n",
       "am_12513                              12019\n",
       "am_12550                              12019\n",
       "am_12552                              12019\n",
       "am_12553                              12019\n",
       "3 bhk penthouse                       12019\n",
       "dtype: int64"
      ]
     },
     "execution_count": 5319,
     "metadata": {},
     "output_type": "execute_result"
    }
   ],
   "source": [
    "df.isnull().sum()"
   ]
  },
  {
   "cell_type": "markdown",
   "id": "4bfb63d1-98c8-4ed4-9d5d-1c2994335939",
   "metadata": {
    "id": "4bfb63d1-98c8-4ed4-9d5d-1c2994335939"
   },
   "source": [
    "### Observation1"
   ]
  },
  {
   "cell_type": "markdown",
   "id": "2ec65436-e99a-4752-a5cb-4bc1aad272cb",
   "metadata": {},
   "source": [
    "- Dataset contains 12022 rows and 282 features.  \n",
    "- 282 columns, so it needs to be shortened.  \n",
    "- Data types of some features are not appropriate.  \n",
    "- Features have missing values."
   ]
  },
  {
   "cell_type": "markdown",
   "id": "993d918e-e447-4e5f-9a9f-f3bbb0b2a2dd",
   "metadata": {
    "id": "993d918e-e447-4e5f-9a9f-f3bbb0b2a2dd"
   },
   "source": [
    "-  compare and keep only one from this -> bb_baths,leftbb_baths,bb_bath,leftbb_bath\n",
    "-  comapre and keep only one from this -> 'bb_covered-parking','leftbb_covered-parking','many_car parking','leftmany_car parking'\n",
    "-  compare and keep only one from this -> 'many_developer','leftmany_developer','ap_buildr'\n",
    "-  compare and keep only one from this -> ap_pjt_name,many_project,leftmany_project\n",
    "-  compare and keep only one from this -> 'md_furnishing','bb_unfurnished','many_furnished status','leftbb_unfurnished','leftmany_furnished status','bb_semi-furnished','leftbb_semi-furnished','bb_furnished','leftbb_furnished'\n",
    "-  work on 'price' column \n",
    "-  compare and keep only one from this -> 'many_carpet area','leftmany_carpet area'\n",
    "-  compare and keep only one from this -> 'leftmany_super built-up area','many_super built-up area'\n",
    "-  compare and keep only one from this -> 'many_transaction type','leftmany_transaction type'\n",
    "-  compare and keep only one from this -> 'md_type of ownership', 'many_type of ownership' ,'leftmany_type of ownership'\n",
    "-  compare and keep only one from this -> 'many_status', 'leftmany_status'\n",
    "-  compare and keep only one from this -> 'many_lifts','md_lift','leftmany_lifts','many_lift','leftmany_lift'\n",
    "-  compare and keep only one from this -> 'aboutpjt_total floors', 'md_floors allowed for construction','many_floor', 'leftmany_floor'\n",
    "-  compare and keep only one from this -> 'md_age of construction', 'many_age of construction', 'leftmany_age of construction'\n",
    "-  compare and keep only one from this -> 'bb_balcony', 'leftbb_balcony', 'bb_balconies','leftbb_balconies'\n",
    "-  compare and keep only one from this -> 'md_additional rooms', 'leftmany_additional rooms', 'many_additional rooms'\n",
    "-  compare and keep only one from this -> 'leftmany_facing', 'many_facing'\n",
    "-  compare and make separate column for tower and unit -> 'ap_tower & unit','aboutpjt_total units','aboutpjt_total towers','ap_tower','ap_unit'\n",
    "-  compare and keep only one from this -> 'numberofrooms','bb_beds','leftbb_beds','bb_bed','leftbb_bed'"
   ]
  },
  {
   "cell_type": "markdown",
   "id": "833dbd72-fd7f-45bd-8fd8-561014668a43",
   "metadata": {},
   "source": [
    "### Observation 2"
   ]
  },
  {
   "cell_type": "markdown",
   "id": "c0144fa2-3da2-40ba-995f-14bde1d8987f",
   "metadata": {},
   "source": [
    "- geo - longitude and latitude  \n",
    "- potentialAction - seller:[organization,person,realestateagent] , make 3 columns like this\n",
    "-  some properties are from navimumbai written in 'address' column and even then also in 'property_loc' column they written mumbai so find that and change that in  'property_loc' column and then delete \"address\" column\n",
    "-  combine all 'am' columns together in list\n",
    "- combine 'educational institute' - 'educational institute_1','educational institute_2','educational institute_3','educational institute_4','educational institute_5'\n",
    "- combine 'transportation hub' - 'transportation hub_1','transportation hub_2','transportation hub_3','transportation hub_4','transportation hub_5'\n",
    "- combine 'shopping centre' - 'shopping centre_1','shopping centre_2','shopping centre_3','shopping centre_4','shopping centre_5'\n",
    "- combine 'commercial hub_1','commercial hub_2','commercial hub_3','commercial hub_4','commercial hub_5'\n",
    "- combine 'hospital_1','hospital_2','hospital_3','hospital_4','hospital_5'\n",
    "- combine 'tourist spot_1','tourist spot_2','tourist spot_3','tourist spot_4'\n",
    "- work on md_overlooking\n",
    "- make categories like flat and apartment from 'name' column\n",
    "- emi column :convert all values in lakh\n",
    "- aboutpjt_project size : convert all in sqft"
   ]
  },
  {
   "cell_type": "markdown",
   "id": "54d538d4-7de2-441d-b8d0-601d2b260f20",
   "metadata": {},
   "source": [
    "#### drop this columns :\n",
    "'@id','@type','bhk_type' ,'locality_url','md_booking amount','md_loan offered','md_water availability','ap_price','ap_price per sqft','ap_configuration','ap_pjt_url','ap_ratings','ap_reviews_by','headings_with_ratings','aboutpjt_bhk','2 bhk flat','locality_url_review','liv_environment','liv_commuting','liv_places of interest','md_status of electricity','3 bhk flat','1 bhk flat','studio apartment','4 bhk flat','5 bhk flat','md_landmarks', 'multistorey apartment', '3 bhk villa', '4 bhk villa', 'residential plot', '2 bhk builder', '3 bhk builder','4 bhk penthouse','5 bhk penthouse', 'md_authority approval','6 bhk flat','rent','commercial office space','3 bhk penthouse','md_rera id','aboutpjt_launch date'"
   ]
  },
  {
   "cell_type": "markdown",
   "id": "b47cbf74-996c-4900-b96d-96e4c3a5fad2",
   "metadata": {},
   "source": [
    "- md_flooring - give weightage to each and sum it, eg:[marble,ceramic] = [1,2] = 3"
   ]
  },
  {
   "cell_type": "markdown",
   "id": "e8f95089-7017-4c19-a638-f4d163cfe8c0",
   "metadata": {},
   "source": [
    "# 3.1 Bath"
   ]
  },
  {
   "cell_type": "markdown",
   "id": "0f6ea110-4d45-405c-9108-a89821dfb21c",
   "metadata": {
    "id": "0f6ea110-4d45-405c-9108-a89821dfb21c"
   },
   "source": [
    "#### Observation\n",
    " - columns :'bb_baths','leftbb_baths','bb_bath','leftbb_bath'\n",
    " - combine all in newly created column\n",
    " - and then keep only one bath value\n",
    " - make dtype as float "
   ]
  },
  {
   "cell_type": "code",
   "execution_count": 5320,
   "id": "f05213da-54b8-4b3a-b77f-660c90677c9a",
   "metadata": {
    "id": "f05213da-54b8-4b3a-b77f-660c90677c9a"
   },
   "outputs": [],
   "source": [
    "pd.set_option('display.max_rows',None)\n",
    "pd.set_option('display.max_colwidth',None)"
   ]
  },
  {
   "cell_type": "code",
   "execution_count": 5321,
   "id": "b6fd9c42-691b-4f7b-8922-0404beef3073",
   "metadata": {
    "id": "b6fd9c42-691b-4f7b-8922-0404beef3073",
    "outputId": "59484866-bec3-491c-90a6-0a23b1679d0b"
   },
   "outputs": [
    {
     "data": {
      "text/html": [
       "<div>\n",
       "<style scoped>\n",
       "    .dataframe tbody tr th:only-of-type {\n",
       "        vertical-align: middle;\n",
       "    }\n",
       "\n",
       "    .dataframe tbody tr th {\n",
       "        vertical-align: top;\n",
       "    }\n",
       "\n",
       "    .dataframe thead th {\n",
       "        text-align: right;\n",
       "    }\n",
       "</style>\n",
       "<table border=\"1\" class=\"dataframe\">\n",
       "  <thead>\n",
       "    <tr style=\"text-align: right;\">\n",
       "      <th></th>\n",
       "      <th>bb_baths</th>\n",
       "      <th>leftbb_baths</th>\n",
       "      <th>bb_bath</th>\n",
       "      <th>leftbb_bath</th>\n",
       "    </tr>\n",
       "  </thead>\n",
       "  <tbody>\n",
       "    <tr>\n",
       "      <th>0</th>\n",
       "      <td>2.0</td>\n",
       "      <td>NaN</td>\n",
       "      <td>NaN</td>\n",
       "      <td>NaN</td>\n",
       "    </tr>\n",
       "    <tr>\n",
       "      <th>1</th>\n",
       "      <td>NaN</td>\n",
       "      <td>3.0</td>\n",
       "      <td>NaN</td>\n",
       "      <td>NaN</td>\n",
       "    </tr>\n",
       "  </tbody>\n",
       "</table>\n",
       "</div>"
      ],
      "text/plain": [
       "   bb_baths  leftbb_baths  bb_bath  leftbb_bath\n",
       "0       2.0           NaN      NaN          NaN\n",
       "1       NaN           3.0      NaN          NaN"
      ]
     },
     "execution_count": 5321,
     "metadata": {},
     "output_type": "execute_result"
    }
   ],
   "source": [
    "df[['bb_baths','leftbb_baths','bb_bath','leftbb_bath']].head(2)"
   ]
  },
  {
   "cell_type": "code",
   "execution_count": 5322,
   "id": "b3714b7f-a31c-4ce5-9576-b48d8173e8ee",
   "metadata": {},
   "outputs": [],
   "source": [
    "#'bb_baths','leftbb_baths','bb_bath','leftbb_bath'\n",
    "#join all this columns in one column \n",
    "\n",
    "df['bath'] = df['bb_baths'].astype(str) + \",\" + df['leftbb_baths'].astype(str) + \",\" + df['bb_bath'].astype(str) + \",\" + df['leftbb_bath'].astype(str)"
   ]
  },
  {
   "cell_type": "code",
   "execution_count": 5323,
   "id": "c493bab4-e788-49fb-a4cc-7640683e22eb",
   "metadata": {
    "scrolled": true
   },
   "outputs": [
    {
     "data": {
      "text/html": [
       "<div>\n",
       "<style scoped>\n",
       "    .dataframe tbody tr th:only-of-type {\n",
       "        vertical-align: middle;\n",
       "    }\n",
       "\n",
       "    .dataframe tbody tr th {\n",
       "        vertical-align: top;\n",
       "    }\n",
       "\n",
       "    .dataframe thead th {\n",
       "        text-align: right;\n",
       "    }\n",
       "</style>\n",
       "<table border=\"1\" class=\"dataframe\">\n",
       "  <thead>\n",
       "    <tr style=\"text-align: right;\">\n",
       "      <th></th>\n",
       "      <th>id</th>\n",
       "      <th>@type</th>\n",
       "      <th>@id</th>\n",
       "      <th>url</th>\n",
       "      <th>numberofrooms</th>\n",
       "      <th>image</th>\n",
       "      <th>name</th>\n",
       "      <th>geo</th>\n",
       "      <th>potentialaction</th>\n",
       "      <th>address</th>\n",
       "      <th>...</th>\n",
       "      <th>am_1404159</th>\n",
       "      <th>am_12516</th>\n",
       "      <th>am_12580</th>\n",
       "      <th>commercial office space</th>\n",
       "      <th>am_12513</th>\n",
       "      <th>am_12550</th>\n",
       "      <th>am_12552</th>\n",
       "      <th>am_12553</th>\n",
       "      <th>3 bhk penthouse</th>\n",
       "      <th>bath</th>\n",
       "    </tr>\n",
       "  </thead>\n",
       "  <tbody>\n",
       "    <tr>\n",
       "      <th>0</th>\n",
       "      <td>cardid69429251</td>\n",
       "      <td>apartment</td>\n",
       "      <td>https://www.magicbricks.com/propertydetails/2-bhk-635-sq-ft-multistorey-apartment-for-sale-pokhran-road-in-thane&amp;id=4d423639343239323531</td>\n",
       "      <td>https://www.magicbricks.com/propertydetails/2-bhk-635-sq-ft-multistorey-apartment-for-sale-pokhran-road-in-thane&amp;id=4d423639343239323531</td>\n",
       "      <td>2.0</td>\n",
       "      <td>https://img.staticmb.com/mbimages/project/photo_h310_w462/2023/04/14/project-photo-6-raymond-realty-ten-x-habitat-thane-5124557_1200_1600_310_462.jpg</td>\n",
       "      <td>2 bhk flat  for sale in  tenx habitat raymond realty, pokhran road, thane</td>\n",
       "      <td>{'@type': 'geocoordinates', 'latitude': '19.20777713', 'longitude': '72.96747907'}</td>\n",
       "      <td>{'@type': 'buyaction', 'seller': {'@type': 'organization', 'name': 'raymond realty'}}</td>\n",
       "      <td>{'@type': 'postaladdress', 'addresslocality': 'pokhran road', 'addressregion': 'thane', 'addresscountry': 'in'}</td>\n",
       "      <td>...</td>\n",
       "      <td>NaN</td>\n",
       "      <td>NaN</td>\n",
       "      <td>NaN</td>\n",
       "      <td>NaN</td>\n",
       "      <td>NaN</td>\n",
       "      <td>NaN</td>\n",
       "      <td>NaN</td>\n",
       "      <td>NaN</td>\n",
       "      <td>NaN</td>\n",
       "      <td>2.0,nan,nan,nan</td>\n",
       "    </tr>\n",
       "    <tr>\n",
       "      <th>1</th>\n",
       "      <td>cardid69427147</td>\n",
       "      <td>apartment</td>\n",
       "      <td>https://www.magicbricks.com/propertydetails/3-bhk-1905-sq-ft-multistorey-apartment-for-sale-kharghar-in-navi-mumbai&amp;id=4d423639343237313437</td>\n",
       "      <td>https://www.magicbricks.com/propertydetails/3-bhk-1905-sq-ft-multistorey-apartment-for-sale-kharghar-in-navi-mumbai&amp;id=4d423639343237313437</td>\n",
       "      <td>3.0</td>\n",
       "      <td>https://img.staticmb.com/mbimages/project/photo_h310_w462/project-photo-28-sai-world-empire-navi-mumbai-5088768_600_800_310_462.jpg</td>\n",
       "      <td>3 bhk flat  for sale in  paradise sai world empire, kharghar, navi mumbai</td>\n",
       "      <td>{'@type': 'geocoordinates', 'latitude': '19.08060457', 'longitude': '73.07393855'}</td>\n",
       "      <td>{'@type': 'buyaction', 'seller': {'@type': 'realestateagent', 'name': 'aristo real estate consultants'}}</td>\n",
       "      <td>{'@type': 'postaladdress', 'addresslocality': 'kharghar', 'addressregion': 'navi mumbai', 'addresscountry': 'in'}</td>\n",
       "      <td>...</td>\n",
       "      <td>NaN</td>\n",
       "      <td>NaN</td>\n",
       "      <td>NaN</td>\n",
       "      <td>NaN</td>\n",
       "      <td>NaN</td>\n",
       "      <td>NaN</td>\n",
       "      <td>NaN</td>\n",
       "      <td>NaN</td>\n",
       "      <td>NaN</td>\n",
       "      <td>nan,3.0,nan,nan</td>\n",
       "    </tr>\n",
       "  </tbody>\n",
       "</table>\n",
       "<p>2 rows × 283 columns</p>\n",
       "</div>"
      ],
      "text/plain": [
       "               id      @type  \\\n",
       "0  cardid69429251  apartment   \n",
       "1  cardid69427147  apartment   \n",
       "\n",
       "                                                                                                                                           @id  \\\n",
       "0     https://www.magicbricks.com/propertydetails/2-bhk-635-sq-ft-multistorey-apartment-for-sale-pokhran-road-in-thane&id=4d423639343239323531   \n",
       "1  https://www.magicbricks.com/propertydetails/3-bhk-1905-sq-ft-multistorey-apartment-for-sale-kharghar-in-navi-mumbai&id=4d423639343237313437   \n",
       "\n",
       "                                                                                                                                           url  \\\n",
       "0     https://www.magicbricks.com/propertydetails/2-bhk-635-sq-ft-multistorey-apartment-for-sale-pokhran-road-in-thane&id=4d423639343239323531   \n",
       "1  https://www.magicbricks.com/propertydetails/3-bhk-1905-sq-ft-multistorey-apartment-for-sale-kharghar-in-navi-mumbai&id=4d423639343237313437   \n",
       "\n",
       "   numberofrooms  \\\n",
       "0            2.0   \n",
       "1            3.0   \n",
       "\n",
       "                                                                                                                                                   image  \\\n",
       "0  https://img.staticmb.com/mbimages/project/photo_h310_w462/2023/04/14/project-photo-6-raymond-realty-ten-x-habitat-thane-5124557_1200_1600_310_462.jpg   \n",
       "1                    https://img.staticmb.com/mbimages/project/photo_h310_w462/project-photo-28-sai-world-empire-navi-mumbai-5088768_600_800_310_462.jpg   \n",
       "\n",
       "                                                                        name  \\\n",
       "0  2 bhk flat  for sale in  tenx habitat raymond realty, pokhran road, thane   \n",
       "1  3 bhk flat  for sale in  paradise sai world empire, kharghar, navi mumbai   \n",
       "\n",
       "                                                                                  geo  \\\n",
       "0  {'@type': 'geocoordinates', 'latitude': '19.20777713', 'longitude': '72.96747907'}   \n",
       "1  {'@type': 'geocoordinates', 'latitude': '19.08060457', 'longitude': '73.07393855'}   \n",
       "\n",
       "                                                                                            potentialaction  \\\n",
       "0                     {'@type': 'buyaction', 'seller': {'@type': 'organization', 'name': 'raymond realty'}}   \n",
       "1  {'@type': 'buyaction', 'seller': {'@type': 'realestateagent', 'name': 'aristo real estate consultants'}}   \n",
       "\n",
       "                                                                                                             address  \\\n",
       "0    {'@type': 'postaladdress', 'addresslocality': 'pokhran road', 'addressregion': 'thane', 'addresscountry': 'in'}   \n",
       "1  {'@type': 'postaladdress', 'addresslocality': 'kharghar', 'addressregion': 'navi mumbai', 'addresscountry': 'in'}   \n",
       "\n",
       "   ... am_1404159 am_12516 am_12580 commercial office space am_12513 am_12550  \\\n",
       "0  ...        NaN      NaN      NaN                     NaN      NaN      NaN   \n",
       "1  ...        NaN      NaN      NaN                     NaN      NaN      NaN   \n",
       "\n",
       "  am_12552 am_12553 3 bhk penthouse             bath  \n",
       "0      NaN      NaN             NaN  2.0,nan,nan,nan  \n",
       "1      NaN      NaN             NaN  nan,3.0,nan,nan  \n",
       "\n",
       "[2 rows x 283 columns]"
      ]
     },
     "execution_count": 5323,
     "metadata": {},
     "output_type": "execute_result"
    }
   ],
   "source": [
    "df.head(2)"
   ]
  },
  {
   "cell_type": "code",
   "execution_count": 5324,
   "id": "ba5d0e65-65b5-4da1-9f3f-5bbfdb4085cf",
   "metadata": {},
   "outputs": [],
   "source": [
    "#from this : 2.0,nan,nan,nan to this: 2.0 \n",
    "#and if all values like this nan,nan,nan,nan then keep one nan \n",
    "df['bath'] = df['bath'].apply(\n",
    "    lambda x: None if all(item.strip() == 'nan' for item in x.split(',')) else re.sub(r'(,?nan)+', '', x).strip(',')\n",
    ")"
   ]
  },
  {
   "cell_type": "code",
   "execution_count": 5325,
   "id": "5b222a5a-9eb0-4135-984e-b818f0b072a6",
   "metadata": {},
   "outputs": [
    {
     "data": {
      "text/plain": [
       "np.int64(0)"
      ]
     },
     "execution_count": 5325,
     "metadata": {},
     "output_type": "execute_result"
    }
   ],
   "source": [
    "#chk if any row have more than one value or not\n",
    "#eg: values will be like this: 2.0,3.0 ,  so to detect this I use  ',' here to detect such rows \n",
    "df['bath'].str.contains(',', na=False).sum()"
   ]
  },
  {
   "cell_type": "code",
   "execution_count": 5326,
   "id": "40280d70-76d2-4cdb-b5b1-4ee712a71cf8",
   "metadata": {},
   "outputs": [
    {
     "data": {
      "text/plain": [
       "bath\n",
       "2.0     6577\n",
       "3.0     2487\n",
       "1.0     1740\n",
       "4.0      781\n",
       "5.0      279\n",
       "6.0       88\n",
       "7.0       11\n",
       "10.0       7\n",
       "8.0        7\n",
       "9.0        1\n",
       "Name: count, dtype: int64"
      ]
     },
     "execution_count": 5326,
     "metadata": {},
     "output_type": "execute_result"
    }
   ],
   "source": [
    "df['bath'].value_counts()"
   ]
  },
  {
   "cell_type": "code",
   "execution_count": 5327,
   "id": "6657d2c8-8854-4bba-a727-a228cae86398",
   "metadata": {},
   "outputs": [
    {
     "data": {
      "text/plain": [
       "dtype('O')"
      ]
     },
     "execution_count": 5327,
     "metadata": {},
     "output_type": "execute_result"
    }
   ],
   "source": [
    "df['bath'].dtype"
   ]
  },
  {
   "cell_type": "code",
   "execution_count": 5328,
   "id": "6b6cf672-ae96-42ad-a52d-25e161f2ab7c",
   "metadata": {},
   "outputs": [],
   "source": [
    "df['bath'] = pd.to_numeric(df['bath'], errors='coerce')"
   ]
  },
  {
   "cell_type": "code",
   "execution_count": 5329,
   "id": "8c11f71c-0621-426f-87d8-5dd5ee2f1fd6",
   "metadata": {},
   "outputs": [
    {
     "data": {
      "text/plain": [
       "dtype('float64')"
      ]
     },
     "execution_count": 5329,
     "metadata": {},
     "output_type": "execute_result"
    }
   ],
   "source": [
    "df['bath'].dtype"
   ]
  },
  {
   "cell_type": "code",
   "execution_count": 5330,
   "id": "300a67cd-149d-4abb-8def-5d3659c67f18",
   "metadata": {},
   "outputs": [
    {
     "data": {
      "text/plain": [
       "np.int64(44)"
      ]
     },
     "execution_count": 5330,
     "metadata": {},
     "output_type": "execute_result"
    }
   ],
   "source": [
    "#nan values in bath column \n",
    "df['bath'].isna().sum()"
   ]
  },
  {
   "cell_type": "code",
   "execution_count": 5331,
   "id": "69aeb0c5-f6c2-4f96-9f54-8b0a9a8189de",
   "metadata": {},
   "outputs": [],
   "source": [
    "# Drop columns : 'bb_baths','leftbb_baths','bb_bath','leftbb_bath'\n",
    "df = df.drop(['bb_baths','leftbb_baths','bb_bath','leftbb_bath'],axis=1)"
   ]
  },
  {
   "cell_type": "markdown",
   "id": "7108d04b-e756-405b-b614-ebd8e3bd28d2",
   "metadata": {},
   "source": [
    "# 3.2 Parking"
   ]
  },
  {
   "cell_type": "markdown",
   "id": "5c4858e2-9401-41b3-a936-7293eaf48639",
   "metadata": {},
   "source": [
    "comapre and keep only one from this -> 'bb_covered-parking','leftbb_covered-parking','many_car parking','leftmany_car parking'"
   ]
  },
  {
   "cell_type": "markdown",
   "id": "eb183b6b-9532-4d80-b1a6-a4b73ef3e106",
   "metadata": {},
   "source": [
    "#### Observation\n",
    "  - 4 columns :'bb_covered-parking','leftbb_covered-parking','many_car parking','leftmany_car parking'\n",
    "  - some columns have similar data\n",
    "  - max value is the correct one\n",
    "  - also some columns values are like '1 Covered, 3 Open' so add only int from them so we get 4 \n",
    "  - combine all columns and keep max value from them in newly created 'parking' column\n",
    "  - convert into float"
   ]
  },
  {
   "cell_type": "code",
   "execution_count": 5332,
   "id": "063d2552-3a31-4212-a85e-3177cbb33d22",
   "metadata": {
    "id": "063d2552-3a31-4212-a85e-3177cbb33d22"
   },
   "outputs": [
    {
     "data": {
      "text/html": [
       "<div>\n",
       "<style scoped>\n",
       "    .dataframe tbody tr th:only-of-type {\n",
       "        vertical-align: middle;\n",
       "    }\n",
       "\n",
       "    .dataframe tbody tr th {\n",
       "        vertical-align: top;\n",
       "    }\n",
       "\n",
       "    .dataframe thead th {\n",
       "        text-align: right;\n",
       "    }\n",
       "</style>\n",
       "<table border=\"1\" class=\"dataframe\">\n",
       "  <thead>\n",
       "    <tr style=\"text-align: right;\">\n",
       "      <th></th>\n",
       "      <th>bb_covered-parking</th>\n",
       "      <th>leftbb_covered-parking</th>\n",
       "      <th>many_car parking</th>\n",
       "      <th>leftmany_car parking</th>\n",
       "    </tr>\n",
       "  </thead>\n",
       "  <tbody>\n",
       "    <tr>\n",
       "      <th>0</th>\n",
       "      <td>1.0</td>\n",
       "      <td>NaN</td>\n",
       "      <td>1 covered</td>\n",
       "      <td>NaN</td>\n",
       "    </tr>\n",
       "    <tr>\n",
       "      <th>1</th>\n",
       "      <td>NaN</td>\n",
       "      <td>1.0</td>\n",
       "      <td>NaN</td>\n",
       "      <td>1 covered</td>\n",
       "    </tr>\n",
       "    <tr>\n",
       "      <th>2</th>\n",
       "      <td>1.0</td>\n",
       "      <td>NaN</td>\n",
       "      <td>1 covered</td>\n",
       "      <td>NaN</td>\n",
       "    </tr>\n",
       "    <tr>\n",
       "      <th>3</th>\n",
       "      <td>NaN</td>\n",
       "      <td>NaN</td>\n",
       "      <td>NaN</td>\n",
       "      <td>NaN</td>\n",
       "    </tr>\n",
       "    <tr>\n",
       "      <th>4</th>\n",
       "      <td>1.0</td>\n",
       "      <td>NaN</td>\n",
       "      <td>1 covered</td>\n",
       "      <td>NaN</td>\n",
       "    </tr>\n",
       "  </tbody>\n",
       "</table>\n",
       "</div>"
      ],
      "text/plain": [
       "   bb_covered-parking  leftbb_covered-parking many_car parking  \\\n",
       "0                 1.0                     NaN        1 covered   \n",
       "1                 NaN                     1.0              NaN   \n",
       "2                 1.0                     NaN        1 covered   \n",
       "3                 NaN                     NaN              NaN   \n",
       "4                 1.0                     NaN        1 covered   \n",
       "\n",
       "  leftmany_car parking  \n",
       "0                  NaN  \n",
       "1            1 covered  \n",
       "2                  NaN  \n",
       "3                  NaN  \n",
       "4                  NaN  "
      ]
     },
     "execution_count": 5332,
     "metadata": {},
     "output_type": "execute_result"
    }
   ],
   "source": [
    "df[['bb_covered-parking','leftbb_covered-parking','many_car parking','leftmany_car parking']].head(5)"
   ]
  },
  {
   "cell_type": "code",
   "execution_count": 5333,
   "id": "36e55761-bc54-4d14-a7df-371e5d07e197",
   "metadata": {},
   "outputs": [],
   "source": [
    "#from 'leftmany_car parking' keep only int values  \n",
    "#eg: if like this :1 Covered, 3 Open then form this we get :4\n",
    "df['leftmany_car parking'] = df['leftmany_car parking'].apply(lambda x: None if pd.isna(x) else sum(map(int, re.findall(r'\\d+', str(x)))))"
   ]
  },
  {
   "cell_type": "code",
   "execution_count": 5334,
   "id": "57b9a2db-5c55-4792-bf7b-416c5befde65",
   "metadata": {},
   "outputs": [],
   "source": [
    "#from 'many_Car parking' keep only int values\n",
    "#eg: if like this :1 Covered, 3 Open then form this we get :4\n",
    "df['many_car parking'] = df['many_car parking'].apply(lambda x: None if pd.isna(x) else sum(map(int, re.findall(r'\\d+', str(x)))))"
   ]
  },
  {
   "cell_type": "code",
   "execution_count": 5335,
   "id": "3737de84-eefa-4a60-8863-e8bda05c541a",
   "metadata": {},
   "outputs": [],
   "source": [
    "#make 1 column in that combine all this below column values\n",
    "#''bb_covered-parking','leftbb_covered-parking','many_car parking','leftmany_car parking'\n",
    "\n",
    "df['parking'] = df['bb_covered-parking'].astype(str) + \",\" + df['leftbb_covered-parking'].astype(str) + \",\" + df['leftmany_car parking'].astype(str) + \",\" + df['many_car parking'].astype(str)"
   ]
  },
  {
   "cell_type": "code",
   "execution_count": 5336,
   "id": "5c05da6b-968b-40a6-a8fe-df679f9a91a8",
   "metadata": {},
   "outputs": [],
   "source": [
    "#make new column for parking in that take only that values which are max in this below 4 columns \n",
    "#'bb_covered-parking','leftbb_covered-parking','many_car parking','leftmany_car parking'\n",
    "#if all values are nan then keep nan only \n",
    "\n",
    "df['parking'] = df['parking'].apply(\n",
    "    lambda x: None if all(item.strip() == 'nan' for item in x.split(',')) \n",
    "    else max([float(item) for item in x.split(',') if item.strip() not in ['nan', '']])\n",
    ")\n",
    "\n"
   ]
  },
  {
   "cell_type": "markdown",
   "id": "b0f003cd-7991-4372-aca7-a73a7a819ef1",
   "metadata": {},
   "source": [
    "#### Observation\n",
    "  - lesser than 12 car parking for 1 flat \n",
    "  - more than 12 parking for 1 flat then delete make that 1 only  \n",
    "    eg: 50 open parking so make this 1 only\n",
    "  - above 2 not possible"
   ]
  },
  {
   "cell_type": "code",
   "execution_count": 5337,
   "id": "71c07401-7334-4fff-8907-bdbb12db3c5c",
   "metadata": {},
   "outputs": [
    {
     "data": {
      "text/plain": [
       "parking\n",
       "1.0      3973\n",
       "2.0      1352\n",
       "3.0       243\n",
       "4.0        83\n",
       "5.0        21\n",
       "10.0       10\n",
       "6.0         8\n",
       "12.0        3\n",
       "100.0       3\n",
       "22.0        2\n",
       "9.0         2\n",
       "8.0         2\n",
       "50.0        2\n",
       "34.0        2\n",
       "102.0       2\n",
       "15.0        2\n",
       "104.0       1\n",
       "16.0        1\n",
       "18.0        1\n",
       "65.0        1\n",
       "188.0       1\n",
       "403.0       1\n",
       "813.0       1\n",
       "23.0        1\n",
       "122.0       1\n",
       "603.0       1\n",
       "36.0        1\n",
       "420.0       1\n",
       "203.0       1\n",
       "27.0        1\n",
       "44.0        1\n",
       "45.0        1\n",
       "508.0       1\n",
       "20.0        1\n",
       "858.0       1\n",
       "40.0        1\n",
       "501.0       1\n",
       "30.0        1\n",
       "11.0        1\n",
       "504.0       1\n",
       "402.0       1\n",
       "512.0       1\n",
       "13.0        1\n",
       "Name: count, dtype: int64"
      ]
     },
     "execution_count": 5337,
     "metadata": {},
     "output_type": "execute_result"
    }
   ],
   "source": [
    "df['parking'].value_counts()"
   ]
  },
  {
   "cell_type": "markdown",
   "id": "6f2ff2a1-b20b-469b-9b35-35d2e3d99a51",
   "metadata": {},
   "source": [
    "#### Observation\n",
    "  - more than 13 parking for single flat is not possible hence make them 'nan'\n",
    "  - assign parking is not possible for below ID's hence make nan for them also ['cardid27836801' 'cardid48504695' 'cardid54247801' 'cardid63926535'\n",
    " 'cardid70165891' 'cardid70404005' 'cardid71077363' 'cardid71669157'\n",
    " 'cardid71832843' 'cardid72076743' 'cardid72520475' 'cardid72662033'\n",
    " 'cardid72870079' 'cardid72884903' 'cardid72943753' 'cardid72963631'\n",
    " 'cardid73073955' 'cardid73082695' 'cardid73099819' 'cardid73226903']\n",
    "\n",
    "- make dtype as float"
   ]
  },
  {
   "cell_type": "code",
   "execution_count": 5338,
   "id": "17e32fef-26de-4969-96cf-fab61969d8f2",
   "metadata": {},
   "outputs": [],
   "source": [
    "#None for the values which are more than 13 in parking column \n",
    "df['parking'] = df['parking'].apply(lambda x: None if x>=13 else x)"
   ]
  },
  {
   "cell_type": "code",
   "execution_count": 5339,
   "id": "4e04b3fa-1638-41d7-b94a-ad0c8dc425d9",
   "metadata": {},
   "outputs": [],
   "source": [
    "#make parking=nan for the below mention ID's\n",
    "ids_to_update = [\n",
    "    'cardid27836801', 'cardid48504695', 'cardid54247801', 'cardid63926535', \n",
    "    'cardid70165891', 'cardid70404005', 'cardid71077363', 'cardid71669157', \n",
    "    'cardid71832843', 'cardid72076743', 'cardid72520475', 'cardid72662033', \n",
    "    'cardid72870079', 'cardid72884903', 'cardid72943753', 'cardid72963631', \n",
    "    'cardid73073955', 'cardid73082695', 'cardid73099819', 'cardid73226903'\n",
    "]\n",
    "\n",
    "# Update 'parking' to NaN for rows where 'ID' matches\n",
    "df.loc[df['id'].isin(ids_to_update), 'parking'] = None"
   ]
  },
  {
   "cell_type": "code",
   "execution_count": 5340,
   "id": "23a7740c-916b-449f-ba52-227ac3c35d6d",
   "metadata": {},
   "outputs": [
    {
     "data": {
      "text/plain": [
       "np.int64(6344)"
      ]
     },
     "execution_count": 5340,
     "metadata": {},
     "output_type": "execute_result"
    }
   ],
   "source": [
    "df['parking'].isna().sum()"
   ]
  },
  {
   "cell_type": "code",
   "execution_count": 5341,
   "id": "f9467ed2-644a-4c5f-8af6-f3dfedb14c32",
   "metadata": {},
   "outputs": [
    {
     "data": {
      "text/plain": [
       "dtype('float64')"
      ]
     },
     "execution_count": 5341,
     "metadata": {},
     "output_type": "execute_result"
    }
   ],
   "source": [
    "df['parking'].dtype"
   ]
  },
  {
   "cell_type": "code",
   "execution_count": 5342,
   "id": "fa55388d-5bdf-437f-89be-dd222fcecacb",
   "metadata": {},
   "outputs": [],
   "source": [
    "df['parking'] = pd.to_numeric(df['parking'], errors='coerce')"
   ]
  },
  {
   "cell_type": "code",
   "execution_count": 5343,
   "id": "d0d7e98c-4c57-4bf9-a5f5-08bd0b8052c7",
   "metadata": {},
   "outputs": [
    {
     "data": {
      "text/plain": [
       "dtype('float64')"
      ]
     },
     "execution_count": 5343,
     "metadata": {},
     "output_type": "execute_result"
    }
   ],
   "source": [
    "df['parking'].dtype"
   ]
  },
  {
   "cell_type": "code",
   "execution_count": 5344,
   "id": "c4ed926f-8b0e-4547-810a-31ea3dbaabf6",
   "metadata": {},
   "outputs": [],
   "source": [
    "# Drop columns : 'bb_covered-parking','leftbb_covered-parking','many_car parking','leftmany_car parking'\n",
    "df = df.drop(['bb_covered-parking','leftbb_covered-parking','many_car parking','leftmany_car parking'],axis=1)"
   ]
  },
  {
   "cell_type": "markdown",
   "id": "e2714c18-fba2-4929-8870-80dbe58303f7",
   "metadata": {},
   "source": [
    "# 3.3 Builder "
   ]
  },
  {
   "cell_type": "markdown",
   "id": "c37c6e52-b644-42af-af47-2fb5beeed995",
   "metadata": {},
   "source": [
    "#### Observation \n",
    " - have this many columns : 'many_developer','leftmany_developer','ap_buildr'\n",
    " - combine them and keep only one value from it else keep nan\n",
    " - dtype is object"
   ]
  },
  {
   "cell_type": "code",
   "execution_count": 5345,
   "id": "bb8abe97-f624-4509-a8c8-ba510a9eddb9",
   "metadata": {},
   "outputs": [
    {
     "data": {
      "text/plain": [
       "np.int64(0)"
      ]
     },
     "execution_count": 5345,
     "metadata": {},
     "output_type": "execute_result"
    }
   ],
   "source": [
    "#chk any ',' available before splitting in all this columns : 'many_developer','leftmany_developer','ap_buildr'\n",
    "df['ap_buildr'].str.contains(',', na=False).sum()"
   ]
  },
  {
   "cell_type": "code",
   "execution_count": 5346,
   "id": "9ee08ad7-841e-439b-8346-9ccd71e389bd",
   "metadata": {},
   "outputs": [],
   "source": [
    "#combine columns \n",
    "df['builder'] = df['many_developer'].astype(str) + \",\" + df['leftmany_developer'].astype(str) + \",\" + df['ap_buildr'].astype(str)"
   ]
  },
  {
   "cell_type": "code",
   "execution_count": 5347,
   "id": "bf84da6a-85e6-4ff7-b150-eab8ea6623b4",
   "metadata": {},
   "outputs": [],
   "source": [
    "#keep if builder is available else keep nan\n",
    "df['builder'] = df['builder'].apply(\n",
    "    lambda x: None if all(item.strip() == 'nan' for item in x.split(',')) \n",
    "    else next((item.strip() for item in x.split(',') if item.strip() not in ['nan', '']), None)\n",
    ")\n"
   ]
  },
  {
   "cell_type": "code",
   "execution_count": 5348,
   "id": "89b9a91e-6ed3-4ea8-be62-3cc41d0abb23",
   "metadata": {},
   "outputs": [],
   "source": [
    "#drop columns : 'many_developer','leftmany_developer','ap_buildr'\n",
    "df = df.drop(['many_developer','leftmany_developer','ap_buildr'],axis=1)"
   ]
  },
  {
   "cell_type": "code",
   "execution_count": 5349,
   "id": "323fe219-057b-48bd-bab7-f11e3cc043c7",
   "metadata": {},
   "outputs": [],
   "source": [
    "#df13 = df[['id','url','name','price','md_Address','builder','ap_pjt_name','many_project','leftmany_project']]\n",
    "\n",
    "#for observation make this excel\n",
    "#df13.to_excel('chk13.xlsx')"
   ]
  },
  {
   "cell_type": "code",
   "execution_count": 5350,
   "id": "0d259336-f1cb-4dd3-8569-aafe9c9a4c34",
   "metadata": {},
   "outputs": [
    {
     "data": {
      "text/plain": [
       "np.int64(0)"
      ]
     },
     "execution_count": 5350,
     "metadata": {},
     "output_type": "execute_result"
    }
   ],
   "source": [
    "#chk if any row have more than one value or not\n",
    "df['builder'].str.contains(',', na=False).sum()"
   ]
  },
  {
   "cell_type": "code",
   "execution_count": null,
   "id": "d1559b15-1905-4c3f-9a57-561fad4690bc",
   "metadata": {},
   "outputs": [],
   "source": []
  },
  {
   "attachments": {},
   "cell_type": "markdown",
   "id": "1408cb47-a843-4f34-8e70-f72cd8811ec3",
   "metadata": {},
   "source": [
    "### observation \n",
    "\n",
    "- same builders are written in various manner\n",
    "- a&o realty,a and o realty,a & o realty ltd.\n",
    "- adhiraj constructions and adhiraj constructions pvt. ltd.\n",
    "- arihant superstructures ltd and arihant superstructures ltd.\n",
    "- bharat infrastructure & engineering pvt. ltd. and bharat infrastructure and engineering\n",
    "- bhoomi group,bhoomi,bhoomi properties\n",
    "- choice group of companies and choice group\n",
    "- darshan properties and darshan properties group\n",
    "- dev land housing and dev land housing ltd.\n",
    "- ecohomes and eco homes\n",
    "- gundecha developers/ gundecha / gundecha developing milestone /gundecha group\n",
    "- hiranandani communities / hiranandani constructions / hiranandani developers / hiranandani group / house of hiranandani\n",
    "- k raheja realty/ k. raheja realty\n",
    "- krishna enterprise / krishna enterprises\n",
    "- l & t realty / l&t realty\n",
    "- lodha / lodha group\n",
    "- lok housing group / lok group\n",
    "- lokhandwala builders / Lokhandwala Constructions / lokhandwala construction industries pvt. ltd. / lokhandwala group \n",
    "- lokhandwala infrastructure\n",
    "- lotus logistic and developers / lotus logistics & developer pvt ltd\n",
    "- neelam realtors / neelam realtors pvt. ltd.\n",
    "- neelsidhi gloria / neelsidhi"
   ]
  },
  {
   "cell_type": "markdown",
   "id": "10e81197-3dc3-451e-acee-89d71c92013b",
   "metadata": {},
   "source": []
  },
  {
   "cell_type": "code",
   "execution_count": 5351,
   "id": "7f9f883d-7082-40c7-a899-bdf157a438e3",
   "metadata": {},
   "outputs": [
    {
     "data": {
      "text/plain": [
       "dtype('O')"
      ]
     },
     "execution_count": 5351,
     "metadata": {},
     "output_type": "execute_result"
    }
   ],
   "source": [
    "df['builder'].dtype"
   ]
  },
  {
   "cell_type": "markdown",
   "id": "ef1b8354-063e-4011-bb2f-b6458eeb7022",
   "metadata": {},
   "source": [
    "# 3.4 project_name"
   ]
  },
  {
   "cell_type": "markdown",
   "id": "c98626f3-37bf-40a3-9953-7568b01602f5",
   "metadata": {},
   "source": [
    "#### Observation \n",
    " - have this many columns : ap_pjt_name,many_project,leftmany_project\n",
    " - combine them and keep only one value from it else keep nan\n",
    " - dtype is object"
   ]
  },
  {
   "cell_type": "code",
   "execution_count": 5352,
   "id": "37ea019a-fd2e-4b26-8c25-a77d21c0470e",
   "metadata": {},
   "outputs": [
    {
     "data": {
      "text/plain": [
       "np.int64(0)"
      ]
     },
     "execution_count": 5352,
     "metadata": {},
     "output_type": "execute_result"
    }
   ],
   "source": [
    "#chk any ',' available before splitting in all this columns :ap_pjt_name,many_project,leftmany_project\n",
    "df['leftmany_project'].str.contains(',', na=False).sum()"
   ]
  },
  {
   "cell_type": "code",
   "execution_count": 5353,
   "id": "3280d7fc-89bb-4752-b718-6ddeb8fb07bf",
   "metadata": {},
   "outputs": [
    {
     "data": {
      "text/plain": [
       "dtype('O')"
      ]
     },
     "execution_count": 5353,
     "metadata": {},
     "output_type": "execute_result"
    }
   ],
   "source": [
    "df['leftmany_project'].dtype"
   ]
  },
  {
   "cell_type": "code",
   "execution_count": 5354,
   "id": "f99be978-a745-4653-b297-5766806b7bda",
   "metadata": {},
   "outputs": [],
   "source": [
    "#combine columns \n",
    "df['project_name'] = df['ap_pjt_name'].astype(str) + \",\" + df['many_project'].astype(str) + \",\" + df['leftmany_project'].astype(str)"
   ]
  },
  {
   "cell_type": "code",
   "execution_count": 5355,
   "id": "37b818a1-4cf9-4768-85db-aa5f664e5b21",
   "metadata": {},
   "outputs": [],
   "source": [
    "#keep if project_name is available else keep nan\n",
    "df['project_name'] = df['project_name'].apply(\n",
    "    lambda x: None if all(item.strip() == 'nan' for item in x.split(',')) \n",
    "    else next((item.strip() for item in x.split(',') if item.strip() not in ['nan', '']), None)\n",
    ")"
   ]
  },
  {
   "cell_type": "code",
   "execution_count": 5356,
   "id": "8c37783c-bbba-4666-b624-c2f66e313fec",
   "metadata": {},
   "outputs": [],
   "source": [
    "#df14 = df[['id','url','name','price','md_address','builder','project_name']]\n",
    "\n",
    "#for observation make this excel\n",
    "#df14.to_excel('chk14.xlsx')"
   ]
  },
  {
   "cell_type": "code",
   "execution_count": 5357,
   "id": "f92c2c6f-49f1-4c28-9629-bd87a7b79c95",
   "metadata": {},
   "outputs": [
    {
     "data": {
      "text/plain": [
       "np.int64(0)"
      ]
     },
     "execution_count": 5357,
     "metadata": {},
     "output_type": "execute_result"
    }
   ],
   "source": [
    "#chk if any row have more than one value or not\n",
    "df['project_name'].str.contains(',', na=False).sum()"
   ]
  },
  {
   "cell_type": "code",
   "execution_count": 5358,
   "id": "c111d64a-4594-45d5-b2b8-333ab013269e",
   "metadata": {},
   "outputs": [],
   "source": [
    "# Drop columns : 'ap_pjt_name','many_project','leftmany_project'\n",
    "df = df.drop(['ap_pjt_name','many_project','leftmany_project'],axis=1)"
   ]
  },
  {
   "cell_type": "code",
   "execution_count": 5359,
   "id": "bc691183-6da5-4a78-8678-58e7a93e9ba1",
   "metadata": {},
   "outputs": [
    {
     "data": {
      "text/plain": [
       "dtype('O')"
      ]
     },
     "execution_count": 5359,
     "metadata": {},
     "output_type": "execute_result"
    }
   ],
   "source": [
    "df['project_name'].dtype"
   ]
  },
  {
   "cell_type": "markdown",
   "id": "48bfab9f-4e5e-4e2c-8379-bb90f99c9ee2",
   "metadata": {},
   "source": [
    "# 3.5 furnish"
   ]
  },
  {
   "cell_type": "markdown",
   "id": "fe770e4d-1ab4-41d1-a147-0393743ffa99",
   "metadata": {},
   "source": [
    "#### Observation \n",
    "  - this many columns we have : 'md_furnishing','bb_unfurnished','many_furnished status','leftbb_unfurnished','leftmany_furnished status','bb_semi-furnished','leftbb_semi-furnished','bb_furnished','leftbb_furnished'\n",
    "  - Already dropped these columns as they were empty: ['bb_unfurnished', 'leftbb_unfurnished', 'bb_semi-furnished', 'leftbb_semi-furnished', 'bb_furnished', 'leftbb_furnished'].\n",
    "  - so now only to perform on this columns : ['md_furnishing','many_furnished status','leftmany_furnished status']\n",
    "  - combine them and keep only one value\n",
    "  - dtype is object"
   ]
  },
  {
   "cell_type": "code",
   "execution_count": 5360,
   "id": "f74d3332-cab3-495e-b0e6-e5cac741bf84",
   "metadata": {},
   "outputs": [
    {
     "data": {
      "text/plain": [
       "np.int64(0)"
      ]
     },
     "execution_count": 5360,
     "metadata": {},
     "output_type": "execute_result"
    }
   ],
   "source": [
    "#chk any ',' available before splitting in all this columns :'md_furnishing','many_furnished status','leftmany_furnished status'\n",
    "df['leftmany_furnished status'].str.contains(',', na=False).sum()"
   ]
  },
  {
   "cell_type": "code",
   "execution_count": 5361,
   "id": "5d699efd-c2ab-4902-bf65-9e74356112f5",
   "metadata": {},
   "outputs": [],
   "source": [
    "#df15 = df[['ID','url','name','PRICE','MD_Furnishing','many_Furnished Status','leftmany_Furnished Status']]\n",
    "\n",
    "#for observation make this excel\n",
    "#df15.to_excel('chk15.xlsx')"
   ]
  },
  {
   "cell_type": "code",
   "execution_count": 5362,
   "id": "63bb12ae-daeb-4556-b74d-d378d806a9e7",
   "metadata": {},
   "outputs": [],
   "source": [
    "#combine columns \n",
    "df['furnish'] = df['md_furnishing'].astype(str) + \",\" + df['many_furnished status'].astype(str) + \",\" + df['leftmany_furnished status'].astype(str)"
   ]
  },
  {
   "cell_type": "code",
   "execution_count": 5363,
   "id": "0a954198-6a90-4b91-a7eb-a4a643d6a0d4",
   "metadata": {},
   "outputs": [],
   "source": [
    "#keep if furnish is available else keep nan\n",
    "df['furnish'] = df['furnish'].apply(\n",
    "    lambda x: None if all(item.strip() == 'nan' for item in x.split(',')) \n",
    "    else next((item.strip() for item in x.split(',') if item.strip() not in ['nan', '']), None)\n",
    ")"
   ]
  },
  {
   "cell_type": "code",
   "execution_count": 5364,
   "id": "d603526a-1924-4783-bbf7-483d01444f25",
   "metadata": {},
   "outputs": [
    {
     "data": {
      "text/plain": [
       "furnish\n",
       "unfurnished       7553\n",
       "semi-furnished    3234\n",
       "furnished         1189\n",
       "Name: count, dtype: int64"
      ]
     },
     "execution_count": 5364,
     "metadata": {},
     "output_type": "execute_result"
    }
   ],
   "source": [
    "df['furnish'].value_counts()"
   ]
  },
  {
   "cell_type": "code",
   "execution_count": 5365,
   "id": "8f6b3e8d-1e96-4894-8df5-4767707cd84c",
   "metadata": {},
   "outputs": [
    {
     "data": {
      "text/plain": [
       "np.int64(0)"
      ]
     },
     "execution_count": 5365,
     "metadata": {},
     "output_type": "execute_result"
    }
   ],
   "source": [
    "#chk if any row have more than one value or not\n",
    "df['furnish'].str.contains(',', na=False).sum()"
   ]
  },
  {
   "cell_type": "code",
   "execution_count": 5366,
   "id": "1f96add0-d3c6-4e3f-a34a-ec48f6055bdf",
   "metadata": {},
   "outputs": [],
   "source": [
    "# Drop columns : ['MD_Furnishing','many_Furnished Status','leftmany_Furnished Status']\n",
    "df = df.drop(['md_furnishing','many_furnished status','leftmany_furnished status'],axis=1)"
   ]
  },
  {
   "cell_type": "code",
   "execution_count": 5367,
   "id": "78368dc1-d711-428d-bb2f-b0691e816a92",
   "metadata": {},
   "outputs": [
    {
     "data": {
      "text/plain": [
       "dtype('O')"
      ]
     },
     "execution_count": 5367,
     "metadata": {},
     "output_type": "execute_result"
    }
   ],
   "source": [
    "df['furnish'].dtype"
   ]
  },
  {
   "cell_type": "markdown",
   "id": "905ebf65-8de9-4969-bcd7-235674a7f653",
   "metadata": {},
   "source": [
    "# 3.6 price"
   ]
  },
  {
   "cell_type": "markdown",
   "id": "6e080c87-e927-4a3d-acda-a832e0c04e62",
   "metadata": {},
   "source": [
    "### Observation \n",
    "- some in Cr and some price in lakhs , have to convert all of them into cr\n",
    "- only Cr and Lac values in column\n",
    "- drop 'md_price breakup'\n",
    "- drop row where price is missing "
   ]
  },
  {
   "cell_type": "code",
   "execution_count": 5368,
   "id": "550c540c-e50a-4414-8054-03e1f3222e5c",
   "metadata": {},
   "outputs": [
    {
     "data": {
      "text/plain": [
       "0    ₹1.80 cr\n",
       "1    ₹2.37 cr\n",
       "2    ₹1.80 cr\n",
       "3    ₹1.64 cr\n",
       "4    ₹1.26 cr\n",
       "Name: price, dtype: object"
      ]
     },
     "execution_count": 5368,
     "metadata": {},
     "output_type": "execute_result"
    }
   ],
   "source": [
    "df['price'].head()"
   ]
  },
  {
   "cell_type": "code",
   "execution_count": 5369,
   "id": "190eba34-ca6b-4d1a-a258-c93dee9dcf24",
   "metadata": {},
   "outputs": [],
   "source": [
    "#df['price'].value_counts()"
   ]
  },
  {
   "cell_type": "code",
   "execution_count": 5370,
   "id": "af779fc5-28d6-40db-a529-9e2169903249",
   "metadata": {},
   "outputs": [],
   "source": [
    "#fetch price unit and actul_price is the price which is in Lac and cr \n",
    "df['price_unit'] = df['price'].str.split(' ').str[1]\n",
    "df['actual_price'] = df['price'].str.split(' ').str[0].str.replace('₹','').astype('float')"
   ]
  },
  {
   "cell_type": "code",
   "execution_count": 5371,
   "id": "0402f545-bbea-4b5c-9663-d5b42032a8d7",
   "metadata": {},
   "outputs": [
    {
     "data": {
      "text/plain": [
       "price_unit\n",
       "cr     8740\n",
       "lac    3281\n",
       "Name: count, dtype: int64"
      ]
     },
     "execution_count": 5371,
     "metadata": {},
     "output_type": "execute_result"
    }
   ],
   "source": [
    "df['price_unit'].value_counts()"
   ]
  },
  {
   "cell_type": "code",
   "execution_count": 5372,
   "id": "906ffd7b-53a7-4b79-95e5-09688c409fe3",
   "metadata": {},
   "outputs": [],
   "source": [
    "#convert lac price into Cr\n",
    "df['f_price'] = df.apply(\n",
    "    lambda row: row['actual_price'] / 100 if row['price_unit'] == 'lac'\n",
    "    else row['actual_price'],\n",
    "    axis=1\n",
    ")"
   ]
  },
  {
   "cell_type": "code",
   "execution_count": 5373,
   "id": "1577ff15-0d68-4524-a576-8875f7e8e6e5",
   "metadata": {},
   "outputs": [
    {
     "data": {
      "text/plain": [
       "0    1.80\n",
       "1    2.37\n",
       "2    1.80\n",
       "3    1.64\n",
       "4    1.26\n",
       "Name: f_price, dtype: float64"
      ]
     },
     "execution_count": 5373,
     "metadata": {},
     "output_type": "execute_result"
    }
   ],
   "source": [
    "#f_price is in Cr\n",
    "df['f_price'].head()"
   ]
  },
  {
   "cell_type": "code",
   "execution_count": 5374,
   "id": "de399fdc-bce0-46a8-8bde-af394a62b4c1",
   "metadata": {},
   "outputs": [],
   "source": [
    "#drop row where price is missing\n",
    "df = df.dropna(subset=['f_price'])"
   ]
  },
  {
   "cell_type": "code",
   "execution_count": 5375,
   "id": "7ea15cd4-edfc-4aa5-99f5-551419c532f2",
   "metadata": {},
   "outputs": [
    {
     "data": {
      "text/plain": [
       "np.int64(0)"
      ]
     },
     "execution_count": 5375,
     "metadata": {},
     "output_type": "execute_result"
    }
   ],
   "source": [
    "df['f_price'].isna().sum()"
   ]
  },
  {
   "cell_type": "code",
   "execution_count": 5376,
   "id": "657c498d-f37e-4db1-9db7-1d33e995c713",
   "metadata": {},
   "outputs": [],
   "source": [
    "# Drop columns : 'price'\n",
    "df = df.drop(['price','price_unit','actual_price','md_price breakup'],axis=1)"
   ]
  },
  {
   "cell_type": "markdown",
   "id": "96e8cc9a-be1f-4fe7-a263-74c3b3f07dd4",
   "metadata": {},
   "source": [
    "# 3.7 carpet_area"
   ]
  },
  {
   "cell_type": "markdown",
   "id": "7481ca55-9a30-4a07-a7d4-a612a4c03df4",
   "metadata": {},
   "source": [
    "#### Observation  \n",
    "- The following columns are present: 'many_carpet area','leftmany_carpet area'.  \n",
    "- carpet area is mentioned in sqft,kanal and sqm .\n",
    "- create new column(carpet_area) for - Extract the initial numeric values else keep nan\n",
    "- convert capret_area into float\n",
    "- create new column(cost_per_sqft) for - rupees per area is also included at the end of each value,following the indian rupee symbol,extract that else keep nan\n",
    "- convert cost_per_sqft into float\n",
    "- create new column(area_unit) for - sqft,kanal and sqm are specified at the end of each value else keep nan\n",
    "- checked in excel : If value are present in 'many_carpet area', they are not present in the 'leftmany_carpet area' column at the same time."
   ]
  },
  {
   "cell_type": "code",
   "execution_count": 5377,
   "id": "d88f7341-0f4f-49de-a4ed-13c808552917",
   "metadata": {},
   "outputs": [],
   "source": [
    "#combine_first Update null elements with value in the same location in other.\n",
    "df['area_work'] = df[\"many_carpet area\"].combine_first(df[\"leftmany_carpet area\"])"
   ]
  },
  {
   "cell_type": "code",
   "execution_count": 5378,
   "id": "316f6893-f606-4b7e-acb3-66cd001cae50",
   "metadata": {},
   "outputs": [
    {
     "data": {
      "text/plain": [
       "0    635sqftsqftsqyrdsqmacrebighahectaremarlakanalbiswa1biswa2groundaankadamroodchatakkottahmarlacentperchgunthaarekathagajkillakuncham₹28,346/sqft\n",
       "1                                                                                                                                               NaN\n",
       "2    623sqftsqftsqyrdsqmacrebighahectaremarlakanalbiswa1biswa2groundaankadamroodchatakkottahmarlacentperchgunthaarekathagajkillakuncham₹28,892/sqft\n",
       "3    702sqftsqftsqyrdsqmacrebighahectaremarlakanalbiswa1biswa2groundaankadamroodchatakkottahmarlacentperchgunthaarekathagajkillakuncham₹23,500/sqft\n",
       "4    608sqftsqftsqyrdsqmacrebighahectaremarlakanalbiswa1biswa2groundaankadamroodchatakkottahmarlacentperchgunthaarekathagajkillakuncham₹20,724/sqft\n",
       "Name: area_work, dtype: object"
      ]
     },
     "execution_count": 5378,
     "metadata": {},
     "output_type": "execute_result"
    }
   ],
   "source": [
    "df['area_work'].head(5)"
   ]
  },
  {
   "cell_type": "code",
   "execution_count": 5379,
   "id": "3c6a77b5-1650-4f1d-b264-2a5041ae56d8",
   "metadata": {},
   "outputs": [],
   "source": [
    "#cross chk done \n",
    "# area column : Extract the initial numbers using a regex \n",
    "df[\"carpet_area\"] = df[\"area_work\"].apply(lambda x: float(re.match(r'([\\d,\\.]+)', x).group(1).replace(',', '')) if pd.notna(x) and re.match(r'^[\\d,\\.]+', x) else None)"
   ]
  },
  {
   "cell_type": "code",
   "execution_count": 5380,
   "id": "33901f55-e69f-4ecb-8eb5-54d488098f48",
   "metadata": {},
   "outputs": [
    {
     "data": {
      "text/plain": [
       "0    635.0\n",
       "1      NaN\n",
       "2    623.0\n",
       "3    702.0\n",
       "4    608.0\n",
       "Name: carpet_area, dtype: float64"
      ]
     },
     "execution_count": 5380,
     "metadata": {},
     "output_type": "execute_result"
    }
   ],
   "source": [
    "df['carpet_area'].head()"
   ]
  },
  {
   "cell_type": "code",
   "execution_count": 5381,
   "id": "cdc63369-717e-4115-be2c-3059050c9267",
   "metadata": {},
   "outputs": [
    {
     "data": {
      "text/plain": [
       "dtype('float64')"
      ]
     },
     "execution_count": 5381,
     "metadata": {},
     "output_type": "execute_result"
    }
   ],
   "source": [
    "df['carpet_area'].dtype"
   ]
  },
  {
   "cell_type": "code",
   "execution_count": 5382,
   "id": "04365b84-e19d-4cf0-9788-0375f512e140",
   "metadata": {},
   "outputs": [
    {
     "data": {
      "text/plain": [
       "np.int64(1868)"
      ]
     },
     "execution_count": 5382,
     "metadata": {},
     "output_type": "execute_result"
    }
   ],
   "source": [
    "df['carpet_area'].isna().sum()"
   ]
  },
  {
   "cell_type": "code",
   "execution_count": 5383,
   "id": "6cefbd91-dd7e-4303-af7c-584452486613",
   "metadata": {},
   "outputs": [],
   "source": [
    "#cross chk done\n",
    "# area column : Extract the cost per sqft numbers using a regex \n",
    "df['cost_per_sqft'] = df['area_work'].str.extract(r'₹([\\d,\\.]+)')[0].str.replace(',', '').astype(float)"
   ]
  },
  {
   "cell_type": "code",
   "execution_count": 5384,
   "id": "9b724d99-229a-4549-bd7b-2a4ec68611de",
   "metadata": {},
   "outputs": [
    {
     "data": {
      "text/plain": [
       "0    28346.0\n",
       "1        NaN\n",
       "2    28892.0\n",
       "3    23500.0\n",
       "4    20724.0\n",
       "Name: cost_per_sqft, dtype: float64"
      ]
     },
     "execution_count": 5384,
     "metadata": {},
     "output_type": "execute_result"
    }
   ],
   "source": [
    "df['cost_per_sqft'].head()"
   ]
  },
  {
   "cell_type": "code",
   "execution_count": 5385,
   "id": "c37bf3d9-4e4d-4c46-9323-bd842d36623d",
   "metadata": {},
   "outputs": [
    {
     "data": {
      "text/plain": [
       "dtype('float64')"
      ]
     },
     "execution_count": 5385,
     "metadata": {},
     "output_type": "execute_result"
    }
   ],
   "source": [
    "df['cost_per_sqft'].dtype"
   ]
  },
  {
   "cell_type": "code",
   "execution_count": 5386,
   "id": "1f679111-5216-493f-94b2-0968efc4631b",
   "metadata": {},
   "outputs": [
    {
     "data": {
      "text/plain": [
       "np.int64(1869)"
      ]
     },
     "execution_count": 5386,
     "metadata": {},
     "output_type": "execute_result"
    }
   ],
   "source": [
    "df['cost_per_sqft'].isna().sum()"
   ]
  },
  {
   "cell_type": "code",
   "execution_count": 5387,
   "id": "460f7c37-de13-4cac-ae96-d5a01bfb5a80",
   "metadata": {},
   "outputs": [],
   "source": [
    "#cross chk done\n",
    "#extract area_unit \n",
    "df['area_unit'] = df['area_work'].str.extract(r'/([^/]+)$')"
   ]
  },
  {
   "cell_type": "code",
   "execution_count": 5388,
   "id": "a4ff78e4-75ae-4f9a-b92f-3d24bb0d37da",
   "metadata": {},
   "outputs": [
    {
     "data": {
      "text/plain": [
       "area_unit\n",
       "sqft     10147\n",
       "sqm          4\n",
       "kanal        1\n",
       "Name: count, dtype: int64"
      ]
     },
     "execution_count": 5388,
     "metadata": {},
     "output_type": "execute_result"
    }
   ],
   "source": [
    "df['area_unit'].value_counts()"
   ]
  },
  {
   "cell_type": "code",
   "execution_count": 5389,
   "id": "006a06ad-31af-43b9-81e7-eb36625cc896",
   "metadata": {},
   "outputs": [
    {
     "data": {
      "text/html": [
       "<div>\n",
       "<style scoped>\n",
       "    .dataframe tbody tr th:only-of-type {\n",
       "        vertical-align: middle;\n",
       "    }\n",
       "\n",
       "    .dataframe tbody tr th {\n",
       "        vertical-align: top;\n",
       "    }\n",
       "\n",
       "    .dataframe thead th {\n",
       "        text-align: right;\n",
       "    }\n",
       "</style>\n",
       "<table border=\"1\" class=\"dataframe\">\n",
       "  <thead>\n",
       "    <tr style=\"text-align: right;\">\n",
       "      <th></th>\n",
       "      <th>id</th>\n",
       "      <th>cost_per_sqft</th>\n",
       "    </tr>\n",
       "  </thead>\n",
       "  <tbody>\n",
       "    <tr>\n",
       "      <th>6348</th>\n",
       "      <td>cardid54247801</td>\n",
       "      <td>112879.0</td>\n",
       "    </tr>\n",
       "    <tr>\n",
       "      <th>7258</th>\n",
       "      <td>cardid53926103</td>\n",
       "      <td>28289.0</td>\n",
       "    </tr>\n",
       "    <tr>\n",
       "      <th>9178</th>\n",
       "      <td>cardid72980775</td>\n",
       "      <td>30488.0</td>\n",
       "    </tr>\n",
       "    <tr>\n",
       "      <th>10168</th>\n",
       "      <td>cardid59087581</td>\n",
       "      <td>117073.0</td>\n",
       "    </tr>\n",
       "  </tbody>\n",
       "</table>\n",
       "</div>"
      ],
      "text/plain": [
       "                   id  cost_per_sqft\n",
       "6348   cardid54247801       112879.0\n",
       "7258   cardid53926103        28289.0\n",
       "9178   cardid72980775        30488.0\n",
       "10168  cardid59087581       117073.0"
      ]
     },
     "execution_count": 5389,
     "metadata": {},
     "output_type": "execute_result"
    }
   ],
   "source": [
    "df[df['area_unit']=='sqm'][['id','cost_per_sqft']]"
   ]
  },
  {
   "cell_type": "markdown",
   "id": "61c5f4bb-bc62-42b1-9b2e-a269ebd5aeb3",
   "metadata": {},
   "source": [
    "#### Observation \n",
    "- from above for sqm unit data, the cost per unit is very high 1,12,879 and if convert it into sqft then it comes in lakhs which is not correct\n",
    "- hence drop this 4 rows where unit of area is sqm\n",
    "- also only one row in kanal unit hence drop that also "
   ]
  },
  {
   "cell_type": "code",
   "execution_count": 5390,
   "id": "4b1f2144-05f0-4c5c-a46a-9ea6678eac6c",
   "metadata": {},
   "outputs": [],
   "source": [
    "#drop rows where sqm and kanal is present\n",
    "df = df[~df['area_unit'].isin(['sqm', 'kanal'])]"
   ]
  },
  {
   "cell_type": "code",
   "execution_count": 5391,
   "id": "043abe7c-5e45-4f1f-9d27-7574bed79152",
   "metadata": {},
   "outputs": [
    {
     "data": {
      "text/plain": [
       "area_unit\n",
       "sqft    10147\n",
       "Name: count, dtype: int64"
      ]
     },
     "execution_count": 5391,
     "metadata": {},
     "output_type": "execute_result"
    }
   ],
   "source": [
    "df['area_unit'].value_counts()"
   ]
  },
  {
   "cell_type": "code",
   "execution_count": 5392,
   "id": "d4984f40-0b02-412a-a68f-681919b7a035",
   "metadata": {},
   "outputs": [
    {
     "data": {
      "text/plain": [
       "(12016, 273)"
      ]
     },
     "execution_count": 5392,
     "metadata": {},
     "output_type": "execute_result"
    }
   ],
   "source": [
    "df.shape"
   ]
  },
  {
   "cell_type": "code",
   "execution_count": 5393,
   "id": "d27eacb4-bc55-4815-989d-7b1325eedd94",
   "metadata": {},
   "outputs": [
    {
     "data": {
      "text/plain": [
       "(1869, 273)"
      ]
     },
     "execution_count": 5393,
     "metadata": {},
     "output_type": "execute_result"
    }
   ],
   "source": [
    "df[df['cost_per_sqft'].isna()].shape"
   ]
  },
  {
   "cell_type": "markdown",
   "id": "e2be2852-6950-43e5-8583-71cd340591e8",
   "metadata": {},
   "source": [
    "#### Observation \n",
    "\n",
    " - 1870 carpet area values are unavailable\n",
    " - from observation found out that the carpet area values which are missing for that corresponding this 'leftmany_super built-up area','many_super built-up area' column values are present\n",
    " - also when 'leftmany_super built-up area' values are present then its corresponding 'many_super built-up area' values are not present and vice versa\n",
    " - now this columns are super built up area and not the carpet area ,so have to convert them into carpet area as majority values i.e 10152 carpet area values are available\n"
   ]
  },
  {
   "cell_type": "code",
   "execution_count": 5394,
   "id": "d1600b6d-48e6-4392-b5b6-651f06223bb3",
   "metadata": {},
   "outputs": [],
   "source": [
    "#combine_first Update null elements with value in the same location in other.\n",
    "df['super_build_area_work'] = df[\"leftmany_super built-up area\"].combine_first(df[\"many_super built-up area\"])"
   ]
  },
  {
   "cell_type": "code",
   "execution_count": 5395,
   "id": "7f711108-9845-4482-84e1-7c012d003484",
   "metadata": {},
   "outputs": [
    {
     "data": {
      "text/plain": [
       "0                                                                                                                                                NaN\n",
       "1    1905sqftsqftsqyrdsqmacrebighahectaremarlakanalbiswa1biswa2groundaankadamroodchatakkottahmarlacentperchgunthaarekathagajkillakuncham₹12,441/sqft\n",
       "2                                                                                                                                                NaN\n",
       "3                                                                                                                                                NaN\n",
       "4                                                                                                                                                NaN\n",
       "Name: super_build_area_work, dtype: object"
      ]
     },
     "execution_count": 5395,
     "metadata": {},
     "output_type": "execute_result"
    }
   ],
   "source": [
    "df['super_build_area_work'].head(5)"
   ]
  },
  {
   "cell_type": "markdown",
   "id": "58e5ae83-8c12-448e-9f21-7c606cb43375",
   "metadata": {},
   "source": [
    "### Observation\n",
    "- some super_build_area_work values have different units at the intial position and and the end"
   ]
  },
  {
   "cell_type": "code",
   "execution_count": 5396,
   "id": "f9028075-ea77-427b-b7c1-2d9502260c27",
   "metadata": {},
   "outputs": [],
   "source": [
    "#chk the units after intial digits \n",
    "df['initial_unit'] = df['super_build_area_work'].apply(lambda x: ''.join([char for char in str(x)[re.match(r'\\d+', str(x)).end():] if char.isalpha()])[:4] if isinstance(x, str) else None)"
   ]
  },
  {
   "cell_type": "code",
   "execution_count": 5397,
   "id": "e6e7691e-e0d0-4ec0-a266-385cb025bc51",
   "metadata": {},
   "outputs": [
    {
     "data": {
      "text/plain": [
       "initial_unit\n",
       "sqft    1833\n",
       "sqms       4\n",
       "sqyr       1\n",
       "Name: count, dtype: int64"
      ]
     },
     "execution_count": 5397,
     "metadata": {},
     "output_type": "execute_result"
    }
   ],
   "source": [
    "df['initial_unit'].value_counts() "
   ]
  },
  {
   "cell_type": "code",
   "execution_count": 5398,
   "id": "47d30eb4-8d3f-426f-92e5-9adf0482dc96",
   "metadata": {},
   "outputs": [],
   "source": [
    "#drop rows which has units : sqm and sqr (as there is only 5 rows) \n",
    "df = df[~df['initial_unit'].isin(['sqms', 'sqyr'])]"
   ]
  },
  {
   "cell_type": "code",
   "execution_count": 5399,
   "id": "0d7c718e-5743-471d-9599-96684f9fd48a",
   "metadata": {},
   "outputs": [
    {
     "data": {
      "text/plain": [
       "initial_unit\n",
       "sqft    1833\n",
       "Name: count, dtype: int64"
      ]
     },
     "execution_count": 5399,
     "metadata": {},
     "output_type": "execute_result"
    }
   ],
   "source": [
    "df['initial_unit'].value_counts() "
   ]
  },
  {
   "cell_type": "code",
   "execution_count": 5400,
   "id": "73f2ae49-411e-4ac1-ac4f-d00f616a4cf4",
   "metadata": {},
   "outputs": [],
   "source": [
    "#cross chk done \n",
    "# area column : Extract the initial numbers using a regex \n",
    "df[\"super_build_up_area\"] = df[\"super_build_area_work\"].apply(lambda x: float(re.match(r'([\\d,\\.]+)', x).group(1).replace(',', '')) if pd.notna(x) and re.match(r'^[\\d,\\.]+', x) else None)"
   ]
  },
  {
   "cell_type": "code",
   "execution_count": 5401,
   "id": "035a644f-8204-4f24-9d76-3af2a8434de8",
   "metadata": {},
   "outputs": [
    {
     "data": {
      "text/plain": [
       "0       NaN\n",
       "1    1905.0\n",
       "2       NaN\n",
       "3       NaN\n",
       "4       NaN\n",
       "Name: super_build_up_area, dtype: float64"
      ]
     },
     "execution_count": 5401,
     "metadata": {},
     "output_type": "execute_result"
    }
   ],
   "source": [
    "df['super_build_up_area'].head()"
   ]
  },
  {
   "cell_type": "code",
   "execution_count": 5402,
   "id": "e34642a9-8280-4634-aafa-4fdf53c7ed70",
   "metadata": {},
   "outputs": [
    {
     "data": {
      "text/plain": [
       "dtype('float64')"
      ]
     },
     "execution_count": 5402,
     "metadata": {},
     "output_type": "execute_result"
    }
   ],
   "source": [
    "df['super_build_up_area'].dtype"
   ]
  },
  {
   "cell_type": "code",
   "execution_count": 5403,
   "id": "3b527bdb-5d0e-4f35-ba1b-086b90fa8930",
   "metadata": {},
   "outputs": [
    {
     "data": {
      "text/plain": [
       "np.int64(10178)"
      ]
     },
     "execution_count": 5403,
     "metadata": {},
     "output_type": "execute_result"
    }
   ],
   "source": [
    "df['super_build_up_area'].isna().sum()"
   ]
  },
  {
   "cell_type": "code",
   "execution_count": 5404,
   "id": "53f673f9-47cb-4add-93d6-68f7efb4e5e8",
   "metadata": {},
   "outputs": [],
   "source": [
    "#cross chk done\n",
    "# area column : Extract the cost per sqft numbers using a regex \n",
    "df['super_build_up_cost_per_sqft'] = df['super_build_area_work'].str.extract(r'₹([\\d,\\.]+)')[0].str.replace(',', '').astype(float)"
   ]
  },
  {
   "cell_type": "code",
   "execution_count": 5405,
   "id": "80c1bda0-a170-4e7e-8930-12c49bc7c5ae",
   "metadata": {},
   "outputs": [
    {
     "data": {
      "text/plain": [
       "0        NaN\n",
       "1    12441.0\n",
       "2        NaN\n",
       "3        NaN\n",
       "4        NaN\n",
       "Name: super_build_up_cost_per_sqft, dtype: float64"
      ]
     },
     "execution_count": 5405,
     "metadata": {},
     "output_type": "execute_result"
    }
   ],
   "source": [
    "df['super_build_up_cost_per_sqft'].head()"
   ]
  },
  {
   "cell_type": "code",
   "execution_count": 5406,
   "id": "479d827b-0869-4de1-ac0c-3b1215d1cb3a",
   "metadata": {},
   "outputs": [
    {
     "data": {
      "text/plain": [
       "dtype('float64')"
      ]
     },
     "execution_count": 5406,
     "metadata": {},
     "output_type": "execute_result"
    }
   ],
   "source": [
    "df['super_build_up_cost_per_sqft'].dtype"
   ]
  },
  {
   "cell_type": "code",
   "execution_count": 5407,
   "id": "a982164c-45af-4fca-87e0-09f9b4642c25",
   "metadata": {},
   "outputs": [
    {
     "data": {
      "text/plain": [
       "np.int64(10178)"
      ]
     },
     "execution_count": 5407,
     "metadata": {},
     "output_type": "execute_result"
    }
   ],
   "source": [
    "df['super_build_up_cost_per_sqft'].isna().sum()"
   ]
  },
  {
   "cell_type": "code",
   "execution_count": 5408,
   "id": "4f42ddec-2ae8-414c-a672-5a3dcce264ba",
   "metadata": {},
   "outputs": [],
   "source": [
    "#cross chk done\n",
    "#extract area_unit \n",
    "df['super_built_up_area_unit'] = df['super_build_area_work'].str.extract(r'/([^/]+)$')"
   ]
  },
  {
   "cell_type": "code",
   "execution_count": 5409,
   "id": "85f829fe-2cce-47f7-9f2b-c8a13286f1aa",
   "metadata": {},
   "outputs": [
    {
     "data": {
      "text/plain": [
       "super_built_up_area_unit\n",
       "sqft    1833\n",
       "Name: count, dtype: int64"
      ]
     },
     "execution_count": 5409,
     "metadata": {},
     "output_type": "execute_result"
    }
   ],
   "source": [
    "df['super_built_up_area_unit'].value_counts()"
   ]
  },
  {
   "cell_type": "markdown",
   "id": "5940431b-9ef8-4f00-9a8f-615aeb935b16",
   "metadata": {},
   "source": [
    "### Observation \n",
    "\n",
    " - now I make one column f_area only which has this both carpet_area and super_build_up_area\n",
    " - similarly I make one column f_costpersqft which has both this  cost_per_sqft and super_build_up_cost_per_sqft\n",
    " - combine super_built_up_area_unit and area_unit"
   ]
  },
  {
   "cell_type": "code",
   "execution_count": 5410,
   "id": "9c901956-5388-40c2-90c2-b8bc9979164a",
   "metadata": {},
   "outputs": [],
   "source": [
    "#combine_first Update null elements with value in the same location in other.\n",
    "df['f_area'] = df[\"carpet_area\"].combine_first(df[\"super_build_up_area\"])"
   ]
  },
  {
   "cell_type": "code",
   "execution_count": 5411,
   "id": "0d22db89-83fc-4909-b325-f3962048974b",
   "metadata": {},
   "outputs": [],
   "source": [
    "#combine_first Update null elements with value in the same location in other.\n",
    "df['f_costpersqft'] = df[\"cost_per_sqft\"].combine_first(df[\"super_build_up_cost_per_sqft\"])"
   ]
  },
  {
   "cell_type": "code",
   "execution_count": 5412,
   "id": "87b7f378-bdc6-47c1-88f6-88b3448fb6ee",
   "metadata": {},
   "outputs": [],
   "source": [
    "#combine_first Update null elements with value in the same location in other.\n",
    "df['f_area_unit'] = df[\"super_built_up_area_unit\"].combine_first(df[\"area_unit\"])"
   ]
  },
  {
   "cell_type": "code",
   "execution_count": 5413,
   "id": "0503c1b3-c618-4161-b52d-d4fb7f983932",
   "metadata": {},
   "outputs": [],
   "source": [
    "df['f_area'] = df['f_area'].astype('float')\n",
    "df['f_costpersqft'] = df['f_costpersqft'].astype('float')"
   ]
  },
  {
   "cell_type": "code",
   "execution_count": 5414,
   "id": "08b1e54c-dab3-483d-9b8f-ff5a0bab4320",
   "metadata": {},
   "outputs": [
    {
     "data": {
      "text/plain": [
       "np.int64(30)"
      ]
     },
     "execution_count": 5414,
     "metadata": {},
     "output_type": "execute_result"
    }
   ],
   "source": [
    "df['f_area'].isna().sum()"
   ]
  },
  {
   "cell_type": "code",
   "execution_count": 5415,
   "id": "0f11bbf1-bfb8-445b-adb2-41ef5a306c72",
   "metadata": {},
   "outputs": [
    {
     "data": {
      "text/plain": [
       "np.int64(31)"
      ]
     },
     "execution_count": 5415,
     "metadata": {},
     "output_type": "execute_result"
    }
   ],
   "source": [
    "df['f_costpersqft'].isna().sum()"
   ]
  },
  {
   "cell_type": "code",
   "execution_count": 5416,
   "id": "718da7d4-4b73-45bd-a7c2-648b14c09371",
   "metadata": {},
   "outputs": [
    {
     "data": {
      "text/plain": [
       "f_area_unit\n",
       "sqft    11980\n",
       "Name: count, dtype: int64"
      ]
     },
     "execution_count": 5416,
     "metadata": {},
     "output_type": "execute_result"
    }
   ],
   "source": [
    "df['f_area_unit'].value_counts()"
   ]
  },
  {
   "cell_type": "markdown",
   "id": "51978a71-3c8e-4e12-b371-600217dea129",
   "metadata": {},
   "source": [
    "### Observation:\n",
    "\n",
    "- the 32 flats f_area and f_costpersqft data not available\n",
    "- But in the Area column there is sqft data ,after cross check the data is correct for that rows "
   ]
  },
  {
   "cell_type": "code",
   "execution_count": 5417,
   "id": "f2911ba9-df7d-48fb-92a9-1961621b0017",
   "metadata": {},
   "outputs": [],
   "source": [
    "df['dupli_f_area'] = np.where(\n",
    "    pd.isna(df['f_area']) & pd.notna(df['area']),\n",
    "    df['area'].str.extract(r'([\\d,\\.]+)')[0].str.replace(',', '').astype(float),\n",
    "    None\n",
    ")"
   ]
  },
  {
   "cell_type": "code",
   "execution_count": 5418,
   "id": "05f08abc-b89d-4407-8b70-130636321917",
   "metadata": {},
   "outputs": [
    {
     "data": {
      "text/plain": [
       "dupli_f_area\n",
       "1000.0    2\n",
       "4200.0    2\n",
       "1340.0    1\n",
       "992.0     1\n",
       "2600.0    1\n",
       "533.0     1\n",
       "2675.0    1\n",
       "3100.0    1\n",
       "2356.0    1\n",
       "1175.0    1\n",
       "2700.0    1\n",
       "760.0     1\n",
       "1665.0    1\n",
       "1400.0    1\n",
       "500.0     1\n",
       "1412.0    1\n",
       "1950.0    1\n",
       "740.0     1\n",
       "1258.0    1\n",
       "1600.0    1\n",
       "1442.0    1\n",
       "3000.0    1\n",
       "1580.0    1\n",
       "Name: count, dtype: int64"
      ]
     },
     "execution_count": 5418,
     "metadata": {},
     "output_type": "execute_result"
    }
   ],
   "source": [
    "df['dupli_f_area'].value_counts()"
   ]
  },
  {
   "cell_type": "code",
   "execution_count": 5419,
   "id": "86d46b5b-1999-43df-9478-1be621470195",
   "metadata": {},
   "outputs": [
    {
     "data": {
      "text/plain": [
       "np.int64(25)"
      ]
     },
     "execution_count": 5419,
     "metadata": {},
     "output_type": "execute_result"
    }
   ],
   "source": [
    "df['dupli_f_area'].value_counts().sum()"
   ]
  },
  {
   "cell_type": "code",
   "execution_count": 5420,
   "id": "72b0cb0b-26a2-4e51-8a81-1104bfd6c1f3",
   "metadata": {},
   "outputs": [
    {
     "data": {
      "text/plain": [
       "dtype('O')"
      ]
     },
     "execution_count": 5420,
     "metadata": {},
     "output_type": "execute_result"
    }
   ],
   "source": [
    "df['dupli_f_area'].dtype"
   ]
  },
  {
   "cell_type": "code",
   "execution_count": 5421,
   "id": "e3667ef2-e6f4-47ef-b769-1698adae79d3",
   "metadata": {},
   "outputs": [],
   "source": [
    "df['dupli_f_area_unit'] = np.where(\n",
    "    pd.isna(df['f_area']) & pd.notna(df['area']),\n",
    "    df['area'].str.extract(r'([a-zA-Z\\-]+)$')[0],\n",
    "    None\n",
    ")"
   ]
  },
  {
   "cell_type": "code",
   "execution_count": 5422,
   "id": "751b5ad4-25dd-4f33-9c33-04e3e5dffdf5",
   "metadata": {},
   "outputs": [
    {
     "data": {
      "text/plain": [
       "dupli_f_area_unit\n",
       "sq-ft    25\n",
       "Name: count, dtype: int64"
      ]
     },
     "execution_count": 5422,
     "metadata": {},
     "output_type": "execute_result"
    }
   ],
   "source": [
    "#exp\n",
    "df['dupli_f_area_unit'].value_counts()"
   ]
  },
  {
   "cell_type": "code",
   "execution_count": 5423,
   "id": "e5f7ac6b-fcc9-4fea-bb59-0e8339f5118d",
   "metadata": {},
   "outputs": [
    {
     "data": {
      "text/plain": [
       "dtype('O')"
      ]
     },
     "execution_count": 5423,
     "metadata": {},
     "output_type": "execute_result"
    }
   ],
   "source": [
    "df['dupli_f_area_unit'].dtype"
   ]
  },
  {
   "cell_type": "code",
   "execution_count": 5424,
   "id": "476b4de8-67f7-48ae-a037-04c97ab63dd6",
   "metadata": {},
   "outputs": [],
   "source": [
    "df['dupli_f_price'] = df.apply(\n",
    "    lambda row: row['f_price'] * (10**7) if pd.isna(row['f_area']) and pd.notna(row['area'])\n",
    "    else None,\n",
    "    axis=1\n",
    ")"
   ]
  },
  {
   "cell_type": "code",
   "execution_count": 5425,
   "id": "50d677e5-b38d-42e8-8d17-44f89e9c0dae",
   "metadata": {},
   "outputs": [
    {
     "data": {
      "text/plain": [
       "np.int64(25)"
      ]
     },
     "execution_count": 5425,
     "metadata": {},
     "output_type": "execute_result"
    }
   ],
   "source": [
    "df['dupli_f_price'].value_counts().sum()"
   ]
  },
  {
   "cell_type": "code",
   "execution_count": 5426,
   "id": "4bde0bae-e3ca-47aa-ac75-10dbed60c0a6",
   "metadata": {},
   "outputs": [],
   "source": [
    "df['dupli_costpersqft'] = np.round(df['dupli_f_price'].astype('float') / df['dupli_f_area'].astype('float'), 2)"
   ]
  },
  {
   "cell_type": "code",
   "execution_count": 5427,
   "id": "50ebf17d-78c3-4c2d-a41b-ffcfd30acd7f",
   "metadata": {},
   "outputs": [
    {
     "data": {
      "text/plain": [
       "dupli_costpersqft\n",
       "14328.36     1\n",
       "48000.00     1\n",
       "11088.71     1\n",
       "90476.19     1\n",
       "42307.69     1\n",
       "100000.00    1\n",
       "14071.29     1\n",
       "63551.40     1\n",
       "48387.10     1\n",
       "25254.67     1\n",
       "33191.49     1\n",
       "32000.00     1\n",
       "25740.74     1\n",
       "17763.16     1\n",
       "57057.06     1\n",
       "32142.86     1\n",
       "20000.00     1\n",
       "66005.67     1\n",
       "50000.00     1\n",
       "30945.95     1\n",
       "66136.72     1\n",
       "41250.00     1\n",
       "52011.10     1\n",
       "128500.00    1\n",
       "39240.51     1\n",
       "Name: count, dtype: int64"
      ]
     },
     "execution_count": 5427,
     "metadata": {},
     "output_type": "execute_result"
    }
   ],
   "source": [
    "df['dupli_costpersqft'].value_counts()"
   ]
  },
  {
   "cell_type": "code",
   "execution_count": 5428,
   "id": "81945742-364c-4a3c-abb0-bd44727ca293",
   "metadata": {},
   "outputs": [],
   "source": [
    "def update_values(df, update_cols, using_cols):\n",
    "    for update_col, using_col in zip(update_cols, using_cols):\n",
    "        df[update_col] = np.where(\n",
    "            pd.isna(df['f_area']) & pd.notna(df['area']),\n",
    "            df[using_col],\n",
    "            df[update_col]\n",
    "        )\n",
    "    return df\n",
    "\n",
    "# Define columns to update and corresponding columns to use\n",
    "columns_to_update = ['f_costpersqft', 'f_area_unit', 'f_area']\n",
    "using_columns = ['dupli_costpersqft', 'dupli_f_area_unit', 'dupli_f_area']\n",
    "\n",
    "# Update the DataFrame\n",
    "df = update_values(df, columns_to_update, using_columns)"
   ]
  },
  {
   "cell_type": "code",
   "execution_count": 5429,
   "id": "6de1a6be-a152-4a9d-b8d3-cf3b6f10d815",
   "metadata": {},
   "outputs": [],
   "source": [
    "# Drop columns : 'many_Carpet Area','leftmany_Carpet Area','leftmany_Super Built-up Area','many_Super Built-up Area','Area' \n",
    "df = df.drop(['many_carpet area','leftmany_carpet area','leftmany_super built-up area','many_super built-up area','area'],axis=1)"
   ]
  },
  {
   "cell_type": "code",
   "execution_count": 5430,
   "id": "66567673-3e28-40c9-9ec8-aedd7edccc9a",
   "metadata": {},
   "outputs": [],
   "source": [
    "# Drop columns : 'area_work','carpet_area','cost_per_sqft','area_unit','super_build_area_work','super_build_up_area','super_build_up_cost_per_sqft','super_built_up_area_unit','dupli_f_area','dupli_f_area_unit','dupli_f_price','dupli_costpersqft'\n",
    "df = df.drop(['area_work','carpet_area','cost_per_sqft','area_unit','initial_unit','super_build_area_work','super_build_up_area','super_build_up_cost_per_sqft','super_built_up_area_unit','dupli_f_area','dupli_f_area_unit','dupli_f_price','dupli_costpersqft','f_area_unit'],axis=1)\n"
   ]
  },
  {
   "cell_type": "code",
   "execution_count": 5431,
   "id": "ae2d7e15-d7a4-4837-86c1-95a5c03f2892",
   "metadata": {},
   "outputs": [
    {
     "data": {
      "text/html": [
       "<div>\n",
       "<style scoped>\n",
       "    .dataframe tbody tr th:only-of-type {\n",
       "        vertical-align: middle;\n",
       "    }\n",
       "\n",
       "    .dataframe tbody tr th {\n",
       "        vertical-align: top;\n",
       "    }\n",
       "\n",
       "    .dataframe thead th {\n",
       "        text-align: right;\n",
       "    }\n",
       "</style>\n",
       "<table border=\"1\" class=\"dataframe\">\n",
       "  <thead>\n",
       "    <tr style=\"text-align: right;\">\n",
       "      <th></th>\n",
       "      <th>id</th>\n",
       "      <th>@type</th>\n",
       "      <th>@id</th>\n",
       "      <th>url</th>\n",
       "      <th>numberofrooms</th>\n",
       "      <th>image</th>\n",
       "      <th>name</th>\n",
       "      <th>geo</th>\n",
       "      <th>potentialaction</th>\n",
       "      <th>address</th>\n",
       "      <th>...</th>\n",
       "      <th>am_12553</th>\n",
       "      <th>3 bhk penthouse</th>\n",
       "      <th>bath</th>\n",
       "      <th>parking</th>\n",
       "      <th>builder</th>\n",
       "      <th>project_name</th>\n",
       "      <th>furnish</th>\n",
       "      <th>f_price</th>\n",
       "      <th>f_area</th>\n",
       "      <th>f_costpersqft</th>\n",
       "    </tr>\n",
       "  </thead>\n",
       "  <tbody>\n",
       "    <tr>\n",
       "      <th>0</th>\n",
       "      <td>cardid69429251</td>\n",
       "      <td>apartment</td>\n",
       "      <td>https://www.magicbricks.com/propertydetails/2-bhk-635-sq-ft-multistorey-apartment-for-sale-pokhran-road-in-thane&amp;id=4d423639343239323531</td>\n",
       "      <td>https://www.magicbricks.com/propertydetails/2-bhk-635-sq-ft-multistorey-apartment-for-sale-pokhran-road-in-thane&amp;id=4d423639343239323531</td>\n",
       "      <td>2.0</td>\n",
       "      <td>https://img.staticmb.com/mbimages/project/photo_h310_w462/2023/04/14/project-photo-6-raymond-realty-ten-x-habitat-thane-5124557_1200_1600_310_462.jpg</td>\n",
       "      <td>2 bhk flat  for sale in  tenx habitat raymond realty, pokhran road, thane</td>\n",
       "      <td>{'@type': 'geocoordinates', 'latitude': '19.20777713', 'longitude': '72.96747907'}</td>\n",
       "      <td>{'@type': 'buyaction', 'seller': {'@type': 'organization', 'name': 'raymond realty'}}</td>\n",
       "      <td>{'@type': 'postaladdress', 'addresslocality': 'pokhran road', 'addressregion': 'thane', 'addresscountry': 'in'}</td>\n",
       "      <td>...</td>\n",
       "      <td>NaN</td>\n",
       "      <td>NaN</td>\n",
       "      <td>2.0</td>\n",
       "      <td>1.0</td>\n",
       "      <td>raymond realty</td>\n",
       "      <td>tenx habitat raymond realty</td>\n",
       "      <td>unfurnished</td>\n",
       "      <td>1.80</td>\n",
       "      <td>635.0</td>\n",
       "      <td>28346.0</td>\n",
       "    </tr>\n",
       "    <tr>\n",
       "      <th>1</th>\n",
       "      <td>cardid69427147</td>\n",
       "      <td>apartment</td>\n",
       "      <td>https://www.magicbricks.com/propertydetails/3-bhk-1905-sq-ft-multistorey-apartment-for-sale-kharghar-in-navi-mumbai&amp;id=4d423639343237313437</td>\n",
       "      <td>https://www.magicbricks.com/propertydetails/3-bhk-1905-sq-ft-multistorey-apartment-for-sale-kharghar-in-navi-mumbai&amp;id=4d423639343237313437</td>\n",
       "      <td>3.0</td>\n",
       "      <td>https://img.staticmb.com/mbimages/project/photo_h310_w462/project-photo-28-sai-world-empire-navi-mumbai-5088768_600_800_310_462.jpg</td>\n",
       "      <td>3 bhk flat  for sale in  paradise sai world empire, kharghar, navi mumbai</td>\n",
       "      <td>{'@type': 'geocoordinates', 'latitude': '19.08060457', 'longitude': '73.07393855'}</td>\n",
       "      <td>{'@type': 'buyaction', 'seller': {'@type': 'realestateagent', 'name': 'aristo real estate consultants'}}</td>\n",
       "      <td>{'@type': 'postaladdress', 'addresslocality': 'kharghar', 'addressregion': 'navi mumbai', 'addresscountry': 'in'}</td>\n",
       "      <td>...</td>\n",
       "      <td>NaN</td>\n",
       "      <td>NaN</td>\n",
       "      <td>3.0</td>\n",
       "      <td>1.0</td>\n",
       "      <td>paradise group</td>\n",
       "      <td>paradise sai world empire</td>\n",
       "      <td>unfurnished</td>\n",
       "      <td>2.37</td>\n",
       "      <td>1905.0</td>\n",
       "      <td>12441.0</td>\n",
       "    </tr>\n",
       "  </tbody>\n",
       "</table>\n",
       "<p>2 rows × 266 columns</p>\n",
       "</div>"
      ],
      "text/plain": [
       "               id      @type  \\\n",
       "0  cardid69429251  apartment   \n",
       "1  cardid69427147  apartment   \n",
       "\n",
       "                                                                                                                                           @id  \\\n",
       "0     https://www.magicbricks.com/propertydetails/2-bhk-635-sq-ft-multistorey-apartment-for-sale-pokhran-road-in-thane&id=4d423639343239323531   \n",
       "1  https://www.magicbricks.com/propertydetails/3-bhk-1905-sq-ft-multistorey-apartment-for-sale-kharghar-in-navi-mumbai&id=4d423639343237313437   \n",
       "\n",
       "                                                                                                                                           url  \\\n",
       "0     https://www.magicbricks.com/propertydetails/2-bhk-635-sq-ft-multistorey-apartment-for-sale-pokhran-road-in-thane&id=4d423639343239323531   \n",
       "1  https://www.magicbricks.com/propertydetails/3-bhk-1905-sq-ft-multistorey-apartment-for-sale-kharghar-in-navi-mumbai&id=4d423639343237313437   \n",
       "\n",
       "   numberofrooms  \\\n",
       "0            2.0   \n",
       "1            3.0   \n",
       "\n",
       "                                                                                                                                                   image  \\\n",
       "0  https://img.staticmb.com/mbimages/project/photo_h310_w462/2023/04/14/project-photo-6-raymond-realty-ten-x-habitat-thane-5124557_1200_1600_310_462.jpg   \n",
       "1                    https://img.staticmb.com/mbimages/project/photo_h310_w462/project-photo-28-sai-world-empire-navi-mumbai-5088768_600_800_310_462.jpg   \n",
       "\n",
       "                                                                        name  \\\n",
       "0  2 bhk flat  for sale in  tenx habitat raymond realty, pokhran road, thane   \n",
       "1  3 bhk flat  for sale in  paradise sai world empire, kharghar, navi mumbai   \n",
       "\n",
       "                                                                                  geo  \\\n",
       "0  {'@type': 'geocoordinates', 'latitude': '19.20777713', 'longitude': '72.96747907'}   \n",
       "1  {'@type': 'geocoordinates', 'latitude': '19.08060457', 'longitude': '73.07393855'}   \n",
       "\n",
       "                                                                                            potentialaction  \\\n",
       "0                     {'@type': 'buyaction', 'seller': {'@type': 'organization', 'name': 'raymond realty'}}   \n",
       "1  {'@type': 'buyaction', 'seller': {'@type': 'realestateagent', 'name': 'aristo real estate consultants'}}   \n",
       "\n",
       "                                                                                                             address  \\\n",
       "0    {'@type': 'postaladdress', 'addresslocality': 'pokhran road', 'addressregion': 'thane', 'addresscountry': 'in'}   \n",
       "1  {'@type': 'postaladdress', 'addresslocality': 'kharghar', 'addressregion': 'navi mumbai', 'addresscountry': 'in'}   \n",
       "\n",
       "   ... am_12553 3 bhk penthouse bath parking         builder  \\\n",
       "0  ...      NaN             NaN  2.0     1.0  raymond realty   \n",
       "1  ...      NaN             NaN  3.0     1.0  paradise group   \n",
       "\n",
       "                  project_name      furnish f_price  f_area f_costpersqft  \n",
       "0  tenx habitat raymond realty  unfurnished    1.80   635.0       28346.0  \n",
       "1    paradise sai world empire  unfurnished    2.37  1905.0       12441.0  \n",
       "\n",
       "[2 rows x 266 columns]"
      ]
     },
     "execution_count": 5431,
     "metadata": {},
     "output_type": "execute_result"
    }
   ],
   "source": [
    "df.head(2)"
   ]
  },
  {
   "cell_type": "code",
   "execution_count": 5432,
   "id": "6155e567-5ac2-409d-bc0d-10bf144a9875",
   "metadata": {},
   "outputs": [],
   "source": [
    "#df41 = df[['ID','url','name','f_area','f_costpersqft','f_price','f_area_unit']]\n",
    "\n",
    "#for observation make this excel\n",
    "\n",
    "#df41.to_excel('chk41.xlsx')"
   ]
  },
  {
   "cell_type": "markdown",
   "id": "93799d64-f5ac-4dcb-893a-6b938d2ff496",
   "metadata": {},
   "source": [
    "### Obsevation\n",
    "- on excel I have done this \n",
    "(f_Area * f_costpersqft)/10000000 from this I got price of the flat and I compare this with the actual price of theflat which is f_price and I found some properties khave cosiderable difference \n",
    "- note that I have chk that all in sqft only \n",
    "- so that properties ID is below \n",
    "'cardid70615879','cardid69687711','cardid71143703','cardid72821117','cardid66762427','cardid72819785'"
   ]
  },
  {
   "cell_type": "code",
   "execution_count": 5433,
   "id": "bd298518-d6db-493f-aa49-945973d7918d",
   "metadata": {},
   "outputs": [
    {
     "data": {
      "text/plain": [
       "(12011, 266)"
      ]
     },
     "execution_count": 5433,
     "metadata": {},
     "output_type": "execute_result"
    }
   ],
   "source": [
    "df.shape"
   ]
  },
  {
   "cell_type": "code",
   "execution_count": 5434,
   "id": "3884ab30-60ef-47da-91f9-5d43350f3198",
   "metadata": {},
   "outputs": [
    {
     "data": {
      "text/plain": [
       "0     635.0\n",
       "1    1905.0\n",
       "2     623.0\n",
       "3     702.0\n",
       "4     608.0\n",
       "Name: f_area, dtype: object"
      ]
     },
     "execution_count": 5434,
     "metadata": {},
     "output_type": "execute_result"
    }
   ],
   "source": [
    "df['f_area'].head()"
   ]
  },
  {
   "cell_type": "code",
   "execution_count": 5435,
   "id": "86c4504f-667e-444d-99d4-4a960b8d40a4",
   "metadata": {},
   "outputs": [
    {
     "data": {
      "text/plain": [
       "0    1.80\n",
       "1    2.37\n",
       "2    1.80\n",
       "3    1.64\n",
       "4    1.26\n",
       "Name: f_price, dtype: float64"
      ]
     },
     "execution_count": 5435,
     "metadata": {},
     "output_type": "execute_result"
    }
   ],
   "source": [
    "df['f_price'].head()"
   ]
  },
  {
   "cell_type": "code",
   "execution_count": 5436,
   "id": "1ca65659-77f5-4b19-9a72-627be8b4d3fa",
   "metadata": {},
   "outputs": [
    {
     "data": {
      "image/png": "[encoded data removed]",
      "text/plain": [
       "<Figure size 640x480 with 1 Axes>"
      ]
     },
     "metadata": {},
     "output_type": "display_data"
    }
   ],
   "source": [
    "import seaborn as sns\n",
    "import matplotlib.pyplot as plt\n",
    "\n",
    "# Example\n",
    "sns.scatterplot(x=df['f_area'], y=df['f_price'])\n",
    "plt.xlabel('Floor Area')\n",
    "plt.ylabel('Price')\n",
    "plt.title('Scatterplot of Floor Area vs Price')\n",
    "plt.show()"
   ]
  },
  {
   "cell_type": "markdown",
   "id": "c89d61ae-8d1e-476a-832b-1f6e4308aeb1",
   "metadata": {},
   "source": [
    "# property_type : New property, Resale, Rent, Other"
   ]
  },
  {
   "cell_type": "markdown",
   "id": "57f6054b-a406-4ff0-9933-c355ba2f6601",
   "metadata": {},
   "source": [
    "### Observation\n",
    "-  have this columns -> 'many_transaction type','leftmany_transaction type'\n",
    "-  when 'many_Transaction type' values are present then its corresponding 'leftmany_Transaction type' values are not present and vice versa"
   ]
  },
  {
   "cell_type": "code",
   "execution_count": 5437,
   "id": "222d02ce-a76a-4179-9d4b-a59fe17af74c",
   "metadata": {},
   "outputs": [
    {
     "data": {
      "text/html": [
       "<div>\n",
       "<style scoped>\n",
       "    .dataframe tbody tr th:only-of-type {\n",
       "        vertical-align: middle;\n",
       "    }\n",
       "\n",
       "    .dataframe tbody tr th {\n",
       "        vertical-align: top;\n",
       "    }\n",
       "\n",
       "    .dataframe thead th {\n",
       "        text-align: right;\n",
       "    }\n",
       "</style>\n",
       "<table border=\"1\" class=\"dataframe\">\n",
       "  <thead>\n",
       "    <tr style=\"text-align: right;\">\n",
       "      <th></th>\n",
       "      <th>many_transaction type</th>\n",
       "      <th>leftmany_transaction type</th>\n",
       "    </tr>\n",
       "  </thead>\n",
       "  <tbody>\n",
       "    <tr>\n",
       "      <th>0</th>\n",
       "      <td>new property</td>\n",
       "      <td>NaN</td>\n",
       "    </tr>\n",
       "    <tr>\n",
       "      <th>1</th>\n",
       "      <td>NaN</td>\n",
       "      <td>new property</td>\n",
       "    </tr>\n",
       "    <tr>\n",
       "      <th>2</th>\n",
       "      <td>new property</td>\n",
       "      <td>NaN</td>\n",
       "    </tr>\n",
       "    <tr>\n",
       "      <th>3</th>\n",
       "      <td>new property</td>\n",
       "      <td>NaN</td>\n",
       "    </tr>\n",
       "    <tr>\n",
       "      <th>4</th>\n",
       "      <td>new property</td>\n",
       "      <td>NaN</td>\n",
       "    </tr>\n",
       "  </tbody>\n",
       "</table>\n",
       "</div>"
      ],
      "text/plain": [
       "  many_transaction type leftmany_transaction type\n",
       "0          new property                       NaN\n",
       "1                   NaN              new property\n",
       "2          new property                       NaN\n",
       "3          new property                       NaN\n",
       "4          new property                       NaN"
      ]
     },
     "execution_count": 5437,
     "metadata": {},
     "output_type": "execute_result"
    }
   ],
   "source": [
    "df[['many_transaction type','leftmany_transaction type']].head()"
   ]
  },
  {
   "cell_type": "code",
   "execution_count": 5438,
   "id": "f3a71ea0-b933-4866-9d3b-30236e8cd8e5",
   "metadata": {},
   "outputs": [],
   "source": [
    "#combine_first Update null elements with value in the same location in other.\n",
    "df['property_type'] = df[\"many_transaction type\"].combine_first(df[\"leftmany_transaction type\"])"
   ]
  },
  {
   "cell_type": "code",
   "execution_count": 5439,
   "id": "c05d43c7-8fc1-4b6b-afe3-2474073fae62",
   "metadata": {},
   "outputs": [
    {
     "data": {
      "text/plain": [
       "property_type\n",
       "resale          6823\n",
       "new property    5177\n",
       "other              7\n",
       "rent               1\n",
       "Name: count, dtype: int64"
      ]
     },
     "execution_count": 5439,
     "metadata": {},
     "output_type": "execute_result"
    }
   ],
   "source": [
    "df['property_type'].value_counts()"
   ]
  },
  {
   "cell_type": "code",
   "execution_count": 5440,
   "id": "6d3cad99-31a1-4536-aabc-c7ea7041139b",
   "metadata": {},
   "outputs": [
    {
     "data": {
      "text/plain": [
       "np.int64(3)"
      ]
     },
     "execution_count": 5440,
     "metadata": {},
     "output_type": "execute_result"
    }
   ],
   "source": [
    "df['property_type'].isna().sum()"
   ]
  },
  {
   "cell_type": "code",
   "execution_count": 5441,
   "id": "445e1169-3c99-49bb-b1a9-e7007d9c332d",
   "metadata": {},
   "outputs": [],
   "source": [
    "# Drop columns : 'many_Transaction type','leftmany_Transaction type'\n",
    "df = df.drop(['many_transaction type','leftmany_transaction type'],axis=1)"
   ]
  },
  {
   "cell_type": "code",
   "execution_count": 5442,
   "id": "8a049e95-15d4-4ab1-88c2-6ffcfcbaf169",
   "metadata": {},
   "outputs": [
    {
     "data": {
      "text/html": [
       "<div>\n",
       "<style scoped>\n",
       "    .dataframe tbody tr th:only-of-type {\n",
       "        vertical-align: middle;\n",
       "    }\n",
       "\n",
       "    .dataframe tbody tr th {\n",
       "        vertical-align: top;\n",
       "    }\n",
       "\n",
       "    .dataframe thead th {\n",
       "        text-align: right;\n",
       "    }\n",
       "</style>\n",
       "<table border=\"1\" class=\"dataframe\">\n",
       "  <thead>\n",
       "    <tr style=\"text-align: right;\">\n",
       "      <th></th>\n",
       "      <th>id</th>\n",
       "      <th>@type</th>\n",
       "      <th>@id</th>\n",
       "      <th>url</th>\n",
       "      <th>numberofrooms</th>\n",
       "      <th>image</th>\n",
       "      <th>name</th>\n",
       "      <th>geo</th>\n",
       "      <th>potentialaction</th>\n",
       "      <th>address</th>\n",
       "      <th>...</th>\n",
       "      <th>3 bhk penthouse</th>\n",
       "      <th>bath</th>\n",
       "      <th>parking</th>\n",
       "      <th>builder</th>\n",
       "      <th>project_name</th>\n",
       "      <th>furnish</th>\n",
       "      <th>f_price</th>\n",
       "      <th>f_area</th>\n",
       "      <th>f_costpersqft</th>\n",
       "      <th>property_type</th>\n",
       "    </tr>\n",
       "  </thead>\n",
       "  <tbody>\n",
       "    <tr>\n",
       "      <th>0</th>\n",
       "      <td>cardid69429251</td>\n",
       "      <td>apartment</td>\n",
       "      <td>https://www.magicbricks.com/propertydetails/2-bhk-635-sq-ft-multistorey-apartment-for-sale-pokhran-road-in-thane&amp;id=4d423639343239323531</td>\n",
       "      <td>https://www.magicbricks.com/propertydetails/2-bhk-635-sq-ft-multistorey-apartment-for-sale-pokhran-road-in-thane&amp;id=4d423639343239323531</td>\n",
       "      <td>2.0</td>\n",
       "      <td>https://img.staticmb.com/mbimages/project/photo_h310_w462/2023/04/14/project-photo-6-raymond-realty-ten-x-habitat-thane-5124557_1200_1600_310_462.jpg</td>\n",
       "      <td>2 bhk flat  for sale in  tenx habitat raymond realty, pokhran road, thane</td>\n",
       "      <td>{'@type': 'geocoordinates', 'latitude': '19.20777713', 'longitude': '72.96747907'}</td>\n",
       "      <td>{'@type': 'buyaction', 'seller': {'@type': 'organization', 'name': 'raymond realty'}}</td>\n",
       "      <td>{'@type': 'postaladdress', 'addresslocality': 'pokhran road', 'addressregion': 'thane', 'addresscountry': 'in'}</td>\n",
       "      <td>...</td>\n",
       "      <td>NaN</td>\n",
       "      <td>2.0</td>\n",
       "      <td>1.0</td>\n",
       "      <td>raymond realty</td>\n",
       "      <td>tenx habitat raymond realty</td>\n",
       "      <td>unfurnished</td>\n",
       "      <td>1.80</td>\n",
       "      <td>635.0</td>\n",
       "      <td>28346.0</td>\n",
       "      <td>new property</td>\n",
       "    </tr>\n",
       "    <tr>\n",
       "      <th>1</th>\n",
       "      <td>cardid69427147</td>\n",
       "      <td>apartment</td>\n",
       "      <td>https://www.magicbricks.com/propertydetails/3-bhk-1905-sq-ft-multistorey-apartment-for-sale-kharghar-in-navi-mumbai&amp;id=4d423639343237313437</td>\n",
       "      <td>https://www.magicbricks.com/propertydetails/3-bhk-1905-sq-ft-multistorey-apartment-for-sale-kharghar-in-navi-mumbai&amp;id=4d423639343237313437</td>\n",
       "      <td>3.0</td>\n",
       "      <td>https://img.staticmb.com/mbimages/project/photo_h310_w462/project-photo-28-sai-world-empire-navi-mumbai-5088768_600_800_310_462.jpg</td>\n",
       "      <td>3 bhk flat  for sale in  paradise sai world empire, kharghar, navi mumbai</td>\n",
       "      <td>{'@type': 'geocoordinates', 'latitude': '19.08060457', 'longitude': '73.07393855'}</td>\n",
       "      <td>{'@type': 'buyaction', 'seller': {'@type': 'realestateagent', 'name': 'aristo real estate consultants'}}</td>\n",
       "      <td>{'@type': 'postaladdress', 'addresslocality': 'kharghar', 'addressregion': 'navi mumbai', 'addresscountry': 'in'}</td>\n",
       "      <td>...</td>\n",
       "      <td>NaN</td>\n",
       "      <td>3.0</td>\n",
       "      <td>1.0</td>\n",
       "      <td>paradise group</td>\n",
       "      <td>paradise sai world empire</td>\n",
       "      <td>unfurnished</td>\n",
       "      <td>2.37</td>\n",
       "      <td>1905.0</td>\n",
       "      <td>12441.0</td>\n",
       "      <td>new property</td>\n",
       "    </tr>\n",
       "  </tbody>\n",
       "</table>\n",
       "<p>2 rows × 265 columns</p>\n",
       "</div>"
      ],
      "text/plain": [
       "               id      @type  \\\n",
       "0  cardid69429251  apartment   \n",
       "1  cardid69427147  apartment   \n",
       "\n",
       "                                                                                                                                           @id  \\\n",
       "0     https://www.magicbricks.com/propertydetails/2-bhk-635-sq-ft-multistorey-apartment-for-sale-pokhran-road-in-thane&id=4d423639343239323531   \n",
       "1  https://www.magicbricks.com/propertydetails/3-bhk-1905-sq-ft-multistorey-apartment-for-sale-kharghar-in-navi-mumbai&id=4d423639343237313437   \n",
       "\n",
       "                                                                                                                                           url  \\\n",
       "0     https://www.magicbricks.com/propertydetails/2-bhk-635-sq-ft-multistorey-apartment-for-sale-pokhran-road-in-thane&id=4d423639343239323531   \n",
       "1  https://www.magicbricks.com/propertydetails/3-bhk-1905-sq-ft-multistorey-apartment-for-sale-kharghar-in-navi-mumbai&id=4d423639343237313437   \n",
       "\n",
       "   numberofrooms  \\\n",
       "0            2.0   \n",
       "1            3.0   \n",
       "\n",
       "                                                                                                                                                   image  \\\n",
       "0  https://img.staticmb.com/mbimages/project/photo_h310_w462/2023/04/14/project-photo-6-raymond-realty-ten-x-habitat-thane-5124557_1200_1600_310_462.jpg   \n",
       "1                    https://img.staticmb.com/mbimages/project/photo_h310_w462/project-photo-28-sai-world-empire-navi-mumbai-5088768_600_800_310_462.jpg   \n",
       "\n",
       "                                                                        name  \\\n",
       "0  2 bhk flat  for sale in  tenx habitat raymond realty, pokhran road, thane   \n",
       "1  3 bhk flat  for sale in  paradise sai world empire, kharghar, navi mumbai   \n",
       "\n",
       "                                                                                  geo  \\\n",
       "0  {'@type': 'geocoordinates', 'latitude': '19.20777713', 'longitude': '72.96747907'}   \n",
       "1  {'@type': 'geocoordinates', 'latitude': '19.08060457', 'longitude': '73.07393855'}   \n",
       "\n",
       "                                                                                            potentialaction  \\\n",
       "0                     {'@type': 'buyaction', 'seller': {'@type': 'organization', 'name': 'raymond realty'}}   \n",
       "1  {'@type': 'buyaction', 'seller': {'@type': 'realestateagent', 'name': 'aristo real estate consultants'}}   \n",
       "\n",
       "                                                                                                             address  \\\n",
       "0    {'@type': 'postaladdress', 'addresslocality': 'pokhran road', 'addressregion': 'thane', 'addresscountry': 'in'}   \n",
       "1  {'@type': 'postaladdress', 'addresslocality': 'kharghar', 'addressregion': 'navi mumbai', 'addresscountry': 'in'}   \n",
       "\n",
       "   ... 3 bhk penthouse bath parking         builder  \\\n",
       "0  ...             NaN  2.0     1.0  raymond realty   \n",
       "1  ...             NaN  3.0     1.0  paradise group   \n",
       "\n",
       "                  project_name      furnish f_price  f_area f_costpersqft  \\\n",
       "0  tenx habitat raymond realty  unfurnished    1.80   635.0       28346.0   \n",
       "1    paradise sai world empire  unfurnished    2.37  1905.0       12441.0   \n",
       "\n",
       "  property_type  \n",
       "0  new property  \n",
       "1  new property  \n",
       "\n",
       "[2 rows x 265 columns]"
      ]
     },
     "execution_count": 5442,
     "metadata": {},
     "output_type": "execute_result"
    }
   ],
   "source": [
    "df.head(2)"
   ]
  },
  {
   "cell_type": "code",
   "execution_count": 5443,
   "id": "246ea3a7-322a-4be4-b4fd-6fdd410d2fa4",
   "metadata": {},
   "outputs": [
    {
     "data": {
      "text/plain": [
       "(12011, 265)"
      ]
     },
     "execution_count": 5443,
     "metadata": {},
     "output_type": "execute_result"
    }
   ],
   "source": [
    "df.shape"
   ]
  },
  {
   "cell_type": "markdown",
   "id": "b7cfa176-9212-428d-af97-4a9c4a0fda3b",
   "metadata": {},
   "source": [
    "# ownership"
   ]
  },
  {
   "cell_type": "markdown",
   "id": "27b58a53-76be-4731-bf41-cd3adde1c02d",
   "metadata": {},
   "source": [
    "### Observation\n",
    "-  columns:  'md_type of ownership', 'many_type of ownership' ,'leftmany_type of ownership'\n",
    "-  the values which are present in the 'md_type of ownership' column at the corresponding place values present in the 'many_type of ownership' and 'leftmany_type of ownership' also hence drop both this 'many_type of ownership' ,'leftmany_type of ownership' columns\n",
    "\n",
    "1. **Freehold**: The owner has complete ownership of the property and the land it stands on, with no time limit. They can sell, transfer, or modify it without restrictions.\n",
    "\n",
    "2. **Co-operative Society**: Ownership is collective. Residents form a society, and members own shares in it, giving them the right to reside in a unit but not outright ownership of the property.\n",
    "\n",
    "3. **Leasehold**: The property is leased for a specific period (e.g., 99 years). Ownership remains with the lessor, and the lessee pays rent or a lease fee.\n",
    "\n",
    "4. **Power of Attorney (POA)**: A legal authorization that allows an individual to act on behalf of the property owner. It’s often used for property transactions but doesn't equate to ownership."
   ]
  },
  {
   "cell_type": "code",
   "execution_count": 5444,
   "id": "4b9cad79-ed6a-494a-9d59-278b7ae890cd",
   "metadata": {},
   "outputs": [
    {
     "data": {
      "text/plain": [
       "md_type of ownership\n",
       "freehold                5952\n",
       "co-operative society    2044\n",
       "leasehold                317\n",
       "power of attorney         28\n",
       "Name: count, dtype: int64"
      ]
     },
     "execution_count": 5444,
     "metadata": {},
     "output_type": "execute_result"
    }
   ],
   "source": [
    "df['md_type of ownership'].value_counts()"
   ]
  },
  {
   "cell_type": "code",
   "execution_count": 5445,
   "id": "5c64cc52-4526-41dd-a76e-27925585e45c",
   "metadata": {},
   "outputs": [],
   "source": [
    "df = df.rename(columns={'md_type of ownership': 'ownership'})"
   ]
  },
  {
   "cell_type": "code",
   "execution_count": 5446,
   "id": "b2cd8238-3622-4e7e-98b4-360025fe0332",
   "metadata": {},
   "outputs": [],
   "source": [
    "# Drop columns : 'many_type of ownership' ,'leftmany_type of ownership'\n",
    "df = df.drop(['many_type of ownership' ,'leftmany_type of ownership'],axis=1)"
   ]
  },
  {
   "cell_type": "markdown",
   "id": "bf0c8088-5f25-4607-99f1-7b58f89f7563",
   "metadata": {},
   "source": [
    "# status"
   ]
  },
  {
   "cell_type": "markdown",
   "id": "67a5370e-8158-471e-8b97-f22f9d4c5f27",
   "metadata": {},
   "source": [
    "### Observation\n",
    "-  columns: 'many_status', 'leftmany_status'\n",
    "-  when 'many_status' values are present then its corresponding 'leftmany_status' values are not present and vice versa"
   ]
  },
  {
   "cell_type": "code",
   "execution_count": 5447,
   "id": "1b075460-613e-41bc-bf1c-9b34df21a777",
   "metadata": {},
   "outputs": [],
   "source": [
    "#combine_first Update null elements with value in the same location in other.\n",
    "df['status'] = df['many_status'].combine_first(df['leftmany_status'])"
   ]
  },
  {
   "cell_type": "code",
   "execution_count": 5448,
   "id": "bd2fb27b-5d4f-4a40-8bf2-d835097d3fca",
   "metadata": {},
   "outputs": [
    {
     "data": {
      "text/plain": [
       "status\n",
       "ready to move         7355\n",
       "under construction     589\n",
       "ongoing                  3\n",
       "immediately              1\n",
       "Name: count, dtype: int64"
      ]
     },
     "execution_count": 5448,
     "metadata": {},
     "output_type": "execute_result"
    }
   ],
   "source": [
    "df['status'].value_counts()"
   ]
  },
  {
   "cell_type": "code",
   "execution_count": 5449,
   "id": "2ac32b09-e9d8-427c-8a03-9b56371944c3",
   "metadata": {},
   "outputs": [],
   "source": [
    "df['status'] = df['status'].str.lower()"
   ]
  },
  {
   "cell_type": "code",
   "execution_count": 5450,
   "id": "6b77cb59-f35d-4698-98d3-77b44a0f6171",
   "metadata": {},
   "outputs": [
    {
     "data": {
      "text/plain": [
       "status\n",
       "ready to move         7355\n",
       "under construction     589\n",
       "ongoing                  3\n",
       "immediately              1\n",
       "Name: count, dtype: int64"
      ]
     },
     "execution_count": 5450,
     "metadata": {},
     "output_type": "execute_result"
    }
   ],
   "source": [
    "df['status'].value_counts()"
   ]
  },
  {
   "cell_type": "code",
   "execution_count": 5451,
   "id": "483c2c6b-56e2-48da-8065-1bb6b1952180",
   "metadata": {},
   "outputs": [
    {
     "data": {
      "text/html": [
       "<div>\n",
       "<style scoped>\n",
       "    .dataframe tbody tr th:only-of-type {\n",
       "        vertical-align: middle;\n",
       "    }\n",
       "\n",
       "    .dataframe tbody tr th {\n",
       "        vertical-align: top;\n",
       "    }\n",
       "\n",
       "    .dataframe thead th {\n",
       "        text-align: right;\n",
       "    }\n",
       "</style>\n",
       "<table border=\"1\" class=\"dataframe\">\n",
       "  <thead>\n",
       "    <tr style=\"text-align: right;\">\n",
       "      <th></th>\n",
       "      <th>id</th>\n",
       "      <th>@type</th>\n",
       "      <th>@id</th>\n",
       "      <th>url</th>\n",
       "      <th>numberofrooms</th>\n",
       "      <th>image</th>\n",
       "      <th>name</th>\n",
       "      <th>geo</th>\n",
       "      <th>potentialaction</th>\n",
       "      <th>address</th>\n",
       "      <th>...</th>\n",
       "      <th>bath</th>\n",
       "      <th>parking</th>\n",
       "      <th>builder</th>\n",
       "      <th>project_name</th>\n",
       "      <th>furnish</th>\n",
       "      <th>f_price</th>\n",
       "      <th>f_area</th>\n",
       "      <th>f_costpersqft</th>\n",
       "      <th>property_type</th>\n",
       "      <th>status</th>\n",
       "    </tr>\n",
       "  </thead>\n",
       "  <tbody>\n",
       "    <tr>\n",
       "      <th>0</th>\n",
       "      <td>cardid69429251</td>\n",
       "      <td>apartment</td>\n",
       "      <td>https://www.magicbricks.com/propertydetails/2-bhk-635-sq-ft-multistorey-apartment-for-sale-pokhran-road-in-thane&amp;id=4d423639343239323531</td>\n",
       "      <td>https://www.magicbricks.com/propertydetails/2-bhk-635-sq-ft-multistorey-apartment-for-sale-pokhran-road-in-thane&amp;id=4d423639343239323531</td>\n",
       "      <td>2.0</td>\n",
       "      <td>https://img.staticmb.com/mbimages/project/photo_h310_w462/2023/04/14/project-photo-6-raymond-realty-ten-x-habitat-thane-5124557_1200_1600_310_462.jpg</td>\n",
       "      <td>2 bhk flat  for sale in  tenx habitat raymond realty, pokhran road, thane</td>\n",
       "      <td>{'@type': 'geocoordinates', 'latitude': '19.20777713', 'longitude': '72.96747907'}</td>\n",
       "      <td>{'@type': 'buyaction', 'seller': {'@type': 'organization', 'name': 'raymond realty'}}</td>\n",
       "      <td>{'@type': 'postaladdress', 'addresslocality': 'pokhran road', 'addressregion': 'thane', 'addresscountry': 'in'}</td>\n",
       "      <td>...</td>\n",
       "      <td>2.0</td>\n",
       "      <td>1.0</td>\n",
       "      <td>raymond realty</td>\n",
       "      <td>tenx habitat raymond realty</td>\n",
       "      <td>unfurnished</td>\n",
       "      <td>1.80</td>\n",
       "      <td>635.0</td>\n",
       "      <td>28346.0</td>\n",
       "      <td>new property</td>\n",
       "      <td>under construction</td>\n",
       "    </tr>\n",
       "    <tr>\n",
       "      <th>1</th>\n",
       "      <td>cardid69427147</td>\n",
       "      <td>apartment</td>\n",
       "      <td>https://www.magicbricks.com/propertydetails/3-bhk-1905-sq-ft-multistorey-apartment-for-sale-kharghar-in-navi-mumbai&amp;id=4d423639343237313437</td>\n",
       "      <td>https://www.magicbricks.com/propertydetails/3-bhk-1905-sq-ft-multistorey-apartment-for-sale-kharghar-in-navi-mumbai&amp;id=4d423639343237313437</td>\n",
       "      <td>3.0</td>\n",
       "      <td>https://img.staticmb.com/mbimages/project/photo_h310_w462/project-photo-28-sai-world-empire-navi-mumbai-5088768_600_800_310_462.jpg</td>\n",
       "      <td>3 bhk flat  for sale in  paradise sai world empire, kharghar, navi mumbai</td>\n",
       "      <td>{'@type': 'geocoordinates', 'latitude': '19.08060457', 'longitude': '73.07393855'}</td>\n",
       "      <td>{'@type': 'buyaction', 'seller': {'@type': 'realestateagent', 'name': 'aristo real estate consultants'}}</td>\n",
       "      <td>{'@type': 'postaladdress', 'addresslocality': 'kharghar', 'addressregion': 'navi mumbai', 'addresscountry': 'in'}</td>\n",
       "      <td>...</td>\n",
       "      <td>3.0</td>\n",
       "      <td>1.0</td>\n",
       "      <td>paradise group</td>\n",
       "      <td>paradise sai world empire</td>\n",
       "      <td>unfurnished</td>\n",
       "      <td>2.37</td>\n",
       "      <td>1905.0</td>\n",
       "      <td>12441.0</td>\n",
       "      <td>new property</td>\n",
       "      <td>under construction</td>\n",
       "    </tr>\n",
       "  </tbody>\n",
       "</table>\n",
       "<p>2 rows × 264 columns</p>\n",
       "</div>"
      ],
      "text/plain": [
       "               id      @type  \\\n",
       "0  cardid69429251  apartment   \n",
       "1  cardid69427147  apartment   \n",
       "\n",
       "                                                                                                                                           @id  \\\n",
       "0     https://www.magicbricks.com/propertydetails/2-bhk-635-sq-ft-multistorey-apartment-for-sale-pokhran-road-in-thane&id=4d423639343239323531   \n",
       "1  https://www.magicbricks.com/propertydetails/3-bhk-1905-sq-ft-multistorey-apartment-for-sale-kharghar-in-navi-mumbai&id=4d423639343237313437   \n",
       "\n",
       "                                                                                                                                           url  \\\n",
       "0     https://www.magicbricks.com/propertydetails/2-bhk-635-sq-ft-multistorey-apartment-for-sale-pokhran-road-in-thane&id=4d423639343239323531   \n",
       "1  https://www.magicbricks.com/propertydetails/3-bhk-1905-sq-ft-multistorey-apartment-for-sale-kharghar-in-navi-mumbai&id=4d423639343237313437   \n",
       "\n",
       "   numberofrooms  \\\n",
       "0            2.0   \n",
       "1            3.0   \n",
       "\n",
       "                                                                                                                                                   image  \\\n",
       "0  https://img.staticmb.com/mbimages/project/photo_h310_w462/2023/04/14/project-photo-6-raymond-realty-ten-x-habitat-thane-5124557_1200_1600_310_462.jpg   \n",
       "1                    https://img.staticmb.com/mbimages/project/photo_h310_w462/project-photo-28-sai-world-empire-navi-mumbai-5088768_600_800_310_462.jpg   \n",
       "\n",
       "                                                                        name  \\\n",
       "0  2 bhk flat  for sale in  tenx habitat raymond realty, pokhran road, thane   \n",
       "1  3 bhk flat  for sale in  paradise sai world empire, kharghar, navi mumbai   \n",
       "\n",
       "                                                                                  geo  \\\n",
       "0  {'@type': 'geocoordinates', 'latitude': '19.20777713', 'longitude': '72.96747907'}   \n",
       "1  {'@type': 'geocoordinates', 'latitude': '19.08060457', 'longitude': '73.07393855'}   \n",
       "\n",
       "                                                                                            potentialaction  \\\n",
       "0                     {'@type': 'buyaction', 'seller': {'@type': 'organization', 'name': 'raymond realty'}}   \n",
       "1  {'@type': 'buyaction', 'seller': {'@type': 'realestateagent', 'name': 'aristo real estate consultants'}}   \n",
       "\n",
       "                                                                                                             address  \\\n",
       "0    {'@type': 'postaladdress', 'addresslocality': 'pokhran road', 'addressregion': 'thane', 'addresscountry': 'in'}   \n",
       "1  {'@type': 'postaladdress', 'addresslocality': 'kharghar', 'addressregion': 'navi mumbai', 'addresscountry': 'in'}   \n",
       "\n",
       "   ... bath parking         builder                 project_name      furnish  \\\n",
       "0  ...  2.0     1.0  raymond realty  tenx habitat raymond realty  unfurnished   \n",
       "1  ...  3.0     1.0  paradise group    paradise sai world empire  unfurnished   \n",
       "\n",
       "  f_price  f_area f_costpersqft property_type              status  \n",
       "0    1.80   635.0       28346.0  new property  under construction  \n",
       "1    2.37  1905.0       12441.0  new property  under construction  \n",
       "\n",
       "[2 rows x 264 columns]"
      ]
     },
     "execution_count": 5451,
     "metadata": {},
     "output_type": "execute_result"
    }
   ],
   "source": [
    "df.head(2)"
   ]
  },
  {
   "cell_type": "code",
   "execution_count": 5452,
   "id": "15263f4f-0127-4c23-9a72-24b2826360c7",
   "metadata": {},
   "outputs": [],
   "source": [
    "# Drop columns : 'many_Status', 'leftmany_Status'\n",
    "df = df.drop(['many_status', 'leftmany_status'],axis=1)"
   ]
  },
  {
   "cell_type": "markdown",
   "id": "7eb1ac8d-d320-4360-977d-49ccbd523ecb",
   "metadata": {},
   "source": [
    "# lift"
   ]
  },
  {
   "cell_type": "markdown",
   "id": "38b7daae-46dd-4e25-b9ae-fdabae95ea91",
   "metadata": {},
   "source": [
    "### Observation\n",
    "- columns: 'many_lifts','md_lift','leftmany_lifts','many_lift','leftmany_lift'\n",
    "- combine and keep one value else nan"
   ]
  },
  {
   "cell_type": "code",
   "execution_count": 5453,
   "id": "4b0793f3-8e65-49ac-8faf-ba55e84b9a7f",
   "metadata": {},
   "outputs": [],
   "source": [
    "# Combine values\n",
    "df['lift'] = [list(values) for values in zip(df['many_lifts'], df['md_lift'], df['leftmany_lifts'], df['many_lift'], df['leftmany_lift'])]"
   ]
  },
  {
   "cell_type": "code",
   "execution_count": 5454,
   "id": "111b2ddf-c11e-474b-a456-a55fc89d33b5",
   "metadata": {},
   "outputs": [],
   "source": [
    "df['lift'] = df['lift'].apply(lambda row: next((val for val in row if not np.isnan(val)), None))"
   ]
  },
  {
   "cell_type": "code",
   "execution_count": 5455,
   "id": "a6abb6c6-1882-42ad-aba8-a9e277ac4e99",
   "metadata": {},
   "outputs": [
    {
     "data": {
      "text/plain": [
       "lift\n",
       "2.0     2393\n",
       "3.0     1334\n",
       "4.0     1139\n",
       "1.0      631\n",
       "5.0      385\n",
       "6.0      306\n",
       "8.0       85\n",
       "7.0       78\n",
       "10.0      69\n",
       "9.0       56\n",
       "Name: count, dtype: int64"
      ]
     },
     "execution_count": 5455,
     "metadata": {},
     "output_type": "execute_result"
    }
   ],
   "source": [
    "df['lift'].value_counts()"
   ]
  },
  {
   "cell_type": "code",
   "execution_count": 5456,
   "id": "6c176a99-9ee8-49d6-9d13-6cb383eb996d",
   "metadata": {},
   "outputs": [
    {
     "data": {
      "text/plain": [
       "np.int64(5535)"
      ]
     },
     "execution_count": 5456,
     "metadata": {},
     "output_type": "execute_result"
    }
   ],
   "source": [
    "df['lift'].isna().sum()"
   ]
  },
  {
   "cell_type": "code",
   "execution_count": 5457,
   "id": "15489695-3267-484b-9326-accb94f788a3",
   "metadata": {},
   "outputs": [
    {
     "data": {
      "text/plain": [
       "dtype('float64')"
      ]
     },
     "execution_count": 5457,
     "metadata": {},
     "output_type": "execute_result"
    }
   ],
   "source": [
    "df['lift'].dtype"
   ]
  },
  {
   "cell_type": "code",
   "execution_count": 5458,
   "id": "613e1983-c4b2-4540-86b7-fd70893f0478",
   "metadata": {},
   "outputs": [],
   "source": [
    "# Drop columns : 'many_lifts','md_lift','leftmany_lifts','many_lift','leftmany_lift'\n",
    "df = df.drop(['many_lifts','md_lift','leftmany_lifts','many_lift','leftmany_lift'],axis=1)"
   ]
  },
  {
   "cell_type": "code",
   "execution_count": 5459,
   "id": "7648760f-0afe-4b39-a9ac-718c6a400b82",
   "metadata": {},
   "outputs": [
    {
     "data": {
      "text/plain": [
       "(12011, 258)"
      ]
     },
     "execution_count": 5459,
     "metadata": {},
     "output_type": "execute_result"
    }
   ],
   "source": [
    "df.shape"
   ]
  },
  {
   "cell_type": "markdown",
   "id": "1eb6361b-f891-410a-b317-514a64207ea9",
   "metadata": {},
   "source": [
    "# floor"
   ]
  },
  {
   "cell_type": "markdown",
   "id": "002ea2c4-6389-4964-b702-114499058454",
   "metadata": {},
   "source": [
    "### Observation\n",
    "\n",
    "- columns: 'aboutpjt_total floors', 'aboutpjt_total floors', 'md_floors allowed for construction','many_floor', 'leftmany_floor'\n",
    "- from column 'md_floors allowed for construction','many_floor', 'leftmany_floor': get how many floor building has\n",
    "- when 'many_floor' values are present then its corresponding 'leftmany_floor' values are not present and vice versa\n",
    "- from 'many_floor', 'leftmany_floor': get flat is on which floor\n",
    "- drop 'aboutpjt_total floors' column as it is wrong information"
   ]
  },
  {
   "cell_type": "code",
   "execution_count": 5460,
   "id": "019ac090-3747-4ffa-8e39-11e3b95f2d55",
   "metadata": {},
   "outputs": [],
   "source": [
    "#combine_first Update null elements with value in the same location in other.\n",
    "df['floor_work_1'] = df['many_floor'].combine_first(df['leftmany_floor'])"
   ]
  },
  {
   "cell_type": "code",
   "execution_count": 5461,
   "id": "abbba6e0-eac0-4008-b2be-0f6be72b9260",
   "metadata": {},
   "outputs": [],
   "source": [
    "df['floor_work_1'] = df['floor_work_1'].astype('str') "
   ]
  },
  {
   "cell_type": "code",
   "execution_count": 5462,
   "id": "1cbff389-0c5e-4c4d-a647-2b7d491ddb85",
   "metadata": {},
   "outputs": [],
   "source": [
    "df['flat_on_floor'] = df['floor_work_1'].apply(\n",
    "    lambda x: x.split('(')[0].strip() if '(' in str(x) else None\n",
    ")\n"
   ]
  },
  {
   "cell_type": "code",
   "execution_count": 5463,
   "id": "1434face-9ca8-47f1-845e-8c42676b3aed",
   "metadata": {},
   "outputs": [
    {
     "data": {
      "text/plain": [
       "np.int64(2308)"
      ]
     },
     "execution_count": 5463,
     "metadata": {},
     "output_type": "execute_result"
    }
   ],
   "source": [
    "df['flat_on_floor'].isna().sum()"
   ]
  },
  {
   "cell_type": "code",
   "execution_count": 5464,
   "id": "7e851873-753b-46e1-952e-83e1b836581c",
   "metadata": {},
   "outputs": [],
   "source": [
    "df['total_floor'] = df['floor_work_1'].apply(\n",
    "    lambda x: x.split('(')[1].strip() if '(' in str(x) else None\n",
    ")"
   ]
  },
  {
   "cell_type": "code",
   "execution_count": 5465,
   "id": "f5e77d42-1b42-484d-a0b3-f977a61bf01a",
   "metadata": {},
   "outputs": [
    {
     "data": {
      "text/plain": [
       "np.int64(2308)"
      ]
     },
     "execution_count": 5465,
     "metadata": {},
     "output_type": "execute_result"
    }
   ],
   "source": [
    "df['total_floor'].isna().sum()"
   ]
  },
  {
   "cell_type": "code",
   "execution_count": 5466,
   "id": "5317e265-dce6-42a6-8f19-190ce153d03b",
   "metadata": {},
   "outputs": [],
   "source": [
    "df['total_floor'] = df['total_floor'].str.extract(r'(\\d+)').astype(float)"
   ]
  },
  {
   "cell_type": "code",
   "execution_count": 5467,
   "id": "2e27fb6b-395e-47a2-a9a8-6a71a09ae694",
   "metadata": {},
   "outputs": [
    {
     "data": {
      "text/plain": [
       "total_floor\n",
       "7.0     1031\n",
       "4.0      578\n",
       "22.0     534\n",
       "20.0     366\n",
       "23.0     325\n",
       "14.0     317\n",
       "15.0     305\n",
       "8.0      284\n",
       "12.0     278\n",
       "16.0     270\n",
       "21.0     258\n",
       "3.0      249\n",
       "18.0     230\n",
       "30.0     224\n",
       "5.0      223\n",
       "40.0     215\n",
       "13.0     206\n",
       "6.0      202\n",
       "17.0     167\n",
       "9.0      149\n",
       "36.0     146\n",
       "35.0     144\n",
       "10.0     144\n",
       "24.0     142\n",
       "19.0     134\n",
       "27.0     132\n",
       "25.0     131\n",
       "28.0     130\n",
       "11.0     123\n",
       "45.0     123\n",
       "29.0     118\n",
       "50.0     115\n",
       "42.0      97\n",
       "31.0      95\n",
       "33.0      94\n",
       "32.0      89\n",
       "37.0      83\n",
       "38.0      81\n",
       "34.0      76\n",
       "60.0      75\n",
       "39.0      75\n",
       "26.0      67\n",
       "2.0       51\n",
       "41.0      48\n",
       "61.0      47\n",
       "44.0      46\n",
       "51.0      45\n",
       "46.0      44\n",
       "55.0      41\n",
       "43.0      38\n",
       "47.0      36\n",
       "49.0      35\n",
       "48.0      30\n",
       "65.0      29\n",
       "78.0      28\n",
       "63.0      24\n",
       "62.0      23\n",
       "67.0      22\n",
       "53.0      22\n",
       "52.0      21\n",
       "54.0      21\n",
       "69.0      21\n",
       "68.0      20\n",
       "57.0      19\n",
       "58.0      18\n",
       "1.0       17\n",
       "72.0      17\n",
       "77.0      16\n",
       "56.0      16\n",
       "75.0      14\n",
       "70.0      14\n",
       "64.0      12\n",
       "66.0      11\n",
       "59.0       6\n",
       "76.0       6\n",
       "81.0       4\n",
       "73.0       4\n",
       "71.0       3\n",
       "91.0       3\n",
       "87.0       1\n",
       "92.0       1\n",
       "80.0       1\n",
       "74.0       1\n",
       "85.0       1\n",
       "90.0       1\n",
       "Name: count, dtype: int64"
      ]
     },
     "execution_count": 5467,
     "metadata": {},
     "output_type": "execute_result"
    }
   ],
   "source": [
    "df['total_floor'].value_counts()"
   ]
  },
  {
   "cell_type": "code",
   "execution_count": 5468,
   "id": "ca017ae6-8c96-40e3-aae8-a2312f3a3a80",
   "metadata": {},
   "outputs": [
    {
     "data": {
      "text/plain": [
       "flat_on_floor\n",
       "3                 696\n",
       "2                 689\n",
       "1                 646\n",
       "5                 641\n",
       "4                 622\n",
       "10                588\n",
       "7                 564\n",
       "6                 514\n",
       "9                 391\n",
       "12                370\n",
       "8                 365\n",
       "15                334\n",
       "11                318\n",
       "14                243\n",
       "20                228\n",
       "16                214\n",
       "ground            202\n",
       "18                201\n",
       "13                176\n",
       "17                144\n",
       "21                144\n",
       "19                131\n",
       "22                126\n",
       "25                121\n",
       "23                 97\n",
       "upper basement     82\n",
       "30                 81\n",
       "24                 77\n",
       "27                 63\n",
       "26                 58\n",
       "28                 42\n",
       "35                 38\n",
       "40                 37\n",
       "29                 35\n",
       "33                 32\n",
       "36                 31\n",
       "32                 30\n",
       "34                 30\n",
       "50                 29\n",
       "45                 26\n",
       "lower basement     24\n",
       "37                 21\n",
       "38                 19\n",
       "39                 18\n",
       "42                 17\n",
       "41                 17\n",
       "31                 17\n",
       "44                 13\n",
       "47                  9\n",
       "48                  8\n",
       "60                  8\n",
       "46                  7\n",
       "43                  7\n",
       "52                  7\n",
       "62                  6\n",
       "68                  6\n",
       "55                  6\n",
       "57                  5\n",
       "56                  4\n",
       "51                  4\n",
       "70                  3\n",
       "58                  3\n",
       "53                  3\n",
       "49                  3\n",
       "54                  3\n",
       "66                  3\n",
       "61                  2\n",
       "75                  1\n",
       "73                  1\n",
       "71                  1\n",
       "65                  1\n",
       "Name: count, dtype: int64"
      ]
     },
     "execution_count": 5468,
     "metadata": {},
     "output_type": "execute_result"
    }
   ],
   "source": [
    "df['flat_on_floor'].value_counts()"
   ]
  },
  {
   "cell_type": "code",
   "execution_count": 5469,
   "id": "e0622d70-eba0-4e5b-a401-e970786886fc",
   "metadata": {},
   "outputs": [],
   "source": [
    "df['flat_on_floor'] = df['flat_on_floor'].replace({'lower basement': -1, 'upper basement': -2,'ground':0})"
   ]
  },
  {
   "cell_type": "code",
   "execution_count": 5470,
   "id": "9c028455-35e2-4341-b70e-9798c5ae65c1",
   "metadata": {},
   "outputs": [
    {
     "data": {
      "text/plain": [
       "flat_on_floor\n",
       "3     696\n",
       "2     689\n",
       "1     646\n",
       "5     641\n",
       "4     622\n",
       "10    588\n",
       "7     564\n",
       "6     514\n",
       "9     391\n",
       "12    370\n",
       "8     365\n",
       "15    334\n",
       "11    318\n",
       "14    243\n",
       "20    228\n",
       "16    214\n",
       "0     202\n",
       "18    201\n",
       "13    176\n",
       "17    144\n",
       "21    144\n",
       "19    131\n",
       "22    126\n",
       "25    121\n",
       "23     97\n",
       "-2     82\n",
       "30     81\n",
       "24     77\n",
       "27     63\n",
       "26     58\n",
       "28     42\n",
       "35     38\n",
       "40     37\n",
       "29     35\n",
       "33     32\n",
       "36     31\n",
       "32     30\n",
       "34     30\n",
       "50     29\n",
       "45     26\n",
       "-1     24\n",
       "37     21\n",
       "38     19\n",
       "39     18\n",
       "42     17\n",
       "41     17\n",
       "31     17\n",
       "44     13\n",
       "47      9\n",
       "48      8\n",
       "60      8\n",
       "46      7\n",
       "43      7\n",
       "52      7\n",
       "62      6\n",
       "68      6\n",
       "55      6\n",
       "57      5\n",
       "56      4\n",
       "51      4\n",
       "70      3\n",
       "58      3\n",
       "53      3\n",
       "49      3\n",
       "54      3\n",
       "66      3\n",
       "61      2\n",
       "75      1\n",
       "73      1\n",
       "71      1\n",
       "65      1\n",
       "Name: count, dtype: int64"
      ]
     },
     "execution_count": 5470,
     "metadata": {},
     "output_type": "execute_result"
    }
   ],
   "source": [
    "df['flat_on_floor'].value_counts()"
   ]
  },
  {
   "cell_type": "code",
   "execution_count": 5471,
   "id": "a3c4baba-5411-4602-b225-1b100013b77e",
   "metadata": {},
   "outputs": [],
   "source": [
    "df['total_floor'] = np.where(\n",
    "    pd.isna(df['total_floor']) & pd.notna(df['md_floors allowed for construction']),\n",
    "    df['md_floors allowed for construction'],\n",
    "    df['total_floor']\n",
    ")"
   ]
  },
  {
   "cell_type": "code",
   "execution_count": 5472,
   "id": "1d5d1050-e02a-4c41-9041-38ab355f4f87",
   "metadata": {},
   "outputs": [
    {
     "data": {
      "text/plain": [
       "np.int64(2075)"
      ]
     },
     "execution_count": 5472,
     "metadata": {},
     "output_type": "execute_result"
    }
   ],
   "source": [
    "df['total_floor'].isna().sum()"
   ]
  },
  {
   "cell_type": "code",
   "execution_count": 5473,
   "id": "416f0826-264c-49d3-88b7-1cb7e630c938",
   "metadata": {},
   "outputs": [],
   "source": [
    "# Drop columns : 'Aboutpjt_Total Floors','floor_work_1','many_Floor','leftmany_Floor'\n",
    "df = df.drop(['aboutpjt_total floors','floor_work_1','many_floor','leftmany_floor','md_floors allowed for construction'],axis=1)"
   ]
  },
  {
   "cell_type": "code",
   "execution_count": 5474,
   "id": "5ef1ed21-b800-456e-afc1-297b3213e033",
   "metadata": {},
   "outputs": [],
   "source": [
    "df['flat_on_floor'] =  df['flat_on_floor'].astype('float')"
   ]
  },
  {
   "cell_type": "markdown",
   "id": "1b91f417-f333-44c2-8b4f-86659cbf8564",
   "metadata": {},
   "source": [
    "# construction "
   ]
  },
  {
   "cell_type": "markdown",
   "id": "f7cd4e38-8417-40a9-a2d9-c3bcef62415b",
   "metadata": {},
   "source": [
    "### Observation \n",
    "- columns: 'md_age of construction', 'many_age of construction', 'leftmany_age of construction'\n",
    "- when 'many_age of construction' values are present then its corresponding 'leftmany_age of construction' values are not present and vice versa"
   ]
  },
  {
   "cell_type": "code",
   "execution_count": 5475,
   "id": "39c005b4-f269-469c-aacd-073b25cdc185",
   "metadata": {},
   "outputs": [],
   "source": [
    "#combine_first Update null elements with value in the same location in other.\n",
    "df['construction_1'] = df['many_age of construction'].combine_first(df['leftmany_age of construction'])"
   ]
  },
  {
   "cell_type": "code",
   "execution_count": 5476,
   "id": "b4930567-6ff2-4ab7-b202-534e5ec35fce",
   "metadata": {},
   "outputs": [
    {
     "data": {
      "text/plain": [
       "np.int64(3938)"
      ]
     },
     "execution_count": 5476,
     "metadata": {},
     "output_type": "execute_result"
    }
   ],
   "source": [
    "df['construction_1'].notna().sum()"
   ]
  },
  {
   "cell_type": "code",
   "execution_count": 5477,
   "id": "4a5adc26-ba62-4760-af2e-231262f8b7a8",
   "metadata": {},
   "outputs": [
    {
     "data": {
      "text/plain": [
       "(3936, 2)"
      ]
     },
     "execution_count": 5477,
     "metadata": {},
     "output_type": "execute_result"
    }
   ],
   "source": [
    "df[df['construction_1'] == df['md_age of construction']][['construction_1','md_age of construction']].shape"
   ]
  },
  {
   "cell_type": "markdown",
   "id": "093f3ea0-d829-478e-ab88-09d6bdc37072",
   "metadata": {},
   "source": [
    "### Observation\n",
    "- almost all values are same between construction_1 and md_age of construction columns hence drop construction_1,because md_age of construction have lesser nan values than construction_1 column "
   ]
  },
  {
   "cell_type": "code",
   "execution_count": 5478,
   "id": "43389f2f-c037-4e0d-8ed1-d95e21cd6ae6",
   "metadata": {},
   "outputs": [],
   "source": [
    "df = df.rename(columns={'md_age of construction': 'construction'})"
   ]
  },
  {
   "cell_type": "code",
   "execution_count": 5479,
   "id": "2a389707-4c99-4cf2-8e2f-f679845868b1",
   "metadata": {},
   "outputs": [
    {
     "data": {
      "text/plain": [
       "np.int64(1690)"
      ]
     },
     "execution_count": 5479,
     "metadata": {},
     "output_type": "execute_result"
    }
   ],
   "source": [
    "df['construction'].isna().sum()"
   ]
  },
  {
   "cell_type": "code",
   "execution_count": 5480,
   "id": "290ea838-e805-4bbf-ab96-8c0af922be38",
   "metadata": {},
   "outputs": [],
   "source": [
    "# Drop columns\n",
    "df = df.drop(['construction_1','many_age of construction','leftmany_age of construction'],axis=1)"
   ]
  },
  {
   "cell_type": "markdown",
   "id": "c3123b7a-38f5-4269-92a1-930e35a86930",
   "metadata": {},
   "source": [
    "### Observation\n",
    "- In the status column, the value \"Under construction\" is present, which we can copy to the corresponding place in the construction column. "
   ]
  },
  {
   "cell_type": "code",
   "execution_count": 5481,
   "id": "48e28a56-8336-454e-a664-977288183444",
   "metadata": {},
   "outputs": [],
   "source": [
    "df['construction'] = df.apply(\n",
    "    lambda row: 'under construction' if row['status'] == 'under construction' else row['construction'], axis=1\n",
    ")"
   ]
  },
  {
   "cell_type": "markdown",
   "id": "de21a561-13fa-4d18-85ad-421d38897198",
   "metadata": {},
   "source": [
    "### Observation\n",
    "- In the construction column, the value \"under construction\" is present, which we can copy to the corresponding place in the status column. "
   ]
  },
  {
   "cell_type": "code",
   "execution_count": 5482,
   "id": "ec98488f-0e6a-49b5-8019-134e51f71066",
   "metadata": {},
   "outputs": [],
   "source": [
    "df['status'] = df.apply(\n",
    "    lambda row: 'under construction' if row['construction'] == 'under construction' else row['status'], axis=1\n",
    ")"
   ]
  },
  {
   "cell_type": "markdown",
   "id": "c8bc31f7-07ab-4eb2-9280-1a38024c108e",
   "metadata": {},
   "source": [
    "### Observation\n",
    "- make case of values small in both construction and status column"
   ]
  },
  {
   "cell_type": "code",
   "execution_count": 5483,
   "id": "c9299ff6-53d3-47ac-94ee-d6f0e8455567",
   "metadata": {},
   "outputs": [],
   "source": [
    "df['construction'] = df['construction'].str.lower()"
   ]
  },
  {
   "cell_type": "code",
   "execution_count": 5484,
   "id": "0e793087-82d1-442f-aa7b-2d44fb402a91",
   "metadata": {},
   "outputs": [],
   "source": [
    "df['status'] = df['status'].str.lower()"
   ]
  },
  {
   "cell_type": "markdown",
   "id": "e1d1f66b-ed64-49d5-8c27-9f74b679895f",
   "metadata": {},
   "source": [
    "# <font color = yellow> as both status and construction column almost have similar values so chances of correlation"
   ]
  },
  {
   "cell_type": "markdown",
   "id": "2e68e4f0-5018-486b-8374-bc2626b85572",
   "metadata": {},
   "source": [
    "# balcony"
   ]
  },
  {
   "cell_type": "markdown",
   "id": "e1b91cf7-4766-42c9-8224-04ee9d5cdfec",
   "metadata": {},
   "source": [
    "### Obseravation\n",
    "- columns: 'bb_balcony', 'leftbb_balcony', 'bb_balconies','leftbb_balconies'\n",
    "- when one column values are present then its corresponding column values are not present"
   ]
  },
  {
   "cell_type": "code",
   "execution_count": 5485,
   "id": "1384dada-0824-4676-a3f1-f23fded5a780",
   "metadata": {},
   "outputs": [],
   "source": [
    "#combine_first Update null elements with value in the same location in other.\n",
    "df['balcony'] = (\n",
    "    df['bb_balcony']\n",
    "    .combine_first(df['leftbb_balcony'])\n",
    "    .combine_first(df['bb_balconies'])\n",
    "    .combine_first(df['leftbb_balconies'])\n",
    ")\n"
   ]
  },
  {
   "cell_type": "code",
   "execution_count": 5486,
   "id": "56455dbe-bfee-4824-83e4-c099a98f21f7",
   "metadata": {},
   "outputs": [],
   "source": [
    "# Drop columns\n",
    "df = df.drop(['bb_balcony', 'leftbb_balcony', 'bb_balconies','leftbb_balconies'],axis=1)"
   ]
  },
  {
   "cell_type": "markdown",
   "id": "6a924b87-9556-4095-9714-a4d55d072e9d",
   "metadata": {},
   "source": [
    "# extra_rooms"
   ]
  },
  {
   "cell_type": "markdown",
   "id": "3ad93fb3-f6de-4613-bb41-6bb49f7ed9f7",
   "metadata": {},
   "source": [
    "### Observation \n",
    "\n",
    "- columns: 'md_additional rooms', 'leftmany_additional rooms', 'many_additional rooms'\n",
    "- when 'leftmany_Additional Rooms' values are present then its corresponding 'many_Additional Rooms' values are not present and vice versa"
   ]
  },
  {
   "cell_type": "code",
   "execution_count": 5487,
   "id": "da24b5ae-efed-4f48-899c-3d232012b372",
   "metadata": {},
   "outputs": [],
   "source": [
    "#combine_first Update null elements with value in the same location in other.\n",
    "df['balcony1'] = df['leftmany_additional rooms'].combine_first(df['many_additional rooms'])"
   ]
  },
  {
   "cell_type": "code",
   "execution_count": 5488,
   "id": "4143d1e9-a77d-4b76-aa46-bc8166de63b3",
   "metadata": {},
   "outputs": [
    {
     "data": {
      "text/plain": [
       "np.int64(9148)"
      ]
     },
     "execution_count": 5488,
     "metadata": {},
     "output_type": "execute_result"
    }
   ],
   "source": [
    "df['balcony1'].isna().sum()"
   ]
  },
  {
   "cell_type": "code",
   "execution_count": 5489,
   "id": "04900b6b-2a5d-4bc3-ac2d-3f07f9b24814",
   "metadata": {},
   "outputs": [],
   "source": [
    "df['extra_room'] = df['balcony1'].str.split(' ').str[1].str.strip()"
   ]
  },
  {
   "cell_type": "code",
   "execution_count": 5490,
   "id": "13996576-9c9d-4627-b19d-f77371c4cea5",
   "metadata": {},
   "outputs": [
    {
     "data": {
      "text/plain": [
       "extra_room\n",
       "store      2061\n",
       "study       442\n",
       "servant     360\n",
       "Name: count, dtype: int64"
      ]
     },
     "execution_count": 5490,
     "metadata": {},
     "output_type": "execute_result"
    }
   ],
   "source": [
    "df['extra_room'].value_counts()"
   ]
  },
  {
   "cell_type": "code",
   "execution_count": 5491,
   "id": "735ce202-6dc9-4362-a354-70f01386e4e7",
   "metadata": {},
   "outputs": [
    {
     "data": {
      "text/plain": [
       "np.int64(2863)"
      ]
     },
     "execution_count": 5491,
     "metadata": {},
     "output_type": "execute_result"
    }
   ],
   "source": [
    "df['extra_room'].notna().sum()"
   ]
  },
  {
   "cell_type": "code",
   "execution_count": 5492,
   "id": "9b0b4464-8692-4a5b-8a5f-cea42ace07ff",
   "metadata": {},
   "outputs": [
    {
     "data": {
      "text/plain": [
       "np.int64(9148)"
      ]
     },
     "execution_count": 5492,
     "metadata": {},
     "output_type": "execute_result"
    }
   ],
   "source": [
    "df['extra_room'].isna().sum()"
   ]
  },
  {
   "cell_type": "code",
   "execution_count": 5493,
   "id": "05fba630-0c63-4d74-b2cb-b635aa12aa4d",
   "metadata": {},
   "outputs": [
    {
     "data": {
      "text/plain": [
       "md_additional rooms\n",
       "none of these                             3015\n",
       "store                                     1114\n",
       "puja room                                  746\n",
       "study                                      309\n",
       "servant room                               297\n",
       "puja room, store                           226\n",
       "puja room, study, store, servant room      225\n",
       "puja room, study, store                    115\n",
       "store, servant room                         85\n",
       "puja room, store, study, servant room       79\n",
       "puja room, study                            76\n",
       "study, store                                71\n",
       "puja room, servant room                     63\n",
       "puja room, store, servant room              55\n",
       "puja room, study, servant room              31\n",
       "study, servant room                         24\n",
       "study, store, servant room                  24\n",
       "store, study                                19\n",
       "puja room, store, study                     16\n",
       "puja room, study, servant room, store        4\n",
       "store, puja room                             4\n",
       "store, none of these                         3\n",
       "store, study, servant room                   3\n",
       "store, study, puja room, servant room        2\n",
       "puja room, servant room, store               1\n",
       "servant room, store, puja room, study        1\n",
       "study, servant room, store                   1\n",
       "store, study, servant room, puja room        1\n",
       "servant room, store, study                   1\n",
       "study, servant room, puja room, store        1\n",
       "servant room, study, puja room, store        1\n",
       "puja room, study, store, none of these       1\n",
       "servant room, study, puja room               1\n",
       "servant room, store, study, puja room        1\n",
       "study, puja room                             1\n",
       "servant room, store                          1\n",
       "study, puja room, servant room, store        1\n",
       "Name: count, dtype: int64"
      ]
     },
     "execution_count": 5493,
     "metadata": {},
     "output_type": "execute_result"
    }
   ],
   "source": [
    "df['md_additional rooms'].value_counts()"
   ]
  },
  {
   "cell_type": "code",
   "execution_count": 5494,
   "id": "311c3f2a-b38a-45a9-a41b-d9f6f08ef222",
   "metadata": {},
   "outputs": [],
   "source": [
    "result = df['extra_room'].apply(\n",
    "    lambda x: any(str(x) in str(room) for room in df['md_additional rooms']) if pd.notnull(x) else False\n",
    ")"
   ]
  },
  {
   "cell_type": "code",
   "execution_count": 5495,
   "id": "9b3e32cd-130a-4f0c-a262-7206dc497024",
   "metadata": {},
   "outputs": [
    {
     "data": {
      "text/plain": [
       "extra_room\n",
       "False    9148\n",
       "True     2863\n",
       "Name: count, dtype: int64"
      ]
     },
     "execution_count": 5495,
     "metadata": {},
     "output_type": "execute_result"
    }
   ],
   "source": [
    "result.value_counts() "
   ]
  },
  {
   "cell_type": "markdown",
   "id": "47b48a50-b612-4aeb-aae2-d8fac3f5946c",
   "metadata": {},
   "source": [
    "### Observation\n",
    "- balcony1 column values present in the 'md_additional rooms' hence drop this balcony1 and extra_room column also and hkeep only 'md_additional rooms' column"
   ]
  },
  {
   "cell_type": "code",
   "execution_count": 5496,
   "id": "656e4962-acb0-4c7e-9863-be1cd88dbe93",
   "metadata": {},
   "outputs": [],
   "source": [
    "#sort value alphabetically \n",
    "df['md_additional rooms'] = df['md_additional rooms'].apply(\n",
    "    lambda x: ', '.join(sorted(x.split(', '))) if pd.notna(x) else None\n",
    ")"
   ]
  },
  {
   "cell_type": "code",
   "execution_count": 5497,
   "id": "5a9cf5cf-0c44-4902-9b60-650dee7227fc",
   "metadata": {},
   "outputs": [],
   "source": [
    "#remove none of these eg:from these 'none of these, store' and keep only store \n",
    "#but if we have only 'none of these' then we keep that as it is \n",
    "#also remove room word from all values \n",
    "\n",
    "df['md_additional rooms'] = df['md_additional rooms'].apply(\n",
    "    lambda x: x if pd.isna(x) or str(x).strip() == 'none of these' else ', '.join(\n",
    "        [item.replace(' room', '') for item in str(x).split(', ') if item != 'none of these']\n",
    "    )\n",
    ")\n",
    "\n"
   ]
  },
  {
   "cell_type": "code",
   "execution_count": 5498,
   "id": "86845fa0-7702-4ecb-9d59-4eb68b047ae8",
   "metadata": {},
   "outputs": [
    {
     "data": {
      "text/plain": [
       "md_additional rooms\n",
       "none of these                  3015\n",
       "store                          1117\n",
       "puja                            746\n",
       "puja, servant, store, study     316\n",
       "study                           309\n",
       "servant                         297\n",
       "puja, store                     230\n",
       "puja, store, study              132\n",
       "store, study                     90\n",
       "servant, store                   86\n",
       "puja, study                      77\n",
       "puja, servant                    63\n",
       "puja, servant, store             56\n",
       "puja, servant, study             32\n",
       "servant, store, study            29\n",
       "servant, study                   24\n",
       "Name: count, dtype: int64"
      ]
     },
     "execution_count": 5498,
     "metadata": {},
     "output_type": "execute_result"
    }
   ],
   "source": [
    "df['md_additional rooms'].value_counts()"
   ]
  },
  {
   "cell_type": "code",
   "execution_count": 5499,
   "id": "a40a26e5-b196-48a4-b78c-cc978f7cc852",
   "metadata": {},
   "outputs": [],
   "source": [
    "# Drop columns\n",
    "df = df.drop(['leftmany_additional rooms','balcony1','many_additional rooms','extra_room'],axis=1)"
   ]
  },
  {
   "cell_type": "code",
   "execution_count": 5500,
   "id": "2c578f76-9d24-493e-aaed-266f408800d6",
   "metadata": {},
   "outputs": [],
   "source": [
    "df = df.rename(columns={'md_additional rooms': 'extra_rooms'})"
   ]
  },
  {
   "cell_type": "markdown",
   "id": "bf7dcdc2-d0d2-4d00-9075-8ba3d3a596a7",
   "metadata": {},
   "source": [
    "# Facing"
   ]
  },
  {
   "cell_type": "markdown",
   "id": "1283c499-5bc3-4536-8ee6-991804888adb",
   "metadata": {},
   "source": [
    "### Observation \n",
    "- columns:  leftmany_facing, many_facing\n",
    "- when 'leftmany_facing' values are present then its corresponding 'many_facing' values are not present and vice versa"
   ]
  },
  {
   "cell_type": "code",
   "execution_count": 5501,
   "id": "f7c7c4d4-23ab-4603-a13f-5407fae7b69e",
   "metadata": {},
   "outputs": [],
   "source": [
    "#combine_first Update null elements with value in the same location in other.\n",
    "df['facing'] = df['leftmany_facing'].combine_first(df['many_facing'])"
   ]
  },
  {
   "cell_type": "code",
   "execution_count": 5502,
   "id": "7d47f5dc-e370-44cd-a78d-2589319c60f0",
   "metadata": {},
   "outputs": [],
   "source": [
    "# Drop columns\n",
    "df = df.drop(['leftmany_facing','many_facing'],axis=1)"
   ]
  },
  {
   "cell_type": "markdown",
   "id": "47b8db56-b21e-4c5e-acdd-66a8986e7bfc",
   "metadata": {},
   "source": [
    "# towers and available_units"
   ]
  },
  {
   "cell_type": "markdown",
   "id": "24a2429e-6032-4de4-80ab-58913348406e",
   "metadata": {},
   "source": [
    "### Observation\n",
    "- columns: 'ap_tower & unit','aboutpjt_total units','aboutpjt_total towers','ap_tower','ap_unit'\n",
    "- eg : 10 Towers,1512 Units : A residential project might have 10 towers, each with 151 apartments, totaling 10 × 151 = 1512 units.\n",
    "- all the values which are present in 'ap_unit' are available in \"aboutpjt_total units\" column hence drop this 'ap_unit' column\n",
    "- all the values which are present in 'ap_tower' are available in \"aboutpjt_total towers\" column hence drop this 'ap_tower' column\n",
    "- all the values which are present in 'ap_tower & unit' are available in 'aboutpjt_total units','aboutpjt_total towers' column hence drop this 'ap_tower & unit' column\n",
    "- rename 'aboutpjt_total units' as 'available_units'\n",
    "- rename 'aboutpjt_total towers' 'towers'"
   ]
  },
  {
   "cell_type": "code",
   "execution_count": 5503,
   "id": "d9897da6-cff4-444b-9738-3ef3a0f901a3",
   "metadata": {},
   "outputs": [],
   "source": [
    "# Drop columns\n",
    "df = df.drop(['ap_unit','ap_tower','ap_tower & unit'],axis=1)"
   ]
  },
  {
   "cell_type": "code",
   "execution_count": 5504,
   "id": "a3770199-36b1-4b1e-b2ca-3ecbda2ff0a0",
   "metadata": {},
   "outputs": [],
   "source": [
    "df = df.rename(columns={'aboutpjt_total units': 'available_units', \n",
    "                        'aboutpjt_total towers': 'towers'})"
   ]
  },
  {
   "cell_type": "markdown",
   "id": "4e209c2d-3cce-49d6-a908-b54ef26385d5",
   "metadata": {},
   "source": [
    "# bed"
   ]
  },
  {
   "cell_type": "markdown",
   "id": "32c082a0-aa11-4c6c-9d5e-8a2f2ddb08e4",
   "metadata": {},
   "source": [
    "### Observation\n",
    "- columns -> 'numberofrooms','bb_beds','leftbb_beds','bb_bed','leftbb_bed'\n",
    "- combine and keep one value else nan\n"
   ]
  },
  {
   "cell_type": "code",
   "execution_count": 5505,
   "id": "8ce0ce83-cd55-4f38-82bc-fd898a66c75e",
   "metadata": {},
   "outputs": [],
   "source": [
    "# Combine values\n",
    "df['bed'] = [list(values) for values in zip(df['numberofrooms'], df['bb_beds'], df['leftbb_beds'], df['bb_bed'], df['leftbb_bed'])]"
   ]
  },
  {
   "cell_type": "code",
   "execution_count": 5506,
   "id": "85ad9427-bd69-482a-b2c1-7bad0948b7f3",
   "metadata": {},
   "outputs": [
    {
     "data": {
      "text/plain": [
       "0    [2.0, 2.0, nan, nan, nan]\n",
       "1    [3.0, nan, 3.0, nan, nan]\n",
       "Name: bed, dtype: object"
      ]
     },
     "execution_count": 5506,
     "metadata": {},
     "output_type": "execute_result"
    }
   ],
   "source": [
    "df['bed'].head(2)"
   ]
  },
  {
   "cell_type": "code",
   "execution_count": 5507,
   "id": "cf532c38-e6d4-4611-bf0b-e653b2c582d2",
   "metadata": {},
   "outputs": [],
   "source": [
    "df['bed'] = df['bed'].apply(lambda row: next((val for val in row if not np.isnan(val)), None))"
   ]
  },
  {
   "cell_type": "code",
   "execution_count": 5508,
   "id": "19407ca7-c5dd-4fb5-a05d-11e5d1bab354",
   "metadata": {},
   "outputs": [
    {
     "data": {
      "text/plain": [
       "bed\n",
       "2.0     4862\n",
       "1.0     3185\n",
       "3.0     2899\n",
       "4.0      757\n",
       "5.0      127\n",
       "6.0       55\n",
       "7.0        8\n",
       "8.0        5\n",
       "10.0       4\n",
       "Name: count, dtype: int64"
      ]
     },
     "execution_count": 5508,
     "metadata": {},
     "output_type": "execute_result"
    }
   ],
   "source": [
    "df['bed'].value_counts()"
   ]
  },
  {
   "cell_type": "code",
   "execution_count": 5509,
   "id": "a078f08f-8f4e-4735-bff6-23d0c31c917f",
   "metadata": {},
   "outputs": [
    {
     "data": {
      "text/plain": [
       "np.int64(109)"
      ]
     },
     "execution_count": 5509,
     "metadata": {},
     "output_type": "execute_result"
    }
   ],
   "source": [
    "df['bed'].isna().sum()"
   ]
  },
  {
   "cell_type": "markdown",
   "id": "4320b0ef-2eb1-44e4-bb82-5fe9841cdcdd",
   "metadata": {},
   "source": [
    "##### research more about this \n",
    "- \"numberofrooms\" column have missing values, in 'url' column sq-ft info there so using that I got to know that,for below 1000sq-ft, all missing values which are there in this \"numberofrooms\" is 1HK so hence for this 1HK we mention 0 and for above 1000 sq-ft we have to do imputation in \"numberofrooms\""
   ]
  },
  {
   "cell_type": "code",
   "execution_count": 5510,
   "id": "7559ebb8-5a39-4001-99ed-b0c6014828ec",
   "metadata": {},
   "outputs": [],
   "source": [
    "# Drop columns\n",
    "df = df.drop(['numberofrooms','bb_beds','leftbb_beds','bb_bed','leftbb_bed'],axis=1)"
   ]
  },
  {
   "cell_type": "markdown",
   "id": "aecb6bf1-2596-4d63-ba91-3337bb201b37",
   "metadata": {},
   "source": [
    "# longitude and lattitude "
   ]
  },
  {
   "cell_type": "markdown",
   "id": "b897bc7d-e9c5-4e4f-be3c-6a4b04fb7448",
   "metadata": {},
   "source": [
    "### Observation\n",
    "- separate longitude and latitude from geo column  "
   ]
  },
  {
   "cell_type": "code",
   "execution_count": 5511,
   "id": "c8bea197-3b8e-4fa2-8e31-d64adec23333",
   "metadata": {},
   "outputs": [],
   "source": [
    "df['lattitude'] = df['geo'].str.split(',').str[1].str.split(':').str[1].str.strip(\" '\\\"\").astype('float')"
   ]
  },
  {
   "cell_type": "code",
   "execution_count": 5512,
   "id": "8a011d05-1ca4-4216-9cd9-0337ed000ee3",
   "metadata": {},
   "outputs": [],
   "source": [
    "df['longitude'] = df['geo'].str.split(',').str[2].str.split(':').str[1].str.strip(\" '\\\"}\").astype('float')"
   ]
  },
  {
   "cell_type": "code",
   "execution_count": 5513,
   "id": "f5cc6a5d-1d23-4e0c-aee4-38926c8d84a3",
   "metadata": {},
   "outputs": [
    {
     "data": {
      "text/plain": [
       "np.int64(474)"
      ]
     },
     "execution_count": 5513,
     "metadata": {},
     "output_type": "execute_result"
    }
   ],
   "source": [
    "df['longitude'].isna().sum()"
   ]
  },
  {
   "cell_type": "code",
   "execution_count": 5514,
   "id": "bb492af0-8060-4688-b3ae-c6c3360b3c02",
   "metadata": {},
   "outputs": [],
   "source": [
    "# Drop columns\n",
    "df = df.drop(['geo'],axis=1)"
   ]
  },
  {
   "cell_type": "markdown",
   "id": "ae6dc60b-7bcc-4a02-905a-b73b635c4374",
   "metadata": {},
   "source": [
    "# seller"
   ]
  },
  {
   "cell_type": "markdown",
   "id": "34c91bcd-e2ab-4ad7-8055-d2e1740234bc",
   "metadata": {},
   "source": [
    "# Observation\n",
    "- make seller column from potentialAction column, which have this values [organization,person,realestateagent]"
   ]
  },
  {
   "cell_type": "code",
   "execution_count": 5515,
   "id": "8a00af3a-1b7d-48a8-b7df-c98dde7726a5",
   "metadata": {},
   "outputs": [],
   "source": [
    "df['seller'] = df['potentialaction'].str.split(',').str[1].str.split(':').str[2].str.strip(\" '\\\"\")"
   ]
  },
  {
   "cell_type": "code",
   "execution_count": 5516,
   "id": "c1796446-d37b-4527-bf55-cb94fcc01049",
   "metadata": {},
   "outputs": [
    {
     "data": {
      "text/plain": [
       "seller\n",
       "realestateagent    8124\n",
       "person             3523\n",
       "organization        364\n",
       "Name: count, dtype: int64"
      ]
     },
     "execution_count": 5516,
     "metadata": {},
     "output_type": "execute_result"
    }
   ],
   "source": [
    "df['seller'].value_counts()"
   ]
  },
  {
   "cell_type": "code",
   "execution_count": 5517,
   "id": "1eafe6ab-6967-4d97-ba72-1910c520da3e",
   "metadata": {},
   "outputs": [],
   "source": [
    "# Drop columns\n",
    "df = df.drop(['potentialaction'],axis=1)"
   ]
  },
  {
   "cell_type": "markdown",
   "id": "0dea8bb7-4230-4307-b7be-f1078e265a0b",
   "metadata": {},
   "source": [
    "# addressregion"
   ]
  },
  {
   "cell_type": "markdown",
   "id": "57033f7f-109d-4b25-bef4-3f8a86b9a8d8",
   "metadata": {},
   "source": [
    "### Observation\n",
    "- some properties are from navimumbai written in 'address' column and even then also in 'property_loc' column they written mumbai so find that"
   ]
  },
  {
   "cell_type": "code",
   "execution_count": 5518,
   "id": "a6b88f0f-5d82-4f0c-b472-da668648a109",
   "metadata": {},
   "outputs": [],
   "source": [
    "df['addressregion'] = df['address'].apply(\n",
    "    lambda x: ast.literal_eval(x).get('addressregion') if isinstance(x, str) else x.get('addressregion')\n",
    ")"
   ]
  },
  {
   "cell_type": "code",
   "execution_count": 5519,
   "id": "73d81ad1-9bc0-45ea-a741-3edcd610e82f",
   "metadata": {},
   "outputs": [
    {
     "data": {
      "text/plain": [
       "addressregion\n",
       "mumbai         8591\n",
       "thane          1635\n",
       "navi mumbai    1621\n",
       "palghar         164\n",
       "Name: count, dtype: int64"
      ]
     },
     "execution_count": 5519,
     "metadata": {},
     "output_type": "execute_result"
    }
   ],
   "source": [
    "df['addressregion'].value_counts()"
   ]
  },
  {
   "cell_type": "code",
   "execution_count": 5520,
   "id": "0efb5395-90e7-44fe-9a93-bb32090eefb3",
   "metadata": {},
   "outputs": [],
   "source": [
    "# Drop columns\n",
    "df = df.drop(['address','property_loc'],axis=1)"
   ]
  },
  {
   "cell_type": "code",
   "execution_count": 5521,
   "id": "78ecfc3f-afbc-4a51-8a73-674a1729aa32",
   "metadata": {},
   "outputs": [
    {
     "data": {
      "image/png": "[encoded data removed]",
      "text/plain": [
       "<Figure size 640x480 with 1 Axes>"
      ]
     },
     "metadata": {},
     "output_type": "display_data"
    }
   ],
   "source": [
    "import seaborn as sns\n",
    "import matplotlib.pyplot as plt\n",
    "\n",
    "# Filter data for 'mumbai'\n",
    "filtered_df = df[df['addressregion'] == 'thane']\n",
    "\n",
    "# Scatter plot for 'mumbai' only\n",
    "sns.scatterplot(x=filtered_df['f_area'], y=filtered_df['f_price'], hue=filtered_df['addressregion'])\n",
    "\n",
    "# Add labels and title\n",
    "plt.xlabel('Floor Area')\n",
    "plt.ylabel('Price')\n",
    "plt.title('Scatterplot of Floor Area vs Price (Mumbai Only)')\n",
    "plt.legend(title='Address Region')\n",
    "plt.show()\n"
   ]
  },
  {
   "cell_type": "markdown",
   "id": "eba6df40-ad55-431f-bfc5-5feef54a09db",
   "metadata": {},
   "source": [
    "# ameties"
   ]
  },
  {
   "cell_type": "markdown",
   "id": "0b97695c-15fb-48ea-85dc-1e91044c9add",
   "metadata": {},
   "source": [
    "### Observation\n",
    "- combine all 'am' columns together in list"
   ]
  },
  {
   "cell_type": "code",
   "execution_count": 5522,
   "id": "daff25c7-af25-46c6-ac6c-765f520d7634",
   "metadata": {},
   "outputs": [],
   "source": [
    "columns_with_am = [col for col in df.columns if col.startswith('am')]"
   ]
  },
  {
   "cell_type": "code",
   "execution_count": 5523,
   "id": "1722d62a-9221-4ba9-b623-614998999ffd",
   "metadata": {},
   "outputs": [
    {
     "data": {
      "text/plain": [
       "['am_12204',\n",
       " 'am_12226',\n",
       " 'am_12225',\n",
       " 'am_12229',\n",
       " 'am_12230',\n",
       " 'am_1404107',\n",
       " 'am_12201',\n",
       " 'am_12205',\n",
       " 'am_12202',\n",
       " 'am_12209',\n",
       " 'am_12207',\n",
       " 'am_12208',\n",
       " 'am_12214',\n",
       " 'am_12216',\n",
       " 'am_12218',\n",
       " 'am_1404110',\n",
       " 'am_12224',\n",
       " 'am_12206',\n",
       " 'am_1404117',\n",
       " 'am_1404105',\n",
       " 'am_12220',\n",
       " 'am_12228',\n",
       " 'am_12203',\n",
       " 'am_12211',\n",
       " 'am_1404118',\n",
       " 'am_1404106',\n",
       " 'am_1404125',\n",
       " 'am_1404124',\n",
       " 'am_12538',\n",
       " 'am_12540',\n",
       " 'am_12219',\n",
       " 'am_12227',\n",
       " 'am_12523',\n",
       " 'am_12533',\n",
       " 'am_12534',\n",
       " 'am_12535',\n",
       " 'am_12536',\n",
       " 'am_12537',\n",
       " 'am_12539',\n",
       " 'am_12543',\n",
       " 'am_12545',\n",
       " 'am_12581',\n",
       " 'am_12583',\n",
       " 'am_1404155',\n",
       " 'am_1404114',\n",
       " 'am_1404143',\n",
       " 'am_1404109',\n",
       " 'am_1404131',\n",
       " 'am_12212',\n",
       " 'am_1404112',\n",
       " 'am_12217',\n",
       " 'am_1404116',\n",
       " 'am_1404120',\n",
       " 'am_1404111',\n",
       " 'am_12222',\n",
       " 'am_1404115',\n",
       " 'am_1404123',\n",
       " 'am_1404127',\n",
       " 'am_1404128',\n",
       " 'am_1404129',\n",
       " 'am_12223',\n",
       " 'am_12215',\n",
       " 'am_1404108',\n",
       " 'am_12213',\n",
       " 'am_12221',\n",
       " 'am_1404130',\n",
       " 'am_1404126',\n",
       " 'am_1404113',\n",
       " 'am_1404122',\n",
       " 'am_12586',\n",
       " 'am_1404156',\n",
       " 'am_12525',\n",
       " 'am_12547',\n",
       " 'am_12577',\n",
       " 'am_1404150',\n",
       " 'am_1404148',\n",
       " 'am_1404146',\n",
       " 'am_12529',\n",
       " 'am_12521',\n",
       " 'am_12522',\n",
       " 'am_12526',\n",
       " 'am_12530',\n",
       " 'am_12532',\n",
       " 'am_12528',\n",
       " 'am_12546',\n",
       " 'am_1404161',\n",
       " 'am_12234',\n",
       " 'am_12585',\n",
       " 'am_1404149',\n",
       " 'am_1404152',\n",
       " 'am_1404158',\n",
       " 'am_1404157',\n",
       " 'am_1404154',\n",
       " 'am_12511',\n",
       " 'am_12579',\n",
       " 'am_12527',\n",
       " 'am_12524',\n",
       " 'am_12541',\n",
       " 'am_12238',\n",
       " 'am_12562',\n",
       " 'am_12578',\n",
       " 'am_12548',\n",
       " 'am_12549',\n",
       " 'am_12239',\n",
       " 'am_1404151',\n",
       " 'am_12236',\n",
       " 'am_12237',\n",
       " 'am_12556',\n",
       " 'am_12560',\n",
       " 'am_12555',\n",
       " 'am_12561',\n",
       " 'am_1404147',\n",
       " 'am_12235',\n",
       " 'am_12557',\n",
       " 'am_12233',\n",
       " 'am_12531',\n",
       " 'am_12518',\n",
       " 'am_12232',\n",
       " 'am_12544',\n",
       " 'am_12551',\n",
       " 'am_12554',\n",
       " 'am_12542',\n",
       " 'am_12520',\n",
       " 'am_12558',\n",
       " 'am_12584',\n",
       " 'am_1404160',\n",
       " 'am_1404159',\n",
       " 'am_12516',\n",
       " 'am_12580',\n",
       " 'am_12513',\n",
       " 'am_12550',\n",
       " 'am_12552',\n",
       " 'am_12553']"
      ]
     },
     "execution_count": 5523,
     "metadata": {},
     "output_type": "execute_result"
    }
   ],
   "source": [
    "columns_with_am"
   ]
  },
  {
   "cell_type": "code",
   "execution_count": 5524,
   "id": "0feb28eb-1214-47f9-b46d-eb8bbfcaab07",
   "metadata": {},
   "outputs": [],
   "source": [
    "# Combine values from columns that start with 'AM'\n",
    "df['ameties'] = [list(values) for values in zip(*[df[col] for col in df.columns if col.startswith('am_')])]"
   ]
  },
  {
   "cell_type": "code",
   "execution_count": 5525,
   "id": "faace06a-f362-4c5b-98ec-875577e01b9e",
   "metadata": {},
   "outputs": [
    {
     "data": {
      "text/plain": [
       "0                                                                                                                                                                                                                                            [club house, cafeteria/food court, bar/lounge, jogging and strolling track, outdoor tennis courts, barbeque pit, power back up, swimming pool, lift, security, park, reserved parking, service/goods lift, visitor parking, maintenance staff, bank & atm, banquet hall, gymnasium, indoor games room, aerobics room, laundry service, piped gas, rain water harvesting, water storage, indoor squash & badminton courts, arts & craft studio, multipurpose courts, meditation area, fingerprint access, premium branded fittings, waste disposal, conference room, mini cinema theatre, health club with steam / jaccuzi, located in the heart of city, large clubhouse, 3 tier security system, large open space, grand entrance lobby, multipurpose hall, solar energy, kids play area, library, badminton court, event space & amphitheatre, fire fighting equipment, nan, nan, nan, nan, nan, nan, nan, nan, nan, nan, nan, nan, nan, nan, nan, nan, nan, nan, nan, nan, nan, nan, nan, nan, nan, nan, nan, nan, nan, nan, nan, nan, nan, nan, nan, nan, nan, nan, nan, nan, nan, nan, nan, nan, nan, nan, nan, nan, nan, nan, nan, nan, nan, nan, ...]\n",
       "1    [club house, cafeteria/food court, bar/lounge, jogging and strolling track, outdoor tennis courts, barbeque pit, power back up, swimming pool, lift, security, park, reserved parking, service/goods lift, visitor parking, maintenance staff, bank & atm, banquet hall, gymnasium, indoor games room, aerobics room, laundry service, piped gas, rain water harvesting, water storage, indoor squash & badminton courts, arts & craft studio, multipurpose courts, meditation area, nan, nan, waste disposal, conference room, nan, nan, nan, nan, 3 tier security system, large open space, grand entrance lobby, multipurpose hall, nan, nan, nan, nan, event space & amphitheatre, fire fighting equipment, coffee lounge & restaurants, cycling & jogging track, private terrace/garden, dance studio, intercom facility, guest accommodation, kids club, concierge services, dth television facility, flower gardens, library and business centre, recreational pool, rentable community space, retail boulevard (retail shops), ro water system, air conditioned, canopy walk, vaastu compliant, internet/wi-fi connectivity, activity deck4, outdoor tennis courts, early learning centre, kids play pool with water slides, nan, nan, nan, nan, nan, nan, nan, nan, nan, nan, nan, nan, nan, nan, nan, nan, nan, nan, nan, nan, nan, nan, nan, nan, nan, nan, nan, nan, nan, nan, nan, ...]\n",
       "2                                                                                                                                                                                                                                                                                                                                                                                                                                                                                                                                                                                                                                                                                                                 [nan, nan, nan, jogging and strolling track, nan, barbeque pit, nan, nan, lift, security, nan, reserved parking, nan, visitor parking, nan, nan, nan, nan, indoor games room, nan, nan, nan, nan, nan, nan, nan, multipurpose courts, nan, nan, nan, nan, nan, nan, nan, nan, nan, nan, nan, nan, multipurpose hall, nan, kids play area, nan, nan, nan, nan, nan, nan, nan, nan, nan, nan, nan, nan, nan, nan, nan, nan, nan, nan, nan, nan, nan, nan, internet/wi-fi connectivity, nan, nan, nan, nan, cycling track, sand pit, nan, nan, nan, nan, nan, nan, nan, nan, nan, nan, nan, nan, nan, nan, nan, nan, nan, nan, nan, nan, nan, nan, nan, nan, nan, nan, nan, nan, nan, ...]\n",
       "3                                                                                                                                                                                                                                                                                                                                                                                                                                                                                                                                                                                                                                                     [nan, nan, nan, nan, nan, nan, power back up, swimming pool, lift, security, nan, reserved parking, nan, nan, nan, nan, banquet hall, gymnasium, indoor games room, nan, nan, nan, rain water harvesting, nan, nan, nan, nan, nan, nan, nan, nan, nan, nan, nan, nan, nan, nan, nan, nan, multipurpose hall, nan, kids play area, nan, nan, nan, fire fighting equipment, nan, nan, nan, nan, nan, nan, nan, nan, nan, nan, nan, nan, nan, nan, nan, nan, nan, nan, nan, nan, nan, nan, nan, nan, nan, infinity swimming pool, cctv camera, barbeque space, cricket net practice, volleyball court, sewage treatment plant, nan, nan, nan, nan, nan, nan, nan, nan, nan, nan, nan, nan, nan, nan, nan, nan, nan, nan, nan, nan, nan, nan, nan, ...]\n",
       "4                                                                                                                                                                                                                                                                                                                                                                                                                                                                                                                                                                                                                                                                                                                                                                      [club house, nan, nan, nan, nan, nan, nan, swimming pool, nan, nan, nan, nan, nan, nan, nan, nan, banquet hall, gymnasium, indoor games room, aerobics room, nan, piped gas, nan, nan, nan, nan, nan, meditation area, nan, nan, nan, nan, nan, nan, nan, nan, nan, nan, nan, nan, nan, kids play area, nan, nan, nan, fire fighting equipment, nan, nan, nan, nan, nan, nan, nan, nan, nan, nan, nan, nan, nan, nan, nan, nan, nan, nan, nan, nan, nan, nan, nan, nan, nan, nan, nan, nan, nan, nan, nan, nan, nan, nan, nan, nan, nan, nan, nan, nan, nan, nan, nan, nan, nan, nan, nan, nan, nan, nan, nan, nan, nan, nan, ...]\n",
       "Name: ameties, dtype: object"
      ]
     },
     "execution_count": 5525,
     "metadata": {},
     "output_type": "execute_result"
    }
   ],
   "source": [
    "df['ameties'].head()"
   ]
  },
  {
   "cell_type": "code",
   "execution_count": 5526,
   "id": "61aa1863-d8fe-4daa-82e2-456836184e86",
   "metadata": {},
   "outputs": [],
   "source": [
    "df['ameties'] = df['ameties'].apply(lambda x: [i for i in x if i is not None])"
   ]
  },
  {
   "cell_type": "code",
   "execution_count": 5527,
   "id": "8768a24c-5d61-4310-95a2-b7faa85cf4c0",
   "metadata": {},
   "outputs": [
    {
     "data": {
      "text/plain": [
       "0                                                                                                                                                                                                                                            [club house, cafeteria/food court, bar/lounge, jogging and strolling track, outdoor tennis courts, barbeque pit, power back up, swimming pool, lift, security, park, reserved parking, service/goods lift, visitor parking, maintenance staff, bank & atm, banquet hall, gymnasium, indoor games room, aerobics room, laundry service, piped gas, rain water harvesting, water storage, indoor squash & badminton courts, arts & craft studio, multipurpose courts, meditation area, fingerprint access, premium branded fittings, waste disposal, conference room, mini cinema theatre, health club with steam / jaccuzi, located in the heart of city, large clubhouse, 3 tier security system, large open space, grand entrance lobby, multipurpose hall, solar energy, kids play area, library, badminton court, event space & amphitheatre, fire fighting equipment, nan, nan, nan, nan, nan, nan, nan, nan, nan, nan, nan, nan, nan, nan, nan, nan, nan, nan, nan, nan, nan, nan, nan, nan, nan, nan, nan, nan, nan, nan, nan, nan, nan, nan, nan, nan, nan, nan, nan, nan, nan, nan, nan, nan, nan, nan, nan, nan, nan, nan, nan, nan, nan, nan, ...]\n",
       "1    [club house, cafeteria/food court, bar/lounge, jogging and strolling track, outdoor tennis courts, barbeque pit, power back up, swimming pool, lift, security, park, reserved parking, service/goods lift, visitor parking, maintenance staff, bank & atm, banquet hall, gymnasium, indoor games room, aerobics room, laundry service, piped gas, rain water harvesting, water storage, indoor squash & badminton courts, arts & craft studio, multipurpose courts, meditation area, nan, nan, waste disposal, conference room, nan, nan, nan, nan, 3 tier security system, large open space, grand entrance lobby, multipurpose hall, nan, nan, nan, nan, event space & amphitheatre, fire fighting equipment, coffee lounge & restaurants, cycling & jogging track, private terrace/garden, dance studio, intercom facility, guest accommodation, kids club, concierge services, dth television facility, flower gardens, library and business centre, recreational pool, rentable community space, retail boulevard (retail shops), ro water system, air conditioned, canopy walk, vaastu compliant, internet/wi-fi connectivity, activity deck4, outdoor tennis courts, early learning centre, kids play pool with water slides, nan, nan, nan, nan, nan, nan, nan, nan, nan, nan, nan, nan, nan, nan, nan, nan, nan, nan, nan, nan, nan, nan, nan, nan, nan, nan, nan, nan, nan, nan, nan, ...]\n",
       "2                                                                                                                                                                                                                                                                                                                                                                                                                                                                                                                                                                                                                                                                                                                 [nan, nan, nan, jogging and strolling track, nan, barbeque pit, nan, nan, lift, security, nan, reserved parking, nan, visitor parking, nan, nan, nan, nan, indoor games room, nan, nan, nan, nan, nan, nan, nan, multipurpose courts, nan, nan, nan, nan, nan, nan, nan, nan, nan, nan, nan, nan, multipurpose hall, nan, kids play area, nan, nan, nan, nan, nan, nan, nan, nan, nan, nan, nan, nan, nan, nan, nan, nan, nan, nan, nan, nan, nan, nan, internet/wi-fi connectivity, nan, nan, nan, nan, cycling track, sand pit, nan, nan, nan, nan, nan, nan, nan, nan, nan, nan, nan, nan, nan, nan, nan, nan, nan, nan, nan, nan, nan, nan, nan, nan, nan, nan, nan, nan, nan, ...]\n",
       "3                                                                                                                                                                                                                                                                                                                                                                                                                                                                                                                                                                                                                                                     [nan, nan, nan, nan, nan, nan, power back up, swimming pool, lift, security, nan, reserved parking, nan, nan, nan, nan, banquet hall, gymnasium, indoor games room, nan, nan, nan, rain water harvesting, nan, nan, nan, nan, nan, nan, nan, nan, nan, nan, nan, nan, nan, nan, nan, nan, multipurpose hall, nan, kids play area, nan, nan, nan, fire fighting equipment, nan, nan, nan, nan, nan, nan, nan, nan, nan, nan, nan, nan, nan, nan, nan, nan, nan, nan, nan, nan, nan, nan, nan, nan, nan, infinity swimming pool, cctv camera, barbeque space, cricket net practice, volleyball court, sewage treatment plant, nan, nan, nan, nan, nan, nan, nan, nan, nan, nan, nan, nan, nan, nan, nan, nan, nan, nan, nan, nan, nan, nan, nan, ...]\n",
       "4                                                                                                                                                                                                                                                                                                                                                                                                                                                                                                                                                                                                                                                                                                                                                                      [club house, nan, nan, nan, nan, nan, nan, swimming pool, nan, nan, nan, nan, nan, nan, nan, nan, banquet hall, gymnasium, indoor games room, aerobics room, nan, piped gas, nan, nan, nan, nan, nan, meditation area, nan, nan, nan, nan, nan, nan, nan, nan, nan, nan, nan, nan, nan, kids play area, nan, nan, nan, fire fighting equipment, nan, nan, nan, nan, nan, nan, nan, nan, nan, nan, nan, nan, nan, nan, nan, nan, nan, nan, nan, nan, nan, nan, nan, nan, nan, nan, nan, nan, nan, nan, nan, nan, nan, nan, nan, nan, nan, nan, nan, nan, nan, nan, nan, nan, nan, nan, nan, nan, nan, nan, nan, nan, nan, nan, ...]\n",
       "Name: ameties, dtype: object"
      ]
     },
     "execution_count": 5527,
     "metadata": {},
     "output_type": "execute_result"
    }
   ],
   "source": [
    "df['ameties'].head()"
   ]
  },
  {
   "cell_type": "code",
   "execution_count": 5528,
   "id": "d5697535-cbe4-45e5-bdd7-1de222b9c133",
   "metadata": {},
   "outputs": [],
   "source": [
    "# Drop columns\n",
    "df = df.drop(['am_12204',\n",
    " 'am_12226',\n",
    " 'am_12225',\n",
    " 'am_12229',\n",
    " 'am_12230',\n",
    " 'am_1404107',\n",
    " 'am_12201',\n",
    " 'am_12205',\n",
    " 'am_12202',\n",
    " 'am_12209',\n",
    " 'am_12207',\n",
    " 'am_12208',\n",
    " 'am_12214',\n",
    " 'am_12216',\n",
    " 'am_12218',\n",
    " 'am_1404110',\n",
    " 'am_12224',\n",
    " 'am_12206',\n",
    " 'am_1404117',\n",
    " 'am_1404105',\n",
    " 'am_12220',\n",
    " 'am_12228',\n",
    " 'am_12203',\n",
    " 'am_12211',\n",
    " 'am_1404118',\n",
    " 'am_1404106',\n",
    " 'am_1404125',\n",
    " 'am_1404124',\n",
    " 'am_12538',\n",
    " 'am_12540',\n",
    " 'am_12219',\n",
    " 'am_12227',\n",
    " 'am_12523',\n",
    " 'am_12533',\n",
    " 'am_12534',\n",
    " 'am_12535',\n",
    " 'am_12536',\n",
    " 'am_12537',\n",
    " 'am_12539',\n",
    " 'am_12543',\n",
    " 'am_12545',\n",
    " 'am_12581',\n",
    " 'am_12583',\n",
    " 'am_1404155',\n",
    " 'am_1404114',\n",
    " 'am_1404143',\n",
    " 'am_1404109',\n",
    " 'am_1404131',\n",
    " 'am_12212',\n",
    " 'am_1404112',\n",
    " 'am_12217',\n",
    " 'am_1404116',\n",
    " 'am_1404120',\n",
    " 'am_1404111',\n",
    " 'am_12222',\n",
    " 'am_1404115',\n",
    " 'am_1404123',\n",
    " 'am_1404127',\n",
    " 'am_1404128',\n",
    " 'am_1404129',\n",
    " 'am_12223',\n",
    " 'am_12215',\n",
    " 'am_1404108',\n",
    " 'am_12213',\n",
    " 'am_12221',\n",
    " 'am_1404130',\n",
    " 'am_1404126',\n",
    " 'am_1404113',\n",
    " 'am_1404122',\n",
    " 'am_12586',\n",
    " 'am_1404156',\n",
    " 'am_12525',\n",
    " 'am_12547',\n",
    " 'am_12577',\n",
    " 'am_1404150',\n",
    " 'am_1404148',\n",
    " 'am_1404146',\n",
    " 'am_12529',\n",
    " 'am_12521',\n",
    " 'am_12522',\n",
    " 'am_12526',\n",
    " 'am_12530',\n",
    " 'am_12532',\n",
    " 'am_12528',\n",
    " 'am_12546',\n",
    " 'am_1404161',\n",
    " 'am_12234',\n",
    " 'am_12585',\n",
    " 'am_1404149',\n",
    " 'am_1404152',\n",
    " 'am_1404158',\n",
    " 'am_1404157',\n",
    " 'am_1404154',\n",
    " 'am_12511',\n",
    " 'am_12579',\n",
    " 'am_12527',\n",
    " 'am_12524',\n",
    " 'am_12541',\n",
    " 'am_12238',\n",
    " 'am_12562',\n",
    " 'am_12578',\n",
    " 'am_12548',\n",
    " 'am_12549',\n",
    " 'am_12239',\n",
    " 'am_1404151',\n",
    " 'am_12236',\n",
    " 'am_12237',\n",
    " 'am_12556',\n",
    " 'am_12560',\n",
    " 'am_12555',\n",
    " 'am_12561',\n",
    " 'am_1404147',\n",
    " 'am_12235',\n",
    " 'am_12557',\n",
    " 'am_12233',\n",
    " 'am_12531',\n",
    " 'am_12518',\n",
    " 'am_12232',\n",
    " 'am_12544',\n",
    " 'am_12551',\n",
    " 'am_12554',\n",
    " 'am_12542',\n",
    " 'am_12520',\n",
    " 'am_12558',\n",
    " 'am_12584',\n",
    " 'am_1404160',\n",
    " 'am_1404159',\n",
    " 'am_12516',\n",
    " 'am_12580',\n",
    " 'am_12513',\n",
    " 'am_12550',\n",
    " 'am_12552',\n",
    " 'am_12553'],axis=1)"
   ]
  },
  {
   "cell_type": "code",
   "execution_count": 5529,
   "id": "a6a03cf9-f2ad-4ba4-82c4-b52aa5fb8db3",
   "metadata": {},
   "outputs": [
    {
     "data": {
      "text/plain": [
       "(12011, 109)"
      ]
     },
     "execution_count": 5529,
     "metadata": {},
     "output_type": "execute_result"
    }
   ],
   "source": [
    "df.shape"
   ]
  },
  {
   "cell_type": "markdown",
   "id": "88d850f4-9662-4860-a429-6dd8c4f66ebd",
   "metadata": {},
   "source": [
    "# other columns "
   ]
  },
  {
   "cell_type": "markdown",
   "id": "c74ff25b-e83c-4301-8a50-6d18d37d49e6",
   "metadata": {},
   "source": [
    "### Observation\n",
    "- combine 'educational institute' - 'educational institute_1','educational institute_2','educational institute_3','educational institute_4','educational institute_5'\n",
    "- combine 'transportation hub' - 'transportation hub_1','transportation hub_2','transportation hub_3','transportation hub_4','transportation hub_5'\n",
    "- combine 'shopping centre' - 'shopping centre_1','shopping centre_2','shopping centre_3','shopping centre_4','shopping centre_5'\n",
    "- combine 'commercial hub_1','commercial hub_2','commercial hub_3','commercial hub_4','commercial hub_5'\n",
    "- combine 'hospital_1','hospital_2','hospital_3','hospital_4','hospital_5'\n",
    "- combine 'tourist spot_1','tourist spot_2','tourist spot_3','tourist spot_4'"
   ]
  },
  {
   "cell_type": "code",
   "execution_count": 5530,
   "id": "bede5e49-300d-46b9-926f-86f5ae3c368f",
   "metadata": {},
   "outputs": [],
   "source": [
    "# Combine values\n",
    "df['education'] = [list(values) for values in zip(df['educational institute_1'], df['educational institute_2'], df['educational institute_3'], df['educational institute_4'], df['educational institute_5'])]"
   ]
  },
  {
   "cell_type": "code",
   "execution_count": 5531,
   "id": "0875a829-617a-4600-9461-c732f036d8fd",
   "metadata": {},
   "outputs": [],
   "source": [
    "# Combine values\n",
    "df['transport'] = [list(values) for values in zip(df['transportation hub_1'], df['transportation hub_2'], df['transportation hub_3'], df['transportation hub_4'], df['transportation hub_5'])]"
   ]
  },
  {
   "cell_type": "code",
   "execution_count": 5532,
   "id": "58b673b5-c6de-4d60-b76c-37889879de4e",
   "metadata": {},
   "outputs": [],
   "source": [
    "# Combine values\n",
    "df['shopping_centre'] = [list(values) for values in zip(df['shopping centre_1'], df['shopping centre_2'], df['shopping centre_3'], df['shopping centre_4'], df['shopping centre_5'])]"
   ]
  },
  {
   "cell_type": "code",
   "execution_count": 5533,
   "id": "8f603953-421b-4f6f-998e-4769ddeecd89",
   "metadata": {},
   "outputs": [],
   "source": [
    "# Combine values\n",
    "df['commercial_hub'] = [list(values) for values in zip(df['commercial hub_1'], df['commercial hub_2'], df['commercial hub_3'], df['commercial hub_4'], df['commercial hub_5'])]"
   ]
  },
  {
   "cell_type": "code",
   "execution_count": 5534,
   "id": "4ab4bc08-aae4-48ae-b4d9-465ce103c4ce",
   "metadata": {},
   "outputs": [],
   "source": [
    "# Combine values\n",
    "df['hospital'] = [list(values) for values in zip(df['hospital_1'], df['hospital_2'], df['hospital_3'], df['hospital_4'], df['hospital_5'])]"
   ]
  },
  {
   "cell_type": "code",
   "execution_count": 5535,
   "id": "956b43a2-8c7d-4115-ba79-6f797e1ed9dd",
   "metadata": {},
   "outputs": [],
   "source": [
    "# Combine values\n",
    "df['tourist'] = [list(values) for values in zip(df['tourist spot_1'], df['tourist spot_2'], df['tourist spot_3'], df['tourist spot_4'])]"
   ]
  },
  {
   "cell_type": "code",
   "execution_count": 5536,
   "id": "e3a67e96-8dd1-42e5-aaa3-5fc8775ea062",
   "metadata": {},
   "outputs": [],
   "source": [
    "# Drop columns\n",
    "df = df.drop(['educational institute_1','educational institute_2','educational institute_3','educational institute_4','educational institute_5',\n",
    "             'transportation hub_1','transportation hub_2','transportation hub_3','transportation hub_4','transportation hub_5',\n",
    "             'shopping centre_1','shopping centre_2','shopping centre_3','shopping centre_4','shopping centre_5',\n",
    "             'commercial hub_1','commercial hub_2','commercial hub_3','commercial hub_4','commercial hub_5',\n",
    "             'hospital_1','hospital_2','hospital_3','hospital_4','hospital_5',\n",
    "             'tourist spot_1','tourist spot_2','tourist spot_3','tourist spot_4'],axis=1)"
   ]
  },
  {
   "cell_type": "code",
   "execution_count": 5537,
   "id": "9e94b278-be04-400d-b48b-807b2ea0a7f7",
   "metadata": {},
   "outputs": [
    {
     "data": {
      "text/plain": [
       "(12011, 86)"
      ]
     },
     "execution_count": 5537,
     "metadata": {},
     "output_type": "execute_result"
    }
   ],
   "source": [
    "df.shape"
   ]
  },
  {
   "cell_type": "code",
   "execution_count": 5538,
   "id": "5dda6503-d620-40bd-8be5-0a75702b2dc3",
   "metadata": {},
   "outputs": [],
   "source": [
    "df = df.drop(['@id','@type','bhk_type' ,'locality_url','md_booking amount','md_loan offered','md_water availability','ap_price','ap_price per sqft','ap_configuration','ap_pjt_url','ap_ratings','ap_reviews_by','headings_with_ratings','aboutpjt_bhk','2 bhk flat','locality_url_review','liv_environment','liv_commuting','liv_places of interest','md_status of electricity','3 bhk flat','1 bhk flat','studio apartment','4 bhk flat','5 bhk flat','md_landmarks', 'multistorey apartment', '3 bhk villa', '4 bhk villa', 'residential plot', '2 bhk builder', '3 bhk builder','4 bhk penthouse','5 bhk penthouse', 'md_authority approval','6 bhk flat','rent','commercial office space','3 bhk penthouse','md_rera id','aboutpjt_launch date'],axis=1)"
   ]
  },
  {
   "cell_type": "code",
   "execution_count": 5539,
   "id": "d63dc9b0-b200-43a9-a24f-32513b694694",
   "metadata": {},
   "outputs": [
    {
     "data": {
      "text/plain": [
       "(12011, 44)"
      ]
     },
     "execution_count": 5539,
     "metadata": {},
     "output_type": "execute_result"
    }
   ],
   "source": [
    "df.shape"
   ]
  },
  {
   "cell_type": "markdown",
   "id": "9bdce66c-dd84-454e-be51-112d3a7cfe32",
   "metadata": {},
   "source": [
    "# Overlooking"
   ]
  },
  {
   "cell_type": "markdown",
   "id": "2681633a-ef96-4f15-b47d-8347b3799db9",
   "metadata": {},
   "source": [
    "### Observation\n",
    "-  md_overlooking : rename"
   ]
  },
  {
   "cell_type": "code",
   "execution_count": 5540,
   "id": "1c29d7dc-f9b3-4d5f-a319-1afd8b83c5e1",
   "metadata": {},
   "outputs": [
    {
     "data": {
      "text/plain": [
       "md_overlooking\n",
       "main road                       2268\n",
       "garden/park, main road          1740\n",
       "garden/park                     1544\n",
       "garden/park, pool, main road    1425\n",
       "garden/park, pool                393\n",
       "pool, garden/park, main road     254\n",
       "pool                             102\n",
       "pool, main road                   60\n",
       "main road, garden/park            59\n",
       "pool, garden/park                 58\n",
       "main road, garden/park, pool      55\n",
       "garden/park, main road, pool       9\n",
       "pool, main road, garden/park       7\n",
       "main road, not available           2\n",
       "main road, pool, garden/park       1\n",
       "Name: count, dtype: int64"
      ]
     },
     "execution_count": 5540,
     "metadata": {},
     "output_type": "execute_result"
    }
   ],
   "source": [
    "df['md_overlooking'].value_counts()"
   ]
  },
  {
   "cell_type": "code",
   "execution_count": 5541,
   "id": "ce3ad5b7-2f28-4d12-b935-e2a4d42623ce",
   "metadata": {},
   "outputs": [],
   "source": [
    "df['md_overlooking'] = df['md_overlooking'].apply(\n",
    "    lambda x: ', '.join(sorted(x.split(', '))) if pd.notna(x) else None\n",
    ")"
   ]
  },
  {
   "cell_type": "code",
   "execution_count": 5542,
   "id": "5d4b5795-228e-4338-8a9e-e04fc9173e52",
   "metadata": {},
   "outputs": [],
   "source": [
    "df = df.rename(columns={'md_overlooking': 'overlooking'})"
   ]
  },
  {
   "cell_type": "markdown",
   "id": "e125b9e6-3567-41a7-9b54-9729eafa8d0f",
   "metadata": {},
   "source": [
    "# room_type"
   ]
  },
  {
   "cell_type": "markdown",
   "id": "be272060-1d7a-41a1-9f9d-79aa0df4fbbc",
   "metadata": {},
   "source": [
    "### Observation\n",
    "-make categories like flat and apartment from 'name' column "
   ]
  },
  {
   "cell_type": "code",
   "execution_count": 5543,
   "id": "e0b230b3-f830-4d79-bac3-edcf4b30394a",
   "metadata": {},
   "outputs": [],
   "source": [
    "df['room_type'] = df['name'].apply(lambda x: 'flat' if 'flat' in x else ('apartment' if 'apartment' in x else 'other'))"
   ]
  },
  {
   "cell_type": "code",
   "execution_count": 5544,
   "id": "12a758cf-b17e-4596-aaca-df82fecab831",
   "metadata": {},
   "outputs": [
    {
     "data": {
      "text/plain": [
       "room_type\n",
       "flat         11902\n",
       "apartment      109\n",
       "Name: count, dtype: int64"
      ]
     },
     "execution_count": 5544,
     "metadata": {},
     "output_type": "execute_result"
    }
   ],
   "source": [
    "df['room_type'].value_counts()"
   ]
  },
  {
   "cell_type": "code",
   "execution_count": 5545,
   "id": "c6d47e76-3555-4989-a7bd-6a7bb53ff1c7",
   "metadata": {},
   "outputs": [],
   "source": [
    "df = df.drop(['name'],axis=1)"
   ]
  },
  {
   "cell_type": "code",
   "execution_count": 5546,
   "id": "1cd7016e-63fe-44b0-9527-d86a5ffaf60d",
   "metadata": {},
   "outputs": [
    {
     "data": {
      "text/plain": [
       "(12011, 44)"
      ]
     },
     "execution_count": 5546,
     "metadata": {},
     "output_type": "execute_result"
    }
   ],
   "source": [
    "df.shape"
   ]
  },
  {
   "cell_type": "markdown",
   "id": "28dc10e0-4d3a-4d00-9384-aafbccec39d1",
   "metadata": {},
   "source": [
    "# EMI"
   ]
  },
  {
   "cell_type": "markdown",
   "id": "04c33db6-762c-4170-b1ff-d508fd47f2c1",
   "metadata": {},
   "source": [
    "### Observation\n",
    "- convert all emi values in lakh\n",
    "- some values in 3 digit only means 700 rs so convert them also into thousand\n",
    "- some values in lakh so convert then also into thousand "
   ]
  },
  {
   "cell_type": "code",
   "execution_count": 5547,
   "id": "66cee42f-a145-485c-b50f-07b8a91bd797",
   "metadata": {},
   "outputs": [
    {
     "data": {
      "text/plain": [
       "0      81k\n",
       "1    1.07l\n",
       "2      81k\n",
       "3      74k\n",
       "4      57k\n",
       "Name: emi, dtype: object"
      ]
     },
     "execution_count": 5547,
     "metadata": {},
     "output_type": "execute_result"
    }
   ],
   "source": [
    "df['emi'].head()"
   ]
  },
  {
   "cell_type": "code",
   "execution_count": 5548,
   "id": "1709a58a-8354-45d1-99a4-6ff642190b50",
   "metadata": {},
   "outputs": [
    {
     "data": {
      "text/plain": [
       "dtype('O')"
      ]
     },
     "execution_count": 5548,
     "metadata": {},
     "output_type": "execute_result"
    }
   ],
   "source": [
    "df['emi'].dtype"
   ]
  },
  {
   "cell_type": "code",
   "execution_count": 5549,
   "id": "e1d1afc8-4198-4c2a-ad53-37e2a75bc289",
   "metadata": {},
   "outputs": [],
   "source": [
    "converted_emi = []\n",
    "\n",
    "for emi_n in df['emi']:\n",
    "    if isinstance(emi_n, str):  # Check if emi_n is a string\n",
    "        if 'k' in emi_n:\n",
    "            # Convert from thousands to lakhs\n",
    "            converted_emi.append(float(emi_n.replace('k', '')) / 100)\n",
    "        elif 'l' in emi_n:\n",
    "            # No change needed for lakhs\n",
    "            converted_emi.append(float(emi_n.replace('l', '')))\n",
    "        else:\n",
    "            # Convert rupees to lakhs\n",
    "            converted_emi.append(float(emi_n) / 100000)\n",
    "    else:\n",
    "        # If it's already a float, convert rupees to lakhs\n",
    "        converted_emi.append(emi_n / 100000)\n",
    "\n",
    "# Add the converted values to the DataFrame\n",
    "df['converted_emi'] = converted_emi\n"
   ]
  },
  {
   "cell_type": "code",
   "execution_count": 5550,
   "id": "bfc13855-5a0d-4df4-861c-d222e8c2257d",
   "metadata": {},
   "outputs": [],
   "source": [
    "df = df.drop(['emi'],axis=1)"
   ]
  },
  {
   "cell_type": "markdown",
   "id": "5ee8430a-5720-4a05-bcdf-8b1c4ae73aff",
   "metadata": {},
   "source": [
    "# project_in_acres"
   ]
  },
  {
   "cell_type": "markdown",
   "id": "9902e5da-6395-4a8f-baf5-7e3bcb2153e0",
   "metadata": {},
   "source": [
    "### Observation\n",
    "- aboutpjt_project size : convert all in sqft"
   ]
  },
  {
   "cell_type": "code",
   "execution_count": 5551,
   "id": "dfec60a0-bd6a-4c09-83b3-a66acc0d1d4b",
   "metadata": {},
   "outputs": [
    {
     "data": {
      "text/plain": [
       "np.int64(5854)"
      ]
     },
     "execution_count": 5551,
     "metadata": {},
     "output_type": "execute_result"
    }
   ],
   "source": [
    "df['aboutpjt_project size'].isna().sum()"
   ]
  },
  {
   "cell_type": "code",
   "execution_count": 5552,
   "id": "c5c2fd13-c6e0-476f-9173-270a1a56b22e",
   "metadata": {},
   "outputs": [
    {
     "data": {
      "text/plain": [
       "aboutpjt_project size\n",
       "acre       5527\n",
       "sq-m        451\n",
       "sq-ft       175\n",
       "hectare       3\n",
       "sq-yrd        1\n",
       "Name: count, dtype: int64"
      ]
     },
     "execution_count": 5552,
     "metadata": {},
     "output_type": "execute_result"
    }
   ],
   "source": [
    "df['aboutpjt_project size'].str.split(' ').str[1].value_counts()"
   ]
  },
  {
   "cell_type": "code",
   "execution_count": 5553,
   "id": "a6beabf2-e326-4962-ad48-24e3362fd4af",
   "metadata": {},
   "outputs": [],
   "source": [
    "# Conversion function for different units to acres\n",
    "def convert_to_acres(value):\n",
    "    if isinstance(value, str):  # Check if the value is a string\n",
    "        if 'acre' in value:\n",
    "            acres = float(value.replace('acre', '').strip())\n",
    "            return round(acres, 4)  \n",
    "        elif 'sq-m' in value:\n",
    "            sqm = float(value.replace('sq-m', '').strip())\n",
    "            return round(sqm * 0.000247105, 4)  \n",
    "        elif 'sq-ft' in value:\n",
    "            sqft = float(value.replace('sq-ft', '').strip())\n",
    "            return round(sqft * 0.0000229568, 4)  \n",
    "        elif 'hectare' in value:\n",
    "            hectares = float(value.replace('hectare', '').strip())\n",
    "            return round(hectares * 2.47105, 4)  \n",
    "        elif 'sq-yrd' in value:\n",
    "            sq_yrd = float(value.replace('sq-yrd', '').strip())\n",
    "            return round(sq_yrd * 0.000836127, 4)  \n",
    "    elif isinstance(value, (int, float)):  # If value is numeric\n",
    "        return round(value * 0.0000229568, 4)  \n",
    "    return 0\n",
    "\n",
    "# Apply the conversion to the column\n",
    "df['project_in_acres'] = df['aboutpjt_project size'].apply(lambda x: convert_to_acres(x))\n"
   ]
  },
  {
   "cell_type": "code",
   "execution_count": 5554,
   "id": "ffc2757f-447a-445b-b7a2-07a17acdd979",
   "metadata": {},
   "outputs": [],
   "source": [
    "df = df.drop(['aboutpjt_project size'],axis=1)"
   ]
  },
  {
   "cell_type": "code",
   "execution_count": 5555,
   "id": "a63ba205-b245-41ef-a59b-5bc232165a13",
   "metadata": {},
   "outputs": [
    {
     "data": {
      "text/plain": [
       "id                        0\n",
       "url                       0\n",
       "image                   927\n",
       "md_address                0\n",
       "md_flooring            4524\n",
       "image_urls             4349\n",
       "available_units        5324\n",
       "towers                 5132\n",
       "locality_rank          3930\n",
       "locality_url_rating     474\n",
       "construction           1101\n",
       "overlooking            4034\n",
       "ownership              3670\n",
       "extra_rooms            5392\n",
       "bath                     43\n",
       "parking                6335\n",
       "builder                4372\n",
       "project_name           3594\n",
       "furnish                  45\n",
       "f_price                   0\n",
       "f_area                    5\n",
       "f_costpersqft             6\n",
       "property_type             3\n",
       "status                   86\n",
       "lift                   5535\n",
       "flat_on_floor          2308\n",
       "total_floor            2075\n",
       "balcony                5911\n",
       "facing                 3800\n",
       "bed                     109\n",
       "lattitude               474\n",
       "longitude               474\n",
       "seller                    0\n",
       "addressregion             0\n",
       "ameties                   0\n",
       "education                 0\n",
       "transport                 0\n",
       "shopping_centre           0\n",
       "commercial_hub            0\n",
       "hospital                  0\n",
       "tourist                   0\n",
       "room_type                 0\n",
       "converted_emi             2\n",
       "project_in_acres       5854\n",
       "dtype: int64"
      ]
     },
     "execution_count": 5555,
     "metadata": {},
     "output_type": "execute_result"
    }
   ],
   "source": [
    "df.isnull().sum()"
   ]
  },
  {
   "cell_type": "code",
   "execution_count": 5556,
   "id": "37cfffe4-dd2f-439c-b678-ca46119085da",
   "metadata": {},
   "outputs": [
    {
     "data": {
      "text/plain": [
       "(12011, 44)"
      ]
     },
     "execution_count": 5556,
     "metadata": {},
     "output_type": "execute_result"
    }
   ],
   "source": [
    "df.shape"
   ]
  },
  {
   "cell_type": "code",
   "execution_count": 5557,
   "id": "8c7ccfd4-2be9-408b-845d-172697b33c0e",
   "metadata": {},
   "outputs": [],
   "source": [
    "#rename columns \n",
    "'md_address,md_flooring,f_price,f_area,f_costpersqft,converted_emi'\n",
    "df = df.rename(columns={'md_address':'address','md_flooring':'flooring','f_price':'price','f_area':'area','f_costpersqft':'costpersqft','converted_emi':'emi','locality_url_rating':'locality_rating'})"
   ]
  },
  {
   "cell_type": "code",
   "execution_count": 5558,
   "id": "6502032a-532e-42a2-a6af-03e27ddbb585",
   "metadata": {},
   "outputs": [
    {
     "name": "stdout",
     "output_type": "stream",
     "text": [
      "<class 'pandas.core.frame.DataFrame'>\n",
      "Index: 12011 entries, 0 to 12021\n",
      "Data columns (total 44 columns):\n",
      " #   Column            Non-Null Count  Dtype  \n",
      "---  ------            --------------  -----  \n",
      " 0   id                12011 non-null  object \n",
      " 1   url               12011 non-null  object \n",
      " 2   image             11084 non-null  object \n",
      " 3   address           12011 non-null  object \n",
      " 4   flooring          7487 non-null   object \n",
      " 5   image_urls        7662 non-null   object \n",
      " 6   available_units   6687 non-null   float64\n",
      " 7   towers            6879 non-null   float64\n",
      " 8   locality_rank     8081 non-null   float64\n",
      " 9   locality_rating   11537 non-null  float64\n",
      " 10  construction      10910 non-null  object \n",
      " 11  overlooking       7977 non-null   object \n",
      " 12  ownership         8341 non-null   object \n",
      " 13  extra_rooms       6619 non-null   object \n",
      " 14  bath              11968 non-null  float64\n",
      " 15  parking           5676 non-null   float64\n",
      " 16  builder           7639 non-null   object \n",
      " 17  project_name      8417 non-null   object \n",
      " 18  furnish           11966 non-null  object \n",
      " 19  price             12011 non-null  float64\n",
      " 20  area              12006 non-null  object \n",
      " 21  costpersqft       12005 non-null  float64\n",
      " 22  property_type     12008 non-null  object \n",
      " 23  status            11925 non-null  object \n",
      " 24  lift              6476 non-null   float64\n",
      " 25  flat_on_floor     9703 non-null   float64\n",
      " 26  total_floor       9936 non-null   float64\n",
      " 27  balcony           6100 non-null   float64\n",
      " 28  facing            8211 non-null   object \n",
      " 29  bed               11902 non-null  float64\n",
      " 30  lattitude         11537 non-null  float64\n",
      " 31  longitude         11537 non-null  float64\n",
      " 32  seller            12011 non-null  object \n",
      " 33  addressregion     12011 non-null  object \n",
      " 34  ameties           12011 non-null  object \n",
      " 35  education         12011 non-null  object \n",
      " 36  transport         12011 non-null  object \n",
      " 37  shopping_centre   12011 non-null  object \n",
      " 38  commercial_hub    12011 non-null  object \n",
      " 39  hospital          12011 non-null  object \n",
      " 40  tourist           12011 non-null  object \n",
      " 41  room_type         12011 non-null  object \n",
      " 42  emi               12009 non-null  float64\n",
      " 43  project_in_acres  6157 non-null   float64\n",
      "dtypes: float64(17), object(27)\n",
      "memory usage: 4.1+ MB\n"
     ]
    }
   ],
   "source": [
    "df.info()"
   ]
  },
  {
   "cell_type": "code",
   "execution_count": 5559,
   "id": "641c098e-a44a-472a-9a1a-286a2ca6b3db",
   "metadata": {},
   "outputs": [
    {
     "name": "stdout",
     "output_type": "stream",
     "text": [
      "\n",
      "Percentage of missing values in each column:\n",
      "id                   0.000000\n",
      "url                  0.000000\n",
      "image                7.717925\n",
      "address              0.000000\n",
      "flooring            37.665473\n",
      "image_urls          36.208476\n",
      "available_units     44.326034\n",
      "towers              42.727500\n",
      "locality_rank       32.720007\n",
      "locality_rating      3.946382\n",
      "construction         9.166597\n",
      "overlooking         33.585880\n",
      "ownership           30.555324\n",
      "extra_rooms         44.892182\n",
      "bath                 0.358005\n",
      "parking             52.743319\n",
      "builder             36.399967\n",
      "project_name        29.922571\n",
      "furnish              0.374657\n",
      "price                0.000000\n",
      "area                 0.041629\n",
      "costpersqft          0.049954\n",
      "property_type        0.024977\n",
      "status               0.716010\n",
      "lift                46.082757\n",
      "flat_on_floor       19.215719\n",
      "total_floor         17.275830\n",
      "balcony             49.213221\n",
      "facing              31.637665\n",
      "bed                  0.907501\n",
      "lattitude            3.946382\n",
      "longitude            3.946382\n",
      "seller               0.000000\n",
      "addressregion        0.000000\n",
      "ameties              0.000000\n",
      "education            0.000000\n",
      "transport            0.000000\n",
      "shopping_centre      0.000000\n",
      "commercial_hub       0.000000\n",
      "hospital             0.000000\n",
      "tourist              0.000000\n",
      "room_type            0.000000\n",
      "emi                  0.016651\n",
      "project_in_acres    48.738656\n",
      "dtype: float64\n"
     ]
    }
   ],
   "source": [
    "#missing value in percentage\n",
    "missing_values_percentage = (df.isnull().sum() / len(df)) * 100\n",
    "print(\"\\nPercentage of missing values in each column:\")\n",
    "print(missing_values_percentage)"
   ]
  },
  {
   "cell_type": "markdown",
   "id": "73f769cb-214f-452b-a76e-f021ee5cc004",
   "metadata": {},
   "source": [
    "# flooring "
   ]
  },
  {
   "cell_type": "markdown",
   "id": "a4db0df7-8594-42f4-804b-d240c1078a35",
   "metadata": {},
   "source": [
    "### Observation \n",
    "- 37% missing values \n",
    "- still I make feature engineering on that and I have make that using two different approach  \n",
    "  - 1st Approach : Kmeans clustering \n",
    "    - using MultiLabelBinarizer create binary features\n",
    "    - apply kmeans and find cluster\n",
    "  - 2nd Approach : avg weightage for each flooring\n",
    "    - assign weightage to each flooring according to the cost and quality of the material\n",
    "    - cal sum of weightage for each data points "
   ]
  },
  {
   "cell_type": "code",
   "execution_count": 5560,
   "id": "0e8e3e94-2b74-4c44-a8fe-014b423bd8d2",
   "metadata": {},
   "outputs": [
    {
     "data": {
      "text/plain": [
       "dtype('O')"
      ]
     },
     "execution_count": 5560,
     "metadata": {},
     "output_type": "execute_result"
    }
   ],
   "source": [
    "df['flooring'].dtype"
   ]
  },
  {
   "cell_type": "code",
   "execution_count": 5561,
   "id": "c4a3af49-c30d-4088-bbd6-1de69af559d1",
   "metadata": {},
   "outputs": [
    {
     "data": {
      "text/plain": [
       "flooring\n",
       "vitrified                                                                                         3705\n",
       "marble                                                                                             693\n",
       "ceramic tiles                                                                                      332\n",
       "vitrified, wooden                                                                                  168\n",
       "granite, vitrified                                                                                 134\n",
       "marble, vitrified                                                                                  129\n",
       "ceramic tiles, vitrified                                                                           113\n",
       "vitrified, marble, granite                                                                          95\n",
       "vitrified, ceramic tiles                                                                            94\n",
       "ceramic tiles, granite, vitrified                                                                   85\n",
       "vitrified, marble                                                                                   82\n",
       "granite                                                                                             79\n",
       "marble, wooden                                                                                      71\n",
       "ceramic tiles, granite, marble, marbonite, mosaic, normal tiles/kotah stone, vitrified, wooden      68\n",
       "mosaic, vitrified, wooden, ceramic tiles, marble, normal tiles/kotah stone, granite, marbonite      66\n",
       "normal tiles/kotah stone                                                                            64\n",
       "ceramic tiles, granite                                                                              57\n",
       "marbonite                                                                                           52\n",
       "ceramic tiles, granite, marble                                                                      50\n",
       "vitrified, granite                                                                                  49\n",
       "granite, marble, vitrified                                                                          46\n",
       "ceramic tiles, marble                                                                               41\n",
       "mosaic                                                                                              33\n",
       "vitrified, ceramic tiles, marble                                                                    31\n",
       "marble, vitrified, wooden                                                                           28\n",
       "vitrified, wooden, marble                                                                           28\n",
       "marbonite, vitrified                                                                                28\n",
       "mosaic, vitrified                                                                                   27\n",
       "vitrified, ceramic tiles, marble, granite                                                           27\n",
       "granite, marble                                                                                     26\n",
       "ceramic tiles, granite, marble, vitrified                                                           26\n",
       "ceramic tiles, marble, vitrified                                                                    25\n",
       "vitrified, wooden, ceramic tiles                                                                    25\n",
       "vitrified, marbonite                                                                                23\n",
       "wooden, marble                                                                                      21\n",
       "ceramic tiles, vitrified, wooden                                                                    20\n",
       "vitrified, wooden, ceramic tiles, marble, normal tiles/kotah stone, granite, marbonite              20\n",
       "vitrified, ceramic tiles, granite                                                                   19\n",
       "marble, marbonite                                                                                   18\n",
       "ceramic tiles, marble, mosaic, vitrified                                                            17\n",
       "ceramic tiles, granite, marble, vitrified, wooden                                                   16\n",
       "ceramic tiles, granite, marble, marbonite, mosaic, normal tiles/kotah stone, vitrified              15\n",
       "marble, granite                                                                                     15\n",
       "wooden                                                                                              14\n",
       "granite, vitrified, wooden                                                                          14\n",
       "ceramic tiles, marble, granite                                                                      14\n",
       "mosaic, vitrified, ceramic tiles, marble, normal tiles/kotah stone, granite, marbonite              13\n",
       "marble, granite, marbonite                                                                          13\n",
       "vitrified, wooden, ceramic tiles, marbonite                                                         12\n",
       "ceramic tiles, mosaic, vitrified                                                                    12\n",
       "ceramic tiles, marble, mosaic                                                                       12\n",
       "granite, marbonite                                                                                  12\n",
       "granite, marble, wooden                                                                             12\n",
       "marble, marbonite, vitrified                                                                        12\n",
       "normal tiles/kotah stone, vitrified                                                                 11\n",
       "vitrified, ceramic tiles, marble, normal tiles/kotah stone, granite, marbonite                      11\n",
       "mosaic, vitrified, wooden, marble                                                                   11\n",
       "vitrified, ceramic tiles, marble, granite, marbonite                                                10\n",
       "ceramic tiles, marble, vitrified, wooden                                                            10\n",
       "granite, marble, marbonite                                                                          10\n",
       "ceramic tiles, granite, normal tiles/kotah stone, vitrified                                         10\n",
       "ceramic tiles, granite, marble, marbonite                                                           10\n",
       "granite, marble, normal tiles/kotah stone, vitrified                                                10\n",
       "vitrified, normal tiles/kotah stone                                                                 10\n",
       "ceramic tiles, granite, marble, normal tiles/kotah stone, vitrified, wooden                          9\n",
       "ceramic tiles, granite, vitrified, wooden                                                            9\n",
       "ceramic tiles, marble, wooden                                                                        9\n",
       "vitrified, wooden, marble, granite                                                                   9\n",
       "mosaic, vitrified, wooden                                                                            8\n",
       "ceramic tiles, granite, marble, marbonite, vitrified                                                 8\n",
       "marble, normal tiles/kotah stone                                                                     8\n",
       "granite, marble, marbonite, vitrified                                                                8\n",
       "granite, marbonite, vitrified                                                                        8\n",
       "vitrified, marble, marbonite                                                                         8\n",
       "vitrified, marble, granite, marbonite                                                                7\n",
       "ceramic tiles, marbonite, vitrified                                                                  7\n",
       "marble, marbonite, vitrified, wooden                                                                 7\n",
       "granite, marble, vitrified, wooden                                                                   7\n",
       "vitrified, wooden, granite                                                                           7\n",
       "normal tiles/kotah stone, vitrified, wooden                                                          7\n",
       "vitrified, wooden, marbonite                                                                         7\n",
       "granite, marble, mosaic, vitrified                                                                   6\n",
       "ceramic tiles, normal tiles/kotah stone, vitrified                                                   6\n",
       "mosaic, vitrified, ceramic tiles, marble, granite                                                    6\n",
       "mosaic, vitrified, ceramic tiles                                                                     6\n",
       "ceramic tiles, granite, marble, marbonite, vitrified, wooden                                         6\n",
       "wooden, ceramic tiles, granite, marbonite                                                            6\n",
       "ceramic tiles, wooden                                                                                6\n",
       "ceramic tiles, granite, marble, marbonite, mosaic, vitrified, wooden                                 6\n",
       "granite, marble, marbonite, mosaic, normal tiles/kotah stone, vitrified                              5\n",
       "wooden, marble, granite                                                                              5\n",
       "mosaic, vitrified, marble, granite                                                                   5\n",
       "granite, mosaic                                                                                      5\n",
       "ceramic tiles, granite, marbonite, vitrified                                                         5\n",
       "ceramic tiles, granite, marble, marbonite, mosaic, normal tiles/kotah stone                          5\n",
       "vitrified, ceramic tiles, normal tiles/kotah stone, granite                                          5\n",
       "vitrified, granite, marbonite                                                                        5\n",
       "ceramic tiles, marble, marbonite                                                                     5\n",
       "ceramic tiles, granite, marble, normal tiles/kotah stone, vitrified                                  5\n",
       "vitrified, ceramic tiles, normal tiles/kotah stone                                                   5\n",
       "ceramic tiles, marbonite                                                                             5\n",
       "ceramic tiles, marbonite, mosaic, wooden                                                             4\n",
       "ceramic tiles, marble, marbonite, vitrified                                                          4\n",
       "ceramic tiles, normal tiles/kotah stone                                                              4\n",
       "wooden, granite                                                                                      4\n",
       "ceramic tiles, granite, marble, mosaic                                                               4\n",
       "vitrified, wooden, ceramic tiles, granite                                                            3\n",
       "ceramic tiles, granite, marble, marbonite, mosaic, normal tiles/kotah stone, wooden                  3\n",
       "marble, marbonite, mosaic, normal tiles/kotah stone                                                  3\n",
       "ceramic tiles, granite, marble, wooden                                                               3\n",
       "marbonite, vitrified, wooden                                                                         3\n",
       "granite, marble, marbonite, normal tiles/kotah stone                                                 3\n",
       "ceramic tiles, granite, marble, marbonite, mosaic, vitrified                                         3\n",
       "wooden, normal tiles/kotah stone                                                                     3\n",
       "ceramic tiles, granite, mosaic                                                                       3\n",
       "granite, mosaic, vitrified                                                                           3\n",
       "vitrified, wooden, ceramic tiles, marble, granite, marbonite                                         3\n",
       "ceramic tiles, marbonite, mosaic                                                                     3\n",
       "mosaic, normal tiles/kotah stone, vitrified                                                          3\n",
       "marbonite, wooden                                                                                    3\n",
       "vitrified, ceramic tiles, marble, normal tiles/kotah stone, granite                                  2\n",
       "mosaic, vitrified, wooden, ceramic tiles, marble, granite, marbonite                                 2\n",
       "vitrified, wooden, ceramic tiles, marble, granite                                                    2\n",
       "mosaic, vitrified, granite                                                                           2\n",
       "ceramic tiles, marble, normal tiles/kotah stone                                                      2\n",
       "marble, marbonite, wooden                                                                            2\n",
       "ceramic tiles, marble, marbonite, normal tiles/kotah stone                                           2\n",
       "marble, mosaic                                                                                       2\n",
       "vitrified, wooden, ceramic tiles, marble, normal tiles/kotah stone, marbonite                        2\n",
       "wooden, ceramic tiles, marble                                                                        2\n",
       "ceramic tiles, granite, marble, marbonite, normal tiles/kotah stone, vitrified, wooden               2\n",
       "granite, marble, marbonite, mosaic, vitrified                                                        2\n",
       "vitrified, wooden, ceramic tiles, granite, marbonite                                                 2\n",
       "vitrified, wooden, normal tiles/kotah stone                                                          2\n",
       "ceramic tiles, granite, normal tiles/kotah stone, vitrified, wooden                                  2\n",
       "mosaic, wooden, marble                                                                               2\n",
       "ceramic tiles, marbonite, vitrified, wooden                                                          2\n",
       "marble, mosaic, vitrified                                                                            2\n",
       "mosaic, vitrified, wooden, ceramic tiles                                                             2\n",
       "mosaic, vitrified, wooden, ceramic tiles, marble, normal tiles/kotah stone, granite                  2\n",
       "vitrified, wooden, ceramic tiles, marble, normal tiles/kotah stone, granite                          2\n",
       "vitrified, marble, normal tiles/kotah stone                                                          2\n",
       "mosaic, vitrified, ceramic tiles, marble, granite, marbonite                                         2\n",
       "ceramic tiles, granite, marbonite                                                                    2\n",
       "ceramic tiles, granite, marble, marbonite, normal tiles/kotah stone, vitrified                       2\n",
       "vitrified, wooden, ceramic tiles, marble                                                             2\n",
       "granite, marbonite, mosaic, normal tiles/kotah stone, vitrified                                      2\n",
       "ceramic tiles, granite, mosaic, vitrified                                                            2\n",
       "mosaic, normal tiles/kotah stone, vitrified, wooden                                                  2\n",
       "ceramic tiles, granite, marbonite, mosaic, normal tiles/kotah stone, vitrified                       2\n",
       "ceramic tiles, granite, mosaic, normal tiles/kotah stone, vitrified                                  2\n",
       "ceramic tiles, granite, marble, mosaic, vitrified, wooden                                            2\n",
       "ceramic tiles, mosaic                                                                                2\n",
       "ceramic tiles, marble, marbonite, vitrified, wooden                                                  2\n",
       "marble, marbonite, mosaic, normal tiles/kotah stone, wooden                                          2\n",
       "ceramic tiles, granite, marble, normal tiles/kotah stone                                             2\n",
       "mosaic, marble                                                                                       2\n",
       "ceramic tiles, granite, marble, marbonite, mosaic                                                    2\n",
       "vitrified, marble, normal tiles/kotah stone, marbonite                                               2\n",
       "granite, marbonite, vitrified, wooden                                                                2\n",
       "vitrified, ceramic tiles, normal tiles/kotah stone, granite, marbonite                               2\n",
       "mosaic, ceramic tiles, marble, normal tiles/kotah stone, marbonite                                   2\n",
       "mosaic, vitrified, ceramic tiles, marble                                                             2\n",
       "vitrified, ceramic tiles, granite, marbonite                                                         2\n",
       "ceramic tiles, granite, marble, marbonite, mosaic, wooden                                            2\n",
       "mosaic, vitrified, ceramic tiles, granite                                                            2\n",
       "ceramic tiles, marble, granite, marbonite                                                            2\n",
       "ceramic tiles, granite, marbonite, normal tiles/kotah stone, vitrified                               2\n",
       "ceramic tiles, marbonite, mosaic, vitrified                                                          1\n",
       "ceramic tiles, marble, marbonite, mosaic, vitrified, wooden                                          1\n",
       "mosaic, vitrified, normal tiles/kotah stone, marbonite                                               1\n",
       "mosaic, vitrified, marble, granite, marbonite                                                        1\n",
       "mosaic, wooden, marble, granite, marbonite                                                           1\n",
       "ceramic tiles, granite, marbonite, vitrified, wooden                                                 1\n",
       "mosaic, vitrified, wooden, ceramic tiles, normal tiles/kotah stone, granite, marbonite               1\n",
       "granite, normal tiles/kotah stone, vitrified                                                         1\n",
       "granite, marble, marbonite, normal tiles/kotah stone, vitrified                                      1\n",
       "granite, marbonite, mosaic, vitrified                                                                1\n",
       "granite, marble, marbonite, mosaic                                                                   1\n",
       "ceramic tiles, granite, marble, mosaic, vitrified                                                    1\n",
       "ceramic tiles, marble, normal tiles/kotah stone, granite                                             1\n",
       "mosaic, marble, granite                                                                              1\n",
       "granite, wooden                                                                                      1\n",
       "ceramic tiles, granite, marble, marbonite, normal tiles/kotah stone                                  1\n",
       "mosaic, vitrified, granite, marbonite                                                                1\n",
       "marble, marbonite, mosaic, wooden                                                                    1\n",
       "wooden, marble, normal tiles/kotah stone                                                             1\n",
       "granite, marble, marbonite, vitrified, wooden                                                        1\n",
       "wooden, ceramic tiles, marble, normal tiles/kotah stone, granite, marbonite                          1\n",
       "vitrified, wooden, marble, normal tiles/kotah stone, marbonite                                       1\n",
       "ceramic tiles, granite, marbonite, mosaic, vitrified, wooden                                         1\n",
       "marble, normal tiles/kotah stone, granite, marbonite                                                 1\n",
       "mosaic, vitrified, wooden, ceramic tiles, marbonite                                                  1\n",
       "mosaic, ceramic tiles, marble, normal tiles/kotah stone, granite                                     1\n",
       "mosaic, vitrified, marble                                                                            1\n",
       "mosaic, vitrified, ceramic tiles, normal tiles/kotah stone, granite, marbonite                       1\n",
       "vitrified, wooden, marble, normal tiles/kotah stone                                                  1\n",
       "mosaic, vitrified, wooden, marble, granite                                                           1\n",
       "marble, marbonite, normal tiles/kotah stone, vitrified                                               1\n",
       "granite, marble, mosaic                                                                              1\n",
       "marble, normal tiles/kotah stone, vitrified                                                          1\n",
       "ceramic tiles, granite, marbonite, wooden                                                            1\n",
       "vitrified, wooden, marble, normal tiles/kotah stone, granite, marbonite                              1\n",
       "granite, marble, marbonite, mosaic, vitrified, wooden                                                1\n",
       "vitrified, marble, normal tiles/kotah stone, granite                                                 1\n",
       "marbonite, mosaic, vitrified                                                                         1\n",
       "mosaic, ceramic tiles                                                                                1\n",
       "ceramic tiles, granite, marbonite, normal tiles/kotah stone, wooden                                  1\n",
       "ceramic tiles, marbonite, mosaic, vitrified, wooden                                                  1\n",
       "normal tiles/kotah stone, marbonite                                                                  1\n",
       "mosaic, vitrified, ceramic tiles, marble, marbonite                                                  1\n",
       "ceramic tiles, granite, mosaic, wooden                                                               1\n",
       "granite, marble, mosaic, wooden                                                                      1\n",
       "mosaic, normal tiles/kotah stone                                                                     1\n",
       "wooden, ceramic tiles, marble, marbonite                                                             1\n",
       "marble, mosaic, normal tiles/kotah stone                                                             1\n",
       "wooden, marbonite                                                                                    1\n",
       "marble, mosaic, normal tiles/kotah stone, vitrified                                                  1\n",
       "mosaic, vitrified, ceramic tiles, marble, normal tiles/kotah stone, granite                          1\n",
       "ceramic tiles, granite, marbonite, mosaic, vitrified                                                 1\n",
       "normal tiles/kotah stone, granite, marbonite                                                         1\n",
       "mosaic, wooden, ceramic tiles, marble, normal tiles/kotah stone, marbonite                           1\n",
       "mosaic, ceramic tiles, marble, normal tiles/kotah stone, granite, marbonite                          1\n",
       "mosaic, vitrified, wooden, marble, normal tiles/kotah stone, granite                                 1\n",
       "wooden, ceramic tiles, marble, granite, marbonite                                                    1\n",
       "vitrified, wooden, granite, marbonite                                                                1\n",
       "mosaic, vitrified, wooden, ceramic tiles, marble, marbonite                                          1\n",
       "wooden, ceramic tiles, marble, normal tiles/kotah stone                                              1\n",
       "mosaic, wooden, ceramic tiles, normal tiles/kotah stone                                              1\n",
       "vitrified, wooden, normal tiles/kotah stone, granite                                                 1\n",
       "ceramic tiles, granite, marble, marbonite, wooden                                                    1\n",
       "vitrified, wooden, marble, marbonite                                                                 1\n",
       "mosaic, wooden, ceramic tiles, marbonite                                                             1\n",
       "ceramic tiles, granite, marble, mosaic, normal tiles/kotah stone, wooden                             1\n",
       "ceramic tiles, marbonite, mosaic, normal tiles/kotah stone, wooden                                   1\n",
       "mosaic, vitrified, marble, normal tiles/kotah stone, marbonite                                       1\n",
       "wooden, marble, normal tiles/kotah stone, granite                                                    1\n",
       "ceramic tiles, marble, marbonite, mosaic                                                             1\n",
       "wooden, marble, marbonite                                                                            1\n",
       "mosaic, vitrified, ceramic tiles, granite, marbonite                                                 1\n",
       "mosaic, vitrified, ceramic tiles, normal tiles/kotah stone                                           1\n",
       "mosaic, vitrified, wooden, ceramic tiles, marble                                                     1\n",
       "ceramic tiles, marble, marbonite, mosaic, normal tiles/kotah stone, vitrified                        1\n",
       "wooden, ceramic tiles, granite                                                                       1\n",
       "mosaic, marbonite                                                                                    1\n",
       "mosaic, ceramic tiles, granite                                                                       1\n",
       "ceramic tiles, granite, marble, mosaic, normal tiles/kotah stone, vitrified                          1\n",
       "marbonite, mosaic, normal tiles/kotah stone, vitrified, wooden                                       1\n",
       "wooden, ceramic tiles                                                                                1\n",
       "mosaic, vitrified, normal tiles/kotah stone, granite, marbonite                                      1\n",
       "wooden, ceramic tiles, marble, granite                                                               1\n",
       "ceramic tiles, granite, marble, marbonite, normal tiles/kotah stone, wooden                          1\n",
       "Name: count, dtype: int64"
      ]
     },
     "execution_count": 5561,
     "metadata": {},
     "output_type": "execute_result"
    }
   ],
   "source": [
    "df['flooring'].value_counts()"
   ]
  },
  {
   "cell_type": "code",
   "execution_count": 5562,
   "id": "3ab21383-54e8-46ee-8559-e42acd5ae9f0",
   "metadata": {},
   "outputs": [
    {
     "data": {
      "text/plain": [
       "np.int64(4524)"
      ]
     },
     "execution_count": 5562,
     "metadata": {},
     "output_type": "execute_result"
    }
   ],
   "source": [
    "df['flooring'].isnull().sum()\n"
   ]
  },
  {
   "cell_type": "code",
   "execution_count": 5563,
   "id": "8308c8d5-4100-4d64-806c-1fd76cf0cff4",
   "metadata": {},
   "outputs": [],
   "source": [
    "df['flooring'] = df['flooring'].fillna('unknown')"
   ]
  },
  {
   "cell_type": "code",
   "execution_count": 5564,
   "id": "8df35691-4539-4b85-bd27-9b0cfc0740d7",
   "metadata": {},
   "outputs": [
    {
     "name": "stdout",
     "output_type": "stream",
     "text": [
      "['ceramic tiles', 'granite', 'marble', 'marbonite', 'mosaic', 'normal tiles/kotah stone', 'unknown', 'vitrified', 'wooden']\n"
     ]
    }
   ],
   "source": [
    "# Split the 'flooring' column into individual values, flatten the list, and find unique values\n",
    "unique_floorings = set(floor.strip() for floors in df['flooring'] for floor in floors.split(','))\n",
    "\n",
    "# Convert to a sorted list for better readability\n",
    "unique_floorings = sorted(unique_floorings)\n",
    "\n",
    "# Display the result\n",
    "print(unique_floorings)"
   ]
  },
  {
   "cell_type": "code",
   "execution_count": 5565,
   "id": "7b46e986-3864-49e5-bef1-fff11745103e",
   "metadata": {},
   "outputs": [],
   "source": [
    "from sklearn.preprocessing import MultiLabelBinarizer\n",
    "\n",
    "# Split flooring combinations into individual materials\n",
    "df['flooring_split'] = df['flooring'].str.split(', ')\n",
    "\n",
    "# Use MultiLabelBinarizer to create binary features\n",
    "mlb = MultiLabelBinarizer()\n",
    "flooring_matrix = mlb.fit_transform(df['flooring_split'])\n",
    "\n",
    "# Create a DataFrame for encoded flooring data\n",
    "flooring_encoded = pd.DataFrame(flooring_matrix, columns=mlb.classes_)\n"
   ]
  },
  {
   "cell_type": "code",
   "execution_count": 5566,
   "id": "315830e1-3890-4c94-a40d-b79bc597b7f6",
   "metadata": {},
   "outputs": [
    {
     "data": {
      "text/html": [
       "<div>\n",
       "<style scoped>\n",
       "    .dataframe tbody tr th:only-of-type {\n",
       "        vertical-align: middle;\n",
       "    }\n",
       "\n",
       "    .dataframe tbody tr th {\n",
       "        vertical-align: top;\n",
       "    }\n",
       "\n",
       "    .dataframe thead th {\n",
       "        text-align: right;\n",
       "    }\n",
       "</style>\n",
       "<table border=\"1\" class=\"dataframe\">\n",
       "  <thead>\n",
       "    <tr style=\"text-align: right;\">\n",
       "      <th></th>\n",
       "      <th>ceramic tiles</th>\n",
       "      <th>granite</th>\n",
       "      <th>marble</th>\n",
       "      <th>marbonite</th>\n",
       "      <th>mosaic</th>\n",
       "      <th>normal tiles/kotah stone</th>\n",
       "      <th>unknown</th>\n",
       "      <th>vitrified</th>\n",
       "      <th>wooden</th>\n",
       "    </tr>\n",
       "  </thead>\n",
       "  <tbody>\n",
       "    <tr>\n",
       "      <th>0</th>\n",
       "      <td>0</td>\n",
       "      <td>0</td>\n",
       "      <td>0</td>\n",
       "      <td>0</td>\n",
       "      <td>0</td>\n",
       "      <td>0</td>\n",
       "      <td>0</td>\n",
       "      <td>1</td>\n",
       "      <td>0</td>\n",
       "    </tr>\n",
       "    <tr>\n",
       "      <th>1</th>\n",
       "      <td>1</td>\n",
       "      <td>0</td>\n",
       "      <td>0</td>\n",
       "      <td>0</td>\n",
       "      <td>0</td>\n",
       "      <td>0</td>\n",
       "      <td>0</td>\n",
       "      <td>1</td>\n",
       "      <td>1</td>\n",
       "    </tr>\n",
       "    <tr>\n",
       "      <th>2</th>\n",
       "      <td>0</td>\n",
       "      <td>0</td>\n",
       "      <td>0</td>\n",
       "      <td>0</td>\n",
       "      <td>0</td>\n",
       "      <td>0</td>\n",
       "      <td>1</td>\n",
       "      <td>0</td>\n",
       "      <td>0</td>\n",
       "    </tr>\n",
       "    <tr>\n",
       "      <th>3</th>\n",
       "      <td>0</td>\n",
       "      <td>0</td>\n",
       "      <td>0</td>\n",
       "      <td>0</td>\n",
       "      <td>0</td>\n",
       "      <td>0</td>\n",
       "      <td>0</td>\n",
       "      <td>1</td>\n",
       "      <td>0</td>\n",
       "    </tr>\n",
       "    <tr>\n",
       "      <th>4</th>\n",
       "      <td>0</td>\n",
       "      <td>0</td>\n",
       "      <td>0</td>\n",
       "      <td>0</td>\n",
       "      <td>0</td>\n",
       "      <td>0</td>\n",
       "      <td>0</td>\n",
       "      <td>1</td>\n",
       "      <td>0</td>\n",
       "    </tr>\n",
       "  </tbody>\n",
       "</table>\n",
       "</div>"
      ],
      "text/plain": [
       "   ceramic tiles  granite  marble  marbonite  mosaic  \\\n",
       "0              0        0       0          0       0   \n",
       "1              1        0       0          0       0   \n",
       "2              0        0       0          0       0   \n",
       "3              0        0       0          0       0   \n",
       "4              0        0       0          0       0   \n",
       "\n",
       "   normal tiles/kotah stone  unknown  vitrified  wooden  \n",
       "0                         0        0          1       0  \n",
       "1                         0        0          1       1  \n",
       "2                         0        1          0       0  \n",
       "3                         0        0          1       0  \n",
       "4                         0        0          1       0  "
      ]
     },
     "execution_count": 5566,
     "metadata": {},
     "output_type": "execute_result"
    }
   ],
   "source": [
    "flooring_encoded.head(5)"
   ]
  },
  {
   "cell_type": "code",
   "execution_count": 5567,
   "id": "a934193e-d759-4851-b9b4-65a4296a0092",
   "metadata": {},
   "outputs": [
    {
     "data": {
      "image/png": "[encoded data removed]",
      "text/plain": [
       "<Figure size 640x480 with 1 Axes>"
      ]
     },
     "metadata": {},
     "output_type": "display_data"
    }
   ],
   "source": [
    "from sklearn.cluster import KMeans\n",
    "from sklearn.metrics import silhouette_score\n",
    "import matplotlib.pyplot as plt\n",
    "\n",
    "# Find the optimal number of clusters (Elbow Method)\n",
    "inertia = []\n",
    "range_n_clusters = range(2, 10)\n",
    "for n_clusters in range_n_clusters:\n",
    "    kmeans = KMeans(n_clusters=n_clusters, random_state=42)\n",
    "    kmeans.fit(flooring_encoded)\n",
    "    inertia.append(kmeans.inertia_)\n",
    "\n",
    "# Plot the Elbow Curve\n",
    "plt.plot(range_n_clusters, inertia, marker='o')\n",
    "plt.xlabel('Number of Clusters')\n",
    "plt.ylabel('Inertia')\n",
    "plt.title('Elbow Method')\n",
    "plt.show()\n",
    "\n",
    "# Use the chosen number of clusters\n",
    "kmeans = KMeans(n_clusters=4, random_state=42)\n",
    "df['flooring_cluster'] = kmeans.fit_predict(flooring_encoded)\n"
   ]
  },
  {
   "cell_type": "code",
   "execution_count": 5568,
   "id": "8699c262-e31d-428a-b0f8-174c63e2592e",
   "metadata": {},
   "outputs": [
    {
     "data": {
      "text/plain": [
       "flooring_cluster\n",
       "1    4621\n",
       "0    4524\n",
       "3    2241\n",
       "2     625\n",
       "Name: count, dtype: int64"
      ]
     },
     "execution_count": 5568,
     "metadata": {},
     "output_type": "execute_result"
    }
   ],
   "source": [
    "df['flooring_cluster'].value_counts()"
   ]
  },
  {
   "cell_type": "markdown",
   "id": "6fd03485-a5b6-4278-a483-186c9703fede",
   "metadata": {},
   "source": [
    "### Observation\n",
    " - 0 is for unknown values only "
   ]
  },
  {
   "cell_type": "code",
   "execution_count": 5569,
   "id": "20f22498-7f0d-45ee-b998-764286eb636d",
   "metadata": {},
   "outputs": [
    {
     "data": {
      "text/html": [
       "<div>\n",
       "<style scoped>\n",
       "    .dataframe tbody tr th:only-of-type {\n",
       "        vertical-align: middle;\n",
       "    }\n",
       "\n",
       "    .dataframe tbody tr th {\n",
       "        vertical-align: top;\n",
       "    }\n",
       "\n",
       "    .dataframe thead th {\n",
       "        text-align: right;\n",
       "    }\n",
       "</style>\n",
       "<table border=\"1\" class=\"dataframe\">\n",
       "  <thead>\n",
       "    <tr style=\"text-align: right;\">\n",
       "      <th></th>\n",
       "      <th>flooring</th>\n",
       "      <th>flooring_cluster</th>\n",
       "    </tr>\n",
       "  </thead>\n",
       "  <tbody>\n",
       "    <tr>\n",
       "      <th>0</th>\n",
       "      <td>vitrified</td>\n",
       "      <td>1</td>\n",
       "    </tr>\n",
       "    <tr>\n",
       "      <th>1</th>\n",
       "      <td>vitrified, wooden, ceramic tiles</td>\n",
       "      <td>1</td>\n",
       "    </tr>\n",
       "    <tr>\n",
       "      <th>2</th>\n",
       "      <td>unknown</td>\n",
       "      <td>0</td>\n",
       "    </tr>\n",
       "    <tr>\n",
       "      <th>3</th>\n",
       "      <td>vitrified</td>\n",
       "      <td>1</td>\n",
       "    </tr>\n",
       "    <tr>\n",
       "      <th>4</th>\n",
       "      <td>vitrified</td>\n",
       "      <td>1</td>\n",
       "    </tr>\n",
       "  </tbody>\n",
       "</table>\n",
       "</div>"
      ],
      "text/plain": [
       "                           flooring  flooring_cluster\n",
       "0                         vitrified                 1\n",
       "1  vitrified, wooden, ceramic tiles                 1\n",
       "2                           unknown                 0\n",
       "3                         vitrified                 1\n",
       "4                         vitrified                 1"
      ]
     },
     "execution_count": 5569,
     "metadata": {},
     "output_type": "execute_result"
    }
   ],
   "source": [
    "df[['flooring','flooring_cluster']].head()"
   ]
  },
  {
   "cell_type": "code",
   "execution_count": 5570,
   "id": "79b1c4e1-f1a4-4e02-a551-e8bc231b43b4",
   "metadata": {},
   "outputs": [
    {
     "data": {
      "image/png": "[encoded data removed]",
      "text/plain": [
       "<Figure size 640x480 with 1 Axes>"
      ]
     },
     "metadata": {},
     "output_type": "display_data"
    }
   ],
   "source": [
    "# Filter data for 'mumbai'\n",
    "#filtered_df = df[df['addressregion'] == 'thane']\n",
    "\n",
    "sns.scatterplot(x=df['flooring_cluster'], y=df['price'], hue=df['addressregion'])\n",
    "\n",
    "# Add labels and title\n",
    "plt.xlabel('flooring_cluster')\n",
    "plt.ylabel('price')\n",
    "plt.title('Scatterplot of flooring and price')\n",
    "plt.legend(title='Address Region')\n",
    "plt.show()"
   ]
  },
  {
   "cell_type": "markdown",
   "id": "afb63e69-4334-4bc7-b148-86045d4b3c0e",
   "metadata": {},
   "source": [
    "##### Observation \n",
    "- "
   ]
  },
  {
   "cell_type": "code",
   "execution_count": 5571,
   "id": "8a9cb72c-62b8-4e23-8fbb-58fc2017a0ef",
   "metadata": {},
   "outputs": [],
   "source": [
    "# Define the weightage for each flooring type\n",
    "weightages = {\n",
    "    \"vitrified\": 9,\n",
    "    \"marble\": 8,\n",
    "    \"ceramic tiles\": 7,\n",
    "    \"wooden\": 8,\n",
    "    \"granite\": 9,\n",
    "    \"mosaic\": 6,\n",
    "    \"normal tiles/kotah stone\": 5,\n",
    "    \"marbonite\": 8\n",
    "}\n",
    "\n",
    "\n",
    "# Function to calculate the combination score\n",
    "def calculate_combination_score(flooring_combination):\n",
    "    flooring_types = [f.strip().lower() for f in flooring_combination.split(\",\")]\n",
    "    total_weight = sum(weightages.get(f, 0) for f in flooring_types)\n",
    "    #combination_score = total_weight / len(flooring_types)\n",
    "    return round(total_weight, 2)\n",
    "\n",
    "# Apply the function to the dataframe\n",
    "df[\"combination_score\"] = df[\"flooring\"].apply(calculate_combination_score)"
   ]
  },
  {
   "cell_type": "code",
   "execution_count": 5572,
   "id": "432f9cf0-3038-44fe-a95e-1f7d84c418ad",
   "metadata": {},
   "outputs": [
    {
     "data": {
      "text/plain": [
       "combination_score\n",
       "0     4524\n",
       "9     3784\n",
       "8      759\n",
       "17     488\n",
       "16     378\n",
       "7      332\n",
       "25     230\n",
       "24     183\n",
       "18     183\n",
       "26     176\n",
       "60     134\n",
       "15      85\n",
       "33      80\n",
       "32      66\n",
       "5       64\n",
       "30      52\n",
       "41      39\n",
       "34      37\n",
       "22      37\n",
       "6       33\n",
       "23      31\n",
       "52      31\n",
       "31      30\n",
       "46      28\n",
       "21      27\n",
       "14      26\n",
       "54      22\n",
       "38      20\n",
       "13      15\n",
       "39      11\n",
       "45      10\n",
       "49       9\n",
       "47       9\n",
       "29       9\n",
       "43       8\n",
       "40       8\n",
       "55       8\n",
       "28       7\n",
       "37       5\n",
       "20       5\n",
       "44       5\n",
       "36       4\n",
       "27       4\n",
       "12       4\n",
       "35       3\n",
       "51       3\n",
       "42       2\n",
       "48       1\n",
       "19       1\n",
       "11       1\n",
       "Name: count, dtype: int64"
      ]
     },
     "execution_count": 5572,
     "metadata": {},
     "output_type": "execute_result"
    }
   ],
   "source": [
    "df[\"combination_score\"].value_counts()"
   ]
  },
  {
   "cell_type": "code",
   "execution_count": 5573,
   "id": "d7720a5d-6226-4f73-8798-bb77800733a1",
   "metadata": {},
   "outputs": [
    {
     "data": {
      "text/plain": [
       "0     9\n",
       "1    24\n",
       "2     0\n",
       "3     9\n",
       "4     9\n",
       "Name: combination_score, dtype: int64"
      ]
     },
     "execution_count": 5573,
     "metadata": {},
     "output_type": "execute_result"
    }
   ],
   "source": [
    "df['combination_score'].head()"
   ]
  },
  {
   "cell_type": "code",
   "execution_count": 5574,
   "id": "d61ebfe6-0a56-4342-8244-3030090c5952",
   "metadata": {},
   "outputs": [
    {
     "data": {
      "text/plain": [
       "<Axes: xlabel='price', ylabel='Count'>"
      ]
     },
     "execution_count": 5574,
     "metadata": {},
     "output_type": "execute_result"
    },
    {
     "data": {
      "image/png": "[encoded data removed]",
      "text/plain": [
       "<Figure size 640x480 with 1 Axes>"
      ]
     },
     "metadata": {},
     "output_type": "display_data"
    }
   ],
   "source": [
    "sns.histplot(df['price'], kde=True) "
   ]
  },
  {
   "cell_type": "code",
   "execution_count": 5575,
   "id": "13e7faef-a7cb-4c88-af06-ad4d08ae29d4",
   "metadata": {},
   "outputs": [
    {
     "data": {
      "image/png": "[encoded data removed]",
      "text/plain": [
       "<Figure size 640x480 with 1 Axes>"
      ]
     },
     "metadata": {},
     "output_type": "display_data"
    }
   ],
   "source": [
    "# Filter data for 'mumbai'\n",
    "#filtered_df = df[df['addressregion'] == 'thane']\n",
    "\n",
    "sns.scatterplot(x=df['combination_score'], y=df['price'])\n",
    "\n",
    "# Add labels and title\n",
    "plt.xlabel('flooring_cluster')\n",
    "plt.ylabel('price')\n",
    "plt.title('Scatterplot of flooring and price')\n",
    "#plt.legend(title='Address Region')\n",
    "plt.show()"
   ]
  },
  {
   "cell_type": "code",
   "execution_count": 5576,
   "id": "02583974-cf04-447f-bef1-b1b4a0d566cc",
   "metadata": {},
   "outputs": [],
   "source": [
    "df.to_csv('mg_cleaned_dataset.csv',index=False)"
   ]
  },
  {
   "cell_type": "code",
   "execution_count": null,
   "id": "388abe16-794a-4667-9025-dd08e58bca83",
   "metadata": {},
   "outputs": [],
   "source": []
  },
  {
   "cell_type": "markdown",
   "id": "9e126f49-946b-488b-8e75-3a0667014744",
   "metadata": {
    "editable": true,
    "slideshow": {
     "slide_type": ""
    },
    "tags": []
   },
   "source": [
    "# fetch area from url column \n",
    "\n",
    "once work done delete this below"
   ]
  },
  {
   "cell_type": "code",
   "execution_count": 5577,
   "id": "f6f2eed2-0638-496a-98a6-0486b6313479",
   "metadata": {},
   "outputs": [],
   "source": [
    "df['area_from_url'] = df['url'].apply(lambda x: int(re.search(r'(\\d+)-sq', x).group(1)) if re.search(r'(\\d+)-sq', x) else None)"
   ]
  },
  {
   "cell_type": "code",
   "execution_count": 5578,
   "id": "7e30a2ab-1fa6-484d-b27f-15d3c136e515",
   "metadata": {},
   "outputs": [
    {
     "data": {
      "text/plain": [
       "0     635.0\n",
       "1    1905.0\n",
       "2     623.0\n",
       "3     702.0\n",
       "4     608.0\n",
       "Name: area_from_url, dtype: float64"
      ]
     },
     "execution_count": 5578,
     "metadata": {},
     "output_type": "execute_result"
    }
   ],
   "source": [
    "#all values in sqft only \n",
    "df['area_from_url'].head()"
   ]
  },
  {
   "cell_type": "code",
   "execution_count": 5579,
   "id": "1f948235-9ccf-4f25-9b4b-733c589bc077",
   "metadata": {},
   "outputs": [
    {
     "data": {
      "text/plain": [
       "535     cardid67005273\n",
       "2092    cardid70787281\n",
       "4753    cardid69337447\n",
       "6574    cardid71710057\n",
       "6976    cardid72908977\n",
       "Name: id, dtype: object"
      ]
     },
     "execution_count": 5579,
     "metadata": {},
     "output_type": "execute_result"
    }
   ],
   "source": [
    "df[df['area_from_url'].isna()]['id']"
   ]
  },
  {
   "cell_type": "code",
   "execution_count": 5580,
   "id": "3dc9f631-8668-48d2-a8fe-7781f39334b1",
   "metadata": {},
   "outputs": [
    {
     "data": {
      "text/plain": [
       "0     635.0\n",
       "1    1905.0\n",
       "2     623.0\n",
       "3     702.0\n",
       "4     608.0\n",
       "Name: area, dtype: object"
      ]
     },
     "execution_count": 5580,
     "metadata": {},
     "output_type": "execute_result"
    }
   ],
   "source": [
    "df['area'].head()"
   ]
  },
  {
   "cell_type": "code",
   "execution_count": 5581,
   "id": "6cf079d7-2f78-4820-a531-71570ed49cf4",
   "metadata": {},
   "outputs": [
    {
     "data": {
      "image/png": "[encoded data removed]",
      "text/plain": [
       "<Figure size 800x600 with 1 Axes>"
      ]
     },
     "metadata": {},
     "output_type": "display_data"
    }
   ],
   "source": [
    "import matplotlib.pyplot as plt\n",
    "import pandas as pd\n",
    "\n",
    "# Example: Replace `costpersqft` with your column\n",
    "plt.figure(figsize=(8, 6))\n",
    "df['area_from_url'].plot(kind='hist', bins=10, edgecolor='black')\n",
    "\n",
    "# Set standard x-axis format\n",
    "plt.ticklabel_format(style='plain', axis='x')\n",
    "\n",
    "# Add labels and title\n",
    "plt.xlabel('price_per_sqft')\n",
    "plt.ylabel('Count')\n",
    "plt.title('Distribution of Cost per Square Foot')\n",
    "\n",
    "plt.show()\n"
   ]
  },
  {
   "cell_type": "code",
   "execution_count": 5582,
   "id": "dbf27b2c-0daa-4cf3-9d45-d14ef2494c78",
   "metadata": {},
   "outputs": [],
   "source": [
    "df['area_difference'] = df['area'] - df['area_from_url']"
   ]
  },
  {
   "cell_type": "code",
   "execution_count": 5583,
   "id": "684172e1-fcf7-4e40-8b4e-a59a27270aa1",
   "metadata": {},
   "outputs": [],
   "source": [
    "area_d = df[['id','url','address','bed','price','costpersqft','area','area_from_url','area_difference']]\n",
    "\n",
    "area_d.to_excel('chk_area_d.xlsx')"
   ]
  },
  {
   "cell_type": "code",
   "execution_count": null,
   "id": "3bcce8e8-e560-44b7-a9f7-5e4f250f01ff",
   "metadata": {},
   "outputs": [],
   "source": []
  },
  {
   "cell_type": "code",
   "execution_count": null,
   "id": "c7ce4aa6-d8ea-4175-b47d-ecc2af8b9cee",
   "metadata": {},
   "outputs": [],
   "source": []
  },
  {
   "cell_type": "code",
   "execution_count": null,
   "id": "f249142f-9158-4251-993e-a4ac2a1d4995",
   "metadata": {},
   "outputs": [],
   "source": []
  },
  {
   "cell_type": "code",
   "execution_count": null,
   "id": "7008f73c-55c5-4f26-967e-929f5d7f37e3",
   "metadata": {},
   "outputs": [],
   "source": []
  },
  {
   "cell_type": "code",
   "execution_count": null,
   "id": "1c173b5f-1b06-4c16-98a4-54a16e81edfc",
   "metadata": {},
   "outputs": [],
   "source": []
  },
  {
   "cell_type": "code",
   "execution_count": null,
   "id": "6d481909-cb5e-4436-8144-178274f358fb",
   "metadata": {},
   "outputs": [],
   "source": []
  }
 ],
 "metadata": {
  "colab": {
   "provenance": []
  },
  "kernelspec": {
   "display_name": "Python 3 (ipykernel)",
   "language": "python",
   "name": "python3"
  },
  "language_info": {
   "codemirror_mode": {
    "name": "ipython",
    "version": 3
   },
   "file_extension": ".py",
   "mimetype": "text/x-python",
   "name": "python",
   "nbconvert_exporter": "python",
   "pygments_lexer": "ipython3",
   "version": "3.12.7"
  }
 },
 "nbformat": 4,
 "nbformat_minor": 5
}
