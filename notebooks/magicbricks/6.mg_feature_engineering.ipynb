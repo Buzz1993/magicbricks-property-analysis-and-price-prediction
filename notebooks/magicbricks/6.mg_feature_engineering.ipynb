{
 "cells": [
  {
   "cell_type": "markdown",
   "id": "b5404e22-a583-4688-86b3-977661b58fdf",
   "metadata": {},
   "source": [
    "## Amenities"
   ]
  },
  {
   "cell_type": "markdown",
   "id": "f9c8dcfa-6bcf-4df9-bc52-90c54a673189",
   "metadata": {},
   "source": [
    "method 1 and method 3 I have perform already in the mg_model_building.ipynb notebook"
   ]
  },
  {
   "cell_type": "markdown",
   "id": "465539fd-3a8c-4910-bf2f-ef3fd7e5e91c",
   "metadata": {},
   "source": [
    "### method 2 : assign weightage"
   ]
  },
  {
   "cell_type": "markdown",
   "id": "933fffbd-36db-454d-be53-18c677385e57",
   "metadata": {},
   "source": [
    "note : this method we can apply before train test split but in feature engineering "
   ]
  },
  {
   "cell_type": "code",
   "execution_count": 247,
   "id": "62f5b2eb-0467-4db4-a2dd-f30ba5baaebf",
   "metadata": {},
   "outputs": [],
   "source": [
    "#final\n",
    "amenities_weightages = {\n",
    "    \"sea facing\": 10,\n",
    "    \"private pool\": 10,\n",
    "    \"private jaccuzi\": 10,\n",
    "    \"sky villa\": 10,\n",
    "    \"helipad\": 10,\n",
    "    \"wrap around balcony\": 7,\n",
    "    \"infinity swimming pool\": 10,\n",
    "    \"high ceiling\": 9,\n",
    "    \"located in the heart of city\": 10,\n",
    "    \"large open space\": 10,\n",
    "    \"skyline view\": 10,\n",
    "    \"private terrace/garden\": 10,\n",
    "    \"private garage\": 10,\n",
    "    \"mansion\": 10,\n",
    "    \"club house\": 9,\n",
    "    \"large clubhouse\": 9,\n",
    "    \"modular kitchen\": 9,\n",
    "    \"central ac\": 9,\n",
    "    \"banquet hall\": 6,\n",
    "    \"premium branded fittings\": 9,\n",
    "    \"private garden\": 9,\n",
    "    \"full glass wall\": 9,\n",
    "    \"garden view\": 9,\n",
    "    \"theme based architectures\": 9,\n",
    "    \"grand entrance lobby\": 9,\n",
    "    \"smart home\": 9,\n",
    "    \"library and business centre\": 9,\n",
    "    \"recreational pool\": 9,\n",
    "    \"projector\": 8,\n",
    "    \"swimming pool\": 8,\n",
    "    \"gymnasium\": 8,\n",
    "    \"indoor squash & badminton courts\": 8,\n",
    "    \"outdoor tennis courts\": 8,\n",
    "    \"cycling & jogging track\": 8,\n",
    "    \"kids play pool with water slides\": 8,\n",
    "    \"guest lobby in each floor\": 8,\n",
    "    \"aesthetically designed landscape garden\": 8,\n",
    "    \"health club with steam / jacuzzi\": 8,\n",
    "    \"meditation area\": 8,\n",
    "    \"pet park\": 8,\n",
    "    \"visitor parking\": 8,\n",
    "    \"badminton court\": 8,\n",
    "    \"kids play area\": 7,\n",
    "    \"community hall\": 7,\n",
    "    \"power back up\": 7,\n",
    "    \"cctv camera\": 7,\n",
    "    \"rain water harvesting\": 7,\n",
    "    \"internet/wi-fi connectivity\": 7,\n",
    "    \"cycling track\": 7,\n",
    "    \"art center\": 7,\n",
    "    \"library\": 7,\n",
    "    \"fire sprinklers\": 7,\n",
    "    \"multipurpose hall\": 7,\n",
    "    \"event space & amphitheatre\": 7,\n",
    "    \"flower gardens\": 6,\n",
    "    \"curated garden\": 6,\n",
    "    \"multipurpose courts\": 7,\n",
    "    \"dth television facility\": 5,\n",
    "    \"fire fighting equipment\": 6,\n",
    "    \"provision for power backup\": 7,\n",
    "    \"sand pit\": 6,\n",
    "    \"sewage treatment plant\": 6,\n",
    "    \"solar energy\": 7,\n",
    "    \"piped gas\": 6,\n",
    "    \"kids club\": 6,\n",
    "    \"waste disposal\": 6,\n",
    "    \"lift\": 5,\n",
    "    \"security\": 5,\n",
    "    \"maintenance staff\": 5,\n",
    "    \"reserved parking\": 5,\n",
    "    \"ro water system\": 5,\n",
    "    \"wheelchair accessibility\": 5,\n",
    "    \"shopping center\": 5,\n",
    "    \"laundry service\": 5,\n",
    "    \"bank & atm\": 5,\n",
    "    \"community entrance gate\": 5,\n",
    "    \"canopy walk\": 4,\n",
    "    \"entry exit gate\": 4,\n",
    "    \"early learning centre\": 4,\n",
    "    \"earth quake resistant\": 7,\n",
    "    \"waste water recycling\": 6,\n",
    "    \"whiteboard\": 3,\n",
    "    \"printer\": 3,\n",
    "    \"tea/coffee\": 3,\n",
    "    \"house help accommodation\": 7,\n",
    "    \"study room\": 5,\n",
    "    \"ground water recharging\": 5,\n",
    "    \"unknown\": 0,\n",
    "    \"3 tier security system\": 8,\n",
    "    \"ac in each room\": 9,\n",
    "    \"activity deck4\": 7,\n",
    "    \"aerobics room\": 7,\n",
    "    \"air conditioned\": 9,\n",
    "    \"all wooden flooring\": 8,\n",
    "    \"arts & craft studio\": 6,\n",
    "    \"bar/lounge\": 7,\n",
    "    \"barbeque pit\": 6,\n",
    "    \"barbeque space\": 6,\n",
    "    \"cafeteria/food court\": 7,\n",
    "    \"coffee lounge & restaurants\": 7,\n",
    "    \"concierge services\": 9,\n",
    "    \"conference room\": 8,\n",
    "    \"cricket net practice\": 6,\n",
    "    \"dance studio\": 7,\n",
    "    \"downtown\": 10,\n",
    "    \"fingerprint access\": 8,\n",
    "    \"fireplace\": 6,\n",
    "    \"golf course\": 10,\n",
    "    \"hilltop\": 10,\n",
    "    \"horticulture\": 6,\n",
    "    \"indoor games room\": 7,\n",
    "    \"island kitchen layout\": 8,\n",
    "    \"jogging and strolling track\": 7,\n",
    "    \"kids splash pool\": 7,\n",
    "    \"lawn with pathway\": 6,\n",
    "    \"guest accommodation\":8,\n",
    "    \"marble flooring\": 9,\n",
    "    \"mini cinema theatre\": 9,\n",
    "    \"half basketball court\":7,\n",
    "    \"park\": 8,\n",
    "    \"pool with temperature control\": 10,\n",
    "    \"intercom facility\":6,\n",
    "    \"rentable community space\": 6,\n",
    "    \"retail boulevard (retail shops)\": 8,\n",
    "    \"service/goods lift\": 6,\n",
    "    \"skydeck\": 9,\n",
    "    \"vaastu compliant\": 7,\n",
    "    \"volleyball court\": 6,\n",
    "    \"water front\": 10,\n",
    "    \"water storage\": 5,\n",
    "    \"water treatment plant\": 7,\n",
    "    \"wine cellar\": 8\n",
    "}"
   ]
  },
  {
   "cell_type": "code",
   "execution_count": 248,
   "id": "002fc26b-eb7b-45c5-832c-a88ec6b614c7",
   "metadata": {},
   "outputs": [],
   "source": [
    "# Function to calculate the combination score\n",
    "def calculate_combination_score(amenities_combination):\n",
    "    amenities_types = [f.strip().lower() for f in amenities_combination.split(\",\")]\n",
    "    total_weight = sum(amenities_weightages.get(f, 0) for f in amenities_types)\n",
    "    #combination_score = total_weight / len(amenities_types)\n",
    "    return round(total_weight, 2)\n",
    "\n",
    "# Apply the function to the dataframe\n",
    "df[\"assigned_amenities_score\"] = df[\"amenities\"].apply(calculate_combination_score)"
   ]
  },
  {
   "cell_type": "code",
   "execution_count": 249,
   "id": "7f40f398-4656-44e0-8648-1695cba926e6",
   "metadata": {},
   "outputs": [
    {
     "data": {
      "text/plain": [
       "0    321\n",
       "1    410\n",
       "2     84\n",
       "3    119\n",
       "4     72\n",
       "Name: assigned_amenities_score, dtype: int64"
      ]
     },
     "execution_count": 249,
     "metadata": {},
     "output_type": "execute_result"
    }
   ],
   "source": [
    "df[\"assigned_amenities_score\"].head() "
   ]
  },
  {
   "cell_type": "code",
   "execution_count": 250,
   "id": "33fbdc9d-1eb7-4360-b48d-6f3b5fb67f41",
   "metadata": {},
   "outputs": [
    {
     "data": {
      "text/plain": [
       "assigned_amenities_score\n",
       "0      5196\n",
       "88      123\n",
       "271     112\n",
       "282     112\n",
       "100     104\n",
       "60      100\n",
       "70       94\n",
       "216      84\n",
       "76       80\n",
       "59       79\n",
       "62       75\n",
       "119      75\n",
       "298      74\n",
       "81       71\n",
       "101      69\n",
       "182      68\n",
       "313      65\n",
       "63       62\n",
       "90       62\n",
       "68       61\n",
       "71       61\n",
       "321      59\n",
       "58       59\n",
       "83       58\n",
       "362      57\n",
       "181      56\n",
       "61       52\n",
       "444      51\n",
       "107      51\n",
       "78       49\n",
       "207      48\n",
       "69       47\n",
       "49       46\n",
       "110      46\n",
       "92       45\n",
       "66       44\n",
       "109      44\n",
       "77       44\n",
       "23       43\n",
       "136      43\n",
       "72       43\n",
       "137      43\n",
       "112      42\n",
       "105      42\n",
       "46       40\n",
       "51       40\n",
       "122      39\n",
       "236      39\n",
       "121      39\n",
       "86       39\n",
       "39       39\n",
       "37       38\n",
       "74       37\n",
       "30       36\n",
       "87       36\n",
       "140      36\n",
       "128      35\n",
       "302      35\n",
       "38       35\n",
       "102      34\n",
       "148      34\n",
       "44       33\n",
       "26       33\n",
       "31       33\n",
       "149      32\n",
       "141      32\n",
       "56       32\n",
       "111      32\n",
       "85       32\n",
       "64       32\n",
       "143      32\n",
       "146      32\n",
       "376      32\n",
       "250      31\n",
       "231      31\n",
       "130      31\n",
       "153      31\n",
       "209      30\n",
       "261      30\n",
       "48       30\n",
       "22       30\n",
       "120      29\n",
       "372      29\n",
       "24       29\n",
       "57       29\n",
       "129      29\n",
       "113      28\n",
       "95       28\n",
       "53       28\n",
       "286      27\n",
       "104      27\n",
       "84       27\n",
       "228      27\n",
       "32       27\n",
       "176      27\n",
       "151      26\n",
       "167      26\n",
       "296      26\n",
       "42       26\n",
       "410      26\n",
       "103      25\n",
       "133      25\n",
       "98       25\n",
       "34       24\n",
       "118      24\n",
       "80       24\n",
       "36       24\n",
       "162      24\n",
       "55       23\n",
       "150      23\n",
       "339      23\n",
       "89       22\n",
       "125      22\n",
       "208      22\n",
       "41       21\n",
       "240      21\n",
       "116      21\n",
       "139      21\n",
       "392      21\n",
       "154      21\n",
       "73       21\n",
       "97       20\n",
       "135      20\n",
       "99       19\n",
       "45       19\n",
       "191      19\n",
       "115      19\n",
       "383      19\n",
       "332      19\n",
       "50       19\n",
       "117      18\n",
       "156      18\n",
       "253      18\n",
       "369      18\n",
       "54       18\n",
       "174      18\n",
       "260      18\n",
       "25       18\n",
       "274      18\n",
       "152      17\n",
       "47       17\n",
       "43       17\n",
       "178      17\n",
       "192      17\n",
       "52       17\n",
       "93       17\n",
       "166      17\n",
       "106      17\n",
       "124      17\n",
       "157      17\n",
       "204      17\n",
       "186      16\n",
       "40       16\n",
       "173      16\n",
       "94       16\n",
       "108      16\n",
       "132      15\n",
       "344      15\n",
       "75       15\n",
       "65       15\n",
       "27       15\n",
       "206      15\n",
       "193      15\n",
       "180      15\n",
       "123      15\n",
       "225      14\n",
       "29       14\n",
       "18       14\n",
       "13       14\n",
       "147      14\n",
       "404      14\n",
       "91       14\n",
       "17       14\n",
       "217      14\n",
       "210      14\n",
       "252      13\n",
       "15       13\n",
       "342      13\n",
       "79       13\n",
       "159      13\n",
       "35       13\n",
       "170      13\n",
       "212      12\n",
       "126      12\n",
       "219      12\n",
       "165      12\n",
       "114      11\n",
       "28       11\n",
       "131      11\n",
       "82       11\n",
       "232      11\n",
       "160      11\n",
       "184      11\n",
       "96       11\n",
       "134      11\n",
       "127      10\n",
       "218      10\n",
       "300      10\n",
       "187      10\n",
       "393      10\n",
       "21       10\n",
       "316      10\n",
       "169      10\n",
       "6        10\n",
       "175       9\n",
       "179       9\n",
       "319       9\n",
       "285       9\n",
       "33        9\n",
       "190       9\n",
       "348       9\n",
       "171       9\n",
       "364       9\n",
       "183       8\n",
       "205       8\n",
       "168       8\n",
       "14        8\n",
       "326       8\n",
       "161       8\n",
       "197       8\n",
       "196       8\n",
       "293       8\n",
       "278       8\n",
       "201       8\n",
       "248       8\n",
       "164       8\n",
       "67        8\n",
       "185       8\n",
       "256       8\n",
       "189       8\n",
       "138       7\n",
       "16        7\n",
       "290       7\n",
       "195       7\n",
       "322       7\n",
       "163       7\n",
       "246       6\n",
       "203       6\n",
       "336       6\n",
       "487       6\n",
       "144       6\n",
       "198       6\n",
       "8         6\n",
       "220       6\n",
       "188       6\n",
       "7         5\n",
       "234       5\n",
       "305       5\n",
       "235       5\n",
       "142       5\n",
       "158       5\n",
       "245       5\n",
       "215       5\n",
       "19        5\n",
       "251       5\n",
       "287       5\n",
       "379       5\n",
       "226       5\n",
       "213       5\n",
       "283       5\n",
       "145       4\n",
       "388       4\n",
       "347       4\n",
       "294       4\n",
       "409       4\n",
       "233       4\n",
       "377       4\n",
       "349       4\n",
       "10        4\n",
       "223       4\n",
       "414       4\n",
       "306       4\n",
       "214       4\n",
       "222       4\n",
       "12        4\n",
       "635       4\n",
       "230       4\n",
       "266       3\n",
       "242       3\n",
       "172       3\n",
       "270       3\n",
       "276       3\n",
       "243       3\n",
       "378       3\n",
       "155       3\n",
       "361       3\n",
       "262       3\n",
       "367       3\n",
       "263       3\n",
       "343       3\n",
       "360       3\n",
       "309       3\n",
       "279       3\n",
       "341       3\n",
       "351       3\n",
       "398       3\n",
       "211       3\n",
       "335       3\n",
       "5         3\n",
       "320       3\n",
       "280       2\n",
       "244       2\n",
       "177       2\n",
       "311       2\n",
       "368       2\n",
       "277       2\n",
       "202       2\n",
       "194       2\n",
       "303       2\n",
       "20        2\n",
       "354       2\n",
       "200       2\n",
       "292       2\n",
       "301       2\n",
       "258       2\n",
       "284       2\n",
       "328       2\n",
       "288       2\n",
       "325       2\n",
       "331       1\n",
       "221       1\n",
       "269       1\n",
       "238       1\n",
       "265       1\n",
       "237       1\n",
       "314       1\n",
       "239       1\n",
       "11        1\n",
       "241       1\n",
       "227       1\n",
       "370       1\n",
       "375       1\n",
       "257       1\n",
       "355       1\n",
       "365       1\n",
       "337       1\n",
       "304       1\n",
       "224       1\n",
       "Name: count, dtype: int64"
      ]
     },
     "execution_count": 250,
     "metadata": {},
     "output_type": "execute_result"
    }
   ],
   "source": [
    "df[\"assigned_amenities_score\"].value_counts()"
   ]
  },
  {
   "cell_type": "code",
   "execution_count": 251,
   "id": "44fa2b3e-147e-4ebb-ad1b-652f6b1bc52f",
   "metadata": {},
   "outputs": [
    {
     "data": {
      "image/png": "[encoded data removed]",
      "text/plain": [
       "<Figure size 640x480 with 1 Axes>"
      ]
     },
     "metadata": {},
     "output_type": "display_data"
    }
   ],
   "source": [
    "# Filter data for 'mumbai'\n",
    "#filtered_df = df[df['addressregion'] == 'thane']\n",
    "\n",
    "sns.scatterplot(x=df['assigned_amenities_score'], y=df['price'], hue=df['addressregion'])\n",
    "\n",
    "# Add labels and title\n",
    "plt.xlabel('assigned_amenities_score')\n",
    "plt.ylabel('price')\n",
    "plt.title('Scatterplot of amenities_score and price')\n",
    "plt.legend(title='Address Region')\n",
    "plt.show()"
   ]
  },
  {
   "cell_type": "code",
   "execution_count": 252,
   "id": "9ed29250-a607-476a-aea1-6e6d49d3d7c7",
   "metadata": {},
   "outputs": [],
   "source": [
    "# Replace 0 with NaN\n",
    "df['assigned_amenities_score'] = df['assigned_amenities_score'].replace(0, None)"
   ]
  },
  {
   "cell_type": "code",
   "execution_count": 253,
   "id": "9eb1ebd4-45d7-469b-ba02-a076570e7ad4",
   "metadata": {},
   "outputs": [],
   "source": [
    "df['assigned_amenities_score'] = pd.to_numeric(df['assigned_amenities_score'], errors='coerce')"
   ]
  },
  {
   "cell_type": "markdown",
   "id": "3ae7e0f3-5a1b-4605-8357-b86314feeaf6",
   "metadata": {},
   "source": [
    "## Flooring"
   ]
  },
  {
   "cell_type": "markdown",
   "id": "93a5ad7b-367a-4a97-a23b-8787fbb084b9",
   "metadata": {},
   "source": [
    "method 1, I have already perform in the mg_model_building.ipynb notebook"
   ]
  },
  {
   "cell_type": "markdown",
   "id": "eb137c16-42f1-4aa2-b53c-4ba98194bacb",
   "metadata": {},
   "source": [
    "### method 2 : assign weightage "
   ]
  },
  {
   "cell_type": "markdown",
   "id": "8e6493cd-3d54-4d31-9155-848c73282f9f",
   "metadata": {},
   "source": [
    "note : this method we can apply before train test split but in feature engineering "
   ]
  },
  {
   "cell_type": "code",
   "execution_count": 304,
   "id": "4dfc8dfd-6de5-46f2-a3e4-c7870115f15b",
   "metadata": {},
   "outputs": [],
   "source": [
    "# Define the weightage for each flooring type\n",
    "weightages = {\n",
    "    \"vitrified\": 7,\n",
    "    \"marble\": 10,\n",
    "    \"ceramic tiles\": 6,\n",
    "    \"wooden\": 8,\n",
    "    \"granite\": 9,\n",
    "    \"mosaic\": 4,\n",
    "    \"normal tiles/kotah stone\": 4,\n",
    "    \"marbonite\": 8,\n",
    "    \"unknown\": 0\n",
    "}\n",
    "\n",
    "\n",
    "# Function to calculate the combination score\n",
    "def calculate_combination_score(flooring_combination):\n",
    "    flooring_types = [f.strip().lower() for f in flooring_combination.split(\",\")]\n",
    "    total_weight = sum(weightages.get(f, 0) for f in flooring_types)\n",
    "    #combination_score = total_weight / len(flooring_types)\n",
    "    return round(total_weight, 2)\n",
    "\n",
    "# Apply the function to the dataframe\n",
    "df[\"assigned_flooring_score\"] = df[\"flooring\"].apply(calculate_combination_score)"
   ]
  },
  {
   "cell_type": "code",
   "execution_count": 305,
   "id": "886ba22f-d9b6-4d9a-9204-569e480f661b",
   "metadata": {},
   "outputs": [
    {
     "data": {
      "text/plain": [
       "assigned_flooring_score\n",
       "0     4446\n",
       "7     3681\n",
       "10     699\n",
       "6      329\n",
       "15     279\n",
       "17     257\n",
       "16     227\n",
       "13     212\n",
       "26     170\n",
       "25     143\n",
       "56     134\n",
       "18     114\n",
       "22     107\n",
       "4       94\n",
       "9       79\n",
       "23      74\n",
       "8       66\n",
       "19      63\n",
       "32      62\n",
       "21      60\n",
       "27      60\n",
       "24      50\n",
       "11      46\n",
       "30      45\n",
       "34      40\n",
       "48      39\n",
       "40      39\n",
       "29      36\n",
       "31      31\n",
       "44      31\n",
       "52      30\n",
       "33      28\n",
       "14      24\n",
       "20      20\n",
       "36      14\n",
       "38      11\n",
       "41       9\n",
       "42       8\n",
       "28       7\n",
       "12       5\n",
       "37       4\n",
       "43       4\n",
       "45       4\n",
       "39       4\n",
       "46       3\n",
       "35       3\n",
       "49       3\n",
       "Name: count, dtype: int64"
      ]
     },
     "execution_count": 305,
     "metadata": {},
     "output_type": "execute_result"
    }
   ],
   "source": [
    "df[\"assigned_flooring_score\"].value_counts()"
   ]
  },
  {
   "cell_type": "code",
   "execution_count": 306,
   "id": "afa8be4d-afa9-4050-85c4-368d5ceb625e",
   "metadata": {},
   "outputs": [
    {
     "data": {
      "text/plain": [
       "0     7\n",
       "1    21\n",
       "2     0\n",
       "3     7\n",
       "4     7\n",
       "Name: assigned_flooring_score, dtype: int64"
      ]
     },
     "execution_count": 306,
     "metadata": {},
     "output_type": "execute_result"
    }
   ],
   "source": [
    "df['assigned_flooring_score'].head()"
   ]
  },
  {
   "cell_type": "code",
   "execution_count": 307,
   "id": "e9a94e5c-c9f5-4bf4-a963-93a61a5a56e9",
   "metadata": {},
   "outputs": [
    {
     "data": {
      "image/png": "[encoded data removed]",
      "text/plain": [
       "<Figure size 640x480 with 1 Axes>"
      ]
     },
     "metadata": {},
     "output_type": "display_data"
    }
   ],
   "source": [
    "# Filter data for 'mumbai'\n",
    "#filtered_df = df[df['addressregion'] == 'thane']\n",
    "\n",
    "sns.scatterplot(x=df['assigned_flooring_score'], y=df['price'])\n",
    "\n",
    "# Add labels and title\n",
    "plt.xlabel('assigned_flooring_score')\n",
    "plt.ylabel('price')\n",
    "plt.title('Scatterplot of flooring and price')\n",
    "#plt.legend(title='Address Region')\n",
    "plt.show()"
   ]
  },
  {
   "cell_type": "code",
   "execution_count": 308,
   "id": "fef36309-39c7-4a63-b3f4-413c8b0d6655",
   "metadata": {},
   "outputs": [
    {
     "data": {
      "text/plain": [
       "(4446, 51)"
      ]
     },
     "execution_count": 308,
     "metadata": {},
     "output_type": "execute_result"
    }
   ],
   "source": [
    "df[df['assigned_flooring_score'] == 0].shape"
   ]
  },
  {
   "cell_type": "markdown",
   "id": "2f9ea0f0-8551-4f18-aa29-7ee81bfde4a5",
   "metadata": {},
   "source": [
    "`observation` \n",
    "- make the 0 classify values as 'None' again "
   ]
  },
  {
   "cell_type": "code",
   "execution_count": 309,
   "id": "af1a00b8-2048-48a2-a391-94933eaefbfc",
   "metadata": {},
   "outputs": [],
   "source": [
    "# Replace 0 with NaN\n",
    "df['assigned_flooring_score'] = df['assigned_flooring_score'].replace(0, None)"
   ]
  },
  {
   "cell_type": "code",
   "execution_count": 310,
   "id": "4de24475-e0a0-4702-9734-bc19644328fb",
   "metadata": {},
   "outputs": [],
   "source": [
    "df = df.drop(['flooring_split','flooring','amenities'],axis=1)"
   ]
  },
  {
   "cell_type": "markdown",
   "id": "03c55e47-58bf-4691-a1bc-9c6e8d1ae173",
   "metadata": {},
   "source": [
    "# overlooking"
   ]
  },
  {
   "cell_type": "markdown",
   "id": "3a51cd35-1519-4052-bfe9-e20fdb898199",
   "metadata": {},
   "source": [
    "method 1, I have already perform in the mg_model_building.ipynb notebook"
   ]
  },
  {
   "cell_type": "markdown",
   "id": "f216738f-0536-48e1-82a6-7f1d289384b0",
   "metadata": {},
   "source": [
    "### method 2: assign weightage "
   ]
  },
  {
   "cell_type": "markdown",
   "id": "9964c670-7a1a-4460-8de0-f6b769bf768c",
   "metadata": {},
   "source": [
    "note : this method we can apply before train test split but in feature engineering "
   ]
  },
  {
   "cell_type": "code",
   "execution_count": 52,
   "id": "69a4919f-1b70-4b55-b9cb-1091707033f8",
   "metadata": {},
   "outputs": [
    {
     "data": {
      "text/plain": [
       "3969"
      ]
     },
     "execution_count": 52,
     "metadata": {},
     "output_type": "execute_result"
    }
   ],
   "source": [
    "df['overlooking'].isna().sum()"
   ]
  },
  {
   "cell_type": "code",
   "execution_count": 53,
   "id": "2785fa26-6a7c-4686-a9e4-afdce6091a39",
   "metadata": {},
   "outputs": [
    {
     "data": {
      "text/plain": [
       "overlooking\n",
       "main road                       2242\n",
       "garden/park, main road          1790\n",
       "garden/park, main road, pool    1749\n",
       "garden/park                     1536\n",
       "garden/park, pool                451\n",
       "pool                             102\n",
       "main road, pool                   59\n",
       "Name: count, dtype: int64"
      ]
     },
     "execution_count": 53,
     "metadata": {},
     "output_type": "execute_result"
    }
   ],
   "source": [
    "df['overlooking'].value_counts()"
   ]
  },
  {
   "cell_type": "code",
   "execution_count": 54,
   "id": "8d817b0c-fe7f-4c94-97df-40a8c4f179dc",
   "metadata": {},
   "outputs": [],
   "source": [
    "df['overlooking'] = df['overlooking'].fillna('unknown')"
   ]
  },
  {
   "cell_type": "code",
   "execution_count": 55,
   "id": "96f50217-fe9f-4d84-9f00-c0a40e8a00a3",
   "metadata": {},
   "outputs": [],
   "source": [
    "# Define the weightage for each flooring type\n",
    "weightages = {\n",
    "    \"main road\": 5,\n",
    "    \"garden/park\": 8,\n",
    "    \"pool\": 9\n",
    "}\n",
    "\n",
    "\n",
    "# Function to calculate the combination score\n",
    "def calculate_combination_score(overlooking_combination):\n",
    "    overlooking_types = [f.strip().lower() for f in overlooking_combination.split(\",\")]\n",
    "    total_weight = sum(weightages.get(f, 0) for f in overlooking_types)\n",
    "    #combination_score = total_weight / len(overlooking_types)\n",
    "    return round(total_weight, 2)\n",
    "\n",
    "# Apply the function to the dataframe\n",
    "df[\"assigned_overlooking_score\"] = df[\"overlooking\"].apply(calculate_combination_score)"
   ]
  },
  {
   "cell_type": "code",
   "execution_count": 56,
   "id": "c7ab8246-5bfd-4fc0-b875-7a78a6d4bfa9",
   "metadata": {},
   "outputs": [
    {
     "data": {
      "text/html": [
       "<div>\n",
       "<style scoped>\n",
       "    .dataframe tbody tr th:only-of-type {\n",
       "        vertical-align: middle;\n",
       "    }\n",
       "\n",
       "    .dataframe tbody tr th {\n",
       "        vertical-align: top;\n",
       "    }\n",
       "\n",
       "    .dataframe thead th {\n",
       "        text-align: right;\n",
       "    }\n",
       "</style>\n",
       "<table border=\"1\" class=\"dataframe\">\n",
       "  <thead>\n",
       "    <tr style=\"text-align: right;\">\n",
       "      <th></th>\n",
       "      <th>overlooking</th>\n",
       "      <th>assigned_overlooking_score</th>\n",
       "    </tr>\n",
       "  </thead>\n",
       "  <tbody>\n",
       "    <tr>\n",
       "      <th>10711</th>\n",
       "      <td>garden/park, main road</td>\n",
       "      <td>13</td>\n",
       "    </tr>\n",
       "    <tr>\n",
       "      <th>1197</th>\n",
       "      <td>unknown</td>\n",
       "      <td>0</td>\n",
       "    </tr>\n",
       "    <tr>\n",
       "      <th>337</th>\n",
       "      <td>unknown</td>\n",
       "      <td>0</td>\n",
       "    </tr>\n",
       "    <tr>\n",
       "      <th>10294</th>\n",
       "      <td>unknown</td>\n",
       "      <td>0</td>\n",
       "    </tr>\n",
       "    <tr>\n",
       "      <th>10897</th>\n",
       "      <td>garden/park, main road, pool</td>\n",
       "      <td>22</td>\n",
       "    </tr>\n",
       "    <tr>\n",
       "      <th>731</th>\n",
       "      <td>unknown</td>\n",
       "      <td>0</td>\n",
       "    </tr>\n",
       "    <tr>\n",
       "      <th>3954</th>\n",
       "      <td>unknown</td>\n",
       "      <td>0</td>\n",
       "    </tr>\n",
       "    <tr>\n",
       "      <th>6820</th>\n",
       "      <td>unknown</td>\n",
       "      <td>0</td>\n",
       "    </tr>\n",
       "    <tr>\n",
       "      <th>3362</th>\n",
       "      <td>garden/park, main road</td>\n",
       "      <td>13</td>\n",
       "    </tr>\n",
       "    <tr>\n",
       "      <th>9779</th>\n",
       "      <td>unknown</td>\n",
       "      <td>0</td>\n",
       "    </tr>\n",
       "  </tbody>\n",
       "</table>\n",
       "</div>"
      ],
      "text/plain": [
       "                        overlooking  assigned_overlooking_score\n",
       "10711        garden/park, main road                          13\n",
       "1197                        unknown                           0\n",
       "337                         unknown                           0\n",
       "10294                       unknown                           0\n",
       "10897  garden/park, main road, pool                          22\n",
       "731                         unknown                           0\n",
       "3954                        unknown                           0\n",
       "6820                        unknown                           0\n",
       "3362         garden/park, main road                          13\n",
       "9779                        unknown                           0"
      ]
     },
     "execution_count": 56,
     "metadata": {},
     "output_type": "execute_result"
    }
   ],
   "source": [
    "df[['overlooking',\"assigned_overlooking_score\"]].sample(10)"
   ]
  },
  {
   "cell_type": "code",
   "execution_count": 57,
   "id": "9a58dcc3-729b-40b4-a301-bd17176b1935",
   "metadata": {},
   "outputs": [
    {
     "data": {
      "image/png": "[encoded data removed]",
      "text/plain": [
       "<Figure size 640x480 with 1 Axes>"
      ]
     },
     "metadata": {},
     "output_type": "display_data"
    }
   ],
   "source": [
    "# Filter data for 'mumbai'\n",
    "#filtered_df = df[df['addressregion'] == 'thane']\n",
    "\n",
    "sns.scatterplot(x=df['assigned_overlooking_score'], y=df['price'])\n",
    "\n",
    "# Add labels and title\n",
    "plt.xlabel('overlooking_score')\n",
    "plt.ylabel('price')\n",
    "plt.title('Scatterplot of overlooking and price')\n",
    "#plt.legend(title='Address Region')\n",
    "plt.show()"
   ]
  },
  {
   "cell_type": "code",
   "execution_count": 58,
   "id": "e5a77ea4-14b8-40aa-93f3-6a5bd4b15650",
   "metadata": {},
   "outputs": [
    {
     "data": {
      "text/plain": [
       "(3969, 50)"
      ]
     },
     "execution_count": 58,
     "metadata": {},
     "output_type": "execute_result"
    }
   ],
   "source": [
    "df[df['assigned_overlooking_score'] == 0].shape"
   ]
  },
  {
   "cell_type": "code",
   "execution_count": 59,
   "id": "5b9845d5-d4ef-4b27-87b7-08b5dae9b2dc",
   "metadata": {},
   "outputs": [
    {
     "data": {
      "image/png": "[encoded data removed]",
      "text/plain": [
       "<Figure size 640x480 with 1 Axes>"
      ]
     },
     "metadata": {},
     "output_type": "display_data"
    }
   ],
   "source": [
    "# using price mean \n",
    "sns.barplot(data=df, x='assigned_overlooking_score', y='price')\n",
    "plt.xticks(rotation=45, ha='right')  # Rotate and align the labels\n",
    "plt.show()"
   ]
  },
  {
   "cell_type": "code",
   "execution_count": null,
   "id": "57985dd6-70f1-421d-a0fe-4b0f45565783",
   "metadata": {},
   "outputs": [],
   "source": []
  },
  {
   "attachments": {
    "880d4ab5-74af-4ee5-b27d-e754c6a3fcb9.png": {
     "image/png": "[encoded data removed]"
    }
   },
   "cell_type": "markdown",
   "id": "4f764f3a-396a-4720-81d3-cb3100a0107d",
   "metadata": {},
   "source": [
    "#converting a numerical column (towers) into categorical data\n",
    "\n",
    "![image.png](attachment:880d4ab5-74af-4ee5-b27d-e754c6a3fcb9.png)"
   ]
  },
  {
   "cell_type": "code",
   "execution_count": null,
   "id": "70e594d5-ef2d-4613-bdbe-9542b05b1e26",
   "metadata": {},
   "outputs": [],
   "source": [
    "# towers into categories \n",
    "# Define bins and labels\n",
    "bins = [0, 5, 10, 20, 40, float('inf')]\n",
    "labels = ['small_scale', 'medium_scale', 'large_scale', 'very_large_scale', 'mega_scale']\n",
    "\n",
    "# Apply categorization\n",
    "df['towers_category'] = pd.cut(df['towers'], bins=bins, labels=labels)\n",
    "\n",
    "# Display categorized values\n",
    "print(df[['towers', 'towers_category']])"
   ]
  },
  {
   "cell_type": "code",
   "execution_count": 3,
   "id": "a30ad37d-1df0-4243-9746-ec2de73af030",
   "metadata": {},
   "outputs": [
    {
     "ename": "SyntaxError",
     "evalue": "invalid syntax (2900678014.py, line 1)",
     "output_type": "error",
     "traceback": [
      "\u001b[1;36m  Cell \u001b[1;32mIn[3], line 1\u001b[1;36m\u001b[0m\n\u001b[1;33m    locality_rating into categories\u001b[0m\n\u001b[1;37m                    ^\u001b[0m\n\u001b[1;31mSyntaxError\u001b[0m\u001b[1;31m:\u001b[0m invalid syntax\n"
     ]
    }
   ],
   "source": [
    "#locality_rating into categories \n",
    "\n",
    "# Define categories\n",
    "bins = [0, 2.9, 3.4, 3.9, 4.4, 5.0]\n",
    "labels = ['very_low', 'low', 'medium', 'high', 'very_high']\n",
    "\n",
    "# Apply categorization\n",
    "df['locality_category'] = pd.cut(df['locality_rating'], bins=bins, labels=labels, include_lowest=True)\n",
    "\n",
    "# Display result\n",
    "print(df)"
   ]
  },
  {
   "cell_type": "markdown",
   "id": "3383597a-23d3-4bef-8f05-cb2f32440106",
   "metadata": {},
   "source": [
    "# flat_on_floor in categories   \n",
    "Lower and Upper Basement: -1.0, -2.0  \n",
    "Ground Floor: 0.0  \n",
    "Low-rise Floors (1-5): 1.0 to 5.0  \n",
    "Mid-rise Floors (6-15): 6.0 to 15.0  \n",
    "High-rise Floors (16-30): 16.0 to 30.0  \n",
    "Very High-rise Floors (31-50): 31.0 to 50.0  \n",
    "Ultra High-rise Floors (51+): 51.0  "
   ]
  },
  {
   "cell_type": "code",
   "execution_count": null,
   "id": "48c8c577-fe19-4eea-8a51-1050a311c10c",
   "metadata": {},
   "outputs": [],
   "source": [
    "# Define a function for categorization\n",
    "def categorize_floor(value):\n",
    "    if value in [-1, -2]:\n",
    "        return \"lower_and_upper_basement\"\n",
    "    elif value == 0:\n",
    "        return \"ground_floor\"\n",
    "    elif 1 <= value <= 5:\n",
    "        return \"low_rise_floors\"\n",
    "    elif 6 <= value <= 15:\n",
    "        return \"mid_rise_floors\"\n",
    "    elif 16 <= value <= 30:\n",
    "        return \"high_rise_floors\"\n",
    "    elif 31 <= value <= 50:\n",
    "        return \"very_high_rise_floors\"\n",
    "    else:\n",
    "        return \"ultra_high_rise_floors\"\n",
    "\n",
    "# Apply categorization\n",
    "df['floor_category'] = df['flat_on_floor'].apply(categorize_floor)"
   ]
  },
  {
   "cell_type": "markdown",
   "id": "b98c6855-a8ba-4404-8856-b265e6feedbd",
   "metadata": {},
   "source": [
    "# total_floor into categories \n",
    "Refined Categories Based on Counts:   \n",
    "Low-rise (1-6 floors) → Smaller, common buildings (moderate count).  \n",
    "Mid-rise (7-15 floors) → The most frequent category (high count).  \n",
    "High-rise (16-30 floors) → Still common but slightly less frequent.  \n",
    "Premium High-rise (31-50 floors) → Large, but relatively uncommon.  \n",
    "Skyscraper (51+ floors) → Rare and premium buildings with low counts."
   ]
  },
  {
   "cell_type": "code",
   "execution_count": null,
   "id": "5f967db5-6e71-4a0a-bf88-ee764fa73a5a",
   "metadata": {},
   "outputs": [],
   "source": [
    "# Define a function to categorize total_floor\n",
    "def categorize_floors(floor):\n",
    "    if floor <= 6:\n",
    "        return \"low_rise\"\n",
    "    elif 7 <= floor <= 15:\n",
    "        return \"mid_rise\"\n",
    "    elif 16 <= floor <= 30:\n",
    "        return \"high_rise\"\n",
    "    elif 31 <= floor <= 50:\n",
    "        return \"premium_high_rise\"\n",
    "    else:\n",
    "        return \"skyscraper\"\n",
    "\n",
    "# Apply the categorization\n",
    "df[\"floor_category\"] = df[\"feature_value\"].apply(categorize_floors)"
   ]
  },
  {
   "cell_type": "markdown",
   "id": "cef60b2f-916a-4278-b4a1-b4fd0d0aac45",
   "metadata": {},
   "source": [
    "This script assigns categories based on locality_rank into four groups:\n",
    "\n",
    "Top-Ranked (1-50)  \n",
    "Mid-Ranked (51-150)  \n",
    "Lower-Ranked (151-300)  \n",
    "Least-Ranked (301 and above)\n"
   ]
  },
  {
   "cell_type": "code",
   "execution_count": null,
   "id": "e7c5be8d-4f1b-4e23-949c-8bbabf5a2999",
   "metadata": {},
   "outputs": [],
   "source": [
    "# Define Categories\n",
    "def categorize_locality(rank):\n",
    "    if rank <= 50:\n",
    "        return \"top_ranked\"\n",
    "    elif rank <= 150:\n",
    "        return \"mid_ranked\"\n",
    "    elif rank <= 300:\n",
    "        return \"lower_ranked\"\n",
    "    else:\n",
    "        return \"least_ranked\"\n",
    "\n",
    "# Apply Categorization\n",
    "df['category'] = df['locality_rank'].apply(categorize_locality)"
   ]
  },
  {
   "cell_type": "markdown",
   "id": "5a3b72b0-c2ca-4939-862d-f2cf0a25d286",
   "metadata": {},
   "source": [
    "area into categories \n",
    "\n",
    "Small: Below 100 sq. units  \n",
    "Medium: 100 - 300 sq. units  \n",
    "Large: 301 - 600 sq. units  \n",
    "Extra Large: 601 - 900 sq. units  \n",
    "Luxury: Above 900 sq. units"
   ]
  },
  {
   "cell_type": "code",
   "execution_count": null,
   "id": "24b31fd0-9b52-45a7-98f2-deb08d3cd705",
   "metadata": {},
   "outputs": [],
   "source": [
    "# Define bins and labels\n",
    "bins = [0, 100, 300, 600, 900, float(\"inf\")]\n",
    "labels = [\"small\", \"medium\", \"large\", \"extra_large\", \"luxury\"]\n",
    "\n",
    "# Apply categorization\n",
    "df[\"area_category\"] = pd.cut(df[\"area\"], bins=bins, labels=labels)"
   ]
  },
  {
   "cell_type": "markdown",
   "id": "3ea9c3f5-051e-4db0-a578-5ccf52e4248c",
   "metadata": {},
   "source": [
    "# builder and project_name"
   ]
  },
  {
   "cell_type": "markdown",
   "id": "6f3d3ec8-2d20-44aa-b259-85eaa59cdaa7",
   "metadata": {},
   "source": [
    "### observation\n",
    "- The user will provide details like price or location but won’t ask for a specific builder, so drop this column. similarly drop project_name column "
   ]
  },
  {
   "cell_type": "code",
   "execution_count": 2,
   "id": "52b5ad92-bcda-478b-8f90-b75d6ea7ec88",
   "metadata": {},
   "outputs": [
    {
     "ename": "NameError",
     "evalue": "name 'df' is not defined",
     "output_type": "error",
     "traceback": [
      "\u001b[1;31m---------------------------------------------------------------------------\u001b[0m",
      "\u001b[1;31mNameError\u001b[0m                                 Traceback (most recent call last)",
      "Cell \u001b[1;32mIn[2], line 1\u001b[0m\n\u001b[1;32m----> 1\u001b[0m df \u001b[38;5;241m=\u001b[39m df\u001b[38;5;241m.\u001b[39mdrop([\u001b[38;5;124m'\u001b[39m\u001b[38;5;124mbuilder\u001b[39m\u001b[38;5;124m'\u001b[39m,\u001b[38;5;124m'\u001b[39m\u001b[38;5;124mproject_name\u001b[39m\u001b[38;5;124m'\u001b[39m],axis\u001b[38;5;241m=\u001b[39m\u001b[38;5;241m1\u001b[39m)\n",
      "\u001b[1;31mNameError\u001b[0m: name 'df' is not defined"
     ]
    }
   ],
   "source": [
    "df = df.drop(['builder','project_name'],axis=1)"
   ]
  },
  {
   "cell_type": "code",
   "execution_count": null,
   "id": "caec0e43-5d96-4c7b-8d49-49baea20077a",
   "metadata": {},
   "outputs": [],
   "source": []
  },
  {
   "cell_type": "markdown",
   "id": "a6815a02-ca84-4197-95e0-55f0ffffe0b5",
   "metadata": {},
   "source": [
    "# 4.Feature Engineering\n",
    "\n",
    "do this after train test split"
   ]
  },
  {
   "cell_type": "code",
   "execution_count": null,
   "id": "df2d441a-b1ef-49ad-b802-439e597ecc70",
   "metadata": {},
   "outputs": [],
   "source": [
    "df['status'].value_counts()"
   ]
  },
  {
   "cell_type": "markdown",
   "id": "b5316a6d-4e57-4186-8f4d-057f993d96e4",
   "metadata": {},
   "source": [
    "# Observation\n",
    " - 1st work on the status and construction column as so few categories are common between them \n",
    " - in status column values for ongoing and immediatly category are very less so remove that cartegories (bp152)\n",
    " - some imp points from chatgpt also that I have paste after this and next text block\n",
    " - some fetures we may think that they are ordinal but may be they are nominal eg: status, construction, flooring \n",
    "\n",
    "list down all the categorical columns which have categories \n",
    "\n",
    "### categorical columns  :\n",
    "### ordinal data(bp152) : data in which one category better than other  \n",
    "for this columns we can use 'ordinal encoding' as it assigns integers to categories according to their relative order and using this we can handle nan values by giving it -1 \n",
    "\n",
    "flooring = 'NaN', 'ceramic tiles', 'granite', 'marble', 'marbonite', 'mosaic', 'normal tiles/kotah stone', 'vitrified', 'wooden'    \n",
    "construction = 'NaN','under construction', nan, 'less than 5 years', 'new construction','10 to 15 years', '5 to 10 years', '15 to 20 years','above 20 years'  \n",
    "furnish = 'unfurnished', 'semi-furnished', 'furnished', nan\n",
    "status = 'under construction', 'ready to move', nan, 'ongoing','immediately' \n",
    "\n",
    "### nominal data : all categories have equal weightage means there is no order     \n",
    "##### OHE :use for nominal categorical data ,wont use on high cardinality data ,means columns which have so many categories on that do not use this and work better on linear models   \n",
    "\n",
    "##### we can use binary encoder for categorical data specially for high cardinality categorical data and as OHE create lots of dimension in feature space and this problem solve by binary encoder and read disadvantages also befor applying this   \n",
    "##### so apply on eg: builder, project_name \n",
    "\n",
    "##### mean encoder also called target encoder this technique we use most of the times for high categorical data in regression problem and apply smoothing to avoid overfitting and cv to avoid data leakage here  \n",
    "##### so apply on eg: builder, project_name \n",
    "\n",
    "\n",
    "overlooking = 'NaN', 'garden/park', 'main road', 'not available', 'pool'  \n",
    "ownership = nan, 'freehold', 'co-operative society', 'leasehold','power of attorney'  \n",
    "extra_rooms = 'NaN', 'none of these', 'puja room', 'servant room', 'store', 'study'   \n",
    "builder = 1222 unique builders  \n",
    "project_name = 2950 unique project_name   \n",
    "property_type = 'new property', 'resale', 'other', nan, 'rent'   \n",
    "facing = nan, 'north - east', 'east', 'north', 'north - west', 'south -west', 'west', 'south', 'south - east'   \n",
    "seller = 'organization', 'realestateagent', 'person'   \n",
    "addressregion = 'thane', 'navi mumbai', 'mumbai', 'palghar'   \n",
    "ameties = too many ameties    \n",
    "room_type = 'flat', 'apartment'\n"
   ]
  },
  {
   "cell_type": "markdown",
   "id": "dc8deb3a-bb9c-4c1b-ac51-62a6acf23e24",
   "metadata": {},
   "source": [
    "### numerical columns :\n",
    "list down all the numerical columns which have categories\n",
    "\n",
    "### Observation\n",
    "#### so we can apply discretization on this (bp156) but remember that becoz of this we face information loss \n",
    "#### we can use discretization(binning) (bp156) on this below columns and it works well on tree based models and one more thing is we can \"Preserve Numerical Features\" means keep below columns also with binned columns\n",
    "\n",
    "#### use uniform binning as basline(bp157)\n",
    "#### quantile biining is useful when we have skewed data or when the aim is to normalize the distribution of the data for furter analysis \n",
    "#### try to use quantile binning on all\n",
    "\n",
    "\n",
    "bath = 2.,  3.,  1., nan,  4.,  5.,  6., 10.,  8.,  7.,  9.  \n",
    "parking =  1., nan,  2.,  3.,  4.,  6.,  5., 10.,  9., 12.,  8.  \n",
    "lift = 4.,  2., nan,  3.,  1.,  5.,  7.,  8.,  6., 10.,  9.  \n",
    "balcony = nan,  1.,  2.,  3.,  4.,  6.,  5.,  8.,  7.  \n",
    "bed = 2.,  3.,  1., nan,  4.,  6.,  5.,  8., 10.,  7.  \n"
   ]
  },
  {
   "cell_type": "markdown",
   "id": "00afeff0-5698-472a-9908-208d614084cd",
   "metadata": {},
   "source": [
    "# When working on a real estate price prediction dataset with a mix of categorical and numerical columns, choosing the right encoding techniques for categorical data is critical. Here's a column-wise approach for your dataset:\n",
    "\n",
    "---\n",
    "\n",
    "### **General Guidelines for Encoding**\n",
    "1. **Low cardinality categorical variables** (few unique values): Use techniques like **one-hot encoding** \n",
    "2. **High cardinality categorical variables** (many unique values): Consider **target encoding**, **frequency encoding**, or embeddings if working with neural networks.\n",
    "3. Handle **missing values (NaN)** before encoding. Use domain knowledge to impute meaningful values or introduce a separate \"missing\" category.\n",
    "\n",
    "---\n",
    "\n",
    "### **Column-wise Encoding Recommendations**\n",
    "#### 1. **Flooring**\n",
    "   - **Type**: Low cardinality (8 unique values).\n",
    "   - **Encoding**: One-hot encoding (if non-linear relationships) or ordinal encoding (if ordinal relationships are assumed).\n",
    "\n",
    "#### 2. **Construction**\n",
    "   - **Type**: Low cardinality with ordinal nature.\n",
    "   - **Encoding**: Ordinal encoding (e.g., assign meaningful numerical values based on age).\n",
    "\n",
    "#### 3. **Furnish**\n",
    "   - **Type**: Low cardinality (3 main values + NaN).\n",
    "   - **Encoding**: One-hot encoding for detailed models  or ordinal encoding.\n",
    "\n",
    "#### 4. **Status**\n",
    "   - **Type**: Low cardinality (5 unique values).\n",
    "   - **Encoding**: One-hot encoding for simplicity.\n",
    "\n",
    "#### 5. **Overlooking**\n",
    "   - **Type**: Low cardinality.\n",
    "   - **Encoding**:  One-hot encoding or ordinal encoding.\n",
    "\n",
    "#### 6. **Ownership**\n",
    "   - **Type**: Low cardinality.\n",
    "   - **Encoding**:  One-hot encoding or ordinal encoding.\n",
    "\n",
    "#### 7. **Extra Rooms**\n",
    "   - **Type**: Low cardinality.\n",
    "   - **Encoding**:  One-hot encoding or ordinal encoding.\n",
    "\n",
    "#### 8. **Builder**\n",
    "   - **Type**: High cardinality (1222 unique values).\n",
    "   - **Encoding**: \n",
    "     - Frequency encoding (count of properties per builder).\n",
    "     - Target encoding (mean price per builder, be cautious of data leakage).\n",
    "\n",
    "#### 9. **Project Name**\n",
    "   - **Type**: High cardinality (2950 unique values).\n",
    "   - **Encoding**: Similar to the \"Builder\" column, consider:\n",
    "     - Frequency encoding.\n",
    "     - Target encoding.\n",
    "\n",
    "#### 10. **Property Type**\n",
    "   - **Type**: Low cardinality.\n",
    "   - **Encoding**: One-hot encoding or ordinal encoding.\n",
    "\n",
    "#### 11. **Facing**\n",
    "   - **Type**: Low cardinality.\n",
    "   - **Encoding**: One-hot encoding for simplicity.\n",
    "\n",
    "#### 12. **Seller**\n",
    "   - **Type**: Low cardinality (3 unique values).\n",
    "   - **Encoding**: One-hot encoding.\n",
    "\n",
    "#### 13. **Address Region**\n",
    "   - **Type**: Low cardinality (4 unique values).\n",
    "   - **Encoding**: One-hot encoding.\n",
    "\n",
    "#### 14. **Amenities**\n",
    "   - **Type**: High cardinality with complex data (possibly a list per property).\n",
    "   - **Encoding**:\n",
    "     - Count the number of amenities per property as a feature.\n",
    "     - Extract most common amenities and one-hot encode them.\n",
    "     - Create binary flags for the presence/absence of specific amenities.\n",
    "\n",
    "#### 15. **Room Type**\n",
    "   - **Type**: Low cardinality (2 unique values).\n",
    "   - **Encoding**: One-hot encoding.\n",
    "\n",
    "---\n",
    "\n",
    "### **Practical Tips**\n",
    "1. **Scaling**: After encoding, scale the data (e.g., using StandardScaler or MinMaxScaler) to make it suitable for machine learning models sensitive to feature magnitude (e.g., linear regression, neural networks).\n",
    "2. **Imputing NaNs**:\n",
    "   - Replace missing values with a new category like `'Unknown'` or a placeholder (`-1` for numerical encodings).\n",
    "3. **Interaction Features**: Combine certain features to create interaction terms (e.g., \"facing\" + \"flooring\") if relationships between them impact the price.\n",
    "4. **Model Selection**:\n",
    "   - Use **tree-based models** (e.g., Random Forest, XGBoost) that can handle non-scaled and categorical data better.\n",
    "   - For neural networks, consider embeddings for high-cardinality variables.\n",
    "\n",
    "---\n",
    "\n",
    "Would you like specific implementation examples in Python for any of the above techniques?"
   ]
  },
  {
   "cell_type": "markdown",
   "id": "1a3b4b7c-8a27-47cd-aa46-05e1187fcbde",
   "metadata": {},
   "source": [
    "# education "
   ]
  },
  {
   "cell_type": "code",
   "execution_count": null,
   "id": "a81ed227-3ea7-4a09-a4c9-fc1a3c37ef68",
   "metadata": {},
   "outputs": [],
   "source": [
    "df['education'].head(10)"
   ]
  },
  {
   "cell_type": "markdown",
   "id": "ecfed93a-9719-4d7c-8579-8f0d4765b2cf",
   "metadata": {},
   "source": [
    "`observation` \n",
    "- Extract the list of distances for each property and then apply log1p (the logarithm of 1 + value) to the distances and then calculate the average"
   ]
  },
  {
   "cell_type": "code",
   "execution_count": null,
   "id": "074f2dc4-e5c6-433d-8660-1fbf2ee20249",
   "metadata": {},
   "outputs": [],
   "source": [
    "# Function to extract numerical values before 'km'\n",
    "def extract_km_values(row):\n",
    "    if pd.isnull(row):\n",
    "        return None\n",
    "    return [float(val) for val in re.findall(r'(\\d+\\.\\d+)\\s*km', row)]\n",
    "\n",
    "# Function to compute log1p of distances and then take the average\n",
    "def log1p_and_average(distances):\n",
    "    if distances is None or len(distances) == 0:\n",
    "        return None\n",
    "    log1p_distances = [np.log1p(d) for d in distances]\n",
    "    return np.mean(log1p_distances)\n",
    "\n",
    "# Apply the function to extract km values and calculate the log1p and average\n",
    "df['education_extracted_km'] = df['education'].apply(extract_km_values)\n",
    "df['education_log1p_avg_km'] = df['education_extracted_km'].apply(log1p_and_average)"
   ]
  },
  {
   "cell_type": "code",
   "execution_count": null,
   "id": "444854c1-b894-453d-9959-f7c721d1335b",
   "metadata": {},
   "outputs": [],
   "source": [
    "df['education_extracted_km'].head(20)"
   ]
  },
  {
   "cell_type": "code",
   "execution_count": null,
   "id": "f879ba75-5c16-46ff-a8ed-d659912a22db",
   "metadata": {},
   "outputs": [],
   "source": [
    "df['education_log1p_avg_km'].head(20) "
   ]
  },
  {
   "cell_type": "code",
   "execution_count": null,
   "id": "83c7fdac-9af2-410b-b178-ddf54fc02be7",
   "metadata": {},
   "outputs": [],
   "source": [
    "df['education_log1p_avg_km'].isna().sum()"
   ]
  },
  {
   "cell_type": "code",
   "execution_count": null,
   "id": "f3ae184f-c20c-47f2-a1f1-ad295dea6a75",
   "metadata": {},
   "outputs": [],
   "source": [
    "df['education_log1p_avg_km'].describe()"
   ]
  },
  {
   "cell_type": "code",
   "execution_count": null,
   "id": "22931563-ed88-40c4-8ce0-003e3d0d4f07",
   "metadata": {},
   "outputs": [],
   "source": [
    "df[df['education_log1p_avg_km'] <= 0.5].shape"
   ]
  },
  {
   "cell_type": "code",
   "execution_count": null,
   "id": "9268aa43-782c-4bbd-ad65-684a93313ff6",
   "metadata": {},
   "outputs": [],
   "source": [
    "df[df['education_log1p_avg_km'] < 1].shape"
   ]
  },
  {
   "cell_type": "markdown",
   "id": "72cf8a6c-671e-4015-b5c6-7801c1358526",
   "metadata": {},
   "source": [
    "`observation` \n",
    "- There are 4,266 missing values.\n",
    "- A value close to 0 indicates that the school or college is near the flat, while a higher value means it is farther away from the flat.\n",
    "- 0.69, showing moderate variability"
   ]
  },
  {
   "cell_type": "code",
   "execution_count": null,
   "id": "d0c33cdd-47c5-4000-b91d-b7b55997ed6d",
   "metadata": {},
   "outputs": [],
   "source": [
    "sns.histplot(df['education_log1p_avg_km'],kde=True,bins=50)"
   ]
  },
  {
   "cell_type": "markdown",
   "id": "ce57bcc1-d3a2-4f54-8f6e-40efb8a7dfe5",
   "metadata": {},
   "source": [
    "`observation` \n",
    "- histogram confirms a right-skewed distribution, with most values concentrated at lower log1p distances. \n",
    "- The highest frequency is observed around 1.0–1.5 education_log1p_avg_km, indicating that most distances fall within this range\n",
    "- Sparse values are seen beyond 3.0 education_log1p_avg_km, suggesting potential outliers"
   ]
  },
  {
   "cell_type": "code",
   "execution_count": null,
   "id": "30dfc0f0-1fb4-4d4a-9582-5fda02bfc4b1",
   "metadata": {},
   "outputs": [],
   "source": [
    "sns.boxplot(df['education_log1p_avg_km'],color='lightgreen')\n",
    "plt.grid()"
   ]
  },
  {
   "cell_type": "markdown",
   "id": "a62be29e-d0d2-4eed-b982-966fc5cb2173",
   "metadata": {},
   "source": [
    "`observation` \n",
    "- IQR ranges from 0.95 (25th percentile) to 1.63 (75th percentile).\n",
    "- Outliers are present above 2.6 education_log1p_avg_km."
   ]
  },
  {
   "cell_type": "code",
   "execution_count": null,
   "id": "811c32de-78f3-4425-89ef-671aa889496f",
   "metadata": {},
   "outputs": [],
   "source": [
    "#skewness and kurtosis\n",
    "skewness = df['education_log1p_avg_km'].skew()\n",
    "kurtosis = df['education_log1p_avg_km'].kurt()\n",
    "\n",
    "print(f\"skewness : {skewness}\")\n",
    "print(f\"kurtosis : {kurtosis}\")"
   ]
  },
  {
   "cell_type": "markdown",
   "id": "69e32d5e-5645-407c-bfad-a34dc675665d",
   "metadata": {},
   "source": [
    "`observation`  \n",
    "- Skewness: 1.72, indicating a right-skewed distribution.\n",
    "- Kurtosis: 3.47, suggesting thleptokurtic e distribution has heavier tails and is more peaked compared to a normal distribution."
   ]
  },
  {
   "cell_type": "code",
   "execution_count": null,
   "id": "9a08c970-21f8-4e54-a6c2-334fa2873d7c",
   "metadata": {},
   "outputs": [],
   "source": [
    "# Drop NaN values from the column\n",
    "cleaned_data_education_log1p_avg_km = df['education_log1p_avg_km'].dropna()\n",
    "\n",
    "# Calculate Q1 and Q3\n",
    "Q1 = np.percentile(cleaned_data_education_log1p_avg_km, 25)\n",
    "Q3 = np.percentile(cleaned_data_education_log1p_avg_km, 75)\n",
    "\n",
    "# Calculate IQR\n",
    "IQR = Q3 - Q1\n",
    "\n",
    "# Calculate lower and upper whiskers\n",
    "lower_whisker = Q1 - 1.5 * IQR\n",
    "upper_whisker = Q3 + 1.5 * IQR\n",
    "\n",
    "# Print results\n",
    "print(f\"Q1 (25th percentile): {Q1}\")\n",
    "print(f\"Q3 (75th percentile): {Q3}\")\n",
    "print(f\"IQR: {IQR}\")\n",
    "\n",
    "print(\"Lower Whisker:\", lower_whisker)\n",
    "print(\"Upper Whisker:\", upper_whisker)\n"
   ]
  },
  {
   "cell_type": "markdown",
   "id": "3035e1a4-d395-464f-af5b-702e987278fa",
   "metadata": {},
   "source": [
    "# transport"
   ]
  },
  {
   "cell_type": "code",
   "execution_count": null,
   "id": "84c076b4-94e6-4f67-b27c-c89cb983c4aa",
   "metadata": {},
   "outputs": [],
   "source": [
    "df['transport'].head()"
   ]
  },
  {
   "cell_type": "markdown",
   "id": "63f5c7b6-16f7-4264-9bfb-c0a12bbb49d2",
   "metadata": {},
   "source": [
    "`observation` \n",
    "- Extract the list of distances for each property and then apply log1p (the logarithm of 1 + value) to the distances and then calculate the average"
   ]
  },
  {
   "cell_type": "code",
   "execution_count": null,
   "id": "9b0afd9a-52a2-4af4-96ff-4c70d73a6224",
   "metadata": {},
   "outputs": [],
   "source": [
    "# Function to extract numerical values before 'km'\n",
    "def extract_km_values(row):\n",
    "    if pd.isnull(row):\n",
    "        return None\n",
    "    return [float(val) for val in re.findall(r'(\\d+\\.\\d+)\\s*km', row)]\n",
    "\n",
    "# Function to compute log1p of distances and then take the average\n",
    "def log1p_and_average(distances):\n",
    "    if distances is None or len(distances) == 0:\n",
    "        return None\n",
    "    log1p_distances = [np.log1p(d) for d in distances]\n",
    "    return np.mean(log1p_distances)\n",
    "\n",
    "# Apply the function to extract km values and calculate the log1p and average\n",
    "df['transport_extracted_km'] = df['transport'].apply(extract_km_values)\n",
    "df['transport_log1p_avg_km'] = df['transport_extracted_km'].apply(log1p_and_average)"
   ]
  },
  {
   "cell_type": "code",
   "execution_count": null,
   "id": "d09bedde-66c6-42c8-8f3c-f3c2f8696981",
   "metadata": {},
   "outputs": [],
   "source": [
    "df['transport_extracted_km'].head(20)"
   ]
  },
  {
   "cell_type": "code",
   "execution_count": null,
   "id": "14a40960-f32c-4e3c-b359-3eca4c8859e4",
   "metadata": {},
   "outputs": [],
   "source": [
    "df['transport_log1p_avg_km'].head(20) "
   ]
  },
  {
   "cell_type": "code",
   "execution_count": null,
   "id": "3ec1bdda-5d87-4674-a5f7-01c55ea4a9d8",
   "metadata": {},
   "outputs": [],
   "source": [
    "df['transport_log1p_avg_km'].isna().sum()"
   ]
  },
  {
   "cell_type": "code",
   "execution_count": null,
   "id": "f43bd0b6-cd86-4afa-afe9-0d00cee5ff68",
   "metadata": {},
   "outputs": [],
   "source": [
    "df['transport_log1p_avg_km'].describe()"
   ]
  },
  {
   "cell_type": "code",
   "execution_count": null,
   "id": "26b4b3eb-a02b-4adc-bcb3-fe473b04027b",
   "metadata": {},
   "outputs": [],
   "source": [
    "df[df['transport_log1p_avg_km'] <= 0.5].shape"
   ]
  },
  {
   "cell_type": "code",
   "execution_count": null,
   "id": "68cbfbe3-e526-442e-8c17-f4bd3011b04f",
   "metadata": {},
   "outputs": [],
   "source": [
    "df[df['transport_log1p_avg_km'] < 1].shape"
   ]
  },
  {
   "cell_type": "markdown",
   "id": "44a53ca2-d6d7-4ea7-8ea8-5ea2f00d2c43",
   "metadata": {},
   "source": [
    "`observation` \n",
    "- There are 6260 missing values.\n",
    "- A value close to 0 indicates that the transport facility is near the flat, while a higher value means it is farther away from the flat.\n",
    "- 0.67, showing moderate variability"
   ]
  },
  {
   "cell_type": "code",
   "execution_count": null,
   "id": "4f43d3f2-e418-44de-a865-678ec30472bf",
   "metadata": {},
   "outputs": [],
   "source": [
    "sns.histplot(df['transport_log1p_avg_km'],kde=True,bins=50)"
   ]
  },
  {
   "cell_type": "markdown",
   "id": "820f6545-9538-4294-9e0a-6cb9acad8d36",
   "metadata": {},
   "source": [
    "`observation` \n",
    "- histogram confirms a right-skewed distribution, with most values concentrated at lower log1p distances. \n",
    "- The highest frequency is observed around 0.8–1.4 transport_log1p_avg_km, indicating that most distances fall within this range\n",
    "- Sparse values are seen beyond 2.5 transport_log1p_avg_km, suggesting potential outliers"
   ]
  },
  {
   "cell_type": "code",
   "execution_count": null,
   "id": "6ec85b50-ce16-43c9-aefc-b67dfda2d94b",
   "metadata": {},
   "outputs": [],
   "source": [
    "sns.boxplot(df['transport_log1p_avg_km'],color='lightgreen')\n",
    "plt.grid()"
   ]
  },
  {
   "cell_type": "markdown",
   "id": "279dd8af-343f-4232-a5eb-f1847dd8aebd",
   "metadata": {},
   "source": [
    "`observation` \n",
    "- IQR ranges from 0.87 (25th percentile) to 1.42 (75th percentile).\n",
    "- Outliers are present above 2.23 transport_log1p_avg_km."
   ]
  },
  {
   "cell_type": "code",
   "execution_count": null,
   "id": "43967272-e649-4fa4-8991-f2bc057dc076",
   "metadata": {},
   "outputs": [],
   "source": [
    "#skewness and kurtosis\n",
    "skewness = df['transport_log1p_avg_km'].skew()\n",
    "kurtosis = df['transport_log1p_avg_km'].kurt()\n",
    "\n",
    "print(f\"skewness : {skewness}\")\n",
    "print(f\"kurtosis : {kurtosis}\")"
   ]
  },
  {
   "cell_type": "markdown",
   "id": "25d8b3d7-17a5-42c3-913c-37150a00841d",
   "metadata": {},
   "source": [
    "`observation` \n",
    "- Skewness: 0.69, data is slightly skewed to the right\n",
    "- Kurtosis: 1.44, data has light tails (fewer extreme values)."
   ]
  },
  {
   "cell_type": "code",
   "execution_count": null,
   "id": "1d6cbaa8-bbaa-4d4d-b56d-357098cf7b52",
   "metadata": {},
   "outputs": [],
   "source": [
    "# Drop NaN values from the column\n",
    "cleaned_data_transport_log1p_avg_km = df['transport_log1p_avg_km'].dropna()\n",
    "\n",
    "# Calculate Q1 and Q3\n",
    "Q1 = np.percentile(cleaned_data_transport_log1p_avg_km, 25)\n",
    "Q3 = np.percentile(cleaned_data_transport_log1p_avg_km, 75)\n",
    "\n",
    "# Calculate IQR\n",
    "IQR = Q3 - Q1\n",
    "\n",
    "# Calculate lower and upper whiskers\n",
    "lower_whisker = Q1 - 1.5 * IQR\n",
    "upper_whisker = Q3 + 1.5 * IQR\n",
    "\n",
    "# Print results\n",
    "print(f\"Q1 (25th percentile): {Q1}\")\n",
    "print(f\"Q3 (75th percentile): {Q3}\")\n",
    "print(f\"IQR: {IQR}\")\n",
    "\n",
    "print(\"Lower Whisker:\", lower_whisker)\n",
    "print(\"Upper Whisker:\", upper_whisker)"
   ]
  },
  {
   "cell_type": "markdown",
   "id": "2031ed20-7b1b-43fe-b3f2-55e81ab3a757",
   "metadata": {},
   "source": [
    "# shopping_centre"
   ]
  },
  {
   "cell_type": "code",
   "execution_count": null,
   "id": "7db52e06-7eac-4dfc-9fe7-5ce0b284d6d6",
   "metadata": {},
   "outputs": [],
   "source": [
    "df['shopping_centre'].head()"
   ]
  },
  {
   "cell_type": "markdown",
   "id": "e7435fb5-803d-4bcc-85da-518d9b4c2633",
   "metadata": {},
   "source": [
    "`observation` \n",
    "- Extract the list of distances for each property and then apply log1p (the logarithm of 1 + value) to the distances and then calculate the average"
   ]
  },
  {
   "cell_type": "code",
   "execution_count": null,
   "id": "94a2e15d-7e7f-42d1-9614-18b3b78101d7",
   "metadata": {},
   "outputs": [],
   "source": [
    "# Function to extract numerical values before 'km'\n",
    "def extract_km_values(row):\n",
    "    if pd.isnull(row):\n",
    "        return None\n",
    "    return [float(val) for val in re.findall(r'(\\d+\\.\\d+)\\s*km', row)]\n",
    "\n",
    "# Function to compute log1p of distances and then take the average\n",
    "def log1p_and_average(distances):\n",
    "    if distances is None or len(distances) == 0:\n",
    "        return None\n",
    "    log1p_distances = [np.log1p(d) for d in distances]\n",
    "    return np.mean(log1p_distances)\n",
    "\n",
    "# Apply the function to extract km values and calculate the log1p and average\n",
    "df['shopping_centre_extracted_km'] = df['shopping_centre'].apply(extract_km_values)\n",
    "df['shopping_centre_log1p_avg_km'] = df['shopping_centre_extracted_km'].apply(log1p_and_average)"
   ]
  },
  {
   "cell_type": "code",
   "execution_count": null,
   "id": "0d232804-1ea5-4dac-b525-c700db9282aa",
   "metadata": {},
   "outputs": [],
   "source": [
    "df['shopping_centre_extracted_km'].head(20)"
   ]
  },
  {
   "cell_type": "code",
   "execution_count": null,
   "id": "bbb6ac6c-170b-44b8-a0cd-5815db520085",
   "metadata": {},
   "outputs": [],
   "source": [
    "df['shopping_centre_log1p_avg_km'].head(20) "
   ]
  },
  {
   "cell_type": "code",
   "execution_count": null,
   "id": "de4df19d-9073-46b2-a76a-e83a01ee00c9",
   "metadata": {},
   "outputs": [],
   "source": [
    "df['shopping_centre_log1p_avg_km'].isna().sum()"
   ]
  },
  {
   "cell_type": "code",
   "execution_count": null,
   "id": "20d61f84-d8aa-431f-a312-327f60692acf",
   "metadata": {},
   "outputs": [],
   "source": [
    "df['shopping_centre_log1p_avg_km'].describe()"
   ]
  },
  {
   "cell_type": "code",
   "execution_count": null,
   "id": "e04bebb3-6935-4cb3-bde7-874997f29895",
   "metadata": {},
   "outputs": [],
   "source": [
    "df[df['shopping_centre_log1p_avg_km'] <= 0.5].shape"
   ]
  },
  {
   "cell_type": "code",
   "execution_count": null,
   "id": "6575b3e2-0e19-4480-a693-61c6b52bca76",
   "metadata": {},
   "outputs": [],
   "source": [
    "df[df['shopping_centre_log1p_avg_km'] < 1].shape"
   ]
  },
  {
   "cell_type": "markdown",
   "id": "06bfa70d-048e-4130-932c-f2241c2b1129",
   "metadata": {},
   "source": [
    "`observation` \n",
    "- There are 3887 missing values.\n",
    "- A value close to 0 indicates that the shopping centre is near the flat, while a higher value means it is farther away from the flat.\n",
    "- 0.52, showing moderate variability"
   ]
  },
  {
   "cell_type": "code",
   "execution_count": null,
   "id": "0d14bb26-046f-47f0-a456-c40d86e5b806",
   "metadata": {},
   "outputs": [],
   "source": [
    "sns.histplot(df['shopping_centre_log1p_avg_km'],kde=True,bins=50)"
   ]
  },
  {
   "cell_type": "markdown",
   "id": "e903107e-183f-4d2c-9466-0854bd81b469",
   "metadata": {},
   "source": [
    "`observation` \n",
    "- histogram confirms a right-skewed distribution, with most values concentrated at lower log1p distances. \n",
    "- The highest frequency is observed around 0.8–1.55 shopping_centre_log1p_avg_km, indicating that most distances fall within this range\n",
    "- Sparse values are seen beyond 2.7 shopping_centre_log1p_avg_km, suggesting potential outliers"
   ]
  },
  {
   "cell_type": "code",
   "execution_count": null,
   "id": "3422127b-3813-4112-8a81-295288af1e01",
   "metadata": {},
   "outputs": [],
   "source": [
    "sns.boxplot(df['shopping_centre_log1p_avg_km'],color='lightgreen')\n",
    "plt.grid()"
   ]
  },
  {
   "cell_type": "markdown",
   "id": "89ff4215-2d56-489d-ab1d-cea2df7208d6",
   "metadata": {},
   "source": [
    "`observation` \n",
    "- IQR ranges from 0.8 (25th percentile) to 1.55 (75th percentile).\n",
    "- The median (0.97) is closer to the lower quartile, indicating right skewness.\n",
    "- Outliers are present above 2.7 shopping_centre_log1p_avg_km."
   ]
  },
  {
   "cell_type": "code",
   "execution_count": null,
   "id": "56705f31-9aba-4d92-9653-287dd142b93a",
   "metadata": {},
   "outputs": [],
   "source": [
    "#skewness and kurtosis\n",
    "skewness = df['shopping_centre_log1p_avg_km'].skew()\n",
    "kurtosis = df['shopping_centre_log1p_avg_km'].kurt()\n",
    "\n",
    "print(f\"skewness : {skewness}\")\n",
    "print(f\"kurtosis : {kurtosis}\")"
   ]
  },
  {
   "cell_type": "markdown",
   "id": "e90c70ab-d794-4d44-bbad-218b8863ba88",
   "metadata": {},
   "source": [
    "`observation` \n",
    "- Skewness: 0.77, indicating a moderate right-skewed distribution.\n",
    "- Kurtosis: 0.96, suggests that the distribution is slightly more peaked and has heavier tails compared to a normal distribution."
   ]
  },
  {
   "cell_type": "code",
   "execution_count": null,
   "id": "fe386de1-fe3d-4d86-a3ab-f35c44be8b07",
   "metadata": {},
   "outputs": [],
   "source": [
    "# Drop NaN values from the column\n",
    "cleaned_data_shopping_centre_log1p_avg_km = df['shopping_centre_log1p_avg_km'].dropna()\n",
    "\n",
    "# Calculate Q1 and Q3\n",
    "Q1 = np.percentile(cleaned_data_shopping_centre_log1p_avg_km, 25)\n",
    "Q3 = np.percentile(cleaned_data_shopping_centre_log1p_avg_km, 75)\n",
    "\n",
    "# Calculate IQR\n",
    "IQR = Q3 - Q1\n",
    "\n",
    "# Calculate lower and upper whiskers\n",
    "lower_whisker = Q1 - 1.5 * IQR\n",
    "upper_whisker = Q3 + 1.5 * IQR\n",
    "\n",
    "# Print results\n",
    "print(f\"Q1 (25th percentile): {Q1}\")\n",
    "print(f\"Q3 (75th percentile): {Q3}\")\n",
    "print(f\"IQR: {IQR}\")\n",
    "\n",
    "print(\"Lower Whisker:\", lower_whisker)\n",
    "print(\"Upper Whisker:\", upper_whisker)\n"
   ]
  },
  {
   "cell_type": "markdown",
   "id": "b7861cd7-d421-4b60-b7ea-521ed89d9e39",
   "metadata": {},
   "source": [
    "# commercial_hub"
   ]
  },
  {
   "cell_type": "code",
   "execution_count": null,
   "id": "a53588bb-c1f4-42d6-a086-37bb275b1a03",
   "metadata": {},
   "outputs": [],
   "source": [
    "df['commercial_hub'].head(10)"
   ]
  },
  {
   "cell_type": "markdown",
   "id": "4bee966c-8623-497c-8b37-24fdea833274",
   "metadata": {},
   "source": [
    "`observation` \n",
    "- Extract the list of distances for each property and then apply log1p (the logarithm of 1 + value) to the distances and then calculate the average"
   ]
  },
  {
   "cell_type": "code",
   "execution_count": null,
   "id": "b74c31ed-b27b-4a1e-9710-da8599aa4384",
   "metadata": {},
   "outputs": [],
   "source": [
    "# Function to extract numerical values before 'km'\n",
    "def extract_km_values(row):\n",
    "    if pd.isnull(row):\n",
    "        return None\n",
    "    return [float(val) for val in re.findall(r'(\\d+\\.\\d+)\\s*km', row)]\n",
    "\n",
    "# Function to compute log1p of distances and then take the average\n",
    "def log1p_and_average(distances):\n",
    "    if distances is None or len(distances) == 0:\n",
    "        return None\n",
    "    log1p_distances = [np.log1p(d) for d in distances]\n",
    "    return np.mean(log1p_distances)\n",
    "\n",
    "# Apply the function to extract km values and calculate the log1p and average\n",
    "df['commercial_hub_extracted_km'] = df['commercial_hub'].apply(extract_km_values)\n",
    "df['commercial_hub_log1p_avg_km'] = df['commercial_hub_extracted_km'].apply(log1p_and_average)"
   ]
  },
  {
   "cell_type": "code",
   "execution_count": null,
   "id": "cd0dbd64-7f94-4fbd-8c45-dd13a74cf63c",
   "metadata": {},
   "outputs": [],
   "source": [
    "df['commercial_hub_extracted_km'].head(20)"
   ]
  },
  {
   "cell_type": "code",
   "execution_count": null,
   "id": "72db5ac5-3eff-4fd9-9cd9-e6f7f7c03624",
   "metadata": {},
   "outputs": [],
   "source": [
    "df['commercial_hub_log1p_avg_km'].head(20) "
   ]
  },
  {
   "cell_type": "code",
   "execution_count": null,
   "id": "98f305c2-1071-489e-82a5-7afb1b5e1386",
   "metadata": {},
   "outputs": [],
   "source": [
    "df['commercial_hub_log1p_avg_km'].isna().sum()"
   ]
  },
  {
   "cell_type": "code",
   "execution_count": null,
   "id": "8a6cdf1a-85e8-4234-9e11-6c18dbd747d1",
   "metadata": {},
   "outputs": [],
   "source": [
    "df['commercial_hub_log1p_avg_km'].describe()"
   ]
  },
  {
   "cell_type": "code",
   "execution_count": null,
   "id": "5226542e-dc53-4151-8d70-5f9e663a13a9",
   "metadata": {},
   "outputs": [],
   "source": [
    "df[df['commercial_hub_log1p_avg_km'] <= 0.5].shape"
   ]
  },
  {
   "cell_type": "code",
   "execution_count": null,
   "id": "e6d0916c-7aa7-48ad-a329-9020cef2773d",
   "metadata": {},
   "outputs": [],
   "source": [
    "df[df['commercial_hub_log1p_avg_km'] < 1].shape"
   ]
  },
  {
   "cell_type": "markdown",
   "id": "1d8cfc60-754f-443f-a7b9-3662ad5b6809",
   "metadata": {},
   "source": [
    "`observation` \n",
    "- There are 5149 missing values.\n",
    "- A value close to 0 indicates that the commercial_hub is near the flat, while a higher value means it is farther away from the flat.\n",
    "- 0.72, showing moderate variability"
   ]
  },
  {
   "cell_type": "code",
   "execution_count": null,
   "id": "047ba8fa-11f1-4c33-838e-271722c482ab",
   "metadata": {},
   "outputs": [],
   "source": [
    "sns.histplot(df['commercial_hub_log1p_avg_km'],kde=True,bins=50)"
   ]
  },
  {
   "cell_type": "markdown",
   "id": "d8b92ba2-d7f4-4023-bbc5-7c8c2706c23b",
   "metadata": {},
   "source": [
    "`observation` \n",
    "- histogram confirms a right-skewed distribution, with most values concentrated at lower log1p distances. \n",
    "- The highest frequency is observed around 1.13–2.0 commercial_hub_log1p_avg_km, indicating that most distances fall within this range\n",
    "- Sparse values are seen beyond 3.4 commercial_hub_log1p_avg_km, suggesting potential outliers"
   ]
  },
  {
   "cell_type": "code",
   "execution_count": null,
   "id": "7fd7b6d2-c94a-4438-897b-54a7202cb85e",
   "metadata": {},
   "outputs": [],
   "source": [
    "sns.boxplot(df['commercial_hub_log1p_avg_km'],color='lightgreen')\n",
    "plt.grid()"
   ]
  },
  {
   "cell_type": "markdown",
   "id": "adf5b9d9-0489-4df5-99d3-02773041d064",
   "metadata": {},
   "source": [
    "`observation` \n",
    "- IQR ranges from 1.13 (25th percentile) to 2.0 (75th percentile).\n",
    "- Outliers are present above 3.4 commercial_hub_log1p_avg_km."
   ]
  },
  {
   "cell_type": "code",
   "execution_count": null,
   "id": "41a8fae3-8ccc-477f-a1cd-6c3bbaedcd75",
   "metadata": {},
   "outputs": [],
   "source": [
    "#skewness and kurtosis\n",
    "skewness = df['commercial_hub_log1p_avg_km'].skew()\n",
    "kurtosis = df['commercial_hub_log1p_avg_km'].kurt()\n",
    "\n",
    "print(f\"skewness : {skewness}\")\n",
    "print(f\"kurtosis : {kurtosis}\")"
   ]
  },
  {
   "cell_type": "markdown",
   "id": "86a58b09-9fdd-4d23-be1a-36cd2976920a",
   "metadata": {},
   "source": [
    "`observation` \n",
    "- Skewness: 0.50, indicating a moderate right-skewed distribution.\n",
    "- Kurtosis: 0.23, suggests that the distribution is slightly more peaked and has slightly heavier tails compared to a normal distribution."
   ]
  },
  {
   "cell_type": "code",
   "execution_count": null,
   "id": "ff7049b0-44ea-49cc-9298-986e42cc4573",
   "metadata": {},
   "outputs": [],
   "source": [
    "# Drop NaN values from the column\n",
    "cleaned_data_commercial_hub_log1p_avg_km = df['commercial_hub_log1p_avg_km'].dropna()\n",
    "\n",
    "# Calculate Q1 and Q3\n",
    "Q1 = np.percentile(cleaned_data_commercial_hub_log1p_avg_km, 25)\n",
    "Q3 = np.percentile(cleaned_data_commercial_hub_log1p_avg_km, 75)\n",
    "\n",
    "# Calculate IQR\n",
    "IQR = Q3 - Q1\n",
    "\n",
    "# Calculate lower and upper whiskers\n",
    "lower_whisker = Q1 - 1.5 * IQR\n",
    "upper_whisker = Q3 + 1.5 * IQR\n",
    "\n",
    "# Print results\n",
    "print(f\"Q1 (25th percentile): {Q1}\")\n",
    "print(f\"Q3 (75th percentile): {Q3}\")\n",
    "print(f\"IQR: {IQR}\")\n",
    "\n",
    "print(\"Lower Whisker:\", lower_whisker)\n",
    "print(\"Upper Whisker:\", upper_whisker)\n"
   ]
  },
  {
   "cell_type": "markdown",
   "id": "d9f47e39-5eb4-4cfc-8c6d-50d8ec183848",
   "metadata": {},
   "source": [
    "# hospital"
   ]
  },
  {
   "cell_type": "code",
   "execution_count": null,
   "id": "20dcf09d-6a51-417d-be17-59d2d88c8d07",
   "metadata": {},
   "outputs": [],
   "source": [
    "df['hospital'].head(10)"
   ]
  },
  {
   "cell_type": "markdown",
   "id": "c211ce8c-e840-493f-a768-0cb4ed6200e2",
   "metadata": {},
   "source": [
    "`observation` \n",
    "- Extract the list of distances for each property and then apply log1p (the logarithm of 1 + value) to the distances and then calculate the average"
   ]
  },
  {
   "cell_type": "code",
   "execution_count": null,
   "id": "a13f2688-c34d-4ed3-8a6e-e10089c5e5ea",
   "metadata": {},
   "outputs": [],
   "source": [
    "# Function to extract numerical values before 'km'\n",
    "def extract_km_values(row):\n",
    "    if pd.isnull(row):\n",
    "        return None\n",
    "    return [float(val) for val in re.findall(r'(\\d+\\.\\d+)\\s*km', row)]\n",
    "\n",
    "# Function to compute log1p of distances and then take the average\n",
    "def log1p_and_average(distances):\n",
    "    if distances is None or len(distances) == 0:\n",
    "        return None\n",
    "    log1p_distances = [np.log1p(d) for d in distances]\n",
    "    return np.mean(log1p_distances)\n",
    "\n",
    "# Apply the function to extract km values and calculate the log1p and average\n",
    "df['hospital_extracted_km'] = df['hospital'].apply(extract_km_values)\n",
    "df['hospital_log1p_avg_km'] = df['hospital_extracted_km'].apply(log1p_and_average)"
   ]
  },
  {
   "cell_type": "code",
   "execution_count": null,
   "id": "e650aac9-0963-4c41-bbfb-eb412dae0adf",
   "metadata": {},
   "outputs": [],
   "source": [
    "df['hospital_extracted_km'].head(20)"
   ]
  },
  {
   "cell_type": "code",
   "execution_count": null,
   "id": "ca523bbc-3700-4bbe-9482-22223c52f2c5",
   "metadata": {},
   "outputs": [],
   "source": [
    "df['hospital_log1p_avg_km'].head(20) "
   ]
  },
  {
   "cell_type": "code",
   "execution_count": null,
   "id": "f1e998a3-cfe3-41ff-92c1-8835d75b304b",
   "metadata": {},
   "outputs": [],
   "source": [
    "df['hospital_log1p_avg_km'].isna().sum()"
   ]
  },
  {
   "cell_type": "code",
   "execution_count": null,
   "id": "c1fc6c39-9c77-4dba-b8c5-36807a98e727",
   "metadata": {},
   "outputs": [],
   "source": [
    "df['hospital_log1p_avg_km'].describe()"
   ]
  },
  {
   "cell_type": "code",
   "execution_count": null,
   "id": "9363a193-3e9f-4b6f-b2da-238092b43a14",
   "metadata": {},
   "outputs": [],
   "source": [
    "df[df['hospital_log1p_avg_km'] <= 0.5].shape"
   ]
  },
  {
   "cell_type": "code",
   "execution_count": null,
   "id": "f415a5a5-546e-4469-a8b8-b506a7b133a6",
   "metadata": {},
   "outputs": [],
   "source": [
    "df[df['hospital_log1p_avg_km'] < 1].shape"
   ]
  },
  {
   "cell_type": "markdown",
   "id": "347c7751-1507-45d3-9bfa-2035593032b7",
   "metadata": {},
   "source": [
    "`observation` \n",
    "- There are 8708 missing values.\n",
    "- A value close to 0 indicates that the hospital is near the flat, while a higher value means it is farther away from the flat.\n",
    "- 0.25, showing moderate variability"
   ]
  },
  {
   "cell_type": "code",
   "execution_count": null,
   "id": "3ef2db2d-e616-420f-8178-f0a231cdfef8",
   "metadata": {},
   "outputs": [],
   "source": [
    "sns.histplot(df['hospital_log1p_avg_km'],kde=True,bins=50)"
   ]
  },
  {
   "cell_type": "markdown",
   "id": "17ad5a25-9283-4f4d-9c30-28508fbfa156",
   "metadata": {},
   "source": [
    "`observation` \n",
    "- histogram confirms a right-skewed distribution, with most values concentrated at lower log1p distances. \n",
    "- The highest frequency is observed around 0.53–0.83 hospital_log1p_avg_km, indicating that most distances fall within this range\n",
    "- fewer observations as the values increase beyond 0.8."
   ]
  },
  {
   "cell_type": "code",
   "execution_count": null,
   "id": "1fc23cc8-4893-404c-9b64-1333b7d8188a",
   "metadata": {},
   "outputs": [],
   "source": [
    "sns.boxplot(df['hospital_log1p_avg_km'],color='lightgreen')\n",
    "plt.grid()"
   ]
  },
  {
   "cell_type": "markdown",
   "id": "c5beaa2d-d2e9-440e-9a8f-4527205dffb4",
   "metadata": {},
   "source": [
    "`observation` \n",
    "- IQR ranges from 0.53 (25th percentile) to 0.83 (75th percentile).\n",
    "- Outliers are present above 1.28 hospital_log1p_avg_km."
   ]
  },
  {
   "cell_type": "code",
   "execution_count": null,
   "id": "2c119026-aaf3-4a8a-a41a-8795ad14e09a",
   "metadata": {},
   "outputs": [],
   "source": [
    "#skewness and kurtosis\n",
    "skewness = df['hospital_log1p_avg_km'].skew()\n",
    "kurtosis = df['hospital_log1p_avg_km'].kurt()\n",
    "\n",
    "print(f\"skewness : {skewness}\")\n",
    "print(f\"kurtosis : {kurtosis}\")"
   ]
  },
  {
   "cell_type": "markdown",
   "id": "42f10642-a9e0-44df-8658-40b53f81520e",
   "metadata": {},
   "source": [
    "`observation`\n",
    "- Skewness(-0.075): The data is slightly negatively skewed (close to symmetric).  \n",
    "- Kurtosis(0.011): The data has nearly zero excess kurtosis, indicating a shape close to a normal distribution."
   ]
  },
  {
   "cell_type": "code",
   "execution_count": null,
   "id": "ac272e4c-c8d1-4d3c-a8e6-5f881438d432",
   "metadata": {},
   "outputs": [],
   "source": [
    "# Drop NaN values from the column\n",
    "cleaned_data_hospital_log1p_avg_km = df['hospital_log1p_avg_km'].dropna()\n",
    "\n",
    "# Calculate Q1 and Q3\n",
    "Q1 = np.percentile(cleaned_data_hospital_log1p_avg_km, 25)\n",
    "Q3 = np.percentile(cleaned_data_hospital_log1p_avg_km, 75)\n",
    "\n",
    "# Calculate IQR\n",
    "IQR = Q3 - Q1\n",
    "\n",
    "# Calculate lower and upper whiskers\n",
    "lower_whisker = Q1 - 1.5 * IQR\n",
    "upper_whisker = Q3 + 1.5 * IQR\n",
    "\n",
    "# Print results\n",
    "print(f\"Q1 (25th percentile): {Q1}\")\n",
    "print(f\"Q3 (75th percentile): {Q3}\")\n",
    "print(f\"IQR: {IQR}\")\n",
    "\n",
    "print(\"Lower Whisker:\", lower_whisker)\n",
    "print(\"Upper Whisker:\", upper_whisker)\n"
   ]
  },
  {
   "cell_type": "markdown",
   "id": "52158d99-19be-4865-8082-653bd9c1fa83",
   "metadata": {},
   "source": [
    "# tourist"
   ]
  },
  {
   "cell_type": "code",
   "execution_count": null,
   "id": "10890623-f039-4481-8489-271b6fa5381e",
   "metadata": {},
   "outputs": [],
   "source": [
    "df['tourist'].head()"
   ]
  },
  {
   "cell_type": "markdown",
   "id": "e6e69251-de56-4b14-804e-ecfc87401ac2",
   "metadata": {},
   "source": [
    "`observation` \n",
    "- Extract the list of distances for each property and then apply log1p (the logarithm of 1 + value) to the distances and then calculate the average"
   ]
  },
  {
   "cell_type": "code",
   "execution_count": null,
   "id": "b09d916f-e236-45bb-8fdf-06cc6b16b1bf",
   "metadata": {},
   "outputs": [],
   "source": [
    "# Function to extract numerical values before 'km'\n",
    "def extract_km_values(row):\n",
    "    if pd.isnull(row):\n",
    "        return None\n",
    "    return [float(val) for val in re.findall(r'(\\d+\\.\\d+)\\s*km', row)]\n",
    "\n",
    "# Function to compute log1p of distances and then take the average\n",
    "def log1p_and_average(distances):\n",
    "    if distances is None or len(distances) == 0:\n",
    "        return None\n",
    "    log1p_distances = [np.log1p(d) for d in distances]\n",
    "    return np.mean(log1p_distances)\n",
    "\n",
    "# Apply the function to extract km values and calculate the log1p and average\n",
    "df['tourist_extracted_km'] = df['tourist'].apply(extract_km_values)\n",
    "df['tourist_log1p_avg_km'] = df['tourist_extracted_km'].apply(log1p_and_average)"
   ]
  },
  {
   "cell_type": "code",
   "execution_count": null,
   "id": "d01b91bd-f877-47f7-9b07-0a461b86dd87",
   "metadata": {},
   "outputs": [],
   "source": [
    "df['tourist_extracted_km'].head(20)"
   ]
  },
  {
   "cell_type": "code",
   "execution_count": null,
   "id": "5f359af5-02ef-4bdd-8ce4-a489e7e8eb01",
   "metadata": {},
   "outputs": [],
   "source": [
    "df['tourist_log1p_avg_km'].head(20) "
   ]
  },
  {
   "cell_type": "code",
   "execution_count": null,
   "id": "11ebe752-71ba-4d68-9fae-bfef6b8dfbf0",
   "metadata": {},
   "outputs": [],
   "source": [
    "df['tourist_log1p_avg_km'].isna().sum()"
   ]
  },
  {
   "cell_type": "code",
   "execution_count": null,
   "id": "55809d72-26c4-4e86-b9e7-6343b962c99c",
   "metadata": {},
   "outputs": [],
   "source": [
    "df['tourist_log1p_avg_km'].describe()"
   ]
  },
  {
   "cell_type": "code",
   "execution_count": null,
   "id": "92398856-0cf7-4947-b9cc-56205a596321",
   "metadata": {},
   "outputs": [],
   "source": [
    "df[df['tourist_log1p_avg_km'] <= 0.5].shape"
   ]
  },
  {
   "cell_type": "code",
   "execution_count": null,
   "id": "a4ca615e-44d6-49f5-9a56-d562312137d9",
   "metadata": {},
   "outputs": [],
   "source": [
    "df[df['tourist_log1p_avg_km'] < 1].shape"
   ]
  },
  {
   "cell_type": "markdown",
   "id": "9dde6644-c1c2-4c73-bb8a-008f99324a15",
   "metadata": {},
   "source": [
    "`observation` \n",
    "- There are 10396 missing values.\n",
    "- A value close to 0 indicates that the tourist place is near the flat, while a higher value means it is farther away from the flat.\n",
    "- 0.14, showing moderate variability"
   ]
  },
  {
   "cell_type": "code",
   "execution_count": null,
   "id": "2112b4a5-9908-4958-9956-4d67b8227f90",
   "metadata": {},
   "outputs": [],
   "source": [
    "sns.histplot(df['tourist_log1p_avg_km'],kde=True,bins=50)"
   ]
  },
  {
   "cell_type": "markdown",
   "id": "967e1b11-2a61-4d21-8fd0-95154df1435a",
   "metadata": {},
   "source": [
    "`observation` \n",
    "- histogram confirms a left-skewed distribution, with most values concentrated at higher log1p distances. \n",
    "- The highest frequency is observed around 0.6–0.7 tourist_log1p_avg_km, indicating that most distances fall within this range"
   ]
  },
  {
   "cell_type": "code",
   "execution_count": null,
   "id": "d09f10cf-c140-4dd6-8de9-5a69562a5087",
   "metadata": {},
   "outputs": [],
   "source": [
    "sns.boxplot(df['tourist_log1p_avg_km'],color='lightgreen')\n",
    "plt.grid()"
   ]
  },
  {
   "cell_type": "markdown",
   "id": "93482e0c-fcb1-4a7e-9410-cac34d998678",
   "metadata": {},
   "source": [
    "`observation` \n",
    "- IQR ranges from 0.64 (25th percentile) to 0.73 (75th percentile).\n",
    "- The median (0.72) is closer to the upper quartile, indicating left skewness.\n",
    "- Outliers are present below 0.50 tourist_log1p_avg_km and above 0.86."
   ]
  },
  {
   "cell_type": "code",
   "execution_count": null,
   "id": "33be9062-b947-40ac-a827-c4f4ea5d3ab7",
   "metadata": {},
   "outputs": [],
   "source": [
    "#skewness and kurtosis\n",
    "skewness = df['tourist_log1p_avg_km'].skew()\n",
    "kurtosis = df['tourist_log1p_avg_km'].kurt()\n",
    "\n",
    "print(f\"skewness : {skewness}\")\n",
    "print(f\"kurtosis : {kurtosis}\")"
   ]
  },
  {
   "cell_type": "markdown",
   "id": "c3a49ea2-06eb-4ff7-8e42-a19bb253834a",
   "metadata": {},
   "source": [
    "`observation` \n",
    "\n",
    "- Skewness (-0.577): The data is moderately negatively skewed.  \n",
    "- Kurtosis(1.121) : The data has positive kurtosis, indicating a slightly heavier-tailed distribution compared to a normal distribution."
   ]
  },
  {
   "cell_type": "code",
   "execution_count": null,
   "id": "7ac92c4e-53d7-47b5-b044-90d191cca088",
   "metadata": {},
   "outputs": [],
   "source": [
    "# Drop NaN values from the column\n",
    "cleaned_data_tourist_log1p_avg_km = df['tourist_log1p_avg_km'].dropna()\n",
    "\n",
    "# Calculate Q1 and Q3\n",
    "Q1 = np.percentile(cleaned_data_tourist_log1p_avg_km, 25)\n",
    "Q3 = np.percentile(cleaned_data_tourist_log1p_avg_km, 75)\n",
    "\n",
    "# Calculate IQR\n",
    "IQR = Q3 - Q1\n",
    "\n",
    "# Calculate lower and upper whiskers\n",
    "lower_whisker = Q1 - 1.5 * IQR\n",
    "upper_whisker = Q3 + 1.5 * IQR\n",
    "\n",
    "# Print results\n",
    "print(f\"Q1 (25th percentile): {Q1}\")\n",
    "print(f\"Q3 (75th percentile): {Q3}\")\n",
    "print(f\"IQR: {IQR}\")\n",
    "\n",
    "print(\"Lower Whisker:\", lower_whisker)\n",
    "print(\"Upper Whisker:\", upper_whisker)"
   ]
  },
  {
   "cell_type": "code",
   "execution_count": null,
   "id": "9ec38174-a7d2-44da-aa95-d0bea07f5835",
   "metadata": {},
   "outputs": [],
   "source": [
    "df = df.drop(['education', 'transport','shopping_centre','commercial_hub', 'hospital', 'tourist'],axis=1)"
   ]
  },
  {
   "cell_type": "code",
   "execution_count": null,
   "id": "0da9d9da-5c5b-4939-8f0b-db880a3fd7bc",
   "metadata": {},
   "outputs": [],
   "source": []
  },
  {
   "cell_type": "code",
   "execution_count": null,
   "id": "927a5a64-59b1-4f75-9849-e7faacb000af",
   "metadata": {},
   "outputs": [],
   "source": []
  }
 ],
 "metadata": {
  "kernelspec": {
   "display_name": "Python 3 (ipykernel)",
   "language": "python",
   "name": "python3"
  },
  "language_info": {
   "codemirror_mode": {
    "name": "ipython",
    "version": 3
   },
   "file_extension": ".py",
   "mimetype": "text/x-python",
   "name": "python",
   "nbconvert_exporter": "python",
   "pygments_lexer": "ipython3",
   "version": "3.12.4"
  }
 },
 "nbformat": 4,
 "nbformat_minor": 5
}
