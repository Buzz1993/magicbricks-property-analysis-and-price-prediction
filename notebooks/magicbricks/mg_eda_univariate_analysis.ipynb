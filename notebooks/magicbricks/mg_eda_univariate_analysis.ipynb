{
 "cells": [
  {
   "cell_type": "markdown",
   "id": "d574a4aa-cb35-4d22-826f-023cef00fe8d",
   "metadata": {},
   "source": [
    "# 1. Importing Libraries"
   ]
  },
  {
   "cell_type": "code",
   "execution_count": null,
   "id": "88790239-9e9c-4159-aed4-ef7f290c5204",
   "metadata": {},
   "outputs": [],
   "source": [
    "import os\n",
    "import numpy as np\n",
    "import pandas as pd\n",
    "import ast\n",
    "from scipy.stats import iqr,yeojohnson, skew, kurtosis\n",
    "from sklearn.model_selection import train_test_split\n",
    "\n",
    "import matplotlib.pyplot as plt\n",
    "import seaborn as sns\n",
    "from plotly.subplots import make_subplots\n",
    "import plotly.graph_objs as go\n",
    "\n",
    "import missingno as msno\n",
    "\n",
    "import regex as re\n",
    "import eda_helper_functions"
   ]
  },
  {
   "cell_type": "code",
   "execution_count": null,
   "id": "41b5bf18-f34e-4d5e-94cd-d7aa10d611ab",
   "metadata": {},
   "outputs": [],
   "source": [
    "pd.set_option('display.max_rows',None)\n",
    "pd.set_option('display.max_colwidth',None)"
   ]
  },
  {
   "cell_type": "code",
   "execution_count": null,
   "id": "b9728a58-6063-4f73-86cd-8a1d5fb736b1",
   "metadata": {},
   "outputs": [],
   "source": [
    "df = pd.read_csv('mg_cleaned_dataset.csv')\n"
   ]
  },
  {
   "cell_type": "code",
   "execution_count": null,
   "id": "09efb595-40ea-454e-8654-fa8b9563c0a5",
   "metadata": {
    "scrolled": true
   },
   "outputs": [],
   "source": [
    "df.head()"
   ]
  },
  {
   "cell_type": "code",
   "execution_count": null,
   "id": "df9f7c73-5726-4e82-b537-ae220b9b48d5",
   "metadata": {},
   "outputs": [],
   "source": [
    "df.shape"
   ]
  },
  {
   "cell_type": "markdown",
   "id": "8dd1519e-c433-49d4-baa9-0fdf6ce66b9a",
   "metadata": {},
   "source": [
    "### observation \n",
    "- dataset consists of 11902 rows and 48 columns"
   ]
  },
  {
   "cell_type": "code",
   "execution_count": null,
   "id": "d7a35e1d-347c-44c1-9157-db8b23aa1d0d",
   "metadata": {},
   "outputs": [],
   "source": [
    "#Columns in our dataset\n",
    "df.columns"
   ]
  },
  {
   "cell_type": "code",
   "execution_count": null,
   "id": "ee5c21ff-f0da-437f-99fe-33cb2b0dc2d4",
   "metadata": {},
   "outputs": [],
   "source": [
    "#Description of our dataset\n",
    "df.describe().T\n",
    "\n",
    "#T refers to transpose that displays the description of our dataset in long format."
   ]
  },
  {
   "cell_type": "code",
   "execution_count": null,
   "id": "6b5e1c3c-72fb-4e1a-871b-3024e5539bdf",
   "metadata": {},
   "outputs": [],
   "source": [
    "df.skew(numeric_only=True)"
   ]
  },
  {
   "cell_type": "code",
   "execution_count": null,
   "id": "e107e25c-a2b7-4c36-b612-f5cc9f251abe",
   "metadata": {},
   "outputs": [],
   "source": [
    "#Let's look at the skewness of our dataset\n",
    "df.skew(numeric_only=True)[df.skew(numeric_only=True) < -1].index"
   ]
  },
  {
   "cell_type": "markdown",
   "id": "3feac087-3851-4c60-a2a0-61463cbab234",
   "metadata": {},
   "source": [
    "\n",
    "- Highly right-skewed (positively skewed): 'available_units', 'towers', 'parking', 'price', 'area', 'costpersqft', 'lattitude', 'emi', 'project_in_acres', 'assigned_flooring_score'\n",
    "- Highly left-skewed (negatively skewed): 'locality_rating', 'longitude'"
   ]
  },
  {
   "cell_type": "code",
   "execution_count": null,
   "id": "0e481884-3306-44b1-8b15-56dd1a944c09",
   "metadata": {},
   "outputs": [],
   "source": [
    "#Information of dataset\n",
    "df.info()"
   ]
  },
  {
   "cell_type": "code",
   "execution_count": null,
   "id": "3e70ccad-5b2f-4e48-8847-39279e26bbf1",
   "metadata": {},
   "outputs": [],
   "source": [
    "len(df.select_dtypes(include='object').columns)"
   ]
  },
  {
   "cell_type": "markdown",
   "id": "7668bb1b-26d8-465f-9d7e-556b3cf973fb",
   "metadata": {},
   "source": [
    "### observation\n",
    "- Our dataset features consists of three datatypes\n",
    "  - float\n",
    "  - integer\n",
    "  - object\n",
    "- Of which total numerical features are 21\n",
    "- And categorical features are 27.\n",
    "- some features datatype is incorrect, data type should be 'object' for this features : amenities_cluster , flooring_cluster"
   ]
  },
  {
   "cell_type": "code",
   "execution_count": null,
   "id": "371ff788-b3c2-43ff-8cf1-07ebced13c04",
   "metadata": {},
   "outputs": [],
   "source": [
    "# change feature datatypes as object : amenities_cluster , flooring_cluster\n",
    "df['flooring_cluster'] = df['flooring_cluster'].astype(str)\n",
    "df['amenities_cluster'] = df['amenities_cluster'].astype(str)"
   ]
  },
  {
   "cell_type": "markdown",
   "id": "f598c921-7ffb-4cbb-a953-3b5d657524d1",
   "metadata": {},
   "source": [
    "# observation \n",
    "- all properties are 'flats'\n",
    "- no missing values "
   ]
  },
  {
   "cell_type": "markdown",
   "id": "8b2d2b4e-31c3-4e41-a517-af13bc712277",
   "metadata": {},
   "source": [
    "# project_name      "
   ]
  },
  {
   "cell_type": "code",
   "execution_count": null,
   "id": "520490d2-8da3-4e56-b4bf-4e48a0c76aa5",
   "metadata": {},
   "outputs": [],
   "source": [
    "df['project_name'].value_counts()"
   ]
  },
  {
   "cell_type": "code",
   "execution_count": null,
   "id": "9fe525d3-4616-492d-b772-bcc280d78774",
   "metadata": {},
   "outputs": [],
   "source": [
    "df['project_name'].value_counts().shape"
   ]
  },
  {
   "cell_type": "code",
   "execution_count": null,
   "id": "19f1dc3b-330e-42a4-9525-dbdf5dd84ea4",
   "metadata": {},
   "outputs": [],
   "source": [
    "#Let's apply the cumulative sum to check how much data comes from how many project_name.\n",
    "df['project_name'].value_counts(normalize = True).cumsum()"
   ]
  },
  {
   "cell_type": "code",
   "execution_count": null,
   "id": "709674b1-195f-4fd1-a6de-3e0ec9a5f130",
   "metadata": {},
   "outputs": [],
   "source": [
    "df['project_name'].value_counts(normalize = True).cumsum().head(317)"
   ]
  },
  {
   "cell_type": "code",
   "execution_count": null,
   "id": "dfbefed9-8bc2-4863-be80-50782ca4c3c0",
   "metadata": {},
   "outputs": [],
   "source": [
    "society_counts = df['project_name'].value_counts()\n",
    "\n",
    "# Frequency distribution for societies\n",
    "frequency_bins = {\n",
    "    \"High (50-100)\": int(((society_counts >= 50) & (society_counts <= 100)).sum()),\n",
    "    \"Average (10-49)\": int(((society_counts >= 10) & (society_counts < 50)).sum()),\n",
    "    \"Low (2-9)\": int(((society_counts > 1) & (society_counts < 10)).sum()),\n",
    "    \"Very Low (1)\": int((society_counts == 1).sum())\n",
    "}\n",
    "frequency_bins"
   ]
  },
  {
   "cell_type": "code",
   "execution_count": null,
   "id": "c94a4b2e-81c8-43f2-a5cb-0d1c4f5cbacf",
   "metadata": {},
   "outputs": [],
   "source": [
    "# top 10 socities\n",
    "df['project_name'].value_counts().head(11).plot(kind='bar')"
   ]
  },
  {
   "cell_type": "code",
   "execution_count": null,
   "id": "ff256182-3432-4e0a-a572-9d1ce90adf02",
   "metadata": {},
   "outputs": [],
   "source": [
    "int(df['project_name'].isnull().sum())"
   ]
  },
  {
   "cell_type": "markdown",
   "id": "ca7bcb4b-65f6-42c4-95b8-c0e738d07147",
   "metadata": {},
   "source": [
    "#### Observation\n",
    "- High cardinality feature \n",
    "- total 2943 unique project_name   \n",
    "- The top 317 project_names have 50 percent of the preperties and the rest 50 percent of the properties come under the remaining 2626 project_names\n",
    "- while doing the train test split ensure that the train-test split maintains the same proportion of high-volume and low-volume projects to prevent bias during training and testing. i.e do statified sampling\n",
    "  - High (50-100): 11 societies have between 50 to 100 listings.\n",
    "  - Average (10-49): 142 societies fall in this range with 10 to 49 listings each.\n",
    "  - Low (2-9): 1011 societies have between 2 to 9 listings.\n",
    "  - Very Low (1): A significant number, 1779 societies, have only 1 listing.\n",
    "- Total 3503 missing values "
   ]
  },
  {
   "cell_type": "markdown",
   "id": "0cfb71ec-0f2d-4c52-a29e-59c63381f185",
   "metadata": {},
   "source": [
    "# price"
   ]
  },
  {
   "cell_type": "code",
   "execution_count": null,
   "id": "8fd15c20-1c91-47be-b6ad-926e547a9151",
   "metadata": {},
   "outputs": [],
   "source": [
    "df['price'].isnull().sum()"
   ]
  },
  {
   "cell_type": "code",
   "execution_count": null,
   "id": "ce5c1d81-cf63-4a03-89f8-8c8a05971d80",
   "metadata": {
    "scrolled": true
   },
   "outputs": [],
   "source": [
    "df['price'].describe()"
   ]
  },
  {
   "cell_type": "code",
   "execution_count": null,
   "id": "2e2b92d5-b72e-405f-9d19-2daf253da033",
   "metadata": {},
   "outputs": [],
   "source": [
    "sns.histplot(df['price'],kde=True,bins=50)"
   ]
  },
  {
   "cell_type": "code",
   "execution_count": null,
   "id": "9b40ab0a-acb4-487f-9e63-8ed63d4c478f",
   "metadata": {},
   "outputs": [],
   "source": [
    "sns.boxplot(df['price'],color='lightgreen')\n",
    "plt.grid()"
   ]
  },
  {
   "cell_type": "markdown",
   "id": "91e2654a-9b85-414b-a031-88cc4111f1c9",
   "metadata": {},
   "source": [
    "### Observation on price"
   ]
  },
  {
   "cell_type": "markdown",
   "id": "d796c7f4-1e3f-46be-989d-2622e38765b9",
   "metadata": {},
   "source": [
    "- Descriptive Statistics:\n",
    "\n",
    "  - No missing values.\n",
    "  - Mean Price: The average price is approximately 2.90 crores.\n",
    "  - Median Price: The median (or 50th percentile) price is 1.78 crores.\n",
    "  - The standard deviation is 4.24 Cr, indicating significant variation in prices.\n",
    "  - Range: Prices range from a minimum of 0.01 crores to a maximum of 80 crores.\n",
    "  - max price is 80 cr and 75 percentile is 3.20cr this clearly indicatie that there is outliers in the data\n",
    "  - IQR: The interquartile range (difference between 75th and 25th percentile) is from 0.95 crores to 3.20 crores."
   ]
  },
  {
   "cell_type": "markdown",
   "id": "fbb196a0-7488-4f41-b664-6c747ae53a69",
   "metadata": {},
   "source": [
    "- Visualizations:\n",
    "   - Distribution: The histogram indicates that most properties are priced in the lower range (below 5 crores), with a few properties going beyond 10 crores.\n",
    "   - The histogram is right-skewed, indicating most prices are clustered near the lower end (closer to 0).\n",
    "   - Box Plot: The box plot showcases the spread of the data and potential outliers. Properties priced above approximately 10 crores might be considered outliers as they lie beyond the upper whisker of the box plot.\n",
    "   - majority of prices fall within the interquartile range (approximately 0.95–3.2 Cr), with a dense cluster near the median."
   ]
  },
  {
   "cell_type": "markdown",
   "id": "26f62865-4a0f-4b8c-87cf-4f23334a41fa",
   "metadata": {},
   "source": [
    "#### conclusion and solution:\n",
    "  - The data has a highly skewed distribution, with a few very high-priced properties influencing the mean and standard deviation.\n",
    "  - The median (1.78 Cr) is much lower than the mean (2.90 Cr), which further highlights the impact of these high-price outliers.\n",
    "  - Outlier detection or transformation (e.g., log transformation) may be necessary for further analysis to normalize the data or reduce skewness."
   ]
  },
  {
   "cell_type": "code",
   "execution_count": null,
   "id": "2cc6ff38-f7fa-42ec-ab0d-46f0ce4c4617",
   "metadata": {},
   "outputs": [],
   "source": [
    "# Skewness and Kurtosis\n",
    "skewness = df['price'].skew()\n",
    "kurtosis = df['price'].kurt()\n",
    "\n",
    "print(skewness,kurtosis)"
   ]
  },
  {
   "cell_type": "markdown",
   "id": "7b90305a-0aba-4d5b-935a-fee4659dd31a",
   "metadata": {},
   "source": [
    "### Observations on Skewness and Kurtosis:\n",
    "\n",
    "#### 1. **Skewness:**\n",
    "   - The skewness value is **6.20**, which is highly positive.\n",
    "   - A positive skewness indicates that the distribution is **right-skewed**:\n",
    "     - Most values are concentrated on the lower end of the scale (closer to 0).\n",
    "     - A few very high values (outliers) stretch the tail on the right side, as seen in the histogram and boxplot.\n",
    "\n",
    "#### 2. **Kurtosis:**\n",
    "   - The kurtosis value is **60.93**, which is extremely high.\n",
    "   - High kurtosis indicates a **leptokurtic distribution**(leptokurtic = sample kurtosis -3 > 0 and in leptokurtic we have Heavy tails, sharp peak, more outliers than normal):\n",
    "     - The distribution has heavy tails and a sharp peak around the mean.\n",
    "     - This means there are many extreme values (outliers) compared to a normal distribution.\n",
    "\n",
    "#### conclusion and solution  \n",
    "The high skewness and kurtosis suggest that the `price` data is far from normally distributed.  \n",
    "Analytical methods sensitive to non-normality may produce biased results.  \n",
    "- **Potential Actions:**\n",
    "- Consider **log transformation** or other scaling techniques to reduce skewness.\n",
    "- Investigate the outliers for potential anomalies or domain-specific insights.\n",
    "- Use non-parametric statistical methods (e.g., Mann-Whitney U, Spearman correlation) for hypothesis testing or correlations if normality cannot be assumed."
   ]
  },
  {
   "cell_type": "code",
   "execution_count": null,
   "id": "0ba9c274-b0a4-4a62-942b-37e03871c1d5",
   "metadata": {},
   "outputs": [],
   "source": [
    "# Quantile Analysis\n",
    "quantiles = df['price'].quantile([0.01, 0.05, 0.95, 0.99])\n",
    "\n",
    "quantiles"
   ]
  },
  {
   "cell_type": "markdown",
   "id": "0bfb3cad-a003-4643-b519-f810cefb939b",
   "metadata": {},
   "source": [
    "#### Quantile Analysis:\n",
    "\n",
    " - 1% Quantile: Only 1% of properties are priced below 0.20 crores.\n",
    " - 5% Quantile: 5% of properties are priced below 0.36 crores.\n"
   ]
  },
  {
   "cell_type": "code",
   "execution_count": null,
   "id": "decebb5d-e1ee-407d-9a72-49591bfd1e3d",
   "metadata": {
    "editable": true,
    "slideshow": {
     "slide_type": ""
    },
    "tags": []
   },
   "outputs": [],
   "source": [
    "# Calculate Q1 (25th percentile) and Q3 (75th percentile)\n",
    "Q1 = np.percentile(df['price'], 25)\n",
    "Q3 = np.percentile(df['price'], 75)\n",
    "\n",
    "# Calculate IQR\n",
    "IQR = Q3 - Q1\n",
    "\n",
    "# Print results\n",
    "print(f\"Q1 (25th percentile): {Q1}\")\n",
    "print(f\"Q3 (75th percentile): {Q3}\")\n",
    "print(f\"IQR: {IQR}\")"
   ]
  },
  {
   "cell_type": "code",
   "execution_count": null,
   "id": "43de368f-3e2e-4e7a-8c2f-852b783bc710",
   "metadata": {},
   "outputs": [],
   "source": [
    "lower_bound = Q1 - 1.5 * IQR\n",
    "upper_bound = Q3 + 1.5 * IQR\n",
    "\n",
    "print(lower_bound, upper_bound)"
   ]
  },
  {
   "cell_type": "code",
   "execution_count": null,
   "id": "f5235e88-b27a-4abc-a6b1-aa3486822b93",
   "metadata": {},
   "outputs": [],
   "source": [
    "outliers = df[(df['price'] < lower_bound) | (df['price'] > upper_bound)]\n",
    "outliers.shape"
   ]
  },
  {
   "cell_type": "code",
   "execution_count": null,
   "id": "7165b2ad-2e0d-411e-a7d5-32566f5dd70e",
   "metadata": {},
   "outputs": [],
   "source": [
    "outliers['price'].describe()"
   ]
  },
  {
   "cell_type": "markdown",
   "id": "3f899b29-5277-454e-87c6-92de7c97913a",
   "metadata": {},
   "source": [
    "- Outliers Analysis (using IQR method):\n",
    "  - Based on the IQR method, there are 989 properties considered as outliers.  \n",
    "  - These outliers have an average price of approximately 13.04 crores.  \n",
    "  - The range for these outliers is from 6.58 crores to 80 crores.  "
   ]
  },
  {
   "cell_type": "code",
   "execution_count": null,
   "id": "a5b5a401-d764-498e-b3f2-23f5e17d4da4",
   "metadata": {},
   "outputs": [],
   "source": [
    "# price binning\n",
    "bins = [0, 1, 2, 3, 5, 10, 20, 50, 80]\n",
    "bin_labels = [\"0-1\", \"1-2\", \"2-3\", \"3-5\", \"5-10\", \"10-20\", \"20-50\", \"50-80\"]\n",
    "pd.cut(df['price'], bins=bins, labels=bin_labels, right=False).value_counts().sort_index().plot(kind='bar')"
   ]
  },
  {
   "cell_type": "markdown",
   "id": "77918baf-4ae8-4a6b-aec1-8e180af8a8b6",
   "metadata": {},
   "source": []
  },
  {
   "cell_type": "code",
   "execution_count": null,
   "id": "1d0c96dc-ab25-4ce2-8e0c-a2cee1e6d20a",
   "metadata": {},
   "outputs": [],
   "source": [
    "# ecdf plot(plotting cumulative percentages)\n",
    "ecdf = df['price'].value_counts().sort_index().cumsum() / len(df['price'])\n",
    "plt.plot(ecdf.index, ecdf, marker='.', linestyle='none')\n",
    "plt.grid()"
   ]
  },
  {
   "cell_type": "code",
   "execution_count": null,
   "id": "a109fe03-fd3c-4b97-8721-9abd5f2bc1fd",
   "metadata": {},
   "outputs": [],
   "source": [
    "# Quantile Analysis\n",
    "quantiles = df['price'].quantile([0.85,0.90])\n",
    "\n",
    "quantiles"
   ]
  },
  {
   "cell_type": "markdown",
   "id": "81e0931e-07d6-4cc6-bd45-2677c38d1f73",
   "metadata": {},
   "source": [
    "- 85% properties are below 4.577cr\n",
    "- 90% properties are below 6cr "
   ]
  },
  {
   "cell_type": "code",
   "execution_count": null,
   "id": "448e410e-321c-4e1c-80ab-b512d83b05e5",
   "metadata": {},
   "outputs": [],
   "source": [
    "#apply log transformation as it is right skewed data "
   ]
  },
  {
   "cell_type": "code",
   "execution_count": null,
   "id": "030655b7-56d7-43fe-aef1-8899de985955",
   "metadata": {},
   "outputs": [],
   "source": [
    "plt.figure(figsize=(15, 6))\n",
    "\n",
    "# Distribution plot without log transformation\n",
    "plt.subplot(1, 2, 1)\n",
    "sns.histplot(df['price'], kde=True, bins=50, color='skyblue')\n",
    "plt.title('Distribution of Prices (Original)')\n",
    "plt.xlabel('Price (in Crores)')\n",
    "plt.ylabel('Frequency')\n",
    "\n",
    "# Distribution plot with log transformation\n",
    "plt.subplot(1, 2, 2)\n",
    "sns.histplot(np.log1p(df['price']), kde=True, bins=50, color='lightgreen')\n",
    "plt.title('Distribution of Prices (Log Transformed)')\n",
    "plt.xlabel('Log(Price)')\n",
    "plt.ylabel('Frequency')\n",
    "\n",
    "plt.tight_layout()\n",
    "plt.show()"
   ]
  },
  {
   "cell_type": "markdown",
   "id": "1282cba3-8c62-49fd-a9ac-8e214324a406",
   "metadata": {},
   "source": [
    "- we use log1p and it means we are doing this log(1+x) with each values "
   ]
  },
  {
   "cell_type": "markdown",
   "id": "8ce16e97-4469-46d9-a9b9-6e81f57d287c",
   "metadata": {},
   "source": [
    "### observation\n",
    "- After applying the logarithmic transformation (log(price)), the distribution becomes closer to normal\n",
    "- The log transformation reduces the impact of extreme values (outliers) and compresses the wide range of prices into a more manageable scale."
   ]
  },
  {
   "cell_type": "code",
   "execution_count": null,
   "id": "299ac201-f08d-4289-830d-b4bc6c0016cc",
   "metadata": {},
   "outputs": [],
   "source": [
    "skewness = np.log1p(df['price']).skew()\n",
    "kurtosis = np.log1p(df['price']).kurt()\n",
    "\n",
    "print(skewness,kurtosis)"
   ]
  },
  {
   "cell_type": "markdown",
   "id": "9e11a48a-9d22-4a42-bf1b-b4ebda824400",
   "metadata": {},
   "source": [
    "### Observation\n",
    "- after log transformation skewness and kurtosis also get reduced \n",
    "- distribution is positively skewed (Acceptable range for near-normal data: −0.5 to 0.5. Beyond this, the data may not be considered symmetric.)\n",
    "- Kurtosis<3: Light tails so it indicated that it is platykurtic. \n",
    "- kurtosis between 2 and 4 is often considered acceptable for near-normal distributions."
   ]
  },
  {
   "cell_type": "code",
   "execution_count": null,
   "id": "4717c3af-1e65-41d7-91d6-f5fbd23850ff",
   "metadata": {},
   "outputs": [],
   "source": [
    "plt.figure(figsize=(15, 6))\n",
    "\n",
    "# Distribution plot without log transformation\n",
    "plt.subplot(1, 2, 1)\n",
    "sns.boxplot(df['price'], color='skyblue')\n",
    "plt.title('Distribution of Prices (Original)')\n",
    "plt.xlabel('Price (in Crores)')\n",
    "plt.ylabel('Frequency')\n",
    "\n",
    "# Distribution plot with log transformation\n",
    "plt.subplot(1, 2, 2)\n",
    "sns.boxplot(np.log1p(df['price']), color='lightgreen')\n",
    "plt.title('Distribution of Prices (Log Transformed)')\n",
    "plt.xlabel('Log(Price)')\n",
    "plt.ylabel('Frequency')\n",
    "\n",
    "plt.tight_layout()\n",
    "plt.show()"
   ]
  },
  {
   "cell_type": "markdown",
   "id": "24bd6c38-5ea3-4586-a242-ef0f6f7f93e0",
   "metadata": {},
   "source": [
    "### Observation\n",
    "\n",
    "- The original data has a long tail, indicating high skewness. After the log transformation, the distribution becomes more compact and less skewed.\n",
    "- After the log transformation, the data gets normalized, making the distribution more visible and interpretable.\n",
    "- The log transformation brings outliers closer to the main data, reducing their impact."
   ]
  },
  {
   "cell_type": "markdown",
   "id": "435e7892-e56a-4552-b75b-425fa400c962",
   "metadata": {},
   "source": [
    "# address region"
   ]
  },
  {
   "cell_type": "code",
   "execution_count": null,
   "id": "ecd0892e-5b34-4e35-b0a9-c3d034420e46",
   "metadata": {},
   "outputs": [],
   "source": [
    "# Count occurrences\n",
    "counts = df['addressregion'].value_counts()\n",
    "\n",
    "# Plot\n",
    "plt.figure(figsize=(8, 5))\n",
    "ax = sns.barplot(x=counts.index, y=counts.values, hue=counts.index, palette=\"tab10\", legend=False)\n",
    "\n",
    "# Labels\n",
    "plt.xlabel(\"Address Region\")\n",
    "plt.ylabel(\"Count\")\n",
    "plt.title(\"Property Count per Region\")\n",
    "plt.xticks(rotation=30)\n",
    "plt.show()"
   ]
  },
  {
   "cell_type": "code",
   "execution_count": null,
   "id": "3e763d42-39d7-45cb-ab57-6639dbb859c9",
   "metadata": {},
   "outputs": [],
   "source": [
    "df_mumbai = df[df['addressregion'] == 'mumbai']"
   ]
  },
  {
   "cell_type": "code",
   "execution_count": null,
   "id": "87a7877e-b4db-4337-94cf-afda2bcbae8e",
   "metadata": {},
   "outputs": [],
   "source": [
    "df_mumbai['price'].describe()"
   ]
  },
  {
   "cell_type": "code",
   "execution_count": null,
   "id": "d39a4d1a-dcb3-4294-b2e7-fe0715478fb5",
   "metadata": {},
   "outputs": [],
   "source": [
    "sns.histplot(df_mumbai['price'], kde=True, bins=50)"
   ]
  },
  {
   "cell_type": "code",
   "execution_count": null,
   "id": "736696c1-f2a3-45ac-9dec-30ffbb89a103",
   "metadata": {},
   "outputs": [],
   "source": [
    "df_navimumbai = df[df['addressregion'] == 'navi mumbai']"
   ]
  },
  {
   "cell_type": "code",
   "execution_count": null,
   "id": "30fa2dda-4b77-4074-8c9b-ec933496eef9",
   "metadata": {},
   "outputs": [],
   "source": [
    "df_navimumbai['price'].describe()"
   ]
  },
  {
   "cell_type": "code",
   "execution_count": null,
   "id": "4b7d13e9-2a21-4c77-a086-8df9ebc99b36",
   "metadata": {},
   "outputs": [],
   "source": [
    "sns.histplot(df_navimumbai['price'], kde=True, bins=50)"
   ]
  },
  {
   "cell_type": "code",
   "execution_count": null,
   "id": "df2ad3ae-f593-4f6c-a7c6-ecf97bd8d606",
   "metadata": {},
   "outputs": [],
   "source": [
    "df_thane = df[df['addressregion'] == 'thane']"
   ]
  },
  {
   "cell_type": "code",
   "execution_count": null,
   "id": "93fc0389-4e1c-46d5-81d2-f8e02d7344fd",
   "metadata": {},
   "outputs": [],
   "source": [
    "df_thane['price'].describe()"
   ]
  },
  {
   "cell_type": "code",
   "execution_count": null,
   "id": "c97c98d6-d496-4417-b597-094bfbec12e0",
   "metadata": {},
   "outputs": [],
   "source": [
    "sns.histplot(df_thane['price'], kde=True, bins=50)"
   ]
  },
  {
   "cell_type": "code",
   "execution_count": null,
   "id": "cdd92e3d-b3ca-408a-9377-86d7d0418d81",
   "metadata": {},
   "outputs": [],
   "source": [
    "df_palghar = df[df['addressregion'] == 'palghar']"
   ]
  },
  {
   "cell_type": "code",
   "execution_count": null,
   "id": "5cf60d60-0498-4e7f-9b6e-6b450065be34",
   "metadata": {},
   "outputs": [],
   "source": [
    "df_palghar['price'].describe()"
   ]
  },
  {
   "cell_type": "code",
   "execution_count": null,
   "id": "a3c9de08-af17-46f1-b675-4f1619d60b71",
   "metadata": {},
   "outputs": [],
   "source": [
    "sns.histplot(df_palghar['price'], kde=True, bins=50)"
   ]
  },
  {
   "cell_type": "code",
   "execution_count": null,
   "id": "206e6910-c352-4fdd-84b5-3036a47ecf3c",
   "metadata": {},
   "outputs": [],
   "source": [
    "df['addressregion'].value_counts(normalize=True).plot(kind='pie',autopct='%0.2f%%')"
   ]
  },
  {
   "cell_type": "code",
   "execution_count": null,
   "id": "98fa2e67-46ea-4a95-b5e5-38dd347c0f38",
   "metadata": {},
   "outputs": [],
   "source": [
    "sns.boxplot(df_mumbai['price'],color='lightgreen')\n",
    "plt.grid()"
   ]
  },
  {
   "cell_type": "code",
   "execution_count": null,
   "id": "7d81e269-ae0f-4c57-829d-153a640fa0c8",
   "metadata": {},
   "outputs": [],
   "source": [
    "df_mumbai['price'].describe()"
   ]
  },
  {
   "cell_type": "code",
   "execution_count": null,
   "id": "45af5df7-2d9b-4f3a-8097-feeb69fd20bf",
   "metadata": {},
   "outputs": [],
   "source": [
    "# Calculate Q1 (25th percentile) and Q3 (75th percentile)\n",
    "Q1 = np.percentile(df_mumbai['price'], 25)\n",
    "Q3 = np.percentile(df_mumbai['price'], 75)\n",
    "\n",
    "# Calculate IQR\n",
    "IQR = Q3 - Q1\n",
    "\n",
    "# Print results\n",
    "print(f\"Q1 (25th percentile): {Q1}\")\n",
    "print(f\"Q3 (75th percentile): {Q3}\")\n",
    "print(f\"IQR: {IQR}\")"
   ]
  },
  {
   "cell_type": "code",
   "execution_count": null,
   "id": "c4c90079-d345-4deb-8aca-781891d4a9f8",
   "metadata": {},
   "outputs": [],
   "source": [
    "sns.boxplot(df_navimumbai['price'],color='lightgreen')\n",
    "plt.grid()"
   ]
  },
  {
   "cell_type": "code",
   "execution_count": null,
   "id": "545d039a-678c-433a-ae75-d9520a1bbe36",
   "metadata": {},
   "outputs": [],
   "source": [
    "df_navimumbai['price'].describe()"
   ]
  },
  {
   "cell_type": "code",
   "execution_count": null,
   "id": "00ec0548-59d8-45ff-8db5-93ccacc3a199",
   "metadata": {},
   "outputs": [],
   "source": [
    "# Calculate Q1 (25th percentile) and Q3 (75th percentile)\n",
    "Q1 = np.percentile(df_navimumbai['price'], 25)\n",
    "Q3 = np.percentile(df_navimumbai['price'], 75)\n",
    "\n",
    "# Calculate IQR\n",
    "IQR = Q3 - Q1\n",
    "\n",
    "# Print results\n",
    "print(f\"Q1 (25th percentile): {Q1}\")\n",
    "print(f\"Q3 (75th percentile): {Q3}\")\n",
    "print(f\"IQR: {IQR}\")"
   ]
  },
  {
   "cell_type": "code",
   "execution_count": null,
   "id": "b468ede7-a931-4e20-b75e-5f0af1b369ba",
   "metadata": {},
   "outputs": [],
   "source": [
    "sns.boxplot(df_thane['price'],color='lightgreen')\n",
    "plt.grid()"
   ]
  },
  {
   "cell_type": "code",
   "execution_count": null,
   "id": "4583b20d-157b-4e75-8024-d4a035454671",
   "metadata": {},
   "outputs": [],
   "source": [
    "df_thane['price'].describe()"
   ]
  },
  {
   "cell_type": "code",
   "execution_count": null,
   "id": "846ff216-a926-4f1e-ac81-412bc259f1cd",
   "metadata": {},
   "outputs": [],
   "source": [
    "# Calculate Q1 (25th percentile) and Q3 (75th percentile)\n",
    "Q1 = np.percentile(df_thane['price'], 25)\n",
    "Q3 = np.percentile(df_thane['price'], 75)\n",
    "\n",
    "# Calculate IQR\n",
    "IQR = Q3 - Q1\n",
    "\n",
    "# Print results\n",
    "print(f\"Q1 (25th percentile): {Q1}\")\n",
    "print(f\"Q3 (75th percentile): {Q3}\")\n",
    "print(f\"IQR: {IQR}\")"
   ]
  },
  {
   "cell_type": "code",
   "execution_count": null,
   "id": "0bec4446-85fe-449b-b1a4-d7743667c8b0",
   "metadata": {},
   "outputs": [],
   "source": [
    "sns.boxplot(df_palghar['price'],color='lightgreen')\n",
    "plt.grid()"
   ]
  },
  {
   "cell_type": "code",
   "execution_count": null,
   "id": "7740b5e8-e7dc-4df6-8902-93a4bee86acd",
   "metadata": {},
   "outputs": [],
   "source": [
    "df_palghar['price'].describe()"
   ]
  },
  {
   "cell_type": "code",
   "execution_count": null,
   "id": "6a62083c-6b6b-4126-9ad4-e683977bba7a",
   "metadata": {},
   "outputs": [],
   "source": [
    "# Calculate Q1 (25th percentile) and Q3 (75th percentile)\n",
    "Q1 = np.percentile(df_palghar['price'], 25)\n",
    "Q3 = np.percentile(df_palghar['price'], 75)\n",
    "\n",
    "# Calculate IQR\n",
    "IQR = Q3 - Q1\n",
    "\n",
    "# Print results\n",
    "print(f\"Q1 (25th percentile): {Q1}\")\n",
    "print(f\"Q3 (75th percentile): {Q3}\")\n",
    "print(f\"IQR: {IQR}\")"
   ]
  },
  {
   "cell_type": "markdown",
   "id": "f50db862-d644-4899-a9db-b98f4531e69a",
   "metadata": {},
   "source": [
    "### observation\n",
    "\n",
    "- mean and median of all regions is different,this means there is prices according to region\n",
    "    - Mean/median Price:\n",
    "    - mumbai - 3.55/2.20\n",
    "    - navi mumbai - 1.26/0.92\n",
    "    - thane - 1.40/1.18\n",
    "    - palghar - 0.27/0.23\n",
    "\n",
    "- mean and median of the palghar properties is almost same indicates that data distribution is relatively symmetric and there are fewer outliers\n",
    "- most properties fall in this particular region\n",
    "    - mumbai - 0 to 5 cr\n",
    "    - navi mumbai and thane - 0 to 2 cr\n",
    "    - palghar - 0.1 to 0.4 cr\n",
    "\n",
    "- mumbai : standard deviation greater than the mean indicates high variation, meaning property prices in Mumbai are significantly diverse.\n",
    "- palghar,thane and navi mumbai : standard deviation less than the mean indicates low variation, meaning property prices are more uniform and predictable.\n",
    "- Mumbai appears to have more significant outliers on the higher end of the price scale compared to other regions, leading to a higher mean.\n",
    "- All regions exhibit right-skewed distributions, indicating that most properties fall within lower price ranges, with a few high-priced properties pulling the mean upwards.\n",
    "\n",
    "##### from box plot\n",
    " - In all regions outliers beyond the whiskers of the boxplots.\n",
    " - Mumbai: IQR = 1.25, indicating a higher spread in prices compared to other regions.\n",
    " - Navi Mumbai: IQR = 0.64, suggesting moderate variability.\n",
    " - Thane: IQR = 1.05, showing a higher variability than Navi Mumbai but less than Mumbai.\n",
    " - Palghar: IQR = 0.14, the lowest among all, indicating a smaller variation in property prices.\n",
    " - The boxplots indicate right-skewed distributions (positive skewness) for all regions, with long tails on the higher side."
   ]
  },
  {
   "cell_type": "markdown",
   "id": "9a7b2458-586d-45eb-9f73-4f3ee03fd5e4",
   "metadata": {},
   "source": [
    "#### conclusion\n",
    "\n",
    "- most of the data is from mumbai region and it can create bias\n",
    "- mumbai property prices higher than other regions\n",
    "- prices are according to the region\n",
    "- expensiveness is like mumbai > thane > navi mumbai > palghar"
   ]
  },
  {
   "cell_type": "markdown",
   "id": "d887ca65-de40-4d25-bee4-a8a13a8c0fc7",
   "metadata": {},
   "source": [
    "### Solution:\n",
    "1. **Address Bias**:\n",
    "   - Use stratified sampling to ensure balanced representation across regions for analysis.\n",
    "   - Normalize or standardize property prices to reduce the impact of Mumbai's dominance.\n",
    "\n",
    "2. **Separate Regional Analysis**:\n",
    "   - Analyze each region independently to derive region-specific insights.\n",
    "   - Create separate predictive models or pricing strategies for each region.\n",
    "\n",
    "3. **Outlier Handling**:\n",
    "   - Remove or cap extreme outliers to minimize their impact on mean calculations.\n",
    "   - Focus on the median for central tendency, as it is more robust to outliers."
   ]
  },
  {
   "cell_type": "markdown",
   "id": "5e863777-4a75-4bba-a540-5ca5a3a58751",
   "metadata": {},
   "source": [
    "# costpersqft"
   ]
  },
  {
   "cell_type": "code",
   "execution_count": null,
   "id": "e117c068-4304-42ca-b9f0-935bbef7daa0",
   "metadata": {},
   "outputs": [],
   "source": [
    "df['costpersqft'].head()"
   ]
  },
  {
   "cell_type": "code",
   "execution_count": null,
   "id": "65e7ada9-5f49-472d-b8eb-a14ddf9739f0",
   "metadata": {},
   "outputs": [],
   "source": [
    "df['costpersqft'].dtype"
   ]
  },
  {
   "cell_type": "code",
   "execution_count": null,
   "id": "6fe6d662-5eee-469c-aabb-4715496fbb07",
   "metadata": {},
   "outputs": [],
   "source": [
    "#no of missing values in costpersqft column\n",
    "int(df['costpersqft'].isna().sum())"
   ]
  },
  {
   "cell_type": "code",
   "execution_count": null,
   "id": "046dc9c4-739e-413e-8830-081ceb59251a",
   "metadata": {},
   "outputs": [],
   "source": [
    "df['costpersqft'].describe()"
   ]
  },
  {
   "cell_type": "markdown",
   "id": "b9bb42bb-eecb-4a56-8e6c-3fd07032b271",
   "metadata": {},
   "source": [
    "- range of the sqft ranges from 147.00 sqft to  5333333 sqft\n",
    "- mean is 28263 and median is 25577"
   ]
  },
  {
   "cell_type": "code",
   "execution_count": null,
   "id": "e73ef68a-e9ca-4353-b1ea-bf91e697a46a",
   "metadata": {},
   "outputs": [],
   "source": [
    "import matplotlib.pyplot as plt\n",
    "import pandas as pd\n",
    "\n",
    "# Example: Replace `costpersqft` with your column\n",
    "plt.figure(figsize=(8, 6))\n",
    "df['costpersqft'].plot(kind='hist', bins=10, edgecolor='black')\n",
    "\n",
    "# Set standard x-axis format\n",
    "plt.ticklabel_format(style='plain', axis='x')\n",
    "\n",
    "# Add labels and title\n",
    "plt.xlabel('price_per_sqft')\n",
    "plt.ylabel('Count')\n",
    "plt.title('Distribution of Cost per Square Foot')\n",
    "\n",
    "plt.show()\n"
   ]
  },
  {
   "cell_type": "code",
   "execution_count": null,
   "id": "288163a0-d12a-4187-8548-5bb7bb236b9c",
   "metadata": {},
   "outputs": [],
   "source": [
    "# Skewness and Kurtosis\n",
    "skewness = df['costpersqft'].skew()\n",
    "kurtosis = df['costpersqft'].kurt()\n",
    "\n",
    "print(skewness,kurtosis)"
   ]
  },
  {
   "cell_type": "markdown",
   "id": "e123dfd9-1ce8-43b9-a59b-e8f4cbaef128",
   "metadata": {},
   "source": [
    "#### Observation\n",
    "\n",
    "- there are few outliers which affect the whole distribution\n",
    "- A positive skewness value (like 92.57) suggests a heavily right-skewed distribution, meaning there are extreme high values in the dataset pulling the tail to the right.\n",
    "- A high kurtosis value (like 9547.57) indicates that the distribution has heavy tails and possibly significant outliers."
   ]
  },
  {
   "cell_type": "code",
   "execution_count": null,
   "id": "ed65205f-338a-4c4d-911c-b1b4d46e3a4b",
   "metadata": {},
   "outputs": [],
   "source": [
    "#drop outliers\n",
    "df = df.drop(df[df['costpersqft'].isin([5333333, 208333, 344262, 270543])].index)\n"
   ]
  },
  {
   "cell_type": "code",
   "execution_count": null,
   "id": "31bb923c-cf7e-4eb2-92be-ed751f9cd668",
   "metadata": {},
   "outputs": [],
   "source": [
    "# Distribution plot with log transformation\n",
    "sns.histplot(np.log1p(df['costpersqft']), kde=True, bins=50, color='lightgreen')\n",
    "plt.title('Distribution of costpersqft (Log Transformed)')\n",
    "plt.xlabel('costpersqft')\n",
    "plt.ylabel('Frequency')\n",
    "\n",
    "plt.tight_layout()\n",
    "plt.show()"
   ]
  },
  {
   "cell_type": "code",
   "execution_count": null,
   "id": "97efabfd-3e7b-46c9-9577-9f0ea9489bc2",
   "metadata": {},
   "outputs": [],
   "source": [
    "skewness = np.log1p(df['costpersqft']).skew()\n",
    "kurtosis = np.log1p(df['costpersqft']).kurt()\n",
    "\n",
    "print(skewness,kurtosis)"
   ]
  },
  {
   "cell_type": "markdown",
   "id": "78b2160c-f046-4983-8031-1df222a2a309",
   "metadata": {},
   "source": [
    "### observation\n",
    "\n",
    "- A skewness of -0.744 suggests that the data is moderately negatively skewed after the log transformation.\n",
    "- This means the tail on the left side of the distribution (smaller values) is slightly longer than the right side.\n",
    "- Log transformation has reduced the skewness compared to the original data, which is a common transformation for positively skewed distributions.\n",
    "- A kurtosis value of 1.366 indicates the distribution is light-tailed compared to a normal distribution (which has a kurtosis of 3).\n",
    "- This suggests fewer outliers in the transformed data, implying a flatter peak and thinner tails than the normal distribution."
   ]
  },
  {
   "cell_type": "code",
   "execution_count": null,
   "id": "cb17cd5b-bd4e-4d25-beef-500ac2b8cdb2",
   "metadata": {},
   "outputs": [],
   "source": [
    "plt.figure(figsize=(15, 6))\n",
    "\n",
    "# Distribution plot without log transformation\n",
    "plt.subplot(1, 2, 1)\n",
    "sns.boxplot(df['costpersqft'], color='skyblue')\n",
    "plt.title('Distribution of costpersqft (Original)')\n",
    "plt.xlabel('costpersqft')\n",
    "plt.ylabel('Frequency')\n",
    "\n",
    "# Distribution plot with log transformation\n",
    "plt.subplot(1, 2, 2)\n",
    "sns.boxplot(np.log1p(df['costpersqft']), color='lightgreen')\n",
    "plt.title('Distribution of costpersqft (Log Transformed)')\n",
    "plt.xlabel('Log(costpersqft)')\n",
    "plt.ylabel('Frequency')\n",
    "\n",
    "plt.tight_layout()\n",
    "plt.show()"
   ]
  },
  {
   "cell_type": "code",
   "execution_count": null,
   "id": "5d929955-817f-4ad0-b5f0-23a748aa4e26",
   "metadata": {
    "editable": true,
    "slideshow": {
     "slide_type": ""
    },
    "tags": []
   },
   "outputs": [],
   "source": [
    "# Drop NaN values from the column\n",
    "cleaned_data = df['costpersqft'].dropna()\n",
    "\n",
    "# Calculate Q1 and Q3\n",
    "Q1 = np.percentile(cleaned_data, 25)\n",
    "Q3 = np.percentile(cleaned_data, 75)\n",
    "\n",
    "# Calculate IQR\n",
    "IQR = Q3 - Q1\n",
    "\n",
    "# Print results\n",
    "print(f\"Q1 (25th percentile): {Q1}\")\n",
    "print(f\"Q3 (75th percentile): {Q3}\")\n",
    "print(f\"IQR: {IQR}\")\n"
   ]
  },
  {
   "cell_type": "code",
   "execution_count": null,
   "id": "b281e3f7-1680-48a2-a051-5fe2a0738358",
   "metadata": {
    "editable": true,
    "slideshow": {
     "slide_type": ""
    },
    "tags": []
   },
   "outputs": [],
   "source": [
    "# Quantile Analysis\n",
    "quantiles = df['costpersqft'].quantile([0.85,0.95])\n",
    "\n",
    "quantiles"
   ]
  },
  {
   "cell_type": "markdown",
   "id": "fd641946-bda1-414d-830b-f871fa968c64",
   "metadata": {},
   "source": [
    "### Observation\n",
    "- The boxplot(left) shows significant outliers (data points far above the upper whisker)\n",
    "- The log transformation(right) reduced the skewness significantly, making the distribution more symmetric.\n",
    "- However, some outliers are still present, though their effect on the overall distribution has been minimized."
   ]
  },
  {
   "cell_type": "markdown",
   "id": "4fea8ad8-734f-420a-bcf5-28c62c32c1a7",
   "metadata": {},
   "source": [
    "# bed"
   ]
  },
  {
   "cell_type": "code",
   "execution_count": null,
   "id": "7912c8bf-e3b8-45d6-a583-9109f6fe954c",
   "metadata": {},
   "outputs": [],
   "source": [
    "df['bed'].head()"
   ]
  },
  {
   "cell_type": "code",
   "execution_count": null,
   "id": "f7e9ba4c-10e9-4ad2-9e6f-b2ce8339fe66",
   "metadata": {},
   "outputs": [],
   "source": [
    "df['bed'].value_counts()"
   ]
  },
  {
   "cell_type": "code",
   "execution_count": null,
   "id": "fc568e94-c586-4eca-9df2-dacd05a50f31",
   "metadata": {},
   "outputs": [],
   "source": [
    "df['bed'].isna().sum()"
   ]
  },
  {
   "cell_type": "code",
   "execution_count": null,
   "id": "6e552437-290a-4adb-85a2-8c126dbba9ae",
   "metadata": {},
   "outputs": [],
   "source": [
    "df['bed'].value_counts().sort_index().plot(kind='bar')"
   ]
  },
  {
   "cell_type": "code",
   "execution_count": null,
   "id": "4f3d550d-4f2e-4558-9bd3-e1677b960f4c",
   "metadata": {},
   "outputs": [],
   "source": [
    "df['bed'].value_counts(normalize=True).head().plot(kind='pie',autopct='%0.2f%%')"
   ]
  },
  {
   "cell_type": "code",
   "execution_count": null,
   "id": "cea9d0e4-5183-47a6-83b5-bf16a0620436",
   "metadata": {},
   "outputs": [],
   "source": [
    "df['bed'].value_counts(normalize=True).cumsum()"
   ]
  },
  {
   "cell_type": "markdown",
   "id": "99b77b43-d44b-41de-8611-49a4616f66f2",
   "metadata": {},
   "source": [
    "### obserbvation \n",
    "\n",
    "- no missing values\n",
    "- 92% of the properties have 1, 2, or 3 bedrooms."
   ]
  },
  {
   "cell_type": "markdown",
   "id": "a23a903f-9066-45d7-8070-6cba21432307",
   "metadata": {},
   "source": [
    "# bath"
   ]
  },
  {
   "cell_type": "code",
   "execution_count": null,
   "id": "dfa05af7-9917-40c2-9c0f-818ca9e30bf9",
   "metadata": {},
   "outputs": [],
   "source": [
    "df['bath'].head()"
   ]
  },
  {
   "cell_type": "code",
   "execution_count": null,
   "id": "b818043b-929e-41d8-ad5c-e9d0fb5eb055",
   "metadata": {},
   "outputs": [],
   "source": [
    "df['bath'].value_counts()"
   ]
  },
  {
   "cell_type": "code",
   "execution_count": null,
   "id": "ba1bc485-d7b3-480e-b46e-408fd5b585bf",
   "metadata": {},
   "outputs": [],
   "source": [
    "df['bath'].isna().sum()"
   ]
  },
  {
   "cell_type": "code",
   "execution_count": null,
   "id": "7c53e36d-a78e-427d-8ccb-2fe22f65f033",
   "metadata": {},
   "outputs": [],
   "source": [
    "df['bath'].value_counts().sort_index().plot(kind='bar')"
   ]
  },
  {
   "cell_type": "code",
   "execution_count": null,
   "id": "80273776-4f45-405d-a0a7-3eee754ba397",
   "metadata": {},
   "outputs": [],
   "source": [
    "df['bath'].value_counts(normalize=True).head().plot(kind='pie',autopct='%0.2f%%')"
   ]
  },
  {
   "cell_type": "code",
   "execution_count": null,
   "id": "c37df435-0a57-405e-80e5-613c353c21ad",
   "metadata": {},
   "outputs": [],
   "source": [
    "df['bath'].value_counts(normalize=True).cumsum()"
   ]
  },
  {
   "cell_type": "markdown",
   "id": "c2b684b5-9ac3-4773-aacb-da05ee2f4e3a",
   "metadata": {},
   "source": [
    "### observation\n",
    "\n",
    "- 30 missing values\n",
    "- 99% of the properties have 1,2,3,4 and 5 bathrooms.\n",
    "- 55% properties have 2 bathrooms"
   ]
  },
  {
   "cell_type": "markdown",
   "id": "aa9a35f1-1e71-4bf1-83c4-0b06d0ba13cc",
   "metadata": {},
   "source": [
    "# balcony"
   ]
  },
  {
   "cell_type": "code",
   "execution_count": null,
   "id": "840fe8ff-3d82-4340-93fa-9220825676f6",
   "metadata": {},
   "outputs": [],
   "source": [
    "df['balcony'].head()"
   ]
  },
  {
   "cell_type": "code",
   "execution_count": null,
   "id": "b988928f-3cff-45ea-9081-daf24e908d98",
   "metadata": {},
   "outputs": [],
   "source": [
    "df['balcony'].value_counts()"
   ]
  },
  {
   "cell_type": "code",
   "execution_count": null,
   "id": "e939f669-1e67-4008-81ec-0061ebc0685c",
   "metadata": {},
   "outputs": [],
   "source": [
    "df['balcony'].isnull().sum()"
   ]
  },
  {
   "cell_type": "code",
   "execution_count": null,
   "id": "408dda5c-2a14-4c78-a3af-d0ae24616dd3",
   "metadata": {},
   "outputs": [],
   "source": [
    "df['balcony'].value_counts().sort_index().plot(kind='bar')"
   ]
  },
  {
   "cell_type": "code",
   "execution_count": null,
   "id": "fc720308-fd3b-49ba-ac12-749eef21fe24",
   "metadata": {},
   "outputs": [],
   "source": [
    "df['balcony'].value_counts(normalize=True).head().plot(kind='pie',autopct='%0.2f%%')"
   ]
  },
  {
   "cell_type": "code",
   "execution_count": null,
   "id": "d6f19374-1c84-46d1-9621-2d6cfc7770b8",
   "metadata": {},
   "outputs": [],
   "source": [
    "df['balcony'].value_counts(normalize=True).cumsum()"
   ]
  },
  {
   "cell_type": "markdown",
   "id": "0db31c29-40dd-4535-96d6-e56e15bf180f",
   "metadata": {},
   "source": [
    "### observation\n",
    "- 5826 missing values\n",
    "- 99% of the properties have 1,2,3,4 and 5 balconies.\n",
    "- 50% properties have 1 balcony "
   ]
  },
  {
   "cell_type": "markdown",
   "id": "522240dc-d82b-4f03-91c2-6b333b2307f5",
   "metadata": {},
   "source": [
    "# parking"
   ]
  },
  {
   "cell_type": "code",
   "execution_count": null,
   "id": "0591c4a7-8869-4fd3-bb8a-dc71fc53a2da",
   "metadata": {},
   "outputs": [],
   "source": [
    "df['parking'].head()"
   ]
  },
  {
   "cell_type": "code",
   "execution_count": null,
   "id": "4d978f0c-c25f-498d-996a-645e852e7cc6",
   "metadata": {},
   "outputs": [],
   "source": [
    "df['parking'].value_counts()"
   ]
  },
  {
   "cell_type": "code",
   "execution_count": null,
   "id": "475e16e6-2157-4e60-9327-c48366dea5de",
   "metadata": {},
   "outputs": [],
   "source": [
    "df['parking'].isna().sum()"
   ]
  },
  {
   "cell_type": "code",
   "execution_count": null,
   "id": "154dc37f-dcf5-4426-8f41-007354d72e2e",
   "metadata": {},
   "outputs": [],
   "source": [
    "df['parking'].value_counts().sort_index().plot(kind='bar')"
   ]
  },
  {
   "cell_type": "code",
   "execution_count": null,
   "id": "015d7f49-a212-4da0-a3fa-73a03c72f189",
   "metadata": {},
   "outputs": [],
   "source": [
    "df['parking'].value_counts(normalize=True).head().plot(kind='pie',autopct='%0.2f%%')"
   ]
  },
  {
   "cell_type": "markdown",
   "id": "1f4729fe-69ca-4459-a876-08ffc29e3651",
   "metadata": {},
   "source": [
    "### observation\n",
    "- 6237 missing values\n",
    "- 70% of properties have only 1 parking followed by 23.89% properties have 2 parking\n",
    "- feature engineering of the categories which has value_counts less than 7"
   ]
  },
  {
   "cell_type": "markdown",
   "id": "0bbf9da0-8663-4ce4-867c-7518e88b6cd8",
   "metadata": {},
   "source": [
    "# available_units"
   ]
  },
  {
   "cell_type": "code",
   "execution_count": null,
   "id": "605e8140-256e-4630-b1b7-9760851badef",
   "metadata": {},
   "outputs": [],
   "source": [
    "df['available_units'].head()"
   ]
  },
  {
   "cell_type": "code",
   "execution_count": null,
   "id": "f12122d1-e6d6-4521-88a0-357db468e8b9",
   "metadata": {},
   "outputs": [],
   "source": [
    "df['available_units'].describe()"
   ]
  },
  {
   "cell_type": "code",
   "execution_count": null,
   "id": "4bf8923a-7995-4a13-9918-824cfd845bd2",
   "metadata": {},
   "outputs": [],
   "source": [
    "df['available_units'].isna().sum()"
   ]
  },
  {
   "cell_type": "code",
   "execution_count": null,
   "id": "1e755037-1f56-49ef-b147-209f3df6cde4",
   "metadata": {},
   "outputs": [],
   "source": [
    "sns.histplot(df['available_units'],kde=True,bins=50)"
   ]
  },
  {
   "cell_type": "code",
   "execution_count": null,
   "id": "542a6a22-cd76-4f84-afc5-c1ce9cba825d",
   "metadata": {},
   "outputs": [],
   "source": [
    "sns.boxplot(df['available_units'],color='lightgreen')\n",
    "plt.grid()"
   ]
  },
  {
   "cell_type": "code",
   "execution_count": null,
   "id": "5b24d7b1-fcb6-435c-9071-a83119ab4af7",
   "metadata": {},
   "outputs": [],
   "source": [
    "# Skewness and Kurtosis\n",
    "skewness = df['available_units'].skew()\n",
    "kurtosis = df['available_units'].kurt()\n",
    "\n",
    "print(skewness,kurtosis)"
   ]
  },
  {
   "cell_type": "markdown",
   "id": "1c4961f4-8b18-4676-ad21-563c1212c70f",
   "metadata": {},
   "source": [
    "#### Observation\n",
    "\n",
    "\n",
    "- there are few outliers which affect the whole distribution\n",
    "- A positive skewness value (like 25.46) suggests a heavily right-skewed distribution, meaning there are extreme high values in the dataset pulling the tail to the right.\n",
    "- A high kurtosis value (like 850.87) indicates that the distribution has heavy tails and possibly significant outliers."
   ]
  },
  {
   "cell_type": "code",
   "execution_count": null,
   "id": "b06766bf-aef4-4032-b489-272d9eb53a3e",
   "metadata": {},
   "outputs": [],
   "source": [
    "# Distribution plot with log transformation\n",
    "sns.histplot(np.log1p(df['available_units']), kde=True, bins=50, color='lightgreen')\n",
    "plt.title('Distribution of available_units (Log Transformed)')\n",
    "plt.xlabel('available_units')\n",
    "plt.ylabel('Frequency')\n",
    "\n",
    "plt.tight_layout()\n",
    "plt.show()"
   ]
  },
  {
   "cell_type": "code",
   "execution_count": null,
   "id": "206b1939-57e7-4327-9244-88d94e26feb6",
   "metadata": {
    "editable": true,
    "slideshow": {
     "slide_type": ""
    },
    "tags": []
   },
   "outputs": [],
   "source": [
    "skewness = np.log1p(df['available_units']).skew()\n",
    "kurtosis = np.log1p(df['available_units']).kurt()\n",
    "\n",
    "print(skewness,kurtosis)"
   ]
  },
  {
   "cell_type": "markdown",
   "id": "39426170-4845-4639-a62e-b4846dfebba1",
   "metadata": {},
   "source": [
    "### observation\n",
    "\n",
    "- 5226 missing values\n",
    "- A skewness of -0.166 indicates that the data is nearly symmetric after the log transformation.\n",
    "- A kurtosis of 0.030 is very close to 0, indicating that the distribution is neither heavily tailed nor strongly peaked."
   ]
  },
  {
   "cell_type": "markdown",
   "id": "54b4143e-a26d-4997-8346-064eff68da06",
   "metadata": {},
   "source": [
    "# tower"
   ]
  },
  {
   "cell_type": "code",
   "execution_count": null,
   "id": "09aeb486-6c1b-4c18-899e-a84cb32a7674",
   "metadata": {},
   "outputs": [],
   "source": [
    "df['towers'].head()"
   ]
  },
  {
   "cell_type": "code",
   "execution_count": null,
   "id": "c868f786-4471-4b37-b239-071cb09a5a66",
   "metadata": {},
   "outputs": [],
   "source": [
    "df['towers'].value_counts()"
   ]
  },
  {
   "cell_type": "code",
   "execution_count": null,
   "id": "76ba48ad-fc80-444d-98ef-a313ded5fb2b",
   "metadata": {},
   "outputs": [],
   "source": [
    "df['towers'].isna().sum()"
   ]
  },
  {
   "cell_type": "code",
   "execution_count": null,
   "id": "77ea9562-5087-4933-933d-98a261b76ab2",
   "metadata": {},
   "outputs": [],
   "source": [
    "sns.histplot(df['towers'], kde=True, bins =50)"
   ]
  },
  {
   "cell_type": "code",
   "execution_count": null,
   "id": "8bce02cb-3d39-404f-b04f-b397788b5230",
   "metadata": {
    "editable": true,
    "slideshow": {
     "slide_type": ""
    },
    "tags": []
   },
   "outputs": [],
   "source": [
    "df['towers'].value_counts().sort_index().plot(kind='bar')"
   ]
  },
  {
   "cell_type": "markdown",
   "id": "f8e3aed4-a4dd-4241-bafb-d83eb499f613",
   "metadata": {},
   "source": [
    "### observation\n",
    "\n",
    "- 5034 missing values\n",
    "- most of the builders make less than 20 towers\n",
    "- The highest frequency is observed for lower values of towers (e.g., 1, 2, or 3 towers).\n",
    "- As the number of towers increases, the frequency decreases significantly.\n",
    "- The distribution is right-skewed."
   ]
  },
  {
   "cell_type": "code",
   "execution_count": null,
   "id": "2b13b3c1-f31d-4a38-b9f2-46e2430fdbbc",
   "metadata": {},
   "outputs": [],
   "source": [
    "sns.boxplot(df['towers'] , color = 'lightgreen' )\n",
    "plt.grid()"
   ]
  },
  {
   "cell_type": "code",
   "execution_count": null,
   "id": "8d9197e2-cbe3-4663-a293-5308528e6ffa",
   "metadata": {},
   "outputs": [],
   "source": [
    "#skewness and kurtosis\n",
    "skewness = df['towers'].skew()\n",
    "kurtosis = df['towers'].kurt()\n",
    "\n",
    "print(f\"skewness : {skewness}\")\n",
    "print(f\"kurtosis : {kurtosis}\")"
   ]
  },
  {
   "cell_type": "markdown",
   "id": "3fd1e8be-cfe7-48f8-be67-423914dc73f2",
   "metadata": {},
   "source": [
    "### Observation\n",
    "\n",
    "- there are few outliers which affect the whole distribution\n",
    "- A positive skewness value (like 8.47) suggests a heavily right-skewed distribution, meaning there are extreme high values in the dataset pulling the tail to the right.\n",
    "- A high kurtosis value (like 141.86) indicates that the distribution has heavy tails and possibly significant outliers."
   ]
  },
  {
   "cell_type": "markdown",
   "id": "3ad9bad0-6a1b-436b-86c4-d4717efb80d7",
   "metadata": {},
   "source": [
    "# locality_rank"
   ]
  },
  {
   "cell_type": "code",
   "execution_count": null,
   "id": "ce83bbe2-c3bb-4d5c-b4ba-aa5697a9a7bc",
   "metadata": {},
   "outputs": [],
   "source": [
    "df['locality_rank'].head()"
   ]
  },
  {
   "cell_type": "code",
   "execution_count": null,
   "id": "49e124f9-5f60-4632-8c42-9e3aa48720ec",
   "metadata": {},
   "outputs": [],
   "source": [
    "df['locality_rank'].value_counts()"
   ]
  },
  {
   "cell_type": "code",
   "execution_count": null,
   "id": "1537cedf-804c-4b81-bd42-3349576a262e",
   "metadata": {},
   "outputs": [],
   "source": [
    "df['locality_rank'].isna().sum()"
   ]
  },
  {
   "cell_type": "code",
   "execution_count": null,
   "id": "47c4a172-fffc-4fd5-9476-aa594a0789bf",
   "metadata": {},
   "outputs": [],
   "source": [
    "df['locality_rank'].describe()"
   ]
  },
  {
   "cell_type": "markdown",
   "id": "c869ee7e-8dee-42ff-ab2a-1e7d4b65dfba",
   "metadata": {
    "editable": true,
    "slideshow": {
     "slide_type": ""
    },
    "tags": []
   },
   "source": [
    "### observation\n",
    "- 3839 missing values\n",
    "- Min rank is 1, max is 839.  \n",
    "- Mean rank is 122.38, median is 92 (right-skewed).  \n",
    "- 25% of localities have ranks ≤ 16; 50% ≤ 92.  \n",
    "- Standard deviation is 126.50; high variability.  \n",
    "- Data covers 1–839 ranks out of 3015 total ranks.  "
   ]
  },
  {
   "cell_type": "code",
   "execution_count": null,
   "id": "5dba7c1e-f62d-4230-9e6b-80ef989069bc",
   "metadata": {
    "editable": true,
    "slideshow": {
     "slide_type": ""
    },
    "tags": []
   },
   "outputs": [],
   "source": [
    "sns.histplot(df['locality_rank'],kde=True,bins=50)"
   ]
  },
  {
   "cell_type": "markdown",
   "id": "3f7cb2b6-c4dd-4964-aa98-f97af86ec3c1",
   "metadata": {},
   "source": [
    "### observation\n",
    "\n",
    "- The distribution is right-skewed, with most localities having lower ranks.\n",
    "- A significant number of localities have ranks close to 1–50.\n",
    "- Ranks above 200 are relatively sparse, with a gradual decline towards the maximum rank (839).\n",
    "- The highest frequency is observed for ranks near 1.\n",
    "- The presence of multiple peaks indicates possible clustering in locality ranks."
   ]
  },
  {
   "cell_type": "code",
   "execution_count": null,
   "id": "a7f96dd2-16b8-4990-9c90-cc34ba0775b6",
   "metadata": {
    "editable": true,
    "slideshow": {
     "slide_type": ""
    },
    "tags": []
   },
   "outputs": [],
   "source": [
    "sns.boxplot(df['locality_rank'],color='lightgreen')\n",
    "plt.grid()"
   ]
  },
  {
   "cell_type": "markdown",
   "id": "aad707e6-a5d5-4205-8e93-fb1c67cc21cc",
   "metadata": {
    "editable": true,
    "slideshow": {
     "slide_type": ""
    },
    "tags": []
   },
   "source": [
    "### observations\n",
    "- The IQR (green box) lies between ranks 16 and 186.\n",
    "- The median rank is approximately 92.\n",
    "- Ranks above 400 are outliers, with a few reaching the maximum rank (839).\n",
    "- The distribution is right-skewed, as evident from the longer whisker on the upper side.\n",
    "- Most data points are concentrated in the lower rank range (1–200)."
   ]
  },
  {
   "cell_type": "code",
   "execution_count": null,
   "id": "26bcb248-030f-4127-9b1a-0322cfa289c9",
   "metadata": {
    "editable": true,
    "slideshow": {
     "slide_type": ""
    },
    "tags": []
   },
   "outputs": [],
   "source": [
    "#skewness and kurtosis\n",
    "skewness = df['locality_rank'].skew()\n",
    "kurtosis = df['locality_rank'].kurt()\n",
    "\n",
    "print(f\"skewness : {skewness}\")\n",
    "print(f\"kurtosis : {kurtosis}\")"
   ]
  },
  {
   "cell_type": "markdown",
   "id": "5d62f4fe-c881-476d-8714-f03aad513923",
   "metadata": {},
   "source": [
    "- Skewness (1.398): The data is positively skewed, with a longer tail on the right.  \n",
    "- Most locality ranks are concentrated at lower values.\n",
    "- Kurtosis (1.997): The distribution has light tails compared to a normal distribution (kurtosis < 3).  \n",
    "- Indicates fewer extreme outliers than a heavy-tailed distribution.  "
   ]
  },
  {
   "cell_type": "code",
   "execution_count": null,
   "id": "4a978c56-efe1-4ad1-b017-08b864c47f66",
   "metadata": {
    "editable": true,
    "slideshow": {
     "slide_type": ""
    },
    "tags": []
   },
   "outputs": [],
   "source": [
    "# Distribution plot with log transformation\n",
    "sns.histplot(np.log1p(df['locality_rank']), kde=True, bins=50, color='lightgreen')\n",
    "plt.title('Distribution of locality_rank (Log Transformed)')\n",
    "plt.xlabel('locality_rank')\n",
    "plt.ylabel('Frequency')\n",
    "\n",
    "plt.tight_layout()\n",
    "plt.show()"
   ]
  },
  {
   "cell_type": "markdown",
   "id": "28f923fb-3820-4296-b776-c1a619112716",
   "metadata": {},
   "source": [
    "### observations \n",
    "- The log transformation reduces skewness, making the distribution more symmetric.\n",
    "- Peaks are observed around log values 2–5, indicating clustering in these ranges.\n",
    "- Outliers in the original data are compressed, improving interpretability.\n",
    "- The spread of ranks is now more balanced, highlighting patterns in the middle range.\n",
    "- The transformation emphasizes the lower ranks, previously overshadowed by the skewness."
   ]
  },
  {
   "cell_type": "code",
   "execution_count": null,
   "id": "9796c1aa-2ff1-4916-9c18-584bd4e7a100",
   "metadata": {
    "editable": true,
    "slideshow": {
     "slide_type": ""
    },
    "tags": []
   },
   "outputs": [],
   "source": [
    "plt.figure(figsize=(15, 6))\n",
    "\n",
    "# Distribution plot without log transformation\n",
    "plt.subplot(1, 2, 1)\n",
    "sns.boxplot(df['locality_rank'], color='skyblue')\n",
    "plt.title('Distribution of locality_rank (Original)')\n",
    "plt.xlabel('locality_rank')\n",
    "plt.ylabel('Frequency')\n",
    "\n",
    "# Distribution plot with log transformation\n",
    "plt.subplot(1, 2, 2)\n",
    "sns.boxplot(np.log1p(df['locality_rank']), color='lightgreen')\n",
    "plt.title('Distribution of locality_rank (Log Transformed)')\n",
    "plt.xlabel('Log(locality_rank)')\n",
    "plt.ylabel('Frequency')\n",
    "\n",
    "plt.tight_layout()\n",
    "plt.show()"
   ]
  },
  {
   "cell_type": "markdown",
   "id": "7d95c67d-9485-4b49-a30f-96a73c13606b",
   "metadata": {},
   "source": [
    "### observation\n",
    "\n",
    "- The data shows a right-skewed distribution with many outliers above the upper whisker.\n",
    "- Most values are concentrated in the lower range.\n",
    "- The logarithmic transformation reduces skewness and compresses extreme values, resulting in a more symmetric distribution with fewer visible outliers."
   ]
  },
  {
   "cell_type": "code",
   "execution_count": null,
   "id": "70309eb0-c706-415d-bbbb-dc5996806231",
   "metadata": {},
   "outputs": [],
   "source": [
    "skewness = np.log1p(df['locality_rank']).skew()\n",
    "kurtosis = np.log1p(df['locality_rank']).kurt()\n",
    "\n",
    "print(f\"skewness : {skewness}\")\n",
    "print(f\"kurtosis : {kurtosis}\")"
   ]
  },
  {
   "cell_type": "markdown",
   "id": "e92bed15-91b9-4ea6-8302-0fa7945ed74e",
   "metadata": {},
   "source": [
    "### observation\n",
    "\n",
    "- A skewness value close to 0 indicates that the data is nearly symmetric.\n",
    "- The slight negative value suggests a minor left-skewed distribution.\n",
    "- A negative kurtosis indicates that the distribution is flatter than a normal distribution (platykurtic), with lighter tails and fewer extreme outliers."
   ]
  },
  {
   "cell_type": "markdown",
   "id": "aad067c9-62e9-4c4b-b6a9-77cc8b534e63",
   "metadata": {},
   "source": [
    "# locality_url_rating"
   ]
  },
  {
   "cell_type": "code",
   "execution_count": null,
   "id": "ff0e0a7d-f021-4d20-9af3-a13396910c44",
   "metadata": {},
   "outputs": [],
   "source": [
    "df['locality_rating'].head()"
   ]
  },
  {
   "cell_type": "code",
   "execution_count": null,
   "id": "2661cfad-ee4a-413b-97b6-a2b7b9d26fe5",
   "metadata": {},
   "outputs": [],
   "source": [
    "df['locality_rating'].isna().sum()"
   ]
  },
  {
   "cell_type": "code",
   "execution_count": null,
   "id": "a219dc76-8c79-4742-b4ff-b989a1869742",
   "metadata": {},
   "outputs": [],
   "source": [
    "df['locality_rating'].value_counts()"
   ]
  },
  {
   "cell_type": "code",
   "execution_count": null,
   "id": "493af4c7-6ad7-48a9-bfbf-5f1d3c3c3bb1",
   "metadata": {},
   "outputs": [],
   "source": [
    "df['locality_rating'].describe()"
   ]
  },
  {
   "cell_type": "markdown",
   "id": "3360a9c5-ad5a-4069-9bbb-3ebfc0f3134f",
   "metadata": {
    "editable": true,
    "slideshow": {
     "slide_type": ""
    },
    "tags": []
   },
   "source": [
    "### observation\n",
    "- 467 missing values\n",
    "- Min locality_rating is 0, max is 5.  \n",
    "- Mean locality_rating is 3.75, median is 4\n",
    "- 25% of locality_rating have rating ≤ 3.90; 50% ≤ 4.0.  \n",
    "- Standard deviation is 1.06; indicating moderate to high variability in ratings.\n",
    "- Data covers 0–5 continuous rating out of 5 rating.  "
   ]
  },
  {
   "cell_type": "code",
   "execution_count": null,
   "id": "37b355e3-514f-4cdc-be97-2ca06960205a",
   "metadata": {
    "editable": true,
    "slideshow": {
     "slide_type": ""
    },
    "tags": []
   },
   "outputs": [],
   "source": [
    "df['locality_rating'].value_counts().sort_index().plot(kind='bar')"
   ]
  },
  {
   "cell_type": "markdown",
   "id": "85c4bdd1-e300-45d5-b466-a190f0887011",
   "metadata": {},
   "source": [
    "### observation\n",
    "\n",
    "- The ratings are concentrated between 3.8 and 4.3, with a peak at 4.0-4.1.\n",
    "- The distribution is slightly left-skewed, indicating more high ratings than low.\n",
    "- Outliers at extremes (e.g., 0.0, 1.0, >4.8) are minimal and infrequent."
   ]
  },
  {
   "cell_type": "code",
   "execution_count": null,
   "id": "170be0e4-9da3-47aa-851f-47de7deca96b",
   "metadata": {
    "editable": true,
    "slideshow": {
     "slide_type": ""
    },
    "tags": []
   },
   "outputs": [],
   "source": [
    "sns.boxplot(df['locality_rating'],color='lightgreen')\n",
    "plt.grid()"
   ]
  },
  {
   "cell_type": "code",
   "execution_count": null,
   "id": "e142a17b-5036-459f-ae23-be6e93c58a9b",
   "metadata": {
    "editable": true,
    "slideshow": {
     "slide_type": ""
    },
    "tags": []
   },
   "outputs": [],
   "source": [
    "# Drop NaN values from the column\n",
    "cleaned_data_locality_rating = df['locality_rating'].dropna()\n",
    "\n",
    "# Calculate Q1 and Q3\n",
    "Q1 = np.percentile(cleaned_data_locality_rating, 25)\n",
    "Q3 = np.percentile(cleaned_data_locality_rating, 75)\n",
    "\n",
    "# Calculate IQR\n",
    "IQR = Q3 - Q1\n",
    "\n",
    "# Calculate lower and upper whiskers\n",
    "lower_whisker = Q1 - 1.5 * IQR\n",
    "upper_whisker = Q3 + 1.5 * IQR\n",
    "\n",
    "# Print results\n",
    "print(f\"Q1 (25th percentile): {Q1}\")\n",
    "print(f\"Q3 (75th percentile): {Q3}\")\n",
    "print(f\"IQR: {IQR}\")\n",
    "\n",
    "print(\"Lower Whisker:\", lower_whisker)\n",
    "print(\"Upper Whisker:\", upper_whisker)\n"
   ]
  },
  {
   "cell_type": "code",
   "execution_count": null,
   "id": "aee5b431-da1e-47e6-bb75-5e4f074a97c5",
   "metadata": {
    "editable": true,
    "slideshow": {
     "slide_type": ""
    },
    "tags": []
   },
   "outputs": [],
   "source": [
    "# Quantile Analysis\n",
    "quantiles = df['locality_rating'].quantile([0.30,0.95])\n",
    "\n",
    "quantiles"
   ]
  },
  {
   "cell_type": "markdown",
   "id": "d9680290-c698-4db4-8812-76eb3d779006",
   "metadata": {
    "editable": true,
    "slideshow": {
     "slide_type": ""
    },
    "tags": []
   },
   "source": [
    "### observation \n",
    "\n",
    "- the iqr green box lies between 3.90 and 4(50% data)\n",
    "- the median rank is 4.00\n",
    "- rating below 3.5 and above 4.65 are outliers\n",
    "- iqr 0.3 indicate middle 50% of the ratings are tightly clustered, suggesting low variability in this range.\n",
    "- The distribution is left-skewed, as slightly longer whisker from the lower side"
   ]
  },
  {
   "cell_type": "code",
   "execution_count": null,
   "id": "d341c75f-3cd3-4642-8277-757dfaa4e04e",
   "metadata": {
    "editable": true,
    "slideshow": {
     "slide_type": ""
    },
    "tags": []
   },
   "outputs": [],
   "source": [
    "#skewness and kurtosis\n",
    "skewness = df['locality_rating'].skew()\n",
    "kurtosis = df['locality_rating'].kurt()\n",
    "\n",
    "print(f\"skewness : {skewness}\")\n",
    "print(f\"kurtosis : {kurtosis}\")"
   ]
  },
  {
   "cell_type": "markdown",
   "id": "0c5447f8-da27-4471-8f46-1e2e4e2dacf2",
   "metadata": {},
   "source": [
    "### observation\n",
    "- -3.03 negative skewness indicates strong left-skewed distribution caused by small number of low ratings pulling the tail to the left\n",
    "- kurtosis > 3 leptokurtic distribution. This reflects a sharp peak and heavy tails, meaning there are more extreme values (outliers) compared to a normal distribution.\n",
    "- try to apply transformations like reglection transform ,power transform,Box-Cox or Yeo-Johnson Transform"
   ]
  },
  {
   "cell_type": "markdown",
   "id": "59101120-458e-4a7c-b642-92179f64bc13",
   "metadata": {},
   "source": [
    "# construction"
   ]
  },
  {
   "cell_type": "code",
   "execution_count": null,
   "id": "bff58ead-bbab-422f-a7a6-4c546ff21744",
   "metadata": {},
   "outputs": [],
   "source": [
    "df['construction'].head()"
   ]
  },
  {
   "cell_type": "code",
   "execution_count": null,
   "id": "25009c86-d2e6-4518-9afe-c035c1138c4a",
   "metadata": {},
   "outputs": [],
   "source": [
    "df['construction'].isna().sum()"
   ]
  },
  {
   "cell_type": "code",
   "execution_count": null,
   "id": "edc2bb17-ef33-4c73-adef-8971a60344ef",
   "metadata": {},
   "outputs": [],
   "source": [
    "df['construction'].value_counts()"
   ]
  },
  {
   "cell_type": "code",
   "execution_count": null,
   "id": "4cdaf2c1-45c9-4ea2-80ab-f46c60e3556f",
   "metadata": {},
   "outputs": [],
   "source": [
    "eda_helper_functions.cat_univar_plots(df, \"construction\")"
   ]
  },
  {
   "cell_type": "code",
   "execution_count": null,
   "id": "40f8e496-68b1-41b2-a5f8-1ff8dd72cc86",
   "metadata": {},
   "outputs": [],
   "source": [
    "df['construction'].notna().sum()"
   ]
  },
  {
   "cell_type": "code",
   "execution_count": null,
   "id": "71a07f4f-4603-467a-b4d0-727be70688b9",
   "metadata": {},
   "outputs": [],
   "source": [
    "df[df['construction'] == 'less than 5 years'].shape"
   ]
  },
  {
   "cell_type": "code",
   "execution_count": null,
   "id": "12131df6-7caa-4f6e-b5ec-fffa4c808e63",
   "metadata": {},
   "outputs": [],
   "source": [
    "df[df['construction'] == 'under construction'].shape"
   ]
  },
  {
   "cell_type": "code",
   "execution_count": null,
   "id": "5357d1be-886d-41eb-92b1-42036f562745",
   "metadata": {},
   "outputs": [],
   "source": [
    "df[df['construction'] == 'new construction'].shape"
   ]
  },
  {
   "cell_type": "code",
   "execution_count": null,
   "id": "ab87be60-8b65-4801-a165-e7d9edefab6d",
   "metadata": {},
   "outputs": [],
   "source": [
    "df[df['construction'] == '5 to 10 years'].shape[0] + df[df['construction'] == '10 to 15 years'].shape[0] +df[df['construction'] == 'above 20 years'].shape[0] + df[df['construction'] == '15 to 20 years'].shape[0]"
   ]
  },
  {
   "cell_type": "markdown",
   "id": "d653c70e-41ac-47bf-86c3-73111c352082",
   "metadata": {},
   "source": [
    "### observation \n",
    "- 1063 missing values\n",
    "- 3302 properties are older more than 5 years\n",
    "- 1508 properties older less than 5 years\n",
    "- 4558 are under construction properties\n",
    "- 1467 are new construction properties\n",
    "- 42% properties are under construction and all other are completed properties\n",
    "- make above 10 years as separate category "
   ]
  },
  {
   "cell_type": "markdown",
   "id": "1f2cfef3-2ba6-461c-8531-d88ce6b81aa4",
   "metadata": {},
   "source": [
    "# overlooking "
   ]
  },
  {
   "cell_type": "code",
   "execution_count": null,
   "id": "09e3d94c-eaeb-429e-9a7f-a12fb4162fe7",
   "metadata": {},
   "outputs": [],
   "source": [
    "df['overlooking'].head()"
   ]
  },
  {
   "cell_type": "code",
   "execution_count": null,
   "id": "86844701-88e8-4b3c-ae46-cfb3be7ca9bc",
   "metadata": {
    "editable": true,
    "slideshow": {
     "slide_type": ""
    },
    "tags": []
   },
   "outputs": [],
   "source": [
    "df['overlooking'].isna().sum()"
   ]
  },
  {
   "cell_type": "code",
   "execution_count": null,
   "id": "5192a4c1-022b-4747-b7af-90f1dd77bf9c",
   "metadata": {},
   "outputs": [],
   "source": [
    "df['overlooking'].value_counts()"
   ]
  },
  {
   "cell_type": "code",
   "execution_count": null,
   "id": "ad6407d4-2f7b-429c-87d3-41393e6aeb01",
   "metadata": {},
   "outputs": [],
   "source": [
    "# Remove the phrase 'not available' from the 'overlooking' column\n",
    "df['overlooking'] = df['overlooking'].str.replace(',? *not available', '', regex=True)"
   ]
  },
  {
   "cell_type": "code",
   "execution_count": null,
   "id": "1ef45697-2e75-4897-9294-dc81604b2e83",
   "metadata": {},
   "outputs": [],
   "source": [
    "df['overlooking'].value_counts().sort_index().plot(kind='bar')"
   ]
  },
  {
   "cell_type": "code",
   "execution_count": null,
   "id": "6d3d302d-fc86-465b-af68-2d056039ad2f",
   "metadata": {},
   "outputs": [],
   "source": [
    "df['overlooking'].value_counts(normalize=True).head(7).plot(kind='pie',autopct='%0.2f%%')"
   ]
  },
  {
   "cell_type": "markdown",
   "id": "f20a67f6-4137-4e9f-b85c-3fef516a1855",
   "metadata": {},
   "source": [
    "### observation\n",
    "- 3969 missing values\n",
    "- main road and garden/park are the most common \"overlooking\" categories\n",
    "- make 5th category as other(pool) which can have this combination garden/park, pool or main road, pool"
   ]
  },
  {
   "cell_type": "markdown",
   "id": "906ccec1-e872-4618-9ce3-81e05f210ae3",
   "metadata": {},
   "source": [
    "# ownership"
   ]
  },
  {
   "cell_type": "code",
   "execution_count": null,
   "id": "292c9898-e2be-44a8-9752-bbfc668cce68",
   "metadata": {},
   "outputs": [],
   "source": [
    "df['ownership'].head()"
   ]
  },
  {
   "cell_type": "code",
   "execution_count": null,
   "id": "3587d8cc-2f91-4721-aaf2-5e82cb257a73",
   "metadata": {},
   "outputs": [],
   "source": [
    "df['ownership'].value_counts()"
   ]
  },
  {
   "cell_type": "code",
   "execution_count": null,
   "id": "ab9ad09e-31db-4030-9c89-6e9998c13970",
   "metadata": {},
   "outputs": [],
   "source": [
    "df['ownership'].isna().sum()"
   ]
  },
  {
   "cell_type": "code",
   "execution_count": null,
   "id": "67d26dc1-e4ae-4dab-8cfd-50bed8cbeb45",
   "metadata": {},
   "outputs": [],
   "source": [
    "df['ownership'].value_counts().sort_index().plot(kind='bar')"
   ]
  },
  {
   "cell_type": "code",
   "execution_count": null,
   "id": "7f63944c-ca3d-4872-867c-bbeb3f631c72",
   "metadata": {},
   "outputs": [],
   "source": [
    "df['ownership'].value_counts(normalize=True).plot(kind='pie',autopct='%0.2f%%')"
   ]
  },
  {
   "cell_type": "markdown",
   "id": "d69a2af3-295e-45eb-be53-6f307f92c1fb",
   "metadata": {},
   "source": [
    "- freehold - owner has complete ownership of both the building and the land it is built on.\n",
    "- leasehold - buyer owns the building but not the land it is built on.the land is leased from a landlord (often referred to as the freeholder) for a specific period, typically ranging from 30 to 99 years or more.\n",
    "- Co-operative society in property ownership refers to a housing arrangement where the property (e.g., an apartment building) is owned and managed by a co-operative society\n",
    "- Power of Attorney (PoA) in property allows a person (the principal) to authorize another (the agent) to manage, sell, lease, or transfer property on their behalf, without granting ownership."
   ]
  },
  {
   "cell_type": "markdown",
   "id": "9f53e758-e2f5-41c7-bd5d-c35bde565074",
   "metadata": {},
   "source": [
    "### observation\n",
    "\n",
    "- 3611 missing values\n",
    "- most of the properties are from freehold properties 71.45% followed by the co-op society "
   ]
  },
  {
   "cell_type": "markdown",
   "id": "78ba3b78-a6a5-4fa2-bb08-6230fd6e08ae",
   "metadata": {},
   "source": [
    "# extra_rooms"
   ]
  },
  {
   "cell_type": "code",
   "execution_count": null,
   "id": "69c16340-de96-494f-a23a-9aa40514db0e",
   "metadata": {},
   "outputs": [],
   "source": [
    "df['extra_rooms'].head()"
   ]
  },
  {
   "cell_type": "code",
   "execution_count": null,
   "id": "90db324f-f8ee-4231-9d27-a16127af3f68",
   "metadata": {},
   "outputs": [],
   "source": [
    "df['extra_rooms'].value_counts()"
   ]
  },
  {
   "cell_type": "code",
   "execution_count": null,
   "id": "fff2f741-1ecb-45f6-9a08-561b6aaa4ff4",
   "metadata": {},
   "outputs": [],
   "source": [
    "df['extra_rooms'].isna().sum()"
   ]
  },
  {
   "cell_type": "code",
   "execution_count": null,
   "id": "c2812f64-32d5-497e-aec8-a1cad4e60b83",
   "metadata": {},
   "outputs": [],
   "source": [
    "df['extra_rooms'].value_counts().sort_index().plot(kind='bar')"
   ]
  },
  {
   "cell_type": "code",
   "execution_count": null,
   "id": "cedf41a7-9b4a-4ad9-a2c2-f0c461c227e6",
   "metadata": {},
   "outputs": [],
   "source": [
    "df['extra_rooms'].value_counts(normalize=True).plot(kind='pie',autopct='%0.2f%%')"
   ]
  },
  {
   "cell_type": "code",
   "execution_count": null,
   "id": "859ed28f-8de2-4866-9441-aa5abaa51c4d",
   "metadata": {},
   "outputs": [],
   "source": [
    "import pandas as pd\n",
    "\n",
    "# Sample data\n",
    "data = {\n",
    "    'rooms': [\n",
    "        'none of these', 'store', 'puja', 'puja, servant, store, study', 'study',\n",
    "        'servant', 'puja, store', 'puja, store, study', 'store, study', 'servant, store',\n",
    "        'puja, study', 'puja, servant', 'puja, servant, store', 'puja, servant, study',\n",
    "        'servant, store, study', 'servant, study'\n",
    "    ],\n",
    "    'count': [\n",
    "        3005, 1112, 743, 316, 309, 296, 229, 132, 89, 86, 77, 63, 56, 32, 29, 24\n",
    "    ]\n",
    "}\n",
    "\n",
    "df1 = pd.DataFrame(data)\n",
    "\n",
    "# Splitting each 'rooms' entry into individual rooms and summing the counts\n",
    "room_counts = {}\n",
    "\n",
    "for index, row in df1.iterrows():\n",
    "    rooms = row['rooms'].split(', ')\n",
    "    count = row['count']\n",
    "    \n",
    "    for room in rooms:\n",
    "        if room not in room_counts:\n",
    "            room_counts[room] = 0\n",
    "        room_counts[room] += count\n",
    "\n",
    "# Displaying the final counts for each room\n",
    "room_counts_df = pd.DataFrame(list(room_counts.items()), columns=['room', 'total_count']).sort_values(by='total_count', ascending=False)\n",
    "print(room_counts_df)\n"
   ]
  },
  {
   "cell_type": "markdown",
   "id": "b669aa60-f266-4dbb-80ae-f2de6c0646b2",
   "metadata": {},
   "source": [
    "### observation\n",
    "- 5300 missing values\n",
    "- 45.54% properties dont have extra rooms\n",
    "- most properties have store room followed by puja,study,servant\n",
    "- feature engineering for this column eg: puja,servant so consider this as 2 rooms "
   ]
  },
  {
   "cell_type": "markdown",
   "id": "f80d2ed9-6799-4219-a13b-91ee99ec79c3",
   "metadata": {},
   "source": [
    "# builder"
   ]
  },
  {
   "cell_type": "code",
   "execution_count": null,
   "id": "960ce2dc-5235-4d96-b814-a84d76e44f33",
   "metadata": {},
   "outputs": [],
   "source": [
    "df['builder'].head()"
   ]
  },
  {
   "cell_type": "code",
   "execution_count": null,
   "id": "e0597080-64f5-42d5-aaa0-de1c79b5ad32",
   "metadata": {},
   "outputs": [],
   "source": [
    "df['builder'].value_counts()"
   ]
  },
  {
   "cell_type": "code",
   "execution_count": null,
   "id": "1c2bcae8-d603-446d-a06f-95fae341fcee",
   "metadata": {},
   "outputs": [],
   "source": [
    "df['builder'].value_counts().shape"
   ]
  },
  {
   "cell_type": "code",
   "execution_count": null,
   "id": "b957653b-70c7-45fd-902a-acf69e217f24",
   "metadata": {},
   "outputs": [],
   "source": [
    "df['builder'].isna().sum()"
   ]
  },
  {
   "cell_type": "code",
   "execution_count": null,
   "id": "5472a801-64fd-4454-b680-35b6a977cb7f",
   "metadata": {},
   "outputs": [],
   "source": [
    "#Let's apply the cumulative sum to check how much data comes from how many project_name.\n",
    "df['builder'].value_counts(normalize = True).cumsum()"
   ]
  },
  {
   "cell_type": "code",
   "execution_count": null,
   "id": "a098a5bf-393f-49c2-9618-b5aa76391d2b",
   "metadata": {},
   "outputs": [],
   "source": [
    "df['builder'].value_counts(normalize = True).cumsum().head(49)"
   ]
  },
  {
   "cell_type": "code",
   "execution_count": null,
   "id": "30117ac7-408b-4d1b-89f1-475005118aa3",
   "metadata": {},
   "outputs": [],
   "source": [
    "project_counts = df['builder'].value_counts()\n",
    "\n",
    "# Frequency distribution for societies\n",
    "frequency_bins = {\n",
    "    \"High (50-100)\": int(((project_counts >= 50) & (project_counts <= 100)).sum()),\n",
    "    \"Average (10-49)\": int(((project_counts >= 10) & (project_counts < 50)).sum()),\n",
    "    \"Low (2-9)\": int(((project_counts > 1) & (project_counts < 10)).sum()),\n",
    "    \"Very Low (1)\": int((project_counts == 1).sum())\n",
    "}\n",
    "frequency_bins"
   ]
  },
  {
   "cell_type": "code",
   "execution_count": null,
   "id": "afa9157e-e85c-4160-ac56-a363c3f2c7c5",
   "metadata": {},
   "outputs": [],
   "source": [
    "# top 10 socities\n",
    "df['builder'].value_counts().head(11).plot(kind='bar')"
   ]
  },
  {
   "cell_type": "markdown",
   "id": "29cd8cff-e4a7-4625-a21e-6126b63fa57d",
   "metadata": {},
   "source": [
    "### Observation\n",
    "- High cardinality feature \n",
    "- total 1146 unique builders   \n",
    "- The top 49 builders have 50 percent of the projects and the rest 50 percent of the properties come under the remaining 1097 builders\n",
    "- while doing the train test split ensure that the train-test split maintains the same proportion of high-volume and low-volume projects to prevent bias during training and testing. i.e do statified sampling\n",
    "  - High (50-100): 12 builders have done 50 to 100 projects \n",
    "  - Average (10-49): 124 builders have done 10 to 149 projects \n",
    "  - Low (2-9): 499 builders have done 2 to 9 projects \n",
    "  - Very Low (1): 501 builders have done only 1 project\n",
    "- Total 4281 missing values "
   ]
  },
  {
   "cell_type": "markdown",
   "id": "c1dd0f2f-329c-4180-bca7-21b645dc85c6",
   "metadata": {},
   "source": [
    "# furnish "
   ]
  },
  {
   "cell_type": "code",
   "execution_count": null,
   "id": "32a2e223-953d-41fb-b3f2-38404f8ff6ea",
   "metadata": {},
   "outputs": [],
   "source": [
    "df['furnish'].head()"
   ]
  },
  {
   "cell_type": "code",
   "execution_count": null,
   "id": "f6249d96-c1b6-472d-9174-88e8d9fff2d4",
   "metadata": {},
   "outputs": [],
   "source": [
    "df['furnish'].value_counts()"
   ]
  },
  {
   "cell_type": "code",
   "execution_count": null,
   "id": "e6c3e95a-4386-4118-898c-9a917f8d2df0",
   "metadata": {},
   "outputs": [],
   "source": [
    "df['furnish'].isna().sum()"
   ]
  },
  {
   "cell_type": "code",
   "execution_count": null,
   "id": "3ccb2fda-e7f9-409f-aa40-11dae4c403d4",
   "metadata": {},
   "outputs": [],
   "source": [
    "df['furnish'].value_counts().sort_index().plot(kind='bar')"
   ]
  },
  {
   "cell_type": "code",
   "execution_count": null,
   "id": "52a12296-4423-44f7-8efe-26dd7778db4a",
   "metadata": {},
   "outputs": [],
   "source": [
    "df['furnish'].value_counts(normalize=True).plot(kind='pie',autopct='%0.2f%%')"
   ]
  },
  {
   "cell_type": "markdown",
   "id": "007da0a4-7390-4d35-b6f7-5c374c0cb96b",
   "metadata": {},
   "source": [
    "### observation \n",
    "- 39 missing values\n",
    "- unfurnished(63.10%) properties are more followed by semi-furnished(26.99%) and furnished(9.91%)"
   ]
  },
  {
   "cell_type": "markdown",
   "id": "19b5c40e-fdc3-4ba1-a9ee-cde0fd5630b8",
   "metadata": {},
   "source": [
    "# area"
   ]
  },
  {
   "cell_type": "code",
   "execution_count": null,
   "id": "1095c608-1750-4e38-8f99-4f24c7991c2c",
   "metadata": {},
   "outputs": [],
   "source": [
    "df['area'].head()"
   ]
  },
  {
   "cell_type": "code",
   "execution_count": null,
   "id": "b7a87f68-4c54-478a-9385-d9562b5c80a1",
   "metadata": {},
   "outputs": [],
   "source": [
    "df['area'].isna().sum()"
   ]
  },
  {
   "cell_type": "code",
   "execution_count": null,
   "id": "adb07a93-12ce-4466-8d44-bd009c7a11de",
   "metadata": {},
   "outputs": [],
   "source": [
    "df['area'].value_counts()"
   ]
  },
  {
   "cell_type": "code",
   "execution_count": null,
   "id": "3258c8b8-aabf-455e-aaa3-086e5c55d2f3",
   "metadata": {},
   "outputs": [],
   "source": [
    "df['area'].describe()"
   ]
  },
  {
   "cell_type": "markdown",
   "id": "b05afc81-04e7-4f6a-a181-e448fd3e1c5e",
   "metadata": {},
   "source": [
    "### observation \n",
    "- 5 missing values\n",
    "- min area is 100 and max is 40852\n",
    "- mean area is 879.45 and median is 730\n",
    "- 75% properties have area less than 1036 and max area is 40852\n",
    "- Standard deviation is 697.36; high variability. "
   ]
  },
  {
   "cell_type": "code",
   "execution_count": null,
   "id": "0426e997-9057-493d-a0aa-ece95b641f0a",
   "metadata": {},
   "outputs": [],
   "source": [
    "sns.histplot(df['area'],kde=True,bins=50)"
   ]
  },
  {
   "cell_type": "markdown",
   "id": "38b652c8-0dd4-4eab-a419-b51427d37573",
   "metadata": {},
   "source": [
    "### observation \n",
    "- The distribution is right-skewed, with most properties having lower area.\n",
    "- A significant number of localities have area close to 1–1500."
   ]
  },
  {
   "cell_type": "code",
   "execution_count": null,
   "id": "c1d77d4f-c8d4-4aee-805d-3196e73d1b3b",
   "metadata": {},
   "outputs": [],
   "source": [
    "sns.boxplot(df['area'],color='lightgreen')\n",
    "plt.grid()"
   ]
  },
  {
   "cell_type": "markdown",
   "id": "cdb11bad-5b5e-4521-a18c-bc41b5f1789a",
   "metadata": {},
   "source": [
    "### observation \n",
    "- only 1 outlier make the distribution heavily right-skewed\n",
    "- the IOR(green box) lies between area 540 to 1036\n",
    "- the median area is 730\n",
    "- area above 1780 are outliers, with few reaching the max area 40852\n",
    "- The distribution is right-skewed, as evident from the longer whisker on the upper side.\n",
    "- Most data points are concentrated in the lower area range (1–1500)."
   ]
  },
  {
   "cell_type": "code",
   "execution_count": null,
   "id": "8be63eb4-7cc2-4163-bf0d-a8c250bec325",
   "metadata": {},
   "outputs": [],
   "source": [
    "#skewness and kurtosis\n",
    "skewness = df['area'].skew()\n",
    "kurtosis = df['area'].kurt()\n",
    "\n",
    "print(f\"skewness : {skewness}\")\n",
    "print(f\"kurtosis : {kurtosis}\")"
   ]
  },
  {
   "cell_type": "markdown",
   "id": "b74c7414-fe1e-4736-b6e9-13bbad67a760",
   "metadata": {},
   "source": [
    "### observation \n",
    "- Skewness (18.55):  \n",
    "  - Highly positively skewed.  \n",
    "  - Indicates extreme values (outliers) on the higher end.  \n",
    "- Kurtosis (927.63):  \n",
    "  - Extremely high kurtosis.  \n",
    "  - Suggests heavy tails with many extreme outliers.\n",
    "  - leptokurtic distribution (high peak and heavy tails).\n",
    "- Next Steps:  \n",
    "  - Apply transformations (e.g., log or Box-Cox) to reduce skewness.  \n",
    "  - Investigate and handle outliers to improve data quality.  "
   ]
  },
  {
   "cell_type": "code",
   "execution_count": null,
   "id": "3eb0c8bd-a40b-40bc-8e6f-8995facbd47a",
   "metadata": {},
   "outputs": [],
   "source": [
    "# Drop NaN values from the column\n",
    "cleaned_data_area = df['area'].dropna()\n",
    "\n",
    "# Calculate Q1 and Q3\n",
    "Q1 = np.percentile(cleaned_data_area, 25)\n",
    "Q3 = np.percentile(cleaned_data_area, 75)\n",
    "\n",
    "# Calculate IQR\n",
    "IQR = Q3 - Q1\n",
    "\n",
    "# Calculate lower and upper whiskers\n",
    "lower_whisker = Q1 - 1.5 * IQR\n",
    "upper_whisker = Q3 + 1.5 * IQR\n",
    "\n",
    "# Print results\n",
    "print(f\"Q1 (25th percentile): {Q1}\")\n",
    "print(f\"Q3 (75th percentile): {Q3}\")\n",
    "print(f\"IQR: {IQR}\")\n",
    "\n",
    "print(\"Lower Whisker:\", lower_whisker)\n",
    "print(\"Upper Whisker:\", upper_whisker)\n"
   ]
  },
  {
   "cell_type": "code",
   "execution_count": null,
   "id": "410a3c6b-13c9-438d-b0cf-991e377b612b",
   "metadata": {},
   "outputs": [],
   "source": [
    "# Quantile Analysis\n",
    "quantiles = df['area'].quantile([0.75,0.90,0.95,0.98,0.99,1.00])\n",
    "\n",
    "quantiles"
   ]
  },
  {
   "cell_type": "markdown",
   "id": "975b3b4d-808e-4a87-a18b-494a4377f23b",
   "metadata": {},
   "source": [
    "### observation \n",
    "- large jump between the 99th and 100th percentiles suggests extreme outliers in the data."
   ]
  },
  {
   "cell_type": "code",
   "execution_count": null,
   "id": "4e3e2409-dbd3-44ed-a98a-212314679d52",
   "metadata": {},
   "outputs": [],
   "source": [
    "# Distribution plot with log transformation\n",
    "sns.histplot(np.log1p(df['area']), kde=True, bins=50, color='lightgreen')\n",
    "plt.title('Distribution of area (Log Transformed)')\n",
    "plt.xlabel('area')\n",
    "plt.ylabel('Frequency')\n",
    "\n",
    "plt.tight_layout()\n",
    "plt.show()"
   ]
  },
  {
   "cell_type": "markdown",
   "id": "17951046-b3e7-4ade-8f60-e5a7c61f6709",
   "metadata": {},
   "source": [
    "### observation\n",
    "- The distribution is roughly bell-shaped, centered around log-transformed values of 6.5–7.\n",
    "- Most data points lie between 5.5 and 8, with a slight right-skew.\n",
    "- The highest frequency bin has around 1400 observations.\n",
    "- The KDE curve fits the histogram well, indicating a smooth distribution.\n",
    "- A few outliers are present in the right tail (log-transformed values > 9)."
   ]
  },
  {
   "cell_type": "code",
   "execution_count": null,
   "id": "ffa92650-4cf8-4dd7-a2a5-ee3db4999d12",
   "metadata": {},
   "outputs": [],
   "source": [
    "plt.figure(figsize=(15, 6))\n",
    "\n",
    "# Distribution plot without log transformation\n",
    "plt.subplot(1, 2, 1)\n",
    "sns.boxplot(df['area'], color='skyblue')\n",
    "plt.title('Distribution of area (Original)')\n",
    "plt.xlabel('area')\n",
    "plt.ylabel('Frequency')\n",
    "\n",
    "# Distribution plot with log transformation\n",
    "plt.subplot(1, 2, 2)\n",
    "sns.boxplot(np.log1p(df['area']), color='lightgreen')\n",
    "plt.title('Distribution of area (Log Transformed)')\n",
    "plt.xlabel('Log(area)')\n",
    "plt.ylabel('Frequency')\n",
    "\n",
    "plt.tight_layout()\n",
    "plt.show()"
   ]
  },
  {
   "cell_type": "markdown",
   "id": "4e6b1c6b-f141-4c1a-a13f-edf6bf92801f",
   "metadata": {},
   "source": [
    "### observation\n",
    "\n",
    "- Original Data:\n",
    "  - The area data is highly skewed with extreme outliers visible at the upper end.\n",
    "  - Most values are clustered near the lower range.\n",
    "- Log-Transformed Data:\n",
    "  - The log transformation reduces skewness, condensing the range of values.\n",
    "  - Outliers are still present but are less extreme and more interpretable.\n",
    "  - The interquartile range (IQR) is more centralized, making the distribution more symmetric."
   ]
  },
  {
   "cell_type": "code",
   "execution_count": null,
   "id": "8b9fa72b-f4ff-42ae-837f-409993f0e599",
   "metadata": {},
   "outputs": [],
   "source": [
    "skewness = np.log1p(df['area']).skew()\n",
    "kurtosis = np.log1p(df['area']).kurt()\n",
    "\n",
    "print(f\"skewness : {skewness}\")\n",
    "print(f\"kurtosis : {kurtosis}\")"
   ]
  },
  {
   "cell_type": "markdown",
   "id": "faeeeb85-62fc-4305-a4cd-813c36e54cf7",
   "metadata": {},
   "source": [
    "### observation\n",
    "- after log transformation skewness and kurtosis also get reduced\n",
    "- A skewness value close to 0 indicates that the data is nearly symmetric.\n",
    "- Close to normal distribution kurtosis less than 3, showing fewer extreme outliers"
   ]
  },
  {
   "cell_type": "markdown",
   "id": "83d8afd9-9a7c-4e21-909a-03af393253f2",
   "metadata": {},
   "source": [
    "# property_type"
   ]
  },
  {
   "cell_type": "code",
   "execution_count": null,
   "id": "a6797bb5-df0a-48cc-a18f-5edf951ee6d3",
   "metadata": {},
   "outputs": [],
   "source": [
    "df['property_type'].head()"
   ]
  },
  {
   "cell_type": "code",
   "execution_count": null,
   "id": "fb17d8a5-986d-4d3e-a67a-af8b6a170bda",
   "metadata": {},
   "outputs": [],
   "source": [
    "df['property_type'].isna().sum()"
   ]
  },
  {
   "cell_type": "code",
   "execution_count": null,
   "id": "dafc0cd5-1ab9-4ad9-a2cb-bf0d642466be",
   "metadata": {},
   "outputs": [],
   "source": [
    "df['property_type'].value_counts()"
   ]
  },
  {
   "cell_type": "code",
   "execution_count": null,
   "id": "ba46483b-6270-4bc2-9c16-a989e70c03f2",
   "metadata": {},
   "outputs": [],
   "source": [
    "df['property_type'].value_counts().sort_index().plot(kind='bar')"
   ]
  },
  {
   "cell_type": "code",
   "execution_count": null,
   "id": "efa45406-5c5a-4146-a741-6e95fa7a3226",
   "metadata": {},
   "outputs": [],
   "source": [
    "df['property_type'].value_counts(normalize=True).plot(kind='pie',autopct='%0.2f%%')"
   ]
  },
  {
   "cell_type": "markdown",
   "id": "b3b5d2fa-68c1-446a-9407-c239f7ffd1be",
   "metadata": {},
   "source": [
    "### observation \n",
    "- 3 missing values \n",
    "- 56.50% data is resale\n",
    "- 43.43% data is new property\n",
    "- and remaining 0.069% is other,nan and rent properties "
   ]
  },
  {
   "cell_type": "markdown",
   "id": "7467a284-05f2-45c5-9190-cd09a1646da6",
   "metadata": {},
   "source": [
    "# status"
   ]
  },
  {
   "cell_type": "code",
   "execution_count": null,
   "id": "c8efbbdb-6547-44e7-94d4-208b6581c067",
   "metadata": {},
   "outputs": [],
   "source": [
    "df['status'].head()"
   ]
  },
  {
   "cell_type": "code",
   "execution_count": null,
   "id": "bff57eca-76d1-4e8d-91a4-0ba1f186d43f",
   "metadata": {},
   "outputs": [],
   "source": [
    "df['status'].value_counts()"
   ]
  },
  {
   "cell_type": "code",
   "execution_count": null,
   "id": "255518d0-0adc-41db-a62d-a1b2c7caddae",
   "metadata": {},
   "outputs": [],
   "source": [
    "df['status'].isna().sum()"
   ]
  },
  {
   "cell_type": "code",
   "execution_count": null,
   "id": "f11639e9-3161-47c7-b341-97e1f72b227b",
   "metadata": {},
   "outputs": [],
   "source": [
    "df['status'].value_counts().sort_index().plot(kind='bar')"
   ]
  },
  {
   "cell_type": "code",
   "execution_count": null,
   "id": "ba40850e-43da-41a4-beb8-e0d3dbbe14ae",
   "metadata": {},
   "outputs": [],
   "source": [
    "df['status'].value_counts(normalize=True).plot(kind='pie',autopct='%0.2f%%')"
   ]
  },
  {
   "cell_type": "markdown",
   "id": "f3e51c1a-e245-4455-988f-167087aec82c",
   "metadata": {},
   "source": [
    "### observation \n",
    "- 83 missing values\n",
    "- 61.39% are ready to move properties\n",
    "- 38.58% under construction properties\n",
    "- 0.030 are ongoing,immediatly and nan properties "
   ]
  },
  {
   "cell_type": "markdown",
   "id": "30aa8a1c-6adc-4979-a7d0-105c2949c6dd",
   "metadata": {},
   "source": [
    "# lift "
   ]
  },
  {
   "cell_type": "code",
   "execution_count": null,
   "id": "6082287c-b4b0-4ff2-8f2d-34e95988ad58",
   "metadata": {},
   "outputs": [],
   "source": [
    "df['lift'].head()"
   ]
  },
  {
   "cell_type": "code",
   "execution_count": null,
   "id": "2240db26-f96c-463e-a5b6-b39455d48ded",
   "metadata": {},
   "outputs": [],
   "source": [
    "df['lift'].value_counts()"
   ]
  },
  {
   "cell_type": "code",
   "execution_count": null,
   "id": "7b17d78e-0e5b-4c35-a6db-73e66ef81b9d",
   "metadata": {},
   "outputs": [],
   "source": [
    "df['lift'].isna().sum()"
   ]
  },
  {
   "cell_type": "code",
   "execution_count": null,
   "id": "a983154b-b4d4-4bc8-91ae-008f3e43ed72",
   "metadata": {},
   "outputs": [],
   "source": [
    "df['lift'].value_counts().sort_index().plot(kind='bar')"
   ]
  },
  {
   "cell_type": "code",
   "execution_count": null,
   "id": "4eb96b1b-1dcc-4160-932d-6b341513a0c6",
   "metadata": {},
   "outputs": [],
   "source": [
    "df['lift'].value_counts(normalize=True).plot(kind='pie',autopct='%0.2f%%')"
   ]
  },
  {
   "cell_type": "code",
   "execution_count": null,
   "id": "af7a7209-4a67-41d0-bfc9-260581982f74",
   "metadata": {},
   "outputs": [],
   "source": [
    "df['lift'].value_counts(normalize=True).cumsum()"
   ]
  },
  {
   "cell_type": "markdown",
   "id": "0c7ad802-c24d-45ca-b3f0-b62e459f9409",
   "metadata": {},
   "source": [
    "### observation\n",
    "- 5444 missing values \n",
    "- 36.97% properties have 2 lifts\n",
    "- 84% properties have less than 4 lifts\n",
    "- very few properties have more than 4 lifts\n",
    "- no of lifts are ranges from 1 to 10"
   ]
  },
  {
   "cell_type": "markdown",
   "id": "b8d3ec32-9cf7-4995-b2b2-f751e991313b",
   "metadata": {},
   "source": [
    "# flat_on_floor"
   ]
  },
  {
   "cell_type": "code",
   "execution_count": null,
   "id": "d22846b6-f38c-48ed-9f07-bb32fa3dd8f3",
   "metadata": {},
   "outputs": [],
   "source": [
    "df['flat_on_floor'].head()"
   ]
  },
  {
   "cell_type": "code",
   "execution_count": null,
   "id": "d0d18e11-b619-4b95-a6f6-6c0359ff8604",
   "metadata": {},
   "outputs": [],
   "source": [
    "df['flat_on_floor'].isna().sum()"
   ]
  },
  {
   "cell_type": "code",
   "execution_count": null,
   "id": "8683d40f-cd77-43d4-bd6a-c67487fde9ff",
   "metadata": {},
   "outputs": [],
   "source": [
    "df['flat_on_floor'].value_counts()"
   ]
  },
  {
   "cell_type": "code",
   "execution_count": null,
   "id": "c0832a7b-e731-4904-9802-76ebd0e075c9",
   "metadata": {},
   "outputs": [],
   "source": [
    "df['flat_on_floor'].describe()"
   ]
  },
  {
   "cell_type": "markdown",
   "id": "90a919c7-576e-4c27-b02f-d11cb207f2f3",
   "metadata": {},
   "source": [
    "### observation \n",
    "- 2292 missing values\n",
    "- min is -2 and max is 75(below ground there is -1 and -2 and ground floor is 0 and so on till 75th floor we have properties)\n",
    "- mean is 10.86 and median is 8\n",
    "- 75% properties are on below 15th floor and max is 75\n",
    "- std dev is 10.13; high variability"
   ]
  },
  {
   "cell_type": "code",
   "execution_count": null,
   "id": "cbc5809d-c649-4979-a514-af29e3e888f2",
   "metadata": {},
   "outputs": [],
   "source": [
    "df['flat_on_floor'].value_counts(normalize=True).cumsum()"
   ]
  },
  {
   "cell_type": "markdown",
   "id": "e5bbd1c3-e4ea-479b-9fc6-f55725f98cb3",
   "metadata": {},
   "source": [
    "### observation \n",
    "- 90% properties are on this floor - 0 to 23 and 25 "
   ]
  },
  {
   "cell_type": "code",
   "execution_count": null,
   "id": "0f9534c3-c516-4169-b34a-d02877749c4e",
   "metadata": {},
   "outputs": [],
   "source": [
    "sns.histplot(df['flat_on_floor'],kde=True,bins=50)"
   ]
  },
  {
   "cell_type": "markdown",
   "id": "460d8e00-e78a-4e42-a742-4b13c43fb8b1",
   "metadata": {},
   "source": [
    "### observation \n",
    "- Most flats are concentrated on lower floors (near 0–10).\n",
    "- The distribution is right-skewed, with fewer flats on higher floors.\n",
    "- There is a sharp peak around floor 1, indicating a large number of flats on the first floor.\n",
    "- The data has outliers on higher floors."
   ]
  },
  {
   "cell_type": "code",
   "execution_count": null,
   "id": "ff7a1f6b-d305-4b80-b4b5-4040b2d4ab36",
   "metadata": {},
   "outputs": [],
   "source": [
    "sns.boxplot(df['flat_on_floor'],color='lightgreen')\n",
    "plt.grid()"
   ]
  },
  {
   "cell_type": "markdown",
   "id": "7e3af077-fdcb-471f-8362-359c19745e9f",
   "metadata": {},
   "source": [
    "### Observations:\n",
    "- most flats are located on floors within a range of approximately 0–15.\n",
    "- There are significant outliers above the upper whisker, indicating some flats are on very high floors.\n",
    "- The interquartile range (IQR) is between floor 4 and floor 15.\n",
    "- The median floor level is around 8.\n",
    "- presence of outliers in higher floors."
   ]
  },
  {
   "cell_type": "code",
   "execution_count": null,
   "id": "64dc4220-f73f-49e8-991c-931bc416f79a",
   "metadata": {},
   "outputs": [],
   "source": [
    "#skewness and kurtosis\n",
    "skewness = df['flat_on_floor'].skew()\n",
    "kurtosis = df['flat_on_floor'].kurt()\n",
    "\n",
    "print(f\"skewness : {skewness}\")\n",
    "print(f\"kurtosis : {kurtosis}\")"
   ]
  },
  {
   "cell_type": "markdown",
   "id": "ad9141d7-4718-4638-a7a8-6b6830696803",
   "metadata": {},
   "source": [
    "### Observations:  \n",
    "- Skewness (1.86): The data is moderately right-skewed, indicating a longer tail towards higher floor levels.  \n",
    "- Kurtosis (4.73): The data has higher peakedness compared to a normal distribution, with significant outliers on higher floors.  "
   ]
  },
  {
   "cell_type": "code",
   "execution_count": null,
   "id": "391a288a-b9fd-4023-bc61-f0019d62e7eb",
   "metadata": {},
   "outputs": [],
   "source": [
    "# Drop NaN values from the column\n",
    "cleaned_data_flat_on_floor = df['flat_on_floor'].dropna()\n",
    "\n",
    "# Calculate Q1 and Q3\n",
    "Q1 = np.percentile(cleaned_data_flat_on_floor, 25)\n",
    "Q3 = np.percentile(cleaned_data_flat_on_floor, 75)\n",
    "\n",
    "# Calculate IQR\n",
    "IQR = Q3 - Q1\n",
    "\n",
    "# Calculate lower and upper whiskers\n",
    "lower_whisker = Q1 - 1.5 * IQR\n",
    "upper_whisker = Q3 + 1.5 * IQR\n",
    "\n",
    "# Print results\n",
    "print(f\"Q1 (25th percentile): {Q1}\")\n",
    "print(f\"Q3 (75th percentile): {Q3}\")\n",
    "print(f\"IQR: {IQR}\")\n",
    "\n",
    "print(\"Lower Whisker:\", lower_whisker)\n",
    "print(\"Upper Whisker:\", upper_whisker)\n"
   ]
  },
  {
   "cell_type": "code",
   "execution_count": null,
   "id": "63f4a9e9-e34d-47e5-9417-b55a9378233a",
   "metadata": {},
   "outputs": [],
   "source": [
    "def signed_log1p(x):\n",
    "    return np.sign(x) * np.log1p(abs(x))"
   ]
  },
  {
   "cell_type": "code",
   "execution_count": null,
   "id": "b4ed0672-efe3-4789-a8af-05af21784cee",
   "metadata": {},
   "outputs": [],
   "source": [
    "transformed_flat_on_floor = df['flat_on_floor'].apply(signed_log1p)"
   ]
  },
  {
   "cell_type": "markdown",
   "id": "544a5df1-d4f8-4c4c-bc53-820d5e6fab7b",
   "metadata": {},
   "source": [
    "A signed log transformation is a variation of the regular logarithmic transformation that allows us to handle both positive and negative values. It is typically used when we want to preserve the sign (positive or negative) of the values while applying a log-like transformation."
   ]
  },
  {
   "cell_type": "code",
   "execution_count": null,
   "id": "b8e66cc1-5ab5-486c-b7f0-99cf3ebf6463",
   "metadata": {},
   "outputs": [],
   "source": [
    "# Distribution plot with log transformation\n",
    "sns.histplot(transformed_flat_on_floor,kde=True,bins=50,color='lightgreen')\n",
    "plt.title('Distribution of flat_on_floor (Log Transformed)')\n",
    "plt.xlabel('flat_on_floor')\n",
    "plt.ylabel('Frequency')\n",
    "\n",
    "plt.tight_layout()\n",
    "plt.show()"
   ]
  },
  {
   "cell_type": "markdown",
   "id": "18005280-1af2-440a-8afb-a5e508fbf0b0",
   "metadata": {},
   "source": [
    "### observation \n",
    "- Distribution is more symmetric, with reduced skewness.  \n",
    "- Negative values handled effectively.  \n",
    "- Outliers impact reduced.  \n",
    "- Compressed range for better interpretation.  "
   ]
  },
  {
   "cell_type": "code",
   "execution_count": null,
   "id": "fb8e8241-6fb8-4176-bdef-044a5aead29d",
   "metadata": {},
   "outputs": [],
   "source": [
    "plt.figure(figsize=(15, 6))\n",
    "\n",
    "# Distribution plot without log transformation\n",
    "plt.subplot(1, 2, 1)\n",
    "sns.boxplot(df['flat_on_floor'], color='skyblue')\n",
    "plt.title('Distribution of flat_on_floor (Original)')\n",
    "plt.xlabel('flat_on_floor')\n",
    "plt.ylabel('Frequency')\n",
    "\n",
    "# Distribution plot with signed log transformation\n",
    "plt.subplot(1, 2, 2)\n",
    "sns.boxplot(transformed_flat_on_floor, color='lightgreen')\n",
    "plt.title('Distribution of flat_on_floor (Signed Log Transformed)')\n",
    "plt.xlabel('Signed Log(flat_on_floor)')\n",
    "plt.ylabel('Frequency')\n",
    "\n",
    "plt.tight_layout()\n",
    "plt.show()\n"
   ]
  },
  {
   "cell_type": "markdown",
   "id": "b6103ff9-9e6f-4c39-93eb-1bbd71adfe04",
   "metadata": {},
   "source": [
    "### observation \n",
    "\n",
    "- Left Plot (Original):  \n",
    "  - Highly skewed distribution.  \n",
    "  - Many upper outliers.  \n",
    "  - Small interquartile range (IQR).  \n",
    "- Right Plot (Signed Log Transformed):  \n",
    "  - Reduced skewness, more symmetric.  \n",
    "  - Fewer outliers, compressed range.  \n",
    "  - Suitable for analyses requiring normality.  "
   ]
  },
  {
   "cell_type": "code",
   "execution_count": null,
   "id": "e149a239-519c-45b5-a326-d84019c5de03",
   "metadata": {},
   "outputs": [],
   "source": [
    "skewness = transformed_flat_on_floor.skew()\n",
    "kurtosis = transformed_flat_on_floor.kurt()\n",
    "print(f\"skewness : {skewness}\")\n",
    "print(f\"kurtosis : {kurtosis}\")\n"
   ]
  },
  {
   "cell_type": "markdown",
   "id": "94465d05-c06e-43d6-8317-48e0a3af33ec",
   "metadata": {},
   "source": [
    "### observation:  \n",
    "- Skewness: -0.556 (slightly negatively skewed, close to symmetric).  \n",
    "- Kurtosis: 0.597 (close to normal kurtosis, indicating a moderate tail thickness).  \n",
    "These values suggest the transformed data is relatively well-behaved for statistical analysis."
   ]
  },
  {
   "cell_type": "markdown",
   "id": "51e969fa-f378-4f55-b9f5-77ffd4730765",
   "metadata": {},
   "source": [
    "# total_floor"
   ]
  },
  {
   "cell_type": "code",
   "execution_count": null,
   "id": "5bd36cd6-178f-4181-8cfe-34ae5125004d",
   "metadata": {},
   "outputs": [],
   "source": [
    "df['total_floor'].head()"
   ]
  },
  {
   "cell_type": "code",
   "execution_count": null,
   "id": "d37976dd-3660-426c-8321-0c27f82bb0ab",
   "metadata": {},
   "outputs": [],
   "source": [
    "df['total_floor'].value_counts()"
   ]
  },
  {
   "cell_type": "code",
   "execution_count": null,
   "id": "76389c16-f920-41e8-b3e5-c80f420299f5",
   "metadata": {},
   "outputs": [],
   "source": [
    "df['total_floor'].isna().sum()"
   ]
  },
  {
   "cell_type": "code",
   "execution_count": null,
   "id": "a5e4ea6a-5815-4726-837e-691cc5ee0fca",
   "metadata": {},
   "outputs": [],
   "source": [
    "df['total_floor'].describe()"
   ]
  },
  {
   "cell_type": "markdown",
   "id": "f8a77ce2-85bd-4c07-b5de-2be5291c1a0f",
   "metadata": {},
   "source": [
    "### observation \n",
    "- column for how many floor building has \n",
    "- 2059 missing values\n",
    "- min is 1 and max is 92\n",
    "- mean is 22.18 and median is 19\n",
    "- 75% properties are on below 30th floor and max is 92\n",
    "- std dev is 16.21; high variability"
   ]
  },
  {
   "cell_type": "code",
   "execution_count": null,
   "id": "63368ccb-1a34-400d-96f2-6f0552720029",
   "metadata": {},
   "outputs": [],
   "source": [
    "df['total_floor'].value_counts(normalize=True).cumsum()"
   ]
  },
  {
   "cell_type": "code",
   "execution_count": null,
   "id": "2ee02db0-d96f-4431-a667-5c63f46d605a",
   "metadata": {},
   "outputs": [],
   "source": [
    "# Compute cumulative sum of normalized value counts\n",
    "cumulative_sum = df['total_floor'].value_counts(normalize=True).cumsum()\n",
    "\n",
    "# Filter values where cumulative sum is <= 90%\n",
    "filtered_numbers = cumulative_sum[cumulative_sum <= 0.9].index.tolist()\n",
    "\n",
    "# Sort the filtered numbers\n",
    "sorted_numbers = sorted(filtered_numbers)\n",
    "\n",
    "print(sorted_numbers)"
   ]
  },
  {
   "cell_type": "markdown",
   "id": "cc36e3d0-0f82-4d54-8ebe-66f9ba005026",
   "metadata": {},
   "source": [
    "### observation \n",
    "- 90% of the projects consist of buildings with 3 to 40 floors, along with specific buildings having 42, 45, 50, and 60 floors."
   ]
  },
  {
   "cell_type": "code",
   "execution_count": null,
   "id": "adbad417-2fa1-48da-b951-d0bce63e8c7a",
   "metadata": {},
   "outputs": [],
   "source": [
    "sns.histplot(df['total_floor'],kde=True,bins=50)"
   ]
  },
  {
   "cell_type": "markdown",
   "id": "422080cc-714b-4d99-94ce-f6261a3151f9",
   "metadata": {},
   "source": [
    "### observation \n",
    "- Most projects are concentrated on lower floors (near 1–25).\n",
    "- The distribution is right-skewed, with fewer projects are of higher floors.\n",
    "- There is a sharp peak around 7 floor building, indicating most of the buildings are of 7 floor\n",
    "- The data has outliers for higher floors."
   ]
  },
  {
   "cell_type": "code",
   "execution_count": null,
   "id": "aa202e14-e326-4f6b-8236-1465f11851ff",
   "metadata": {},
   "outputs": [],
   "source": [
    "sns.boxplot(df['total_floor'],color='lightgreen')\n",
    "plt.grid()"
   ]
  },
  {
   "cell_type": "markdown",
   "id": "15c1ddcb-ae97-4a15-8dcf-62a1b6ae068b",
   "metadata": {},
   "source": [
    "### Observations:\n",
    "- most projects are located on floors within a range of approximately 0–30.\n",
    "- There are significant outliers above the upper whisker, indicating some flats are of many floors.\n",
    "- The interquartile range (IQR) is between floor 8 and floor 30.\n",
    "- The median project floor level is around 19.\n",
    "- presence of outliers in higher flat floors."
   ]
  },
  {
   "cell_type": "code",
   "execution_count": null,
   "id": "b5e26711-f0c3-4375-9d51-597f278cbce8",
   "metadata": {},
   "outputs": [],
   "source": [
    "#skewness and kurtosis\n",
    "skewness = df['total_floor'].skew()\n",
    "kurtosis = df['total_floor'].kurt()\n",
    "\n",
    "print(f\"skewness : {skewness}\")\n",
    "print(f\"kurtosis : {kurtosis}\")"
   ]
  },
  {
   "cell_type": "markdown",
   "id": "376cb445-67a2-471c-8114-5430508a3221",
   "metadata": {},
   "source": [
    "### Observations:\n",
    "\n",
    "- Skewness: 1.1165:  \n",
    "  - The data is moderately positively skewed, indicating that more projects are concentrated at lower floor levels, with a few extreme values on higher floors causing a longer right tail.  \n",
    "- Kurtosis: 0.9350  \n",
    "  - The data is platykurtic (kurtosis < 3), with lighter tails and fewer extreme outliers.  "
   ]
  },
  {
   "cell_type": "code",
   "execution_count": null,
   "id": "a1fc5606-e38a-495a-9fb9-0372c0202f7a",
   "metadata": {},
   "outputs": [],
   "source": [
    "# Drop NaN values from the column\n",
    "cleaned_data_total_floor = df['total_floor'].dropna()\n",
    "\n",
    "# Calculate Q1 and Q3\n",
    "Q1 = np.percentile(cleaned_data_total_floor, 25)\n",
    "Q3 = np.percentile(cleaned_data_total_floor, 75)\n",
    "\n",
    "# Calculate IQR\n",
    "IQR = Q3 - Q1\n",
    "\n",
    "# Calculate lower and upper whiskers\n",
    "lower_whisker = Q1 - 1.5 * IQR\n",
    "upper_whisker = Q3 + 1.5 * IQR\n",
    "\n",
    "# Print results\n",
    "print(f\"Q1 (25th percentile): {Q1}\")\n",
    "print(f\"Q3 (75th percentile): {Q3}\")\n",
    "print(f\"IQR: {IQR}\")\n",
    "\n",
    "print(\"Lower Whisker:\", lower_whisker)\n",
    "print(\"Upper Whisker:\", upper_whisker)\n"
   ]
  },
  {
   "cell_type": "code",
   "execution_count": null,
   "id": "0209ebc9-8f0d-4f3f-8603-f48f88651ed2",
   "metadata": {},
   "outputs": [],
   "source": [
    "# Quantile Analysis\n",
    "quantiles = df['total_floor'].quantile([0.10,0.75,0.80,0.90,0.95,0.98,0.99,1.00])\n",
    "\n",
    "quantiles"
   ]
  },
  {
   "cell_type": "markdown",
   "id": "87183734-cc84-4d62-bdf5-da6da9361b56",
   "metadata": {},
   "source": [
    "### observation \n",
    "- 80% of the projects have less than 35 floors"
   ]
  },
  {
   "cell_type": "code",
   "execution_count": null,
   "id": "e3027ca1-15ff-4333-8290-7c2d243dfb8f",
   "metadata": {},
   "outputs": [],
   "source": [
    "# Distribution plot with log transformation\n",
    "sns.histplot(np.log1p(df['total_floor']), kde=True, bins=50, color='lightgreen')\n",
    "plt.title('Distribution of total_floor (Log Transformed)')\n",
    "plt.xlabel('total_floor')\n",
    "plt.ylabel('Frequency')\n",
    "\n",
    "plt.tight_layout()\n",
    "plt.show()"
   ]
  },
  {
   "cell_type": "markdown",
   "id": "8233aaf9-9bcf-41fe-b63e-9ef92d424551",
   "metadata": {},
   "source": [
    "### observation \n",
    "- Distribution is more symmetric, with reduced skewness.  \n",
    "- Negative values handled effectively.  \n",
    "- Outliers impact reduced.  \n",
    "- Compressed range for better interpretation.  "
   ]
  },
  {
   "cell_type": "code",
   "execution_count": null,
   "id": "e20c744d-e7a7-4793-8dfb-343fa7a890fb",
   "metadata": {},
   "outputs": [],
   "source": [
    "plt.figure(figsize=(15, 6))\n",
    "\n",
    "# Distribution plot without log transformation\n",
    "plt.subplot(1, 2, 1)\n",
    "sns.boxplot(df['total_floor'], color='skyblue')\n",
    "plt.title('Distribution of total_floor (Original)')\n",
    "plt.xlabel('total_floor')\n",
    "plt.ylabel('Frequency')\n",
    "\n",
    "# Distribution plot with log transformation\n",
    "plt.subplot(1, 2, 2)\n",
    "sns.boxplot(np.log1p(df['total_floor']), color='lightgreen')\n",
    "plt.title('Distribution of total_floor (Log Transformed)')\n",
    "plt.xlabel('Log(total_floor)')\n",
    "plt.ylabel('Frequency')\n",
    "\n",
    "plt.tight_layout()\n",
    "plt.show()"
   ]
  },
  {
   "cell_type": "markdown",
   "id": "330f3755-078e-4f02-b996-0fa696afd569",
   "metadata": {},
   "source": [
    "### observation \n",
    "\n",
    "- Left Plot (Original):  \n",
    "  - Highly skewed distribution.  \n",
    "  - Many upper outliers.   \n",
    "- Right Plot:  \n",
    "  - Reduced skewness, more symmetric.  \n",
    "  - Fewer outliers, compressed range.  \n",
    "  - Suitable for analyses requiring normality.  "
   ]
  },
  {
   "cell_type": "code",
   "execution_count": null,
   "id": "bb8eea54-8977-43a1-93f6-71e82652d4fb",
   "metadata": {},
   "outputs": [],
   "source": [
    "skewness = np.log1p(df['total_floor']).skew()\n",
    "kurtosis = np.log1p(df['total_floor']).kurt()\n",
    "\n",
    "print(f\"skewness : {skewness}\")\n",
    "print(f\"kurtosis : {kurtosis}\")"
   ]
  },
  {
   "cell_type": "markdown",
   "id": "135cd959-ea70-4fcb-ae1d-30f0b996ce52",
   "metadata": {},
   "source": [
    "### observation:\n",
    "\n",
    "- Skewness (-0.25): Data is slightly negatively skewed, with a minor left tail, close to symmetric.  \n",
    "- Kurtosis (-0.73): Platykurtic distribution with flatter peaks and lighter tails.  "
   ]
  },
  {
   "cell_type": "markdown",
   "id": "29b5309b-ff93-4a87-8c81-809aae23ef02",
   "metadata": {},
   "source": [
    "# facing"
   ]
  },
  {
   "cell_type": "code",
   "execution_count": null,
   "id": "1ce32d84-2ac6-400e-bdbf-611fb61b8715",
   "metadata": {},
   "outputs": [],
   "source": [
    "df['facing'].head()"
   ]
  },
  {
   "cell_type": "code",
   "execution_count": null,
   "id": "9ae8ddd3-0a71-4ba9-a64b-18700d50264d",
   "metadata": {},
   "outputs": [],
   "source": [
    "df['facing'].value_counts()"
   ]
  },
  {
   "cell_type": "code",
   "execution_count": null,
   "id": "abfed930-2c48-4bfa-9193-179ce7485db7",
   "metadata": {},
   "outputs": [],
   "source": [
    "df['facing'].isna().sum()"
   ]
  },
  {
   "cell_type": "code",
   "execution_count": null,
   "id": "6dcce494-196e-4e4b-9b1a-c7f964420f17",
   "metadata": {},
   "outputs": [],
   "source": [
    "df['facing'].value_counts().sort_index().plot(kind='bar')"
   ]
  },
  {
   "cell_type": "code",
   "execution_count": null,
   "id": "d4aabb47-4f4d-45a2-98a7-4c4ec38b4396",
   "metadata": {},
   "outputs": [],
   "source": [
    "df['facing'].value_counts(normalize=True).plot(kind='pie',autopct='%0.2f%%')"
   ]
  },
  {
   "cell_type": "markdown",
   "id": "6c26a95a-e769-4642-964a-ed2ee6365130",
   "metadata": {},
   "source": [
    "### observation \n",
    "- 3738 missing values\n",
    "- 58.04% properties have east facing followed by north-est(15.49%) and west(11.23%)\n",
    "- all other facing are less than 10%"
   ]
  },
  {
   "cell_type": "markdown",
   "id": "2595bc48-2c7b-4a86-868e-a992f651a6e4",
   "metadata": {},
   "source": [
    "# lattitude "
   ]
  },
  {
   "cell_type": "code",
   "execution_count": null,
   "id": "2e0e4445-0285-4762-b736-ce5a21e6cbc4",
   "metadata": {},
   "outputs": [],
   "source": [
    "df['lattitude'].head()"
   ]
  },
  {
   "cell_type": "code",
   "execution_count": null,
   "id": "1da8a43e-8a06-4917-bbb3-9ed1374c0d89",
   "metadata": {},
   "outputs": [],
   "source": [
    "df['lattitude'].value_counts()"
   ]
  },
  {
   "cell_type": "code",
   "execution_count": null,
   "id": "eb126d28-6def-4c05-9cd8-21e91e0e331f",
   "metadata": {},
   "outputs": [],
   "source": [
    "df['lattitude'].isna().sum()"
   ]
  },
  {
   "cell_type": "code",
   "execution_count": null,
   "id": "addde84d-4fd5-481e-b8f9-ba73a7719ac1",
   "metadata": {},
   "outputs": [],
   "source": [
    "df['lattitude'].describe()"
   ]
  },
  {
   "cell_type": "markdown",
   "id": "4f51bd5f-b69e-4b32-9640-388489250e80",
   "metadata": {},
   "source": [
    "### observation \n",
    "- 466 missing values\n",
    "- 19.15, close to the median, indicating data is symmetrically distributed.\n",
    "- std-dev 0.735, showing low variability within most of the data.\n",
    "- 9.21, indicating a small subset of data significantly lower than the mean.\n",
    "- 72.88, showing extreme outliers far above the upper whisker.\n",
    "- 19.06, tightly packed with the 75th Percentile (Q3): 19.21, confirming low IQR.\n",
    "- Data is heavily skewed due to the extreme max value."
   ]
  },
  {
   "cell_type": "code",
   "execution_count": null,
   "id": "4d3a6057-a389-45a9-8622-aceb971febe9",
   "metadata": {},
   "outputs": [],
   "source": [
    "sns.histplot(df['lattitude'],kde=True,bins=50)"
   ]
  },
  {
   "cell_type": "markdown",
   "id": "cce71189-9cbf-4fc8-9f3b-6a1e902f80eb",
   "metadata": {},
   "source": [
    "### observation\n",
    "- The latitude distribution is highly concentrated between 19 and 20.  \n",
    "- The data is heavily skewed, with minimal values beyond 20.  \n",
    "- Indicates the dataset is focused on a specific geographical region."
   ]
  },
  {
   "cell_type": "code",
   "execution_count": null,
   "id": "c858a4fa-1cc8-47d5-84c8-dba7e3cf6d44",
   "metadata": {},
   "outputs": [],
   "source": [
    "sns.boxplot(df['lattitude'],color='lightgreen')\n",
    "plt.grid()"
   ]
  },
  {
   "cell_type": "markdown",
   "id": "a59a6cbc-f4f6-41d9-9bfd-5a52710030b2",
   "metadata": {},
   "source": [
    "### observation \n",
    "- Values outside the whiskers are considered outliers.\n",
    "- The latitude data is concentrated within a narrow interquartile range (IQR) near 10–20.\n",
    "- The median latitude lies close to 19."
   ]
  },
  {
   "cell_type": "code",
   "execution_count": null,
   "id": "e9b4ca58-d5fe-40e5-a05d-a2e57aef142c",
   "metadata": {},
   "outputs": [],
   "source": [
    "#skewness and kurtosis\n",
    "skewness = df['lattitude'].skew()\n",
    "kurtosis = df['lattitude'].kurt()\n",
    "\n",
    "print(f\"skewness : {skewness}\")\n",
    "print(f\"kurtosis : {kurtosis}\")"
   ]
  },
  {
   "cell_type": "markdown",
   "id": "654dcdc6-8ae6-4d38-a315-2802382db9b2",
   "metadata": {},
   "source": [
    "### observation \n",
    "- Skewness (67.71): Extremely positively skewed distribution with a long right tail.  \n",
    "- Kurtosis (4986.76): Highly leptokurtic, with a sharp peak and heavy tails.  \n",
    "- Most values are concentrated between 10°–20°, with a few extreme outliers above 50°.  \n",
    "- Indicates the need for transformations (e.g., log, Box-Cox) or outlier treatment."
   ]
  },
  {
   "cell_type": "code",
   "execution_count": null,
   "id": "d1090e89-2ce5-4fe8-b155-7a21beef88f2",
   "metadata": {},
   "outputs": [],
   "source": [
    "# Drop NaN values from the column\n",
    "cleaned_data_lattitude = df['lattitude'].dropna()\n",
    "\n",
    "# Calculate Q1 and Q3\n",
    "Q1 = np.percentile(cleaned_data_lattitude, 25)\n",
    "Q3 = np.percentile(cleaned_data_lattitude, 75)\n",
    "\n",
    "# Calculate IQR\n",
    "IQR = Q3 - Q1\n",
    "\n",
    "# Calculate lower and upper whiskers\n",
    "lower_whisker = Q1 - 1.5 * IQR\n",
    "upper_whisker = Q3 + 1.5 * IQR\n",
    "\n",
    "# Print results\n",
    "print(f\"Q1 (25th percentile): {Q1}\")\n",
    "print(f\"Q3 (75th percentile): {Q3}\")\n",
    "print(f\"IQR: {IQR}\")\n",
    "\n",
    "print(\"Lower Whisker:\", lower_whisker)\n",
    "print(\"Upper Whisker:\", upper_whisker)\n"
   ]
  },
  {
   "cell_type": "markdown",
   "id": "f6a8365d-ab99-49c5-99b6-d1a21136a2ff",
   "metadata": {},
   "source": [
    "# longitude "
   ]
  },
  {
   "cell_type": "code",
   "execution_count": null,
   "id": "5db6e967-7f27-4790-bbcf-46d2fb7811a3",
   "metadata": {},
   "outputs": [],
   "source": [
    "df['longitude'].head()"
   ]
  },
  {
   "cell_type": "code",
   "execution_count": null,
   "id": "d8a91477-90ca-416a-890d-53d14669d08c",
   "metadata": {},
   "outputs": [],
   "source": [
    "df['longitude'].value_counts()"
   ]
  },
  {
   "cell_type": "code",
   "execution_count": null,
   "id": "7c110c2d-2c8d-490c-b6b7-a07be60b5c22",
   "metadata": {},
   "outputs": [],
   "source": [
    "df['longitude'].isna().sum()"
   ]
  },
  {
   "cell_type": "code",
   "execution_count": null,
   "id": "60ead61f-f616-40af-bab0-9150854f8a2e",
   "metadata": {},
   "outputs": [],
   "source": [
    "df['longitude'].describe()"
   ]
  },
  {
   "cell_type": "markdown",
   "id": "976c3e0c-1169-4858-bf84-400fb27e2a79",
   "metadata": {},
   "source": [
    "### observation \n",
    "- mean close to median indicating data is symmetrically distributed\n",
    "- std-dev 0.716, showing relatively low variability within the dataset.\n",
    "- 19.02, an extreme outlier far below the majority of values.\n",
    "- 74.02, close to the mean, suggesting no extreme positive outliers.\n",
    "- 25th Percentile (Q1): 72.84 and 75th Percentile (Q3): 72.96, with a narrow IQR of approximately 0.12, indicating tightly packed data.\n",
    "- The outlier at the lower bound (19.02) significantly skews the distribution."
   ]
  },
  {
   "cell_type": "code",
   "execution_count": null,
   "id": "09a4cd6a-95e2-4524-89a8-1683a117459e",
   "metadata": {},
   "outputs": [],
   "source": [
    "sns.histplot(df['longitude'],kde=True,bins=50)"
   ]
  },
  {
   "cell_type": "markdown",
   "id": "37fb7593-eb87-4e02-8f86-c305bea4db82",
   "metadata": {},
   "source": [
    "### observation \n",
    "- Majority of longitude values are concentrated near 70.\n",
    "- Sparse distribution of values below 70.\n",
    "- Outliers or minimal data points in lower longitude ranges."
   ]
  },
  {
   "cell_type": "code",
   "execution_count": null,
   "id": "45068831-788c-480b-99d8-5de5bfa83e18",
   "metadata": {},
   "outputs": [],
   "source": [
    "sns.boxplot(df['longitude'],color='lightgreen')\n",
    "plt.grid()"
   ]
  },
  {
   "cell_type": "markdown",
   "id": "602bc393-fecb-4eac-b4fe-6171bb57d65f",
   "metadata": {},
   "source": [
    "### observation \n",
    "- Most longitude values lie within a narrow range near the upper end (around 70).\n",
    "- A few outliers are present, significantly lower than the main cluster (around 20)."
   ]
  },
  {
   "cell_type": "code",
   "execution_count": null,
   "id": "7ff4f26d-7cac-42aa-b71f-d10e50cae825",
   "metadata": {},
   "outputs": [],
   "source": [
    "#skewness and kurtosis\n",
    "skewness = df['longitude'].skew()\n",
    "kurtosis = df['longitude'].kurt()\n",
    "\n",
    "print(f\"skewness : {skewness}\")\n",
    "print(f\"kurtosis : {kurtosis}\")"
   ]
  },
  {
   "cell_type": "markdown",
   "id": "d9225f9a-cf0e-4ba4-8c3b-aeeb805ceebf",
   "metadata": {},
   "source": [
    "### observation \n",
    "- Skewness (-73.89):  \n",
    "  - The negative skewness indicates a strong left-skewed distribution.\n",
    "  - This aligns with the presence of outliers at the lower longitude range, as seen in the boxplot.\n",
    "- Kurtosis (5543.30):\n",
    "  - The extremely high kurtosis value suggests the distribution has heavy tails and a sharp peak.\n",
    "  - This indicates most of the data is tightly concentrated near the central value (around 70), with a few extreme outliers contributing to the heavy tails.\n",
    "- Indicates the need for transformations (e.g., log, Box-Cox) or outlier treatment."
   ]
  },
  {
   "cell_type": "code",
   "execution_count": null,
   "id": "f7d61480-75e0-4d34-908e-b15ce53b501e",
   "metadata": {},
   "outputs": [],
   "source": [
    "# Drop NaN values from the column\n",
    "cleaned_data_longitude = df['longitude'].dropna()\n",
    "\n",
    "# Calculate Q1 and Q3\n",
    "Q1 = np.percentile(cleaned_data_longitude, 25)\n",
    "Q3 = np.percentile(cleaned_data_longitude, 75)\n",
    "\n",
    "# Calculate IQR\n",
    "IQR = Q3 - Q1\n",
    "\n",
    "# Calculate lower and upper whiskers\n",
    "lower_whisker = Q1 - 1.5 * IQR\n",
    "upper_whisker = Q3 + 1.5 * IQR\n",
    "\n",
    "# Print results\n",
    "print(f\"Q1 (25th percentile): {Q1}\")\n",
    "print(f\"Q3 (75th percentile): {Q3}\")\n",
    "print(f\"IQR: {IQR}\")\n",
    "\n",
    "print(\"Lower Whisker:\", lower_whisker)\n",
    "print(\"Upper Whisker:\", upper_whisker)\n"
   ]
  },
  {
   "cell_type": "markdown",
   "id": "65bedae0-f099-4d6a-9370-64c57d579a4a",
   "metadata": {},
   "source": [
    "# seller"
   ]
  },
  {
   "cell_type": "code",
   "execution_count": null,
   "id": "eef8b466-3799-4b6f-8cd0-f93ef8f21bde",
   "metadata": {},
   "outputs": [],
   "source": [
    "df['seller'].head()"
   ]
  },
  {
   "cell_type": "code",
   "execution_count": null,
   "id": "ee1ab6b0-2c23-4cfc-9d0c-f292fbbe9266",
   "metadata": {},
   "outputs": [],
   "source": [
    "df['seller'].value_counts()"
   ]
  },
  {
   "cell_type": "code",
   "execution_count": null,
   "id": "c0b57d26-02c5-474a-94c4-596332fa74a5",
   "metadata": {},
   "outputs": [],
   "source": [
    "df['seller'].isna().sum()"
   ]
  },
  {
   "cell_type": "code",
   "execution_count": null,
   "id": "810f2286-c0aa-4fad-870f-661a7b68982b",
   "metadata": {},
   "outputs": [],
   "source": [
    "df['seller'].value_counts().sort_index().plot(kind='bar')"
   ]
  },
  {
   "cell_type": "code",
   "execution_count": null,
   "id": "2477e6e4-95e0-4689-b82a-474d0181ac72",
   "metadata": {},
   "outputs": [],
   "source": [
    "df['seller'].value_counts(normalize=True).plot(kind='pie',autopct='%0.2f%%')"
   ]
  },
  {
   "cell_type": "markdown",
   "id": "14f50f34-b1ee-4405-91f7-eb98bffc1034",
   "metadata": {},
   "source": [
    "### Observations:\n",
    "- The column represents the entity responsible for selling the property.  \n",
    "- There are no missing values in this column.  \n",
    "- 68.19% of properties are listed by estate agents acting as brokers to facilitate sales.  \n",
    "- 28.79% of properties are being sold directly by individuals (could be owners or estate agents as well).  \n",
    "- 3.03% of properties are listed for sale by organizations.  "
   ]
  },
  {
   "cell_type": "markdown",
   "id": "887c83c7-ec7e-43aa-be76-0506fe6221ab",
   "metadata": {},
   "source": [
    "# emi"
   ]
  },
  {
   "cell_type": "code",
   "execution_count": null,
   "id": "80fb393c-1002-4d75-baf3-7dd6215f603d",
   "metadata": {},
   "outputs": [],
   "source": [
    "df['emi'].head()"
   ]
  },
  {
   "cell_type": "code",
   "execution_count": null,
   "id": "1c338945-3b85-429c-8e5b-4a347780335a",
   "metadata": {},
   "outputs": [],
   "source": [
    "df['emi'].value_counts()"
   ]
  },
  {
   "cell_type": "code",
   "execution_count": null,
   "id": "d4df309c-cad6-40b8-948e-f8f61b40a775",
   "metadata": {},
   "outputs": [],
   "source": [
    "df['emi'].isna().sum()"
   ]
  },
  {
   "cell_type": "code",
   "execution_count": null,
   "id": "2e9c9d97-4f74-471a-a0e3-4f61774c51ba",
   "metadata": {},
   "outputs": [],
   "source": [
    "df['emi'].describe()"
   ]
  },
  {
   "cell_type": "markdown",
   "id": "4133f516-f204-47d6-94f9-8bc5aca847ef",
   "metadata": {},
   "source": [
    "### observation \n",
    "- EMI values for flat purchases, measured in lakhs.\n",
    "- 2 missing values\n",
    "- EMIs range from ₹745 (min) to ₹36.08 lakh (max).\n",
    "- Mean EMI is ₹1.31 lakh; median is ₹0.80 lakh.\n",
    "- 75% of borrowers have an EMI of ₹1.44 lakh (₹1,44,000) or less.\n",
    "- High standard deviation (₹1.91 lakh) indicates wide variation.\n",
    "- Data is right-skewed, with some very high EMIs."
   ]
  },
  {
   "cell_type": "code",
   "execution_count": null,
   "id": "2956950b-f52f-4330-9e6c-0cdc98832e03",
   "metadata": {},
   "outputs": [],
   "source": [
    "sns.histplot(df['emi'],kde=True,bins=50)"
   ]
  },
  {
   "cell_type": "markdown",
   "id": "32050f48-f0e1-47c0-9552-1d953ab2c83e",
   "metadata": {},
   "source": [
    "### observation\n",
    "- Most borrowers pay lower EMIs, likely below ₹2 lakh.\n",
    "- The tail includes outliers, such as the maximum EMI of ₹36.08 lakh.\n",
    "- A log transformation or outlier handling might be useful for further analysis."
   ]
  },
  {
   "cell_type": "code",
   "execution_count": null,
   "id": "41ff2e38-9cb1-4507-ad82-41aa6ea13052",
   "metadata": {},
   "outputs": [],
   "source": [
    "sns.boxplot(df['emi'],color='lightgreen')\n",
    "plt.grid()"
   ]
  },
  {
   "cell_type": "markdown",
   "id": "377dbece-1ccc-486c-abee-f3b4a0428716",
   "metadata": {},
   "source": [
    "### observation \n",
    "- significant right skewness in the data.\n",
    "- outliers are beyond the upper whisker, including extreme values like ₹36.08 lakh.\n",
    "- The box (IQR) is narrow, indicating that the middle 50% of data points (25th to 75th percentile) are tightly packed between ₹0.43 lakh and ₹1.44 lakh.\n",
    "- median EMI (₹0.80 lakh) lies closer to the lower quartile, reflecting the skewed distribution."
   ]
  },
  {
   "cell_type": "code",
   "execution_count": null,
   "id": "24e39320-b5e2-4885-897d-e5b9d9c6895e",
   "metadata": {},
   "outputs": [],
   "source": [
    "#skewness and kurtosis\n",
    "skewness = df['emi'].skew()\n",
    "kurtosis = df['emi'].kurt()\n",
    "\n",
    "print(f\"skewness : {skewness}\")\n",
    "print(f\"kurtosis : {kurtosis}\")"
   ]
  },
  {
   "cell_type": "markdown",
   "id": "0588e300-c2a7-4242-a7f6-d5822a58d370",
   "metadata": {},
   "source": [
    "### observation \n",
    "- Skewness (6.21): Highly right-skewed distribution with a long tail of high EMI values.\n",
    "- Kurtosis (61.13): Leptokurtic distribution with a sharp peak and heavy tails, indicating many outliers."
   ]
  },
  {
   "cell_type": "code",
   "execution_count": null,
   "id": "0485cd82-34b1-42cc-b1b3-e9a80e49451d",
   "metadata": {},
   "outputs": [],
   "source": [
    "# Drop NaN values from the column\n",
    "cleaned_data_emi = df['emi'].dropna()\n",
    "\n",
    "# Calculate Q1 and Q3\n",
    "Q1 = np.percentile(cleaned_data_emi, 25)\n",
    "Q3 = np.percentile(cleaned_data_emi, 75)\n",
    "\n",
    "# Calculate IQR\n",
    "IQR = Q3 - Q1\n",
    "\n",
    "# Calculate lower and upper whiskers\n",
    "lower_whisker = Q1 - 1.5 * IQR\n",
    "upper_whisker = Q3 + 1.5 * IQR\n",
    "\n",
    "# Print results\n",
    "print(f\"Q1 (25th percentile): {Q1}\")\n",
    "print(f\"Q3 (75th percentile): {Q3}\")\n",
    "print(f\"IQR: {IQR}\")\n",
    "\n",
    "print(\"Lower Whisker:\", lower_whisker)\n",
    "print(\"Upper Whisker:\", upper_whisker)\n"
   ]
  },
  {
   "cell_type": "code",
   "execution_count": null,
   "id": "c72f5bfc-3cb5-4056-899c-df8db43d4895",
   "metadata": {},
   "outputs": [],
   "source": [
    "# Quantile Analysis\n",
    "quantiles = df['emi'].quantile([0.10,0.75,0.80,0.90,0.95,0.98,0.99,1.00])\n",
    "\n",
    "quantiles"
   ]
  },
  {
   "cell_type": "code",
   "execution_count": null,
   "id": "d8f16932-c912-4186-8823-22f52faa4104",
   "metadata": {},
   "outputs": [],
   "source": [
    "# Distribution plot with log transformation\n",
    "sns.histplot(np.log1p(df['emi']), kde=True, bins=50, color='lightgreen')\n",
    "plt.title('Distribution of emi (Log Transformed)')\n",
    "plt.xlabel('emi')\n",
    "plt.ylabel('Frequency')\n",
    "\n",
    "plt.tight_layout()\n",
    "plt.show()"
   ]
  },
  {
   "cell_type": "markdown",
   "id": "4cb19691-2a16-4106-b90b-29e4d34097a0",
   "metadata": {},
   "source": [
    "### observation \n",
    "- After applying a log transformation, the EMI distribution becomes closer to normal, reducing skewness.\n",
    "- The transformed data shows a more balanced spread, with fewer extreme values dominating the tail."
   ]
  },
  {
   "cell_type": "code",
   "execution_count": null,
   "id": "762b7591-5ceb-4b04-a114-1c3651de99e5",
   "metadata": {},
   "outputs": [],
   "source": [
    "plt.figure(figsize=(15, 6))\n",
    "\n",
    "# Distribution plot without log transformation\n",
    "plt.subplot(1, 2, 1)\n",
    "sns.boxplot(df['emi'], color='skyblue')\n",
    "plt.title('Distribution of emi (Original)')\n",
    "plt.xlabel('emi')\n",
    "plt.ylabel('Frequency')\n",
    "\n",
    "# Distribution plot with log transformation\n",
    "plt.subplot(1, 2, 2)\n",
    "sns.boxplot(np.log1p(df['emi']), color='lightgreen')\n",
    "plt.title('Distribution of emi (Log Transformed)')\n",
    "plt.xlabel('Log(emi)')\n",
    "plt.ylabel('Frequency')\n",
    "\n",
    "plt.tight_layout()\n",
    "plt.show()"
   ]
  },
  {
   "cell_type": "markdown",
   "id": "26526c76-da29-44c6-895f-4f7c1cf45b25",
   "metadata": {},
   "source": [
    "### observation \n",
    "Bottom Left: Original EMI Boxplot  \n",
    "- The original EMI data exhibits significant skewness with many outliers beyond the upper whisker.  \n",
    "- Extreme values like ₹36.08 lakh are visible as outliers, affecting the overall distribution.  \n",
    "Bottom Right: Log-Transformed EMI Boxplot  \n",
    "- The log transformation reduces the number of visible outliers, compressing the scale of high EMI values.  \n",
    "- The median and IQR are now more representative of the data, providing a clearer picture of central tendency and variability.  "
   ]
  },
  {
   "cell_type": "code",
   "execution_count": null,
   "id": "400001e9-933e-4702-9589-c847c3dd6c12",
   "metadata": {},
   "outputs": [],
   "source": [
    "skewness = np.log1p(df['emi']).skew()\n",
    "kurtosis = np.log1p(df['emi']).kurt()\n",
    "\n",
    "print(f\"skewness : {skewness}\")\n",
    "print(f\"kurtosis : {kurtosis}\")"
   ]
  },
  {
   "cell_type": "markdown",
   "id": "8a70fbf9-0e06-4e58-a48e-f09264955d63",
   "metadata": {},
   "source": [
    "### observation \n",
    "- Skewness (1.58): Reduced after log transformation, now moderately right-skewed.\n",
    "- Kurtosis (3.56): Close to normal distribution, with reduced outlier influence."
   ]
  },
  {
   "cell_type": "markdown",
   "id": "200d8595-ebf0-4d8a-8c62-d4e30aa8a705",
   "metadata": {},
   "source": [
    "# project_in_acres"
   ]
  },
  {
   "cell_type": "code",
   "execution_count": null,
   "id": "ea9aa38d-1f55-4ecc-93de-5b00448a3612",
   "metadata": {},
   "outputs": [],
   "source": [
    "df['project_in_acres'].head()"
   ]
  },
  {
   "cell_type": "code",
   "execution_count": null,
   "id": "befff638-b7ee-4430-b7dc-bd64f3d9bd8f",
   "metadata": {},
   "outputs": [],
   "source": [
    "df['project_in_acres'].value_counts()"
   ]
  },
  {
   "cell_type": "code",
   "execution_count": null,
   "id": "f8a25d97-bc6a-4c35-b068-45e12a59441f",
   "metadata": {},
   "outputs": [],
   "source": [
    "df['project_in_acres'].isna().sum()"
   ]
  },
  {
   "cell_type": "code",
   "execution_count": null,
   "id": "2ca085bc-dcef-42ef-902c-743a4dd060d4",
   "metadata": {},
   "outputs": [],
   "source": [
    "df['project_in_acres'].describe()"
   ]
  },
  {
   "cell_type": "markdown",
   "id": "4c119f3d-cbda-4d8a-b482-18302a05b350",
   "metadata": {},
   "source": [
    "### observation \n",
    "- project built on the land in acres\n",
    "- 5758 missing values\n",
    "- ranges from 0 to 55000\n",
    "- mean is 27.38 acre and median is 3 acre\n",
    "- 75% properties have built on land 8.49acre or less\n",
    "- high std-dev indicates high variation\n",
    "- data is right skewed with extreme high acres values "
   ]
  },
  {
   "cell_type": "code",
   "execution_count": null,
   "id": "bc09d55d-59c0-4e37-acfc-469021b1aa78",
   "metadata": {},
   "outputs": [],
   "source": [
    "sns.histplot(df['project_in_acres'],kde=True,bins=50)"
   ]
  },
  {
   "cell_type": "markdown",
   "id": "7934c802-9968-48c7-999f-0f1cc34ac242",
   "metadata": {},
   "source": [
    "### observation \n",
    "- Highly right-skewed.  \n",
    "  Most projects have small acre land.  \n",
    "- few projects with extremely high acre land (>10,000 acres).  \n",
    "- Large variation in project sizes."
   ]
  },
  {
   "cell_type": "code",
   "execution_count": null,
   "id": "517dcb24-0f36-4a79-9277-df6fe0a53be7",
   "metadata": {},
   "outputs": [],
   "source": [
    "sns.boxplot(df['project_in_acres'],color='lightgreen')\n",
    "plt.grid()"
   ]
  },
  {
   "cell_type": "markdown",
   "id": "c484a9ed-ff3f-443e-8728-866e4bd5ac2c",
   "metadata": {},
   "source": [
    "### observation \n",
    "- Extreme values above 10,000 acres \n",
    "- most data concentrated near lower values.  \n",
    "- High range with a few projects occupying vast land."
   ]
  },
  {
   "cell_type": "code",
   "execution_count": null,
   "id": "91f72d74-6c62-43d7-81b8-225b20d70c98",
   "metadata": {},
   "outputs": [],
   "source": [
    "#skewness and kurtosis\n",
    "skewness = df['project_in_acres'].skew()\n",
    "kurtosis = df['project_in_acres'].kurt()\n",
    "\n",
    "print(f\"skewness : {skewness}\")\n",
    "print(f\"kurtosis : {kurtosis}\")"
   ]
  },
  {
   "cell_type": "markdown",
   "id": "a1683f97-58b3-4770-9013-c90b62093221",
   "metadata": {},
   "source": [
    "### observation \n",
    "- Skewness: 70.83, highly right-skewed distribution.  \n",
    "- Kurtosis: 5283.91, sharp peaks and heavy tails due to outliers.  \n",
    "- Data has extreme outliers, requiring transformation or outlier handling.  "
   ]
  },
  {
   "cell_type": "code",
   "execution_count": null,
   "id": "ab295e4c-f939-4364-8a2b-e490fd2f7d0a",
   "metadata": {},
   "outputs": [],
   "source": [
    "# Drop NaN values from the column\n",
    "cleaned_data_project_in_acres = df['project_in_acres'].dropna()\n",
    "\n",
    "# Calculate Q1 and Q3\n",
    "Q1 = np.percentile(cleaned_data_project_in_acres, 25)\n",
    "Q3 = np.percentile(cleaned_data_project_in_acres, 75)\n",
    "\n",
    "# Calculate IQR\n",
    "IQR = Q3 - Q1\n",
    "\n",
    "# Calculate lower and upper whiskers\n",
    "lower_whisker = Q1 - 1.5 * IQR\n",
    "upper_whisker = Q3 + 1.5 * IQR\n",
    "\n",
    "# Print results\n",
    "print(f\"Q1 (25th percentile): {Q1}\")\n",
    "print(f\"Q3 (75th percentile): {Q3}\")\n",
    "print(f\"IQR: {IQR}\")\n",
    "\n",
    "print(\"Lower Whisker:\", lower_whisker)\n",
    "print(\"Upper Whisker:\", upper_whisker)\n"
   ]
  },
  {
   "cell_type": "code",
   "execution_count": null,
   "id": "95eb10b5-93af-462f-93e4-21b32ad7272b",
   "metadata": {},
   "outputs": [],
   "source": [
    "# Quantile Analysis\n",
    "quantiles = df['project_in_acres'].quantile([0.10,0.75,0.80,0.90,0.95,0.98,0.99,1.00])\n",
    "\n",
    "quantiles"
   ]
  },
  {
   "cell_type": "code",
   "execution_count": null,
   "id": "130928ec-7eba-4053-ac0d-693a930f908d",
   "metadata": {},
   "outputs": [],
   "source": [
    "# Distribution plot with log transformation\n",
    "sns.histplot(np.log1p(df['project_in_acres']), kde=True, bins=50, color='lightgreen')\n",
    "plt.title('Distribution of project_in_acres (Log Transformed)')\n",
    "plt.xlabel('project_in_acres')\n",
    "plt.ylabel('Frequency')\n",
    "\n",
    "plt.tight_layout()\n",
    "plt.show()"
   ]
  },
  {
   "cell_type": "markdown",
   "id": "ecf501af-8005-4b20-a1a1-c80f53b5966d",
   "metadata": {},
   "source": [
    "### observation \n",
    "- Reduces skewness, making distribution more normal-like.  \n",
    "- Majority of projects fall in lower acreage categories after transformation.  "
   ]
  },
  {
   "cell_type": "code",
   "execution_count": null,
   "id": "fd662cb2-91e3-4933-b52b-a6740d5afb51",
   "metadata": {
    "scrolled": true
   },
   "outputs": [],
   "source": [
    "plt.figure(figsize=(15, 6))\n",
    "\n",
    "# Distribution plot without log transformation\n",
    "plt.subplot(1, 2, 1)\n",
    "sns.boxplot(df['project_in_acres'], color='skyblue')\n",
    "plt.title('Distribution of project_in_acres (Original)')\n",
    "plt.xlabel('project_in_acres')\n",
    "plt.ylabel('Frequency')\n",
    "\n",
    "# Distribution plot with log transformation\n",
    "plt.subplot(1, 2, 2)\n",
    "sns.boxplot(np.log1p(df['project_in_acres']), color='lightgreen')\n",
    "plt.title('Distribution of project_in_acres (Log Transformed)')\n",
    "plt.xlabel('Log(project_in_acres)')\n",
    "plt.ylabel('Frequency')\n",
    "\n",
    "plt.tight_layout()\n",
    "plt.show()"
   ]
  },
  {
   "cell_type": "markdown",
   "id": "83afba67-53dc-48d3-9960-a6557e0caf49",
   "metadata": {},
   "source": [
    "### observation \n",
    "Box Plot - Log Transformed Data:\n",
    "- Reduced outlier impact after log transformation.  \n",
    "- More compact distribution with fewer extreme deviations.  "
   ]
  },
  {
   "cell_type": "code",
   "execution_count": null,
   "id": "d8046f39-7509-447d-b663-2ba976087a5a",
   "metadata": {},
   "outputs": [],
   "source": [
    "skewness = np.log1p(df['project_in_acres']).skew()\n",
    "kurtosis = np.log1p(df['project_in_acres']).kurt()\n",
    "\n",
    "print(f\"skewness : {skewness}\")\n",
    "print(f\"kurtosis : {kurtosis}\")"
   ]
  },
  {
   "cell_type": "markdown",
   "id": "fc5ebaff-b781-4447-9890-0f8e201941d0",
   "metadata": {},
   "source": [
    "### observation \n",
    "- Skewness: 1.33, moderately right-skewed.  \n",
    "- Kurtosis: 2.80, near normal distribution (mesokurtic).  \n",
    "- Log transformation significantly reduces skewness and tail effects, improving distribution.  "
   ]
  },
  {
   "cell_type": "markdown",
   "id": "e0f0cb4c-b2f7-4452-9b56-819936e38bea",
   "metadata": {},
   "source": [
    "# flooring_cluster"
   ]
  },
  {
   "cell_type": "code",
   "execution_count": null,
   "id": "550f7875-2059-4875-a123-3cd2efc1b32f",
   "metadata": {},
   "outputs": [],
   "source": [
    "df['flooring_cluster'].head()"
   ]
  },
  {
   "cell_type": "code",
   "execution_count": null,
   "id": "62880a77-f6d9-4635-b8d7-d1558e0be9b7",
   "metadata": {},
   "outputs": [],
   "source": [
    "df['flooring_cluster'].value_counts()"
   ]
  },
  {
   "cell_type": "code",
   "execution_count": null,
   "id": "e28c8098-b010-4368-8b53-0bccf18b6956",
   "metadata": {},
   "outputs": [],
   "source": [
    "df['flooring_cluster'].isna().sum()"
   ]
  },
  {
   "cell_type": "code",
   "execution_count": null,
   "id": "8d2a5fb0-a169-4aba-ae71-d50eb599833b",
   "metadata": {},
   "outputs": [],
   "source": [
    "df[df['flooring_cluster'] == 0].shape"
   ]
  },
  {
   "cell_type": "code",
   "execution_count": null,
   "id": "8b5cd71c-eb07-4ba9-ac7d-539659cc1b37",
   "metadata": {},
   "outputs": [],
   "source": [
    "df['flooring_cluster'].value_counts().sort_index().plot(kind='bar')"
   ]
  },
  {
   "cell_type": "code",
   "execution_count": null,
   "id": "5ae34875-0d6d-4ee3-996b-f99e5a381246",
   "metadata": {},
   "outputs": [],
   "source": [
    "df['flooring_cluster'].value_counts(normalize=True).plot(kind='pie',autopct='%0.2f%%')"
   ]
  },
  {
   "cell_type": "code",
   "execution_count": null,
   "id": "8bafba71-d310-462f-bae0-aa4fe3b1b4ec",
   "metadata": {},
   "outputs": [],
   "source": [
    "df['flooring_cluster'].value_counts(normalize=True).cumsum()"
   ]
  },
  {
   "cell_type": "markdown",
   "id": "5148adf2-7c98-4c21-bba0-09e18321bbe5",
   "metadata": {},
   "source": [
    "### observation \n",
    "- The flooring cluster indicates the types of flooring used in a room. The types of flooring include: ['ceramic tiles', 'granite', 'marble', 'marbonite', 'mosaic', 'normal tiles/kotah stone', 'unknown', 'vitrified', 'wooden'].   \n",
    "- A value of 1 (38.60%) means it can represent either a single flooring type or a combination of several types from the list. For example, flooring_cluster = 1 could mean just 'ceramic tiles' or a mix like ['ceramic tiles', 'granite']. The same applies to values 2 and 3, as the grouping was done during data cleaning."
   ]
  },
  {
   "cell_type": "markdown",
   "id": "2e09c991-e22d-4954-b284-b5a6b65bbaf8",
   "metadata": {},
   "source": [
    "# flooring_score"
   ]
  },
  {
   "cell_type": "code",
   "execution_count": null,
   "id": "63f8a00f-bb36-4d43-b961-61584ac1e0c2",
   "metadata": {},
   "outputs": [],
   "source": [
    "df['assigned_flooring_score'].head()"
   ]
  },
  {
   "cell_type": "code",
   "execution_count": null,
   "id": "9baf1c18-819a-478f-9b7a-f5b96c0a4f8d",
   "metadata": {},
   "outputs": [],
   "source": [
    "df['assigned_flooring_score'].value_counts()"
   ]
  },
  {
   "cell_type": "code",
   "execution_count": null,
   "id": "0f02356a-872b-4c74-8ebb-c952eb8ceed8",
   "metadata": {},
   "outputs": [],
   "source": [
    "df['assigned_flooring_score'].value_counts(normalize=True).cumsum()"
   ]
  },
  {
   "cell_type": "code",
   "execution_count": null,
   "id": "5e6fe169-ff3f-4bda-8fa2-3d880e85a9c8",
   "metadata": {},
   "outputs": [],
   "source": [
    "df['assigned_flooring_score'].isna().sum()"
   ]
  },
  {
   "cell_type": "code",
   "execution_count": null,
   "id": "34e71f61-2caf-4ce3-b356-35849fc8f63a",
   "metadata": {},
   "outputs": [],
   "source": [
    "df['assigned_flooring_score'].describe()"
   ]
  },
  {
   "cell_type": "markdown",
   "id": "070427aa-0fc5-40c3-81ba-1524a554fcb6",
   "metadata": {},
   "source": [
    "### observation \n",
    "- work on the flooring column again this time define the weightage for each flooring type\n",
    "- A lower flooring score indicates fewer and less expensive flooring, while a higher score suggests variety of flooring, potentially at a higher cost.\n",
    "- 4453 missing values\n",
    "- Average weightage is 12.93.\n",
    "- High variability (10.36).\n",
    "- Outlier at 56.\n",
    "- flooring score ranges from 4 to 56\n",
    "- 90% of the data have flooring score is this 4,6,7,8,9,10,13,15,,16,17,18,19,22,23,25,26,56"
   ]
  },
  {
   "cell_type": "code",
   "execution_count": null,
   "id": "7b186150-c636-485f-8d5a-2a8740dd88f3",
   "metadata": {},
   "outputs": [],
   "source": [
    "sns.histplot(df['assigned_flooring_score'],kde=True,bins=50)"
   ]
  },
  {
   "cell_type": "markdown",
   "id": "31a08a16-e80e-4483-b792-d77a4a5a835e",
   "metadata": {},
   "source": [
    "### observation\n",
    "- The flooring scores are highly skewed, with most values concentrated around 7.\n",
    "- Significant peaks at 7 reflect the popular flooring choices (e.g. vitrified). \n",
    "- A few higher scores (above 20) indicate outliers."
   ]
  },
  {
   "cell_type": "code",
   "execution_count": null,
   "id": "94a9d79f-6d83-41fc-8ffb-8f6afadf346c",
   "metadata": {},
   "outputs": [],
   "source": [
    "sns.boxplot(df['assigned_flooring_score'],color='lightgreen')\n",
    "plt.grid()"
   ]
  },
  {
   "cell_type": "markdown",
   "id": "1b67a88b-cdfc-4244-9de0-5eabcce1d4c3",
   "metadata": {},
   "source": [
    "### observation\n",
    "- Flooring score is centered at 7\n",
    "- Most data falls between 6 and 10, indicating these are the most common scores.\n",
    "- A significant number of outliers exist above the upper whisker, with the maximum value reaching 56.\n",
    "- The presence of many outliers suggests a right-skewed distribution."
   ]
  },
  {
   "cell_type": "code",
   "execution_count": null,
   "id": "1cf141ae-c879-47e5-b1f8-4e4040288294",
   "metadata": {},
   "outputs": [],
   "source": [
    "#skewness and kurtosis\n",
    "skewness = df['assigned_flooring_score'].skew()\n",
    "kurtosis = df['assigned_flooring_score'].kurt()\n",
    "\n",
    "print(f\"skewness : {skewness}\")\n",
    "print(f\"kurtosis : {kurtosis}\")"
   ]
  },
  {
   "cell_type": "markdown",
   "id": "9a8b9d90-f181-4bc0-b36a-22295647d266",
   "metadata": {},
   "source": [
    "### observation \n",
    "- Skewness (2.29): Indicates a highly positively skewed distribution with a long right tail.  \n",
    "- Kurtosis (5.48): Suggests a leptokurtic distribution with heavy tails and a sharp peak.  \n",
    "- Data is concentrated on the left with extreme values in the right tail."
   ]
  },
  {
   "cell_type": "code",
   "execution_count": null,
   "id": "191afdfc-9d70-4998-aa88-e04503b3e27b",
   "metadata": {},
   "outputs": [],
   "source": [
    "# Drop NaN values from the column\n",
    "cleaned_data_assigned_flooring_score = df['assigned_flooring_score'].dropna()\n",
    "\n",
    "# Calculate Q1 and Q3\n",
    "Q1 = np.percentile(cleaned_data_assigned_flooring_score, 25)\n",
    "Q3 = np.percentile(cleaned_data_assigned_flooring_score, 75)\n",
    "\n",
    "# Calculate IQR\n",
    "IQR = Q3 - Q1\n",
    "\n",
    "# Calculate lower and upper whiskers\n",
    "lower_whisker = Q1 - 1.5 * IQR\n",
    "upper_whisker = Q3 + 1.5 * IQR\n",
    "\n",
    "# Print results\n",
    "print(f\"Q1 (25th percentile): {Q1}\")\n",
    "print(f\"Q3 (75th percentile): {Q3}\")\n",
    "print(f\"IQR: {IQR}\")\n",
    "\n",
    "print(\"Lower Whisker:\", lower_whisker)\n",
    "print(\"Upper Whisker:\", upper_whisker)\n"
   ]
  },
  {
   "cell_type": "code",
   "execution_count": null,
   "id": "9aa11902-a4b3-4432-8595-3593bc00a5a4",
   "metadata": {},
   "outputs": [],
   "source": [
    "# Distribution plot with log transformation\n",
    "sns.histplot(np.log1p(df['assigned_flooring_score']), kde=True, bins=50, color='lightgreen')\n",
    "plt.title('Distribution of assigned_flooring_score (Log Transformed)')\n",
    "plt.xlabel('assigned_flooring_score')\n",
    "plt.ylabel('Frequency')\n",
    "\n",
    "plt.tight_layout()\n",
    "plt.show()"
   ]
  },
  {
   "cell_type": "markdown",
   "id": "3f79601a-e517-4c17-a65c-60f8c8a2954e",
   "metadata": {},
   "source": [
    "### observation \n",
    "- The logarithmic transformation has effectively compressed the data range, reducing the impact of extreme values.\n",
    "- The distribution is still skewed to the right but appears more normalized compared to the original data."
   ]
  },
  {
   "cell_type": "code",
   "execution_count": null,
   "id": "45ca0f07-b56d-4a5d-87c5-0057186a2584",
   "metadata": {},
   "outputs": [],
   "source": [
    "plt.figure(figsize=(15, 6))\n",
    "\n",
    "# Distribution plot without log transformation\n",
    "plt.subplot(1, 2, 1)\n",
    "sns.boxplot(df['assigned_flooring_score'], color='skyblue')\n",
    "plt.title('Distribution of assigned_flooring_score (Original)')\n",
    "plt.xlabel('assigned_flooring_score')\n",
    "plt.ylabel('Frequency')\n",
    "\n",
    "# Distribution plot with log transformation\n",
    "plt.subplot(1, 2, 2)\n",
    "sns.boxplot(np.log1p(df['assigned_flooring_score']), color='lightgreen')\n",
    "plt.title('Distribution of assigned_flooring_score (Log Transformed)')\n",
    "plt.xlabel('Log(assigned_flooring_score)')\n",
    "plt.ylabel('Frequency')\n",
    "\n",
    "plt.tight_layout()\n",
    "plt.show()"
   ]
  },
  {
   "cell_type": "markdown",
   "id": "6996c544-4c83-4571-88f5-66f7a477e7d4",
   "metadata": {},
   "source": [
    "### observation  \n",
    "Log-Transformed Distribution:\n",
    "- After applying a logarithmic transformation, the data distribution appears more normalized and symmetric.\n",
    "- The transformation reduces the effect of outliers, as they are now within a more acceptable range.\n",
    "- The spread of the data is more balanced compared to the original distribution."
   ]
  },
  {
   "cell_type": "code",
   "execution_count": null,
   "id": "e808752a-8702-46be-af5f-fabde6cd5a30",
   "metadata": {},
   "outputs": [],
   "source": [
    "skewness = np.log1p(df['assigned_flooring_score']).skew()\n",
    "kurtosis = np.log1p(df['assigned_flooring_score']).kurt()\n",
    "\n",
    "print(f\"skewness : {skewness}\")\n",
    "print(f\"kurtosis : {kurtosis}\")"
   ]
  },
  {
   "cell_type": "markdown",
   "id": "a51e3baf-b285-4bba-b5c6-2185ef4db66b",
   "metadata": {},
   "source": [
    "### observation \n",
    "- Skewness reduced to 1.16, indicating moderate positive skewness remains.\n",
    "- Kurtosis decreased to 0.40, showing reduced outliers and a more normal-like distribution.\n",
    "- Log transformation effectively brought the data closer to normality but slight skewness persists."
   ]
  },
  {
   "cell_type": "code",
   "execution_count": null,
   "id": "c0a40269-1592-45b3-8a60-44eeb1092a00",
   "metadata": {},
   "outputs": [],
   "source": [
    "df.groupby(\"flooring_cluster\")[\"assigned_flooring_score\"].mean()"
   ]
  },
  {
   "cell_type": "code",
   "execution_count": null,
   "id": "10e1f0db-4384-4467-9240-63416bf25fce",
   "metadata": {},
   "outputs": [],
   "source": [
    "import seaborn as sns  \n",
    "sns.boxplot(x=df[\"flooring_cluster\"], y=df[\"assigned_flooring_score\"])\n"
   ]
  },
  {
   "cell_type": "markdown",
   "id": "85401243-d8cf-4797-8451-a889e3582f08",
   "metadata": {},
   "source": [
    "### observation \n",
    "- Cluster 0 → No flooring (unknown).\n",
    "- Cluster 1 → Low-scoring flooring, many outliers.\n",
    "- Cluster 2 → Mid-range flooring, balanced spread.\n",
    "- Cluster 3 → High-end flooring, wide variance.\n",
    "- Clear separation → K-Means captured flooring patterns well.ll."
   ]
  },
  {
   "cell_type": "markdown",
   "id": "ac77a2d1-5a6d-4fac-b4f2-cc12efb91d89",
   "metadata": {},
   "source": [
    "# assigned_amenities_score"
   ]
  },
  {
   "cell_type": "code",
   "execution_count": null,
   "id": "2f3e5f46-38ea-4246-8fd2-1dfae435ec28",
   "metadata": {},
   "outputs": [],
   "source": [
    "df['assigned_amenities_score'].head()"
   ]
  },
  {
   "cell_type": "code",
   "execution_count": null,
   "id": "1ef9edcf-3e75-4e74-b06e-f54bae50f71a",
   "metadata": {},
   "outputs": [],
   "source": [
    "df['assigned_amenities_score'].value_counts()"
   ]
  },
  {
   "cell_type": "code",
   "execution_count": null,
   "id": "fbcf6985-6fb1-4f99-a081-8ae5f5163168",
   "metadata": {},
   "outputs": [],
   "source": [
    "df['assigned_amenities_score'].isna().sum()"
   ]
  },
  {
   "cell_type": "code",
   "execution_count": null,
   "id": "d18dad1c-f8fa-4a1d-985a-0a66cee36a11",
   "metadata": {},
   "outputs": [],
   "source": [
    "df[df['assigned_amenities_score'] == 0].shape"
   ]
  },
  {
   "cell_type": "code",
   "execution_count": null,
   "id": "9e812645-ec0d-40ce-8397-8d178d1eabf1",
   "metadata": {},
   "outputs": [],
   "source": [
    "df['assigned_amenities_score'].describe()"
   ]
  },
  {
   "cell_type": "markdown",
   "id": "72be50c6-3c76-47cb-a61d-089d6d0998cb",
   "metadata": {},
   "source": [
    "\r\n",
    "### Observations:\r\n",
    "- 5108 missing vaelu\n",
    "- A lower amenities score indicates fewer and less expensive amenities, while a higher score suggests more amenities, potentially at a lower cost.es.\r\n",
    "- The mean (145.91) is higher than the median (113), indicating a right-skewed distribution.\r\n",
    "- High variability with a standard deviation of 100.52.\r\n",
    "- The maximum score is much higher than the 75th percentile, indicating the presence of outliers in the data.\r\n",
    "- Amenities scores range from 5 er cost."
   ]
  },
  {
   "cell_type": "code",
   "execution_count": null,
   "id": "ef02a12a-4e5a-4e83-8f9d-34430439ab5f",
   "metadata": {},
   "outputs": [],
   "source": [
    "sns.histplot(df['assigned_amenities_score'],kde=True,bins=50)"
   ]
  },
  {
   "cell_type": "markdown",
   "id": "1a1ec4dd-d4a3-439d-930c-8d3d0f2690fb",
   "metadata": {},
   "source": [
    "### Observations:\n",
    "- The histogram confirms a right-skewed distribution, with most values concentrated at lower scores.\n",
    "- The highest frequency is observed around 50–100 amenities score.\n",
    "- Sparse values are seen beyond 400, indicating potential outliers.\n",
    "- The Kernel Density Estimate (KDE) aligns with the histogram, further highlighting the skewness and the presence of a long tail."
   ]
  },
  {
   "cell_type": "code",
   "execution_count": null,
   "id": "c478452a-1112-480c-a2ce-9e9c0018df68",
   "metadata": {},
   "outputs": [],
   "source": [
    "sns.boxplot(df['assigned_amenities_score'],color='lightgreen')\n",
    "plt.grid()"
   ]
  },
  {
   "cell_type": "markdown",
   "id": "f552952b-6427-4145-a731-d0d2a4ac7bee",
   "metadata": {},
   "source": [
    "### Observations:\n",
    "- IQR ranges from 70 (25th percentile) to 207 (75th percentile).\n",
    "- The median (113) is closer to the lower quartile, indicating skewness.\n",
    "- Outliers above 400.\n",
    "- Whiskers extend from 5 to just above 400."
   ]
  },
  {
   "cell_type": "code",
   "execution_count": null,
   "id": "5e9806a6-5e25-4352-924b-587b0d0193c6",
   "metadata": {},
   "outputs": [],
   "source": [
    "#skewness and kurtosis\n",
    "skewness = df['assigned_amenities_score'].skew()\n",
    "kurtosis = df['assigned_amenities_score'].kurt()\n",
    "\n",
    "print(f\"skewness : {skewness}\")\n",
    "print(f\"kurtosis : {kurtosis}\")"
   ]
  },
  {
   "cell_type": "markdown",
   "id": "7ebdd01d-ef85-42d4-9013-2f83a50ccf59",
   "metadata": {},
   "source": [
    "### observation \n",
    "- Skewness 1.01, indicating a moderately right-skewed distribution.  \n",
    "- Kurtosis 0.35, suggesting the distribution is light-tailed compared to a normal distribution.  "
   ]
  },
  {
   "cell_type": "code",
   "execution_count": null,
   "id": "4c233c8e-c874-4192-8d3d-25f284605581",
   "metadata": {},
   "outputs": [],
   "source": [
    "# Drop NaN values from the column\n",
    "cleaned_data_assigned_amenities_score = df['assigned_amenities_score'].dropna()\n",
    "\n",
    "# Calculate Q1 and Q3\n",
    "Q1 = np.percentile(cleaned_data_assigned_amenities_score, 25)\n",
    "Q3 = np.percentile(cleaned_data_assigned_amenities_score, 75)\n",
    "\n",
    "# Calculate IQR\n",
    "IQR = Q3 - Q1\n",
    "\n",
    "# Calculate lower and upper whiskers\n",
    "lower_whisker = Q1 - 1.5 * IQR\n",
    "upper_whisker = Q3 + 1.5 * IQR\n",
    "\n",
    "# Print results\n",
    "print(f\"Q1 (25th percentile): {Q1}\")\n",
    "print(f\"Q3 (75th percentile): {Q3}\")\n",
    "print(f\"IQR: {IQR}\")\n",
    "\n",
    "print(\"Lower Whisker:\", lower_whisker)\n",
    "print(\"Upper Whisker:\", upper_whisker)\n"
   ]
  },
  {
   "cell_type": "code",
   "execution_count": null,
   "id": "d5b14e48-b731-40a0-8241-b04c74240580",
   "metadata": {},
   "outputs": [],
   "source": [
    "# Distribution plot with log transformation\n",
    "sns.histplot(np.log1p(df['assigned_amenities_score']), kde=True, bins=50, color='lightgreen')\n",
    "plt.title('Distribution of assigned_amenities_score (Log Transformed)')\n",
    "plt.xlabel('assigned_amenities_score')\n",
    "plt.ylabel('Frequency')\n",
    "\n",
    "plt.tight_layout()\n",
    "plt.show()"
   ]
  },
  {
   "cell_type": "markdown",
   "id": "a5135ce9-cfb5-46ea-a82d-13f850ed3fa8",
   "metadata": {},
   "source": [
    "### observation \n",
    "- The distribution is approximately normal, with a peak (highest frequency) around a score of 5.  \n",
    "- There is a left skew, indicating some lower scores are less frequent.  \n",
    "- The data appears smoothed using a kernel density estimation curve, matching the general shape of the histogram.  "
   ]
  },
  {
   "cell_type": "code",
   "execution_count": null,
   "id": "b90d34f8-cead-4989-a209-61054d34260d",
   "metadata": {},
   "outputs": [],
   "source": [
    "plt.figure(figsize=(15, 6))\n",
    "\n",
    "# Distribution plot without log transformation\n",
    "plt.subplot(1, 2, 1)\n",
    "sns.boxplot(df['assigned_amenities_score'], color='skyblue')\n",
    "plt.title('Distribution of assigned_amenities_score (Original)')\n",
    "plt.xlabel('assigned_amenities_score')\n",
    "plt.ylabel('Frequency')\n",
    "\n",
    "# Distribution plot with log transformation\n",
    "plt.subplot(1, 2, 2)\n",
    "sns.boxplot(np.log1p(df['assigned_amenities_score']), color='lightgreen')\n",
    "plt.title('Distribution of assigned_amenities_score (Log Transformed)')\n",
    "plt.xlabel('Log(assigned_amenities_score)')\n",
    "plt.ylabel('Frequency')\n",
    "\n",
    "plt.tight_layout()\n",
    "plt.show()"
   ]
  },
  {
   "cell_type": "markdown",
   "id": "2532f8b8-f0f8-4013-9c5d-10a1a46be182",
   "metadata": {},
   "source": [
    "### observation\n",
    "\n",
    "- Original Data (Left) The \"assigned_amenities_score\" has a right-skewed distribution with several outliers above the upper whisker.  \n",
    "- Log-Transformed Data (Right) The log transformation reduces skewness, making the distribution more symmetric and minimizing the impact of outliers."
   ]
  },
  {
   "cell_type": "code",
   "execution_count": null,
   "id": "a03cfe19-6ce7-411e-a776-abdd511d8628",
   "metadata": {},
   "outputs": [],
   "source": [
    "skewness = np.log1p(df['assigned_amenities_score']).skew()\n",
    "kurtosis = np.log1p(df['assigned_amenities_score']).kurt()\n",
    "\n",
    "print(f\"skewness : {skewness}\")\n",
    "print(f\"kurtosis : {kurtosis}\")"
   ]
  },
  {
   "cell_type": "markdown",
   "id": "69b306c6-d790-4d87-a6f6-6267dbf6a1c3",
   "metadata": {},
   "source": [
    "### observation\n",
    "- Skewness (-0.403): The log-transformed data is slightly left-skewed but close to symmetric (a perfectly symmetric distribution has a skewness of 0).    \n",
    "- Kurtosis (0.044): The distribution has a kurtosis close to 0, indicating it is similar to a normal distribution in terms of tail behavior and peakedness.  "
   ]
  },
  {
   "cell_type": "markdown",
   "id": "acdfbe36-009e-46dc-9a22-729d470b911e",
   "metadata": {},
   "source": [
    "# education "
   ]
  },
  {
   "cell_type": "code",
   "execution_count": null,
   "id": "691499ca-db76-40f9-86c7-9c4a3262e8ea",
   "metadata": {},
   "outputs": [],
   "source": [
    "df['education'].head(10)"
   ]
  },
  {
   "cell_type": "markdown",
   "id": "8f5448ec-2caa-437d-9686-2a43cab6437c",
   "metadata": {},
   "source": [
    "### observation \n",
    "- Extract the list of distances for each property and then apply log1p (the logarithm of 1 + value) to the distances and then calculate the average"
   ]
  },
  {
   "cell_type": "code",
   "execution_count": null,
   "id": "6ff65b45-fa53-48d2-ae84-63a2d8dd020c",
   "metadata": {},
   "outputs": [],
   "source": [
    "# Function to extract numerical values before 'km'\n",
    "def extract_km_values(row):\n",
    "    if pd.isnull(row):\n",
    "        return None\n",
    "    return [float(val) for val in re.findall(r'(\\d+\\.\\d+)\\s*km', row)]\n",
    "\n",
    "# Function to compute log1p of distances and then take the average\n",
    "def log1p_and_average(distances):\n",
    "    if distances is None or len(distances) == 0:\n",
    "        return None\n",
    "    log1p_distances = [np.log1p(d) for d in distances]\n",
    "    return np.mean(log1p_distances)\n",
    "\n",
    "# Apply the function to extract km values and calculate the log1p and average\n",
    "df['education_extracted_km'] = df['education'].apply(extract_km_values)\n",
    "df['education_log1p_avg_km'] = df['education_extracted_km'].apply(log1p_and_average)"
   ]
  },
  {
   "cell_type": "code",
   "execution_count": null,
   "id": "731f112d-1915-4baa-9d5a-42408f332f47",
   "metadata": {},
   "outputs": [],
   "source": [
    "df['education_extracted_km'].head(20)"
   ]
  },
  {
   "cell_type": "code",
   "execution_count": null,
   "id": "9b3d5cc6-1f5a-4c50-b7d5-f04aada33306",
   "metadata": {},
   "outputs": [],
   "source": [
    "df['education_log1p_avg_km'].head(20) "
   ]
  },
  {
   "cell_type": "code",
   "execution_count": null,
   "id": "d8133d9f-bbcb-4798-adaf-dbea29601e2d",
   "metadata": {},
   "outputs": [],
   "source": [
    "df['education_log1p_avg_km'].isna().sum()"
   ]
  },
  {
   "cell_type": "code",
   "execution_count": null,
   "id": "127667dc-4135-4d58-a140-0291c899969b",
   "metadata": {},
   "outputs": [],
   "source": [
    "df['education_log1p_avg_km'].describe()"
   ]
  },
  {
   "cell_type": "code",
   "execution_count": null,
   "id": "0ae0a12c-965b-466c-b217-18751472b8ac",
   "metadata": {},
   "outputs": [],
   "source": [
    "df[df['education_log1p_avg_km'] <= 0.5].shape"
   ]
  },
  {
   "cell_type": "code",
   "execution_count": null,
   "id": "b3071e11-9bd7-40b5-82c4-e094201db478",
   "metadata": {},
   "outputs": [],
   "source": [
    "df[df['education_log1p_avg_km'] < 1].shape"
   ]
  },
  {
   "cell_type": "markdown",
   "id": "eee697eb-abba-4e14-ada3-46eb50e3c69a",
   "metadata": {},
   "source": [
    "### observation \n",
    "- There are 4,266 missing values.\n",
    "- A value close to 0 indicates that the school or college is near the flat, while a higher value means it is farther away from the flat.\n",
    "- 0.69, showing moderate variability"
   ]
  },
  {
   "cell_type": "code",
   "execution_count": null,
   "id": "d473b9fa-3110-442f-a3c3-d40d8c33dfc2",
   "metadata": {},
   "outputs": [],
   "source": [
    "sns.histplot(df['education_log1p_avg_km'],kde=True,bins=50)"
   ]
  },
  {
   "cell_type": "markdown",
   "id": "35ed31b4-e894-4810-b99d-a91fb567cd49",
   "metadata": {},
   "source": [
    "### observation \n",
    "- histogram confirms a right-skewed distribution, with most values concentrated at lower log1p distances. \n",
    "- The highest frequency is observed around 1.0–1.5 education_log1p_avg_km, indicating that most distances fall within this range\n",
    "- Sparse values are seen beyond 3.0 education_log1p_avg_km, suggesting potential outliers"
   ]
  },
  {
   "cell_type": "code",
   "execution_count": null,
   "id": "8ab86303-e6c4-4b2c-bfb0-dcfa7cf15141",
   "metadata": {},
   "outputs": [],
   "source": [
    "sns.boxplot(df['education_log1p_avg_km'],color='lightgreen')\n",
    "plt.grid()"
   ]
  },
  {
   "cell_type": "markdown",
   "id": "de1dfb2d-0871-4f76-9eef-beba608f74f5",
   "metadata": {},
   "source": [
    "### observation \n",
    "- IQR ranges from 0.95 (25th percentile) to 1.63 (75th percentile).\n",
    "- Outliers are present above 2.6 education_log1p_avg_km."
   ]
  },
  {
   "cell_type": "code",
   "execution_count": null,
   "id": "64d16795-ff75-4332-9d1f-f4b36f3df1fe",
   "metadata": {},
   "outputs": [],
   "source": [
    "#skewness and kurtosis\n",
    "skewness = df['education_log1p_avg_km'].skew()\n",
    "kurtosis = df['education_log1p_avg_km'].kurt()\n",
    "\n",
    "print(f\"skewness : {skewness}\")\n",
    "print(f\"kurtosis : {kurtosis}\")"
   ]
  },
  {
   "cell_type": "markdown",
   "id": "81c14568-eac7-4efa-83f5-91c3ae5127c9",
   "metadata": {},
   "source": [
    "### observation \n",
    "- Skewness: 1.72, indicating a right-skewed distribution.\n",
    "- \n",
    "Kurtosis: 3.47, suggesting thleptokurtic e distribution has heavier tails and is more peaked compared to a normal distribution."
   ]
  },
  {
   "cell_type": "code",
   "execution_count": null,
   "id": "cafcd964-e424-46e4-a37d-2a20482e26cf",
   "metadata": {},
   "outputs": [],
   "source": [
    "# Drop NaN values from the column\n",
    "cleaned_data_education_log1p_avg_km = df['education_log1p_avg_km'].dropna()\n",
    "\n",
    "# Calculate Q1 and Q3\n",
    "Q1 = np.percentile(cleaned_data_education_log1p_avg_km, 25)\n",
    "Q3 = np.percentile(cleaned_data_education_log1p_avg_km, 75)\n",
    "\n",
    "# Calculate IQR\n",
    "IQR = Q3 - Q1\n",
    "\n",
    "# Calculate lower and upper whiskers\n",
    "lower_whisker = Q1 - 1.5 * IQR\n",
    "upper_whisker = Q3 + 1.5 * IQR\n",
    "\n",
    "# Print results\n",
    "print(f\"Q1 (25th percentile): {Q1}\")\n",
    "print(f\"Q3 (75th percentile): {Q3}\")\n",
    "print(f\"IQR: {IQR}\")\n",
    "\n",
    "print(\"Lower Whisker:\", lower_whisker)\n",
    "print(\"Upper Whisker:\", upper_whisker)\n"
   ]
  },
  {
   "cell_type": "markdown",
   "id": "9cffb8d2-2a95-48bb-a7ea-3d44f44e8abf",
   "metadata": {},
   "source": [
    "# transport"
   ]
  },
  {
   "cell_type": "code",
   "execution_count": null,
   "id": "b1c27dd5-8cde-4b99-bfb7-86de448e36ca",
   "metadata": {},
   "outputs": [],
   "source": [
    "df['transport'].head()"
   ]
  },
  {
   "cell_type": "markdown",
   "id": "9d05c52d-0519-44c3-85ee-54bed0627a2e",
   "metadata": {},
   "source": [
    "### observation \n",
    "- Extract the list of distances for each property and then apply log1p (the logarithm of 1 + value) to the distances and then calculate the average"
   ]
  },
  {
   "cell_type": "code",
   "execution_count": null,
   "id": "5af77b44-4fdc-4572-bdd5-a5677670804e",
   "metadata": {},
   "outputs": [],
   "source": [
    "# Function to extract numerical values before 'km'\n",
    "def extract_km_values(row):\n",
    "    if pd.isnull(row):\n",
    "        return None\n",
    "    return [float(val) for val in re.findall(r'(\\d+\\.\\d+)\\s*km', row)]\n",
    "\n",
    "# Function to compute log1p of distances and then take the average\n",
    "def log1p_and_average(distances):\n",
    "    if distances is None or len(distances) == 0:\n",
    "        return None\n",
    "    log1p_distances = [np.log1p(d) for d in distances]\n",
    "    return np.mean(log1p_distances)\n",
    "\n",
    "# Apply the function to extract km values and calculate the log1p and average\n",
    "df['transport_extracted_km'] = df['transport'].apply(extract_km_values)\n",
    "df['transport_log1p_avg_km'] = df['transport_extracted_km'].apply(log1p_and_average)"
   ]
  },
  {
   "cell_type": "code",
   "execution_count": null,
   "id": "4e3db953-702c-417b-9e32-b9be67bddf65",
   "metadata": {},
   "outputs": [],
   "source": [
    "df['transport_extracted_km'].head(20)"
   ]
  },
  {
   "cell_type": "code",
   "execution_count": null,
   "id": "c7549f02-5f67-47b4-82c1-2c563fb5a8de",
   "metadata": {},
   "outputs": [],
   "source": [
    "df['transport_log1p_avg_km'].head(20) "
   ]
  },
  {
   "cell_type": "code",
   "execution_count": null,
   "id": "04e8ce09-d940-4874-836c-ac1de96f1ffe",
   "metadata": {},
   "outputs": [],
   "source": [
    "df['transport_log1p_avg_km'].isna().sum()"
   ]
  },
  {
   "cell_type": "code",
   "execution_count": null,
   "id": "e377f707-1fd1-4182-bda4-53ee9141777f",
   "metadata": {},
   "outputs": [],
   "source": [
    "df['transport_log1p_avg_km'].describe()"
   ]
  },
  {
   "cell_type": "code",
   "execution_count": null,
   "id": "9c8fd4ea-eed6-46e1-9336-1707b2ae4618",
   "metadata": {},
   "outputs": [],
   "source": [
    "df[df['transport_log1p_avg_km'] <= 0.5].shape"
   ]
  },
  {
   "cell_type": "code",
   "execution_count": null,
   "id": "c74a0107-4d99-4352-8ccd-597931f336e5",
   "metadata": {},
   "outputs": [],
   "source": [
    "df[df['transport_log1p_avg_km'] < 1].shape"
   ]
  },
  {
   "cell_type": "markdown",
   "id": "ec1f3ffd-5b68-4828-8673-95b7ddce8e99",
   "metadata": {},
   "source": [
    "### observation \n",
    "- There are 6260 missing values.\n",
    "- A value close to 0 indicates that the transport facility is near the flat, while a higher value means it is farther away from the flat.\n",
    "- 0.67, showing moderate variability"
   ]
  },
  {
   "cell_type": "code",
   "execution_count": null,
   "id": "2f1e7457-fda5-4998-84a7-c2825fe7c12f",
   "metadata": {},
   "outputs": [],
   "source": [
    "sns.histplot(df['transport_log1p_avg_km'],kde=True,bins=50)"
   ]
  },
  {
   "cell_type": "markdown",
   "id": "f51f9048-8655-432e-83fb-013fed89641d",
   "metadata": {},
   "source": [
    "### observation \n",
    "- histogram confirms a right-skewed distribution, with most values concentrated at lower log1p distances. \n",
    "- The highest frequency is observed around 0.8–1.4 transport_log1p_avg_km, indicating that most distances fall within this range\n",
    "- Sparse values are seen beyond 2.5 transport_log1p_avg_km, suggesting potential outliers"
   ]
  },
  {
   "cell_type": "code",
   "execution_count": null,
   "id": "9a82adcd-4686-4449-a55c-2e8aa4df1a49",
   "metadata": {},
   "outputs": [],
   "source": [
    "sns.boxplot(df['transport_log1p_avg_km'],color='lightgreen')\n",
    "plt.grid()"
   ]
  },
  {
   "cell_type": "markdown",
   "id": "421d0b78-bb7c-44f8-89ad-442ee9b6ba44",
   "metadata": {},
   "source": [
    "### observation \n",
    "- IQR ranges from 0.87 (25th percentile) to 1.42 (75th percentile).\n",
    "- Outliers are present above 2.23 transport_log1p_avg_km."
   ]
  },
  {
   "cell_type": "code",
   "execution_count": null,
   "id": "a9a90b40-189a-4e69-8b8f-fd99f42b9150",
   "metadata": {},
   "outputs": [],
   "source": [
    "#skewness and kurtosis\n",
    "skewness = df['transport_log1p_avg_km'].skew()\n",
    "kurtosis = df['transport_log1p_avg_km'].kurt()\n",
    "\n",
    "print(f\"skewness : {skewness}\")\n",
    "print(f\"kurtosis : {kurtosis}\")"
   ]
  },
  {
   "cell_type": "markdown",
   "id": "dda6820b-ff9e-4a6a-865c-6d0b1e523f60",
   "metadata": {},
   "source": [
    "### observation \n",
    "- Skewness: 0.69, data is slightly skewed to the right\n",
    "- Kurtosis: 1.44, data has light tails (fewer extreme values)."
   ]
  },
  {
   "cell_type": "code",
   "execution_count": null,
   "id": "83da38e4-79a8-4a6b-8071-27b302b87e46",
   "metadata": {},
   "outputs": [],
   "source": [
    "# Drop NaN values from the column\n",
    "cleaned_data_transport_log1p_avg_km = df['transport_log1p_avg_km'].dropna()\n",
    "\n",
    "# Calculate Q1 and Q3\n",
    "Q1 = np.percentile(cleaned_data_transport_log1p_avg_km, 25)\n",
    "Q3 = np.percentile(cleaned_data_transport_log1p_avg_km, 75)\n",
    "\n",
    "# Calculate IQR\n",
    "IQR = Q3 - Q1\n",
    "\n",
    "# Calculate lower and upper whiskers\n",
    "lower_whisker = Q1 - 1.5 * IQR\n",
    "upper_whisker = Q3 + 1.5 * IQR\n",
    "\n",
    "# Print results\n",
    "print(f\"Q1 (25th percentile): {Q1}\")\n",
    "print(f\"Q3 (75th percentile): {Q3}\")\n",
    "print(f\"IQR: {IQR}\")\n",
    "\n",
    "print(\"Lower Whisker:\", lower_whisker)\n",
    "print(\"Upper Whisker:\", upper_whisker)"
   ]
  },
  {
   "cell_type": "markdown",
   "id": "2ea5fcab-3868-467c-99ea-a271b2012cb0",
   "metadata": {},
   "source": [
    "# shopping_centre"
   ]
  },
  {
   "cell_type": "code",
   "execution_count": null,
   "id": "57e9b11e-0fe8-471b-bd0f-8e77fc291303",
   "metadata": {},
   "outputs": [],
   "source": [
    "df['shopping_centre'].head()"
   ]
  },
  {
   "cell_type": "markdown",
   "id": "373a510f-7706-4243-bed6-95a2d97843a0",
   "metadata": {},
   "source": [
    "### observation \n",
    "- Extract the list of distances for each property and then apply log1p (the logarithm of 1 + value) to the distances and then calculate the average"
   ]
  },
  {
   "cell_type": "code",
   "execution_count": null,
   "id": "bbae1e07-f59a-47e8-bca4-7fabc4b2a827",
   "metadata": {},
   "outputs": [],
   "source": [
    "# Function to extract numerical values before 'km'\n",
    "def extract_km_values(row):\n",
    "    if pd.isnull(row):\n",
    "        return None\n",
    "    return [float(val) for val in re.findall(r'(\\d+\\.\\d+)\\s*km', row)]\n",
    "\n",
    "# Function to compute log1p of distances and then take the average\n",
    "def log1p_and_average(distances):\n",
    "    if distances is None or len(distances) == 0:\n",
    "        return None\n",
    "    log1p_distances = [np.log1p(d) for d in distances]\n",
    "    return np.mean(log1p_distances)\n",
    "\n",
    "# Apply the function to extract km values and calculate the log1p and average\n",
    "df['shopping_centre_extracted_km'] = df['shopping_centre'].apply(extract_km_values)\n",
    "df['shopping_centre_log1p_avg_km'] = df['shopping_centre_extracted_km'].apply(log1p_and_average)"
   ]
  },
  {
   "cell_type": "code",
   "execution_count": null,
   "id": "2ca072d4-0b50-4654-afc5-b1c4ebad59c8",
   "metadata": {},
   "outputs": [],
   "source": [
    "df['shopping_centre_extracted_km'].head(20)"
   ]
  },
  {
   "cell_type": "code",
   "execution_count": null,
   "id": "217ed272-83d9-4cb8-99ec-a644a02cd4a4",
   "metadata": {},
   "outputs": [],
   "source": [
    "df['shopping_centre_log1p_avg_km'].head(20) "
   ]
  },
  {
   "cell_type": "code",
   "execution_count": null,
   "id": "e26a07a8-d6e3-4977-8a08-5779c7494f12",
   "metadata": {},
   "outputs": [],
   "source": [
    "df['shopping_centre_log1p_avg_km'].isna().sum()"
   ]
  },
  {
   "cell_type": "code",
   "execution_count": null,
   "id": "1c909c91-d3d3-4e86-a8e7-2dd0a1dd8757",
   "metadata": {},
   "outputs": [],
   "source": [
    "df['shopping_centre_log1p_avg_km'].describe()"
   ]
  },
  {
   "cell_type": "code",
   "execution_count": null,
   "id": "7405ad36-d028-4ada-bd02-51b4b0666e2d",
   "metadata": {},
   "outputs": [],
   "source": [
    "df[df['shopping_centre_log1p_avg_km'] <= 0.5].shape"
   ]
  },
  {
   "cell_type": "code",
   "execution_count": null,
   "id": "ca493ecc-5623-44e8-acc1-4c25ac1ff933",
   "metadata": {},
   "outputs": [],
   "source": [
    "df[df['shopping_centre_log1p_avg_km'] < 1].shape"
   ]
  },
  {
   "cell_type": "markdown",
   "id": "797c2692-8e08-489f-9fd0-93409e288ac2",
   "metadata": {},
   "source": [
    "### observation \n",
    "- There are 3887 missing values.\n",
    "- A value close to 0 indicates that the shopping centre is near the flat, while a higher value means it is farther away from the flat.\n",
    "- 0.52, showing moderate variability"
   ]
  },
  {
   "cell_type": "code",
   "execution_count": null,
   "id": "79f31604-a105-4281-800e-cd825b8f7c86",
   "metadata": {},
   "outputs": [],
   "source": [
    "sns.histplot(df['shopping_centre_log1p_avg_km'],kde=True,bins=50)"
   ]
  },
  {
   "cell_type": "markdown",
   "id": "99bd8dda-9c6d-48aa-9044-c327fba2255d",
   "metadata": {},
   "source": [
    "### observation \n",
    "- histogram confirms a right-skewed distribution, with most values concentrated at lower log1p distances. \n",
    "- The highest frequency is observed around 0.8–1.55 shopping_centre_log1p_avg_km, indicating that most distances fall within this range\n",
    "- Sparse values are seen beyond 2.7 shopping_centre_log1p_avg_km, suggesting potential outliers"
   ]
  },
  {
   "cell_type": "code",
   "execution_count": null,
   "id": "e23e6b48-0d1c-44b6-b594-a57298d73e30",
   "metadata": {},
   "outputs": [],
   "source": [
    "sns.boxplot(df['shopping_centre_log1p_avg_km'],color='lightgreen')\n",
    "plt.grid()"
   ]
  },
  {
   "cell_type": "markdown",
   "id": "f86ed64c-d00b-4875-8016-0ea9defd091d",
   "metadata": {},
   "source": [
    "### observation \n",
    "- IQR ranges from 0.8 (25th percentile) to 1.55 (75th percentile).\n",
    "- The median (0.97) is closer to the lower quartile, indicating right skewness.\n",
    "- Outliers are present above 2.7 shopping_centre_log1p_avg_km."
   ]
  },
  {
   "cell_type": "code",
   "execution_count": null,
   "id": "82eff791-5dd0-4d22-94ed-d97ec933dbb5",
   "metadata": {},
   "outputs": [],
   "source": [
    "#skewness and kurtosis\n",
    "skewness = df['shopping_centre_log1p_avg_km'].skew()\n",
    "kurtosis = df['shopping_centre_log1p_avg_km'].kurt()\n",
    "\n",
    "print(f\"skewness : {skewness}\")\n",
    "print(f\"kurtosis : {kurtosis}\")"
   ]
  },
  {
   "cell_type": "markdown",
   "id": "fbf569f0-5fd0-42cc-84c3-b8919b00db77",
   "metadata": {},
   "source": [
    "### observation \n",
    "- Skewness: 0.77, indicating a moderate right-skewed distribution.\n",
    "- Kurtosis: 0.96, suggests that the distribution is slightly more peaked and has heavier tails compared to a normal distribution."
   ]
  },
  {
   "cell_type": "code",
   "execution_count": null,
   "id": "9c031971-0058-4685-add9-7c5c51a6cdda",
   "metadata": {},
   "outputs": [],
   "source": [
    "# Drop NaN values from the column\n",
    "cleaned_data_shopping_centre_log1p_avg_km = df['shopping_centre_log1p_avg_km'].dropna()\n",
    "\n",
    "# Calculate Q1 and Q3\n",
    "Q1 = np.percentile(cleaned_data_shopping_centre_log1p_avg_km, 25)\n",
    "Q3 = np.percentile(cleaned_data_shopping_centre_log1p_avg_km, 75)\n",
    "\n",
    "# Calculate IQR\n",
    "IQR = Q3 - Q1\n",
    "\n",
    "# Calculate lower and upper whiskers\n",
    "lower_whisker = Q1 - 1.5 * IQR\n",
    "upper_whisker = Q3 + 1.5 * IQR\n",
    "\n",
    "# Print results\n",
    "print(f\"Q1 (25th percentile): {Q1}\")\n",
    "print(f\"Q3 (75th percentile): {Q3}\")\n",
    "print(f\"IQR: {IQR}\")\n",
    "\n",
    "print(\"Lower Whisker:\", lower_whisker)\n",
    "print(\"Upper Whisker:\", upper_whisker)\n"
   ]
  },
  {
   "cell_type": "markdown",
   "id": "7c3c4d39-b7e4-481b-9578-90f94952cb66",
   "metadata": {},
   "source": [
    "# commercial_hub"
   ]
  },
  {
   "cell_type": "code",
   "execution_count": null,
   "id": "76724221-f041-4aa6-9f63-9dcc71d991cd",
   "metadata": {},
   "outputs": [],
   "source": [
    "df['commercial_hub'].head(10)"
   ]
  },
  {
   "cell_type": "markdown",
   "id": "91a9d3bc-c1f6-48cc-95db-585556b0d081",
   "metadata": {},
   "source": [
    "### observation \n",
    "- Extract the list of distances for each property and then apply log1p (the logarithm of 1 + value) to the distances and then calculate the average"
   ]
  },
  {
   "cell_type": "code",
   "execution_count": null,
   "id": "92a8e602-5391-45c7-b80d-4e78abbca94a",
   "metadata": {},
   "outputs": [],
   "source": [
    "# Function to extract numerical values before 'km'\n",
    "def extract_km_values(row):\n",
    "    if pd.isnull(row):\n",
    "        return None\n",
    "    return [float(val) for val in re.findall(r'(\\d+\\.\\d+)\\s*km', row)]\n",
    "\n",
    "# Function to compute log1p of distances and then take the average\n",
    "def log1p_and_average(distances):\n",
    "    if distances is None or len(distances) == 0:\n",
    "        return None\n",
    "    log1p_distances = [np.log1p(d) for d in distances]\n",
    "    return np.mean(log1p_distances)\n",
    "\n",
    "# Apply the function to extract km values and calculate the log1p and average\n",
    "df['commercial_hub_extracted_km'] = df['commercial_hub'].apply(extract_km_values)\n",
    "df['commercial_hub_log1p_avg_km'] = df['commercial_hub_extracted_km'].apply(log1p_and_average)"
   ]
  },
  {
   "cell_type": "code",
   "execution_count": null,
   "id": "ae06f7a9-c2f5-4788-8b2b-28239fe32de6",
   "metadata": {},
   "outputs": [],
   "source": [
    "df['commercial_hub_extracted_km'].head(20)"
   ]
  },
  {
   "cell_type": "code",
   "execution_count": null,
   "id": "7d006b72-1930-4ea8-8ad6-b69ab72800f8",
   "metadata": {},
   "outputs": [],
   "source": [
    "df['commercial_hub_log1p_avg_km'].head(20) "
   ]
  },
  {
   "cell_type": "code",
   "execution_count": null,
   "id": "aab73a2f-e287-4c0b-a3e1-db35e7892c55",
   "metadata": {},
   "outputs": [],
   "source": [
    "df['commercial_hub_log1p_avg_km'].isna().sum()"
   ]
  },
  {
   "cell_type": "code",
   "execution_count": null,
   "id": "e0de1d55-2827-48d8-9eb6-7aa1f18cf07d",
   "metadata": {},
   "outputs": [],
   "source": [
    "df['commercial_hub_log1p_avg_km'].describe()"
   ]
  },
  {
   "cell_type": "code",
   "execution_count": null,
   "id": "804093a0-3a94-446e-862a-35743ab52000",
   "metadata": {},
   "outputs": [],
   "source": [
    "df[df['commercial_hub_log1p_avg_km'] <= 0.5].shape"
   ]
  },
  {
   "cell_type": "code",
   "execution_count": null,
   "id": "6302bc9c-758c-47fa-81d9-66538826fdfd",
   "metadata": {},
   "outputs": [],
   "source": [
    "df[df['commercial_hub_log1p_avg_km'] < 1].shape"
   ]
  },
  {
   "cell_type": "markdown",
   "id": "f1e1cd15-1e1b-4420-8764-3a85d42b67c6",
   "metadata": {},
   "source": [
    "### observation \n",
    "- There are 5149 missing values.\n",
    "- A value close to 0 indicates that the commercial_hub is near the flat, while a higher value means it is farther away from the flat.\n",
    "- 0.72, showing moderate variability"
   ]
  },
  {
   "cell_type": "code",
   "execution_count": null,
   "id": "03055dbf-8189-4dac-8a20-4d9ea5bb91a3",
   "metadata": {},
   "outputs": [],
   "source": [
    "sns.histplot(df['commercial_hub_log1p_avg_km'],kde=True,bins=50)"
   ]
  },
  {
   "cell_type": "markdown",
   "id": "1ded4663-f318-4177-858e-ce57d21db4f2",
   "metadata": {},
   "source": [
    "### observation \n",
    "- histogram confirms a right-skewed distribution, with most values concentrated at lower log1p distances. \n",
    "- The highest frequency is observed around 1.13–2.0 commercial_hub_log1p_avg_km, indicating that most distances fall within this range\n",
    "- Sparse values are seen beyond 3.4 commercial_hub_log1p_avg_km, suggesting potential outliers"
   ]
  },
  {
   "cell_type": "code",
   "execution_count": null,
   "id": "a701dcef-49a5-4f22-bc33-6f1543a01b2b",
   "metadata": {},
   "outputs": [],
   "source": [
    "sns.boxplot(df['commercial_hub_log1p_avg_km'],color='lightgreen')\n",
    "plt.grid()"
   ]
  },
  {
   "cell_type": "markdown",
   "id": "b0c7be2c-68c8-48f1-8c7c-972b7a503a7f",
   "metadata": {},
   "source": [
    "### observation \n",
    "- IQR ranges from 1.13 (25th percentile) to 2.0 (75th percentile).\n",
    "- Outliers are present above 3.4 commercial_hub_log1p_avg_km."
   ]
  },
  {
   "cell_type": "code",
   "execution_count": null,
   "id": "3cbe9ee9-d3fc-467c-8dc1-dc9ea37541c9",
   "metadata": {},
   "outputs": [],
   "source": [
    "#skewness and kurtosis\n",
    "skewness = df['commercial_hub_log1p_avg_km'].skew()\n",
    "kurtosis = df['commercial_hub_log1p_avg_km'].kurt()\n",
    "\n",
    "print(f\"skewness : {skewness}\")\n",
    "print(f\"kurtosis : {kurtosis}\")"
   ]
  },
  {
   "cell_type": "markdown",
   "id": "7fa11c3f-faa2-4573-812e-016b70d21b13",
   "metadata": {},
   "source": [
    "### observation \n",
    "- Skewness: 0.50, indicating a moderate right-skewed distribution.\n",
    "- Kurtosis: 0.23, suggests that the distribution is slightly more peaked and has slightly heavier tails compared to a normal distribution."
   ]
  },
  {
   "cell_type": "code",
   "execution_count": null,
   "id": "845e98ec-4cde-4c64-8044-dbf6f60839c7",
   "metadata": {},
   "outputs": [],
   "source": [
    "# Drop NaN values from the column\n",
    "cleaned_data_commercial_hub_log1p_avg_km = df['commercial_hub_log1p_avg_km'].dropna()\n",
    "\n",
    "# Calculate Q1 and Q3\n",
    "Q1 = np.percentile(cleaned_data_commercial_hub_log1p_avg_km, 25)\n",
    "Q3 = np.percentile(cleaned_data_commercial_hub_log1p_avg_km, 75)\n",
    "\n",
    "# Calculate IQR\n",
    "IQR = Q3 - Q1\n",
    "\n",
    "# Calculate lower and upper whiskers\n",
    "lower_whisker = Q1 - 1.5 * IQR\n",
    "upper_whisker = Q3 + 1.5 * IQR\n",
    "\n",
    "# Print results\n",
    "print(f\"Q1 (25th percentile): {Q1}\")\n",
    "print(f\"Q3 (75th percentile): {Q3}\")\n",
    "print(f\"IQR: {IQR}\")\n",
    "\n",
    "print(\"Lower Whisker:\", lower_whisker)\n",
    "print(\"Upper Whisker:\", upper_whisker)\n"
   ]
  },
  {
   "cell_type": "markdown",
   "id": "5a75c986-2059-4778-8863-72b4ff9db1e0",
   "metadata": {},
   "source": [
    "# hospital"
   ]
  },
  {
   "cell_type": "code",
   "execution_count": null,
   "id": "cd16e906-c51e-45f1-a9fc-e5d8b1b60a32",
   "metadata": {},
   "outputs": [],
   "source": [
    "df['hospital'].head(10)"
   ]
  },
  {
   "cell_type": "markdown",
   "id": "a0a7a1d7-37a6-4a0c-b136-497c4190e8c6",
   "metadata": {},
   "source": [
    "### observation \n",
    "- Extract the list of distances for each property and then apply log1p (the logarithm of 1 + value) to the distances and then calculate the average"
   ]
  },
  {
   "cell_type": "code",
   "execution_count": null,
   "id": "b500b669-b7bf-4df8-a925-1075b545df09",
   "metadata": {},
   "outputs": [],
   "source": [
    "# Function to extract numerical values before 'km'\n",
    "def extract_km_values(row):\n",
    "    if pd.isnull(row):\n",
    "        return None\n",
    "    return [float(val) for val in re.findall(r'(\\d+\\.\\d+)\\s*km', row)]\n",
    "\n",
    "# Function to compute log1p of distances and then take the average\n",
    "def log1p_and_average(distances):\n",
    "    if distances is None or len(distances) == 0:\n",
    "        return None\n",
    "    log1p_distances = [np.log1p(d) for d in distances]\n",
    "    return np.mean(log1p_distances)\n",
    "\n",
    "# Apply the function to extract km values and calculate the log1p and average\n",
    "df['hospital_extracted_km'] = df['hospital'].apply(extract_km_values)\n",
    "df['hospital_log1p_avg_km'] = df['hospital_extracted_km'].apply(log1p_and_average)"
   ]
  },
  {
   "cell_type": "code",
   "execution_count": null,
   "id": "40a66f1c-f069-49a1-8363-bc24d7011652",
   "metadata": {},
   "outputs": [],
   "source": [
    "df['hospital_extracted_km'].head(20)"
   ]
  },
  {
   "cell_type": "code",
   "execution_count": null,
   "id": "ae8b7d65-0082-43bb-8bf8-3879de1962b0",
   "metadata": {},
   "outputs": [],
   "source": [
    "df['hospital_log1p_avg_km'].head(20) "
   ]
  },
  {
   "cell_type": "code",
   "execution_count": null,
   "id": "b55120bf-dc67-405c-ab8e-e4f7a971d3ef",
   "metadata": {},
   "outputs": [],
   "source": [
    "df['hospital_log1p_avg_km'].isna().sum()"
   ]
  },
  {
   "cell_type": "code",
   "execution_count": null,
   "id": "ec02dce4-5c22-4547-9407-2e725c5fbb59",
   "metadata": {},
   "outputs": [],
   "source": [
    "df['hospital_log1p_avg_km'].describe()"
   ]
  },
  {
   "cell_type": "code",
   "execution_count": null,
   "id": "9b33bead-543c-4927-9c91-bba0433491a6",
   "metadata": {},
   "outputs": [],
   "source": [
    "df[df['hospital_log1p_avg_km'] <= 0.5].shape"
   ]
  },
  {
   "cell_type": "code",
   "execution_count": null,
   "id": "1b7a905d-8193-4309-a202-42bad1af5c18",
   "metadata": {},
   "outputs": [],
   "source": [
    "df[df['hospital_log1p_avg_km'] < 1].shape"
   ]
  },
  {
   "cell_type": "markdown",
   "id": "c6843fc6-4e44-4234-8274-633996e80ff2",
   "metadata": {},
   "source": [
    "### observation \n",
    "- There are 8708 missing values.\n",
    "- A value close to 0 indicates that the hospital is near the flat, while a higher value means it is farther away from the flat.\n",
    "- 0.25, showing moderate variability"
   ]
  },
  {
   "cell_type": "code",
   "execution_count": null,
   "id": "5f21d823-4f9c-43e1-b933-6d68f3bb7a20",
   "metadata": {},
   "outputs": [],
   "source": [
    "sns.histplot(df['hospital_log1p_avg_km'],kde=True,bins=50)"
   ]
  },
  {
   "cell_type": "markdown",
   "id": "62d41f72-9058-4fba-8f04-7df5d36eda30",
   "metadata": {},
   "source": [
    "### observation \n",
    "- histogram confirms a right-skewed distribution, with most values concentrated at lower log1p distances. \n",
    "- The highest frequency is observed around 0.53–0.83 hospital_log1p_avg_km, indicating that most distances fall within this range\n",
    "- fewer observations as the values increase beyond 0.8."
   ]
  },
  {
   "cell_type": "code",
   "execution_count": null,
   "id": "98ec5aaa-e7a7-4c69-9929-8195aec50197",
   "metadata": {},
   "outputs": [],
   "source": [
    "sns.boxplot(df['hospital_log1p_avg_km'],color='lightgreen')\n",
    "plt.grid()"
   ]
  },
  {
   "cell_type": "markdown",
   "id": "f4bfb8b4-1927-41a0-820a-238eebf6702c",
   "metadata": {},
   "source": [
    "### observation \n",
    "- IQR ranges from 0.53 (25th percentile) to 0.83 (75th percentile).\n",
    "- Outliers are present above 1.28 hospital_log1p_avg_km."
   ]
  },
  {
   "cell_type": "code",
   "execution_count": null,
   "id": "42f9d491-a263-4e49-9bc4-3e8863d4b349",
   "metadata": {},
   "outputs": [],
   "source": [
    "#skewness and kurtosis\n",
    "skewness = df['hospital_log1p_avg_km'].skew()\n",
    "kurtosis = df['hospital_log1p_avg_km'].kurt()\n",
    "\n",
    "print(f\"skewness : {skewness}\")\n",
    "print(f\"kurtosis : {kurtosis}\")"
   ]
  },
  {
   "cell_type": "markdown",
   "id": "88c3ccd3-ad79-421f-997d-618d72307cf5",
   "metadata": {},
   "source": [
    "### observation\n",
    "- Skewness(-0.075): The data is slightly negatively skewed (close to symmetric).  \n",
    "- Kurtosis(0.011): The data has nearly zero excess kurtosis, indicating a shape close to a normal distribution."
   ]
  },
  {
   "cell_type": "code",
   "execution_count": null,
   "id": "28c957f7-ecbf-4842-902a-9b82b915a4bb",
   "metadata": {},
   "outputs": [],
   "source": [
    "# Drop NaN values from the column\n",
    "cleaned_data_hospital_log1p_avg_km = df['hospital_log1p_avg_km'].dropna()\n",
    "\n",
    "# Calculate Q1 and Q3\n",
    "Q1 = np.percentile(cleaned_data_hospital_log1p_avg_km, 25)\n",
    "Q3 = np.percentile(cleaned_data_hospital_log1p_avg_km, 75)\n",
    "\n",
    "# Calculate IQR\n",
    "IQR = Q3 - Q1\n",
    "\n",
    "# Calculate lower and upper whiskers\n",
    "lower_whisker = Q1 - 1.5 * IQR\n",
    "upper_whisker = Q3 + 1.5 * IQR\n",
    "\n",
    "# Print results\n",
    "print(f\"Q1 (25th percentile): {Q1}\")\n",
    "print(f\"Q3 (75th percentile): {Q3}\")\n",
    "print(f\"IQR: {IQR}\")\n",
    "\n",
    "print(\"Lower Whisker:\", lower_whisker)\n",
    "print(\"Upper Whisker:\", upper_whisker)\n"
   ]
  },
  {
   "cell_type": "markdown",
   "id": "936d3963-ada3-43d4-9332-535380836f42",
   "metadata": {},
   "source": [
    "# tourist"
   ]
  },
  {
   "cell_type": "code",
   "execution_count": null,
   "id": "56a4b820-2b46-42f8-8034-3b082c292ae8",
   "metadata": {},
   "outputs": [],
   "source": [
    "df['tourist'].head()"
   ]
  },
  {
   "cell_type": "markdown",
   "id": "926b2cd4-e3f3-4838-a370-d1928a0b5291",
   "metadata": {},
   "source": [
    "### observation \n",
    "- Extract the list of distances for each property and then apply log1p (the logarithm of 1 + value) to the distances and then calculate the average"
   ]
  },
  {
   "cell_type": "code",
   "execution_count": null,
   "id": "0f2f3165-be63-4cde-88cf-745c6b7452cf",
   "metadata": {},
   "outputs": [],
   "source": [
    "# Function to extract numerical values before 'km'\n",
    "def extract_km_values(row):\n",
    "    if pd.isnull(row):\n",
    "        return None\n",
    "    return [float(val) for val in re.findall(r'(\\d+\\.\\d+)\\s*km', row)]\n",
    "\n",
    "# Function to compute log1p of distances and then take the average\n",
    "def log1p_and_average(distances):\n",
    "    if distances is None or len(distances) == 0:\n",
    "        return None\n",
    "    log1p_distances = [np.log1p(d) for d in distances]\n",
    "    return np.mean(log1p_distances)\n",
    "\n",
    "# Apply the function to extract km values and calculate the log1p and average\n",
    "df['tourist_extracted_km'] = df['tourist'].apply(extract_km_values)\n",
    "df['tourist_log1p_avg_km'] = df['tourist_extracted_km'].apply(log1p_and_average)"
   ]
  },
  {
   "cell_type": "code",
   "execution_count": null,
   "id": "7eafb631-954a-479b-83cd-aa265618cf29",
   "metadata": {},
   "outputs": [],
   "source": [
    "df['tourist_extracted_km'].head(20)"
   ]
  },
  {
   "cell_type": "code",
   "execution_count": null,
   "id": "256a446a-fb12-40b6-b479-15f96d0c0f1b",
   "metadata": {},
   "outputs": [],
   "source": [
    "df['tourist_log1p_avg_km'].head(20) "
   ]
  },
  {
   "cell_type": "code",
   "execution_count": null,
   "id": "60177172-6f53-4fc9-a92a-81292f118598",
   "metadata": {},
   "outputs": [],
   "source": [
    "df['tourist_log1p_avg_km'].isna().sum()"
   ]
  },
  {
   "cell_type": "code",
   "execution_count": null,
   "id": "190fad18-150e-4b3b-8383-01426b4d43c0",
   "metadata": {},
   "outputs": [],
   "source": [
    "df['tourist_log1p_avg_km'].describe()"
   ]
  },
  {
   "cell_type": "code",
   "execution_count": null,
   "id": "87c7b6f3-a557-4d9c-8a73-e16ea88782ce",
   "metadata": {},
   "outputs": [],
   "source": [
    "df[df['tourist_log1p_avg_km'] <= 0.5].shape"
   ]
  },
  {
   "cell_type": "code",
   "execution_count": null,
   "id": "ddceb453-74b3-4848-a9ec-7c2d75dd07f2",
   "metadata": {},
   "outputs": [],
   "source": [
    "df[df['tourist_log1p_avg_km'] < 1].shape"
   ]
  },
  {
   "cell_type": "markdown",
   "id": "f17f27ea-ad96-4fb3-88b5-2b7739753feb",
   "metadata": {},
   "source": [
    "### observation \n",
    "- There are 10396 missing values.\n",
    "- A value close to 0 indicates that the tourist place is near the flat, while a higher value means it is farther away from the flat.\n",
    "- 0.14, showing moderate variability"
   ]
  },
  {
   "cell_type": "code",
   "execution_count": null,
   "id": "41d104dc-e185-4e26-a4c4-5c2a254ac2ff",
   "metadata": {},
   "outputs": [],
   "source": [
    "sns.histplot(df['tourist_log1p_avg_km'],kde=True,bins=50)"
   ]
  },
  {
   "cell_type": "markdown",
   "id": "d9cac56a-54f9-4c6f-aaf8-53eeeef884d7",
   "metadata": {},
   "source": [
    "### observation \n",
    "- histogram confirms a left-skewed distribution, with most values concentrated at higher log1p distances. \n",
    "- The highest frequency is observed around 0.6–0.7 tourist_log1p_avg_km, indicating that most distances fall within this range"
   ]
  },
  {
   "cell_type": "code",
   "execution_count": null,
   "id": "0965a076-c401-40c8-aafa-9d4c016ca973",
   "metadata": {},
   "outputs": [],
   "source": [
    "sns.boxplot(df['tourist_log1p_avg_km'],color='lightgreen')\n",
    "plt.grid()"
   ]
  },
  {
   "cell_type": "markdown",
   "id": "7ba6b818-a581-4457-ad50-eb042b89bc69",
   "metadata": {},
   "source": [
    "### observation \n",
    "- IQR ranges from 0.64 (25th percentile) to 0.73 (75th percentile).\n",
    "- The median (0.72) is closer to the upper quartile, indicating left skewness.\n",
    "- Outliers are present below 0.50 tourist_log1p_avg_km and above 0.86."
   ]
  },
  {
   "cell_type": "code",
   "execution_count": null,
   "id": "f7151e7f-1b56-448f-9e99-f759e835ac67",
   "metadata": {},
   "outputs": [],
   "source": [
    "#skewness and kurtosis\n",
    "skewness = df['tourist_log1p_avg_km'].skew()\n",
    "kurtosis = df['tourist_log1p_avg_km'].kurt()\n",
    "\n",
    "print(f\"skewness : {skewness}\")\n",
    "print(f\"kurtosis : {kurtosis}\")"
   ]
  },
  {
   "cell_type": "markdown",
   "id": "6acca704-ca4e-4b58-bfb0-5e7d6af842fc",
   "metadata": {},
   "source": [
    "### observation \n",
    "\n",
    "- Skewness (-0.577): The data is moderately negatively skewed.  \n",
    "- Kurtosis(1.121) : The data has positive kurtosis, indicating a slightly heavier-tailed distribution compared to a normal distribution."
   ]
  },
  {
   "cell_type": "code",
   "execution_count": null,
   "id": "de89b257-07ec-4d4d-ba8b-1d9cad944082",
   "metadata": {},
   "outputs": [],
   "source": [
    "# Drop NaN values from the column\n",
    "cleaned_data_tourist_log1p_avg_km = df['tourist_log1p_avg_km'].dropna()\n",
    "\n",
    "# Calculate Q1 and Q3\n",
    "Q1 = np.percentile(cleaned_data_tourist_log1p_avg_km, 25)\n",
    "Q3 = np.percentile(cleaned_data_tourist_log1p_avg_km, 75)\n",
    "\n",
    "# Calculate IQR\n",
    "IQR = Q3 - Q1\n",
    "\n",
    "# Calculate lower and upper whiskers\n",
    "lower_whisker = Q1 - 1.5 * IQR\n",
    "upper_whisker = Q3 + 1.5 * IQR\n",
    "\n",
    "# Print results\n",
    "print(f\"Q1 (25th percentile): {Q1}\")\n",
    "print(f\"Q3 (75th percentile): {Q3}\")\n",
    "print(f\"IQR: {IQR}\")\n",
    "\n",
    "print(\"Lower Whisker:\", lower_whisker)\n",
    "print(\"Upper Whisker:\", upper_whisker)"
   ]
  },
  {
   "cell_type": "code",
   "execution_count": null,
   "id": "37c0758e-4266-4ebb-b50f-2d2d47f46ff7",
   "metadata": {},
   "outputs": [],
   "source": [
    "df = df.drop(['education','education_extracted_km', 'transport','transport_extracted_km', 'shopping_centre','shopping_centre_extracted_km', 'commercial_hub','commercial_hub_extracted_km', 'hospital','hospital_extracted_km', 'tourist','tourist_extracted_km'],axis=1)"
   ]
  },
  {
   "cell_type": "code",
   "execution_count": null,
   "id": "2d438acd-a9b3-48cc-bca5-c6adf9caf196",
   "metadata": {},
   "outputs": [],
   "source": [
    "#df.to_csv('mg_eda_univariate_analysis_dataset.csv',index=False)"
   ]
  },
  {
   "cell_type": "code",
   "execution_count": null,
   "id": "f5b1b830-a382-429d-8740-341aaa8767c5",
   "metadata": {},
   "outputs": [],
   "source": [
    "df.to_excel('univariate_analysis_dataset.xlsx',index=False)"
   ]
  },
  {
   "cell_type": "code",
   "execution_count": null,
   "id": "a085c0fd-6683-46fc-8c49-a7d62de1ca3b",
   "metadata": {},
   "outputs": [],
   "source": []
  }
 ],
 "metadata": {
  "kernelspec": {
   "display_name": "Python 3 (ipykernel)",
   "language": "python",
   "name": "python3"
  },
  "language_info": {
   "codemirror_mode": {
    "name": "ipython",
    "version": 3
   },
   "file_extension": ".py",
   "mimetype": "text/x-python",
   "name": "python",
   "nbconvert_exporter": "python",
   "pygments_lexer": "ipython3",
   "version": "3.12.4"
  }
 },
 "nbformat": 4,
 "nbformat_minor": 5
}
